{
 "cells": [
  {
   "cell_type": "code",
   "execution_count": 1,
   "metadata": {},
   "outputs": [],
   "source": [
    "%reload_ext autoreload\n",
    "%autoreload 2\n",
    "%matplotlib inline"
   ]
  },
  {
   "cell_type": "code",
   "execution_count": 2,
   "metadata": {},
   "outputs": [],
   "source": [
    "from fastai.text import *\n",
    "from pathlib import Path\n",
    "import pandas as pd"
   ]
  },
  {
   "cell_type": "code",
   "execution_count": 3,
   "metadata": {},
   "outputs": [],
   "source": [
    "path = Path('/home/ubuntu/data/autopsy/milestone/suicide_homicide_accident/no_preprocessing')"
   ]
  },
  {
   "cell_type": "code",
   "execution_count": 4,
   "metadata": {},
   "outputs": [
    {
     "data": {
      "text/html": [
       "<div>\n",
       "<style scoped>\n",
       "    .dataframe tbody tr th:only-of-type {\n",
       "        vertical-align: middle;\n",
       "    }\n",
       "\n",
       "    .dataframe tbody tr th {\n",
       "        vertical-align: top;\n",
       "    }\n",
       "\n",
       "    .dataframe thead th {\n",
       "        text-align: right;\n",
       "    }\n",
       "</style>\n",
       "<table border=\"1\" class=\"dataframe\">\n",
       "  <thead>\n",
       "    <tr style=\"text-align: right;\">\n",
       "      <th></th>\n",
       "      <th>label</th>\n",
       "      <th>text</th>\n",
       "      <th>is_valid</th>\n",
       "    </tr>\n",
       "  </thead>\n",
       "  <tbody>\n",
       "    <tr>\n",
       "      <th>0</th>\n",
       "      <td>Accident</td>\n",
       "      <td>\\n.MICRO.\\nNONE\\n.LOCATIONExtremities\\n.INJURY...</td>\n",
       "      <td>False</td>\n",
       "    </tr>\n",
       "    <tr>\n",
       "      <th>1</th>\n",
       "      <td>Accident</td>\n",
       "      <td>\\n.MICRO.\\nHeart - no significant histopatholo...</td>\n",
       "      <td>False</td>\n",
       "    </tr>\n",
       "    <tr>\n",
       "      <th>2</th>\n",
       "      <td>Suicide</td>\n",
       "      <td>\\n.MICRO.\\nNONE\\n.LOCATIONNeck\\n.INJURYHanging...</td>\n",
       "      <td>False</td>\n",
       "    </tr>\n",
       "    <tr>\n",
       "      <th>3</th>\n",
       "      <td>Homicide</td>\n",
       "      <td>\\n.MICRO.\\nHEART: The sections of heart demons...</td>\n",
       "      <td>False</td>\n",
       "    </tr>\n",
       "    <tr>\n",
       "      <th>4</th>\n",
       "      <td>Homicide</td>\n",
       "      <td>\\n.MICRO.\\nHeart: No diagnostic abnormality.  ...</td>\n",
       "      <td>False</td>\n",
       "    </tr>\n",
       "  </tbody>\n",
       "</table>\n",
       "</div>"
      ],
      "text/plain": [
       "      label                                               text  is_valid\n",
       "0  Accident  \\n.MICRO.\\nNONE\\n.LOCATIONExtremities\\n.INJURY...     False\n",
       "1  Accident  \\n.MICRO.\\nHeart - no significant histopatholo...     False\n",
       "2   Suicide  \\n.MICRO.\\nNONE\\n.LOCATIONNeck\\n.INJURYHanging...     False\n",
       "3  Homicide  \\n.MICRO.\\nHEART: The sections of heart demons...     False\n",
       "4  Homicide  \\n.MICRO.\\nHeart: No diagnostic abnormality.  ...     False"
      ]
     },
     "execution_count": 4,
     "metadata": {},
     "output_type": "execute_result"
    }
   ],
   "source": [
    "df = pd.read_csv(path/'data.csv')\n",
    "df.head()"
   ]
  },
  {
   "cell_type": "code",
   "execution_count": 5,
   "metadata": {},
   "outputs": [
    {
     "data": {
      "text/html": [
       "<div>\n",
       "<style scoped>\n",
       "    .dataframe tbody tr th:only-of-type {\n",
       "        vertical-align: middle;\n",
       "    }\n",
       "\n",
       "    .dataframe tbody tr th {\n",
       "        vertical-align: top;\n",
       "    }\n",
       "\n",
       "    .dataframe thead th {\n",
       "        text-align: right;\n",
       "    }\n",
       "</style>\n",
       "<table border=\"1\" class=\"dataframe\">\n",
       "  <thead>\n",
       "    <tr style=\"text-align: right;\">\n",
       "      <th></th>\n",
       "      <th>label</th>\n",
       "      <th>text</th>\n",
       "      <th>is_valid</th>\n",
       "    </tr>\n",
       "  </thead>\n",
       "  <tbody>\n",
       "    <tr>\n",
       "      <th>7672</th>\n",
       "      <td>Homicide</td>\n",
       "      <td>\\n.MICRO.\\nHEART: Occasional, hypertrophic myo...</td>\n",
       "      <td>True</td>\n",
       "    </tr>\n",
       "    <tr>\n",
       "      <th>7673</th>\n",
       "      <td>Homicide</td>\n",
       "      <td>\\n.MICRO.\\nNONE\\n.LOCATIONHead\\n.INJURYFirearm...</td>\n",
       "      <td>False</td>\n",
       "    </tr>\n",
       "    <tr>\n",
       "      <th>7674</th>\n",
       "      <td>Accident</td>\n",
       "      <td>\\n.MICRO.\\nBRAIN: No significant, histopatholo...</td>\n",
       "      <td>True</td>\n",
       "    </tr>\n",
       "    <tr>\n",
       "      <th>7675</th>\n",
       "      <td>Suicide</td>\n",
       "      <td>\\n.MICRO.\\nNONE\\n.LOCATIONHead\\n.INJURYBlunt i...</td>\n",
       "      <td>False</td>\n",
       "    </tr>\n",
       "    <tr>\n",
       "      <th>7676</th>\n",
       "      <td>Suicide</td>\n",
       "      <td>\\n.MICRO.\\nHEART: No significant histopatholog...</td>\n",
       "      <td>False</td>\n",
       "    </tr>\n",
       "  </tbody>\n",
       "</table>\n",
       "</div>"
      ],
      "text/plain": [
       "         label                                               text  is_valid\n",
       "7672  Homicide  \\n.MICRO.\\nHEART: Occasional, hypertrophic myo...      True\n",
       "7673  Homicide  \\n.MICRO.\\nNONE\\n.LOCATIONHead\\n.INJURYFirearm...     False\n",
       "7674  Accident  \\n.MICRO.\\nBRAIN: No significant, histopatholo...      True\n",
       "7675   Suicide  \\n.MICRO.\\nNONE\\n.LOCATIONHead\\n.INJURYBlunt i...     False\n",
       "7676   Suicide  \\n.MICRO.\\nHEART: No significant histopatholog...     False"
      ]
     },
     "execution_count": 5,
     "metadata": {},
     "output_type": "execute_result"
    }
   ],
   "source": [
    "df.tail()"
   ]
  },
  {
   "cell_type": "code",
   "execution_count": 6,
   "metadata": {},
   "outputs": [
    {
     "data": {
      "text/plain": [
       "'\\n.MICRO.\\nHeart - no significant histopathology\\n\\nLungs - congestion, no significant histopathology\\n\\nKidneys - no significant histopathology\\n\\nLiver - no significant histopathology\\n\\nHippocampus - no significant histopathology\\n.LOCATIONExtremities\\n.INJURYBlunt injury.\\n.INJURYDESC.\\nHealing abrasions measuring from 0.1 to 0.2 cm are on the posterior right hand.\\n \\nA 0.2 x 1.1 cm healing abrasion is in the left inguinal fold. \\n\\n\\n\\n.LOCATIONHead\\n.INJURYBlunt injury.\\n.INJURYDESC.\\nA 0.9 x 0.6 cm abrasion is on the right side of the chin. '"
      ]
     },
     "execution_count": 6,
     "metadata": {},
     "output_type": "execute_result"
    }
   ],
   "source": [
    "df['text'][1]"
   ]
  },
  {
   "cell_type": "code",
   "execution_count": 7,
   "metadata": {},
   "outputs": [
    {
     "data": {
      "text/plain": [
       "'\\n.MICRO.\\nNONE\\n.LOCATIONExtremities\\n.INJURYBlunt injury.\\n.INJURYDESC.\\nSKIN AND DEEP SOFT TISSUES \\n\\nParchment-like brown and red abrasions are extensive over bony prominences.  \\n\\nA gaping laceration is in the skin of the right thenar eminence.\\n\\nA gaping laceration is in the proximal anterior left shin.\\n\\n\\nSKELETAL ELEMENTS\\n\\nNo palpable fractures.\\n\\n\\n.LOCATIONTrunk\\n.INJURYBlunt injury.\\n.INJURYDESC.\\nSKIN AND DEEP SOFT TISSUES OF THE CHEST AND ABDOMEN\\n\\nExtensive linear red and brown parchment-like abrasions are across the skin of the chest and abdomen.  \\n\\n\\nSKIN AND DEEP SOFT TISSUES OF THE BACK\\n\\nExtensive linear and irregular red and brown parchment-like abrasions are across the skin of the back (left paramidline and left lower back greater than right).\\n\\n\\nRIBS AND STERNUM\\n\\nExtensive fractures are palpable in the anterior ribs arcs.\\n\\n\\nCLAVICLES\\n\\nNo palpable fractures.\\n\\n\\nSCAPULAE\\n\\nNo palpable fractures.\\n\\n\\nVERTEBRAL COLUMN\\n\\nNo palpable fractures.\\n\\n\\n.LOCATIONHead\\n.INJURYBlunt injury.\\n.INJURYDESC.\\nFACE\\n\\nAn abraded purple ecchymosis extends from the right supraorbital margin into the right paramidline frontal forehead.  Patchy purple abrasions are on the left cheek along the malar prominence.  \\n\\n\\nSCALP\\n\\nAtraumatic.\\n\\n\\nFACIAL SKELETON\\n\\nNo palpable fractures.\\n\\n\\nCALVARIUM\\n\\nNo palpable fractures.'"
      ]
     },
     "execution_count": 7,
     "metadata": {},
     "output_type": "execute_result"
    }
   ],
   "source": [
    "df['text'][0]"
   ]
  },
  {
   "cell_type": "code",
   "execution_count": 8,
   "metadata": {},
   "outputs": [
    {
     "data": {
      "text/plain": [
       "'\\n.MICRO.\\nNONE\\n.LOCATIONNeck\\n.INJURYHanging.\\n.INJURYDESC.\\nEncircling the neck is a 1.0 cm brown abraded ligaure furrow which crosses over the thyroid cartilage at the midline and cants upwards and backwards toward the nape of the neck lying 4.0 cm below the right ear and 1.5 cm below the left ear. No other neck trauma is noted. \\n\\nOverlying the ligature furrow is a 1.0 cm wide white rope ligature tied in a noose-type knot. '"
      ]
     },
     "execution_count": 8,
     "metadata": {},
     "output_type": "execute_result"
    }
   ],
   "source": [
    "df['text'][2]"
   ]
  },
  {
   "cell_type": "code",
   "execution_count": 9,
   "metadata": {},
   "outputs": [
    {
     "data": {
      "text/plain": [
       "\"\\n.MICRO.\\nHeart: No diagnostic abnormality.  \\n\\nLungs: No diagnostic abnormality.  \\n\\nLiver: There is a nodular proliferation demarcated by intersecting fibrous septae. The periphery of the nodules shows bile ductular proliferation and lymphocytes. The background liver shows minimal macrosteatosis with mild lymphocytic portal inflammation and rare mixed lobular inflammation.\\n\\nKidney: There are multifocal tubular calcifications.\\n\\nBrain: A section of the hippocampus shows scattered mild acute hypoxic-ischemic type changes.\\n\\n.LOCATIONBack\\n.INJURYFirearm injury.\\n.INJURYDESC.\\nPERFORATING GUNSHOT WOUND OF BACK\\n\\nGUNSHOT ENTRANCE WOUND, INDETERMINATE RANGE OF FIRE:\\nOn the right aspect of the back, in the subscapular region, 40.5 cm below the top of the head and 12.5 cm right of the posterior midline, is an ovoid 2.0 cm x 0.6 cm gunshot entrance wound with a 0.1 to 0.4 cm wide pink marginal abrasion from 1 o'clock to 9 oâ\\x80\\x99clock that is widest at 3 oâ\\x80\\x99clock. A 3 x 2 cm faint blue contusion extends laterally from the gaping defect. Two purple linear contusions, 1.0 x 0.2 cm and 0.3 x 0.2 cm, project from the the inferior lateral edge of the gaping defect. Soot, unburned gunpowder particles and gunpowder stippling are not visible on the skin surrounding the wound.\\n\\nPATHWAY:\\nThe hemorrhagic wound track sequentially perforates the skin, subcutaneous soft tissues, posterior aspect of the right 10th rib, the lower lobe of the right lung, the esophagus, the pericardium, the posterior aspect of the left atrium, the pericardium, the upper lobe of the left lung, the anterior aspect of the left 2nd intercostal space, the left axillary soft tissue, and the anterior left shoulder skin. \\n\\nAssociated injuries include right hemopneumothorax (1,000 mL), left hemopneumothorax (450 mL), hemopericardium (20 mL), and posterior right 10th rib fracture.\\n\\nGUNSHOT EXIT WOUND:\\nLocated on the anterior aspect of the left shoulder, 28.5 cm below the top of the head and 20.5 cm left of the anterior midline, is an exit gunshot wound consisting of a 2.2 cm laceration without marginal abrasion and skin tag at 1 oâ\\x80\\x99clock. A 2 x 0.8 cm green contusion extends from 1 oâ\\x80\\x99clock.  \\n\\nTRAJECTORY: \\nThe wound track travels from the decedentâ\\x80\\x99s right to left, back to front, and upward.\\n\\nPROJECTILE:\\nNone recovered.\\n\\n\\nClothing:\\nOn the back and left shoulder areas of the shirt and back area of the undershirt and likely corresponding to the entrance and exit gunshot wounds are defects with frayed edges. Soot or unburned gunpowder particles are not visible on the fabric surrounding the defect.\\n\\n.LOCATIONHead\\n.INJURYBlunt injury.\\n.INJURYDESC.\\nA 2 x 2 cm green contusion is on the right aspect of the forehead. A 3 x 2 cm red-purple contusion is on the lateral and right aspect of the chin. A 5.5 x 3 cm green-purple contusion is on the left lateral chin. \\n\\n.LOCATIONTrunk\\n.INJURYBlunt injury.\\n.INJURYDESC.\\nScattered 0.5 to 1 cm green contusions are on the upper anterior chest.\\n\\n.LOCATIONExtremities\\n.INJURYBlunt injury.\\n.INJURYDESC.\\nRIGHT UPPER:\\n\\nA 1 x 0.7 cm green contusion and a 1 x 0.5 cm red contusion are on the anterior lateral arm. A 2 x 0.5 cm red contusion is on the dorsal wrist.\\n\\nLEFT UPPER:\\n\\nA 1.5 x 1 cm green contusion with a 1 x 0.1 cm red crusted abrasion is in the left antecubital fossa. On posterior arm, are a 1 x 1 cm green contusion, 2.5 x 2 cm green contusion, and 1 x 1 cm red contusion.\\n\\nRIGHT LOWER:\\n\\nOn the anterior medial thigh are a 1 x 1 cm red contusion and a 1 x 0.8 cm red contusion. Underlying gauze and band-aids on the anterior thigh are two linear crusted red abrasions, measuring  3 x 0.1 cm and 6 x 0.2 cm. A 2 x 1.5 cm purple contusion is on the knee. A 9 x 4.5 cm red contusion is on the shin. A 1 x 0.2 cm superficial laceration is on the medial ankle.\\n\\nLEFT LOWER:\\n\\nScattered 0.5 to 1.5 cm purple contusions are on the anterior thigh. A 5 x 3.5 cm purple contusion is on the shin. A 3 x 1.5 cm faint purple contusion is on the anterior ankle.  On the medial thigh are red contusions, measuring 2.5 x 2 cm and 1 x 1 cm.\""
      ]
     },
     "execution_count": 9,
     "metadata": {},
     "output_type": "execute_result"
    }
   ],
   "source": [
    "df['text'][4]"
   ]
  },
  {
   "cell_type": "code",
   "execution_count": 10,
   "metadata": {},
   "outputs": [
    {
     "data": {
      "text/plain": [
       "'\\n.MICRO.\\nMicroscopic Description:\\n\\nPlease note that due to decomposition, many of the representative sections have moderate to severe autolytic changes.\\n\\nThe liver is severely autolyzed without significant inflammation or fibrosis.\\n\\nThe pancreas is severely autolyzed without residual islets or acini. There is moderate fibrosis without significant inflammation.\\n\\nThe left kidney has an appropriate number of glomeruli without significant sclerosis or inflammation. The tubules have moderate autolytic change without inflammation, tubule drop out or fibrosis. No polarizable material is present.\\n\\nThe heart has no significant inflammation or fibrosis. The cardiac myocytes are unremarkable. The myocardial vessels are patent without significant medial hypertrophy or thrombosis.\\n\\nThe lungs have moderate autolytic changes without significant inflammation or fibrosis. No polarizable material is present.\\n\\nThe left cerebellum has no neuronal loss, inflammation, gliosis or hypoxic-ischemic changes.\\n.LOCATIONHead\\n.INJURYBlunt injury.\\n.INJURYDESC.\\nUnder the central and right frontal scalp is a 12 x 7 cm subscalpular and subgaleal hemorrhage which involves the anterior right temporalis muscle.'"
      ]
     },
     "execution_count": 10,
     "metadata": {},
     "output_type": "execute_result"
    }
   ],
   "source": [
    "df['text'][3038]"
   ]
  },
  {
   "cell_type": "code",
   "execution_count": 11,
   "metadata": {},
   "outputs": [
    {
     "data": {
      "text/plain": [
       "'\\n.MICRO.\\nBrain: The brain is contused, but there are no definite ischemic changes.\\n\\nHeart: There is a mild increase in interstitial fibrosis in the right ventricle at the subendocardial surface.\\n\\nLungs: The alveolar air spaces are filled with blood, and there are some mild-moderate emphysematous changes.\\n\\nLiver: There is an increase in steatosis (~50%), and there is a mild increase in lobular neutrophilic inflammation without an increase in fibrosis.\\n\\nKidney: There is a mild increase in glomerulosclerosis, and the arterioles are mildly thickened.  There is some chronic interstitial atrophy.\\n.LOCATIONHead\\n.INJURYFirearm injury.\\n.INJURYDESC.\\nGUNSHOT WOUND OF HEAD\\n\\nEntrance:\\n\\nOn the hard palate, 14 cm below the top of the head and 0.5 cm right of the anterior midline, is an entrance gunshot wound consisting of a 0.8 x 1.2 cm irregular-oval defect with a 0.8 x 1.3 cm thin discontinuous rim of pink marginal abrasion that is widest at 3 oâ\\x80\\x99clock. Soot, unburned gunpowder particles and gunpowder stippling are visible on the palate surrounding the wound over an area of 2.5 x 4 cm.\\n\\nPath:\\n\\nThe hemorrhagic wound track sequentially perforates the hard palate, basilar skull, and brain and penetrates the right parietal skull.  The missile comes to rest in the right hemisphere of the brain.\\n\\nAssociated injuries include subgaleal hemorrhage around the vertex scalp, 20 x 15 cm, subarachnoid and subdural hemorrhage, laceration of the right posterior cerebral artery, laceration of the right midbrain, basal ganglia, and parietal cortex, contusion of the left inferior temporal lobe, and fractures of the maxilla, basilar skull, and calvarium.\\n\\nRetained: One orange-brown metallic projectile (Missle recovered from brain @ 87.8 GNs) was recovered for evidence.\\n\\nTrajectory:\\n \\nThe wound track travels from the decedentâ\\x80\\x99s front to back, upward, and slightly left to right.\\n\\nClothing:\\n\\nThere are no holes in the clothing that correspond to gunshot wounds.\\n\\n\\n.LOCATIONExtremity\\n.INJURYBlunt injury.\\n.INJURYDESC.\\nOn the left medial hand and forearm, there are multiple lacerations, 0.3 - 1.0 cm, the largest of which has partial skin avulsion over an area of 0.3 x 1.0 cm.\\n\\n.LOCATIONExtremity\\n.INJURYBlunt injury.\\n.INJURYDESC.\\nThere are multiple abrasions, some of which have scabs, on the right shoulder, right anterior-lateral upper arm, right lateral forearm, right superior chest, and right superior anterior abdomen measuring from 0.2 - 1.2 cm in maximum dimension.\\n\\n.LOCATIONHead\\n.INJURYBlunt injury.\\n.INJURYDESC.\\nThere are multiple abrasions of the face, 0.2 - 0.5 cm.  There is periorbital ecchymosis of the right eye, 4 x 1.5 cm.'"
      ]
     },
     "execution_count": 11,
     "metadata": {},
     "output_type": "execute_result"
    }
   ],
   "source": [
    "df['text'][3040]"
   ]
  },
  {
   "cell_type": "code",
   "execution_count": 12,
   "metadata": {},
   "outputs": [
    {
     "data": {
      "text/plain": [
       "'\\n.MICRO.\\nHeart: Section shows areas of myocyte hypertrophy.\\n\\nLung: Section shows pigment-laden macrophages and extravasated red blood cells within alveolar spaces. No polarizable material is present.\\n\\nLiver: Section shows central vein and centrilobular sinusoidal dilation. There is mildly increased portal fibrosis and rare areas of bridging fibrosis.\\n\\nKidney: Section shows scattered sclerotic glomeruli.\\n.LOCATIONExtremity\\n.INJURYThermal injury.\\n.INJURYDESC.\\nThe dorsal left hand and dorsal surfaces of the left 3rd, 4th, and 5th digits show superficial thermal injury, consisting of scattered skin blisters.'"
      ]
     },
     "execution_count": 12,
     "metadata": {},
     "output_type": "execute_result"
    }
   ],
   "source": [
    "df['text'][3041]"
   ]
  },
  {
   "cell_type": "code",
   "execution_count": 13,
   "metadata": {},
   "outputs": [],
   "source": [
    "bs=32"
   ]
  },
  {
   "cell_type": "code",
   "execution_count": 14,
   "metadata": {},
   "outputs": [],
   "source": [
    "data_clas = TextClasDataBunch.from_csv(path, 'data.csv', bs=bs)"
   ]
  },
  {
   "cell_type": "code",
   "execution_count": 15,
   "metadata": {},
   "outputs": [
    {
     "data": {
      "text/html": [
       "<table>  <col width='90%'>  <col width='10%'>  <tr>\n",
       "    <th>text</th>\n",
       "    <th>target</th>\n",
       "  </tr>\n",
       "  <tr>\n",
       "    <th>xxbos \\n xxup .micro . \\n xxmaj heart - no significant histopathology \\n\\n xxmaj lungs - patchy extravasation of red blood cells into the intra - alveolar space \\n\\n xxmaj kidneys - no significant histopathology \\n\\n xxmaj liver - no significant histopathology \\n\\n xxmaj hippocampus - no significant histopathology \\n\\n xxmaj xxunk - vaginal , anal , and oral smears negative for xxunk components . \\n .locationhead and neck \\n</th>\n",
       "    <th>Homicide</th>\n",
       "  </tr>\n",
       "  <tr>\n",
       "    <th>xxbos \\n xxup .micro . \\n xxup heart : xxmaj myocyte hypertrophy , interstitial fibrosis \\n\\n xxup lungs : xxmaj peripherally dilated alveolar spaces with septal clubbing alternating with areas of atelectasis ; mild deposition of black pigment around bronchioles and pleura \\n\\n xxup kidneys : xxmaj frequent , globally sclerotic glomeruli ; patchy interstitial fibrosis ; patchy interstitial lymphocytic inflammation \\n\\n xxup liver : xxmaj minimal , predominantly macrovesicular</th>\n",
       "    <th>Homicide</th>\n",
       "  </tr>\n",
       "  <tr>\n",
       "    <th>xxbos \\n xxup .micro . \\n xxup brain : xxmaj scattered small ( petechial ) intraparenchymal and perivascular hemorrhages \\n\\n xxup heart : xxmaj no significant histopathologic findings \\n\\n xxup lungs : xxmaj blood in the bronchioles \\n\\n xxup kidneys : xxmaj no significant histopathologic findings \\n\\n xxup liver : xxmaj mild , predominantly macrovesicular steatosis \\n\\n\\n .locationhead \\n .injurysharp injury . \\n xxup .injurydesc . \\n xxup incised xxup</th>\n",
       "    <th>Homicide</th>\n",
       "  </tr>\n",
       "  <tr>\n",
       "    <th>xxbos \\n xxup .micro . \\n xxup brain : xxmaj no significant , histopathologic findings \\n\\n xxup heart : xxmaj no significant , histopathologic findings \\n\\n xxup lungs : xxmaj no significant , histopathologic findings \\n\\n xxup kidneys : xxmaj no significant , histopathologic findings \\n\\n xxup liver : xxmaj no significant , histopathologic findings \\n\\n\\n .locationextremity \\n .injurysharp injury . \\n xxup .injurydesc . \\n xxmaj on the anterior</th>\n",
       "    <th>Homicide</th>\n",
       "  </tr>\n",
       "  <tr>\n",
       "    <th>xxbos \\n xxup .micro . \\n xxup liver : xxmaj severe macrovesicular steatosis \\n\\n xxup lungs : xxmaj atelectasis , patchy airspace filling by macrophages and extravasated erythrocytes \\n\\n xxup heart , xxup kidneys , xxup brain : xxmaj no significant histopathology \\n\\n xxup thyroid xxup gland : xxmaj partially encapsulated nodule composed of mildly pleomorphic , atypical cells with nuclear grooves lining follicles and forming papillary structures \\n\\n\\n\\n .locationextremity</th>\n",
       "    <th>Homicide</th>\n",
       "  </tr>\n",
       "</table>\n"
      ],
      "text/plain": [
       "<IPython.core.display.HTML object>"
      ]
     },
     "metadata": {},
     "output_type": "display_data"
    }
   ],
   "source": [
    "data_clas.show_batch()"
   ]
  },
  {
   "cell_type": "code",
   "execution_count": 16,
   "metadata": {},
   "outputs": [],
   "source": [
    "learn = text_classifier_learner(data_clas, drop_mult=0.5, qrnn=False, emb_sz=100, nh=200, nl=1)\n"
   ]
  },
  {
   "cell_type": "code",
   "execution_count": 17,
   "metadata": {},
   "outputs": [
    {
     "data": {
      "text/html": [
       "Total time: 05:02 <p><table style='width:300px; margin-bottom:10px'>\n",
       "  <tr>\n",
       "    <th>epoch</th>\n",
       "    <th>train_loss</th>\n",
       "    <th>valid_loss</th>\n",
       "    <th>accuracy</th>\n",
       "  </tr>\n",
       "  <tr>\n",
       "    <th>1</th>\n",
       "    <th>0.990274</th>\n",
       "    <th>0.984450</th>\n",
       "    <th>0.600911</th>\n",
       "  </tr>\n",
       "  <tr>\n",
       "    <th>2</th>\n",
       "    <th>0.762903</th>\n",
       "    <th>0.684886</th>\n",
       "    <th>0.723958</th>\n",
       "  </tr>\n",
       "  <tr>\n",
       "    <th>3</th>\n",
       "    <th>0.656718</th>\n",
       "    <th>0.764120</th>\n",
       "    <th>0.694661</th>\n",
       "  </tr>\n",
       "  <tr>\n",
       "    <th>4</th>\n",
       "    <th>0.604102</th>\n",
       "    <th>0.591815</th>\n",
       "    <th>0.780599</th>\n",
       "  </tr>\n",
       "  <tr>\n",
       "    <th>5</th>\n",
       "    <th>0.621617</th>\n",
       "    <th>0.657767</th>\n",
       "    <th>0.772786</th>\n",
       "  </tr>\n",
       "  <tr>\n",
       "    <th>6</th>\n",
       "    <th>0.514226</th>\n",
       "    <th>0.543398</th>\n",
       "    <th>0.819010</th>\n",
       "  </tr>\n",
       "  <tr>\n",
       "    <th>7</th>\n",
       "    <th>0.463579</th>\n",
       "    <th>0.495669</th>\n",
       "    <th>0.840495</th>\n",
       "  </tr>\n",
       "  <tr>\n",
       "    <th>8</th>\n",
       "    <th>0.458965</th>\n",
       "    <th>0.483445</th>\n",
       "    <th>0.850260</th>\n",
       "  </tr>\n",
       "  <tr>\n",
       "    <th>9</th>\n",
       "    <th>0.477299</th>\n",
       "    <th>0.423934</th>\n",
       "    <th>0.861328</th>\n",
       "  </tr>\n",
       "  <tr>\n",
       "    <th>10</th>\n",
       "    <th>0.495688</th>\n",
       "    <th>0.415007</th>\n",
       "    <th>0.873698</th>\n",
       "  </tr>\n",
       "  <tr>\n",
       "    <th>11</th>\n",
       "    <th>0.462520</th>\n",
       "    <th>0.418417</th>\n",
       "    <th>0.875651</th>\n",
       "  </tr>\n",
       "  <tr>\n",
       "    <th>12</th>\n",
       "    <th>0.439554</th>\n",
       "    <th>0.480720</th>\n",
       "    <th>0.871094</th>\n",
       "  </tr>\n",
       "  <tr>\n",
       "    <th>13</th>\n",
       "    <th>0.445117</th>\n",
       "    <th>0.467938</th>\n",
       "    <th>0.877604</th>\n",
       "  </tr>\n",
       "  <tr>\n",
       "    <th>14</th>\n",
       "    <th>0.403914</th>\n",
       "    <th>0.444541</th>\n",
       "    <th>0.879557</th>\n",
       "  </tr>\n",
       "  <tr>\n",
       "    <th>15</th>\n",
       "    <th>0.462303</th>\n",
       "    <th>0.453752</th>\n",
       "    <th>0.876953</th>\n",
       "  </tr>\n",
       "  <tr>\n",
       "    <th>16</th>\n",
       "    <th>0.388091</th>\n",
       "    <th>0.438111</th>\n",
       "    <th>0.876953</th>\n",
       "  </tr>\n",
       "  <tr>\n",
       "    <th>17</th>\n",
       "    <th>0.432486</th>\n",
       "    <th>0.421231</th>\n",
       "    <th>0.876302</th>\n",
       "  </tr>\n",
       "  <tr>\n",
       "    <th>18</th>\n",
       "    <th>0.485978</th>\n",
       "    <th>0.447259</th>\n",
       "    <th>0.880208</th>\n",
       "  </tr>\n",
       "  <tr>\n",
       "    <th>19</th>\n",
       "    <th>0.373427</th>\n",
       "    <th>0.408176</th>\n",
       "    <th>0.873047</th>\n",
       "  </tr>\n",
       "  <tr>\n",
       "    <th>20</th>\n",
       "    <th>0.425604</th>\n",
       "    <th>0.494052</th>\n",
       "    <th>0.879557</th>\n",
       "  </tr>\n",
       "</table>\n"
      ],
      "text/plain": [
       "<IPython.core.display.HTML object>"
      ]
     },
     "metadata": {},
     "output_type": "display_data"
    }
   ],
   "source": [
    "learn.unfreeze()\n",
    "learn.fit_one_cycle(20, slice(1e-3/(2.6**4),1e-3), moms=(0.8,0.7))"
   ]
  },
  {
   "cell_type": "code",
   "execution_count": 18,
   "metadata": {},
   "outputs": [],
   "source": [
    "from fastai.vision import *"
   ]
  },
  {
   "cell_type": "code",
   "execution_count": 19,
   "metadata": {},
   "outputs": [
    {
     "data": {
      "image/png": "[encoded data removed]",
      "text/plain": [
       "<Figure size 480x480 with 1 Axes>"
      ]
     },
     "metadata": {},
     "output_type": "display_data"
    }
   ],
   "source": [
    "interp = ClassificationInterpretation.from_learner(learn)\n",
    "interp.plot_confusion_matrix(figsize=(4,4), dpi=120)"
   ]
  },
  {
   "cell_type": "code",
   "execution_count": 20,
   "metadata": {},
   "outputs": [
    {
     "data": {
      "image/png": "[encoded data removed]",
      "text/plain": [
       "<Figure size 432x288 with 1 Axes>"
      ]
     },
     "metadata": {},
     "output_type": "display_data"
    }
   ],
   "source": [
    "learn.recorder.plot_losses()"
   ]
  },
  {
   "cell_type": "code",
   "execution_count": 21,
   "metadata": {},
   "outputs": [
    {
     "data": {
      "image/png": "[encoded data removed]",
      "text/plain": [
       "<Figure size 432x288 with 1 Axes>"
      ]
     },
     "metadata": {},
     "output_type": "display_data"
    }
   ],
   "source": [
    "learn.recorder.plot_metrics()"
   ]
  },
  {
   "cell_type": "code",
   "execution_count": null,
   "metadata": {},
   "outputs": [],
   "source": []
  },
  {
   "cell_type": "code",
   "execution_count": 22,
   "metadata": {},
   "outputs": [
    {
     "data": {
      "text/plain": [
       "True"
      ]
     },
     "execution_count": 22,
     "metadata": {},
     "output_type": "execute_result"
    }
   ],
   "source": [
    "interp = ClassificationInterpretation.from_learner(learn)\n",
    "\n",
    "losses,idxs = interp.top_losses()\n",
    "\n",
    "len(data_clas.valid_ds)==len(losses)==len(idxs)"
   ]
  },
  {
   "cell_type": "code",
   "execution_count": null,
   "metadata": {},
   "outputs": [],
   "source": []
  },
  {
   "cell_type": "code",
   "execution_count": 31,
   "metadata": {},
   "outputs": [],
   "source": [
    "preds = learn.get_preds()"
   ]
  },
  {
   "cell_type": "code",
   "execution_count": 36,
   "metadata": {},
   "outputs": [
    {
     "data": {
      "text/plain": [
       "tensor([[6.5277e-02, 5.8726e-01, 3.4747e-01],\n",
       "        [1.3520e-01, 4.7517e-01, 3.8963e-01],\n",
       "        [2.5724e-01, 6.2592e-01, 1.1684e-01],\n",
       "        ...,\n",
       "        [1.1616e-03, 7.2441e-03, 9.9159e-01],\n",
       "        [9.9827e-01, 1.4533e-03, 2.7544e-04],\n",
       "        [9.9903e-01, 8.4969e-04, 1.2150e-04]])"
      ]
     },
     "execution_count": 36,
     "metadata": {},
     "output_type": "execute_result"
    }
   ],
   "source": [
    "preds[0]"
   ]
  },
  {
   "cell_type": "code",
   "execution_count": 46,
   "metadata": {},
   "outputs": [
    {
     "data": {
      "text/plain": [
       "tensor([1, 1, 1, 1, 1, 1, 1, 1, 1, 1, 1, 1, 1, 1, 1, 1, 1, 1, 1, 1, 1, 1, 1, 1,\n",
       "        1, 1, 1, 1, 1, 1, 1, 1, 1, 1, 1, 1, 1, 1, 1, 1, 1, 1, 1, 1, 1, 1, 1, 1,\n",
       "        1, 1, 0, 1, 1, 0, 1, 1, 1, 0, 1, 1, 1, 1, 1, 1, 1, 1, 1, 1, 0, 1, 1, 1,\n",
       "        1, 1, 2, 0, 1, 1, 1, 1, 0, 1, 1, 1, 0, 1, 0, 0, 0, 1, 0, 0, 0, 0, 1, 1,\n",
       "        2, 0, 1, 0, 0, 0, 1, 0, 1, 1, 0, 0, 1, 1, 1, 2, 1, 0, 2, 2, 2, 0, 1, 0,\n",
       "        0, 0, 1, 1, 1, 1, 0, 0, 0, 1, 1, 1, 1, 0, 2, 0, 0, 1, 0, 1, 2, 1, 0, 1,\n",
       "        0, 0, 2, 2, 1, 0, 0, 1, 1, 2, 1, 2, 0, 0, 0, 2, 0, 1, 1, 1, 0, 0, 2, 0,\n",
       "        2, 0, 0, 0, 0, 0, 0, 0, 0, 0, 0, 2, 1, 1, 0, 1, 0, 2, 2, 0, 0, 0, 0, 1,\n",
       "        1, 0, 1, 0, 0, 1, 0, 0, 1, 1, 2, 2, 2, 2, 0, 0, 0, 0, 0, 1, 1, 1, 0, 0,\n",
       "        2, 2, 1, 1, 0, 0, 2, 0, 2, 1, 1, 0, 2, 0, 0, 2, 2, 1, 0, 1, 2, 0, 1, 0,\n",
       "        0, 0, 0, 0, 1, 2, 1, 2, 1, 2, 0, 0, 1, 1, 0, 1, 2, 2, 1, 2, 0, 0, 2, 0,\n",
       "        0, 2, 0, 0, 2, 1, 1, 0, 2, 2, 2, 2, 2, 2, 1, 0, 1, 0, 2, 2, 0, 1, 0, 2,\n",
       "        0, 2, 0, 0, 2, 0, 2, 0, 0, 1, 0, 0])"
      ]
     },
     "execution_count": 46,
     "metadata": {},
     "output_type": "execute_result"
    }
   ],
   "source": []
  },
  {
   "cell_type": "code",
   "execution_count": 42,
   "metadata": {},
   "outputs": [
    {
     "data": {
      "text/plain": [
       "[383,\n",
       " 383,\n",
       " 383,\n",
       " 383,\n",
       " 383,\n",
       " 383,\n",
       " 383,\n",
       " 383,\n",
       " 383,\n",
       " 383,\n",
       " 383,\n",
       " 383,\n",
       " 383,\n",
       " 383,\n",
       " 383,\n",
       " 383,\n",
       " 383,\n",
       " 383,\n",
       " 383,\n",
       " 383]"
      ]
     },
     "execution_count": 42,
     "metadata": {},
     "output_type": "execute_result"
    }
   ],
   "source": []
  },
  {
   "cell_type": "code",
   "execution_count": null,
   "metadata": {},
   "outputs": [],
   "source": []
  }
 ],
 "metadata": {
  "kernelspec": {
   "display_name": "Python 3",
   "language": "python",
   "name": "python3"
  },
  "language_info": {
   "codemirror_mode": {
    "name": "ipython",
    "version": 3
   },
   "file_extension": ".py",
   "mimetype": "text/x-python",
   "name": "python",
   "nbconvert_exporter": "python",
   "pygments_lexer": "ipython3",
   "version": "3.6.5"
  }
 },
 "nbformat": 4,
 "nbformat_minor": 2
}
