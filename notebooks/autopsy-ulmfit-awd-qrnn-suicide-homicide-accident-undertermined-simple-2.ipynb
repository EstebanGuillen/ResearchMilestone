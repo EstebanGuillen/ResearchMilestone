{
 "cells": [
  {
   "cell_type": "code",
   "execution_count": 1,
   "metadata": {},
   "outputs": [],
   "source": [
    "%reload_ext autoreload\n",
    "%autoreload 2\n",
    "%matplotlib inline"
   ]
  },
  {
   "cell_type": "code",
   "execution_count": 2,
   "metadata": {},
   "outputs": [],
   "source": [
    "from fastai.text import *\n",
    "from pathlib import Path\n",
    "import pandas as pd"
   ]
  },
  {
   "cell_type": "code",
   "execution_count": 3,
   "metadata": {},
   "outputs": [],
   "source": [
    "path = Path('/home/ubuntu/data/autopsy/milestone/suicide_homicide_accident_undertermined/no_preprocessing')"
   ]
  },
  {
   "cell_type": "code",
   "execution_count": 4,
   "metadata": {},
   "outputs": [
    {
     "data": {
      "text/html": [
       "<div>\n",
       "<style scoped>\n",
       "    .dataframe tbody tr th:only-of-type {\n",
       "        vertical-align: middle;\n",
       "    }\n",
       "\n",
       "    .dataframe tbody tr th {\n",
       "        vertical-align: top;\n",
       "    }\n",
       "\n",
       "    .dataframe thead th {\n",
       "        text-align: right;\n",
       "    }\n",
       "</style>\n",
       "<table border=\"1\" class=\"dataframe\">\n",
       "  <thead>\n",
       "    <tr style=\"text-align: right;\">\n",
       "      <th></th>\n",
       "      <th>label</th>\n",
       "      <th>text</th>\n",
       "      <th>is_valid</th>\n",
       "    </tr>\n",
       "  </thead>\n",
       "  <tbody>\n",
       "    <tr>\n",
       "      <th>0</th>\n",
       "      <td>Undetermined</td>\n",
       "      <td>\\n.MICRO.\\nHEART:  The left ventricle demonstr...</td>\n",
       "      <td>False</td>\n",
       "    </tr>\n",
       "    <tr>\n",
       "      <th>1</th>\n",
       "      <td>Homicide</td>\n",
       "      <td>\\n.MICRO.\\nNONE\\n.LOCATIONTrunk\\n.INJURYFirear...</td>\n",
       "      <td>False</td>\n",
       "    </tr>\n",
       "    <tr>\n",
       "      <th>2</th>\n",
       "      <td>Suicide</td>\n",
       "      <td>\\n.MICRO.\\nNONE\\n.LOCATIONHead\\n.INJURYFirearm...</td>\n",
       "      <td>False</td>\n",
       "    </tr>\n",
       "    <tr>\n",
       "      <th>3</th>\n",
       "      <td>Accident</td>\n",
       "      <td>\\n.MICRO.\\nHeart-Mild myocyte hypertrophy. \\n\\...</td>\n",
       "      <td>False</td>\n",
       "    </tr>\n",
       "    <tr>\n",
       "      <th>4</th>\n",
       "      <td>Accident</td>\n",
       "      <td>\\n.MICRO.\\nNONE\\n.LOCATIONHead and neck\\n.INJU...</td>\n",
       "      <td>False</td>\n",
       "    </tr>\n",
       "  </tbody>\n",
       "</table>\n",
       "</div>"
      ],
      "text/plain": [
       "          label                                               text  is_valid\n",
       "0  Undetermined  \\n.MICRO.\\nHEART:  The left ventricle demonstr...     False\n",
       "1      Homicide  \\n.MICRO.\\nNONE\\n.LOCATIONTrunk\\n.INJURYFirear...     False\n",
       "2       Suicide  \\n.MICRO.\\nNONE\\n.LOCATIONHead\\n.INJURYFirearm...     False\n",
       "3      Accident  \\n.MICRO.\\nHeart-Mild myocyte hypertrophy. \\n\\...     False\n",
       "4      Accident  \\n.MICRO.\\nNONE\\n.LOCATIONHead and neck\\n.INJU...     False"
      ]
     },
     "execution_count": 4,
     "metadata": {},
     "output_type": "execute_result"
    }
   ],
   "source": [
    "df = pd.read_csv(path/'data.csv')\n",
    "df.head()"
   ]
  },
  {
   "cell_type": "code",
   "execution_count": 5,
   "metadata": {},
   "outputs": [
    {
     "data": {
      "text/html": [
       "<div>\n",
       "<style scoped>\n",
       "    .dataframe tbody tr th:only-of-type {\n",
       "        vertical-align: middle;\n",
       "    }\n",
       "\n",
       "    .dataframe tbody tr th {\n",
       "        vertical-align: top;\n",
       "    }\n",
       "\n",
       "    .dataframe thead th {\n",
       "        text-align: right;\n",
       "    }\n",
       "</style>\n",
       "<table border=\"1\" class=\"dataframe\">\n",
       "  <thead>\n",
       "    <tr style=\"text-align: right;\">\n",
       "      <th></th>\n",
       "      <th>label</th>\n",
       "      <th>text</th>\n",
       "      <th>is_valid</th>\n",
       "    </tr>\n",
       "  </thead>\n",
       "  <tbody>\n",
       "    <tr>\n",
       "      <th>7931</th>\n",
       "      <td>Homicide</td>\n",
       "      <td>\\n.MICRO.\\nHEART: Occasional, hypertrophic myo...</td>\n",
       "      <td>True</td>\n",
       "    </tr>\n",
       "    <tr>\n",
       "      <th>7932</th>\n",
       "      <td>Homicide</td>\n",
       "      <td>\\n.MICRO.\\nNONE\\n.LOCATIONHead\\n.INJURYFirearm...</td>\n",
       "      <td>False</td>\n",
       "    </tr>\n",
       "    <tr>\n",
       "      <th>7933</th>\n",
       "      <td>Accident</td>\n",
       "      <td>\\n.MICRO.\\nBRAIN: No significant, histopatholo...</td>\n",
       "      <td>True</td>\n",
       "    </tr>\n",
       "    <tr>\n",
       "      <th>7934</th>\n",
       "      <td>Suicide</td>\n",
       "      <td>\\n.MICRO.\\nNONE\\n.LOCATIONHead\\n.INJURYBlunt i...</td>\n",
       "      <td>False</td>\n",
       "    </tr>\n",
       "    <tr>\n",
       "      <th>7935</th>\n",
       "      <td>Suicide</td>\n",
       "      <td>\\n.MICRO.\\nHEART: No significant histopatholog...</td>\n",
       "      <td>False</td>\n",
       "    </tr>\n",
       "  </tbody>\n",
       "</table>\n",
       "</div>"
      ],
      "text/plain": [
       "         label                                               text  is_valid\n",
       "7931  Homicide  \\n.MICRO.\\nHEART: Occasional, hypertrophic myo...      True\n",
       "7932  Homicide  \\n.MICRO.\\nNONE\\n.LOCATIONHead\\n.INJURYFirearm...     False\n",
       "7933  Accident  \\n.MICRO.\\nBRAIN: No significant, histopatholo...      True\n",
       "7934   Suicide  \\n.MICRO.\\nNONE\\n.LOCATIONHead\\n.INJURYBlunt i...     False\n",
       "7935   Suicide  \\n.MICRO.\\nHEART: No significant histopatholog...     False"
      ]
     },
     "execution_count": 5,
     "metadata": {},
     "output_type": "execute_result"
    }
   ],
   "source": [
    "df.tail()"
   ]
  },
  {
   "cell_type": "code",
   "execution_count": 6,
   "metadata": {},
   "outputs": [
    {
     "data": {
      "text/plain": [
       "\"\\n.MICRO.\\nNONE\\n.LOCATIONTrunk\\n.INJURYFirearm injury.\\n.INJURYDESC.\\nEntrance: On the left back, centered approximately 14 inches below the top of the head and 10-1/2 inches left of posterior midline, is an entrance gunshot wound, consisting of a 1/2 inch round defect with circumferential, 1/8 inch dark red marginal abrasion and a rim of purple marginal contusion. No soot, stippling, or unburned gunpowder particles are visible on the skin surrounding this wound.\\n\\nExit: None.\\n\\nTerminus: The wound track terminates in the tip of the left scapula.\\n\\nPath: The hemorrhagic wound track involves the skin and soft tissue of the left back and the left scapula.\\n\\nAssociated findings: The left scapula is fractured.\\n\\nRecovery: A copper jacketed missile is recovered from within the left scapula.\\n\\nTrajectory: The wound track travels from the decedent's back to front, left to right, and downward.\\n\\n\\n\\n\\n\\n\\n.LOCATIONTrunk\\n.INJURYFirearm injury.\\n.INJURYDESC.\\nEntrance: On the left back, centered approximately 18 inches below the top of the head and 10 inches left of posterior midline, is an entrance gunshot wound, consisting of a 1/2 inch round defect at the medial edge of a 1-1/2 x 1/2 inch abrasion. No soot, stippling, or unburned gunpowder particles are visible on the skin surrounding this wound.\\n\\nExit: None.\\n\\nTerminus: The wound track terminates in the peri-aortic tissue of the posterior mediastinum.\\n\\nPath: The hemorrhagic wound track involves the skin and soft tissue of the left back, the 9th rib posteriorly, the proximal descending aorta, and the posterior and anterior aspects of the upper lobe of the left lung.\\n\\nAssociated findings: The aorta shows transverse lacerations on its anterolateral and posteromedial aspects. There are approximately 2000 ml of blood and blood clot within the left chest cavity.\\n\\nRecovery: A copper jacketed missile is recovered from within the mediastinal soft tissue.\\n\\nTrajectory: The wound track travels from the decedent's back to front, left to right, and downward.\\n\\n\\n\\n.LOCATIONExtremity\\n.INJURYFirearm injury.\\n.INJURYDESC.\\nEntrance: On the left arm, centered approximately 8 inches below the acromion process and 2 inches left of the posterior midline of the left arm, is an entrance gunshot wound, consisting of a 1/2 inch round defect with 1/8 inch, circumferential, dark red marginal abrasion. No soot, stippling, or unburned gunpowder particles are visible on the skin surrounding this wound.\\n\\nExit: On the left arm, centered approximately 14 inches below the acromion process and 4 inches left of the posterior midline of the arm, is an exit gunshot wound, consisting of a 3 inch, angled laceration without marginal abrasion. The skin surrounding this wound shows numerous linear abrasions, each measuring up to 2 inches in length.\\n\\nPath: The hemorrhagic wound track involves the skin and soft tissue of the left arm, as well as the humerus, radius, and ulna.\\n\\nAssociated findings: The left distal humerus and proximal radius and ulna are fractured. There are lacerations 7 inches below the acromion process and 15 inches below the acromion process, which likely represent shrapnel exit wounds.\\n\\nRecovery: None.\\n\\nTrajectory: The wound track travels from the decedent's right to left and downward, without significant frontward or backward deviation.\\n\\n\\n\\n.LOCATIONHead\\n.INJURYFirearm injury.\\n.INJURYDESC.\\nGrazing gunshot wounds of head: \\n\\nOn the left cheek, extending to the left pinna, is a grazing gunshot wound complex, centered approximately 6 inches below the top of the head and consisting of a 1/2 x 1/4 inch dark red abrasion centered approximately 5 inches left of anterior midline and a 1 x 1/2 inch gaping laceration of the posterior left pinna, centered approximately 6-1/2 inches left of anterior midline.\\n\\nOn the right chin is a grazing gunshot wound complex, centered approximately 8 inches below the top of the head and 2 inches right of anterior midline, and consisting of lacerations, abrasions, and surrounding purple contusion altogether measuring approximately 3 x 1/4 inches.\\n\\n\\n.LOCATIONTrunk\\n.INJURYFirearm injury.\\n.INJURYDESC.\\nGrazing gunshot wounds of torso:\\n\\nOn the left chest, centered approximately 14 inches below the top of the head and 7 inches left of anterior midline, is a grazing gunshot wound, consisting of a 1-1/4 inch superficial, gaping laceration with 1/8 inch, dark red marginal abrasion. \\n\\nOn the posterior left shoulder, centered approximately 9 inches below the top of the head and 5 inches left of posterior midline, is a grazing gunshot wound, consisting of a 3/4 x 1/2 inch gaping laceration. This wound involves only the skin at its lateral aspect, and involves the skin and subcutaneous tissue at its medial aspect.\\n\\n.LOCATIONExtremity\\n.INJURYFirearm injury.\\n.INJURYDESC.\\nOn the lateral aspect of the palm of the left hand is a gaping, stellate laceration without marginal abrasion, measuring up to 2 inches in greatest dimension. There is a corresponding, gaping, linear laceration without marginal abrasion overlying the base of the left index finger. The metacarpal bones and proximal phalanges of the index and middle fingers are fractured. Numerous variably-sized metal and plastic fragments, including wires, are embedded within the hand.\\n\\n.LOCATIONHead\\n.INJURYFirearm injury.\\n.INJURYDESC.\\nOn the left forehead is a collection of variably-sized abrasions and superficial lacerations, with individual injuries ranging from punctate to 1/4 inch in greatest dimension. Some of the superficial lacerations contain white particles.\\n\\n.LOCATIONTrunk\\n.INJURYBlunt injury.\\n.INJURYDESC.\\nOn the upper left abdomen and lower left back are linear abrasions, measuring 2-1/2 and 1-1/2 inches respectively.\\n\\n.LOCATIONOther\\n.INJURYOther.\\n.INJURYDESC.\\nNOTE: The wounds are described in an arbitrary order which does not imply sequence or severity.  Wound tracks are described for a body at rest in the anatomic position.\\n\\n.LOCATIONTrunk\\n.INJURYOther.\\n.INJURYDESC.\\nOn the lateral left shoulder, centered approximately 9 inches below the top of the head and 11 inches left of anterior midline, is a 3 x 1 inch, gaping defect with sharp, somewhat irregular edges and without marginal abrasion. The skin surrounding this wound shows no injuries. The wound involves the skin and subcutaneous fat.\""
      ]
     },
     "execution_count": 6,
     "metadata": {},
     "output_type": "execute_result"
    }
   ],
   "source": [
    "df['text'][1]"
   ]
  },
  {
   "cell_type": "code",
   "execution_count": 7,
   "metadata": {},
   "outputs": [
    {
     "data": {
      "text/plain": [
       "'\\n.MICRO.\\nHEART:  The left ventricle demonstrates geographic fibrosis consistent with a remote infarction.  Myocyte hypertrophy is present, as well as perivascular fibrosis and interstitial fibrosis outside the area of infarction.  Patchy fibrosis is present within the interventricular septum, consistent with remote infarction.  \\n\\nKIDNEY:  Sclerotic glomeruli, arteriolosclerosis, tubular atrophy, interstitial fibrosis and patchy lymphocytic inflammatory interstitial infiltrate present.  Polarized light examination demonstrates finely refractile fragments diffusely, involving all compartments, as well as larger aggregates of polarizable material located within tubules and vessels.  \\n\\nLIVER:  Cirrhosis present, demonstrated by islands of hepatocytes separated by strands of fibrosis.  Bile ductular proliferation present, as well as increased lymphoplasmacytic inflammatory infiltrate without interface activity.  Zone 3 necrosis present.  Fine miniscule polarizable fragments present within vasculature.\\n\\nSUBDURAL MEMBRANE, POSTERIOR FOSSA:  The subdural membrane is approximately equal in thickness to the native dura mater, and consists of abundant hemosiderin-laden macrophages, fibroblasts, sinusoidal capillaries and degenerating erythrocytes.  \\n\\nLUNG:  Autolysis present;  Focal mucin containing polymorphonuclear cells present within bronchiole lumen.  Scattered plant material present within bronchioles.  The right lung contains intraalveolar polymorphonuclear cells, hyaline membranes and fibrin deposition.  Polarized light examination demonstrates intravascular fragments of refractile foreign material.\\n\\n\\n\\n\\n\\n\\n\\n\\n\\n.LOCATIONAbdomen\\n.INJURYBlunt injury.\\n.INJURYDESC.\\nThe left lower quadrant is remarkable for a purple 6.0 cm contusion.  '"
      ]
     },
     "execution_count": 7,
     "metadata": {},
     "output_type": "execute_result"
    }
   ],
   "source": [
    "df['text'][0]"
   ]
  },
  {
   "cell_type": "code",
   "execution_count": 8,
   "metadata": {},
   "outputs": [
    {
     "data": {
      "text/plain": [
       "'\\n.MICRO.\\nNONE\\n.LOCATIONHead\\n.INJURYFirearm injury.\\n.INJURYDESC.\\nEntrance:\\n\\nWithin the oral cavity on the soft palate, slightly left of the midline, is an entrance gunshot wound consisting of an oval defect.  Soot and unburned gunpowder particles are visible on the mucosa surrounding the wound.\\n\\nPath:\\n\\nThe hemorrhagic wound track sequentially perforates the mucosa of the soft palate, maxilla, left side of the clivus, pons, midbrain, left basal ganglia and left parietal lobe .  \\n\\nAssociated injuries include approximately 50 ml of clotted subdural hemorrhage overlying the left posterior cerebral convexity; left inferior frontal and temporal subarachnoid hemorrhage; inferior cerebellar subarachnoid hemorrhage; laceration of the left occipital lobe; fractures of the clivus, left and right anterior cranial fossae, and right parietal and temporal bones on the calvarium; a hinge-type basal skull fracture; and hemoaspiration.\\n\\nExit:\\n\\nNo exit.\\n\\nRecovery:\\n\\nRecovered in the posterior left parietal lobe is an 82.2 grain, copper jacket lead missile and fragments.\\n\\nTrajectory:\\n\\nThe wound track travels from the decedentâ\\x80\\x99s front to back, slightly right to left and upward.\\n'"
      ]
     },
     "execution_count": 8,
     "metadata": {},
     "output_type": "execute_result"
    }
   ],
   "source": [
    "df['text'][2]"
   ]
  },
  {
   "cell_type": "code",
   "execution_count": 9,
   "metadata": {},
   "outputs": [
    {
     "data": {
      "text/plain": [
       "'\\n.MICRO.\\nNONE\\n.LOCATIONHead and neck\\n.INJURYBlunt injury.\\n.INJURYDESC.\\nBLUNT FORCE INJURIES OF HEAD AND NECK\\nScattered on the right and left forehead are dried red-orange abrasions.  On the right frontal scalp is a full-thickness laceration (1 x Â½ inches) with a visible underlying skull fracture. Blood exudes from the right external auditory meatus. Scattered dried red-orange abrasions are on the nose, left lateral upper face, right cheek, temple, posterior auricular region and right anterolateral neck. A confluent dried red-brown abrasion overlies the majority of the right chin and left submentum. Overlying the majority of the right lateral neck is a red oval contusion. There are intraoral contusions of the upper and lower labial mucosa.\\n\\nThe calvarium and upper facial bones, including the nose are palpably fractured. The maxilla and mandible have fractures, some with oral mucosal lacerations.  The cervical spine is palpably fractured.\\n\\n\\n.LOCATIONTrunk\\n.INJURYBlunt injury.\\n.INJURYDESC.\\nBLUNT FORCE INJURIES OF TORSO \\nThere are scattered irregular abrasions of the anterior left chest, left axilla and left abdomen. A confluent brown abrasion obliquely overlies the majority of the right lower abdomen and pelvis, crossing midline and trailing off on the left lower abdomen. Dried brown confluent abrasions and contusions overly the majority of the right upper and lateral chest, back, buttock and thigh. On the left lateral proximal thigh is a 4 x 2 inch area of abrasions. On the right upper lateral chest, superior to the breast, is a gaping oblique wound (approximately 6 x 1 inches) with features of blunt and sharp force that transects the pectoralis muscle with sharp margins of the muscle and tissue bridging of the deep soft tissue of the chest wall; the wound margins are abraded. \\n\\nThe bilateral clavicles are palpably fractured with a laceration overlying the right clavicular fracture. The upper thoracic vertebral column has palpable crepitance. \\n\\n\\n.LOCATIONExtremities\\n.INJURYBlunt injury.\\n.INJURYDESC.\\nBLUNT FORCE INJURIES OF EXTREMITIES\\n\\nUPPER EXTREMITIES\\n\\nThere are multiple scattered abrasions overlying the majority of the right posterior upper arm, clustered on the right posterior forearm, and abrasions and contusions of the distal right posterior forearm and hand.  A laceration is on the left posterior upper arm.\\n\\nThere are fracture deformities of the left humerus and right forearm (compound fracture). \\n\\nLOWER EXTREMITIES\\n\\nScattered abrasions overlie the bilateral anterior thighs.  On the right proximal thigh is a full thickness laceration measuring less than 2 inches in greatest dimension.  There are scattered abrasions and contusions on the left shin, dorsal foot and medial ankle. Scattered abrasions are on the right lateral knee and lateral lower leg. Confluent abrasions are on the right lateral pelvis and thigh. Clusters of abrasions are on the left lateral knee, lateral ankle and foot. \\n\\nThe right lower extremity is external rotated and shortened. \\n'"
      ]
     },
     "execution_count": 9,
     "metadata": {},
     "output_type": "execute_result"
    }
   ],
   "source": [
    "df['text'][4]"
   ]
  },
  {
   "cell_type": "code",
   "execution_count": 10,
   "metadata": {},
   "outputs": [
    {
     "data": {
      "text/plain": [
       "'\\n.MICRO.\\nHeart: negative\\n\\nLungs: congestion\\n\\nLiver: moderate chronic periportal inflammation\\n\\nKidney: negative\\n\\nSpinal cord: Hemorrhage\\n.LOCATIONNeck\\n.INJURYFirearm injury.\\n.INJURYDESC.\\nOn the left lateral neck centered 17 cm below the top of the head, 4.5 cm directly below the left ear canal and 10 cm to the left of the posterior midline as measured around the curvature of the neck is an oval 1.0 x 0.7 cm gunshot entrance wound. \\nSurrounding the wound is an oval dense area of powder stippling measuring 8 cm in vertical axis and 6 cm in horizontal axis. The stippling involves the left side of the neck and the inferior portion of the left ear.\\n\\nSubsequent autopsy reveals a perforating gunshot wound of the neck.  The bullet  goes through the musculature of the left side of the neck and strikes the posterior third cervical vertebrae causing fractures of the vertebrae and hemorrhage into the surrounding ligaments and muscles. The bullet then goes through the musculature of the right side of the neck and exits the posterior lateral right side of the neck creating a 1.4 cm slit like exit wound. \\n\\nThe exit wound is centered 18 cm below the top of the head and 5 cm from the posterior midline of the neck as measured around the curvature of the neck.\\n\\nThe trajectory of the bullet is from left to right, slightly backward and slightly downward.\\n\\nAssociated injuries include compression, laceration and hemorrhage of the cervical spinal cord.\\n\\nRecovered from the ligaments and musculature surrounding the third cervical vertebrae are two pieces of copper bullet jacket weighing in aggregate 5.4 grains.\\n\\n.LOCATIONBack\\n.INJURYBlunt injury.\\n.INJURYDESC.\\nOn the upper back and the back of the right shoulder and extending onto the back of the neck is a 20 x 15 cm area of discontinuous irregular abrasions.\\n\\n.LOCATIONAbdomen\\n.INJURYBlunt injury.\\n.INJURYDESC.\\nOn the right side of the abdomen are two small faint brown contusions.\\n\\n.LOCATIONExtremity\\n.INJURYBlunt injury.\\n.INJURYDESC.\\nThere are numerous faint red to brown contusion of both thighs and both lower legs (shins). \\n\\n.LOCATIONExtremity\\n.INJURYIllicit substance use.\\n.INJURYDESC.\\nThere is a 1.5 cm needle track scar of the right antecubital fossa.\\n\\n.LOCATIONHead\\n.INJURYBlunt injury.\\n.INJURYDESC.\\nOn the right superior occipital/parietal  scalp is a 3.5 x 3.0 oval abrasion with no underlying subscalpular contusion.'"
      ]
     },
     "execution_count": 10,
     "metadata": {},
     "output_type": "execute_result"
    }
   ],
   "source": [
    "df['text'][3038]"
   ]
  },
  {
   "cell_type": "code",
   "execution_count": 11,
   "metadata": {},
   "outputs": [
    {
     "data": {
      "text/plain": [
       "'\\n.MICRO.\\nHEART:  Myocyte hypertrophy\\n\\nLIVER:  Minimal steatosis\\n\\nLUNG:  No significant histopathologic abnormalities.\\n\\nKIDNEY: No significant histopathologic abnormalities.\\n\\nSKIN:  No evidence of soot is present on the skin of the entrance wound margin.\\n.LOCATIONHead\\n.INJURYBlunt injury.\\n.INJURYDESC.\\nEXTERNAL\\nA 2.5 x 0.5 cm red abrasion is on the superior lateral left orbit.\\n\\nA 2 x 1 cm scaphoid red abrasion is on the inferior lateral left orbit.\\n\\nA 4 x 2 cm roughly rectangular red abrasion is on the left cheek.\\n\\nA 10 x 5 cm roughly rectangular vertical red abrasion is on the lateral left mandible.\\n\\nA 3.5 x 2 cm red abrasion is on the superior left pinna, associated with a 2 cm laceration in the crux of the helix.\\n\\nINTERNAL\\nA displaced fracture is palpable in the anterior right mandible. \\n\\n.LOCATIONBack\\n.INJURYBlunt injury.\\n.INJURYDESC.\\nA 3.5 x 1 cm red abrasion is on the posterior right shoulder.\\n\\n.LOCATIONExtremities\\n.INJURYBlunt injury.\\n.INJURYDESC.\\nA 5.5 x 2 cm vertical red abrasion is on the anterior right arm, associated with an 8 x 4 cm blue contusion. \\n\\n.LOCATIONOther\\n.INJURYOther.\\n.INJURYDESC.\\nMEDICAL INTERVENTION\\n\\nAnterior-lateral fractures are in the right 4th through 6th ribs and the left 6th rib.\\n\\n.LOCATIONHead\\n.INJURYFirearm injury.\\n.INJURYDESC.\\nGUNSHOT WOUND OF HEAD, INDETERMINATE RANGE: \\n\\nEntrance:\\n\\nOn the left preauricular skin, 12 cm below the top of the head, 13.5 cm left of the anterior midline, and 4 cm below the top of the left ear is an entrance gunshot wound consisting of a 1.5 x 0.9 cm oval defect with circumferential pink marginal abrasion, up to 0.1 cm wide, associated with black drying. Soot, unburned gunpowder particles and gunpowder stippling are not visible on the skin surrounding the wound. \\n\\nPath:\\n\\nThe hemorrhagic wound track sequentially perforates the left preauricular skin and soft tissue, left temporal bone, dura mater, left temporal lobe, left parietal lobe, dura mater, right parietal calvarium, and the right parietal scalp.\\n\\nAssociated injuries: \\nAssociated injuries include left temporal and bilateral occipital subgaleal and subscalpular hemorrhages, bilateral posterior cranial fossae fractures, hinge fracture through the middle cranial fossae, bilateral anterior cranial fossae fractures, bilateral occipital and left temporal calvarial fractures, diffuse subarachnoid hemorrhage, and bilateral periorbital ecchymoses. \\n\\nExit:\\n\\nOn the right parietal scalp, 6 cm below the top of the head, 1 cm right of the posterior midline, and 11 cm above the top of the right ear, is an exit gunshot wound consisting of a 1.5 cm laceration without marginal abrasion. \\n\\nTrajectory:\\n\\nThe wound track travels from the decedentâ\\x80\\x99s front to back, left to right and upward.\\n'"
      ]
     },
     "execution_count": 11,
     "metadata": {},
     "output_type": "execute_result"
    }
   ],
   "source": [
    "df['text'][3040]"
   ]
  },
  {
   "cell_type": "code",
   "execution_count": 12,
   "metadata": {},
   "outputs": [
    {
     "data": {
      "text/plain": [
       "'\\n.MICRO.\\nNONE\\n.LOCATIONHead and neck\\n.INJURYBlunt injury.\\n.INJURYDESC.\\nMultiple lacerations are on the scalp. A 2.5 x 0.4  cm and 0.3 cm deep laceration is on the right parietal scalp, near the vertex. The right occipital scalp has a 2.5 x 1.1 cm and 0.3 cm deep laceration. Also on the occipital scalp, is a superficial 1 x 0.6 cm laceration.  A laceration is behind the ear, measuring 1.8 x 1.5 cm. Multiple red abrasions are present on the left face with the largest measuring 2.2 x 0.8 cm below the left eye.\\n\\nThe calvarium and facial bones are palpably intact.\\n\\nThe neck has scattered red contusions, measuring up to 4 cm in greatest dimension.\\n\\n\\n.LOCATIONTrunk\\n.INJURYBlunt injury.\\n.INJURYDESC.\\nThe chest is asymmetrical. \\n\\nScattered red abrasions are on the chest and abdomen, ranging from 0.1 to 2 cm. \\n\\nA large, red abrasion spans across the shoulders, mid back, and right lower back, involving approximately 65% of the posterior trunk surface area. A15 x 9 cm, red-pink contusion is on the left shoulder and upper back. \\n\\nMultiple posterior rib, scapular, and spine fractures are palpable.\\n\\n.LOCATIONExtremities\\n.INJURYBlunt injury.\\n.INJURYDESC.\\nScattered purple and blue contusions are on the extremities.\\n\\nThe right upper extremity has two large abrasions involving the anterior surface of the arm and forearm, measuring 21 x 7.5 cm and 23 x 7.5 cm. The posterior right arm and forearm have numerous red abrasions, ranging from 0.2 to 5 cm. The right forearm is palpably fractured. The dorsum of the right hand has scattered, red abrasions. The palmar aspect of the hand has superficial lacerations, measuring up to 2 cm in greatest dimension.\\n\\nThe left humerus is palpably fractured with an overlying 7 x 5 cm red abrasion. Multiple red abrasions, measuring up to 7 cm in greatest dimension, are on the left posterior forearm. The distal left forearm is fractured. The dorsum of the left hand has scattered red abrasions, measuring up to 1.5 cm in greatest dimension.  The palmar aspect demonstrates superficial lacerations.\\n\\nThe right lateral thigh contains yellow-orange abrasions extending approximately 40 cm from the hip to the knee. The posterior thigh has a 11 x 2 cm, red abrasion. An 18.5 x 7 cm, gaping laceration of the right anterior lower leg exposes muscle and bone. A right fibular fracture is present. The lateral lower leg has a 2.5 x 1 cm laceration that exposes subcutaneous tissue. The dorsum of the foot has multiple crusted red abrasions with underlying crepitus.\\n\\nThe left thigh has multiple red abrasions, measuring up to 4 cm. The left femur has a compound fracture with bone visible underlying a 7.5 x 7 cm laceration.\\n\\n.LOCATIONOther\\n.INJURYOther.\\n.INJURYDESC.\\nPlease refer to the \"postmortem computed tomography\" section for a description of injuries detected by computed tomography scans. '"
      ]
     },
     "execution_count": 12,
     "metadata": {},
     "output_type": "execute_result"
    }
   ],
   "source": [
    "df['text'][3041]"
   ]
  },
  {
   "cell_type": "code",
   "execution_count": 13,
   "metadata": {},
   "outputs": [],
   "source": [
    "bs=32"
   ]
  },
  {
   "cell_type": "code",
   "execution_count": null,
   "metadata": {},
   "outputs": [],
   "source": [
    "\n"
   ]
  },
  {
   "cell_type": "code",
   "execution_count": null,
   "metadata": {},
   "outputs": [],
   "source": []
  },
  {
   "cell_type": "code",
   "execution_count": 14,
   "metadata": {},
   "outputs": [],
   "source": [
    "data_clas = TextClasDataBunch.from_csv(path, 'data.csv',  bs=bs)"
   ]
  },
  {
   "cell_type": "code",
   "execution_count": 15,
   "metadata": {},
   "outputs": [
    {
     "data": {
      "text/html": [
       "<table>  <col width='90%'>  <col width='10%'>  <tr>\n",
       "    <th>text</th>\n",
       "    <th>target</th>\n",
       "  </tr>\n",
       "  <tr>\n",
       "    <th>xxbos \\n xxup .micro . \\n xxmaj heart - no significant histopathology \\n\\n xxmaj lungs - patchy extravasation of red blood cells into the intra - alveolar space \\n\\n xxmaj kidneys - no significant histopathology \\n\\n xxmaj liver - no significant histopathology \\n\\n xxmaj hippocampus - no significant histopathology \\n\\n xxmaj xxunk - vaginal , anal , and oral smears negative for xxunk components . \\n .locationhead and neck \\n</th>\n",
       "    <th>Homicide</th>\n",
       "  </tr>\n",
       "  <tr>\n",
       "    <th>xxbos \\n xxup .micro . \\n xxup heart - xxmaj no significant histopathology \\n\\n xxup lungs - xxmaj focal areas of collapsed parenchyma , intra - alveolar hemorrhage and scattered hemosiderin laden macrophages . \\n\\n xxup liver - xxmaj multifocal lymphocytic infiltrates in portal tracts . \\n\\n xxup kidney - xxmaj no significant histopathology . \\n\\n xxup brain ( left hippocampus ) - xxmaj subarachnoid hemorrhage \\n .locationextremity \\n .injuryblunt</th>\n",
       "    <th>Homicide</th>\n",
       "  </tr>\n",
       "  <tr>\n",
       "    <th>xxbos \\n xxup .micro . \\n xxmaj lung : xxmaj atelectasis . xxmaj foci of intralveolar erythrocytes . \\n\\n xxmaj heart : xxmaj left ventricular myocyte hypertrophy . \\n\\n xxmaj liver : xxmaj severe steatosis . xxmaj multifocal intralobular chronic inflammation . \\n\\n xxmaj kidney : xxmaj occasional sclerotic glomeruli . \\n\\n xxmaj brain : xxmaj no significant histopathologic diagnosis . \\n .locationextremity \\n .injuryother . \\n xxup .injurydesc .</th>\n",
       "    <th>Homicide</th>\n",
       "  </tr>\n",
       "  <tr>\n",
       "    <th>xxbos \\n xxup .micro . \\n xxmaj heart , xxmaj lungs , xxmaj kidney , xxmaj brain : \\n xxmaj no significant histopathology \\n\\n xxmaj liver : \\n xxmaj severe macrovesicular steatosis ; multifocal delicate bands of fibrosis bridging between portal tracts without complete nodule formation \\n\\n .locationother \\n .injuryother . \\n xxup .injurydesc . \\n xxmaj the injuries are arbitrarily assigned letters to correlate with photos and possible diagrams</th>\n",
       "    <th>Homicide</th>\n",
       "  </tr>\n",
       "  <tr>\n",
       "    <th>xxbos \\n xxup .micro . \\n xxup heart : extensive autolysis without specific histopathologic diagnosis \\n\\n xxup lung : extensive autolysis without specific histopathologic diagnosis \\n\\n xxup liver : extensive autolysis with vague bridging fibrosis / early cirrhosis and lobular steatosis in a background of extensive postmortem degeneration \\n\\n xxup kidney : extensive autolysis without specific histopathologic diagnosis \\n\\n .locationchest \\n .injuryfirearm injury . \\n xxup .injurydesc . \\n xxup</th>\n",
       "    <th>Homicide</th>\n",
       "  </tr>\n",
       "</table>\n"
      ],
      "text/plain": [
       "<IPython.core.display.HTML object>"
      ]
     },
     "metadata": {},
     "output_type": "display_data"
    }
   ],
   "source": [
    "data_clas.show_batch()"
   ]
  },
  {
   "cell_type": "code",
   "execution_count": 16,
   "metadata": {},
   "outputs": [],
   "source": [
    "learn = text_classifier_learner(data_clas, drop_mult=0.5, qrnn=True, emb_sz=300, nh=2000, nl=4)\n",
    "\n",
    "learn.freeze()"
   ]
  },
  {
   "cell_type": "code",
   "execution_count": 17,
   "metadata": {},
   "outputs": [
    {
     "data": {
      "text/html": [
       "Total time: 00:25 <p><table style='width:300px; margin-bottom:10px'>\n",
       "  <tr>\n",
       "    <th>epoch</th>\n",
       "    <th>train_loss</th>\n",
       "    <th>valid_loss</th>\n",
       "    <th>accuracy</th>\n",
       "  </tr>\n",
       "  <tr>\n",
       "    <th>1</th>\n",
       "    <th>1.079319</th>\n",
       "    <th>1.128068</th>\n",
       "    <th>0.577456</th>\n",
       "  </tr>\n",
       "</table>\n"
      ],
      "text/plain": [
       "<IPython.core.display.HTML object>"
      ]
     },
     "metadata": {},
     "output_type": "display_data"
    }
   ],
   "source": [
    "learn.fit_one_cycle(1, 2e-2, moms=(0.8,0.7))"
   ]
  },
  {
   "cell_type": "code",
   "execution_count": 18,
   "metadata": {},
   "outputs": [
    {
     "data": {
      "text/html": [
       "Total time: 00:23 <p><table style='width:300px; margin-bottom:10px'>\n",
       "  <tr>\n",
       "    <th>epoch</th>\n",
       "    <th>train_loss</th>\n",
       "    <th>valid_loss</th>\n",
       "    <th>accuracy</th>\n",
       "  </tr>\n",
       "  <tr>\n",
       "    <th>1</th>\n",
       "    <th>1.095371</th>\n",
       "    <th>1.140185</th>\n",
       "    <th>0.577456</th>\n",
       "  </tr>\n",
       "</table>\n"
      ],
      "text/plain": [
       "<IPython.core.display.HTML object>"
      ]
     },
     "metadata": {},
     "output_type": "display_data"
    }
   ],
   "source": [
    "learn.fit_one_cycle(1, 2e-2, moms=(0.8,0.7))"
   ]
  },
  {
   "cell_type": "code",
   "execution_count": 19,
   "metadata": {},
   "outputs": [
    {
     "data": {
      "text/html": [
       "Total time: 00:25 <p><table style='width:300px; margin-bottom:10px'>\n",
       "  <tr>\n",
       "    <th>epoch</th>\n",
       "    <th>train_loss</th>\n",
       "    <th>valid_loss</th>\n",
       "    <th>accuracy</th>\n",
       "  </tr>\n",
       "  <tr>\n",
       "    <th>1</th>\n",
       "    <th>0.908933</th>\n",
       "    <th>22.184347</th>\n",
       "    <th>0.561713</th>\n",
       "  </tr>\n",
       "</table>\n"
      ],
      "text/plain": [
       "<IPython.core.display.HTML object>"
      ]
     },
     "metadata": {},
     "output_type": "display_data"
    }
   ],
   "source": [
    "learn.freeze_to(-2)\n",
    "learn.fit_one_cycle(1, slice(1e-2/(2.6**4),1e-2), moms=(0.8,0.7))"
   ]
  },
  {
   "cell_type": "code",
   "execution_count": 20,
   "metadata": {},
   "outputs": [
    {
     "data": {
      "text/html": [
       "Total time: 00:35 <p><table style='width:300px; margin-bottom:10px'>\n",
       "  <tr>\n",
       "    <th>epoch</th>\n",
       "    <th>train_loss</th>\n",
       "    <th>valid_loss</th>\n",
       "    <th>accuracy</th>\n",
       "  </tr>\n",
       "  <tr>\n",
       "    <th>1</th>\n",
       "    <th>0.825491</th>\n",
       "    <th>2.885046</th>\n",
       "    <th>0.578086</th>\n",
       "  </tr>\n",
       "</table>\n"
      ],
      "text/plain": [
       "<IPython.core.display.HTML object>"
      ]
     },
     "metadata": {},
     "output_type": "display_data"
    }
   ],
   "source": [
    "learn.freeze_to(-3)\n",
    "learn.fit_one_cycle(1, slice(5e-3/(2.6**4),5e-3), moms=(0.8,0.7))"
   ]
  },
  {
   "cell_type": "code",
   "execution_count": 21,
   "metadata": {},
   "outputs": [
    {
     "data": {
      "text/html": [
       "Total time: 01:57 <p><table style='width:300px; margin-bottom:10px'>\n",
       "  <tr>\n",
       "    <th>epoch</th>\n",
       "    <th>train_loss</th>\n",
       "    <th>valid_loss</th>\n",
       "    <th>accuracy</th>\n",
       "  </tr>\n",
       "  <tr>\n",
       "    <th>1</th>\n",
       "    <th>0.669828</th>\n",
       "    <th>0.656347</th>\n",
       "    <th>0.785264</th>\n",
       "  </tr>\n",
       "  <tr>\n",
       "    <th>2</th>\n",
       "    <th>0.648993</th>\n",
       "    <th>0.656862</th>\n",
       "    <th>0.780227</th>\n",
       "  </tr>\n",
       "</table>\n"
      ],
      "text/plain": [
       "<IPython.core.display.HTML object>"
      ]
     },
     "metadata": {},
     "output_type": "display_data"
    }
   ],
   "source": [
    "learn.unfreeze()\n",
    "learn.fit_one_cycle(2, slice(1e-3/(2.6**4),1e-3), moms=(0.8,0.7))"
   ]
  },
  {
   "cell_type": "code",
   "execution_count": 22,
   "metadata": {},
   "outputs": [
    {
     "data": {
      "text/html": [
       "Total time: 19:55 <p><table style='width:300px; margin-bottom:10px'>\n",
       "  <tr>\n",
       "    <th>epoch</th>\n",
       "    <th>train_loss</th>\n",
       "    <th>valid_loss</th>\n",
       "    <th>accuracy</th>\n",
       "  </tr>\n",
       "  <tr>\n",
       "    <th>1</th>\n",
       "    <th>0.677506</th>\n",
       "    <th>0.650163</th>\n",
       "    <th>0.785894</th>\n",
       "  </tr>\n",
       "  <tr>\n",
       "    <th>2</th>\n",
       "    <th>0.563856</th>\n",
       "    <th>0.602689</th>\n",
       "    <th>0.794081</th>\n",
       "  </tr>\n",
       "  <tr>\n",
       "    <th>3</th>\n",
       "    <th>0.656383</th>\n",
       "    <th>0.613441</th>\n",
       "    <th>0.819899</th>\n",
       "  </tr>\n",
       "  <tr>\n",
       "    <th>4</th>\n",
       "    <th>0.690384</th>\n",
       "    <th>0.621027</th>\n",
       "    <th>0.801637</th>\n",
       "  </tr>\n",
       "  <tr>\n",
       "    <th>5</th>\n",
       "    <th>0.580423</th>\n",
       "    <th>0.587764</th>\n",
       "    <th>0.800378</th>\n",
       "  </tr>\n",
       "  <tr>\n",
       "    <th>6</th>\n",
       "    <th>0.600731</th>\n",
       "    <th>0.577212</th>\n",
       "    <th>0.824307</th>\n",
       "  </tr>\n",
       "  <tr>\n",
       "    <th>7</th>\n",
       "    <th>0.612046</th>\n",
       "    <th>0.691621</th>\n",
       "    <th>0.776448</th>\n",
       "  </tr>\n",
       "  <tr>\n",
       "    <th>8</th>\n",
       "    <th>0.576797</th>\n",
       "    <th>0.590684</th>\n",
       "    <th>0.843199</th>\n",
       "  </tr>\n",
       "  <tr>\n",
       "    <th>9</th>\n",
       "    <th>0.585438</th>\n",
       "    <th>0.595116</th>\n",
       "    <th>0.839421</th>\n",
       "  </tr>\n",
       "  <tr>\n",
       "    <th>10</th>\n",
       "    <th>0.555232</th>\n",
       "    <th>0.623191</th>\n",
       "    <th>0.831864</th>\n",
       "  </tr>\n",
       "  <tr>\n",
       "    <th>11</th>\n",
       "    <th>0.548798</th>\n",
       "    <th>0.598046</th>\n",
       "    <th>0.815491</th>\n",
       "  </tr>\n",
       "  <tr>\n",
       "    <th>12</th>\n",
       "    <th>0.516083</th>\n",
       "    <th>0.566996</th>\n",
       "    <th>0.857053</th>\n",
       "  </tr>\n",
       "  <tr>\n",
       "    <th>13</th>\n",
       "    <th>0.491725</th>\n",
       "    <th>0.531150</th>\n",
       "    <th>0.850756</th>\n",
       "  </tr>\n",
       "  <tr>\n",
       "    <th>14</th>\n",
       "    <th>0.538027</th>\n",
       "    <th>0.569145</th>\n",
       "    <th>0.852015</th>\n",
       "  </tr>\n",
       "  <tr>\n",
       "    <th>15</th>\n",
       "    <th>0.459531</th>\n",
       "    <th>0.600682</th>\n",
       "    <th>0.807935</th>\n",
       "  </tr>\n",
       "  <tr>\n",
       "    <th>16</th>\n",
       "    <th>0.502544</th>\n",
       "    <th>0.540870</th>\n",
       "    <th>0.857053</th>\n",
       "  </tr>\n",
       "  <tr>\n",
       "    <th>17</th>\n",
       "    <th>0.459960</th>\n",
       "    <th>0.547192</th>\n",
       "    <th>0.830605</th>\n",
       "  </tr>\n",
       "  <tr>\n",
       "    <th>18</th>\n",
       "    <th>0.451205</th>\n",
       "    <th>0.531086</th>\n",
       "    <th>0.845088</th>\n",
       "  </tr>\n",
       "  <tr>\n",
       "    <th>19</th>\n",
       "    <th>0.532719</th>\n",
       "    <th>0.545189</th>\n",
       "    <th>0.818010</th>\n",
       "  </tr>\n",
       "  <tr>\n",
       "    <th>20</th>\n",
       "    <th>0.478562</th>\n",
       "    <th>0.526147</th>\n",
       "    <th>0.850126</th>\n",
       "  </tr>\n",
       "</table>\n"
      ],
      "text/plain": [
       "<IPython.core.display.HTML object>"
      ]
     },
     "metadata": {},
     "output_type": "display_data"
    }
   ],
   "source": [
    "learn.fit_one_cycle(20, slice(1e-3/(2.6**4),1e-3), moms=(0.8,0.7))"
   ]
  },
  {
   "cell_type": "code",
   "execution_count": 23,
   "metadata": {},
   "outputs": [],
   "source": [
    "from fastai.vision import *"
   ]
  },
  {
   "cell_type": "code",
   "execution_count": 24,
   "metadata": {},
   "outputs": [
    {
     "data": {
      "image/png": "[encoded data removed]",
      "text/plain": [
       "<Figure size 480x480 with 1 Axes>"
      ]
     },
     "metadata": {},
     "output_type": "display_data"
    }
   ],
   "source": [
    "interp = ClassificationInterpretation.from_learner(learn)\n",
    "interp.plot_confusion_matrix(figsize=(4,4), dpi=120)"
   ]
  },
  {
   "cell_type": "code",
   "execution_count": 25,
   "metadata": {},
   "outputs": [
    {
     "data": {
      "image/png": "[encoded data removed]",
      "text/plain": [
       "<Figure size 432x288 with 1 Axes>"
      ]
     },
     "metadata": {},
     "output_type": "display_data"
    }
   ],
   "source": [
    "learn.recorder.plot_losses()"
   ]
  },
  {
   "cell_type": "code",
   "execution_count": 26,
   "metadata": {},
   "outputs": [
    {
     "data": {
      "image/png": "[encoded data removed]",
      "text/plain": [
       "<Figure size 432x288 with 1 Axes>"
      ]
     },
     "metadata": {},
     "output_type": "display_data"
    }
   ],
   "source": [
    "learn.recorder.plot_metrics()"
   ]
  },
  {
   "cell_type": "code",
   "execution_count": null,
   "metadata": {},
   "outputs": [],
   "source": []
  }
 ],
 "metadata": {
  "kernelspec": {
   "display_name": "Python 3",
   "language": "python",
   "name": "python3"
  },
  "language_info": {
   "codemirror_mode": {
    "name": "ipython",
    "version": 3
   },
   "file_extension": ".py",
   "mimetype": "text/x-python",
   "name": "python",
   "nbconvert_exporter": "python",
   "pygments_lexer": "ipython3",
   "version": "3.6.5"
  }
 },
 "nbformat": 4,
 "nbformat_minor": 2
}
