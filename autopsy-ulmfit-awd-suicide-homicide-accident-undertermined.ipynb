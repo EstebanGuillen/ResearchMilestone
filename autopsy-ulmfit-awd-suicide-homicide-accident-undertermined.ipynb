{
 "cells": [
  {
   "cell_type": "code",
   "execution_count": 1,
   "metadata": {},
   "outputs": [],
   "source": [
    "%reload_ext autoreload\n",
    "%autoreload 2\n",
    "%matplotlib inline"
   ]
  },
  {
   "cell_type": "code",
   "execution_count": 2,
   "metadata": {},
   "outputs": [],
   "source": [
    "from fastai.text import *\n",
    "from pathlib import Path\n",
    "import pandas as pd"
   ]
  },
  {
   "cell_type": "code",
   "execution_count": 3,
   "metadata": {},
   "outputs": [],
   "source": [
    "#path = Path('/home/ubuntu/data/autopsy/milestone/no_preprocessing')\n",
    "path = Path('/home/ubuntu/data/autopsy/milestone/suicide_homicide_accident_undertermined/no_preprocessing')"
   ]
  },
  {
   "cell_type": "code",
   "execution_count": 4,
   "metadata": {},
   "outputs": [
    {
     "data": {
      "text/html": [
       "<div>\n",
       "<style scoped>\n",
       "    .dataframe tbody tr th:only-of-type {\n",
       "        vertical-align: middle;\n",
       "    }\n",
       "\n",
       "    .dataframe tbody tr th {\n",
       "        vertical-align: top;\n",
       "    }\n",
       "\n",
       "    .dataframe thead th {\n",
       "        text-align: right;\n",
       "    }\n",
       "</style>\n",
       "<table border=\"1\" class=\"dataframe\">\n",
       "  <thead>\n",
       "    <tr style=\"text-align: right;\">\n",
       "      <th></th>\n",
       "      <th>label</th>\n",
       "      <th>text</th>\n",
       "      <th>is_valid</th>\n",
       "    </tr>\n",
       "  </thead>\n",
       "  <tbody>\n",
       "    <tr>\n",
       "      <th>0</th>\n",
       "      <td>Undetermined</td>\n",
       "      <td>\\n.MICRO.\\nHEART:  The left ventricle demonstr...</td>\n",
       "      <td>False</td>\n",
       "    </tr>\n",
       "    <tr>\n",
       "      <th>1</th>\n",
       "      <td>Homicide</td>\n",
       "      <td>\\n.MICRO.\\nNONE\\n.LOCATIONTrunk\\n.INJURYFirear...</td>\n",
       "      <td>False</td>\n",
       "    </tr>\n",
       "    <tr>\n",
       "      <th>2</th>\n",
       "      <td>Suicide</td>\n",
       "      <td>\\n.MICRO.\\nNONE\\n.LOCATIONHead\\n.INJURYFirearm...</td>\n",
       "      <td>False</td>\n",
       "    </tr>\n",
       "    <tr>\n",
       "      <th>3</th>\n",
       "      <td>Accident</td>\n",
       "      <td>\\n.MICRO.\\nHeart-Mild myocyte hypertrophy. \\n\\...</td>\n",
       "      <td>False</td>\n",
       "    </tr>\n",
       "    <tr>\n",
       "      <th>4</th>\n",
       "      <td>Accident</td>\n",
       "      <td>\\n.MICRO.\\nNONE\\n.LOCATIONHead and neck\\n.INJU...</td>\n",
       "      <td>False</td>\n",
       "    </tr>\n",
       "  </tbody>\n",
       "</table>\n",
       "</div>"
      ],
      "text/plain": [
       "          label                                               text  is_valid\n",
       "0  Undetermined  \\n.MICRO.\\nHEART:  The left ventricle demonstr...     False\n",
       "1      Homicide  \\n.MICRO.\\nNONE\\n.LOCATIONTrunk\\n.INJURYFirear...     False\n",
       "2       Suicide  \\n.MICRO.\\nNONE\\n.LOCATIONHead\\n.INJURYFirearm...     False\n",
       "3      Accident  \\n.MICRO.\\nHeart-Mild myocyte hypertrophy. \\n\\...     False\n",
       "4      Accident  \\n.MICRO.\\nNONE\\n.LOCATIONHead and neck\\n.INJU...     False"
      ]
     },
     "execution_count": 4,
     "metadata": {},
     "output_type": "execute_result"
    }
   ],
   "source": [
    "df = pd.read_csv(path/'data.csv')\n",
    "df.head()"
   ]
  },
  {
   "cell_type": "code",
   "execution_count": 5,
   "metadata": {},
   "outputs": [
    {
     "data": {
      "text/plain": [
       "\"\\n.MICRO.\\nNONE\\n.LOCATIONTrunk\\n.INJURYFirearm injury.\\n.INJURYDESC.\\nEntrance: On the left back, centered approximately 14 inches below the top of the head and 10-1/2 inches left of posterior midline, is an entrance gunshot wound, consisting of a 1/2 inch round defect with circumferential, 1/8 inch dark red marginal abrasion and a rim of purple marginal contusion. No soot, stippling, or unburned gunpowder particles are visible on the skin surrounding this wound.\\n\\nExit: None.\\n\\nTerminus: The wound track terminates in the tip of the left scapula.\\n\\nPath: The hemorrhagic wound track involves the skin and soft tissue of the left back and the left scapula.\\n\\nAssociated findings: The left scapula is fractured.\\n\\nRecovery: A copper jacketed missile is recovered from within the left scapula.\\n\\nTrajectory: The wound track travels from the decedent's back to front, left to right, and downward.\\n\\n\\n\\n\\n\\n\\n.LOCATIONTrunk\\n.INJURYFirearm injury.\\n.INJURYDESC.\\nEntrance: On the left back, centered approximately 18 inches below the top of the head and 10 inches left of posterior midline, is an entrance gunshot wound, consisting of a 1/2 inch round defect at the medial edge of a 1-1/2 x 1/2 inch abrasion. No soot, stippling, or unburned gunpowder particles are visible on the skin surrounding this wound.\\n\\nExit: None.\\n\\nTerminus: The wound track terminates in the peri-aortic tissue of the posterior mediastinum.\\n\\nPath: The hemorrhagic wound track involves the skin and soft tissue of the left back, the 9th rib posteriorly, the proximal descending aorta, and the posterior and anterior aspects of the upper lobe of the left lung.\\n\\nAssociated findings: The aorta shows transverse lacerations on its anterolateral and posteromedial aspects. There are approximately 2000 ml of blood and blood clot within the left chest cavity.\\n\\nRecovery: A copper jacketed missile is recovered from within the mediastinal soft tissue.\\n\\nTrajectory: The wound track travels from the decedent's back to front, left to right, and downward.\\n\\n\\n\\n.LOCATIONExtremity\\n.INJURYFirearm injury.\\n.INJURYDESC.\\nEntrance: On the left arm, centered approximately 8 inches below the acromion process and 2 inches left of the posterior midline of the left arm, is an entrance gunshot wound, consisting of a 1/2 inch round defect with 1/8 inch, circumferential, dark red marginal abrasion. No soot, stippling, or unburned gunpowder particles are visible on the skin surrounding this wound.\\n\\nExit: On the left arm, centered approximately 14 inches below the acromion process and 4 inches left of the posterior midline of the arm, is an exit gunshot wound, consisting of a 3 inch, angled laceration without marginal abrasion. The skin surrounding this wound shows numerous linear abrasions, each measuring up to 2 inches in length.\\n\\nPath: The hemorrhagic wound track involves the skin and soft tissue of the left arm, as well as the humerus, radius, and ulna.\\n\\nAssociated findings: The left distal humerus and proximal radius and ulna are fractured. There are lacerations 7 inches below the acromion process and 15 inches below the acromion process, which likely represent shrapnel exit wounds.\\n\\nRecovery: None.\\n\\nTrajectory: The wound track travels from the decedent's right to left and downward, without significant frontward or backward deviation.\\n\\n\\n\\n.LOCATIONHead\\n.INJURYFirearm injury.\\n.INJURYDESC.\\nGrazing gunshot wounds of head: \\n\\nOn the left cheek, extending to the left pinna, is a grazing gunshot wound complex, centered approximately 6 inches below the top of the head and consisting of a 1/2 x 1/4 inch dark red abrasion centered approximately 5 inches left of anterior midline and a 1 x 1/2 inch gaping laceration of the posterior left pinna, centered approximately 6-1/2 inches left of anterior midline.\\n\\nOn the right chin is a grazing gunshot wound complex, centered approximately 8 inches below the top of the head and 2 inches right of anterior midline, and consisting of lacerations, abrasions, and surrounding purple contusion altogether measuring approximately 3 x 1/4 inches.\\n\\n\\n.LOCATIONTrunk\\n.INJURYFirearm injury.\\n.INJURYDESC.\\nGrazing gunshot wounds of torso:\\n\\nOn the left chest, centered approximately 14 inches below the top of the head and 7 inches left of anterior midline, is a grazing gunshot wound, consisting of a 1-1/4 inch superficial, gaping laceration with 1/8 inch, dark red marginal abrasion. \\n\\nOn the posterior left shoulder, centered approximately 9 inches below the top of the head and 5 inches left of posterior midline, is a grazing gunshot wound, consisting of a 3/4 x 1/2 inch gaping laceration. This wound involves only the skin at its lateral aspect, and involves the skin and subcutaneous tissue at its medial aspect.\\n\\n.LOCATIONExtremity\\n.INJURYFirearm injury.\\n.INJURYDESC.\\nOn the lateral aspect of the palm of the left hand is a gaping, stellate laceration without marginal abrasion, measuring up to 2 inches in greatest dimension. There is a corresponding, gaping, linear laceration without marginal abrasion overlying the base of the left index finger. The metacarpal bones and proximal phalanges of the index and middle fingers are fractured. Numerous variably-sized metal and plastic fragments, including wires, are embedded within the hand.\\n\\n.LOCATIONHead\\n.INJURYFirearm injury.\\n.INJURYDESC.\\nOn the left forehead is a collection of variably-sized abrasions and superficial lacerations, with individual injuries ranging from punctate to 1/4 inch in greatest dimension. Some of the superficial lacerations contain white particles.\\n\\n.LOCATIONTrunk\\n.INJURYBlunt injury.\\n.INJURYDESC.\\nOn the upper left abdomen and lower left back are linear abrasions, measuring 2-1/2 and 1-1/2 inches respectively.\\n\\n.LOCATIONOther\\n.INJURYOther.\\n.INJURYDESC.\\nNOTE: The wounds are described in an arbitrary order which does not imply sequence or severity.  Wound tracks are described for a body at rest in the anatomic position.\\n\\n.LOCATIONTrunk\\n.INJURYOther.\\n.INJURYDESC.\\nOn the lateral left shoulder, centered approximately 9 inches below the top of the head and 11 inches left of anterior midline, is a 3 x 1 inch, gaping defect with sharp, somewhat irregular edges and without marginal abrasion. The skin surrounding this wound shows no injuries. The wound involves the skin and subcutaneous fat.\""
      ]
     },
     "execution_count": 5,
     "metadata": {},
     "output_type": "execute_result"
    }
   ],
   "source": [
    "df['text'][1]"
   ]
  },
  {
   "cell_type": "code",
   "execution_count": 6,
   "metadata": {},
   "outputs": [],
   "source": [
    "bs=32"
   ]
  },
  {
   "cell_type": "code",
   "execution_count": null,
   "metadata": {},
   "outputs": [],
   "source": [
    "\n"
   ]
  },
  {
   "cell_type": "code",
   "execution_count": 7,
   "metadata": {},
   "outputs": [],
   "source": [
    "data_lm = TextLMDataBunch.from_csv(path, 'data.csv')"
   ]
  },
  {
   "cell_type": "code",
   "execution_count": 8,
   "metadata": {},
   "outputs": [
    {
     "data": {
      "text/html": [
       "<table>  <col width='5%'>  <col width='95%'>  <tr>\n",
       "    <th>idx</th>\n",
       "    <th>text</th>\n",
       "  </tr>\n",
       "  <tr>\n",
       "    <th>0</th>\n",
       "    <th>xxbos \\n xxup .micro . \\n xxup heart : xxmaj the myocardium is free of inflammatory infiltrate and necrosis . xxmaj several myocytes have hypertrophic change . \\n\\n xxup lung : xxmaj the sections of lung are free of inflammation and birefringent foreign body material . xxmaj no emphysematous change is present . \\n\\n xxup liver : xxmaj the liver shows a well - circumscribed nodule , which is entirely</th>\n",
       "  </tr>\n",
       "  <tr>\n",
       "    <th>1</th>\n",
       "    <th>posterior neck with some having a central brown pointed foreign body consistent with a xxunk . xxmaj multiple xxunk are found on in proximity to the head and neck , but not attached . xxmaj numerous xxunk are xxunk in the scalp hair . \\n\\n a 6 x 1.5 cm area of erythema is on the left upper eyelid \\n xxbos \\n xxup .micro . \\n xxup none \\n .locationhead</th>\n",
       "  </tr>\n",
       "  <tr>\n",
       "    <th>2</th>\n",
       "    <th>the left side of the chest consistent with the shape of the xxunk handle bars \\n\\n .locationback \\n .injuryblunt injury . \\n xxup .injurydesc . \\n xxmaj bruising along the lower back \\n\\n .locationextremity \\n .injuryblunt injury . \\n xxup .injurydesc . \\n xxmaj right xxmaj arm : lacerations along the lower forearm and crepitus noted around the right elbow area \\n\\n .locationextremity \\n .injuryblunt injury . \\n xxup .injurydesc</th>\n",
       "  </tr>\n",
       "  <tr>\n",
       "    <th>3</th>\n",
       "    <th>are present involving the palpebral conjunctivae of the left eye , both upper and lower eyelids . xxmaj scattered ecchymoses are present on the anterior aspect of the neck , in the supraclavicular region . \\n\\n xxup projectile : \\n a 31.0 grain projectile fragment ( jacket ) was recovered from the right inferior frontal lobe . a 5.2 grain projectile fragment ( jacket ) was recovered from the autopsy</th>\n",
       "  </tr>\n",
       "  <tr>\n",
       "    <th>4</th>\n",
       "    <th>1 cm red brown abrasions on anterior neck \\n\\n .locationextremities \\n .injuryblunt injury . \\n xxup .injurydesc . \\n xxmaj arms \\n 1 . 7 cm x 8 cm red yellow abrasion on upper anterior right arm \\n 2 . 3 cm x 3 cm dicing injuries on right elbow \\n 3 . 1 cm x 1 cm dried laceration on right hand \\n\\n xxmaj legs \\n 1 . 2</th>\n",
       "  </tr>\n",
       "</table>\n"
      ],
      "text/plain": [
       "<IPython.core.display.HTML object>"
      ]
     },
     "metadata": {},
     "output_type": "display_data"
    }
   ],
   "source": [
    "data_lm.show_batch()"
   ]
  },
  {
   "cell_type": "code",
   "execution_count": 9,
   "metadata": {},
   "outputs": [],
   "source": [
    "learn = language_model_learner(data_lm, pretrained_model=URLs.WT103_1)"
   ]
  },
  {
   "cell_type": "code",
   "execution_count": 10,
   "metadata": {},
   "outputs": [
    {
     "data": {
      "text/html": [
       "Total time: 00:41 <p><table style='width:300px; margin-bottom:10px'>\n",
       "  <tr>\n",
       "    <th>epoch</th>\n",
       "    <th>train_loss</th>\n",
       "    <th>valid_loss</th>\n",
       "    <th>accuracy</th>\n",
       "  </tr>\n",
       "  <tr>\n",
       "    <th>1</th>\n",
       "    <th>2.587413</th>\n",
       "    <th>2.166289</th>\n",
       "    <th>0.525543</th>\n",
       "  </tr>\n",
       "</table>\n"
      ],
      "text/plain": [
       "<IPython.core.display.HTML object>"
      ]
     },
     "metadata": {},
     "output_type": "display_data"
    }
   ],
   "source": [
    "learn.fit_one_cycle(1, 1e-2, moms=(0.8,0.7))"
   ]
  },
  {
   "cell_type": "code",
   "execution_count": 11,
   "metadata": {},
   "outputs": [],
   "source": [
    "learn.unfreeze()"
   ]
  },
  {
   "cell_type": "code",
   "execution_count": 12,
   "metadata": {},
   "outputs": [
    {
     "data": {
      "text/html": [
       "Total time: 08:27 <p><table style='width:300px; margin-bottom:10px'>\n",
       "  <tr>\n",
       "    <th>epoch</th>\n",
       "    <th>train_loss</th>\n",
       "    <th>valid_loss</th>\n",
       "    <th>accuracy</th>\n",
       "  </tr>\n",
       "  <tr>\n",
       "    <th>1</th>\n",
       "    <th>2.294035</th>\n",
       "    <th>1.987123</th>\n",
       "    <th>0.553008</th>\n",
       "  </tr>\n",
       "  <tr>\n",
       "    <th>2</th>\n",
       "    <th>2.005047</th>\n",
       "    <th>1.792676</th>\n",
       "    <th>0.586397</th>\n",
       "  </tr>\n",
       "  <tr>\n",
       "    <th>3</th>\n",
       "    <th>1.804185</th>\n",
       "    <th>1.662223</th>\n",
       "    <th>0.608558</th>\n",
       "  </tr>\n",
       "  <tr>\n",
       "    <th>4</th>\n",
       "    <th>1.774296</th>\n",
       "    <th>1.586383</th>\n",
       "    <th>0.621329</th>\n",
       "  </tr>\n",
       "  <tr>\n",
       "    <th>5</th>\n",
       "    <th>1.669879</th>\n",
       "    <th>1.536001</th>\n",
       "    <th>0.629717</th>\n",
       "  </tr>\n",
       "  <tr>\n",
       "    <th>6</th>\n",
       "    <th>1.597379</th>\n",
       "    <th>1.505136</th>\n",
       "    <th>0.635283</th>\n",
       "  </tr>\n",
       "  <tr>\n",
       "    <th>7</th>\n",
       "    <th>1.534639</th>\n",
       "    <th>1.483052</th>\n",
       "    <th>0.639295</th>\n",
       "  </tr>\n",
       "  <tr>\n",
       "    <th>8</th>\n",
       "    <th>1.511922</th>\n",
       "    <th>1.470466</th>\n",
       "    <th>0.641943</th>\n",
       "  </tr>\n",
       "  <tr>\n",
       "    <th>9</th>\n",
       "    <th>1.489762</th>\n",
       "    <th>1.465764</th>\n",
       "    <th>0.642764</th>\n",
       "  </tr>\n",
       "  <tr>\n",
       "    <th>10</th>\n",
       "    <th>1.461876</th>\n",
       "    <th>1.465133</th>\n",
       "    <th>0.642996</th>\n",
       "  </tr>\n",
       "</table>\n"
      ],
      "text/plain": [
       "<IPython.core.display.HTML object>"
      ]
     },
     "metadata": {},
     "output_type": "display_data"
    }
   ],
   "source": [
    "learn.fit_one_cycle(10, 1e-3, moms=(0.8,0.7))"
   ]
  },
  {
   "cell_type": "code",
   "execution_count": 13,
   "metadata": {},
   "outputs": [],
   "source": [
    "learn.save_encoder('fine_tuned_enc')"
   ]
  },
  {
   "cell_type": "code",
   "execution_count": null,
   "metadata": {},
   "outputs": [],
   "source": []
  },
  {
   "cell_type": "code",
   "execution_count": 14,
   "metadata": {},
   "outputs": [],
   "source": [
    "data_clas = TextClasDataBunch.from_csv(path, 'data.csv', vocab=data_lm.train_ds.vocab, bs=bs)"
   ]
  },
  {
   "cell_type": "code",
   "execution_count": 15,
   "metadata": {},
   "outputs": [
    {
     "data": {
      "text/html": [
       "<table>  <col width='90%'>  <col width='10%'>  <tr>\n",
       "    <th>text</th>\n",
       "    <th>target</th>\n",
       "  </tr>\n",
       "  <tr>\n",
       "    <th>xxbos \\n xxup .micro . \\n xxmaj heart - no significant histopathology \\n\\n xxmaj lungs - patchy extravasation of red blood cells into the intra - alveolar space \\n\\n xxmaj kidneys - no significant histopathology \\n\\n xxmaj liver - no significant histopathology \\n\\n xxmaj hippocampus - no significant histopathology \\n\\n xxmaj xxunk - vaginal , anal , and oral smears negative for xxunk components . \\n .locationhead and neck \\n</th>\n",
       "    <th>Homicide</th>\n",
       "  </tr>\n",
       "  <tr>\n",
       "    <th>xxbos \\n xxup .micro . \\n xxmaj heart : xxmaj no significant histopathologic abnormalities \\n\\n xxmaj lungs : xxmaj the lungs show areas of atelectasis , scattered intra - alveolar macrophages , mildly enlarged alveoli with incomplete septae , and rare interstitial carbon pigment . \\n\\n xxmaj liver : xxmaj mild mixed inflammation is confined to the portal tracts . \\n\\n xxmaj kidney : xxmaj no significant histopathologic abnormalities \\n\\n</th>\n",
       "    <th>Homicide</th>\n",
       "  </tr>\n",
       "  <tr>\n",
       "    <th>xxbos \\n xxup .micro . \\n xxmaj heart : xxmaj sections of the heart show unremarkable endocardial and epicardial surfaces . xxmaj there is no identifiable myocardial ischemia or inflammation . \\n\\n xxmaj lungs : xxmaj multiple sections of the lungs show atelectasis without inflammation , edema or fibrosis . xxmaj there are focal areas of intra - alveolar hemorrhage . xxmaj no polarizable material is identified . \\n\\n xxmaj</th>\n",
       "    <th>Homicide</th>\n",
       "  </tr>\n",
       "  <tr>\n",
       "    <th>xxbos \\n xxup .micro . \\n xxup heart : xxmaj focal fatty infiltration and autolysis . \\n\\n xxup lungs : xxmaj autolysis . \\n\\n xxup kidney : xxmaj autolysis . \\n\\n xxup liver : xxmaj diffuse , predominantly centrilobular steatosis ( micro- and macrovesicular ) and autolysis . \\n .locationextremity \\n .injuryfirearm injury . \\n xxup .injurydesc . \\n xxup gunshot xxup wound # 4 ( right arm ) (</th>\n",
       "    <th>Homicide</th>\n",
       "  </tr>\n",
       "  <tr>\n",
       "    <th>xxbos \\n xxup .micro . \\n xxup heart : xxmaj no significant histopathologic diagnosis . \\n\\n xxup lungs : xxmaj there is patchy blood within alveolar spaces . \\n\\n xxup liver : xxmaj there is diffuse autolysis . xxmaj inflammation is periportal and consists predominantly of lymphocytes and some neutrophils . \\n\\n xxup kidney : xxmaj tubular autolysis and no significant histopathologic diagnosis . \\n\\n xxup uterus : xxmaj non</th>\n",
       "    <th>Homicide</th>\n",
       "  </tr>\n",
       "</table>\n"
      ],
      "text/plain": [
       "<IPython.core.display.HTML object>"
      ]
     },
     "metadata": {},
     "output_type": "display_data"
    }
   ],
   "source": [
    "data_clas.show_batch()"
   ]
  },
  {
   "cell_type": "code",
   "execution_count": 16,
   "metadata": {},
   "outputs": [],
   "source": [
    "learn = text_classifier_learner(data_clas, drop_mult=0.5)\n",
    "learn.load_encoder('fine_tuned_enc')\n",
    "learn.freeze()"
   ]
  },
  {
   "cell_type": "code",
   "execution_count": 17,
   "metadata": {},
   "outputs": [
    {
     "data": {
      "text/html": [
       "Total time: 00:50 <p><table style='width:300px; margin-bottom:10px'>\n",
       "  <tr>\n",
       "    <th>epoch</th>\n",
       "    <th>train_loss</th>\n",
       "    <th>valid_loss</th>\n",
       "    <th>accuracy</th>\n",
       "  </tr>\n",
       "  <tr>\n",
       "    <th>1</th>\n",
       "    <th>0.698462</th>\n",
       "    <th>0.492713</th>\n",
       "    <th>0.862720</th>\n",
       "  </tr>\n",
       "</table>\n"
      ],
      "text/plain": [
       "<IPython.core.display.HTML object>"
      ]
     },
     "metadata": {},
     "output_type": "display_data"
    }
   ],
   "source": [
    "learn.fit_one_cycle(1, 2e-2, moms=(0.8,0.7))"
   ]
  },
  {
   "cell_type": "code",
   "execution_count": 18,
   "metadata": {},
   "outputs": [
    {
     "data": {
      "text/html": [
       "Total time: 01:03 <p><table style='width:300px; margin-bottom:10px'>\n",
       "  <tr>\n",
       "    <th>epoch</th>\n",
       "    <th>train_loss</th>\n",
       "    <th>valid_loss</th>\n",
       "    <th>accuracy</th>\n",
       "  </tr>\n",
       "  <tr>\n",
       "    <th>1</th>\n",
       "    <th>0.593093</th>\n",
       "    <th>0.537571</th>\n",
       "    <th>0.860202</th>\n",
       "  </tr>\n",
       "</table>\n"
      ],
      "text/plain": [
       "<IPython.core.display.HTML object>"
      ]
     },
     "metadata": {},
     "output_type": "display_data"
    }
   ],
   "source": [
    "learn.fit_one_cycle(1, 2e-2, moms=(0.8,0.7))"
   ]
  },
  {
   "cell_type": "code",
   "execution_count": 19,
   "metadata": {},
   "outputs": [
    {
     "data": {
      "text/html": [
       "Total time: 01:01 <p><table style='width:300px; margin-bottom:10px'>\n",
       "  <tr>\n",
       "    <th>epoch</th>\n",
       "    <th>train_loss</th>\n",
       "    <th>valid_loss</th>\n",
       "    <th>accuracy</th>\n",
       "  </tr>\n",
       "  <tr>\n",
       "    <th>1</th>\n",
       "    <th>0.552632</th>\n",
       "    <th>8.282073</th>\n",
       "    <th>0.873426</th>\n",
       "  </tr>\n",
       "</table>\n"
      ],
      "text/plain": [
       "<IPython.core.display.HTML object>"
      ]
     },
     "metadata": {},
     "output_type": "display_data"
    }
   ],
   "source": [
    "learn.freeze_to(-2)\n",
    "learn.fit_one_cycle(1, slice(1e-2/(2.6**4),1e-2), moms=(0.8,0.7))"
   ]
  },
  {
   "cell_type": "code",
   "execution_count": 20,
   "metadata": {},
   "outputs": [
    {
     "data": {
      "text/html": [
       "Total time: 01:56 <p><table style='width:300px; margin-bottom:10px'>\n",
       "  <tr>\n",
       "    <th>epoch</th>\n",
       "    <th>train_loss</th>\n",
       "    <th>valid_loss</th>\n",
       "    <th>accuracy</th>\n",
       "  </tr>\n",
       "  <tr>\n",
       "    <th>1</th>\n",
       "    <th>0.522092</th>\n",
       "    <th>0.518629</th>\n",
       "    <th>0.883501</th>\n",
       "  </tr>\n",
       "</table>\n"
      ],
      "text/plain": [
       "<IPython.core.display.HTML object>"
      ]
     },
     "metadata": {},
     "output_type": "display_data"
    }
   ],
   "source": [
    "learn.freeze_to(-3)\n",
    "learn.fit_one_cycle(1, slice(5e-3/(2.6**4),5e-3), moms=(0.8,0.7))"
   ]
  },
  {
   "cell_type": "code",
   "execution_count": 21,
   "metadata": {},
   "outputs": [
    {
     "data": {
      "text/html": [
       "Total time: 04:47 <p><table style='width:300px; margin-bottom:10px'>\n",
       "  <tr>\n",
       "    <th>epoch</th>\n",
       "    <th>train_loss</th>\n",
       "    <th>valid_loss</th>\n",
       "    <th>accuracy</th>\n",
       "  </tr>\n",
       "  <tr>\n",
       "    <th>1</th>\n",
       "    <th>0.421751</th>\n",
       "    <th>5.650544</th>\n",
       "    <th>0.884131</th>\n",
       "  </tr>\n",
       "  <tr>\n",
       "    <th>2</th>\n",
       "    <th>0.437506</th>\n",
       "    <th>6.634545</th>\n",
       "    <th>0.875315</th>\n",
       "  </tr>\n",
       "</table>\n"
      ],
      "text/plain": [
       "<IPython.core.display.HTML object>"
      ]
     },
     "metadata": {},
     "output_type": "display_data"
    }
   ],
   "source": [
    "learn.unfreeze()\n",
    "learn.fit_one_cycle(2, slice(1e-3/(2.6**4),1e-3), moms=(0.8,0.7))"
   ]
  },
  {
   "cell_type": "code",
   "execution_count": 22,
   "metadata": {},
   "outputs": [
    {
     "data": {
      "text/html": [
       "Total time: 46:42 <p><table style='width:300px; margin-bottom:10px'>\n",
       "  <tr>\n",
       "    <th>epoch</th>\n",
       "    <th>train_loss</th>\n",
       "    <th>valid_loss</th>\n",
       "    <th>accuracy</th>\n",
       "  </tr>\n",
       "  <tr>\n",
       "    <th>1</th>\n",
       "    <th>0.426308</th>\n",
       "    <th>2.835510</th>\n",
       "    <th>0.884761</th>\n",
       "  </tr>\n",
       "  <tr>\n",
       "    <th>2</th>\n",
       "    <th>0.457131</th>\n",
       "    <th>4.196596</th>\n",
       "    <th>0.882872</th>\n",
       "  </tr>\n",
       "  <tr>\n",
       "    <th>3</th>\n",
       "    <th>0.429367</th>\n",
       "    <th>2.952207</th>\n",
       "    <th>0.886650</th>\n",
       "  </tr>\n",
       "  <tr>\n",
       "    <th>4</th>\n",
       "    <th>0.407180</th>\n",
       "    <th>3.172106</th>\n",
       "    <th>0.888539</th>\n",
       "  </tr>\n",
       "  <tr>\n",
       "    <th>5</th>\n",
       "    <th>0.396071</th>\n",
       "    <th>1.876250</th>\n",
       "    <th>0.887909</th>\n",
       "  </tr>\n",
       "  <tr>\n",
       "    <th>6</th>\n",
       "    <th>0.413899</th>\n",
       "    <th>2.423576</th>\n",
       "    <th>0.885390</th>\n",
       "  </tr>\n",
       "  <tr>\n",
       "    <th>7</th>\n",
       "    <th>0.422652</th>\n",
       "    <th>1.139119</th>\n",
       "    <th>0.887909</th>\n",
       "  </tr>\n",
       "  <tr>\n",
       "    <th>8</th>\n",
       "    <th>0.365665</th>\n",
       "    <th>2.249235</th>\n",
       "    <th>0.886650</th>\n",
       "  </tr>\n",
       "  <tr>\n",
       "    <th>9</th>\n",
       "    <th>0.310807</th>\n",
       "    <th>5.741228</th>\n",
       "    <th>0.886650</th>\n",
       "  </tr>\n",
       "  <tr>\n",
       "    <th>10</th>\n",
       "    <th>0.354421</th>\n",
       "    <th>5.100532</th>\n",
       "    <th>0.882242</th>\n",
       "  </tr>\n",
       "  <tr>\n",
       "    <th>11</th>\n",
       "    <th>0.375881</th>\n",
       "    <th>0.564551</th>\n",
       "    <th>0.884131</th>\n",
       "  </tr>\n",
       "  <tr>\n",
       "    <th>12</th>\n",
       "    <th>0.315382</th>\n",
       "    <th>0.603464</th>\n",
       "    <th>0.887909</th>\n",
       "  </tr>\n",
       "  <tr>\n",
       "    <th>13</th>\n",
       "    <th>0.255494</th>\n",
       "    <th>4.765404</th>\n",
       "    <th>0.864610</th>\n",
       "  </tr>\n",
       "  <tr>\n",
       "    <th>14</th>\n",
       "    <th>0.319530</th>\n",
       "    <th>2.734374</th>\n",
       "    <th>0.881612</th>\n",
       "  </tr>\n",
       "  <tr>\n",
       "    <th>15</th>\n",
       "    <th>0.265637</th>\n",
       "    <th>1.686122</th>\n",
       "    <th>0.879723</th>\n",
       "  </tr>\n",
       "  <tr>\n",
       "    <th>16</th>\n",
       "    <th>0.261164</th>\n",
       "    <th>1.280317</th>\n",
       "    <th>0.875945</th>\n",
       "  </tr>\n",
       "  <tr>\n",
       "    <th>17</th>\n",
       "    <th>0.255410</th>\n",
       "    <th>1.773646</th>\n",
       "    <th>0.878463</th>\n",
       "  </tr>\n",
       "  <tr>\n",
       "    <th>18</th>\n",
       "    <th>0.212734</th>\n",
       "    <th>0.943855</th>\n",
       "    <th>0.881612</th>\n",
       "  </tr>\n",
       "  <tr>\n",
       "    <th>19</th>\n",
       "    <th>0.249753</th>\n",
       "    <th>2.491152</th>\n",
       "    <th>0.857053</th>\n",
       "  </tr>\n",
       "  <tr>\n",
       "    <th>20</th>\n",
       "    <th>0.243953</th>\n",
       "    <th>1.320679</th>\n",
       "    <th>0.880982</th>\n",
       "  </tr>\n",
       "</table>\n"
      ],
      "text/plain": [
       "<IPython.core.display.HTML object>"
      ]
     },
     "metadata": {},
     "output_type": "display_data"
    }
   ],
   "source": [
    "learn.fit_one_cycle(20, slice(1e-3/(2.6**4),1e-3), moms=(0.8,0.7))"
   ]
  },
  {
   "cell_type": "code",
   "execution_count": 23,
   "metadata": {},
   "outputs": [],
   "source": [
    "from fastai.vision import *"
   ]
  },
  {
   "cell_type": "code",
   "execution_count": 24,
   "metadata": {},
   "outputs": [
    {
     "data": {
      "image/png": "[encoded data removed]",
      "text/plain": [
       "<Figure size 480x480 with 1 Axes>"
      ]
     },
     "metadata": {},
     "output_type": "display_data"
    }
   ],
   "source": [
    "interp = ClassificationInterpretation.from_learner(learn)\n",
    "interp.plot_confusion_matrix(figsize=(4,4), dpi=120)"
   ]
  },
  {
   "cell_type": "code",
   "execution_count": 25,
   "metadata": {},
   "outputs": [
    {
     "data": {
      "image/png": "[encoded data removed]",
      "text/plain": [
       "<Figure size 432x288 with 1 Axes>"
      ]
     },
     "metadata": {},
     "output_type": "display_data"
    }
   ],
   "source": [
    "learn.recorder.plot_losses()"
   ]
  },
  {
   "cell_type": "code",
   "execution_count": 26,
   "metadata": {},
   "outputs": [
    {
     "data": {
      "image/png": "[encoded data removed]",
      "text/plain": [
       "<Figure size 432x288 with 1 Axes>"
      ]
     },
     "metadata": {},
     "output_type": "display_data"
    }
   ],
   "source": [
    "learn.recorder.plot_metrics()"
   ]
  },
  {
   "cell_type": "code",
   "execution_count": null,
   "metadata": {},
   "outputs": [],
   "source": []
  }
 ],
 "metadata": {
  "kernelspec": {
   "display_name": "Python 3",
   "language": "python",
   "name": "python3"
  },
  "language_info": {
   "codemirror_mode": {
    "name": "ipython",
    "version": 3
   },
   "file_extension": ".py",
   "mimetype": "text/x-python",
   "name": "python",
   "nbconvert_exporter": "python",
   "pygments_lexer": "ipython3",
   "version": "3.6.5"
  }
 },
 "nbformat": 4,
 "nbformat_minor": 2
}
