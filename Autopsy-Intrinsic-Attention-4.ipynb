{
 "cells": [
  {
   "cell_type": "code",
   "execution_count": 1,
   "metadata": {},
   "outputs": [],
   "source": [
    "%reload_ext autoreload\n",
    "%autoreload 2\n",
    "%matplotlib inline"
   ]
  },
  {
   "cell_type": "code",
   "execution_count": 2,
   "metadata": {},
   "outputs": [],
   "source": [
    "from fastai.text import *\n",
    "from pathlib import Path\n",
    "import pandas as pd"
   ]
  },
  {
   "cell_type": "code",
   "execution_count": 3,
   "metadata": {},
   "outputs": [],
   "source": [
    "#path = Path('/home/ubuntu/data/autopsy/milestone/no_preprocessing')\n",
    "\n",
    "path = Path('/home/ubuntu/data/autopsy/2014_2018/no_preprocessing/reports/k-fold-suicide-homicide-accident')\n"
   ]
  },
  {
   "cell_type": "code",
   "execution_count": 4,
   "metadata": {},
   "outputs": [
    {
     "data": {
      "text/html": [
       "<div>\n",
       "<style scoped>\n",
       "    .dataframe tbody tr th:only-of-type {\n",
       "        vertical-align: middle;\n",
       "    }\n",
       "\n",
       "    .dataframe tbody tr th {\n",
       "        vertical-align: top;\n",
       "    }\n",
       "\n",
       "    .dataframe thead th {\n",
       "        text-align: right;\n",
       "    }\n",
       "</style>\n",
       "<table border=\"1\" class=\"dataframe\">\n",
       "  <thead>\n",
       "    <tr style=\"text-align: right;\">\n",
       "      <th></th>\n",
       "      <th>label</th>\n",
       "      <th>text</th>\n",
       "      <th>is_valid</th>\n",
       "    </tr>\n",
       "  </thead>\n",
       "  <tbody>\n",
       "    <tr>\n",
       "      <th>0</th>\n",
       "      <td>Accident</td>\n",
       "      <td>\\n.MICRO.\\nNONE\\n.LOCATIONExtremities\\n.INJURY...</td>\n",
       "      <td>False</td>\n",
       "    </tr>\n",
       "    <tr>\n",
       "      <th>1</th>\n",
       "      <td>Accident</td>\n",
       "      <td>\\n.MICRO.\\nHeart - no significant histopatholo...</td>\n",
       "      <td>False</td>\n",
       "    </tr>\n",
       "    <tr>\n",
       "      <th>2</th>\n",
       "      <td>Suicide</td>\n",
       "      <td>\\n.MICRO.\\nNONE\\n.LOCATIONNeck\\n.INJURYHanging...</td>\n",
       "      <td>False</td>\n",
       "    </tr>\n",
       "    <tr>\n",
       "      <th>3</th>\n",
       "      <td>Homicide</td>\n",
       "      <td>\\n.MICRO.\\nHEART: The sections of heart demons...</td>\n",
       "      <td>False</td>\n",
       "    </tr>\n",
       "    <tr>\n",
       "      <th>4</th>\n",
       "      <td>Homicide</td>\n",
       "      <td>\\n.MICRO.\\nHeart: No diagnostic abnormality.  ...</td>\n",
       "      <td>False</td>\n",
       "    </tr>\n",
       "  </tbody>\n",
       "</table>\n",
       "</div>"
      ],
      "text/plain": [
       "      label                                               text  is_valid\n",
       "0  Accident  \\n.MICRO.\\nNONE\\n.LOCATIONExtremities\\n.INJURY...     False\n",
       "1  Accident  \\n.MICRO.\\nHeart - no significant histopatholo...     False\n",
       "2   Suicide  \\n.MICRO.\\nNONE\\n.LOCATIONNeck\\n.INJURYHanging...     False\n",
       "3  Homicide  \\n.MICRO.\\nHEART: The sections of heart demons...     False\n",
       "4  Homicide  \\n.MICRO.\\nHeart: No diagnostic abnormality.  ...     False"
      ]
     },
     "execution_count": 4,
     "metadata": {},
     "output_type": "execute_result"
    }
   ],
   "source": [
    "df = pd.read_csv(path/'data_suicide_homicide_accident_k_1.csv')\n",
    "df.head()"
   ]
  },
  {
   "cell_type": "code",
   "execution_count": 5,
   "metadata": {},
   "outputs": [
    {
     "data": {
      "text/plain": [
       "'\\n.MICRO.\\nHeart - no significant histopathology\\n\\nLungs - congestion, no significant histopathology\\n\\nKidneys - no significant histopathology\\n\\nLiver - no significant histopathology\\n\\nHippocampus - no significant histopathology\\n.LOCATIONExtremities\\n.INJURYBlunt injury.\\n.INJURYDESC.\\nHealing abrasions measuring from 0.1 to 0.2 cm are on the posterior right hand.\\n \\nA 0.2 x 1.1 cm healing abrasion is in the left inguinal fold. \\n\\n\\n\\n.LOCATIONHead\\n.INJURYBlunt injury.\\n.INJURYDESC.\\nA 0.9 x 0.6 cm abrasion is on the right side of the chin. '"
      ]
     },
     "execution_count": 5,
     "metadata": {},
     "output_type": "execute_result"
    }
   ],
   "source": [
    "df['text'][1]"
   ]
  },
  {
   "cell_type": "code",
   "execution_count": 6,
   "metadata": {},
   "outputs": [],
   "source": [
    "bs=32"
   ]
  },
  {
   "cell_type": "code",
   "execution_count": 7,
   "metadata": {},
   "outputs": [],
   "source": [
    "\n",
    "classes = ['Suicide','Homicide','Accident']"
   ]
  },
  {
   "cell_type": "code",
   "execution_count": 8,
   "metadata": {},
   "outputs": [],
   "source": [
    "valid_df =  df.loc[df['is_valid']==True]"
   ]
  },
  {
   "cell_type": "code",
   "execution_count": 9,
   "metadata": {},
   "outputs": [],
   "source": [
    "train_df = df.loc[df['is_valid']==False]"
   ]
  },
  {
   "cell_type": "code",
   "execution_count": 10,
   "metadata": {},
   "outputs": [],
   "source": [
    "data_lm = TextLMDataBunch.from_df(path, train_df=train_df, valid_df=valid_df, classes=classes,bs=bs)"
   ]
  },
  {
   "cell_type": "code",
   "execution_count": 11,
   "metadata": {},
   "outputs": [
    {
     "data": {
      "text/html": [
       "<table border=\"1\" class=\"dataframe\">\n",
       "  <thead>\n",
       "    <tr style=\"text-align: right;\">\n",
       "      <th>idx</th>\n",
       "      <th>text</th>\n",
       "    </tr>\n",
       "  </thead>\n",
       "  <tbody>\n",
       "    <tr>\n",
       "      <td>0</td>\n",
       "      <td>\\n \\n \\n  xxup skeletal xxup elements \\n \\n  xxmaj no palpable fractures . \\n \\n \\n  .locationtrunk \\n  .injuryblunt injury . \\n  xxup .injurydesc . \\n  xxup skin xxup and xxup deep xxup soft xxup tissues xxup of xxup the xxup chest xxup and xxup abdomen \\n \\n  xxmaj extensive linear red and brown parchment - like abrasions are across the skin</td>\n",
       "    </tr>\n",
       "    <tr>\n",
       "      <td>1</td>\n",
       "      <td>\\n \\n  8 . a 2.5 x 1 cm , irregular , red , patterned abrasion is immediately lateral to the left side of the mouth . \\n \\n  9 . a 7.5 cm , full - thickness , oblique laceration extends across the anterior chin with exposure of the underlying bone . \\n \\n  10 . a 3 x 1.5 cm , irregular , red abrasion</td>\n",
       "    </tr>\n",
       "    <tr>\n",
       "      <td>2</td>\n",
       "      <td>u , v ) \\n \\n  xxmaj entrance ( u ) : \\n \\n  xxmaj on the medial aspect of the right wrist , 33 cm distal to the right elbow and 3 cm left of the anterior arm midline , is an entrance gunshot wound ( u ) consisting of a 0.6 x 0.6 cm round defect with a 0.1 cm pink circumferential marginal abrasion . xxmaj</td>\n",
       "    </tr>\n",
       "    <tr>\n",
       "      <td>3</td>\n",
       "      <td>a 3.3 cm long , horizontally oriented , stab wound with sharp angles at 3 and 9 oâclock . a 0.2 x 0.1 cm , red abrasion is on the skin just below the 3 o'clock angle . \\n \\n \\n  xxmaj path \\n \\n  xxmaj the hemorrhagic wound track sequentially perforates the skin , subcutaneous tissue and muscle of the left chest , the intercostal muscles between</td>\n",
       "    </tr>\n",
       "    <tr>\n",
       "      <td>4</td>\n",
       "      <td>cavity and approximately 135 ml of blood within the left chest cavity . \\n \\n  .locationextremities \\n  .injurymultiple injuries . \\n  xxup .injurydesc . \\n  xxmaj the dorsal right hand shows scattered irregular incised wounds , each measuring up to 1 / 4 inch . xxmaj on the anterior left knee are irregular red abrasions , covering an area of approximately 6 x 2 inches .</td>\n",
       "    </tr>\n",
       "  </tbody>\n",
       "</table>"
      ],
      "text/plain": [
       "<IPython.core.display.HTML object>"
      ]
     },
     "metadata": {},
     "output_type": "display_data"
    }
   ],
   "source": [
    "data_lm.show_batch()"
   ]
  },
  {
   "cell_type": "code",
   "execution_count": 12,
   "metadata": {},
   "outputs": [],
   "source": [
    "learn = language_model_learner(data_lm, arch=AWD_LSTM)"
   ]
  },
  {
   "cell_type": "code",
   "execution_count": 13,
   "metadata": {},
   "outputs": [],
   "source": [
    "learn.freeze()"
   ]
  },
  {
   "cell_type": "code",
   "execution_count": 14,
   "metadata": {},
   "outputs": [
    {
     "data": {
      "text/html": [
       "Total time: 02:04 <p><table border=\"1\" class=\"dataframe\">\n",
       "  <thead>\n",
       "    <tr style=\"text-align: left;\">\n",
       "      <th>epoch</th>\n",
       "      <th>train_loss</th>\n",
       "      <th>valid_loss</th>\n",
       "      <th>accuracy</th>\n",
       "      <th>time</th>\n",
       "    </tr>\n",
       "  </thead>\n",
       "  <tbody>\n",
       "    <tr>\n",
       "      <td>1</td>\n",
       "      <td>2.455612</td>\n",
       "      <td>2.079415</td>\n",
       "      <td>0.538264</td>\n",
       "      <td>01:02</td>\n",
       "    </tr>\n",
       "    <tr>\n",
       "      <td>2</td>\n",
       "      <td>2.280120</td>\n",
       "      <td>1.960785</td>\n",
       "      <td>0.556618</td>\n",
       "      <td>01:02</td>\n",
       "    </tr>\n",
       "  </tbody>\n",
       "</table>"
      ],
      "text/plain": [
       "<IPython.core.display.HTML object>"
      ]
     },
     "metadata": {},
     "output_type": "display_data"
    }
   ],
   "source": [
    "#do some gradual unfreezing, so we don't lose the pretrained info\n",
    "learn.fit_one_cycle(2, 1e-2, moms=(0.8,0.7))"
   ]
  },
  {
   "cell_type": "code",
   "execution_count": null,
   "metadata": {},
   "outputs": [],
   "source": []
  },
  {
   "cell_type": "code",
   "execution_count": 15,
   "metadata": {},
   "outputs": [
    {
     "data": {
      "text/html": [
       "Total time: 01:04 <p><table border=\"1\" class=\"dataframe\">\n",
       "  <thead>\n",
       "    <tr style=\"text-align: left;\">\n",
       "      <th>epoch</th>\n",
       "      <th>train_loss</th>\n",
       "      <th>valid_loss</th>\n",
       "      <th>accuracy</th>\n",
       "      <th>time</th>\n",
       "    </tr>\n",
       "  </thead>\n",
       "  <tbody>\n",
       "    <tr>\n",
       "      <td>1</td>\n",
       "      <td>1.958534</td>\n",
       "      <td>1.782304</td>\n",
       "      <td>0.585145</td>\n",
       "      <td>01:04</td>\n",
       "    </tr>\n",
       "  </tbody>\n",
       "</table>"
      ],
      "text/plain": [
       "<IPython.core.display.HTML object>"
      ]
     },
     "metadata": {},
     "output_type": "display_data"
    }
   ],
   "source": [
    "learn.freeze_to(-2)\n",
    "learn.fit_one_cycle(1, slice(1e-2/(2.6**4),1e-2), moms=(0.8,0.7))"
   ]
  },
  {
   "cell_type": "code",
   "execution_count": null,
   "metadata": {},
   "outputs": [],
   "source": []
  },
  {
   "cell_type": "code",
   "execution_count": 16,
   "metadata": {},
   "outputs": [
    {
     "data": {
      "text/html": [
       "Total time: 01:08 <p><table border=\"1\" class=\"dataframe\">\n",
       "  <thead>\n",
       "    <tr style=\"text-align: left;\">\n",
       "      <th>epoch</th>\n",
       "      <th>train_loss</th>\n",
       "      <th>valid_loss</th>\n",
       "      <th>accuracy</th>\n",
       "      <th>time</th>\n",
       "    </tr>\n",
       "  </thead>\n",
       "  <tbody>\n",
       "    <tr>\n",
       "      <td>1</td>\n",
       "      <td>1.836524</td>\n",
       "      <td>1.695254</td>\n",
       "      <td>0.600169</td>\n",
       "      <td>01:08</td>\n",
       "    </tr>\n",
       "  </tbody>\n",
       "</table>"
      ],
      "text/plain": [
       "<IPython.core.display.HTML object>"
      ]
     },
     "metadata": {},
     "output_type": "display_data"
    }
   ],
   "source": [
    "learn.freeze_to(-3)\n",
    "learn.fit_one_cycle(1, slice(5e-3/(2.6**4),5e-3), moms=(0.8,0.7))"
   ]
  },
  {
   "cell_type": "code",
   "execution_count": null,
   "metadata": {},
   "outputs": [],
   "source": []
  },
  {
   "cell_type": "code",
   "execution_count": 17,
   "metadata": {},
   "outputs": [
    {
     "data": {
      "text/html": [
       "Total time: 09:43 <p><table border=\"1\" class=\"dataframe\">\n",
       "  <thead>\n",
       "    <tr style=\"text-align: left;\">\n",
       "      <th>epoch</th>\n",
       "      <th>train_loss</th>\n",
       "      <th>valid_loss</th>\n",
       "      <th>accuracy</th>\n",
       "      <th>time</th>\n",
       "    </tr>\n",
       "  </thead>\n",
       "  <tbody>\n",
       "    <tr>\n",
       "      <td>1</td>\n",
       "      <td>1.789840</td>\n",
       "      <td>1.666396</td>\n",
       "      <td>0.605681</td>\n",
       "      <td>01:12</td>\n",
       "    </tr>\n",
       "    <tr>\n",
       "      <td>2</td>\n",
       "      <td>1.651565</td>\n",
       "      <td>1.618222</td>\n",
       "      <td>0.614202</td>\n",
       "      <td>01:12</td>\n",
       "    </tr>\n",
       "    <tr>\n",
       "      <td>3</td>\n",
       "      <td>1.649707</td>\n",
       "      <td>1.557551</td>\n",
       "      <td>0.626360</td>\n",
       "      <td>01:12</td>\n",
       "    </tr>\n",
       "    <tr>\n",
       "      <td>4</td>\n",
       "      <td>1.531272</td>\n",
       "      <td>1.524341</td>\n",
       "      <td>0.633176</td>\n",
       "      <td>01:13</td>\n",
       "    </tr>\n",
       "    <tr>\n",
       "      <td>5</td>\n",
       "      <td>1.512389</td>\n",
       "      <td>1.493408</td>\n",
       "      <td>0.639075</td>\n",
       "      <td>01:12</td>\n",
       "    </tr>\n",
       "    <tr>\n",
       "      <td>6</td>\n",
       "      <td>1.475628</td>\n",
       "      <td>1.474914</td>\n",
       "      <td>0.642445</td>\n",
       "      <td>01:12</td>\n",
       "    </tr>\n",
       "    <tr>\n",
       "      <td>7</td>\n",
       "      <td>1.435766</td>\n",
       "      <td>1.466471</td>\n",
       "      <td>0.644656</td>\n",
       "      <td>01:13</td>\n",
       "    </tr>\n",
       "    <tr>\n",
       "      <td>8</td>\n",
       "      <td>1.442963</td>\n",
       "      <td>1.465426</td>\n",
       "      <td>0.644957</td>\n",
       "      <td>01:12</td>\n",
       "    </tr>\n",
       "  </tbody>\n",
       "</table>"
      ],
      "text/plain": [
       "<IPython.core.display.HTML object>"
      ]
     },
     "metadata": {},
     "output_type": "display_data"
    }
   ],
   "source": [
    "learn.unfreeze()\n",
    "learn.fit_one_cycle(8, 1e-3, moms=(0.8,0.7))"
   ]
  },
  {
   "cell_type": "code",
   "execution_count": null,
   "metadata": {},
   "outputs": [],
   "source": []
  },
  {
   "cell_type": "code",
   "execution_count": 18,
   "metadata": {},
   "outputs": [],
   "source": [
    "learn.save_encoder('fine_tuned_enc_no_pretrain2')"
   ]
  },
  {
   "cell_type": "code",
   "execution_count": null,
   "metadata": {},
   "outputs": [],
   "source": [
    " "
   ]
  },
  {
   "cell_type": "code",
   "execution_count": 19,
   "metadata": {},
   "outputs": [],
   "source": [
    "data_clas = TextClasDataBunch.from_df(path, train_df=train_df, valid_df=valid_df, vocab=data_lm.train_ds.vocab, bs=bs, classes=classes)"
   ]
  },
  {
   "cell_type": "code",
   "execution_count": 20,
   "metadata": {},
   "outputs": [
    {
     "data": {
      "text/html": [
       "<table border=\"1\" class=\"dataframe\">\n",
       "  <thead>\n",
       "    <tr style=\"text-align: right;\">\n",
       "      <th>text</th>\n",
       "      <th>target</th>\n",
       "    </tr>\n",
       "  </thead>\n",
       "  <tbody>\n",
       "    <tr>\n",
       "      <td>xxbos \\n  xxup .micro . \\n  xxmaj heart - no significant histopathology \\n \\n  xxmaj lungs - patchy extravasation of red blood cells into the intra - alveolar space \\n \\n  xxmaj kidneys - no significant histopathology \\n \\n  xxmaj liver - no significant histopathology \\n \\n  xxmaj hippocampus - no significant histopathology \\n \\n  xxmaj xxunk - vaginal , anal , and</td>\n",
       "      <td>Homicide</td>\n",
       "    </tr>\n",
       "    <tr>\n",
       "      <td>xxbos \\n  xxup .micro . \\n  xxmaj heart : xxmaj some of the cardiomyocyte nuclei are slightly enlarged . \\n \\n  xxmaj lungs : xxmaj partially atelectatic with rare intra - alveolar macrophages . \\n \\n  xxmaj liver : xxmaj mild lymphoplasmacytic inflammation confined to portal tracts . \\n \\n  xxmaj kidney : xxmaj partially autolyzed with no significant histopathologic abnormalities . \\n \\n</td>\n",
       "      <td>Homicide</td>\n",
       "    </tr>\n",
       "    <tr>\n",
       "      <td>xxbos \\n  xxup .micro . \\n  xxup heart : xxmaj no significant histopathologic diagnosis . \\n \\n  xxup lungs : xxmaj there is patchy blood within alveolar spaces . \\n \\n  xxup liver : xxmaj there is diffuse autolysis . xxmaj inflammation is periportal and consists predominantly of lymphocytes and some neutrophils . \\n \\n  xxup kidney : xxmaj tubular autolysis and no significant histopathologic</td>\n",
       "      <td>Homicide</td>\n",
       "    </tr>\n",
       "    <tr>\n",
       "      <td>xxbos \\n  xxup .micro . \\n  xxmaj heart : xxmaj sections of the heart are partially autolyzed and show no significant histopathologic change . \\n \\n  xxmaj lungs : xxmaj sections of lung are partially autolyzed and show focal carbon pigment and peribronchial chronic inflammation . \\n \\n  xxmaj liver : a section of liver is autolyzed but shows mild , predominantly lymphocytic inflammation of the</td>\n",
       "      <td>Homicide</td>\n",
       "    </tr>\n",
       "    <tr>\n",
       "      <td>xxbos \\n  xxup .micro . \\n  xxup none \\n  .locationhead \\n  .injurysharp injury . \\n  xxup .injurydesc . \\n  xxup stab xxup wound xxup of xxup left xxup temple ( y ) \\n \\n  xxmaj on the left temple , 10 cm below the top of the head , 12.5 cm left of the anterior midline ( measured around the head ) and</td>\n",
       "      <td>Homicide</td>\n",
       "    </tr>\n",
       "  </tbody>\n",
       "</table>"
      ],
      "text/plain": [
       "<IPython.core.display.HTML object>"
      ]
     },
     "metadata": {},
     "output_type": "display_data"
    }
   ],
   "source": [
    "data_clas.show_batch()"
   ]
  },
  {
   "cell_type": "code",
   "execution_count": 21,
   "metadata": {},
   "outputs": [],
   "source": [
    "learn = text_classifier_learner(data_clas, arch=AWD_LSTM, drop_mult=0.5)\n",
    "learn.load_encoder('fine_tuned_enc_no_pretrain2')\n",
    "learn.freeze()"
   ]
  },
  {
   "cell_type": "code",
   "execution_count": null,
   "metadata": {},
   "outputs": [],
   "source": []
  },
  {
   "cell_type": "code",
   "execution_count": null,
   "metadata": {},
   "outputs": [],
   "source": []
  },
  {
   "cell_type": "code",
   "execution_count": 22,
   "metadata": {},
   "outputs": [
    {
     "data": {
      "text/html": [
       "Total time: 01:03 <p><table border=\"1\" class=\"dataframe\">\n",
       "  <thead>\n",
       "    <tr style=\"text-align: left;\">\n",
       "      <th>epoch</th>\n",
       "      <th>train_loss</th>\n",
       "      <th>valid_loss</th>\n",
       "      <th>accuracy</th>\n",
       "      <th>time</th>\n",
       "    </tr>\n",
       "  </thead>\n",
       "  <tbody>\n",
       "    <tr>\n",
       "      <td>1</td>\n",
       "      <td>0.496304</td>\n",
       "      <td>0.530096</td>\n",
       "      <td>0.858073</td>\n",
       "      <td>01:03</td>\n",
       "    </tr>\n",
       "  </tbody>\n",
       "</table>"
      ],
      "text/plain": [
       "<IPython.core.display.HTML object>"
      ]
     },
     "metadata": {},
     "output_type": "display_data"
    }
   ],
   "source": [
    "learn.fit_one_cycle(1, 2e-2, moms=(0.8,0.7))"
   ]
  },
  {
   "cell_type": "code",
   "execution_count": 23,
   "metadata": {},
   "outputs": [
    {
     "data": {
      "text/html": [
       "Total time: 01:13 <p><table border=\"1\" class=\"dataframe\">\n",
       "  <thead>\n",
       "    <tr style=\"text-align: left;\">\n",
       "      <th>epoch</th>\n",
       "      <th>train_loss</th>\n",
       "      <th>valid_loss</th>\n",
       "      <th>accuracy</th>\n",
       "      <th>time</th>\n",
       "    </tr>\n",
       "  </thead>\n",
       "  <tbody>\n",
       "    <tr>\n",
       "      <td>1</td>\n",
       "      <td>0.384643</td>\n",
       "      <td>0.374816</td>\n",
       "      <td>0.892578</td>\n",
       "      <td>01:13</td>\n",
       "    </tr>\n",
       "  </tbody>\n",
       "</table>"
      ],
      "text/plain": [
       "<IPython.core.display.HTML object>"
      ]
     },
     "metadata": {},
     "output_type": "display_data"
    }
   ],
   "source": [
    "learn.freeze_to(-2)\n",
    "learn.fit_one_cycle(1, slice(1e-2/(2.6**4),1e-2), moms=(0.8,0.7))"
   ]
  },
  {
   "cell_type": "code",
   "execution_count": 24,
   "metadata": {},
   "outputs": [
    {
     "data": {
      "text/html": [
       "Total time: 01:29 <p><table border=\"1\" class=\"dataframe\">\n",
       "  <thead>\n",
       "    <tr style=\"text-align: left;\">\n",
       "      <th>epoch</th>\n",
       "      <th>train_loss</th>\n",
       "      <th>valid_loss</th>\n",
       "      <th>accuracy</th>\n",
       "      <th>time</th>\n",
       "    </tr>\n",
       "  </thead>\n",
       "  <tbody>\n",
       "    <tr>\n",
       "      <td>1</td>\n",
       "      <td>0.343935</td>\n",
       "      <td>0.347136</td>\n",
       "      <td>0.908203</td>\n",
       "      <td>01:29</td>\n",
       "    </tr>\n",
       "  </tbody>\n",
       "</table>"
      ],
      "text/plain": [
       "<IPython.core.display.HTML object>"
      ]
     },
     "metadata": {},
     "output_type": "display_data"
    }
   ],
   "source": [
    "learn.freeze_to(-3)\n",
    "learn.fit_one_cycle(1, slice(5e-3/(2.6**4),5e-3), moms=(0.8,0.7))"
   ]
  },
  {
   "cell_type": "code",
   "execution_count": 25,
   "metadata": {},
   "outputs": [
    {
     "data": {
      "text/html": [
       "Total time: 38:30 <p><table border=\"1\" class=\"dataframe\">\n",
       "  <thead>\n",
       "    <tr style=\"text-align: left;\">\n",
       "      <th>epoch</th>\n",
       "      <th>train_loss</th>\n",
       "      <th>valid_loss</th>\n",
       "      <th>accuracy</th>\n",
       "      <th>time</th>\n",
       "    </tr>\n",
       "  </thead>\n",
       "  <tbody>\n",
       "    <tr>\n",
       "      <td>1</td>\n",
       "      <td>0.313308</td>\n",
       "      <td>0.336531</td>\n",
       "      <td>0.908203</td>\n",
       "      <td>02:05</td>\n",
       "    </tr>\n",
       "    <tr>\n",
       "      <td>2</td>\n",
       "      <td>0.317150</td>\n",
       "      <td>0.335088</td>\n",
       "      <td>0.908854</td>\n",
       "      <td>01:58</td>\n",
       "    </tr>\n",
       "    <tr>\n",
       "      <td>3</td>\n",
       "      <td>0.304244</td>\n",
       "      <td>0.312778</td>\n",
       "      <td>0.911458</td>\n",
       "      <td>01:48</td>\n",
       "    </tr>\n",
       "    <tr>\n",
       "      <td>4</td>\n",
       "      <td>0.275273</td>\n",
       "      <td>0.301537</td>\n",
       "      <td>0.914062</td>\n",
       "      <td>01:49</td>\n",
       "    </tr>\n",
       "    <tr>\n",
       "      <td>5</td>\n",
       "      <td>0.291528</td>\n",
       "      <td>0.339774</td>\n",
       "      <td>0.910156</td>\n",
       "      <td>01:49</td>\n",
       "    </tr>\n",
       "    <tr>\n",
       "      <td>6</td>\n",
       "      <td>0.235377</td>\n",
       "      <td>0.327983</td>\n",
       "      <td>0.904297</td>\n",
       "      <td>02:05</td>\n",
       "    </tr>\n",
       "    <tr>\n",
       "      <td>7</td>\n",
       "      <td>0.211315</td>\n",
       "      <td>0.315582</td>\n",
       "      <td>0.916667</td>\n",
       "      <td>01:57</td>\n",
       "    </tr>\n",
       "    <tr>\n",
       "      <td>8</td>\n",
       "      <td>0.217343</td>\n",
       "      <td>0.364763</td>\n",
       "      <td>0.917969</td>\n",
       "      <td>01:48</td>\n",
       "    </tr>\n",
       "    <tr>\n",
       "      <td>9</td>\n",
       "      <td>0.174435</td>\n",
       "      <td>0.390106</td>\n",
       "      <td>0.915365</td>\n",
       "      <td>01:48</td>\n",
       "    </tr>\n",
       "    <tr>\n",
       "      <td>10</td>\n",
       "      <td>0.135170</td>\n",
       "      <td>0.406347</td>\n",
       "      <td>0.917318</td>\n",
       "      <td>01:56</td>\n",
       "    </tr>\n",
       "    <tr>\n",
       "      <td>11</td>\n",
       "      <td>0.115940</td>\n",
       "      <td>0.400661</td>\n",
       "      <td>0.915365</td>\n",
       "      <td>02:03</td>\n",
       "    </tr>\n",
       "    <tr>\n",
       "      <td>12</td>\n",
       "      <td>0.122664</td>\n",
       "      <td>0.440822</td>\n",
       "      <td>0.915365</td>\n",
       "      <td>02:04</td>\n",
       "    </tr>\n",
       "    <tr>\n",
       "      <td>13</td>\n",
       "      <td>0.084769</td>\n",
       "      <td>0.521407</td>\n",
       "      <td>0.919922</td>\n",
       "      <td>01:53</td>\n",
       "    </tr>\n",
       "    <tr>\n",
       "      <td>14</td>\n",
       "      <td>0.078229</td>\n",
       "      <td>0.487945</td>\n",
       "      <td>0.919922</td>\n",
       "      <td>02:02</td>\n",
       "    </tr>\n",
       "    <tr>\n",
       "      <td>15</td>\n",
       "      <td>0.056069</td>\n",
       "      <td>0.487368</td>\n",
       "      <td>0.919271</td>\n",
       "      <td>02:00</td>\n",
       "    </tr>\n",
       "    <tr>\n",
       "      <td>16</td>\n",
       "      <td>0.057316</td>\n",
       "      <td>0.515525</td>\n",
       "      <td>0.918620</td>\n",
       "      <td>01:57</td>\n",
       "    </tr>\n",
       "    <tr>\n",
       "      <td>17</td>\n",
       "      <td>0.042386</td>\n",
       "      <td>0.516414</td>\n",
       "      <td>0.920573</td>\n",
       "      <td>01:54</td>\n",
       "    </tr>\n",
       "    <tr>\n",
       "      <td>18</td>\n",
       "      <td>0.041411</td>\n",
       "      <td>0.511197</td>\n",
       "      <td>0.919922</td>\n",
       "      <td>01:48</td>\n",
       "    </tr>\n",
       "    <tr>\n",
       "      <td>19</td>\n",
       "      <td>0.049470</td>\n",
       "      <td>0.551619</td>\n",
       "      <td>0.923177</td>\n",
       "      <td>01:48</td>\n",
       "    </tr>\n",
       "    <tr>\n",
       "      <td>20</td>\n",
       "      <td>0.033603</td>\n",
       "      <td>0.531163</td>\n",
       "      <td>0.921224</td>\n",
       "      <td>01:50</td>\n",
       "    </tr>\n",
       "  </tbody>\n",
       "</table>"
      ],
      "text/plain": [
       "<IPython.core.display.HTML object>"
      ]
     },
     "metadata": {},
     "output_type": "display_data"
    }
   ],
   "source": [
    "learn.unfreeze()\n",
    "learn.fit_one_cycle(20, slice(3e-4,3e-3), moms=(0.8,0.7))"
   ]
  },
  {
   "cell_type": "code",
   "execution_count": 26,
   "metadata": {},
   "outputs": [],
   "source": [
    "from fastai.vision import *"
   ]
  },
  {
   "cell_type": "code",
   "execution_count": 27,
   "metadata": {},
   "outputs": [
    {
     "data": {
      "image/png": "[encoded data removed]",
      "text/plain": [
       "<Figure size 480x480 with 1 Axes>"
      ]
     },
     "metadata": {},
     "output_type": "display_data"
    }
   ],
   "source": [
    "interp = ClassificationInterpretation.from_learner(learn)\n",
    "interp.plot_confusion_matrix(figsize=(4,4), dpi=120)"
   ]
  },
  {
   "cell_type": "code",
   "execution_count": 28,
   "metadata": {},
   "outputs": [
    {
     "data": {
      "image/png": "[encoded data removed]",
      "text/plain": [
       "<Figure size 432x288 with 1 Axes>"
      ]
     },
     "metadata": {},
     "output_type": "display_data"
    }
   ],
   "source": [
    "learn.recorder.plot_losses()"
   ]
  },
  {
   "cell_type": "code",
   "execution_count": 29,
   "metadata": {},
   "outputs": [
    {
     "data": {
      "image/png": "[encoded data removed]",
      "text/plain": [
       "<Figure size 432x288 with 1 Axes>"
      ]
     },
     "metadata": {},
     "output_type": "display_data"
    }
   ],
   "source": [
    "learn.recorder.plot_metrics()"
   ]
  },
  {
   "cell_type": "code",
   "execution_count": null,
   "metadata": {},
   "outputs": [],
   "source": []
  },
  {
   "cell_type": "code",
   "execution_count": 30,
   "metadata": {},
   "outputs": [],
   "source": [
    "def intrinsic_attention_modified_old(self, text:str, class_id:int=None):\n",
    "        ids = self.data.one_item(text)[0]\n",
    "        emb = self.model[0].module.encoder(ids).detach().requires_grad_(True)\n",
    "        self.model.train()\n",
    "        self.model.zero_grad()\n",
    "        self.model.reset()\n",
    "        lstm_output = self.model[0].module(emb, from_embeddings=True)\n",
    "        self.model.eval()\n",
    "        self.model.zero_grad()\n",
    "        self.model.reset()\n",
    "        cl = self.model[1](lstm_output)[0].softmax(dim=-1)\n",
    "        if class_id is None: class_id = cl.argmax()\n",
    "        cl[0][class_id].backward()\n",
    "        attn = emb.grad.squeeze().abs().sum(dim=-1)\n",
    "        attn /= attn.max()\n",
    "        tokens = self.data.single_ds.reconstruct(ids[0])\n",
    "        return tokens, attn\n",
    "    \n",
    "def intrinsic_attention_modified(self, text:str, class_id:int=None):\n",
    "        \"\"\"Calculate the intrinsic attention of the input w.r.t to an output `class_id`, or the classification given by the model if `None`.\n",
    "        For reference, see the Sequential Jacobian session at https://www.cs.toronto.edu/~graves/preprint.pdf\n",
    "        \"\"\"\n",
    "        self.model.train()\n",
    "        eval_dropouts(self.model)\n",
    "        self.model.zero_grad()\n",
    "        self.model.reset()\n",
    "        ids = self.data.one_item(text)[0]\n",
    "        emb = self.model[0].module.encoder(ids).detach().requires_grad_(True)                \n",
    "        lstm_output = self.model[0].module(emb, from_embeddings=True)\n",
    "        self.model.eval()\n",
    "        cl = self.model[1](lstm_output)[0].softmax(dim=-1)\n",
    "        if class_id is None: class_id = cl.argmax()\n",
    "        cl[0][class_id].backward()\n",
    "        attn = emb.grad.squeeze().abs().sum(dim=-1)\n",
    "        attn /= attn.max() \n",
    "        tokens = self.data.single_ds.reconstruct(ids[0])\n",
    "        return tokens, attn\n",
    "\n",
    "def eval_dropouts(mod):\n",
    "        module_name =  mod.__class__.__name__\n",
    "        if 'Dropout' in module_name or 'BatchNorm' in module_name: mod.training = False\n",
    "        for module in mod.children(): eval_dropouts(module)\n",
    "\n",
    "TextClassificationInterpretation.intrinsic_attention = intrinsic_attention_modified\n",
    "ci = TextClassificationInterpretation.from_learner(learn)"
   ]
  },
  {
   "cell_type": "code",
   "execution_count": 31,
   "metadata": {},
   "outputs": [],
   "source": [
    "import matplotlib.cm as cm"
   ]
  },
  {
   "cell_type": "code",
   "execution_count": 32,
   "metadata": {},
   "outputs": [],
   "source": [
    "def interpret_result(row_index):\n",
    "    example = df['text'][row_index]\n",
    "    label = df['label'][row_index]\n",
    "    print('True Label:',label)\n",
    "    \n",
    "    prediction_class = learn.predict(example)[0]\n",
    "    prediction_probs = learn.predict(example)[2]\n",
    "    \n",
    "    print('\\nPred Label:',prediction_class)\n",
    "    print('\\nClass Probabilities:',prediction_probs)\n",
    "    \n",
    "    print('\\n***Raw Text***')\n",
    "    print(example)\n",
    "    \n",
    "    print('\\n***Intrinsic Attention***')\n",
    "    \n",
    "    ci.show_intrinsic_attention(example,  cmap=cm.Reds)\n",
    "    \n",
    "    prediction_class = learn.predict(example)[0]\n",
    "    prediction_probs = learn.predict(example)[2]\n",
    "    \n",
    "    \n",
    "    "
   ]
  },
  {
   "cell_type": "code",
   "execution_count": null,
   "metadata": {},
   "outputs": [],
   "source": []
  },
  {
   "cell_type": "code",
   "execution_count": 33,
   "metadata": {},
   "outputs": [
    {
     "name": "stdout",
     "output_type": "stream",
     "text": [
      "True Label: Accident\n",
      "\n",
      "Pred Label: Accident\n",
      "\n",
      "Class Probabilities: tensor([1.8629e-04, 9.5244e-06, 9.9980e-01])\n",
      "\n",
      "***Raw Text***\n",
      "\n",
      ".MICRO.\n",
      "NONE\n",
      ".LOCATIONExtremity\n",
      ".INJURYBlunt injury.\n",
      ".INJURYDESC.\n",
      "Left leg shorter than Right leg. Left leg bent at knee and foot rotated outward.\n",
      "\n",
      "***Intrinsic Attention***\n"
     ]
    },
    {
     "data": {
      "text/html": [
       "<span style=\"font-family: monospace;\"><span title=\"0.135\" style=\"background-color: rgba(253, 221, 206, 0.5);\">xxbos</span> <span title=\"0.021\" style=\"background-color: rgba(254, 241, 235, 0.5);\">xxup</span> <span title=\"0.030\" style=\"background-color: rgba(254, 240, 233, 0.5);\">.micro</span> <span title=\"0.127\" style=\"background-color: rgba(253, 223, 209, 0.5);\">.</span> <span title=\"0.060\" style=\"background-color: rgba(254, 235, 225, 0.5);\">xxup</span> <span title=\"0.036\" style=\"background-color: rgba(254, 239, 231, 0.5);\">none</span> <span title=\"0.055\" style=\"background-color: rgba(254, 235, 226, 0.5);\">.locationextremity</span> <span title=\"0.267\" style=\"background-color: rgba(252, 181, 154, 0.5);\">.injuryblunt</span> <span title=\"0.094\" style=\"background-color: rgba(254, 229, 217, 0.5);\">injury</span> <span title=\"0.264\" style=\"background-color: rgba(252, 182, 156, 0.5);\">.</span> <span title=\"0.094\" style=\"background-color: rgba(254, 229, 217, 0.5);\">xxup</span> <span title=\"0.116\" style=\"background-color: rgba(254, 225, 212, 0.5);\">.injurydesc</span> <span title=\"0.047\" style=\"background-color: rgba(254, 237, 228, 0.5);\">.</span> <span title=\"0.016\" style=\"background-color: rgba(254, 242, 236, 0.5);\">xxmaj</span> <span title=\"0.010\" style=\"background-color: rgba(254, 243, 238, 0.5);\">left</span> <span title=\"0.015\" style=\"background-color: rgba(254, 243, 237, 0.5);\">leg</span> <span title=\"0.077\" style=\"background-color: rgba(254, 232, 222, 0.5);\">shorter</span> <span title=\"0.030\" style=\"background-color: rgba(254, 240, 233, 0.5);\">than</span> <span title=\"0.072\" style=\"background-color: rgba(254, 233, 223, 0.5);\">xxmaj</span> <span title=\"0.128\" style=\"background-color: rgba(253, 223, 209, 0.5);\">right</span> <span title=\"0.330\" style=\"background-color: rgba(252, 160, 131, 0.5);\">leg</span> <span title=\"0.585\" style=\"background-color: rgba(242, 74, 53, 0.5);\">.</span> <span title=\"1.000\" style=\"background-color: rgba(103, 0, 12, 0.5);\">xxmaj</span> <span title=\"0.553\" style=\"background-color: rgba(245, 86, 61, 0.5);\">left</span> <span title=\"0.214\" style=\"background-color: rgba(252, 198, 175, 0.5);\">leg</span> <span title=\"0.163\" style=\"background-color: rgba(253, 213, 195, 0.5);\">bent</span> <span title=\"0.216\" style=\"background-color: rgba(252, 197, 174, 0.5);\">at</span> <span title=\"0.039\" style=\"background-color: rgba(254, 238, 230, 0.5);\">knee</span> <span title=\"0.044\" style=\"background-color: rgba(254, 237, 229, 0.5);\">and</span> <span title=\"0.128\" style=\"background-color: rgba(253, 223, 209, 0.5);\">foot</span> <span title=\"0.199\" style=\"background-color: rgba(252, 202, 182, 0.5);\">rotated</span> <span title=\"0.489\" style=\"background-color: rgba(251, 109, 77, 0.5);\">outward</span> <span title=\"0.183\" style=\"background-color: rgba(253, 207, 188, 0.5);\">.</span></span>"
      ],
      "text/plain": [
       "<IPython.core.display.HTML object>"
      ]
     },
     "metadata": {},
     "output_type": "display_data"
    }
   ],
   "source": [
    "interpret_result(16)"
   ]
  },
  {
   "cell_type": "code",
   "execution_count": 34,
   "metadata": {},
   "outputs": [
    {
     "name": "stdout",
     "output_type": "stream",
     "text": [
      "True Label: Accident\n",
      "\n",
      "Pred Label: Accident\n",
      "\n",
      "Class Probabilities: tensor([5.6940e-07, 2.7951e-06, 1.0000e+00])\n",
      "\n",
      "***Raw Text***\n",
      "\n",
      ".MICRO.\n",
      "Heart: Negative\n",
      "\n",
      "Lungs: Pulmonary edema\n",
      "\n",
      "Liver: Mild steatosis\n",
      "\n",
      "Kidney: Mild arteriolonephrosclerosis\n",
      "\n",
      "Brain: Negative\n",
      ".LOCATIONExtremity\n",
      ".INJURYIllicit substance use.\n",
      ".INJURYDESC.\n",
      "Acute injection sites left antecubital fossa\n",
      "\n",
      ".LOCATIONHead\n",
      ".INJURYBlunt injury.\n",
      ".INJURYDESC.\n",
      "Avulsed central incisor\n",
      "\n",
      "***Intrinsic Attention***\n"
     ]
    },
    {
     "data": {
      "text/html": [
       "<span style=\"font-family: monospace;\"><span title=\"0.025\" style=\"background-color: rgba(254, 241, 234, 0.5);\">xxbos</span> <span title=\"0.004\" style=\"background-color: rgba(255, 245, 240, 0.5);\">xxup</span> <span title=\"0.005\" style=\"background-color: rgba(254, 244, 239, 0.5);\">.micro</span> <span title=\"0.027\" style=\"background-color: rgba(254, 241, 234, 0.5);\">.</span> <span title=\"0.007\" style=\"background-color: rgba(254, 244, 239, 0.5);\">xxmaj</span> <span title=\"0.004\" style=\"background-color: rgba(255, 245, 240, 0.5);\">heart</span> <span title=\"0.011\" style=\"background-color: rgba(254, 243, 238, 0.5);\">:</span> <span title=\"0.058\" style=\"background-color: rgba(254, 235, 226, 0.5);\">xxmaj</span> <span title=\"0.013\" style=\"background-color: rgba(254, 243, 237, 0.5);\">negative</span> <span title=\"0.019\" style=\"background-color: rgba(254, 242, 236, 0.5);\">xxmaj</span> <span title=\"0.133\" style=\"background-color: rgba(253, 222, 208, 0.5);\">lungs</span> <span title=\"0.024\" style=\"background-color: rgba(254, 241, 234, 0.5);\">:</span> <span title=\"0.011\" style=\"background-color: rgba(254, 243, 238, 0.5);\">xxmaj</span> <span title=\"0.062\" style=\"background-color: rgba(254, 235, 225, 0.5);\">pulmonary</span> <span title=\"0.018\" style=\"background-color: rgba(254, 242, 236, 0.5);\">edema</span> <span title=\"0.021\" style=\"background-color: rgba(254, 241, 235, 0.5);\">xxmaj</span> <span title=\"0.158\" style=\"background-color: rgba(253, 214, 197, 0.5);\">liver</span> <span title=\"0.036\" style=\"background-color: rgba(254, 239, 231, 0.5);\">:</span> <span title=\"0.007\" style=\"background-color: rgba(254, 244, 239, 0.5);\">xxmaj</span> <span title=\"0.007\" style=\"background-color: rgba(254, 244, 239, 0.5);\">mild</span> <span title=\"0.045\" style=\"background-color: rgba(254, 237, 229, 0.5);\">steatosis</span> <span title=\"0.016\" style=\"background-color: rgba(254, 243, 237, 0.5);\">xxmaj</span> <span title=\"0.014\" style=\"background-color: rgba(254, 243, 237, 0.5);\">kidney</span> <span title=\"0.050\" style=\"background-color: rgba(254, 237, 228, 0.5);\">:</span> <span title=\"0.037\" style=\"background-color: rgba(254, 239, 231, 0.5);\">xxmaj</span> <span title=\"0.005\" style=\"background-color: rgba(254, 244, 239, 0.5);\">mild</span> <span title=\"0.007\" style=\"background-color: rgba(254, 244, 239, 0.5);\">arteriolonephrosclerosis</span> <span title=\"0.058\" style=\"background-color: rgba(254, 235, 226, 0.5);\">xxmaj</span> <span title=\"0.015\" style=\"background-color: rgba(254, 243, 237, 0.5);\">brain</span> <span title=\"0.015\" style=\"background-color: rgba(254, 243, 237, 0.5);\">:</span> <span title=\"0.083\" style=\"background-color: rgba(254, 231, 220, 0.5);\">xxmaj</span> <span title=\"0.114\" style=\"background-color: rgba(254, 225, 212, 0.5);\">negative</span> <span title=\"0.012\" style=\"background-color: rgba(254, 243, 237, 0.5);\">.locationextremity</span> <span title=\"0.013\" style=\"background-color: rgba(254, 243, 237, 0.5);\">.injuryillicit</span> <span title=\"0.086\" style=\"background-color: rgba(254, 231, 220, 0.5);\">substance</span> <span title=\"0.018\" style=\"background-color: rgba(254, 242, 236, 0.5);\">use</span> <span title=\"0.028\" style=\"background-color: rgba(254, 240, 233, 0.5);\">.</span> <span title=\"0.107\" style=\"background-color: rgba(254, 227, 214, 0.5);\">xxup</span> <span title=\"0.044\" style=\"background-color: rgba(254, 237, 229, 0.5);\">.injurydesc</span> <span title=\"0.092\" style=\"background-color: rgba(254, 229, 218, 0.5);\">.</span> <span title=\"0.032\" style=\"background-color: rgba(254, 239, 232, 0.5);\">xxmaj</span> <span title=\"0.149\" style=\"background-color: rgba(253, 216, 200, 0.5);\">acute</span> <span title=\"0.095\" style=\"background-color: rgba(254, 229, 217, 0.5);\">injection</span> <span title=\"0.060\" style=\"background-color: rgba(254, 235, 225, 0.5);\">sites</span> <span title=\"0.010\" style=\"background-color: rgba(254, 243, 238, 0.5);\">left</span> <span title=\"0.006\" style=\"background-color: rgba(254, 244, 239, 0.5);\">antecubital</span> <span title=\"0.007\" style=\"background-color: rgba(254, 244, 239, 0.5);\">fossa</span> <span title=\"0.021\" style=\"background-color: rgba(254, 241, 235, 0.5);\">.locationhead</span> <span title=\"0.013\" style=\"background-color: rgba(254, 243, 237, 0.5);\">.injuryblunt</span> <span title=\"0.023\" style=\"background-color: rgba(254, 241, 235, 0.5);\">injury</span> <span title=\"0.033\" style=\"background-color: rgba(254, 239, 232, 0.5);\">.</span> <span title=\"0.332\" style=\"background-color: rgba(252, 159, 129, 0.5);\">xxup</span> <span title=\"0.240\" style=\"background-color: rgba(252, 190, 165, 0.5);\">.injurydesc</span> <span title=\"0.092\" style=\"background-color: rgba(254, 229, 218, 0.5);\">.</span> <span title=\"0.116\" style=\"background-color: rgba(254, 225, 212, 0.5);\">xxmaj</span> <span title=\"0.335\" style=\"background-color: rgba(252, 159, 129, 0.5);\">avulsed</span> <span title=\"0.028\" style=\"background-color: rgba(254, 240, 233, 0.5);\">central</span> <span title=\"0.010\" style=\"background-color: rgba(254, 243, 238, 0.5);\">incisor</span></span>"
      ],
      "text/plain": [
       "<IPython.core.display.HTML object>"
      ]
     },
     "metadata": {},
     "output_type": "display_data"
    }
   ],
   "source": [
    "interpret_result(20)"
   ]
  },
  {
   "cell_type": "code",
   "execution_count": 35,
   "metadata": {},
   "outputs": [
    {
     "name": "stdout",
     "output_type": "stream",
     "text": [
      "True Label: Suicide\n",
      "\n",
      "Pred Label: Suicide\n",
      "\n",
      "Class Probabilities: tensor([9.9998e-01, 4.9867e-06, 1.6165e-05])\n",
      "\n",
      "***Raw Text***\n",
      "\n",
      ".MICRO.\n",
      "NONE\n",
      ".LOCATIONHead and neck\n",
      ".INJURYHanging.\n",
      ".INJURYDESC.\n",
      "PRESENCE OF A LIGATURE: Not present \n",
      "\n",
      "DESCRIPTION OF THE LIGATURE:  N/A\n",
      "\n",
      "LIGATURE FURROW: \n",
      "\n",
      "COMPLETELY OR PARTIALLY CIRCUMFERENTIAL:  Complete (primary) with incomplete left lateral takeoff \n",
      "\n",
      "COLOR:  Tan with purple margins \n",
      "\n",
      "ABRASION:  No pattern\n",
      "\n",
      "WIDTH:  Up to 1.2 cm\n",
      "\n",
      "LOWEST POINT OF LIGATURE FURROW:  Immediately above laryngeal prominence\n",
      "\n",
      "HIGHEST POINT OF LIGATURE FURROW:  18 cm top of head (primary) and 14 cm top of head (secondary); 6 cm below inferior attachment of each ear \n",
      "\n",
      "OTHER INJURIES:  Blue ecchymosis left medial lower eyelid; purple ecchymoses up to 5 x 1 cm on left neck superior and inferior to furrow, oriented parallel to furrow\n",
      "\n",
      "PETECHIAL HEMORRHAGES:  Prominent periorbital cutaneous petechiae; fine bulbar and palpebral petechiae \n",
      "\n",
      "***Intrinsic Attention***\n"
     ]
    },
    {
     "data": {
      "text/html": [
       "<span style=\"font-family: monospace;\"><span title=\"0.150\" style=\"background-color: rgba(253, 216, 200, 0.5);\">xxbos</span> <span title=\"0.019\" style=\"background-color: rgba(254, 242, 236, 0.5);\">xxup</span> <span title=\"0.015\" style=\"background-color: rgba(254, 243, 237, 0.5);\">.micro</span> <span title=\"0.101\" style=\"background-color: rgba(254, 228, 216, 0.5);\">.</span> <span title=\"0.038\" style=\"background-color: rgba(254, 239, 231, 0.5);\">xxup</span> <span title=\"0.011\" style=\"background-color: rgba(254, 243, 238, 0.5);\">none</span> <span title=\"0.034\" style=\"background-color: rgba(254, 239, 232, 0.5);\">.locationhead</span> <span title=\"0.119\" style=\"background-color: rgba(254, 225, 211, 0.5);\">and</span> <span title=\"0.034\" style=\"background-color: rgba(254, 239, 232, 0.5);\">neck</span> <span title=\"0.140\" style=\"background-color: rgba(253, 220, 205, 0.5);\">.injuryhanging</span> <span title=\"0.079\" style=\"background-color: rgba(254, 231, 221, 0.5);\">.</span> <span title=\"0.174\" style=\"background-color: rgba(253, 209, 191, 0.5);\">xxup</span> <span title=\"0.092\" style=\"background-color: rgba(254, 229, 218, 0.5);\">.injurydesc</span> <span title=\"0.549\" style=\"background-color: rgba(246, 87, 62, 0.5);\">.</span> <span title=\"0.025\" style=\"background-color: rgba(254, 241, 234, 0.5);\">xxup</span> <span title=\"0.022\" style=\"background-color: rgba(254, 241, 235, 0.5);\">presence</span> <span title=\"0.023\" style=\"background-color: rgba(254, 241, 235, 0.5);\">xxup</span> <span title=\"0.077\" style=\"background-color: rgba(254, 232, 222, 0.5);\">of</span> <span title=\"0.016\" style=\"background-color: rgba(254, 242, 236, 0.5);\">a</span> <span title=\"0.038\" style=\"background-color: rgba(254, 239, 231, 0.5);\">xxup</span> <span title=\"0.117\" style=\"background-color: rgba(254, 225, 212, 0.5);\">ligature</span> <span title=\"1.000\" style=\"background-color: rgba(103, 0, 12, 0.5);\">:</span> <span title=\"0.104\" style=\"background-color: rgba(254, 227, 215, 0.5);\">xxmaj</span> <span title=\"0.175\" style=\"background-color: rgba(253, 209, 191, 0.5);\">not</span> <span title=\"0.116\" style=\"background-color: rgba(254, 225, 212, 0.5);\">present</span> <span title=\"0.106\" style=\"background-color: rgba(254, 227, 214, 0.5);\">xxup</span> <span title=\"0.483\" style=\"background-color: rgba(251, 111, 79, 0.5);\">description</span> <span title=\"0.057\" style=\"background-color: rgba(254, 235, 226, 0.5);\">xxup</span> <span title=\"0.109\" style=\"background-color: rgba(254, 226, 213, 0.5);\">of</span> <span title=\"0.577\" style=\"background-color: rgba(243, 77, 55, 0.5);\">xxup</span> <span title=\"0.211\" style=\"background-color: rgba(252, 199, 177, 0.5);\">the</span> <span title=\"0.090\" style=\"background-color: rgba(254, 230, 219, 0.5);\">xxup</span> <span title=\"0.058\" style=\"background-color: rgba(254, 235, 226, 0.5);\">ligature</span> <span title=\"0.468\" style=\"background-color: rgba(251, 116, 84, 0.5);\">:</span> <span title=\"0.102\" style=\"background-color: rgba(254, 227, 215, 0.5);\">n</span> <span title=\"0.066\" style=\"background-color: rgba(254, 234, 224, 0.5);\">/</span> <span title=\"0.025\" style=\"background-color: rgba(254, 241, 234, 0.5);\">a</span> <span title=\"0.076\" style=\"background-color: rgba(254, 232, 222, 0.5);\">xxup</span> <span title=\"0.070\" style=\"background-color: rgba(254, 233, 224, 0.5);\">ligature</span> <span title=\"0.473\" style=\"background-color: rgba(251, 114, 82, 0.5);\">xxup</span> <span title=\"0.084\" style=\"background-color: rgba(254, 231, 220, 0.5);\">furrow</span> <span title=\"0.250\" style=\"background-color: rgba(252, 186, 160, 0.5);\">:</span> <span title=\"0.204\" style=\"background-color: rgba(252, 200, 179, 0.5);\">xxup</span> <span title=\"0.076\" style=\"background-color: rgba(254, 232, 222, 0.5);\">completely</span> <span title=\"0.084\" style=\"background-color: rgba(254, 231, 220, 0.5);\">xxup</span> <span title=\"0.079\" style=\"background-color: rgba(254, 231, 221, 0.5);\">or</span> <span title=\"0.537\" style=\"background-color: rgba(247, 91, 65, 0.5);\">xxup</span> <span title=\"0.073\" style=\"background-color: rgba(254, 233, 223, 0.5);\">partially</span> <span title=\"0.532\" style=\"background-color: rgba(247, 93, 66, 0.5);\">xxup</span> <span title=\"0.066\" style=\"background-color: rgba(254, 233, 224, 0.5);\">circumferential</span> <span title=\"0.095\" style=\"background-color: rgba(254, 229, 217, 0.5);\">:</span> <span title=\"0.105\" style=\"background-color: rgba(254, 227, 215, 0.5);\">xxmaj</span> <span title=\"0.682\" style=\"background-color: rgba(222, 42, 37, 0.5);\">complete</span> <span title=\"0.061\" style=\"background-color: rgba(254, 235, 225, 0.5);\">(</span> <span title=\"0.116\" style=\"background-color: rgba(254, 225, 212, 0.5);\">primary</span> <span title=\"0.055\" style=\"background-color: rgba(254, 235, 226, 0.5);\">)</span> <span title=\"0.229\" style=\"background-color: rgba(252, 193, 169, 0.5);\">with</span> <span title=\"0.064\" style=\"background-color: rgba(254, 234, 224, 0.5);\">incomplete</span> <span title=\"0.281\" style=\"background-color: rgba(252, 177, 150, 0.5);\">left</span> <span title=\"0.054\" style=\"background-color: rgba(254, 236, 227, 0.5);\">lateral</span> <span title=\"0.071\" style=\"background-color: rgba(254, 233, 223, 0.5);\">takeoff</span> <span title=\"0.477\" style=\"background-color: rgba(251, 112, 80, 0.5);\">xxup</span> <span title=\"0.144\" style=\"background-color: rgba(253, 219, 203, 0.5);\">color</span> <span title=\"0.295\" style=\"background-color: rgba(252, 172, 144, 0.5);\">:</span> <span title=\"0.058\" style=\"background-color: rgba(254, 235, 226, 0.5);\">xxmaj</span> <span title=\"0.079\" style=\"background-color: rgba(254, 231, 221, 0.5);\">tan</span> <span title=\"0.254\" style=\"background-color: rgba(252, 185, 159, 0.5);\">with</span> <span title=\"0.080\" style=\"background-color: rgba(254, 231, 221, 0.5);\">purple</span> <span title=\"0.128\" style=\"background-color: rgba(253, 223, 209, 0.5);\">margins</span> <span title=\"0.244\" style=\"background-color: rgba(252, 189, 163, 0.5);\">xxup</span> <span title=\"0.069\" style=\"background-color: rgba(254, 233, 224, 0.5);\">abrasion</span> <span title=\"0.090\" style=\"background-color: rgba(254, 230, 219, 0.5);\">:</span> <span title=\"0.767\" style=\"background-color: rgba(197, 22, 27, 0.5);\">xxmaj</span> <span title=\"0.043\" style=\"background-color: rgba(254, 237, 229, 0.5);\">no</span> <span title=\"0.062\" style=\"background-color: rgba(254, 235, 225, 0.5);\">pattern</span> <span title=\"0.241\" style=\"background-color: rgba(252, 190, 165, 0.5);\">xxup</span> <span title=\"0.077\" style=\"background-color: rgba(254, 232, 222, 0.5);\">width</span> <span title=\"0.164\" style=\"background-color: rgba(253, 212, 194, 0.5);\">:</span> <span title=\"0.233\" style=\"background-color: rgba(252, 192, 168, 0.5);\">xxmaj</span> <span title=\"0.053\" style=\"background-color: rgba(254, 236, 227, 0.5);\">up</span> <span title=\"0.054\" style=\"background-color: rgba(254, 236, 227, 0.5);\">to</span> <span title=\"0.289\" style=\"background-color: rgba(252, 173, 145, 0.5);\">1.2</span> <span title=\"0.062\" style=\"background-color: rgba(254, 235, 225, 0.5);\">cm</span> <span title=\"0.046\" style=\"background-color: rgba(254, 237, 229, 0.5);\">xxup</span> <span title=\"0.137\" style=\"background-color: rgba(253, 220, 205, 0.5);\">lowest</span> <span title=\"0.231\" style=\"background-color: rgba(252, 192, 168, 0.5);\">xxup</span> <span title=\"0.090\" style=\"background-color: rgba(254, 230, 219, 0.5);\">point</span> <span title=\"0.121\" style=\"background-color: rgba(254, 225, 211, 0.5);\">xxup</span> <span title=\"0.512\" style=\"background-color: rgba(249, 100, 70, 0.5);\">of</span> <span title=\"0.089\" style=\"background-color: rgba(254, 230, 219, 0.5);\">xxup</span> <span title=\"0.069\" style=\"background-color: rgba(254, 233, 224, 0.5);\">ligature</span> <span title=\"0.296\" style=\"background-color: rgba(252, 172, 144, 0.5);\">xxup</span> <span title=\"0.112\" style=\"background-color: rgba(254, 226, 213, 0.5);\">furrow</span> <span title=\"0.120\" style=\"background-color: rgba(254, 225, 211, 0.5);\">:</span> <span title=\"0.066\" style=\"background-color: rgba(254, 234, 224, 0.5);\">xxmaj</span> <span title=\"0.079\" style=\"background-color: rgba(254, 231, 221, 0.5);\">immediately</span> <span title=\"0.087\" style=\"background-color: rgba(254, 230, 219, 0.5);\">above</span> <span title=\"0.602\" style=\"background-color: rgba(241, 66, 49, 0.5);\">laryngeal</span> <span title=\"0.122\" style=\"background-color: rgba(254, 224, 210, 0.5);\">prominence</span> <span title=\"0.407\" style=\"background-color: rgba(251, 135, 103, 0.5);\">xxup</span> <span title=\"0.096\" style=\"background-color: rgba(254, 229, 217, 0.5);\">highest</span> <span title=\"0.084\" style=\"background-color: rgba(254, 231, 220, 0.5);\">xxup</span> <span title=\"0.051\" style=\"background-color: rgba(254, 236, 227, 0.5);\">point</span> <span title=\"0.361\" style=\"background-color: rgba(252, 150, 119, 0.5);\">xxup</span> <span title=\"0.059\" style=\"background-color: rgba(254, 235, 225, 0.5);\">of</span> <span title=\"0.504\" style=\"background-color: rgba(250, 105, 73, 0.5);\">xxup</span> <span title=\"0.038\" style=\"background-color: rgba(254, 239, 231, 0.5);\">ligature</span> <span title=\"0.088\" style=\"background-color: rgba(254, 230, 219, 0.5);\">xxup</span> <span title=\"0.248\" style=\"background-color: rgba(252, 187, 162, 0.5);\">furrow</span> <span title=\"0.289\" style=\"background-color: rgba(252, 175, 147, 0.5);\">:</span> <span title=\"0.820\" style=\"background-color: rgba(180, 18, 24, 0.5);\">18</span> <span title=\"0.147\" style=\"background-color: rgba(253, 218, 202, 0.5);\">cm</span> <span title=\"0.059\" style=\"background-color: rgba(254, 235, 225, 0.5);\">top</span> <span title=\"0.080\" style=\"background-color: rgba(254, 231, 221, 0.5);\">of</span> <span title=\"0.502\" style=\"background-color: rgba(250, 105, 73, 0.5);\">head</span> <span title=\"0.100\" style=\"background-color: rgba(254, 228, 216, 0.5);\">(</span> <span title=\"0.305\" style=\"background-color: rgba(252, 168, 139, 0.5);\">primary</span> <span title=\"0.064\" style=\"background-color: rgba(254, 234, 224, 0.5);\">)</span> <span title=\"0.092\" style=\"background-color: rgba(254, 229, 218, 0.5);\">and</span> <span title=\"0.055\" style=\"background-color: rgba(254, 235, 226, 0.5);\">14</span> <span title=\"0.372\" style=\"background-color: rgba(252, 146, 114, 0.5);\">cm</span> <span title=\"0.067\" style=\"background-color: rgba(254, 233, 224, 0.5);\">top</span> <span title=\"0.487\" style=\"background-color: rgba(251, 110, 78, 0.5);\">of</span> <span title=\"0.048\" style=\"background-color: rgba(254, 237, 228, 0.5);\">head</span> <span title=\"0.169\" style=\"background-color: rgba(253, 211, 192, 0.5);\">(</span> <span title=\"0.076\" style=\"background-color: rgba(254, 232, 222, 0.5);\">secondary</span> <span title=\"0.266\" style=\"background-color: rgba(252, 181, 154, 0.5);\">)</span> <span title=\"0.089\" style=\"background-color: rgba(254, 230, 219, 0.5);\">;</span> <span title=\"0.172\" style=\"background-color: rgba(253, 211, 192, 0.5);\">6</span> <span title=\"0.169\" style=\"background-color: rgba(253, 211, 192, 0.5);\">cm</span> <span title=\"0.306\" style=\"background-color: rgba(252, 168, 139, 0.5);\">below</span> <span title=\"0.078\" style=\"background-color: rgba(254, 231, 221, 0.5);\">inferior</span> <span title=\"0.055\" style=\"background-color: rgba(254, 235, 226, 0.5);\">attachment</span> <span title=\"0.090\" style=\"background-color: rgba(254, 229, 218, 0.5);\">of</span> <span title=\"0.066\" style=\"background-color: rgba(254, 234, 224, 0.5);\">each</span> <span title=\"0.105\" style=\"background-color: rgba(254, 227, 215, 0.5);\">ear</span> <span title=\"0.037\" style=\"background-color: rgba(254, 239, 231, 0.5);\">xxup</span> <span title=\"0.057\" style=\"background-color: rgba(254, 235, 226, 0.5);\">other</span> <span title=\"0.069\" style=\"background-color: rgba(254, 233, 224, 0.5);\">xxup</span> <span title=\"0.225\" style=\"background-color: rgba(252, 194, 171, 0.5);\">injuries</span> <span title=\"0.060\" style=\"background-color: rgba(254, 235, 225, 0.5);\">:</span> <span title=\"0.044\" style=\"background-color: rgba(254, 237, 229, 0.5);\">xxmaj</span> <span title=\"0.111\" style=\"background-color: rgba(254, 226, 213, 0.5);\">blue</span> <span title=\"0.034\" style=\"background-color: rgba(254, 239, 232, 0.5);\">ecchymosis</span> <span title=\"0.102\" style=\"background-color: rgba(254, 227, 215, 0.5);\">left</span> <span title=\"0.147\" style=\"background-color: rgba(253, 218, 202, 0.5);\">medial</span> <span title=\"0.284\" style=\"background-color: rgba(252, 176, 148, 0.5);\">lower</span> <span title=\"0.126\" style=\"background-color: rgba(253, 223, 209, 0.5);\">eyelid</span> <span title=\"0.159\" style=\"background-color: rgba(253, 214, 197, 0.5);\">;</span> <span title=\"0.177\" style=\"background-color: rgba(253, 208, 189, 0.5);\">purple</span> <span title=\"0.117\" style=\"background-color: rgba(254, 225, 212, 0.5);\">ecchymoses</span> <span title=\"0.068\" style=\"background-color: rgba(254, 233, 224, 0.5);\">up</span> <span title=\"0.293\" style=\"background-color: rgba(252, 173, 145, 0.5);\">to</span> <span title=\"0.086\" style=\"background-color: rgba(254, 230, 219, 0.5);\">5</span> <span title=\"0.175\" style=\"background-color: rgba(253, 209, 191, 0.5);\">x</span> <span title=\"0.082\" style=\"background-color: rgba(254, 231, 220, 0.5);\">1</span> <span title=\"0.049\" style=\"background-color: rgba(254, 237, 228, 0.5);\">cm</span> <span title=\"0.227\" style=\"background-color: rgba(252, 193, 169, 0.5);\">on</span> <span title=\"0.556\" style=\"background-color: rgba(245, 84, 60, 0.5);\">left</span> <span title=\"0.455\" style=\"background-color: rgba(251, 120, 88, 0.5);\">neck</span> <span title=\"0.313\" style=\"background-color: rgba(252, 166, 137, 0.5);\">superior</span> <span title=\"0.280\" style=\"background-color: rgba(252, 177, 150, 0.5);\">and</span> <span title=\"0.099\" style=\"background-color: rgba(254, 228, 216, 0.5);\">inferior</span> <span title=\"0.030\" style=\"background-color: rgba(254, 240, 233, 0.5);\">to</span> <span title=\"0.098\" style=\"background-color: rgba(254, 228, 216, 0.5);\">furrow</span> <span title=\"0.110\" style=\"background-color: rgba(254, 226, 213, 0.5);\">,</span> <span title=\"0.135\" style=\"background-color: rgba(253, 221, 206, 0.5);\">oriented</span> <span title=\"0.055\" style=\"background-color: rgba(254, 235, 226, 0.5);\">parallel</span> <span title=\"0.043\" style=\"background-color: rgba(254, 238, 230, 0.5);\">to</span> <span title=\"0.029\" style=\"background-color: rgba(254, 240, 233, 0.5);\">furrow</span> <span title=\"0.052\" style=\"background-color: rgba(254, 236, 227, 0.5);\">xxup</span> <span title=\"0.052\" style=\"background-color: rgba(254, 236, 227, 0.5);\">petechial</span> <span title=\"0.122\" style=\"background-color: rgba(254, 224, 210, 0.5);\">xxup</span> <span title=\"0.055\" style=\"background-color: rgba(254, 235, 226, 0.5);\">hemorrhages</span> <span title=\"0.059\" style=\"background-color: rgba(254, 235, 225, 0.5);\">:</span> <span title=\"0.054\" style=\"background-color: rgba(254, 236, 227, 0.5);\">xxmaj</span> <span title=\"0.039\" style=\"background-color: rgba(254, 238, 230, 0.5);\">prominent</span> <span title=\"0.056\" style=\"background-color: rgba(254, 235, 226, 0.5);\">periorbital</span> <span title=\"0.041\" style=\"background-color: rgba(254, 238, 230, 0.5);\">cutaneous</span> <span title=\"0.078\" style=\"background-color: rgba(254, 231, 221, 0.5);\">petechiae</span> <span title=\"0.036\" style=\"background-color: rgba(254, 239, 231, 0.5);\">;</span> <span title=\"0.150\" style=\"background-color: rgba(253, 216, 200, 0.5);\">fine</span> <span title=\"0.196\" style=\"background-color: rgba(252, 202, 182, 0.5);\">bulbar</span> <span title=\"0.062\" style=\"background-color: rgba(254, 235, 225, 0.5);\">and</span> <span title=\"0.074\" style=\"background-color: rgba(254, 232, 222, 0.5);\">palpebral</span> <span title=\"0.094\" style=\"background-color: rgba(254, 229, 218, 0.5);\">petechiae</span></span>"
      ],
      "text/plain": [
       "<IPython.core.display.HTML object>"
      ]
     },
     "metadata": {},
     "output_type": "display_data"
    }
   ],
   "source": [
    "interpret_result(50)"
   ]
  },
  {
   "cell_type": "code",
   "execution_count": 36,
   "metadata": {},
   "outputs": [
    {
     "name": "stdout",
     "output_type": "stream",
     "text": [
      "True Label: Suicide\n",
      "\n",
      "Pred Label: Suicide\n",
      "\n",
      "Class Probabilities: tensor([1.0000e+00, 4.2247e-10, 3.0587e-08])\n",
      "\n",
      "***Raw Text***\n",
      "\n",
      ".MICRO.\n",
      "NONE\n",
      ".LOCATIONNeck\n",
      ".INJURYHanging.\n",
      ".INJURYDESC.\n",
      "A 0.5 cm wide, woven blue rope ligature encircles the neck with a knot behind the left ear. The loop around the neck is 32 cm in length and the tails from the knot are 4 and 82 cm  in length. \n",
      "\n",
      "A 44 cm long by 0.5 to 1 cm wide, abraded, brown ligature furrow completely encircles the neck. The furrow cross the anterior midline at its lowest point, above the thyroid cartilage and 23 cm below the top of the head, and cants upwards towards both ears. The furrow passes at 22 cm below the top of the head below the right ear and wraps around the posterior neck. The ligature crosses itself and disappears into the hairline behind the left ear at a point 14 cm below the top of the head.\n",
      "\n",
      "There are no facial, conjunctival, or oral petechiae, although the face and scalp are congested. There are tardieu spots on the lower legs. \n",
      "\n",
      ".LOCATIONExtremities\n",
      ".INJURYSharp injury.\n",
      ".INJURYDESC.\n",
      "On the anterior right wrist are dried, superficial incised wounds, 1.1 and 1.5 cm. \n",
      "\n",
      "On the anterior left wrist are dried, superficial incised wounds, 1.5, 1.5, and 1.1 cm. \n",
      "\n",
      "***Intrinsic Attention***\n"
     ]
    },
    {
     "data": {
      "text/html": [
       "<span style=\"font-family: monospace;\"><span title=\"0.188\" style=\"background-color: rgba(252, 205, 185, 0.5);\">xxbos</span> <span title=\"0.014\" style=\"background-color: rgba(254, 243, 237, 0.5);\">xxup</span> <span title=\"0.008\" style=\"background-color: rgba(254, 243, 238, 0.5);\">.micro</span> <span title=\"0.052\" style=\"background-color: rgba(254, 236, 227, 0.5);\">.</span> <span title=\"0.018\" style=\"background-color: rgba(254, 242, 236, 0.5);\">xxup</span> <span title=\"0.011\" style=\"background-color: rgba(254, 243, 238, 0.5);\">none</span> <span title=\"0.024\" style=\"background-color: rgba(254, 241, 234, 0.5);\">.locationneck</span> <span title=\"0.090\" style=\"background-color: rgba(254, 229, 218, 0.5);\">.injuryhanging</span> <span title=\"0.037\" style=\"background-color: rgba(254, 239, 231, 0.5);\">.</span> <span title=\"0.282\" style=\"background-color: rgba(252, 176, 148, 0.5);\">xxup</span> <span title=\"0.058\" style=\"background-color: rgba(254, 235, 226, 0.5);\">.injurydesc</span> <span title=\"0.270\" style=\"background-color: rgba(252, 180, 153, 0.5);\">.</span> <span title=\"0.029\" style=\"background-color: rgba(254, 240, 233, 0.5);\">a</span> <span title=\"0.018\" style=\"background-color: rgba(254, 242, 236, 0.5);\">0.5</span> <span title=\"0.026\" style=\"background-color: rgba(254, 241, 234, 0.5);\">cm</span> <span title=\"0.089\" style=\"background-color: rgba(254, 230, 219, 0.5);\">wide</span> <span title=\"0.038\" style=\"background-color: rgba(254, 239, 231, 0.5);\">,</span> <span title=\"0.051\" style=\"background-color: rgba(254, 237, 228, 0.5);\">woven</span> <span title=\"0.119\" style=\"background-color: rgba(254, 225, 211, 0.5);\">blue</span> <span title=\"0.263\" style=\"background-color: rgba(252, 182, 156, 0.5);\">rope</span> <span title=\"0.073\" style=\"background-color: rgba(254, 233, 223, 0.5);\">ligature</span> <span title=\"0.149\" style=\"background-color: rgba(253, 216, 200, 0.5);\">encircles</span> <span title=\"0.075\" style=\"background-color: rgba(254, 232, 222, 0.5);\">the</span> <span title=\"0.436\" style=\"background-color: rgba(251, 126, 94, 0.5);\">neck</span> <span title=\"0.128\" style=\"background-color: rgba(253, 223, 209, 0.5);\">with</span> <span title=\"0.451\" style=\"background-color: rgba(251, 121, 89, 0.5);\">a</span> <span title=\"0.357\" style=\"background-color: rgba(252, 151, 120, 0.5);\">knot</span> <span title=\"0.243\" style=\"background-color: rgba(252, 189, 163, 0.5);\">behind</span> <span title=\"0.070\" style=\"background-color: rgba(254, 233, 224, 0.5);\">the</span> <span title=\"0.159\" style=\"background-color: rgba(253, 214, 197, 0.5);\">left</span> <span title=\"0.091\" style=\"background-color: rgba(254, 229, 218, 0.5);\">ear</span> <span title=\"0.073\" style=\"background-color: rgba(254, 233, 223, 0.5);\">.</span> <span title=\"0.279\" style=\"background-color: rgba(252, 177, 150, 0.5);\">xxmaj</span> <span title=\"0.161\" style=\"background-color: rgba(253, 213, 195, 0.5);\">the</span> <span title=\"0.049\" style=\"background-color: rgba(254, 237, 228, 0.5);\">loop</span> <span title=\"0.058\" style=\"background-color: rgba(254, 235, 226, 0.5);\">around</span> <span title=\"0.104\" style=\"background-color: rgba(254, 227, 215, 0.5);\">the</span> <span title=\"0.060\" style=\"background-color: rgba(254, 235, 225, 0.5);\">neck</span> <span title=\"0.041\" style=\"background-color: rgba(254, 238, 230, 0.5);\">is</span> <span title=\"0.045\" style=\"background-color: rgba(254, 237, 229, 0.5);\">32</span> <span title=\"0.411\" style=\"background-color: rgba(251, 134, 102, 0.5);\">cm</span> <span title=\"0.115\" style=\"background-color: rgba(254, 225, 212, 0.5);\">in</span> <span title=\"0.058\" style=\"background-color: rgba(254, 235, 226, 0.5);\">length</span> <span title=\"0.117\" style=\"background-color: rgba(254, 225, 212, 0.5);\">and</span> <span title=\"0.036\" style=\"background-color: rgba(254, 239, 231, 0.5);\">the</span> <span title=\"0.138\" style=\"background-color: rgba(253, 220, 205, 0.5);\">tails</span> <span title=\"0.063\" style=\"background-color: rgba(254, 234, 224, 0.5);\">from</span> <span title=\"0.083\" style=\"background-color: rgba(254, 231, 220, 0.5);\">the</span> <span title=\"0.091\" style=\"background-color: rgba(254, 229, 218, 0.5);\">knot</span> <span title=\"0.059\" style=\"background-color: rgba(254, 235, 225, 0.5);\">are</span> <span title=\"0.139\" style=\"background-color: rgba(253, 220, 205, 0.5);\">4</span> <span title=\"0.332\" style=\"background-color: rgba(252, 159, 129, 0.5);\">and</span> <span title=\"0.116\" style=\"background-color: rgba(254, 225, 212, 0.5);\">82</span> <span title=\"0.078\" style=\"background-color: rgba(254, 232, 222, 0.5);\">cm</span> <span title=\"0.444\" style=\"background-color: rgba(251, 124, 92, 0.5);\">in</span> <span title=\"0.027\" style=\"background-color: rgba(254, 241, 234, 0.5);\">length</span> <span title=\"0.073\" style=\"background-color: rgba(254, 233, 223, 0.5);\">.</span> <span title=\"0.057\" style=\"background-color: rgba(254, 235, 226, 0.5);\">a</span> <span title=\"0.087\" style=\"background-color: rgba(254, 230, 219, 0.5);\">44</span> <span title=\"0.057\" style=\"background-color: rgba(254, 235, 226, 0.5);\">cm</span> <span title=\"0.085\" style=\"background-color: rgba(254, 231, 220, 0.5);\">long</span> <span title=\"0.030\" style=\"background-color: rgba(254, 240, 233, 0.5);\">by</span> <span title=\"0.012\" style=\"background-color: rgba(254, 243, 237, 0.5);\">0.5</span> <span title=\"0.017\" style=\"background-color: rgba(254, 242, 236, 0.5);\">to</span> <span title=\"0.031\" style=\"background-color: rgba(254, 240, 233, 0.5);\">1</span> <span title=\"0.225\" style=\"background-color: rgba(252, 194, 171, 0.5);\">cm</span> <span title=\"0.060\" style=\"background-color: rgba(254, 235, 225, 0.5);\">wide</span> <span title=\"0.153\" style=\"background-color: rgba(253, 215, 199, 0.5);\">,</span> <span title=\"0.104\" style=\"background-color: rgba(254, 227, 215, 0.5);\">abraded</span> <span title=\"0.141\" style=\"background-color: rgba(253, 219, 203, 0.5);\">,</span> <span title=\"0.085\" style=\"background-color: rgba(254, 231, 220, 0.5);\">brown</span> <span title=\"0.056\" style=\"background-color: rgba(254, 235, 226, 0.5);\">ligature</span> <span title=\"0.049\" style=\"background-color: rgba(254, 237, 228, 0.5);\">furrow</span> <span title=\"0.047\" style=\"background-color: rgba(254, 237, 228, 0.5);\">completely</span> <span title=\"0.024\" style=\"background-color: rgba(254, 241, 234, 0.5);\">encircles</span> <span title=\"0.108\" style=\"background-color: rgba(254, 227, 214, 0.5);\">the</span> <span title=\"0.032\" style=\"background-color: rgba(254, 239, 232, 0.5);\">neck</span> <span title=\"0.108\" style=\"background-color: rgba(254, 227, 214, 0.5);\">.</span> <span title=\"0.241\" style=\"background-color: rgba(252, 190, 165, 0.5);\">xxmaj</span> <span title=\"0.276\" style=\"background-color: rgba(252, 178, 151, 0.5);\">the</span> <span title=\"0.508\" style=\"background-color: rgba(250, 102, 71, 0.5);\">furrow</span> <span title=\"0.239\" style=\"background-color: rgba(252, 190, 165, 0.5);\">cross</span> <span title=\"0.065\" style=\"background-color: rgba(254, 234, 224, 0.5);\">the</span> <span title=\"0.070\" style=\"background-color: rgba(254, 233, 224, 0.5);\">anterior</span> <span title=\"0.038\" style=\"background-color: rgba(254, 239, 231, 0.5);\">midline</span> <span title=\"0.032\" style=\"background-color: rgba(254, 239, 232, 0.5);\">at</span> <span title=\"0.054\" style=\"background-color: rgba(254, 236, 227, 0.5);\">its</span> <span title=\"0.185\" style=\"background-color: rgba(253, 206, 186, 0.5);\">lowest</span> <span title=\"0.356\" style=\"background-color: rgba(252, 151, 120, 0.5);\">point</span> <span title=\"0.105\" style=\"background-color: rgba(254, 227, 215, 0.5);\">,</span> <span title=\"0.182\" style=\"background-color: rgba(253, 207, 188, 0.5);\">above</span> <span title=\"0.095\" style=\"background-color: rgba(254, 229, 217, 0.5);\">the</span> <span title=\"0.080\" style=\"background-color: rgba(254, 231, 221, 0.5);\">thyroid</span> <span title=\"0.190\" style=\"background-color: rgba(252, 205, 185, 0.5);\">cartilage</span> <span title=\"0.183\" style=\"background-color: rgba(253, 207, 188, 0.5);\">and</span> <span title=\"0.112\" style=\"background-color: rgba(254, 226, 213, 0.5);\">23</span> <span title=\"0.051\" style=\"background-color: rgba(254, 236, 227, 0.5);\">cm</span> <span title=\"0.149\" style=\"background-color: rgba(253, 216, 200, 0.5);\">below</span> <span title=\"0.101\" style=\"background-color: rgba(254, 228, 216, 0.5);\">the</span> <span title=\"0.362\" style=\"background-color: rgba(252, 150, 119, 0.5);\">top</span> <span title=\"0.094\" style=\"background-color: rgba(254, 229, 218, 0.5);\">of</span> <span title=\"0.096\" style=\"background-color: rgba(254, 229, 217, 0.5);\">the</span> <span title=\"0.269\" style=\"background-color: rgba(252, 181, 154, 0.5);\">head</span> <span title=\"0.056\" style=\"background-color: rgba(254, 235, 226, 0.5);\">,</span> <span title=\"0.076\" style=\"background-color: rgba(254, 232, 222, 0.5);\">and</span> <span title=\"0.052\" style=\"background-color: rgba(254, 236, 227, 0.5);\">cants</span> <span title=\"0.234\" style=\"background-color: rgba(252, 192, 168, 0.5);\">upwards</span> <span title=\"0.090\" style=\"background-color: rgba(254, 229, 218, 0.5);\">towards</span> <span title=\"0.011\" style=\"background-color: rgba(254, 243, 238, 0.5);\">both</span> <span title=\"0.028\" style=\"background-color: rgba(254, 240, 233, 0.5);\">ears</span> <span title=\"0.037\" style=\"background-color: rgba(254, 239, 231, 0.5);\">.</span> <span title=\"0.106\" style=\"background-color: rgba(254, 227, 214, 0.5);\">xxmaj</span> <span title=\"0.680\" style=\"background-color: rgba(222, 42, 37, 0.5);\">the</span> <span title=\"0.096\" style=\"background-color: rgba(254, 229, 217, 0.5);\">furrow</span> <span title=\"0.089\" style=\"background-color: rgba(254, 230, 219, 0.5);\">passes</span> <span title=\"0.069\" style=\"background-color: rgba(254, 233, 224, 0.5);\">at</span> <span title=\"0.081\" style=\"background-color: rgba(254, 231, 221, 0.5);\">22</span> <span title=\"0.011\" style=\"background-color: rgba(254, 243, 238, 0.5);\">cm</span> <span title=\"0.008\" style=\"background-color: rgba(254, 243, 238, 0.5);\">below</span> <span title=\"0.021\" style=\"background-color: rgba(254, 241, 235, 0.5);\">the</span> <span title=\"0.096\" style=\"background-color: rgba(254, 229, 217, 0.5);\">top</span> <span title=\"0.140\" style=\"background-color: rgba(253, 220, 205, 0.5);\">of</span> <span title=\"0.038\" style=\"background-color: rgba(254, 239, 231, 0.5);\">the</span> <span title=\"0.060\" style=\"background-color: rgba(254, 235, 225, 0.5);\">head</span> <span title=\"0.034\" style=\"background-color: rgba(254, 239, 232, 0.5);\">below</span> <span title=\"0.097\" style=\"background-color: rgba(254, 229, 217, 0.5);\">the</span> <span title=\"0.034\" style=\"background-color: rgba(254, 239, 232, 0.5);\">right</span> <span title=\"0.143\" style=\"background-color: rgba(253, 219, 203, 0.5);\">ear</span> <span title=\"0.029\" style=\"background-color: rgba(254, 240, 233, 0.5);\">and</span> <span title=\"0.022\" style=\"background-color: rgba(254, 241, 235, 0.5);\">wraps</span> <span title=\"0.034\" style=\"background-color: rgba(254, 239, 232, 0.5);\">around</span> <span title=\"0.080\" style=\"background-color: rgba(254, 231, 221, 0.5);\">the</span> <span title=\"0.041\" style=\"background-color: rgba(254, 238, 230, 0.5);\">posterior</span> <span title=\"0.068\" style=\"background-color: rgba(254, 233, 224, 0.5);\">neck</span> <span title=\"0.078\" style=\"background-color: rgba(254, 232, 222, 0.5);\">.</span> <span title=\"0.060\" style=\"background-color: rgba(254, 235, 225, 0.5);\">xxmaj</span> <span title=\"0.681\" style=\"background-color: rgba(222, 42, 37, 0.5);\">the</span> <span title=\"0.043\" style=\"background-color: rgba(254, 238, 230, 0.5);\">ligature</span> <span title=\"0.013\" style=\"background-color: rgba(254, 243, 237, 0.5);\">crosses</span> <span title=\"0.041\" style=\"background-color: rgba(254, 238, 230, 0.5);\">itself</span> <span title=\"0.041\" style=\"background-color: rgba(254, 238, 230, 0.5);\">and</span> <span title=\"0.008\" style=\"background-color: rgba(254, 243, 238, 0.5);\">disappears</span> <span title=\"0.013\" style=\"background-color: rgba(254, 243, 237, 0.5);\">into</span> <span title=\"0.042\" style=\"background-color: rgba(254, 238, 230, 0.5);\">the</span> <span title=\"0.244\" style=\"background-color: rgba(252, 189, 163, 0.5);\">hairline</span> <span title=\"0.200\" style=\"background-color: rgba(252, 201, 180, 0.5);\">behind</span> <span title=\"0.200\" style=\"background-color: rgba(252, 201, 180, 0.5);\">the</span> <span title=\"0.091\" style=\"background-color: rgba(254, 229, 218, 0.5);\">left</span> <span title=\"0.153\" style=\"background-color: rgba(253, 215, 199, 0.5);\">ear</span> <span title=\"0.083\" style=\"background-color: rgba(254, 231, 220, 0.5);\">at</span> <span title=\"0.032\" style=\"background-color: rgba(254, 239, 232, 0.5);\">a</span> <span title=\"0.150\" style=\"background-color: rgba(253, 216, 200, 0.5);\">point</span> <span title=\"0.109\" style=\"background-color: rgba(254, 227, 214, 0.5);\">14</span> <span title=\"0.020\" style=\"background-color: rgba(254, 241, 235, 0.5);\">cm</span> <span title=\"0.035\" style=\"background-color: rgba(254, 239, 232, 0.5);\">below</span> <span title=\"0.097\" style=\"background-color: rgba(254, 229, 217, 0.5);\">the</span> <span title=\"0.143\" style=\"background-color: rgba(253, 219, 203, 0.5);\">top</span> <span title=\"0.104\" style=\"background-color: rgba(254, 227, 215, 0.5);\">of</span> <span title=\"0.265\" style=\"background-color: rgba(252, 182, 156, 0.5);\">the</span> <span title=\"0.072\" style=\"background-color: rgba(254, 233, 223, 0.5);\">head</span> <span title=\"0.016\" style=\"background-color: rgba(254, 242, 236, 0.5);\">.</span> <span title=\"0.019\" style=\"background-color: rgba(254, 242, 236, 0.5);\">xxmaj</span> <span title=\"0.006\" style=\"background-color: rgba(254, 244, 239, 0.5);\">there</span> <span title=\"0.014\" style=\"background-color: rgba(254, 243, 237, 0.5);\">are</span> <span title=\"0.006\" style=\"background-color: rgba(254, 244, 239, 0.5);\">no</span> <span title=\"0.004\" style=\"background-color: rgba(254, 244, 239, 0.5);\">facial</span> <span title=\"0.012\" style=\"background-color: rgba(254, 243, 237, 0.5);\">,</span> <span title=\"0.012\" style=\"background-color: rgba(254, 243, 238, 0.5);\">conjunctival</span> <span title=\"0.017\" style=\"background-color: rgba(254, 242, 236, 0.5);\">,</span> <span title=\"0.021\" style=\"background-color: rgba(254, 241, 235, 0.5);\">or</span> <span title=\"0.077\" style=\"background-color: rgba(254, 232, 222, 0.5);\">oral</span> <span title=\"0.044\" style=\"background-color: rgba(254, 237, 229, 0.5);\">petechiae</span> <span title=\"0.146\" style=\"background-color: rgba(253, 218, 202, 0.5);\">,</span> <span title=\"0.469\" style=\"background-color: rgba(251, 115, 83, 0.5);\">although</span> <span title=\"0.148\" style=\"background-color: rgba(253, 218, 202, 0.5);\">the</span> <span title=\"0.361\" style=\"background-color: rgba(252, 150, 119, 0.5);\">face</span> <span title=\"0.094\" style=\"background-color: rgba(254, 229, 217, 0.5);\">and</span> <span title=\"0.168\" style=\"background-color: rgba(253, 212, 194, 0.5);\">scalp</span> <span title=\"0.662\" style=\"background-color: rgba(228, 48, 39, 0.5);\">are</span> <span title=\"0.111\" style=\"background-color: rgba(254, 226, 213, 0.5);\">congested</span> <span title=\"0.029\" style=\"background-color: rgba(254, 240, 233, 0.5);\">.</span> <span title=\"0.169\" style=\"background-color: rgba(253, 211, 192, 0.5);\">xxmaj</span> <span title=\"0.057\" style=\"background-color: rgba(254, 235, 226, 0.5);\">there</span> <span title=\"0.177\" style=\"background-color: rgba(253, 208, 189, 0.5);\">are</span> <span title=\"0.066\" style=\"background-color: rgba(254, 234, 224, 0.5);\">tardieu</span> <span title=\"0.209\" style=\"background-color: rgba(252, 199, 177, 0.5);\">spots</span> <span title=\"0.110\" style=\"background-color: rgba(254, 226, 213, 0.5);\">on</span> <span title=\"0.071\" style=\"background-color: rgba(254, 233, 223, 0.5);\">the</span> <span title=\"0.010\" style=\"background-color: rgba(254, 243, 238, 0.5);\">lower</span> <span title=\"0.020\" style=\"background-color: rgba(254, 241, 235, 0.5);\">legs</span> <span title=\"0.086\" style=\"background-color: rgba(254, 231, 220, 0.5);\">.</span> <span title=\"0.079\" style=\"background-color: rgba(254, 231, 221, 0.5);\">.locationextremities</span> <span title=\"1.000\" style=\"background-color: rgba(103, 0, 12, 0.5);\">.injurysharp</span> <span title=\"0.168\" style=\"background-color: rgba(253, 211, 192, 0.5);\">injury</span> <span title=\"0.026\" style=\"background-color: rgba(254, 241, 234, 0.5);\">.</span> <span title=\"0.012\" style=\"background-color: rgba(254, 243, 237, 0.5);\">xxup</span> <span title=\"0.060\" style=\"background-color: rgba(254, 235, 225, 0.5);\">.injurydesc</span> <span title=\"0.059\" style=\"background-color: rgba(254, 235, 225, 0.5);\">.</span> <span title=\"0.014\" style=\"background-color: rgba(254, 243, 237, 0.5);\">xxmaj</span> <span title=\"0.013\" style=\"background-color: rgba(254, 243, 237, 0.5);\">on</span> <span title=\"0.208\" style=\"background-color: rgba(252, 199, 177, 0.5);\">the</span> <span title=\"0.039\" style=\"background-color: rgba(254, 239, 231, 0.5);\">anterior</span> <span title=\"0.232\" style=\"background-color: rgba(252, 192, 168, 0.5);\">right</span> <span title=\"0.046\" style=\"background-color: rgba(254, 237, 229, 0.5);\">wrist</span> <span title=\"0.014\" style=\"background-color: rgba(254, 243, 237, 0.5);\">are</span> <span title=\"0.013\" style=\"background-color: rgba(254, 243, 237, 0.5);\">dried</span> <span title=\"0.009\" style=\"background-color: rgba(254, 243, 238, 0.5);\">,</span> <span title=\"0.048\" style=\"background-color: rgba(254, 237, 228, 0.5);\">superficial</span> <span title=\"0.026\" style=\"background-color: rgba(254, 241, 234, 0.5);\">incised</span> <span title=\"0.017\" style=\"background-color: rgba(254, 242, 236, 0.5);\">wounds</span> <span title=\"0.022\" style=\"background-color: rgba(254, 241, 235, 0.5);\">,</span> <span title=\"0.083\" style=\"background-color: rgba(254, 231, 220, 0.5);\">1.1</span> <span title=\"0.042\" style=\"background-color: rgba(254, 238, 230, 0.5);\">and</span> <span title=\"0.085\" style=\"background-color: rgba(254, 231, 220, 0.5);\">1.5</span> <span title=\"0.082\" style=\"background-color: rgba(254, 231, 221, 0.5);\">cm</span> <span title=\"0.248\" style=\"background-color: rgba(252, 187, 162, 0.5);\">.</span> <span title=\"0.052\" style=\"background-color: rgba(254, 236, 227, 0.5);\">xxmaj</span> <span title=\"0.272\" style=\"background-color: rgba(252, 180, 153, 0.5);\">on</span> <span title=\"0.052\" style=\"background-color: rgba(254, 236, 227, 0.5);\">the</span> <span title=\"0.168\" style=\"background-color: rgba(253, 211, 192, 0.5);\">anterior</span> <span title=\"0.276\" style=\"background-color: rgba(252, 178, 151, 0.5);\">left</span> <span title=\"0.116\" style=\"background-color: rgba(254, 225, 212, 0.5);\">wrist</span> <span title=\"0.059\" style=\"background-color: rgba(254, 235, 225, 0.5);\">are</span> <span title=\"0.387\" style=\"background-color: rgba(251, 141, 109, 0.5);\">dried</span> <span title=\"0.110\" style=\"background-color: rgba(254, 226, 213, 0.5);\">,</span> <span title=\"0.086\" style=\"background-color: rgba(254, 231, 220, 0.5);\">superficial</span> <span title=\"0.044\" style=\"background-color: rgba(254, 237, 229, 0.5);\">incised</span> <span title=\"0.031\" style=\"background-color: rgba(254, 240, 233, 0.5);\">wounds</span> <span title=\"0.026\" style=\"background-color: rgba(254, 241, 234, 0.5);\">,</span> <span title=\"0.071\" style=\"background-color: rgba(254, 233, 223, 0.5);\">1.5</span> <span title=\"0.131\" style=\"background-color: rgba(253, 222, 208, 0.5);\">,</span> <span title=\"0.074\" style=\"background-color: rgba(254, 233, 223, 0.5);\">1.5</span> <span title=\"0.139\" style=\"background-color: rgba(253, 220, 205, 0.5);\">,</span> <span title=\"0.147\" style=\"background-color: rgba(253, 218, 202, 0.5);\">and</span> <span title=\"0.340\" style=\"background-color: rgba(252, 157, 126, 0.5);\">1.1</span> <span title=\"0.253\" style=\"background-color: rgba(252, 186, 160, 0.5);\">cm</span> <span title=\"0.730\" style=\"background-color: rgba(208, 29, 31, 0.5);\">.</span></span>"
      ],
      "text/plain": [
       "<IPython.core.display.HTML object>"
      ]
     },
     "metadata": {},
     "output_type": "display_data"
    }
   ],
   "source": [
    "interpret_result(69)"
   ]
  },
  {
   "cell_type": "code",
   "execution_count": 37,
   "metadata": {},
   "outputs": [
    {
     "name": "stdout",
     "output_type": "stream",
     "text": [
      "True Label: Homicide\n",
      "\n",
      "Pred Label: Homicide\n",
      "\n",
      "Class Probabilities: tensor([2.5845e-03, 9.9715e-01, 2.6638e-04])\n",
      "\n",
      "***Raw Text***\n",
      "\n",
      ".MICRO.\n",
      "HEART - No significant histopathology identified.\n",
      "\n",
      "LUNGS - Focal areas of parenchymal collapse and septal congestion; no significant histopathology is identified.\n",
      "\n",
      "LIVER - Very mild macrovesicular steatosis and focal peri-portal chronic lymphocytic inflammation without associated fibrosis.  The background liver parenchyma shows sinusoidal congestion.\n",
      "\n",
      "KIDNEY - No significant histopathology identified.\n",
      ".LOCATIONBack\n",
      ".INJURYBlunt injury.\n",
      ".INJURYDESC.\n",
      "A dried brown abrasion is on the left mid-back, measuring 4.0 x 2.0 cm.\n",
      "\n",
      ".LOCATIONExtremity\n",
      ".INJURYBlunt injury.\n",
      ".INJURYDESC.\n",
      "Multiple scattered, red linear abrasions are on the right upper arm and forearm, the largest measuring 7.0 x 0.1 cm.\n",
      "\n",
      "A purple contusion is on right posterolateral forearm measuring 2.3 x 3.0 cm.\n",
      "\n",
      ".LOCATIONExtremities\n",
      ".INJURYBlunt injury.\n",
      ".INJURYDESC.\n",
      "Multiple small (0.1 - 0.2 cm) red abrasions are on the posterior aspect of the digits bilaterally.\n",
      "\n",
      ".LOCATIONChest\n",
      ".INJURYBlunt injury.\n",
      ".INJURYDESC.\n",
      "A 2.3 x 1.1 purple/brown contusion is on the right upper chest.\n",
      "\n",
      "Multiple linear red abrasions are scattered on the chest (with concentration over the sternum). The largest of these measures 7.8 x 0.1 cm.\n",
      "\n",
      ".LOCATIONHead\n",
      ".INJURYFirearm injury.\n",
      ".INJURYDESC.\n",
      "GUNSHOT WOUND OF THE HEAD\n",
      "\n",
      "Entrance (A):\n",
      "\n",
      "On the left lower cheek, just superiolateral to the left upper lip, 19 cm below the top of the head, and 3.5 cm left of the anterior midline, is an entrance gunshot wound consisting of a 1.1 x 1.0 cm round defect with a 2 cm marginal abrasion and lacerated borders that measure up to 3 cm.  Soot, unburned gunpowder particles and gunpowder stippling are not visible on the skin surrounding the wound.\n",
      "\n",
      "Path:\n",
      "\n",
      "The hemorrhagic wound track sequentially perforates the skin and subcutaneous tissue of the left lower cheek, the underlying subcutaneous tissue, the left oral mucosa (entering the oral cavity), the posterior oral mucosa, the soft tissues of the superior anterior neck, the anterior second cervical vertebra, the cervical spinal cord, and the posterior second cervical vertebra.  The missile comes to rest in the soft tissues of the right posterior neck.  A slightly deformed metal projectile is recovered weighing 227.8 gn.\n",
      "\n",
      "Associated injuries include displacement of the left upper second pre-molar, multiple comminuted fractures of the first and second cervical vertebrae, and maceration of the spinal cord at the level of the C2 cervical vertebra.  Removal of the brain demonstrates diffuse subarachnoid hemorrhage.  No injuries to the major vascular structures of the neck (carotid arteries and jugular veins) are identified.\n",
      "\n",
      "Trajectory:\n",
      "\n",
      "The wound track travels from the decedentâs anterior to posterior, left to right and superior to inferior.\n",
      "\n",
      "\n",
      ".LOCATIONAbdomen\n",
      ".INJURYFirearm injury.\n",
      ".INJURYDESC.\n",
      "GUNSHOT WOUND OF THE ABDOMEN\n",
      "\n",
      "Entrance (B):\n",
      "\n",
      "On the left central abdomen, 78 cm below the top of the head, 2 cm left of the anterior midline, and 1.5 cm inferior and lateral to the navel, is an entrance gunshot wound consisting of a 0.9 x 0.6 cm round defect with a 0.1 - 0.7 cm wide circumferential black/red marginal abrasion which is widest at 2 o'clock and 7 oâclock.  Soot, unburned gunpowder particles and gunpowder stippling are not visible on the skin surrounding the wound.\n",
      "\n",
      "Path:\n",
      "\n",
      "The hemorrhagic wound track sequentially perforates the skin and subcutaneous tissues of the left central abdomen, the muscles of the anterior and left lateral abdominal wall, and the overlying subcutaneous tissues and skin.  \n",
      "\n",
      "Associated injuries include a mild amount of hemorrhage along the wound tract.  No penetration into the abdominal cavity is identified.\n",
      "\n",
      "Exit (C):\n",
      "\n",
      "On the left lower abdomen, in the left mid-axillary line, 65 cm below the top of the head, 26 cm left of the posterior midline, is an exit gunshot wound consisting of a 1.1 x 1.0 cm defect with a circumferential 0.1 - 0.6 cm black abrasion (with drying artifact) which is widest at 5 - 7 o'clock. \n",
      "\n",
      "Trajectory:\n",
      "\n",
      "The wound track travels from the decedentâs anterior to posterior, right to left and inferior to superior.\n",
      "\n",
      "Clothing:\n",
      "\n",
      "On the central abdomen area of the black t-shirt and corresponding to the entrance gunshot wound is a 1.5 x 1.1 cm defect with frayed edges, as well as a 0.9 x 0.6 cm defect with frayed edges.  Soot or unburned gunpowder particles are not visible on the fabric surrounding the defects.\n",
      "\n",
      "On the lower left back area of the black t-shirt and corresponding to the exit gunshot wound, is a 1.9 x 1.5 cm defect with frayed edges.  Soot or unburned gunpowder particles are not visible on the fabric surrounding the defect.\n",
      "\n",
      "\n",
      ".LOCATIONExtremity\n",
      ".INJURYFirearm injury.\n",
      ".INJURYDESC.\n",
      "GUNSHOT WOUND OF THE LEFT HAND\n",
      "\n",
      "Entrance (D):\n",
      "\n",
      "On the medial palm of the left hand, 93 cm below the top of the head, 3.5 cm right of midline of the hand, and 5.5 cm inferior to the left wrist, is an entrance gunshot wound consisting of a 1.0 x 0.5 cm stellate defect with a 0.1 - 0.2 cm wide circumferential purple contusion.  Soot, unburned gunpowder particles and gunpowder stippling are not visible on the skin surrounding the wound.\n",
      "\n",
      "Path:\n",
      "\n",
      "The hemorrhagic wound track sequentially perforates the skin and subcutaneous tissue of the medial left palm, the underlying soft tissues and the subcutaneous tissues and skin of the medial dorsal left hand.  \n",
      "\n",
      "Associated injuries include a minor amount of hemorrhage along the wound tract.\n",
      "\n",
      "Exit (E):\n",
      "\n",
      "On the medial dorsal left hand, 91 cm below the top of the head, 7.5 cm right of posterior midline of the hand, and 3.5 cm inferior to the left wrist, is an exit gunshot wound consisting of a 1.3 x 0.4 cm stellate laceration without marginal abrasion.  A 1.1 x 1.1 cm brown/red contusion extends from the wound's lateral edge.\n",
      "\n",
      "Trajectory:\n",
      "\n",
      "The wound track travels from the decedentâs anterior to posterior, slightly right to left and slightly inferior to superior.\n",
      "\n",
      "\n",
      ".LOCATIONHead and neck\n",
      ".INJURYBlunt injury.\n",
      ".INJURYDESC.\n",
      "A 2.5 x 0.8 cm red abrasion is on the left side of the forehead.\n",
      "\n",
      "A 4.0 x 0.2 cm red abrasion is on the anterior aspect of the neck.\n",
      "\n",
      ".LOCATIONExtremities\n",
      ".INJURYBlunt injury.\n",
      ".INJURYDESC.\n",
      "Multiple purple contusions are just inferior to the right knee, the largest measuring 2.5 x 2.0 cm.\n",
      "\n",
      "A 3.5 x 0.3 cm red, linear, vertically oriented abrasion in on the anterior left lower leg.\n",
      "\n",
      "***Intrinsic Attention***\n"
     ]
    },
    {
     "data": {
      "text/html": [
       "<span style=\"font-family: monospace;\"><span title=\"0.082\" style=\"background-color: rgba(254, 231, 220, 0.5);\">xxbos</span> <span title=\"0.006\" style=\"background-color: rgba(254, 244, 239, 0.5);\">xxup</span> <span title=\"0.006\" style=\"background-color: rgba(254, 244, 239, 0.5);\">.micro</span> <span title=\"0.040\" style=\"background-color: rgba(254, 238, 230, 0.5);\">.</span> <span title=\"0.005\" style=\"background-color: rgba(254, 244, 239, 0.5);\">xxup</span> <span title=\"0.005\" style=\"background-color: rgba(254, 244, 239, 0.5);\">heart</span> <span title=\"0.008\" style=\"background-color: rgba(254, 243, 238, 0.5);\">-</span> <span title=\"0.062\" style=\"background-color: rgba(254, 235, 225, 0.5);\">xxmaj</span> <span title=\"0.029\" style=\"background-color: rgba(254, 240, 233, 0.5);\">no</span> <span title=\"0.022\" style=\"background-color: rgba(254, 241, 235, 0.5);\">significant</span> <span title=\"0.033\" style=\"background-color: rgba(254, 239, 232, 0.5);\">histopathology</span> <span title=\"0.042\" style=\"background-color: rgba(254, 238, 230, 0.5);\">identified</span> <span title=\"0.059\" style=\"background-color: rgba(254, 235, 225, 0.5);\">.</span> <span title=\"0.018\" style=\"background-color: rgba(254, 242, 236, 0.5);\">xxup</span> <span title=\"0.009\" style=\"background-color: rgba(254, 243, 238, 0.5);\">lungs</span> <span title=\"0.011\" style=\"background-color: rgba(254, 243, 238, 0.5);\">-</span> <span title=\"0.014\" style=\"background-color: rgba(254, 243, 237, 0.5);\">xxmaj</span> <span title=\"0.066\" style=\"background-color: rgba(254, 234, 224, 0.5);\">focal</span> <span title=\"0.023\" style=\"background-color: rgba(254, 241, 235, 0.5);\">areas</span> <span title=\"0.029\" style=\"background-color: rgba(254, 240, 233, 0.5);\">of</span> <span title=\"0.148\" style=\"background-color: rgba(253, 218, 202, 0.5);\">parenchymal</span> <span title=\"0.142\" style=\"background-color: rgba(253, 219, 203, 0.5);\">collapse</span> <span title=\"0.046\" style=\"background-color: rgba(254, 237, 229, 0.5);\">and</span> <span title=\"0.068\" style=\"background-color: rgba(254, 233, 224, 0.5);\">septal</span> <span title=\"0.070\" style=\"background-color: rgba(254, 233, 224, 0.5);\">congestion</span> <span title=\"0.046\" style=\"background-color: rgba(254, 237, 229, 0.5);\">;</span> <span title=\"0.110\" style=\"background-color: rgba(254, 226, 213, 0.5);\">no</span> <span title=\"0.024\" style=\"background-color: rgba(254, 241, 234, 0.5);\">significant</span> <span title=\"0.030\" style=\"background-color: rgba(254, 240, 233, 0.5);\">histopathology</span> <span title=\"0.112\" style=\"background-color: rgba(254, 226, 213, 0.5);\">is</span> <span title=\"0.019\" style=\"background-color: rgba(254, 242, 236, 0.5);\">identified</span> <span title=\"0.037\" style=\"background-color: rgba(254, 239, 231, 0.5);\">.</span> <span title=\"0.022\" style=\"background-color: rgba(254, 241, 235, 0.5);\">xxup</span> <span title=\"0.027\" style=\"background-color: rgba(254, 241, 234, 0.5);\">liver</span> <span title=\"0.008\" style=\"background-color: rgba(254, 244, 239, 0.5);\">-</span> <span title=\"0.010\" style=\"background-color: rgba(254, 243, 238, 0.5);\">xxmaj</span> <span title=\"0.018\" style=\"background-color: rgba(254, 242, 236, 0.5);\">very</span> <span title=\"0.197\" style=\"background-color: rgba(252, 202, 182, 0.5);\">mild</span> <span title=\"0.049\" style=\"background-color: rgba(254, 237, 228, 0.5);\">macrovesicular</span> <span title=\"0.039\" style=\"background-color: rgba(254, 239, 231, 0.5);\">steatosis</span> <span title=\"0.194\" style=\"background-color: rgba(252, 204, 183, 0.5);\">and</span> <span title=\"0.268\" style=\"background-color: rgba(252, 181, 154, 0.5);\">focal</span> <span title=\"0.273\" style=\"background-color: rgba(252, 180, 153, 0.5);\">peri</span> <span title=\"0.082\" style=\"background-color: rgba(254, 231, 221, 0.5);\">-</span> <span title=\"0.081\" style=\"background-color: rgba(254, 231, 221, 0.5);\">portal</span> <span title=\"0.278\" style=\"background-color: rgba(252, 177, 150, 0.5);\">chronic</span> <span title=\"0.530\" style=\"background-color: rgba(248, 94, 66, 0.5);\">lymphocytic</span> <span title=\"0.170\" style=\"background-color: rgba(253, 211, 192, 0.5);\">inflammation</span> <span title=\"0.187\" style=\"background-color: rgba(253, 206, 186, 0.5);\">without</span> <span title=\"0.302\" style=\"background-color: rgba(252, 169, 141, 0.5);\">associated</span> <span title=\"0.207\" style=\"background-color: rgba(252, 199, 177, 0.5);\">fibrosis</span> <span title=\"0.023\" style=\"background-color: rgba(254, 241, 235, 0.5);\">.</span> <span title=\"0.042\" style=\"background-color: rgba(254, 238, 230, 0.5);\">xxmaj</span> <span title=\"0.084\" style=\"background-color: rgba(254, 231, 220, 0.5);\">the</span> <span title=\"0.026\" style=\"background-color: rgba(254, 241, 234, 0.5);\">background</span> <span title=\"0.012\" style=\"background-color: rgba(254, 243, 237, 0.5);\">liver</span> <span title=\"0.012\" style=\"background-color: rgba(254, 243, 237, 0.5);\">parenchyma</span> <span title=\"0.061\" style=\"background-color: rgba(254, 235, 225, 0.5);\">shows</span> <span title=\"0.329\" style=\"background-color: rgba(252, 160, 131, 0.5);\">sinusoidal</span> <span title=\"0.134\" style=\"background-color: rgba(253, 221, 206, 0.5);\">congestion</span> <span title=\"0.117\" style=\"background-color: rgba(254, 225, 212, 0.5);\">.</span> <span title=\"0.201\" style=\"background-color: rgba(252, 201, 180, 0.5);\">xxup</span> <span title=\"0.703\" style=\"background-color: rgba(216, 37, 34, 0.5);\">kidney</span> <span title=\"0.006\" style=\"background-color: rgba(254, 244, 239, 0.5);\">-</span> <span title=\"0.002\" style=\"background-color: rgba(255, 245, 240, 0.5);\">xxmaj</span> <span title=\"0.005\" style=\"background-color: rgba(254, 244, 239, 0.5);\">no</span> <span title=\"0.009\" style=\"background-color: rgba(254, 243, 238, 0.5);\">significant</span> <span title=\"0.077\" style=\"background-color: rgba(254, 232, 222, 0.5);\">histopathology</span> <span title=\"0.032\" style=\"background-color: rgba(254, 239, 232, 0.5);\">identified</span> <span title=\"0.024\" style=\"background-color: rgba(254, 241, 234, 0.5);\">.</span> <span title=\"0.061\" style=\"background-color: rgba(254, 235, 225, 0.5);\">.locationback</span> <span title=\"0.083\" style=\"background-color: rgba(254, 231, 220, 0.5);\">.injuryblunt</span> <span title=\"0.023\" style=\"background-color: rgba(254, 241, 235, 0.5);\">injury</span> <span title=\"0.013\" style=\"background-color: rgba(254, 243, 237, 0.5);\">.</span> <span title=\"0.010\" style=\"background-color: rgba(254, 243, 238, 0.5);\">xxup</span> <span title=\"0.022\" style=\"background-color: rgba(254, 241, 235, 0.5);\">.injurydesc</span> <span title=\"0.140\" style=\"background-color: rgba(253, 220, 205, 0.5);\">.</span> <span title=\"0.011\" style=\"background-color: rgba(254, 243, 238, 0.5);\">a</span> <span title=\"0.054\" style=\"background-color: rgba(254, 236, 227, 0.5);\">dried</span> <span title=\"0.013\" style=\"background-color: rgba(254, 243, 237, 0.5);\">brown</span> <span title=\"0.003\" style=\"background-color: rgba(255, 245, 240, 0.5);\">abrasion</span> <span title=\"0.003\" style=\"background-color: rgba(255, 245, 240, 0.5);\">is</span> <span title=\"0.003\" style=\"background-color: rgba(255, 245, 240, 0.5);\">on</span> <span title=\"0.022\" style=\"background-color: rgba(254, 241, 235, 0.5);\">the</span> <span title=\"0.012\" style=\"background-color: rgba(254, 243, 237, 0.5);\">left</span> <span title=\"0.025\" style=\"background-color: rgba(254, 241, 234, 0.5);\">mid</span> <span title=\"0.062\" style=\"background-color: rgba(254, 235, 225, 0.5);\">-</span> <span title=\"0.326\" style=\"background-color: rgba(252, 162, 132, 0.5);\">back</span> <span title=\"0.108\" style=\"background-color: rgba(254, 227, 214, 0.5);\">,</span> <span title=\"0.062\" style=\"background-color: rgba(254, 235, 225, 0.5);\">measuring</span> <span title=\"0.015\" style=\"background-color: rgba(254, 243, 237, 0.5);\">4.0</span> <span title=\"0.041\" style=\"background-color: rgba(254, 238, 230, 0.5);\">x</span> <span title=\"0.053\" style=\"background-color: rgba(254, 236, 227, 0.5);\">2.0</span> <span title=\"0.112\" style=\"background-color: rgba(254, 226, 213, 0.5);\">cm</span> <span title=\"0.377\" style=\"background-color: rgba(251, 145, 113, 0.5);\">.</span> <span title=\"0.009\" style=\"background-color: rgba(254, 243, 238, 0.5);\">.locationextremity</span> <span title=\"0.015\" style=\"background-color: rgba(254, 243, 237, 0.5);\">.injuryblunt</span> <span title=\"0.005\" style=\"background-color: rgba(254, 244, 239, 0.5);\">injury</span> <span title=\"0.012\" style=\"background-color: rgba(254, 243, 238, 0.5);\">.</span> <span title=\"0.020\" style=\"background-color: rgba(254, 241, 235, 0.5);\">xxup</span> <span title=\"0.008\" style=\"background-color: rgba(254, 243, 238, 0.5);\">.injurydesc</span> <span title=\"0.010\" style=\"background-color: rgba(254, 243, 238, 0.5);\">.</span> <span title=\"0.005\" style=\"background-color: rgba(254, 244, 239, 0.5);\">xxmaj</span> <span title=\"0.004\" style=\"background-color: rgba(255, 245, 240, 0.5);\">multiple</span> <span title=\"0.005\" style=\"background-color: rgba(254, 244, 239, 0.5);\">scattered</span> <span title=\"0.048\" style=\"background-color: rgba(254, 237, 228, 0.5);\">,</span> <span title=\"0.007\" style=\"background-color: rgba(254, 244, 239, 0.5);\">red</span> <span title=\"0.040\" style=\"background-color: rgba(254, 238, 230, 0.5);\">linear</span> <span title=\"0.006\" style=\"background-color: rgba(254, 244, 239, 0.5);\">abrasions</span> <span title=\"0.003\" style=\"background-color: rgba(255, 245, 240, 0.5);\">are</span> <span title=\"0.001\" style=\"background-color: rgba(255, 245, 240, 0.5);\">on</span> <span title=\"0.003\" style=\"background-color: rgba(255, 245, 240, 0.5);\">the</span> <span title=\"0.014\" style=\"background-color: rgba(254, 243, 237, 0.5);\">right</span> <span title=\"0.010\" style=\"background-color: rgba(254, 243, 238, 0.5);\">upper</span> <span title=\"0.007\" style=\"background-color: rgba(254, 244, 239, 0.5);\">arm</span> <span title=\"0.013\" style=\"background-color: rgba(254, 243, 237, 0.5);\">and</span> <span title=\"0.054\" style=\"background-color: rgba(254, 236, 227, 0.5);\">forearm</span> <span title=\"0.064\" style=\"background-color: rgba(254, 234, 224, 0.5);\">,</span> <span title=\"0.033\" style=\"background-color: rgba(254, 239, 232, 0.5);\">the</span> <span title=\"0.058\" style=\"background-color: rgba(254, 235, 226, 0.5);\">largest</span> <span title=\"0.091\" style=\"background-color: rgba(254, 229, 218, 0.5);\">measuring</span> <span title=\"0.077\" style=\"background-color: rgba(254, 232, 222, 0.5);\">7.0</span> <span title=\"0.064\" style=\"background-color: rgba(254, 234, 224, 0.5);\">x</span> <span title=\"0.026\" style=\"background-color: rgba(254, 241, 234, 0.5);\">0.1</span> <span title=\"0.014\" style=\"background-color: rgba(254, 243, 237, 0.5);\">cm</span> <span title=\"0.021\" style=\"background-color: rgba(254, 241, 235, 0.5);\">.</span> <span title=\"0.031\" style=\"background-color: rgba(254, 240, 233, 0.5);\">a</span> <span title=\"0.040\" style=\"background-color: rgba(254, 238, 230, 0.5);\">purple</span> <span title=\"0.021\" style=\"background-color: rgba(254, 241, 235, 0.5);\">contusion</span> <span title=\"0.053\" style=\"background-color: rgba(254, 236, 227, 0.5);\">is</span> <span title=\"0.018\" style=\"background-color: rgba(254, 242, 236, 0.5);\">on</span> <span title=\"0.029\" style=\"background-color: rgba(254, 240, 233, 0.5);\">right</span> <span title=\"0.096\" style=\"background-color: rgba(254, 229, 217, 0.5);\">posterolateral</span> <span title=\"0.015\" style=\"background-color: rgba(254, 243, 237, 0.5);\">forearm</span> <span title=\"0.027\" style=\"background-color: rgba(254, 241, 234, 0.5);\">measuring</span> <span title=\"0.011\" style=\"background-color: rgba(254, 243, 238, 0.5);\">2.3</span> <span title=\"0.015\" style=\"background-color: rgba(254, 243, 237, 0.5);\">x</span> <span title=\"0.006\" style=\"background-color: rgba(254, 244, 239, 0.5);\">3.0</span> <span title=\"0.010\" style=\"background-color: rgba(254, 243, 238, 0.5);\">cm</span> <span title=\"0.006\" style=\"background-color: rgba(254, 244, 239, 0.5);\">.</span> <span title=\"0.016\" style=\"background-color: rgba(254, 243, 237, 0.5);\">.locationextremities</span> <span title=\"0.066\" style=\"background-color: rgba(254, 234, 224, 0.5);\">.injuryblunt</span> <span title=\"0.063\" style=\"background-color: rgba(254, 234, 224, 0.5);\">injury</span> <span title=\"0.028\" style=\"background-color: rgba(254, 240, 233, 0.5);\">.</span> <span title=\"0.038\" style=\"background-color: rgba(254, 239, 231, 0.5);\">xxup</span> <span title=\"0.045\" style=\"background-color: rgba(254, 237, 229, 0.5);\">.injurydesc</span> <span title=\"0.064\" style=\"background-color: rgba(254, 234, 224, 0.5);\">.</span> <span title=\"0.074\" style=\"background-color: rgba(254, 233, 223, 0.5);\">xxmaj</span> <span title=\"0.158\" style=\"background-color: rgba(253, 214, 197, 0.5);\">multiple</span> <span title=\"0.027\" style=\"background-color: rgba(254, 241, 234, 0.5);\">small</span> <span title=\"0.011\" style=\"background-color: rgba(254, 243, 238, 0.5);\">(</span> <span title=\"0.014\" style=\"background-color: rgba(254, 243, 237, 0.5);\">0.1</span> <span title=\"0.010\" style=\"background-color: rgba(254, 243, 238, 0.5);\">-</span> <span title=\"0.007\" style=\"background-color: rgba(254, 244, 239, 0.5);\">0.2</span> <span title=\"0.004\" style=\"background-color: rgba(255, 245, 240, 0.5);\">cm</span> <span title=\"0.056\" style=\"background-color: rgba(254, 235, 226, 0.5);\">)</span> <span title=\"0.008\" style=\"background-color: rgba(254, 244, 239, 0.5);\">red</span> <span title=\"0.038\" style=\"background-color: rgba(254, 239, 231, 0.5);\">abrasions</span> <span title=\"0.012\" style=\"background-color: rgba(254, 243, 238, 0.5);\">are</span> <span title=\"0.003\" style=\"background-color: rgba(255, 245, 240, 0.5);\">on</span> <span title=\"0.003\" style=\"background-color: rgba(255, 245, 240, 0.5);\">the</span> <span title=\"0.004\" style=\"background-color: rgba(254, 244, 239, 0.5);\">posterior</span> <span title=\"0.014\" style=\"background-color: rgba(254, 243, 237, 0.5);\">aspect</span> <span title=\"0.009\" style=\"background-color: rgba(254, 243, 238, 0.5);\">of</span> <span title=\"0.008\" style=\"background-color: rgba(254, 244, 239, 0.5);\">the</span> <span title=\"0.024\" style=\"background-color: rgba(254, 241, 234, 0.5);\">digits</span> <span title=\"0.118\" style=\"background-color: rgba(254, 225, 211, 0.5);\">bilaterally</span> <span title=\"0.279\" style=\"background-color: rgba(252, 177, 150, 0.5);\">.</span> <span title=\"0.113\" style=\"background-color: rgba(254, 226, 213, 0.5);\">.locationchest</span> <span title=\"0.128\" style=\"background-color: rgba(253, 223, 209, 0.5);\">.injuryblunt</span> <span title=\"0.014\" style=\"background-color: rgba(254, 243, 237, 0.5);\">injury</span> <span title=\"0.017\" style=\"background-color: rgba(254, 242, 236, 0.5);\">.</span> <span title=\"0.004\" style=\"background-color: rgba(254, 244, 239, 0.5);\">xxup</span> <span title=\"0.013\" style=\"background-color: rgba(254, 243, 237, 0.5);\">.injurydesc</span> <span title=\"0.018\" style=\"background-color: rgba(254, 242, 236, 0.5);\">.</span> <span title=\"0.021\" style=\"background-color: rgba(254, 241, 235, 0.5);\">a</span> <span title=\"0.013\" style=\"background-color: rgba(254, 243, 237, 0.5);\">2.3</span> <span title=\"0.037\" style=\"background-color: rgba(254, 239, 231, 0.5);\">x</span> <span title=\"0.013\" style=\"background-color: rgba(254, 243, 237, 0.5);\">1.1</span> <span title=\"0.030\" style=\"background-color: rgba(254, 240, 233, 0.5);\">purple</span> <span title=\"0.025\" style=\"background-color: rgba(254, 241, 234, 0.5);\">/</span> <span title=\"0.005\" style=\"background-color: rgba(254, 244, 239, 0.5);\">brown</span> <span title=\"0.011\" style=\"background-color: rgba(254, 243, 238, 0.5);\">contusion</span> <span title=\"0.047\" style=\"background-color: rgba(254, 237, 229, 0.5);\">is</span> <span title=\"0.015\" style=\"background-color: rgba(254, 243, 237, 0.5);\">on</span> <span title=\"0.007\" style=\"background-color: rgba(254, 244, 239, 0.5);\">the</span> <span title=\"0.027\" style=\"background-color: rgba(254, 241, 234, 0.5);\">right</span> <span title=\"0.165\" style=\"background-color: rgba(253, 212, 194, 0.5);\">upper</span> <span title=\"0.013\" style=\"background-color: rgba(254, 243, 237, 0.5);\">chest</span> <span title=\"0.083\" style=\"background-color: rgba(254, 231, 220, 0.5);\">.</span> <span title=\"0.015\" style=\"background-color: rgba(254, 243, 237, 0.5);\">xxmaj</span> <span title=\"0.004\" style=\"background-color: rgba(255, 245, 240, 0.5);\">multiple</span> <span title=\"0.004\" style=\"background-color: rgba(254, 244, 239, 0.5);\">linear</span> <span title=\"0.006\" style=\"background-color: rgba(254, 244, 239, 0.5);\">red</span> <span title=\"0.021\" style=\"background-color: rgba(254, 241, 235, 0.5);\">abrasions</span> <span title=\"0.008\" style=\"background-color: rgba(254, 243, 238, 0.5);\">are</span> <span title=\"0.012\" style=\"background-color: rgba(254, 243, 237, 0.5);\">scattered</span> <span title=\"0.043\" style=\"background-color: rgba(254, 238, 230, 0.5);\">on</span> <span title=\"0.257\" style=\"background-color: rgba(252, 185, 159, 0.5);\">the</span> <span title=\"0.123\" style=\"background-color: rgba(254, 224, 210, 0.5);\">chest</span> <span title=\"0.044\" style=\"background-color: rgba(254, 237, 229, 0.5);\">(</span> <span title=\"0.054\" style=\"background-color: rgba(254, 236, 227, 0.5);\">with</span> <span title=\"0.040\" style=\"background-color: rgba(254, 238, 230, 0.5);\">concentration</span> <span title=\"0.034\" style=\"background-color: rgba(254, 239, 232, 0.5);\">over</span> <span title=\"0.056\" style=\"background-color: rgba(254, 235, 226, 0.5);\">the</span> <span title=\"0.035\" style=\"background-color: rgba(254, 239, 232, 0.5);\">sternum</span> <span title=\"0.075\" style=\"background-color: rgba(254, 232, 222, 0.5);\">)</span> <span title=\"0.027\" style=\"background-color: rgba(254, 241, 234, 0.5);\">.</span> <span title=\"0.023\" style=\"background-color: rgba(254, 241, 235, 0.5);\">xxmaj</span> <span title=\"0.044\" style=\"background-color: rgba(254, 237, 229, 0.5);\">the</span> <span title=\"0.083\" style=\"background-color: rgba(254, 231, 220, 0.5);\">largest</span> <span title=\"0.025\" style=\"background-color: rgba(254, 241, 234, 0.5);\">of</span> <span title=\"0.023\" style=\"background-color: rgba(254, 241, 235, 0.5);\">these</span> <span title=\"0.094\" style=\"background-color: rgba(254, 229, 217, 0.5);\">measures</span> <span title=\"0.067\" style=\"background-color: rgba(254, 233, 224, 0.5);\">7.8</span> <span title=\"0.103\" style=\"background-color: rgba(254, 227, 215, 0.5);\">x</span> <span title=\"0.035\" style=\"background-color: rgba(254, 239, 232, 0.5);\">0.1</span> <span title=\"0.046\" style=\"background-color: rgba(254, 237, 229, 0.5);\">cm</span> <span title=\"0.034\" style=\"background-color: rgba(254, 239, 232, 0.5);\">.</span> <span title=\"0.053\" style=\"background-color: rgba(254, 236, 227, 0.5);\">.locationhead</span> <span title=\"0.031\" style=\"background-color: rgba(254, 240, 233, 0.5);\">.injuryfirearm</span> <span title=\"0.016\" style=\"background-color: rgba(254, 242, 236, 0.5);\">injury</span> <span title=\"0.090\" style=\"background-color: rgba(254, 229, 218, 0.5);\">.</span> <span title=\"0.040\" style=\"background-color: rgba(254, 238, 230, 0.5);\">xxup</span> <span title=\"0.074\" style=\"background-color: rgba(254, 233, 223, 0.5);\">.injurydesc</span> <span title=\"0.195\" style=\"background-color: rgba(252, 204, 183, 0.5);\">.</span> <span title=\"0.193\" style=\"background-color: rgba(252, 204, 183, 0.5);\">xxup</span> <span title=\"0.056\" style=\"background-color: rgba(254, 235, 226, 0.5);\">gunshot</span> <span title=\"0.143\" style=\"background-color: rgba(253, 219, 203, 0.5);\">xxup</span> <span title=\"0.035\" style=\"background-color: rgba(254, 239, 231, 0.5);\">wound</span> <span title=\"0.043\" style=\"background-color: rgba(254, 238, 230, 0.5);\">xxup</span> <span title=\"0.041\" style=\"background-color: rgba(254, 238, 230, 0.5);\">of</span> <span title=\"0.094\" style=\"background-color: rgba(254, 229, 217, 0.5);\">xxup</span> <span title=\"0.463\" style=\"background-color: rgba(251, 117, 85, 0.5);\">the</span> <span title=\"0.301\" style=\"background-color: rgba(252, 169, 141, 0.5);\">xxup</span> <span title=\"0.023\" style=\"background-color: rgba(254, 241, 235, 0.5);\">head</span> <span title=\"0.050\" style=\"background-color: rgba(254, 237, 228, 0.5);\">xxmaj</span> <span title=\"0.065\" style=\"background-color: rgba(254, 234, 224, 0.5);\">entrance</span> <span title=\"0.026\" style=\"background-color: rgba(254, 241, 234, 0.5);\">(</span> <span title=\"0.036\" style=\"background-color: rgba(254, 239, 231, 0.5);\">a</span> <span title=\"0.016\" style=\"background-color: rgba(254, 242, 236, 0.5);\">)</span> <span title=\"0.024\" style=\"background-color: rgba(254, 241, 234, 0.5);\">:</span> <span title=\"0.026\" style=\"background-color: rgba(254, 241, 234, 0.5);\">xxmaj</span> <span title=\"0.063\" style=\"background-color: rgba(254, 234, 224, 0.5);\">on</span> <span title=\"0.023\" style=\"background-color: rgba(254, 241, 235, 0.5);\">the</span> <span title=\"0.144\" style=\"background-color: rgba(253, 219, 203, 0.5);\">left</span> <span title=\"0.016\" style=\"background-color: rgba(254, 242, 236, 0.5);\">lower</span> <span title=\"0.004\" style=\"background-color: rgba(255, 245, 240, 0.5);\">cheek</span> <span title=\"0.005\" style=\"background-color: rgba(254, 244, 239, 0.5);\">,</span> <span title=\"0.007\" style=\"background-color: rgba(254, 244, 239, 0.5);\">just</span> <span title=\"0.022\" style=\"background-color: rgba(254, 241, 235, 0.5);\">superiolateral</span> <span title=\"0.005\" style=\"background-color: rgba(254, 244, 239, 0.5);\">to</span> <span title=\"0.007\" style=\"background-color: rgba(254, 244, 239, 0.5);\">the</span> <span title=\"0.017\" style=\"background-color: rgba(254, 242, 236, 0.5);\">left</span> <span title=\"0.079\" style=\"background-color: rgba(254, 231, 221, 0.5);\">upper</span> <span title=\"0.011\" style=\"background-color: rgba(254, 243, 238, 0.5);\">lip</span> <span title=\"0.042\" style=\"background-color: rgba(254, 238, 230, 0.5);\">,</span> <span title=\"0.024\" style=\"background-color: rgba(254, 241, 234, 0.5);\">19</span> <span title=\"0.024\" style=\"background-color: rgba(254, 241, 234, 0.5);\">cm</span> <span title=\"0.017\" style=\"background-color: rgba(254, 242, 236, 0.5);\">below</span> <span title=\"0.042\" style=\"background-color: rgba(254, 238, 230, 0.5);\">the</span> <span title=\"0.040\" style=\"background-color: rgba(254, 238, 230, 0.5);\">top</span> <span title=\"0.158\" style=\"background-color: rgba(253, 214, 197, 0.5);\">of</span> <span title=\"0.034\" style=\"background-color: rgba(254, 239, 232, 0.5);\">the</span> <span title=\"0.015\" style=\"background-color: rgba(254, 243, 237, 0.5);\">head</span> <span title=\"0.110\" style=\"background-color: rgba(254, 226, 213, 0.5);\">,</span> <span title=\"0.032\" style=\"background-color: rgba(254, 239, 232, 0.5);\">and</span> <span title=\"0.024\" style=\"background-color: rgba(254, 241, 234, 0.5);\">3.5</span> <span title=\"0.029\" style=\"background-color: rgba(254, 240, 233, 0.5);\">cm</span> <span title=\"0.028\" style=\"background-color: rgba(254, 240, 233, 0.5);\">left</span> <span title=\"0.029\" style=\"background-color: rgba(254, 240, 233, 0.5);\">of</span> <span title=\"0.032\" style=\"background-color: rgba(254, 239, 232, 0.5);\">the</span> <span title=\"0.061\" style=\"background-color: rgba(254, 235, 225, 0.5);\">anterior</span> <span title=\"0.026\" style=\"background-color: rgba(254, 241, 234, 0.5);\">midline</span> <span title=\"0.056\" style=\"background-color: rgba(254, 235, 226, 0.5);\">,</span> <span title=\"0.174\" style=\"background-color: rgba(253, 209, 191, 0.5);\">is</span> <span title=\"0.268\" style=\"background-color: rgba(252, 181, 154, 0.5);\">an</span> <span title=\"0.051\" style=\"background-color: rgba(254, 237, 228, 0.5);\">entrance</span> <span title=\"0.183\" style=\"background-color: rgba(253, 207, 188, 0.5);\">gunshot</span> <span title=\"0.071\" style=\"background-color: rgba(254, 233, 223, 0.5);\">wound</span> <span title=\"0.043\" style=\"background-color: rgba(254, 238, 230, 0.5);\">consisting</span> <span title=\"0.033\" style=\"background-color: rgba(254, 239, 232, 0.5);\">of</span> <span title=\"0.033\" style=\"background-color: rgba(254, 239, 232, 0.5);\">a</span> <span title=\"0.083\" style=\"background-color: rgba(254, 231, 220, 0.5);\">1.1</span> <span title=\"0.153\" style=\"background-color: rgba(253, 215, 199, 0.5);\">x</span> <span title=\"0.029\" style=\"background-color: rgba(254, 240, 233, 0.5);\">1.0</span> <span title=\"0.171\" style=\"background-color: rgba(253, 211, 192, 0.5);\">cm</span> <span title=\"0.078\" style=\"background-color: rgba(254, 232, 222, 0.5);\">round</span> <span title=\"0.038\" style=\"background-color: rgba(254, 239, 231, 0.5);\">defect</span> <span title=\"0.012\" style=\"background-color: rgba(254, 243, 238, 0.5);\">with</span> <span title=\"0.038\" style=\"background-color: rgba(254, 239, 231, 0.5);\">a</span> <span title=\"0.018\" style=\"background-color: rgba(254, 242, 236, 0.5);\">2</span> <span title=\"0.021\" style=\"background-color: rgba(254, 241, 235, 0.5);\">cm</span> <span title=\"0.076\" style=\"background-color: rgba(254, 232, 222, 0.5);\">marginal</span> <span title=\"0.013\" style=\"background-color: rgba(254, 243, 237, 0.5);\">abrasion</span> <span title=\"0.031\" style=\"background-color: rgba(254, 240, 233, 0.5);\">and</span> <span title=\"0.034\" style=\"background-color: rgba(254, 239, 232, 0.5);\">lacerated</span> <span title=\"0.025\" style=\"background-color: rgba(254, 241, 234, 0.5);\">borders</span> <span title=\"0.034\" style=\"background-color: rgba(254, 239, 232, 0.5);\">that</span> <span title=\"0.031\" style=\"background-color: rgba(254, 240, 233, 0.5);\">measure</span> <span title=\"0.024\" style=\"background-color: rgba(254, 241, 234, 0.5);\">up</span> <span title=\"0.071\" style=\"background-color: rgba(254, 233, 223, 0.5);\">to</span> <span title=\"0.028\" style=\"background-color: rgba(254, 240, 233, 0.5);\">3</span> <span title=\"0.009\" style=\"background-color: rgba(254, 243, 238, 0.5);\">cm</span> <span title=\"0.023\" style=\"background-color: rgba(254, 241, 235, 0.5);\">.</span> <span title=\"0.032\" style=\"background-color: rgba(254, 239, 232, 0.5);\">xxmaj</span> <span title=\"0.096\" style=\"background-color: rgba(254, 229, 217, 0.5);\">soot</span> <span title=\"0.036\" style=\"background-color: rgba(254, 239, 231, 0.5);\">,</span> <span title=\"0.029\" style=\"background-color: rgba(254, 240, 233, 0.5);\">unburned</span> <span title=\"0.034\" style=\"background-color: rgba(254, 239, 232, 0.5);\">gunpowder</span> <span title=\"0.029\" style=\"background-color: rgba(254, 240, 233, 0.5);\">particles</span> <span title=\"0.041\" style=\"background-color: rgba(254, 238, 230, 0.5);\">and</span> <span title=\"0.091\" style=\"background-color: rgba(254, 229, 218, 0.5);\">gunpowder</span> <span title=\"0.027\" style=\"background-color: rgba(254, 241, 234, 0.5);\">stippling</span> <span title=\"0.039\" style=\"background-color: rgba(254, 238, 230, 0.5);\">are</span> <span title=\"0.031\" style=\"background-color: rgba(254, 239, 232, 0.5);\">not</span> <span title=\"0.068\" style=\"background-color: rgba(254, 233, 224, 0.5);\">visible</span> <span title=\"0.114\" style=\"background-color: rgba(254, 225, 212, 0.5);\">on</span> <span title=\"0.061\" style=\"background-color: rgba(254, 235, 225, 0.5);\">the</span> <span title=\"0.040\" style=\"background-color: rgba(254, 238, 230, 0.5);\">skin</span> <span title=\"0.060\" style=\"background-color: rgba(254, 235, 225, 0.5);\">surrounding</span> <span title=\"0.046\" style=\"background-color: rgba(254, 237, 229, 0.5);\">the</span> <span title=\"0.266\" style=\"background-color: rgba(252, 181, 154, 0.5);\">wound</span> <span title=\"0.169\" style=\"background-color: rgba(253, 211, 192, 0.5);\">.</span> <span title=\"0.111\" style=\"background-color: rgba(254, 226, 213, 0.5);\">xxmaj</span> <span title=\"0.311\" style=\"background-color: rgba(252, 167, 138, 0.5);\">path</span> <span title=\"0.153\" style=\"background-color: rgba(253, 215, 199, 0.5);\">:</span> <span title=\"0.039\" style=\"background-color: rgba(254, 239, 231, 0.5);\">xxmaj</span> <span title=\"0.041\" style=\"background-color: rgba(254, 238, 230, 0.5);\">the</span> <span title=\"0.038\" style=\"background-color: rgba(254, 239, 231, 0.5);\">hemorrhagic</span> <span title=\"0.023\" style=\"background-color: rgba(254, 241, 235, 0.5);\">wound</span> <span title=\"0.030\" style=\"background-color: rgba(254, 240, 233, 0.5);\">track</span> <span title=\"0.032\" style=\"background-color: rgba(254, 239, 232, 0.5);\">sequentially</span> <span title=\"0.014\" style=\"background-color: rgba(254, 243, 237, 0.5);\">perforates</span> <span title=\"0.020\" style=\"background-color: rgba(254, 241, 235, 0.5);\">the</span> <span title=\"0.093\" style=\"background-color: rgba(254, 229, 218, 0.5);\">skin</span> <span title=\"0.053\" style=\"background-color: rgba(254, 236, 227, 0.5);\">and</span> <span title=\"0.013\" style=\"background-color: rgba(254, 243, 237, 0.5);\">subcutaneous</span> <span title=\"0.012\" style=\"background-color: rgba(254, 243, 237, 0.5);\">tissue</span> <span title=\"0.023\" style=\"background-color: rgba(254, 241, 235, 0.5);\">of</span> <span title=\"0.009\" style=\"background-color: rgba(254, 243, 238, 0.5);\">the</span> <span title=\"0.021\" style=\"background-color: rgba(254, 241, 235, 0.5);\">left</span> <span title=\"0.040\" style=\"background-color: rgba(254, 238, 230, 0.5);\">lower</span> <span title=\"0.007\" style=\"background-color: rgba(254, 244, 239, 0.5);\">cheek</span> <span title=\"0.021\" style=\"background-color: rgba(254, 241, 235, 0.5);\">,</span> <span title=\"0.015\" style=\"background-color: rgba(254, 243, 237, 0.5);\">the</span> <span title=\"0.008\" style=\"background-color: rgba(254, 243, 238, 0.5);\">underlying</span> <span title=\"0.005\" style=\"background-color: rgba(254, 244, 239, 0.5);\">subcutaneous</span> <span title=\"0.016\" style=\"background-color: rgba(254, 243, 237, 0.5);\">tissue</span> <span title=\"0.015\" style=\"background-color: rgba(254, 243, 237, 0.5);\">,</span> <span title=\"0.011\" style=\"background-color: rgba(254, 243, 238, 0.5);\">the</span> <span title=\"0.039\" style=\"background-color: rgba(254, 238, 230, 0.5);\">left</span> <span title=\"0.005\" style=\"background-color: rgba(254, 244, 239, 0.5);\">oral</span> <span title=\"0.008\" style=\"background-color: rgba(254, 244, 239, 0.5);\">mucosa</span> <span title=\"0.008\" style=\"background-color: rgba(254, 244, 239, 0.5);\">(</span> <span title=\"0.062\" style=\"background-color: rgba(254, 235, 225, 0.5);\">entering</span> <span title=\"0.011\" style=\"background-color: rgba(254, 243, 238, 0.5);\">the</span> <span title=\"0.022\" style=\"background-color: rgba(254, 241, 235, 0.5);\">oral</span> <span title=\"0.016\" style=\"background-color: rgba(254, 242, 236, 0.5);\">cavity</span> <span title=\"0.012\" style=\"background-color: rgba(254, 243, 237, 0.5);\">)</span> <span title=\"0.038\" style=\"background-color: rgba(254, 239, 231, 0.5);\">,</span> <span title=\"0.028\" style=\"background-color: rgba(254, 240, 233, 0.5);\">the</span> <span title=\"0.037\" style=\"background-color: rgba(254, 239, 231, 0.5);\">posterior</span> <span title=\"0.069\" style=\"background-color: rgba(254, 233, 224, 0.5);\">oral</span> <span title=\"0.047\" style=\"background-color: rgba(254, 237, 228, 0.5);\">mucosa</span> <span title=\"0.022\" style=\"background-color: rgba(254, 241, 235, 0.5);\">,</span> <span title=\"0.057\" style=\"background-color: rgba(254, 235, 226, 0.5);\">the</span> <span title=\"0.028\" style=\"background-color: rgba(254, 240, 233, 0.5);\">soft</span> <span title=\"0.061\" style=\"background-color: rgba(254, 235, 225, 0.5);\">tissues</span> <span title=\"0.070\" style=\"background-color: rgba(254, 233, 224, 0.5);\">of</span> <span title=\"0.043\" style=\"background-color: rgba(254, 238, 230, 0.5);\">the</span> <span title=\"0.029\" style=\"background-color: rgba(254, 240, 233, 0.5);\">superior</span> <span title=\"0.061\" style=\"background-color: rgba(254, 235, 225, 0.5);\">anterior</span> <span title=\"0.157\" style=\"background-color: rgba(253, 214, 197, 0.5);\">neck</span> <span title=\"0.170\" style=\"background-color: rgba(253, 211, 192, 0.5);\">,</span> <span title=\"0.014\" style=\"background-color: rgba(254, 243, 237, 0.5);\">the</span> <span title=\"0.047\" style=\"background-color: rgba(254, 237, 229, 0.5);\">anterior</span> <span title=\"0.172\" style=\"background-color: rgba(253, 209, 191, 0.5);\">second</span> <span title=\"0.083\" style=\"background-color: rgba(254, 231, 220, 0.5);\">cervical</span> <span title=\"0.055\" style=\"background-color: rgba(254, 235, 226, 0.5);\">vertebra</span> <span title=\"0.040\" style=\"background-color: rgba(254, 238, 230, 0.5);\">,</span> <span title=\"0.059\" style=\"background-color: rgba(254, 235, 226, 0.5);\">the</span> <span title=\"0.122\" style=\"background-color: rgba(254, 224, 210, 0.5);\">cervical</span> <span title=\"0.418\" style=\"background-color: rgba(251, 132, 100, 0.5);\">spinal</span> <span title=\"0.122\" style=\"background-color: rgba(254, 224, 210, 0.5);\">cord</span> <span title=\"0.042\" style=\"background-color: rgba(254, 238, 230, 0.5);\">,</span> <span title=\"0.218\" style=\"background-color: rgba(252, 197, 174, 0.5);\">and</span> <span title=\"0.073\" style=\"background-color: rgba(254, 233, 223, 0.5);\">the</span> <span title=\"0.406\" style=\"background-color: rgba(251, 136, 104, 0.5);\">posterior</span> <span title=\"0.079\" style=\"background-color: rgba(254, 231, 221, 0.5);\">second</span> <span title=\"0.041\" style=\"background-color: rgba(254, 238, 230, 0.5);\">cervical</span> <span title=\"0.028\" style=\"background-color: rgba(254, 240, 233, 0.5);\">vertebra</span> <span title=\"0.105\" style=\"background-color: rgba(254, 227, 214, 0.5);\">.</span> <span title=\"0.336\" style=\"background-color: rgba(252, 158, 128, 0.5);\">xxmaj</span> <span title=\"0.717\" style=\"background-color: rgba(212, 33, 32, 0.5);\">the</span> <span title=\"0.069\" style=\"background-color: rgba(254, 233, 224, 0.5);\">missile</span> <span title=\"0.023\" style=\"background-color: rgba(254, 241, 235, 0.5);\">comes</span> <span title=\"0.081\" style=\"background-color: rgba(254, 231, 221, 0.5);\">to</span> <span title=\"0.297\" style=\"background-color: rgba(252, 172, 144, 0.5);\">rest</span> <span title=\"0.073\" style=\"background-color: rgba(254, 233, 223, 0.5);\">in</span> <span title=\"0.026\" style=\"background-color: rgba(254, 241, 234, 0.5);\">the</span> <span title=\"0.023\" style=\"background-color: rgba(254, 241, 235, 0.5);\">soft</span> <span title=\"0.054\" style=\"background-color: rgba(254, 236, 227, 0.5);\">tissues</span> <span title=\"0.072\" style=\"background-color: rgba(254, 233, 223, 0.5);\">of</span> <span title=\"0.072\" style=\"background-color: rgba(254, 233, 223, 0.5);\">the</span> <span title=\"0.017\" style=\"background-color: rgba(254, 242, 236, 0.5);\">right</span> <span title=\"0.051\" style=\"background-color: rgba(254, 236, 227, 0.5);\">posterior</span> <span title=\"0.066\" style=\"background-color: rgba(254, 233, 224, 0.5);\">neck</span> <span title=\"0.102\" style=\"background-color: rgba(254, 227, 215, 0.5);\">.</span> <span title=\"0.225\" style=\"background-color: rgba(252, 194, 171, 0.5);\">a</span> <span title=\"0.102\" style=\"background-color: rgba(254, 227, 215, 0.5);\">slightly</span> <span title=\"0.030\" style=\"background-color: rgba(254, 240, 233, 0.5);\">deformed</span> <span title=\"0.092\" style=\"background-color: rgba(254, 229, 218, 0.5);\">metal</span> <span title=\"0.408\" style=\"background-color: rgba(251, 135, 103, 0.5);\">projectile</span> <span title=\"0.355\" style=\"background-color: rgba(252, 153, 122, 0.5);\">is</span> <span title=\"0.157\" style=\"background-color: rgba(253, 214, 197, 0.5);\">recovered</span> <span title=\"0.095\" style=\"background-color: rgba(254, 229, 217, 0.5);\">weighing</span> <span title=\"0.083\" style=\"background-color: rgba(254, 231, 220, 0.5);\">xxunk</span> <span title=\"0.035\" style=\"background-color: rgba(254, 239, 231, 0.5);\">gn</span> <span title=\"0.106\" style=\"background-color: rgba(254, 227, 214, 0.5);\">.</span> <span title=\"0.179\" style=\"background-color: rgba(253, 208, 189, 0.5);\">xxmaj</span> <span title=\"0.315\" style=\"background-color: rgba(252, 166, 137, 0.5);\">associated</span> <span title=\"0.065\" style=\"background-color: rgba(254, 234, 224, 0.5);\">injuries</span> <span title=\"0.005\" style=\"background-color: rgba(254, 244, 239, 0.5);\">include</span> <span title=\"0.006\" style=\"background-color: rgba(254, 244, 239, 0.5);\">displacement</span> <span title=\"0.013\" style=\"background-color: rgba(254, 243, 237, 0.5);\">of</span> <span title=\"0.085\" style=\"background-color: rgba(254, 231, 220, 0.5);\">the</span> <span title=\"0.169\" style=\"background-color: rgba(253, 211, 192, 0.5);\">left</span> <span title=\"0.046\" style=\"background-color: rgba(254, 237, 229, 0.5);\">upper</span> <span title=\"0.039\" style=\"background-color: rgba(254, 239, 231, 0.5);\">second</span> <span title=\"0.022\" style=\"background-color: rgba(254, 241, 235, 0.5);\">pre</span> <span title=\"0.019\" style=\"background-color: rgba(254, 242, 236, 0.5);\">-</span> <span title=\"0.055\" style=\"background-color: rgba(254, 235, 226, 0.5);\">molar</span> <span title=\"0.044\" style=\"background-color: rgba(254, 237, 229, 0.5);\">,</span> <span title=\"0.023\" style=\"background-color: rgba(254, 241, 235, 0.5);\">multiple</span> <span title=\"0.030\" style=\"background-color: rgba(254, 240, 233, 0.5);\">comminuted</span> <span title=\"0.040\" style=\"background-color: rgba(254, 238, 230, 0.5);\">fractures</span> <span title=\"0.081\" style=\"background-color: rgba(254, 231, 221, 0.5);\">of</span> <span title=\"0.098\" style=\"background-color: rgba(254, 228, 216, 0.5);\">the</span> <span title=\"0.020\" style=\"background-color: rgba(254, 241, 235, 0.5);\">first</span> <span title=\"0.036\" style=\"background-color: rgba(254, 239, 231, 0.5);\">and</span> <span title=\"0.192\" style=\"background-color: rgba(252, 204, 183, 0.5);\">second</span> <span title=\"0.127\" style=\"background-color: rgba(253, 223, 209, 0.5);\">cervical</span> <span title=\"0.172\" style=\"background-color: rgba(253, 211, 192, 0.5);\">vertebrae</span> <span title=\"0.102\" style=\"background-color: rgba(254, 227, 215, 0.5);\">,</span> <span title=\"0.017\" style=\"background-color: rgba(254, 242, 236, 0.5);\">and</span> <span title=\"0.087\" style=\"background-color: rgba(254, 230, 219, 0.5);\">maceration</span> <span title=\"0.198\" style=\"background-color: rgba(252, 202, 182, 0.5);\">of</span> <span title=\"0.095\" style=\"background-color: rgba(254, 229, 217, 0.5);\">the</span> <span title=\"0.022\" style=\"background-color: rgba(254, 241, 235, 0.5);\">spinal</span> <span title=\"0.012\" style=\"background-color: rgba(254, 243, 237, 0.5);\">cord</span> <span title=\"0.013\" style=\"background-color: rgba(254, 243, 237, 0.5);\">at</span> <span title=\"0.014\" style=\"background-color: rgba(254, 243, 237, 0.5);\">the</span> <span title=\"0.060\" style=\"background-color: rgba(254, 235, 225, 0.5);\">level</span> <span title=\"0.058\" style=\"background-color: rgba(254, 235, 226, 0.5);\">of</span> <span title=\"0.069\" style=\"background-color: rgba(254, 233, 224, 0.5);\">the</span> <span title=\"0.218\" style=\"background-color: rgba(252, 197, 174, 0.5);\">xxup</span> <span title=\"0.047\" style=\"background-color: rgba(254, 237, 228, 0.5);\">c2</span> <span title=\"0.030\" style=\"background-color: rgba(254, 240, 233, 0.5);\">cervical</span> <span title=\"0.066\" style=\"background-color: rgba(254, 233, 224, 0.5);\">vertebra</span> <span title=\"0.106\" style=\"background-color: rgba(254, 227, 214, 0.5);\">.</span> <span title=\"0.123\" style=\"background-color: rgba(254, 224, 210, 0.5);\">xxmaj</span> <span title=\"0.172\" style=\"background-color: rgba(253, 209, 191, 0.5);\">removal</span> <span title=\"0.037\" style=\"background-color: rgba(254, 239, 231, 0.5);\">of</span> <span title=\"0.177\" style=\"background-color: rgba(253, 208, 189, 0.5);\">the</span> <span title=\"0.020\" style=\"background-color: rgba(254, 241, 235, 0.5);\">brain</span> <span title=\"0.078\" style=\"background-color: rgba(254, 232, 222, 0.5);\">demonstrates</span> <span title=\"0.205\" style=\"background-color: rgba(252, 200, 179, 0.5);\">diffuse</span> <span title=\"0.164\" style=\"background-color: rgba(253, 212, 194, 0.5);\">subarachnoid</span> <span title=\"0.096\" style=\"background-color: rgba(254, 229, 217, 0.5);\">hemorrhage</span> <span title=\"0.132\" style=\"background-color: rgba(253, 222, 208, 0.5);\">.</span> <span title=\"0.448\" style=\"background-color: rgba(251, 122, 90, 0.5);\">xxmaj</span> <span title=\"0.305\" style=\"background-color: rgba(252, 168, 139, 0.5);\">no</span> <span title=\"0.383\" style=\"background-color: rgba(251, 143, 111, 0.5);\">injuries</span> <span title=\"1.000\" style=\"background-color: rgba(103, 0, 12, 0.5);\">to</span> <span title=\"0.186\" style=\"background-color: rgba(253, 206, 186, 0.5);\">the</span> <span title=\"0.016\" style=\"background-color: rgba(254, 243, 237, 0.5);\">major</span> <span title=\"0.049\" style=\"background-color: rgba(254, 237, 228, 0.5);\">vascular</span> <span title=\"0.296\" style=\"background-color: rgba(252, 172, 144, 0.5);\">structures</span> <span title=\"0.067\" style=\"background-color: rgba(254, 233, 224, 0.5);\">of</span> <span title=\"0.040\" style=\"background-color: rgba(254, 238, 230, 0.5);\">the</span> <span title=\"0.250\" style=\"background-color: rgba(252, 187, 162, 0.5);\">neck</span> <span title=\"0.144\" style=\"background-color: rgba(253, 219, 203, 0.5);\">(</span> <span title=\"0.094\" style=\"background-color: rgba(254, 229, 218, 0.5);\">carotid</span> <span title=\"0.120\" style=\"background-color: rgba(254, 225, 211, 0.5);\">arteries</span> <span title=\"0.541\" style=\"background-color: rgba(247, 90, 64, 0.5);\">and</span> <span title=\"0.197\" style=\"background-color: rgba(252, 202, 182, 0.5);\">jugular</span> <span title=\"0.258\" style=\"background-color: rgba(252, 185, 159, 0.5);\">veins</span> <span title=\"0.388\" style=\"background-color: rgba(251, 141, 109, 0.5);\">)</span> <span title=\"0.482\" style=\"background-color: rgba(251, 111, 79, 0.5);\">are</span> <span title=\"0.052\" style=\"background-color: rgba(254, 236, 227, 0.5);\">identified</span> <span title=\"0.056\" style=\"background-color: rgba(254, 235, 226, 0.5);\">.</span> <span title=\"0.009\" style=\"background-color: rgba(254, 243, 238, 0.5);\">xxmaj</span> <span title=\"0.017\" style=\"background-color: rgba(254, 242, 236, 0.5);\">trajectory</span> <span title=\"0.283\" style=\"background-color: rgba(252, 176, 148, 0.5);\">:</span> <span title=\"0.050\" style=\"background-color: rgba(254, 237, 228, 0.5);\">xxmaj</span> <span title=\"0.032\" style=\"background-color: rgba(254, 239, 232, 0.5);\">the</span> <span title=\"0.124\" style=\"background-color: rgba(254, 224, 210, 0.5);\">wound</span> <span title=\"0.018\" style=\"background-color: rgba(254, 242, 236, 0.5);\">track</span> <span title=\"0.029\" style=\"background-color: rgba(254, 240, 233, 0.5);\">travels</span> <span title=\"0.033\" style=\"background-color: rgba(254, 239, 232, 0.5);\">from</span> <span title=\"0.011\" style=\"background-color: rgba(254, 243, 238, 0.5);\">the</span> <span title=\"0.006\" style=\"background-color: rgba(254, 244, 239, 0.5);\">decedentâs</span> <span title=\"0.021\" style=\"background-color: rgba(254, 241, 235, 0.5);\">anterior</span> <span title=\"0.074\" style=\"background-color: rgba(254, 233, 223, 0.5);\">to</span> <span title=\"0.184\" style=\"background-color: rgba(253, 206, 186, 0.5);\">posterior</span> <span title=\"0.044\" style=\"background-color: rgba(254, 237, 229, 0.5);\">,</span> <span title=\"0.043\" style=\"background-color: rgba(254, 237, 229, 0.5);\">left</span> <span title=\"0.139\" style=\"background-color: rgba(253, 220, 205, 0.5);\">to</span> <span title=\"0.128\" style=\"background-color: rgba(253, 223, 209, 0.5);\">right</span> <span title=\"0.086\" style=\"background-color: rgba(254, 231, 220, 0.5);\">and</span> <span title=\"0.036\" style=\"background-color: rgba(254, 239, 231, 0.5);\">superior</span> <span title=\"0.051\" style=\"background-color: rgba(254, 236, 227, 0.5);\">to</span> <span title=\"0.150\" style=\"background-color: rgba(253, 216, 200, 0.5);\">inferior</span> <span title=\"0.073\" style=\"background-color: rgba(254, 233, 223, 0.5);\">.</span> <span title=\"0.351\" style=\"background-color: rgba(252, 154, 123, 0.5);\">.locationabdomen</span> <span title=\"0.214\" style=\"background-color: rgba(252, 198, 175, 0.5);\">.injuryfirearm</span> <span title=\"0.153\" style=\"background-color: rgba(253, 215, 199, 0.5);\">injury</span> <span title=\"0.893\" style=\"background-color: rgba(155, 12, 19, 0.5);\">.</span> <span title=\"0.031\" style=\"background-color: rgba(254, 240, 233, 0.5);\">xxup</span> <span title=\"0.004\" style=\"background-color: rgba(254, 244, 239, 0.5);\">.injurydesc</span> <span title=\"0.004\" style=\"background-color: rgba(255, 245, 240, 0.5);\">.</span> <span title=\"0.013\" style=\"background-color: rgba(254, 243, 237, 0.5);\">xxup</span> <span title=\"0.007\" style=\"background-color: rgba(254, 244, 239, 0.5);\">gunshot</span> <span title=\"0.015\" style=\"background-color: rgba(254, 243, 237, 0.5);\">xxup</span> <span title=\"0.029\" style=\"background-color: rgba(254, 240, 233, 0.5);\">wound</span> <span title=\"0.103\" style=\"background-color: rgba(254, 227, 215, 0.5);\">xxup</span> <span title=\"0.021\" style=\"background-color: rgba(254, 241, 235, 0.5);\">of</span> <span title=\"0.020\" style=\"background-color: rgba(254, 241, 235, 0.5);\">xxup</span> <span title=\"0.016\" style=\"background-color: rgba(254, 242, 236, 0.5);\">the</span> <span title=\"0.041\" style=\"background-color: rgba(254, 238, 230, 0.5);\">xxup</span> <span title=\"0.117\" style=\"background-color: rgba(254, 225, 212, 0.5);\">abdomen</span> <span title=\"0.098\" style=\"background-color: rgba(254, 228, 216, 0.5);\">xxmaj</span> <span title=\"0.114\" style=\"background-color: rgba(254, 225, 212, 0.5);\">entrance</span> <span title=\"0.043\" style=\"background-color: rgba(254, 238, 230, 0.5);\">(</span> <span title=\"0.074\" style=\"background-color: rgba(254, 233, 223, 0.5);\">b</span> <span title=\"0.283\" style=\"background-color: rgba(252, 176, 148, 0.5);\">)</span> <span title=\"0.654\" style=\"background-color: rgba(230, 50, 40, 0.5);\">:</span> <span title=\"0.354\" style=\"background-color: rgba(252, 153, 122, 0.5);\">xxmaj</span> <span title=\"0.144\" style=\"background-color: rgba(253, 219, 203, 0.5);\">on</span> <span title=\"0.087\" style=\"background-color: rgba(254, 230, 219, 0.5);\">the</span> <span title=\"0.317\" style=\"background-color: rgba(252, 164, 135, 0.5);\">left</span> <span title=\"0.279\" style=\"background-color: rgba(252, 177, 150, 0.5);\">central</span> <span title=\"0.006\" style=\"background-color: rgba(254, 244, 239, 0.5);\">abdomen</span> <span title=\"0.004\" style=\"background-color: rgba(254, 244, 239, 0.5);\">,</span> <span title=\"0.009\" style=\"background-color: rgba(254, 243, 238, 0.5);\">78</span> <span title=\"0.004\" style=\"background-color: rgba(255, 245, 240, 0.5);\">cm</span> <span title=\"0.007\" style=\"background-color: rgba(254, 244, 239, 0.5);\">below</span> <span title=\"0.006\" style=\"background-color: rgba(254, 244, 239, 0.5);\">the</span> <span title=\"0.031\" style=\"background-color: rgba(254, 240, 233, 0.5);\">top</span> <span title=\"0.091\" style=\"background-color: rgba(254, 229, 218, 0.5);\">of</span> <span title=\"0.036\" style=\"background-color: rgba(254, 239, 231, 0.5);\">the</span> <span title=\"0.185\" style=\"background-color: rgba(253, 206, 186, 0.5);\">head</span> <span title=\"0.008\" style=\"background-color: rgba(254, 244, 239, 0.5);\">,</span> <span title=\"0.003\" style=\"background-color: rgba(255, 245, 240, 0.5);\">2</span> <span title=\"0.003\" style=\"background-color: rgba(255, 245, 240, 0.5);\">cm</span> <span title=\"0.003\" style=\"background-color: rgba(255, 245, 240, 0.5);\">left</span> <span title=\"0.013\" style=\"background-color: rgba(254, 243, 237, 0.5);\">of</span> <span title=\"0.004\" style=\"background-color: rgba(254, 244, 239, 0.5);\">the</span> <span title=\"0.005\" style=\"background-color: rgba(254, 244, 239, 0.5);\">anterior</span> <span title=\"0.015\" style=\"background-color: rgba(254, 243, 237, 0.5);\">midline</span> <span title=\"0.094\" style=\"background-color: rgba(254, 229, 218, 0.5);\">,</span> <span title=\"0.015\" style=\"background-color: rgba(254, 243, 237, 0.5);\">and</span> <span title=\"0.051\" style=\"background-color: rgba(254, 236, 227, 0.5);\">1.5</span> <span title=\"0.029\" style=\"background-color: rgba(254, 240, 233, 0.5);\">cm</span> <span title=\"0.016\" style=\"background-color: rgba(254, 242, 236, 0.5);\">inferior</span> <span title=\"0.013\" style=\"background-color: rgba(254, 243, 237, 0.5);\">and</span> <span title=\"0.045\" style=\"background-color: rgba(254, 237, 229, 0.5);\">lateral</span> <span title=\"0.033\" style=\"background-color: rgba(254, 239, 232, 0.5);\">to</span> <span title=\"0.208\" style=\"background-color: rgba(252, 199, 177, 0.5);\">the</span> <span title=\"0.021\" style=\"background-color: rgba(254, 241, 235, 0.5);\">navel</span> <span title=\"0.031\" style=\"background-color: rgba(254, 240, 233, 0.5);\">,</span> <span title=\"0.118\" style=\"background-color: rgba(254, 225, 211, 0.5);\">is</span> <span title=\"0.081\" style=\"background-color: rgba(254, 231, 221, 0.5);\">an</span> <span title=\"0.022\" style=\"background-color: rgba(254, 241, 235, 0.5);\">entrance</span> <span title=\"0.011\" style=\"background-color: rgba(254, 243, 238, 0.5);\">gunshot</span> <span title=\"0.011\" style=\"background-color: rgba(254, 243, 238, 0.5);\">wound</span> <span title=\"0.018\" style=\"background-color: rgba(254, 242, 236, 0.5);\">consisting</span> <span title=\"0.014\" style=\"background-color: rgba(254, 243, 237, 0.5);\">of</span> <span title=\"0.035\" style=\"background-color: rgba(254, 239, 231, 0.5);\">a</span> <span title=\"0.021\" style=\"background-color: rgba(254, 241, 235, 0.5);\">0.9</span> <span title=\"0.047\" style=\"background-color: rgba(254, 237, 228, 0.5);\">x</span> <span title=\"0.105\" style=\"background-color: rgba(254, 227, 215, 0.5);\">0.6</span> <span title=\"0.263\" style=\"background-color: rgba(252, 182, 156, 0.5);\">cm</span> <span title=\"0.032\" style=\"background-color: rgba(254, 239, 232, 0.5);\">round</span> <span title=\"0.201\" style=\"background-color: rgba(252, 201, 180, 0.5);\">defect</span> <span title=\"0.019\" style=\"background-color: rgba(254, 242, 236, 0.5);\">with</span> <span title=\"0.024\" style=\"background-color: rgba(254, 241, 234, 0.5);\">a</span> <span title=\"0.008\" style=\"background-color: rgba(254, 243, 238, 0.5);\">0.1</span> <span title=\"0.026\" style=\"background-color: rgba(254, 241, 234, 0.5);\">-</span> <span title=\"0.008\" style=\"background-color: rgba(254, 243, 238, 0.5);\">0.7</span> <span title=\"0.014\" style=\"background-color: rgba(254, 243, 237, 0.5);\">cm</span> <span title=\"0.064\" style=\"background-color: rgba(254, 234, 224, 0.5);\">wide</span> <span title=\"0.010\" style=\"background-color: rgba(254, 243, 238, 0.5);\">circumferential</span> <span title=\"0.018\" style=\"background-color: rgba(254, 242, 236, 0.5);\">black</span> <span title=\"0.018\" style=\"background-color: rgba(254, 242, 236, 0.5);\">/</span> <span title=\"0.027\" style=\"background-color: rgba(254, 241, 234, 0.5);\">red</span> <span title=\"0.017\" style=\"background-color: rgba(254, 242, 236, 0.5);\">marginal</span> <span title=\"0.014\" style=\"background-color: rgba(254, 243, 237, 0.5);\">abrasion</span> <span title=\"0.032\" style=\"background-color: rgba(254, 239, 232, 0.5);\">which</span> <span title=\"0.044\" style=\"background-color: rgba(254, 237, 229, 0.5);\">is</span> <span title=\"0.020\" style=\"background-color: rgba(254, 241, 235, 0.5);\">widest</span> <span title=\"0.023\" style=\"background-color: rgba(254, 241, 235, 0.5);\">at</span> <span title=\"0.047\" style=\"background-color: rgba(254, 237, 228, 0.5);\">2</span> <span title=\"0.016\" style=\"background-color: rgba(254, 242, 236, 0.5);\">o&#x27;clock</span> <span title=\"0.035\" style=\"background-color: rgba(254, 239, 232, 0.5);\">and</span> <span title=\"0.015\" style=\"background-color: rgba(254, 243, 237, 0.5);\">7</span> <span title=\"0.035\" style=\"background-color: rgba(254, 239, 232, 0.5);\">oâclock</span> <span title=\"0.033\" style=\"background-color: rgba(254, 239, 232, 0.5);\">.</span> <span title=\"0.021\" style=\"background-color: rgba(254, 241, 235, 0.5);\">xxmaj</span> <span title=\"0.158\" style=\"background-color: rgba(253, 214, 197, 0.5);\">soot</span> <span title=\"0.018\" style=\"background-color: rgba(254, 242, 236, 0.5);\">,</span> <span title=\"0.020\" style=\"background-color: rgba(254, 241, 235, 0.5);\">unburned</span> <span title=\"0.029\" style=\"background-color: rgba(254, 240, 233, 0.5);\">gunpowder</span> <span title=\"0.076\" style=\"background-color: rgba(254, 232, 222, 0.5);\">particles</span> <span title=\"0.041\" style=\"background-color: rgba(254, 238, 230, 0.5);\">and</span> <span title=\"0.028\" style=\"background-color: rgba(254, 240, 233, 0.5);\">gunpowder</span> <span title=\"0.032\" style=\"background-color: rgba(254, 239, 232, 0.5);\">stippling</span> <span title=\"0.021\" style=\"background-color: rgba(254, 241, 235, 0.5);\">are</span> <span title=\"0.030\" style=\"background-color: rgba(254, 240, 233, 0.5);\">not</span> <span title=\"0.072\" style=\"background-color: rgba(254, 233, 223, 0.5);\">visible</span> <span title=\"0.027\" style=\"background-color: rgba(254, 241, 234, 0.5);\">on</span> <span title=\"0.032\" style=\"background-color: rgba(254, 239, 232, 0.5);\">the</span> <span title=\"0.029\" style=\"background-color: rgba(254, 240, 233, 0.5);\">skin</span> <span title=\"0.088\" style=\"background-color: rgba(254, 230, 219, 0.5);\">surrounding</span> <span title=\"0.119\" style=\"background-color: rgba(254, 225, 211, 0.5);\">the</span> <span title=\"0.036\" style=\"background-color: rgba(254, 239, 231, 0.5);\">wound</span> <span title=\"0.027\" style=\"background-color: rgba(254, 241, 234, 0.5);\">.</span> <span title=\"0.094\" style=\"background-color: rgba(254, 229, 217, 0.5);\">xxmaj</span> <span title=\"0.049\" style=\"background-color: rgba(254, 237, 228, 0.5);\">path</span> <span title=\"0.070\" style=\"background-color: rgba(254, 233, 224, 0.5);\">:</span> <span title=\"0.032\" style=\"background-color: rgba(254, 239, 232, 0.5);\">xxmaj</span> <span title=\"0.125\" style=\"background-color: rgba(254, 224, 210, 0.5);\">the</span> <span title=\"0.330\" style=\"background-color: rgba(252, 160, 131, 0.5);\">hemorrhagic</span> <span title=\"0.373\" style=\"background-color: rgba(252, 146, 114, 0.5);\">wound</span> <span title=\"0.186\" style=\"background-color: rgba(253, 206, 186, 0.5);\">track</span> <span title=\"0.010\" style=\"background-color: rgba(254, 243, 238, 0.5);\">sequentially</span> <span title=\"0.023\" style=\"background-color: rgba(254, 241, 235, 0.5);\">perforates</span> <span title=\"0.015\" style=\"background-color: rgba(254, 243, 237, 0.5);\">the</span> <span title=\"0.013\" style=\"background-color: rgba(254, 243, 237, 0.5);\">skin</span> <span title=\"0.014\" style=\"background-color: rgba(254, 243, 237, 0.5);\">and</span> <span title=\"0.043\" style=\"background-color: rgba(254, 237, 229, 0.5);\">subcutaneous</span> <span title=\"0.030\" style=\"background-color: rgba(254, 240, 233, 0.5);\">tissues</span> <span title=\"0.085\" style=\"background-color: rgba(254, 231, 220, 0.5);\">of</span> <span title=\"0.010\" style=\"background-color: rgba(254, 243, 238, 0.5);\">the</span> <span title=\"0.005\" style=\"background-color: rgba(254, 244, 239, 0.5);\">left</span> <span title=\"0.006\" style=\"background-color: rgba(254, 244, 239, 0.5);\">central</span> <span title=\"0.008\" style=\"background-color: rgba(254, 243, 238, 0.5);\">abdomen</span> <span title=\"0.004\" style=\"background-color: rgba(255, 245, 240, 0.5);\">,</span> <span title=\"0.009\" style=\"background-color: rgba(254, 243, 238, 0.5);\">the</span> <span title=\"0.041\" style=\"background-color: rgba(254, 238, 230, 0.5);\">muscles</span> <span title=\"0.007\" style=\"background-color: rgba(254, 244, 239, 0.5);\">of</span> <span title=\"0.021\" style=\"background-color: rgba(254, 241, 235, 0.5);\">the</span> <span title=\"0.030\" style=\"background-color: rgba(254, 240, 233, 0.5);\">anterior</span> <span title=\"0.029\" style=\"background-color: rgba(254, 240, 233, 0.5);\">and</span> <span title=\"0.008\" style=\"background-color: rgba(254, 243, 238, 0.5);\">left</span> <span title=\"0.030\" style=\"background-color: rgba(254, 240, 233, 0.5);\">lateral</span> <span title=\"0.065\" style=\"background-color: rgba(254, 234, 224, 0.5);\">abdominal</span> <span title=\"0.008\" style=\"background-color: rgba(254, 244, 239, 0.5);\">wall</span> <span title=\"0.019\" style=\"background-color: rgba(254, 242, 236, 0.5);\">,</span> <span title=\"0.025\" style=\"background-color: rgba(254, 241, 234, 0.5);\">and</span> <span title=\"0.016\" style=\"background-color: rgba(254, 242, 236, 0.5);\">the</span> <span title=\"0.009\" style=\"background-color: rgba(254, 243, 238, 0.5);\">overlying</span> <span title=\"0.029\" style=\"background-color: rgba(254, 240, 233, 0.5);\">subcutaneous</span> <span title=\"0.039\" style=\"background-color: rgba(254, 238, 230, 0.5);\">tissues</span> <span title=\"0.018\" style=\"background-color: rgba(254, 242, 236, 0.5);\">and</span> <span title=\"0.051\" style=\"background-color: rgba(254, 237, 228, 0.5);\">skin</span> <span title=\"0.003\" style=\"background-color: rgba(255, 245, 240, 0.5);\">.</span> <span title=\"0.006\" style=\"background-color: rgba(254, 244, 239, 0.5);\">xxmaj</span> <span title=\"0.008\" style=\"background-color: rgba(254, 243, 238, 0.5);\">associated</span> <span title=\"0.076\" style=\"background-color: rgba(254, 232, 222, 0.5);\">injuries</span> <span title=\"0.008\" style=\"background-color: rgba(254, 244, 239, 0.5);\">include</span> <span title=\"0.007\" style=\"background-color: rgba(254, 244, 239, 0.5);\">a</span> <span title=\"0.014\" style=\"background-color: rgba(254, 243, 237, 0.5);\">mild</span> <span title=\"0.009\" style=\"background-color: rgba(254, 243, 238, 0.5);\">amount</span> <span title=\"0.035\" style=\"background-color: rgba(254, 239, 232, 0.5);\">of</span> <span title=\"0.021\" style=\"background-color: rgba(254, 241, 235, 0.5);\">hemorrhage</span> <span title=\"0.024\" style=\"background-color: rgba(254, 241, 234, 0.5);\">along</span> <span title=\"0.070\" style=\"background-color: rgba(254, 233, 224, 0.5);\">the</span> <span title=\"0.087\" style=\"background-color: rgba(254, 230, 219, 0.5);\">wound</span> <span title=\"0.029\" style=\"background-color: rgba(254, 240, 233, 0.5);\">tract</span> <span title=\"0.073\" style=\"background-color: rgba(254, 233, 223, 0.5);\">.</span> <span title=\"0.037\" style=\"background-color: rgba(254, 239, 231, 0.5);\">xxmaj</span> <span title=\"0.052\" style=\"background-color: rgba(254, 236, 227, 0.5);\">no</span> <span title=\"0.048\" style=\"background-color: rgba(254, 237, 228, 0.5);\">penetration</span> <span title=\"0.032\" style=\"background-color: rgba(254, 239, 232, 0.5);\">into</span> <span title=\"0.027\" style=\"background-color: rgba(254, 241, 234, 0.5);\">the</span> <span title=\"0.042\" style=\"background-color: rgba(254, 238, 230, 0.5);\">abdominal</span> <span title=\"0.075\" style=\"background-color: rgba(254, 232, 222, 0.5);\">cavity</span> <span title=\"0.211\" style=\"background-color: rgba(252, 199, 177, 0.5);\">is</span> <span title=\"0.015\" style=\"background-color: rgba(254, 243, 237, 0.5);\">identified</span> <span title=\"0.029\" style=\"background-color: rgba(254, 240, 233, 0.5);\">.</span> <span title=\"0.167\" style=\"background-color: rgba(253, 212, 194, 0.5);\">xxmaj</span> <span title=\"0.028\" style=\"background-color: rgba(254, 240, 233, 0.5);\">exit</span> <span title=\"0.027\" style=\"background-color: rgba(254, 241, 234, 0.5);\">(</span> <span title=\"0.068\" style=\"background-color: rgba(254, 233, 224, 0.5);\">c</span> <span title=\"0.046\" style=\"background-color: rgba(254, 237, 229, 0.5);\">)</span> <span title=\"0.049\" style=\"background-color: rgba(254, 237, 228, 0.5);\">:</span> <span title=\"0.132\" style=\"background-color: rgba(253, 222, 208, 0.5);\">xxmaj</span> <span title=\"0.356\" style=\"background-color: rgba(252, 151, 120, 0.5);\">on</span> <span title=\"0.093\" style=\"background-color: rgba(254, 229, 218, 0.5);\">the</span> <span title=\"0.019\" style=\"background-color: rgba(254, 242, 236, 0.5);\">left</span> <span title=\"0.047\" style=\"background-color: rgba(254, 237, 228, 0.5);\">lower</span> <span title=\"0.066\" style=\"background-color: rgba(254, 234, 224, 0.5);\">abdomen</span> <span title=\"0.247\" style=\"background-color: rgba(252, 187, 162, 0.5);\">,</span> <span title=\"0.504\" style=\"background-color: rgba(250, 105, 73, 0.5);\">in</span> <span title=\"0.045\" style=\"background-color: rgba(254, 237, 229, 0.5);\">the</span> <span title=\"0.014\" style=\"background-color: rgba(254, 243, 237, 0.5);\">left</span> <span title=\"0.054\" style=\"background-color: rgba(254, 236, 227, 0.5);\">mid</span> <span title=\"0.017\" style=\"background-color: rgba(254, 242, 236, 0.5);\">-</span> <span title=\"0.040\" style=\"background-color: rgba(254, 238, 230, 0.5);\">axillary</span> <span title=\"0.032\" style=\"background-color: rgba(254, 239, 232, 0.5);\">line</span> <span title=\"0.132\" style=\"background-color: rgba(253, 222, 208, 0.5);\">,</span> <span title=\"0.165\" style=\"background-color: rgba(253, 212, 194, 0.5);\">65</span> <span title=\"0.119\" style=\"background-color: rgba(254, 225, 211, 0.5);\">cm</span> <span title=\"0.063\" style=\"background-color: rgba(254, 234, 224, 0.5);\">below</span> <span title=\"0.257\" style=\"background-color: rgba(252, 185, 159, 0.5);\">the</span> <span title=\"0.185\" style=\"background-color: rgba(253, 206, 186, 0.5);\">top</span> <span title=\"0.089\" style=\"background-color: rgba(254, 230, 219, 0.5);\">of</span> <span title=\"0.278\" style=\"background-color: rgba(252, 177, 150, 0.5);\">the</span> <span title=\"0.259\" style=\"background-color: rgba(252, 184, 157, 0.5);\">head</span> <span title=\"0.080\" style=\"background-color: rgba(254, 231, 221, 0.5);\">,</span> <span title=\"0.149\" style=\"background-color: rgba(253, 216, 200, 0.5);\">26</span> <span title=\"0.108\" style=\"background-color: rgba(254, 227, 214, 0.5);\">cm</span> <span title=\"0.013\" style=\"background-color: rgba(254, 243, 237, 0.5);\">left</span> <span title=\"0.022\" style=\"background-color: rgba(254, 241, 235, 0.5);\">of</span> <span title=\"0.082\" style=\"background-color: rgba(254, 231, 220, 0.5);\">the</span> <span title=\"0.269\" style=\"background-color: rgba(252, 181, 154, 0.5);\">posterior</span> <span title=\"0.170\" style=\"background-color: rgba(253, 211, 192, 0.5);\">midline</span> <span title=\"0.080\" style=\"background-color: rgba(254, 231, 221, 0.5);\">,</span> <span title=\"0.520\" style=\"background-color: rgba(248, 97, 68, 0.5);\">is</span> <span title=\"0.201\" style=\"background-color: rgba(252, 201, 180, 0.5);\">an</span> <span title=\"0.012\" style=\"background-color: rgba(254, 243, 237, 0.5);\">exit</span> <span title=\"0.043\" style=\"background-color: rgba(254, 237, 229, 0.5);\">gunshot</span> <span title=\"0.025\" style=\"background-color: rgba(254, 241, 234, 0.5);\">wound</span> <span title=\"0.010\" style=\"background-color: rgba(254, 243, 238, 0.5);\">consisting</span> <span title=\"0.020\" style=\"background-color: rgba(254, 241, 235, 0.5);\">of</span> <span title=\"0.158\" style=\"background-color: rgba(253, 214, 197, 0.5);\">a</span> <span title=\"0.058\" style=\"background-color: rgba(254, 235, 226, 0.5);\">1.1</span> <span title=\"0.053\" style=\"background-color: rgba(254, 236, 227, 0.5);\">x</span> <span title=\"0.029\" style=\"background-color: rgba(254, 240, 233, 0.5);\">1.0</span> <span title=\"0.018\" style=\"background-color: rgba(254, 242, 236, 0.5);\">cm</span> <span title=\"0.022\" style=\"background-color: rgba(254, 241, 235, 0.5);\">defect</span> <span title=\"0.020\" style=\"background-color: rgba(254, 241, 235, 0.5);\">with</span> <span title=\"0.057\" style=\"background-color: rgba(254, 235, 226, 0.5);\">a</span> <span title=\"0.029\" style=\"background-color: rgba(254, 240, 233, 0.5);\">circumferential</span> <span title=\"0.103\" style=\"background-color: rgba(254, 227, 215, 0.5);\">0.1</span> <span title=\"0.264\" style=\"background-color: rgba(252, 182, 156, 0.5);\">-</span> <span title=\"0.170\" style=\"background-color: rgba(253, 211, 192, 0.5);\">0.6</span> <span title=\"0.047\" style=\"background-color: rgba(254, 237, 229, 0.5);\">cm</span> <span title=\"0.073\" style=\"background-color: rgba(254, 233, 223, 0.5);\">black</span> <span title=\"0.084\" style=\"background-color: rgba(254, 231, 220, 0.5);\">abrasion</span> <span title=\"0.097\" style=\"background-color: rgba(254, 229, 217, 0.5);\">(</span> <span title=\"0.264\" style=\"background-color: rgba(252, 182, 156, 0.5);\">with</span> <span title=\"0.016\" style=\"background-color: rgba(254, 242, 236, 0.5);\">drying</span> <span title=\"0.042\" style=\"background-color: rgba(254, 238, 230, 0.5);\">artifact</span> <span title=\"0.046\" style=\"background-color: rgba(254, 237, 229, 0.5);\">)</span> <span title=\"0.035\" style=\"background-color: rgba(254, 239, 232, 0.5);\">which</span> <span title=\"0.248\" style=\"background-color: rgba(252, 187, 162, 0.5);\">is</span> <span title=\"0.028\" style=\"background-color: rgba(254, 240, 233, 0.5);\">widest</span> <span title=\"0.054\" style=\"background-color: rgba(254, 236, 227, 0.5);\">at</span> <span title=\"0.009\" style=\"background-color: rgba(254, 243, 238, 0.5);\">5</span> <span title=\"0.027\" style=\"background-color: rgba(254, 241, 234, 0.5);\">-</span> <span title=\"0.010\" style=\"background-color: rgba(254, 243, 238, 0.5);\">7</span> <span title=\"0.016\" style=\"background-color: rgba(254, 242, 236, 0.5);\">o&#x27;clock</span> <span title=\"0.055\" style=\"background-color: rgba(254, 235, 226, 0.5);\">.</span> <span title=\"0.036\" style=\"background-color: rgba(254, 239, 231, 0.5);\">xxmaj</span> <span title=\"0.052\" style=\"background-color: rgba(254, 236, 227, 0.5);\">trajectory</span> <span title=\"0.029\" style=\"background-color: rgba(254, 240, 233, 0.5);\">:</span> <span title=\"0.031\" style=\"background-color: rgba(254, 240, 233, 0.5);\">xxmaj</span> <span title=\"0.024\" style=\"background-color: rgba(254, 241, 234, 0.5);\">the</span> <span title=\"0.019\" style=\"background-color: rgba(254, 242, 236, 0.5);\">wound</span> <span title=\"0.036\" style=\"background-color: rgba(254, 239, 231, 0.5);\">track</span> <span title=\"0.050\" style=\"background-color: rgba(254, 237, 228, 0.5);\">travels</span> <span title=\"0.027\" style=\"background-color: rgba(254, 240, 233, 0.5);\">from</span> <span title=\"0.088\" style=\"background-color: rgba(254, 230, 219, 0.5);\">the</span> <span title=\"0.022\" style=\"background-color: rgba(254, 241, 235, 0.5);\">decedentâs</span> <span title=\"0.067\" style=\"background-color: rgba(254, 233, 224, 0.5);\">anterior</span> <span title=\"0.019\" style=\"background-color: rgba(254, 242, 236, 0.5);\">to</span> <span title=\"0.015\" style=\"background-color: rgba(254, 243, 237, 0.5);\">posterior</span> <span title=\"0.025\" style=\"background-color: rgba(254, 241, 234, 0.5);\">,</span> <span title=\"0.018\" style=\"background-color: rgba(254, 242, 236, 0.5);\">right</span> <span title=\"0.015\" style=\"background-color: rgba(254, 243, 237, 0.5);\">to</span> <span title=\"0.037\" style=\"background-color: rgba(254, 239, 231, 0.5);\">left</span> <span title=\"0.024\" style=\"background-color: rgba(254, 241, 234, 0.5);\">and</span> <span title=\"0.014\" style=\"background-color: rgba(254, 243, 237, 0.5);\">inferior</span> <span title=\"0.010\" style=\"background-color: rgba(254, 243, 238, 0.5);\">to</span> <span title=\"0.040\" style=\"background-color: rgba(254, 238, 230, 0.5);\">superior</span> <span title=\"0.025\" style=\"background-color: rgba(254, 241, 234, 0.5);\">.</span> <span title=\"0.030\" style=\"background-color: rgba(254, 240, 233, 0.5);\">xxmaj</span> <span title=\"0.072\" style=\"background-color: rgba(254, 233, 223, 0.5);\">clothing</span> <span title=\"0.083\" style=\"background-color: rgba(254, 231, 220, 0.5);\">:</span> <span title=\"0.047\" style=\"background-color: rgba(254, 237, 229, 0.5);\">xxmaj</span> <span title=\"0.037\" style=\"background-color: rgba(254, 239, 231, 0.5);\">on</span> <span title=\"0.021\" style=\"background-color: rgba(254, 241, 235, 0.5);\">the</span> <span title=\"0.084\" style=\"background-color: rgba(254, 231, 220, 0.5);\">central</span> <span title=\"0.113\" style=\"background-color: rgba(254, 226, 213, 0.5);\">abdomen</span> <span title=\"0.162\" style=\"background-color: rgba(253, 213, 195, 0.5);\">area</span> <span title=\"0.116\" style=\"background-color: rgba(254, 225, 212, 0.5);\">of</span> <span title=\"0.374\" style=\"background-color: rgba(252, 146, 114, 0.5);\">the</span> <span title=\"0.193\" style=\"background-color: rgba(252, 204, 183, 0.5);\">black</span> <span title=\"0.032\" style=\"background-color: rgba(254, 239, 232, 0.5);\">t</span> <span title=\"0.041\" style=\"background-color: rgba(254, 238, 230, 0.5);\">-</span> <span title=\"0.038\" style=\"background-color: rgba(254, 239, 231, 0.5);\">shirt</span> <span title=\"0.089\" style=\"background-color: rgba(254, 230, 219, 0.5);\">and</span> <span title=\"0.065\" style=\"background-color: rgba(254, 234, 224, 0.5);\">corresponding</span> <span title=\"0.281\" style=\"background-color: rgba(252, 177, 150, 0.5);\">to</span> <span title=\"0.096\" style=\"background-color: rgba(254, 229, 217, 0.5);\">the</span> <span title=\"0.007\" style=\"background-color: rgba(254, 244, 239, 0.5);\">entrance</span> <span title=\"0.004\" style=\"background-color: rgba(254, 244, 239, 0.5);\">gunshot</span> <span title=\"0.002\" style=\"background-color: rgba(255, 245, 240, 0.5);\">wound</span> <span title=\"0.004\" style=\"background-color: rgba(254, 244, 239, 0.5);\">is</span> <span title=\"0.017\" style=\"background-color: rgba(254, 242, 236, 0.5);\">a</span> <span title=\"0.110\" style=\"background-color: rgba(254, 226, 213, 0.5);\">1.5</span> <span title=\"0.005\" style=\"background-color: rgba(254, 244, 239, 0.5);\">x</span> <span title=\"0.005\" style=\"background-color: rgba(254, 244, 239, 0.5);\">1.1</span> <span title=\"0.004\" style=\"background-color: rgba(255, 245, 240, 0.5);\">cm</span> <span title=\"0.008\" style=\"background-color: rgba(254, 243, 238, 0.5);\">defect</span> <span title=\"0.017\" style=\"background-color: rgba(254, 242, 236, 0.5);\">with</span> <span title=\"0.016\" style=\"background-color: rgba(254, 242, 236, 0.5);\">frayed</span> <span title=\"0.042\" style=\"background-color: rgba(254, 238, 230, 0.5);\">edges</span> <span title=\"0.029\" style=\"background-color: rgba(254, 240, 233, 0.5);\">,</span> <span title=\"0.036\" style=\"background-color: rgba(254, 239, 231, 0.5);\">as</span> <span title=\"0.102\" style=\"background-color: rgba(254, 227, 215, 0.5);\">well</span> <span title=\"0.134\" style=\"background-color: rgba(253, 221, 206, 0.5);\">as</span> <span title=\"0.087\" style=\"background-color: rgba(254, 230, 219, 0.5);\">a</span> <span title=\"0.089\" style=\"background-color: rgba(254, 230, 219, 0.5);\">0.9</span> <span title=\"0.062\" style=\"background-color: rgba(254, 235, 225, 0.5);\">x</span> <span title=\"0.367\" style=\"background-color: rgba(252, 148, 116, 0.5);\">0.6</span> <span title=\"0.299\" style=\"background-color: rgba(252, 171, 142, 0.5);\">cm</span> <span title=\"0.006\" style=\"background-color: rgba(254, 244, 239, 0.5);\">defect</span> <span title=\"0.005\" style=\"background-color: rgba(254, 244, 239, 0.5);\">with</span> <span title=\"0.011\" style=\"background-color: rgba(254, 243, 238, 0.5);\">frayed</span> <span title=\"0.004\" style=\"background-color: rgba(255, 245, 240, 0.5);\">edges</span> <span title=\"0.006\" style=\"background-color: rgba(254, 244, 239, 0.5);\">.</span> <span title=\"0.001\" style=\"background-color: rgba(255, 245, 240, 0.5);\">xxmaj</span> <span title=\"0.003\" style=\"background-color: rgba(255, 245, 240, 0.5);\">soot</span> <span title=\"0.010\" style=\"background-color: rgba(254, 243, 238, 0.5);\">or</span> <span title=\"0.091\" style=\"background-color: rgba(254, 229, 218, 0.5);\">unburned</span> <span title=\"0.008\" style=\"background-color: rgba(254, 243, 238, 0.5);\">gunpowder</span> <span title=\"0.005\" style=\"background-color: rgba(254, 244, 239, 0.5);\">particles</span> <span title=\"0.004\" style=\"background-color: rgba(254, 244, 239, 0.5);\">are</span> <span title=\"0.015\" style=\"background-color: rgba(254, 243, 237, 0.5);\">not</span> <span title=\"0.009\" style=\"background-color: rgba(254, 243, 238, 0.5);\">visible</span> <span title=\"0.055\" style=\"background-color: rgba(254, 236, 227, 0.5);\">on</span> <span title=\"0.077\" style=\"background-color: rgba(254, 232, 222, 0.5);\">the</span> <span title=\"0.042\" style=\"background-color: rgba(254, 238, 230, 0.5);\">fabric</span> <span title=\"0.017\" style=\"background-color: rgba(254, 242, 236, 0.5);\">surrounding</span> <span title=\"0.015\" style=\"background-color: rgba(254, 243, 237, 0.5);\">the</span> <span title=\"0.094\" style=\"background-color: rgba(254, 229, 217, 0.5);\">defects</span> <span title=\"0.043\" style=\"background-color: rgba(254, 237, 229, 0.5);\">.</span> <span title=\"0.019\" style=\"background-color: rgba(254, 242, 236, 0.5);\">xxmaj</span> <span title=\"0.089\" style=\"background-color: rgba(254, 230, 219, 0.5);\">on</span> <span title=\"0.007\" style=\"background-color: rgba(254, 244, 239, 0.5);\">the</span> <span title=\"0.035\" style=\"background-color: rgba(254, 239, 232, 0.5);\">lower</span> <span title=\"0.010\" style=\"background-color: rgba(254, 243, 238, 0.5);\">left</span> <span title=\"0.007\" style=\"background-color: rgba(254, 244, 239, 0.5);\">back</span> <span title=\"0.028\" style=\"background-color: rgba(254, 240, 233, 0.5);\">area</span> <span title=\"0.016\" style=\"background-color: rgba(254, 243, 237, 0.5);\">of</span> <span title=\"0.008\" style=\"background-color: rgba(254, 243, 238, 0.5);\">the</span> <span title=\"0.010\" style=\"background-color: rgba(254, 243, 238, 0.5);\">black</span> <span title=\"0.013\" style=\"background-color: rgba(254, 243, 237, 0.5);\">t</span> <span title=\"0.033\" style=\"background-color: rgba(254, 239, 232, 0.5);\">-</span> <span title=\"0.011\" style=\"background-color: rgba(254, 243, 238, 0.5);\">shirt</span> <span title=\"0.011\" style=\"background-color: rgba(254, 243, 238, 0.5);\">and</span> <span title=\"0.013\" style=\"background-color: rgba(254, 243, 237, 0.5);\">corresponding</span> <span title=\"0.042\" style=\"background-color: rgba(254, 238, 230, 0.5);\">to</span> <span title=\"0.027\" style=\"background-color: rgba(254, 241, 234, 0.5);\">the</span> <span title=\"0.088\" style=\"background-color: rgba(254, 230, 219, 0.5);\">exit</span> <span title=\"0.059\" style=\"background-color: rgba(254, 235, 225, 0.5);\">gunshot</span> <span title=\"0.030\" style=\"background-color: rgba(254, 240, 233, 0.5);\">wound</span> <span title=\"0.146\" style=\"background-color: rgba(253, 218, 202, 0.5);\">,</span> <span title=\"0.023\" style=\"background-color: rgba(254, 241, 235, 0.5);\">is</span> <span title=\"0.030\" style=\"background-color: rgba(254, 240, 233, 0.5);\">a</span> <span title=\"0.019\" style=\"background-color: rgba(254, 242, 236, 0.5);\">1.9</span> <span title=\"0.066\" style=\"background-color: rgba(254, 234, 224, 0.5);\">x</span> <span title=\"0.025\" style=\"background-color: rgba(254, 241, 234, 0.5);\">1.5</span> <span title=\"0.031\" style=\"background-color: rgba(254, 240, 233, 0.5);\">cm</span> <span title=\"0.018\" style=\"background-color: rgba(254, 242, 236, 0.5);\">defect</span> <span title=\"0.019\" style=\"background-color: rgba(254, 242, 236, 0.5);\">with</span> <span title=\"0.010\" style=\"background-color: rgba(254, 243, 238, 0.5);\">frayed</span> <span title=\"0.026\" style=\"background-color: rgba(254, 241, 234, 0.5);\">edges</span> <span title=\"0.012\" style=\"background-color: rgba(254, 243, 237, 0.5);\">.</span> <span title=\"0.013\" style=\"background-color: rgba(254, 243, 237, 0.5);\">xxmaj</span> <span title=\"0.026\" style=\"background-color: rgba(254, 241, 234, 0.5);\">soot</span> <span title=\"0.081\" style=\"background-color: rgba(254, 231, 221, 0.5);\">or</span> <span title=\"0.008\" style=\"background-color: rgba(254, 243, 238, 0.5);\">unburned</span> <span title=\"0.007\" style=\"background-color: rgba(254, 244, 239, 0.5);\">gunpowder</span> <span title=\"0.008\" style=\"background-color: rgba(254, 243, 238, 0.5);\">particles</span> <span title=\"0.008\" style=\"background-color: rgba(254, 243, 238, 0.5);\">are</span> <span title=\"0.004\" style=\"background-color: rgba(254, 244, 239, 0.5);\">not</span> <span title=\"0.011\" style=\"background-color: rgba(254, 243, 238, 0.5);\">visible</span> <span title=\"0.014\" style=\"background-color: rgba(254, 243, 237, 0.5);\">on</span> <span title=\"0.009\" style=\"background-color: rgba(254, 243, 238, 0.5);\">the</span> <span title=\"0.006\" style=\"background-color: rgba(254, 244, 239, 0.5);\">fabric</span> <span title=\"0.029\" style=\"background-color: rgba(254, 240, 233, 0.5);\">surrounding</span> <span title=\"0.016\" style=\"background-color: rgba(254, 242, 236, 0.5);\">the</span> <span title=\"0.007\" style=\"background-color: rgba(254, 244, 239, 0.5);\">defect</span> <span title=\"0.024\" style=\"background-color: rgba(254, 241, 234, 0.5);\">.</span> <span title=\"0.006\" style=\"background-color: rgba(254, 244, 239, 0.5);\">.locationextremity</span> <span title=\"0.007\" style=\"background-color: rgba(254, 244, 239, 0.5);\">.injuryfirearm</span> <span title=\"0.016\" style=\"background-color: rgba(254, 242, 236, 0.5);\">injury</span> <span title=\"0.043\" style=\"background-color: rgba(254, 237, 229, 0.5);\">.</span> <span title=\"0.033\" style=\"background-color: rgba(254, 239, 232, 0.5);\">xxup</span> <span title=\"0.204\" style=\"background-color: rgba(252, 200, 179, 0.5);\">.injurydesc</span> <span title=\"0.029\" style=\"background-color: rgba(254, 240, 233, 0.5);\">.</span> <span title=\"0.045\" style=\"background-color: rgba(254, 237, 229, 0.5);\">xxup</span> <span title=\"0.037\" style=\"background-color: rgba(254, 239, 231, 0.5);\">gunshot</span> <span title=\"0.021\" style=\"background-color: rgba(254, 241, 235, 0.5);\">xxup</span> <span title=\"0.010\" style=\"background-color: rgba(254, 243, 238, 0.5);\">wound</span> <span title=\"0.038\" style=\"background-color: rgba(254, 239, 231, 0.5);\">xxup</span> <span title=\"0.035\" style=\"background-color: rgba(254, 239, 232, 0.5);\">of</span> <span title=\"0.013\" style=\"background-color: rgba(254, 243, 237, 0.5);\">xxup</span> <span title=\"0.062\" style=\"background-color: rgba(254, 235, 225, 0.5);\">the</span> <span title=\"0.014\" style=\"background-color: rgba(254, 243, 237, 0.5);\">xxup</span> <span title=\"0.053\" style=\"background-color: rgba(254, 236, 227, 0.5);\">left</span> <span title=\"0.014\" style=\"background-color: rgba(254, 243, 237, 0.5);\">xxup</span> <span title=\"0.011\" style=\"background-color: rgba(254, 243, 238, 0.5);\">hand</span> <span title=\"0.041\" style=\"background-color: rgba(254, 238, 230, 0.5);\">xxmaj</span> <span title=\"0.022\" style=\"background-color: rgba(254, 241, 235, 0.5);\">entrance</span> <span title=\"0.021\" style=\"background-color: rgba(254, 241, 235, 0.5);\">(</span> <span title=\"0.018\" style=\"background-color: rgba(254, 242, 236, 0.5);\">d</span> <span title=\"0.034\" style=\"background-color: rgba(254, 239, 232, 0.5);\">)</span> <span title=\"0.032\" style=\"background-color: rgba(254, 239, 232, 0.5);\">:</span> <span title=\"0.040\" style=\"background-color: rgba(254, 238, 230, 0.5);\">xxmaj</span> <span title=\"0.015\" style=\"background-color: rgba(254, 243, 237, 0.5);\">on</span> <span title=\"0.014\" style=\"background-color: rgba(254, 243, 237, 0.5);\">the</span> <span title=\"0.016\" style=\"background-color: rgba(254, 242, 236, 0.5);\">medial</span> <span title=\"0.084\" style=\"background-color: rgba(254, 231, 220, 0.5);\">palm</span> <span title=\"0.052\" style=\"background-color: rgba(254, 236, 227, 0.5);\">of</span> <span title=\"0.135\" style=\"background-color: rgba(253, 221, 206, 0.5);\">the</span> <span title=\"0.006\" style=\"background-color: rgba(254, 244, 239, 0.5);\">left</span> <span title=\"0.003\" style=\"background-color: rgba(255, 245, 240, 0.5);\">hand</span> <span title=\"0.002\" style=\"background-color: rgba(255, 245, 240, 0.5);\">,</span> <span title=\"0.025\" style=\"background-color: rgba(254, 241, 234, 0.5);\">93</span> <span title=\"0.008\" style=\"background-color: rgba(254, 243, 238, 0.5);\">cm</span> <span title=\"0.007\" style=\"background-color: rgba(254, 244, 239, 0.5);\">below</span> <span title=\"0.007\" style=\"background-color: rgba(254, 244, 239, 0.5);\">the</span> <span title=\"0.011\" style=\"background-color: rgba(254, 243, 238, 0.5);\">top</span> <span title=\"0.005\" style=\"background-color: rgba(254, 244, 239, 0.5);\">of</span> <span title=\"0.012\" style=\"background-color: rgba(254, 243, 237, 0.5);\">the</span> <span title=\"0.011\" style=\"background-color: rgba(254, 243, 238, 0.5);\">head</span> <span title=\"0.007\" style=\"background-color: rgba(254, 244, 239, 0.5);\">,</span> <span title=\"0.003\" style=\"background-color: rgba(255, 245, 240, 0.5);\">3.5</span> <span title=\"0.018\" style=\"background-color: rgba(254, 242, 236, 0.5);\">cm</span> <span title=\"0.012\" style=\"background-color: rgba(254, 243, 238, 0.5);\">right</span> <span title=\"0.006\" style=\"background-color: rgba(254, 244, 239, 0.5);\">of</span> <span title=\"0.021\" style=\"background-color: rgba(254, 241, 235, 0.5);\">midline</span> <span title=\"0.014\" style=\"background-color: rgba(254, 243, 237, 0.5);\">of</span> <span title=\"0.053\" style=\"background-color: rgba(254, 236, 227, 0.5);\">the</span> <span title=\"0.069\" style=\"background-color: rgba(254, 233, 224, 0.5);\">hand</span> <span title=\"0.011\" style=\"background-color: rgba(254, 243, 238, 0.5);\">,</span> <span title=\"0.098\" style=\"background-color: rgba(254, 228, 216, 0.5);\">and</span> <span title=\"0.005\" style=\"background-color: rgba(254, 244, 239, 0.5);\">5.5</span> <span title=\"0.001\" style=\"background-color: rgba(255, 245, 240, 0.5);\">cm</span> <span title=\"0.002\" style=\"background-color: rgba(255, 245, 240, 0.5);\">inferior</span> <span title=\"0.003\" style=\"background-color: rgba(255, 245, 240, 0.5);\">to</span> <span title=\"0.011\" style=\"background-color: rgba(254, 243, 238, 0.5);\">the</span> <span title=\"0.003\" style=\"background-color: rgba(255, 245, 240, 0.5);\">left</span> <span title=\"0.004\" style=\"background-color: rgba(255, 245, 240, 0.5);\">wrist</span> <span title=\"0.007\" style=\"background-color: rgba(254, 244, 239, 0.5);\">,</span> <span title=\"0.030\" style=\"background-color: rgba(254, 240, 233, 0.5);\">is</span> <span title=\"0.005\" style=\"background-color: rgba(254, 244, 239, 0.5);\">an</span> <span title=\"0.022\" style=\"background-color: rgba(254, 241, 235, 0.5);\">entrance</span> <span title=\"0.008\" style=\"background-color: rgba(254, 244, 239, 0.5);\">gunshot</span> <span title=\"0.007\" style=\"background-color: rgba(254, 244, 239, 0.5);\">wound</span> <span title=\"0.005\" style=\"background-color: rgba(254, 244, 239, 0.5);\">consisting</span> <span title=\"0.022\" style=\"background-color: rgba(254, 241, 235, 0.5);\">of</span> <span title=\"0.012\" style=\"background-color: rgba(254, 243, 237, 0.5);\">a</span> <span title=\"0.055\" style=\"background-color: rgba(254, 236, 227, 0.5);\">1.0</span> <span title=\"0.036\" style=\"background-color: rgba(254, 239, 231, 0.5);\">x</span> <span title=\"0.270\" style=\"background-color: rgba(252, 180, 153, 0.5);\">0.5</span> <span title=\"0.005\" style=\"background-color: rgba(254, 244, 239, 0.5);\">cm</span> <span title=\"0.005\" style=\"background-color: rgba(254, 244, 239, 0.5);\">stellate</span> <span title=\"0.042\" style=\"background-color: rgba(254, 238, 230, 0.5);\">defect</span> <span title=\"0.013\" style=\"background-color: rgba(254, 243, 237, 0.5);\">with</span> <span title=\"0.024\" style=\"background-color: rgba(254, 241, 234, 0.5);\">a</span> <span title=\"0.015\" style=\"background-color: rgba(254, 243, 237, 0.5);\">0.1</span> <span title=\"0.009\" style=\"background-color: rgba(254, 243, 238, 0.5);\">-</span> <span title=\"0.012\" style=\"background-color: rgba(254, 243, 237, 0.5);\">0.2</span> <span title=\"0.009\" style=\"background-color: rgba(254, 243, 238, 0.5);\">cm</span> <span title=\"0.021\" style=\"background-color: rgba(254, 241, 235, 0.5);\">wide</span> <span title=\"0.016\" style=\"background-color: rgba(254, 242, 236, 0.5);\">circumferential</span> <span title=\"0.101\" style=\"background-color: rgba(254, 228, 216, 0.5);\">purple</span> <span title=\"0.208\" style=\"background-color: rgba(252, 199, 177, 0.5);\">contusion</span> <span title=\"0.038\" style=\"background-color: rgba(254, 239, 231, 0.5);\">.</span> <span title=\"0.046\" style=\"background-color: rgba(254, 237, 229, 0.5);\">xxmaj</span> <span title=\"0.060\" style=\"background-color: rgba(254, 235, 225, 0.5);\">soot</span> <span title=\"0.079\" style=\"background-color: rgba(254, 231, 221, 0.5);\">,</span> <span title=\"0.008\" style=\"background-color: rgba(254, 243, 238, 0.5);\">unburned</span> <span title=\"0.072\" style=\"background-color: rgba(254, 233, 223, 0.5);\">gunpowder</span> <span title=\"0.023\" style=\"background-color: rgba(254, 241, 235, 0.5);\">particles</span> <span title=\"0.061\" style=\"background-color: rgba(254, 235, 225, 0.5);\">and</span> <span title=\"0.041\" style=\"background-color: rgba(254, 238, 230, 0.5);\">gunpowder</span> <span title=\"0.196\" style=\"background-color: rgba(252, 202, 182, 0.5);\">stippling</span> <span title=\"0.105\" style=\"background-color: rgba(254, 227, 215, 0.5);\">are</span> <span title=\"0.004\" style=\"background-color: rgba(255, 245, 240, 0.5);\">not</span> <span title=\"0.012\" style=\"background-color: rgba(254, 243, 237, 0.5);\">visible</span> <span title=\"0.005\" style=\"background-color: rgba(254, 244, 239, 0.5);\">on</span> <span title=\"0.012\" style=\"background-color: rgba(254, 243, 237, 0.5);\">the</span> <span title=\"0.011\" style=\"background-color: rgba(254, 243, 238, 0.5);\">skin</span> <span title=\"0.014\" style=\"background-color: rgba(254, 243, 237, 0.5);\">surrounding</span> <span title=\"0.006\" style=\"background-color: rgba(254, 244, 239, 0.5);\">the</span> <span title=\"0.016\" style=\"background-color: rgba(254, 242, 236, 0.5);\">wound</span> <span title=\"0.006\" style=\"background-color: rgba(254, 244, 239, 0.5);\">.</span> <span title=\"0.007\" style=\"background-color: rgba(254, 244, 239, 0.5);\">xxmaj</span> <span title=\"0.028\" style=\"background-color: rgba(254, 240, 233, 0.5);\">path</span> <span title=\"0.008\" style=\"background-color: rgba(254, 244, 239, 0.5);\">:</span> <span title=\"0.018\" style=\"background-color: rgba(254, 242, 236, 0.5);\">xxmaj</span> <span title=\"0.038\" style=\"background-color: rgba(254, 239, 231, 0.5);\">the</span> <span title=\"0.018\" style=\"background-color: rgba(254, 242, 236, 0.5);\">hemorrhagic</span> <span title=\"0.011\" style=\"background-color: rgba(254, 243, 238, 0.5);\">wound</span> <span title=\"0.006\" style=\"background-color: rgba(254, 244, 239, 0.5);\">track</span> <span title=\"0.005\" style=\"background-color: rgba(254, 244, 239, 0.5);\">sequentially</span> <span title=\"0.009\" style=\"background-color: rgba(254, 243, 238, 0.5);\">perforates</span> <span title=\"0.048\" style=\"background-color: rgba(254, 237, 228, 0.5);\">the</span> <span title=\"0.004\" style=\"background-color: rgba(254, 244, 239, 0.5);\">skin</span> <span title=\"0.011\" style=\"background-color: rgba(254, 243, 238, 0.5);\">and</span> <span title=\"0.016\" style=\"background-color: rgba(254, 242, 236, 0.5);\">subcutaneous</span> <span title=\"0.052\" style=\"background-color: rgba(254, 236, 227, 0.5);\">tissue</span> <span title=\"0.028\" style=\"background-color: rgba(254, 240, 233, 0.5);\">of</span> <span title=\"0.017\" style=\"background-color: rgba(254, 242, 236, 0.5);\">the</span> <span title=\"0.027\" style=\"background-color: rgba(254, 241, 234, 0.5);\">medial</span> <span title=\"0.025\" style=\"background-color: rgba(254, 241, 234, 0.5);\">left</span> <span title=\"0.023\" style=\"background-color: rgba(254, 241, 235, 0.5);\">palm</span> <span title=\"0.109\" style=\"background-color: rgba(254, 227, 214, 0.5);\">,</span> <span title=\"0.067\" style=\"background-color: rgba(254, 233, 224, 0.5);\">the</span> <span title=\"0.092\" style=\"background-color: rgba(254, 229, 218, 0.5);\">underlying</span> <span title=\"0.025\" style=\"background-color: rgba(254, 241, 234, 0.5);\">soft</span> <span title=\"0.084\" style=\"background-color: rgba(254, 231, 220, 0.5);\">tissues</span> <span title=\"0.025\" style=\"background-color: rgba(254, 241, 234, 0.5);\">and</span> <span title=\"0.012\" style=\"background-color: rgba(254, 243, 237, 0.5);\">the</span> <span title=\"0.013\" style=\"background-color: rgba(254, 243, 237, 0.5);\">subcutaneous</span> <span title=\"0.029\" style=\"background-color: rgba(254, 240, 233, 0.5);\">tissues</span> <span title=\"0.013\" style=\"background-color: rgba(254, 243, 237, 0.5);\">and</span> <span title=\"0.021\" style=\"background-color: rgba(254, 241, 235, 0.5);\">skin</span> <span title=\"0.014\" style=\"background-color: rgba(254, 243, 237, 0.5);\">of</span> <span title=\"0.016\" style=\"background-color: rgba(254, 242, 236, 0.5);\">the</span> <span title=\"0.033\" style=\"background-color: rgba(254, 239, 232, 0.5);\">medial</span> <span title=\"0.027\" style=\"background-color: rgba(254, 241, 234, 0.5);\">dorsal</span> <span title=\"0.026\" style=\"background-color: rgba(254, 241, 234, 0.5);\">left</span> <span title=\"0.012\" style=\"background-color: rgba(254, 243, 237, 0.5);\">hand</span> <span title=\"0.019\" style=\"background-color: rgba(254, 242, 236, 0.5);\">.</span> <span title=\"0.073\" style=\"background-color: rgba(254, 233, 223, 0.5);\">xxmaj</span> <span title=\"0.030\" style=\"background-color: rgba(254, 240, 233, 0.5);\">associated</span> <span title=\"0.043\" style=\"background-color: rgba(254, 237, 229, 0.5);\">injuries</span> <span title=\"0.035\" style=\"background-color: rgba(254, 239, 232, 0.5);\">include</span> <span title=\"0.100\" style=\"background-color: rgba(254, 228, 216, 0.5);\">a</span> <span title=\"0.004\" style=\"background-color: rgba(254, 244, 239, 0.5);\">minor</span> <span title=\"0.012\" style=\"background-color: rgba(254, 243, 237, 0.5);\">amount</span> <span title=\"0.020\" style=\"background-color: rgba(254, 241, 235, 0.5);\">of</span> <span title=\"0.003\" style=\"background-color: rgba(255, 245, 240, 0.5);\">hemorrhage</span> <span title=\"0.007\" style=\"background-color: rgba(254, 244, 239, 0.5);\">along</span> <span title=\"0.010\" style=\"background-color: rgba(254, 243, 238, 0.5);\">the</span> <span title=\"0.006\" style=\"background-color: rgba(254, 244, 239, 0.5);\">wound</span> <span title=\"0.002\" style=\"background-color: rgba(255, 245, 240, 0.5);\">tract</span> <span title=\"0.006\" style=\"background-color: rgba(254, 244, 239, 0.5);\">.</span> <span title=\"0.005\" style=\"background-color: rgba(254, 244, 239, 0.5);\">xxmaj</span> <span title=\"0.003\" style=\"background-color: rgba(255, 245, 240, 0.5);\">exit</span> <span title=\"0.006\" style=\"background-color: rgba(254, 244, 239, 0.5);\">(</span> <span title=\"0.006\" style=\"background-color: rgba(254, 244, 239, 0.5);\">e</span> <span title=\"0.006\" style=\"background-color: rgba(254, 244, 239, 0.5);\">)</span> <span title=\"0.003\" style=\"background-color: rgba(255, 245, 240, 0.5);\">:</span> <span title=\"0.032\" style=\"background-color: rgba(254, 239, 232, 0.5);\">xxmaj</span> <span title=\"0.005\" style=\"background-color: rgba(254, 244, 239, 0.5);\">on</span> <span title=\"0.003\" style=\"background-color: rgba(255, 245, 240, 0.5);\">the</span> <span title=\"0.002\" style=\"background-color: rgba(255, 245, 240, 0.5);\">medial</span> <span title=\"0.003\" style=\"background-color: rgba(255, 245, 240, 0.5);\">dorsal</span> <span title=\"0.012\" style=\"background-color: rgba(254, 243, 237, 0.5);\">left</span> <span title=\"0.011\" style=\"background-color: rgba(254, 243, 238, 0.5);\">hand</span> <span title=\"0.010\" style=\"background-color: rgba(254, 243, 238, 0.5);\">,</span> <span title=\"0.022\" style=\"background-color: rgba(254, 241, 235, 0.5);\">91</span> <span title=\"0.022\" style=\"background-color: rgba(254, 241, 235, 0.5);\">cm</span> <span title=\"0.009\" style=\"background-color: rgba(254, 243, 238, 0.5);\">below</span> <span title=\"0.022\" style=\"background-color: rgba(254, 241, 235, 0.5);\">the</span> <span title=\"0.011\" style=\"background-color: rgba(254, 243, 238, 0.5);\">top</span> <span title=\"0.032\" style=\"background-color: rgba(254, 239, 232, 0.5);\">of</span> <span title=\"0.030\" style=\"background-color: rgba(254, 240, 233, 0.5);\">the</span> <span title=\"0.024\" style=\"background-color: rgba(254, 241, 234, 0.5);\">head</span> <span title=\"0.025\" style=\"background-color: rgba(254, 241, 234, 0.5);\">,</span> <span title=\"0.115\" style=\"background-color: rgba(254, 225, 212, 0.5);\">7.5</span> <span title=\"0.078\" style=\"background-color: rgba(254, 232, 222, 0.5);\">cm</span> <span title=\"0.132\" style=\"background-color: rgba(253, 222, 208, 0.5);\">right</span> <span title=\"0.005\" style=\"background-color: rgba(254, 244, 239, 0.5);\">of</span> <span title=\"0.014\" style=\"background-color: rgba(254, 243, 237, 0.5);\">posterior</span> <span title=\"0.076\" style=\"background-color: rgba(254, 232, 222, 0.5);\">midline</span> <span title=\"0.045\" style=\"background-color: rgba(254, 237, 229, 0.5);\">of</span> <span title=\"0.016\" style=\"background-color: rgba(254, 242, 236, 0.5);\">the</span> <span title=\"0.004\" style=\"background-color: rgba(255, 245, 240, 0.5);\">hand</span> <span title=\"0.004\" style=\"background-color: rgba(254, 244, 239, 0.5);\">,</span> <span title=\"0.022\" style=\"background-color: rgba(254, 241, 235, 0.5);\">and</span> <span title=\"0.016\" style=\"background-color: rgba(254, 242, 236, 0.5);\">3.5</span> <span title=\"0.011\" style=\"background-color: rgba(254, 243, 238, 0.5);\">cm</span> <span title=\"0.033\" style=\"background-color: rgba(254, 239, 232, 0.5);\">inferior</span> <span title=\"0.025\" style=\"background-color: rgba(254, 241, 234, 0.5);\">to</span> <span title=\"0.026\" style=\"background-color: rgba(254, 241, 234, 0.5);\">the</span> <span title=\"0.109\" style=\"background-color: rgba(254, 227, 214, 0.5);\">left</span> <span title=\"0.196\" style=\"background-color: rgba(252, 202, 182, 0.5);\">wrist</span> <span title=\"0.053\" style=\"background-color: rgba(254, 236, 227, 0.5);\">,</span> <span title=\"0.049\" style=\"background-color: rgba(254, 237, 228, 0.5);\">is</span> <span title=\"0.003\" style=\"background-color: rgba(255, 245, 240, 0.5);\">an</span> <span title=\"0.008\" style=\"background-color: rgba(254, 243, 238, 0.5);\">exit</span> <span title=\"0.004\" style=\"background-color: rgba(255, 245, 240, 0.5);\">gunshot</span> <span title=\"0.032\" style=\"background-color: rgba(254, 239, 232, 0.5);\">wound</span> <span title=\"0.026\" style=\"background-color: rgba(254, 241, 234, 0.5);\">consisting</span> <span title=\"0.025\" style=\"background-color: rgba(254, 241, 234, 0.5);\">of</span> <span title=\"0.008\" style=\"background-color: rgba(254, 244, 239, 0.5);\">a</span> <span title=\"0.033\" style=\"background-color: rgba(254, 239, 232, 0.5);\">1.3</span> <span title=\"0.031\" style=\"background-color: rgba(254, 240, 233, 0.5);\">x</span> <span title=\"0.011\" style=\"background-color: rgba(254, 243, 238, 0.5);\">0.4</span> <span title=\"0.030\" style=\"background-color: rgba(254, 240, 233, 0.5);\">cm</span> <span title=\"0.010\" style=\"background-color: rgba(254, 243, 238, 0.5);\">stellate</span> <span title=\"0.004\" style=\"background-color: rgba(255, 245, 240, 0.5);\">laceration</span> <span title=\"0.007\" style=\"background-color: rgba(254, 244, 239, 0.5);\">without</span> <span title=\"0.008\" style=\"background-color: rgba(254, 243, 238, 0.5);\">marginal</span> <span title=\"0.005\" style=\"background-color: rgba(254, 244, 239, 0.5);\">abrasion</span> <span title=\"0.008\" style=\"background-color: rgba(254, 244, 239, 0.5);\">.</span> <span title=\"0.014\" style=\"background-color: rgba(254, 243, 237, 0.5);\">a</span> <span title=\"0.080\" style=\"background-color: rgba(254, 231, 221, 0.5);\">1.1</span> <span title=\"0.036\" style=\"background-color: rgba(254, 239, 231, 0.5);\">x</span> <span title=\"0.049\" style=\"background-color: rgba(254, 237, 228, 0.5);\">1.1</span> <span title=\"0.028\" style=\"background-color: rgba(254, 240, 233, 0.5);\">cm</span> <span title=\"0.020\" style=\"background-color: rgba(254, 241, 235, 0.5);\">brown</span> <span title=\"0.011\" style=\"background-color: rgba(254, 243, 238, 0.5);\">/</span> <span title=\"0.018\" style=\"background-color: rgba(254, 242, 236, 0.5);\">red</span> <span title=\"0.060\" style=\"background-color: rgba(254, 235, 225, 0.5);\">contusion</span> <span title=\"0.047\" style=\"background-color: rgba(254, 237, 229, 0.5);\">extends</span> <span title=\"0.184\" style=\"background-color: rgba(253, 207, 188, 0.5);\">from</span> <span title=\"0.367\" style=\"background-color: rgba(252, 148, 116, 0.5);\">the</span> <span title=\"0.123\" style=\"background-color: rgba(254, 224, 210, 0.5);\">wound</span> <span title=\"0.203\" style=\"background-color: rgba(252, 200, 179, 0.5);\">&#x27;s</span> <span title=\"0.007\" style=\"background-color: rgba(254, 244, 239, 0.5);\">lateral</span> <span title=\"0.037\" style=\"background-color: rgba(254, 239, 231, 0.5);\">edge</span> <span title=\"0.007\" style=\"background-color: rgba(254, 244, 239, 0.5);\">.</span> <span title=\"0.010\" style=\"background-color: rgba(254, 243, 238, 0.5);\">xxmaj</span> <span title=\"0.003\" style=\"background-color: rgba(255, 245, 240, 0.5);\">trajectory</span> <span title=\"0.008\" style=\"background-color: rgba(254, 243, 238, 0.5);\">:</span> <span title=\"0.003\" style=\"background-color: rgba(255, 245, 240, 0.5);\">xxmaj</span> <span title=\"0.002\" style=\"background-color: rgba(255, 245, 240, 0.5);\">the</span> <span title=\"0.008\" style=\"background-color: rgba(254, 243, 238, 0.5);\">wound</span> <span title=\"0.007\" style=\"background-color: rgba(254, 244, 239, 0.5);\">track</span> <span title=\"0.019\" style=\"background-color: rgba(254, 242, 236, 0.5);\">travels</span> <span title=\"0.007\" style=\"background-color: rgba(254, 244, 239, 0.5);\">from</span> <span title=\"0.010\" style=\"background-color: rgba(254, 243, 238, 0.5);\">the</span> <span title=\"0.006\" style=\"background-color: rgba(254, 244, 239, 0.5);\">decedentâs</span> <span title=\"0.011\" style=\"background-color: rgba(254, 243, 238, 0.5);\">anterior</span> <span title=\"0.014\" style=\"background-color: rgba(254, 243, 237, 0.5);\">to</span> <span title=\"0.008\" style=\"background-color: rgba(254, 243, 238, 0.5);\">posterior</span> <span title=\"0.011\" style=\"background-color: rgba(254, 243, 238, 0.5);\">,</span> <span title=\"0.036\" style=\"background-color: rgba(254, 239, 231, 0.5);\">slightly</span> <span title=\"0.009\" style=\"background-color: rgba(254, 243, 238, 0.5);\">right</span> <span title=\"0.017\" style=\"background-color: rgba(254, 242, 236, 0.5);\">to</span> <span title=\"0.027\" style=\"background-color: rgba(254, 240, 233, 0.5);\">left</span> <span title=\"0.015\" style=\"background-color: rgba(254, 243, 237, 0.5);\">and</span> <span title=\"0.080\" style=\"background-color: rgba(254, 231, 221, 0.5);\">slightly</span> <span title=\"0.039\" style=\"background-color: rgba(254, 239, 231, 0.5);\">inferior</span> <span title=\"0.033\" style=\"background-color: rgba(254, 239, 232, 0.5);\">to</span> <span title=\"0.004\" style=\"background-color: rgba(254, 244, 239, 0.5);\">superior</span> <span title=\"0.013\" style=\"background-color: rgba(254, 243, 237, 0.5);\">.</span> <span title=\"0.005\" style=\"background-color: rgba(254, 244, 239, 0.5);\">.locationhead</span> <span title=\"0.014\" style=\"background-color: rgba(254, 243, 237, 0.5);\">and</span> <span title=\"0.016\" style=\"background-color: rgba(254, 242, 236, 0.5);\">neck</span> <span title=\"0.051\" style=\"background-color: rgba(254, 236, 227, 0.5);\">.injuryblunt</span> <span title=\"0.022\" style=\"background-color: rgba(254, 241, 235, 0.5);\">injury</span> <span title=\"0.024\" style=\"background-color: rgba(254, 241, 234, 0.5);\">.</span> <span title=\"0.045\" style=\"background-color: rgba(254, 237, 229, 0.5);\">xxup</span> <span title=\"0.030\" style=\"background-color: rgba(254, 240, 233, 0.5);\">.injurydesc</span> <span title=\"0.027\" style=\"background-color: rgba(254, 241, 234, 0.5);\">.</span> <span title=\"0.045\" style=\"background-color: rgba(254, 237, 229, 0.5);\">a</span> <span title=\"0.042\" style=\"background-color: rgba(254, 238, 230, 0.5);\">2.5</span> <span title=\"0.044\" style=\"background-color: rgba(254, 237, 229, 0.5);\">x</span> <span title=\"0.046\" style=\"background-color: rgba(254, 237, 229, 0.5);\">0.8</span> <span title=\"0.074\" style=\"background-color: rgba(254, 233, 223, 0.5);\">cm</span> <span title=\"0.052\" style=\"background-color: rgba(254, 236, 227, 0.5);\">red</span> <span title=\"0.042\" style=\"background-color: rgba(254, 238, 230, 0.5);\">abrasion</span> <span title=\"0.193\" style=\"background-color: rgba(252, 204, 183, 0.5);\">is</span> <span title=\"0.004\" style=\"background-color: rgba(255, 245, 240, 0.5);\">on</span> <span title=\"0.004\" style=\"background-color: rgba(255, 245, 240, 0.5);\">the</span> <span title=\"0.006\" style=\"background-color: rgba(254, 244, 239, 0.5);\">left</span> <span title=\"0.022\" style=\"background-color: rgba(254, 241, 235, 0.5);\">side</span> <span title=\"0.007\" style=\"background-color: rgba(254, 244, 239, 0.5);\">of</span> <span title=\"0.011\" style=\"background-color: rgba(254, 243, 238, 0.5);\">the</span> <span title=\"0.006\" style=\"background-color: rgba(254, 244, 239, 0.5);\">forehead</span> <span title=\"0.017\" style=\"background-color: rgba(254, 242, 236, 0.5);\">.</span> <span title=\"0.012\" style=\"background-color: rgba(254, 243, 238, 0.5);\">a</span> <span title=\"0.011\" style=\"background-color: rgba(254, 243, 238, 0.5);\">4.0</span> <span title=\"0.021\" style=\"background-color: rgba(254, 241, 235, 0.5);\">x</span> <span title=\"0.060\" style=\"background-color: rgba(254, 235, 225, 0.5);\">0.2</span> <span title=\"0.005\" style=\"background-color: rgba(254, 244, 239, 0.5);\">cm</span> <span title=\"0.004\" style=\"background-color: rgba(255, 245, 240, 0.5);\">red</span> <span title=\"0.006\" style=\"background-color: rgba(254, 244, 239, 0.5);\">abrasion</span> <span title=\"0.010\" style=\"background-color: rgba(254, 243, 238, 0.5);\">is</span> <span title=\"0.009\" style=\"background-color: rgba(254, 243, 238, 0.5);\">on</span> <span title=\"0.008\" style=\"background-color: rgba(254, 243, 238, 0.5);\">the</span> <span title=\"0.002\" style=\"background-color: rgba(255, 245, 240, 0.5);\">anterior</span> <span title=\"0.003\" style=\"background-color: rgba(255, 245, 240, 0.5);\">aspect</span> <span title=\"0.018\" style=\"background-color: rgba(254, 242, 236, 0.5);\">of</span> <span title=\"0.081\" style=\"background-color: rgba(254, 231, 221, 0.5);\">the</span> <span title=\"0.008\" style=\"background-color: rgba(254, 243, 238, 0.5);\">neck</span> <span title=\"0.006\" style=\"background-color: rgba(254, 244, 239, 0.5);\">.</span> <span title=\"0.006\" style=\"background-color: rgba(254, 244, 239, 0.5);\">.locationextremities</span> <span title=\"0.006\" style=\"background-color: rgba(254, 244, 239, 0.5);\">.injuryblunt</span> <span title=\"0.019\" style=\"background-color: rgba(254, 242, 236, 0.5);\">injury</span> <span title=\"0.020\" style=\"background-color: rgba(254, 241, 235, 0.5);\">.</span> <span title=\"0.038\" style=\"background-color: rgba(254, 239, 231, 0.5);\">xxup</span> <span title=\"0.007\" style=\"background-color: rgba(254, 244, 239, 0.5);\">.injurydesc</span> <span title=\"0.006\" style=\"background-color: rgba(254, 244, 239, 0.5);\">.</span> <span title=\"0.026\" style=\"background-color: rgba(254, 241, 234, 0.5);\">xxmaj</span> <span title=\"0.025\" style=\"background-color: rgba(254, 241, 234, 0.5);\">multiple</span> <span title=\"0.008\" style=\"background-color: rgba(254, 243, 238, 0.5);\">purple</span> <span title=\"0.010\" style=\"background-color: rgba(254, 243, 238, 0.5);\">contusions</span> <span title=\"0.005\" style=\"background-color: rgba(254, 244, 239, 0.5);\">are</span> <span title=\"0.015\" style=\"background-color: rgba(254, 243, 237, 0.5);\">just</span> <span title=\"0.014\" style=\"background-color: rgba(254, 243, 237, 0.5);\">inferior</span> <span title=\"0.009\" style=\"background-color: rgba(254, 243, 238, 0.5);\">to</span> <span title=\"0.006\" style=\"background-color: rgba(254, 244, 239, 0.5);\">the</span> <span title=\"0.008\" style=\"background-color: rgba(254, 243, 238, 0.5);\">right</span> <span title=\"0.009\" style=\"background-color: rgba(254, 243, 238, 0.5);\">knee</span> <span title=\"0.010\" style=\"background-color: rgba(254, 243, 238, 0.5);\">,</span> <span title=\"0.007\" style=\"background-color: rgba(254, 244, 239, 0.5);\">the</span> <span title=\"0.010\" style=\"background-color: rgba(254, 243, 238, 0.5);\">largest</span> <span title=\"0.009\" style=\"background-color: rgba(254, 243, 238, 0.5);\">measuring</span> <span title=\"0.041\" style=\"background-color: rgba(254, 238, 230, 0.5);\">2.5</span> <span title=\"0.082\" style=\"background-color: rgba(254, 231, 220, 0.5);\">x</span> <span title=\"0.029\" style=\"background-color: rgba(254, 240, 233, 0.5);\">2.0</span> <span title=\"0.059\" style=\"background-color: rgba(254, 235, 225, 0.5);\">cm</span> <span title=\"0.011\" style=\"background-color: rgba(254, 243, 238, 0.5);\">.</span> <span title=\"0.055\" style=\"background-color: rgba(254, 235, 226, 0.5);\">a</span> <span title=\"0.013\" style=\"background-color: rgba(254, 243, 237, 0.5);\">3.5</span> <span title=\"0.005\" style=\"background-color: rgba(254, 244, 239, 0.5);\">x</span> <span title=\"0.004\" style=\"background-color: rgba(255, 245, 240, 0.5);\">0.3</span> <span title=\"0.006\" style=\"background-color: rgba(254, 244, 239, 0.5);\">cm</span> <span title=\"0.021\" style=\"background-color: rgba(254, 241, 235, 0.5);\">red</span> <span title=\"0.005\" style=\"background-color: rgba(254, 244, 239, 0.5);\">,</span> <span title=\"0.012\" style=\"background-color: rgba(254, 243, 238, 0.5);\">linear</span> <span title=\"0.039\" style=\"background-color: rgba(254, 239, 231, 0.5);\">,</span> <span title=\"0.101\" style=\"background-color: rgba(254, 228, 216, 0.5);\">vertically</span> <span title=\"0.062\" style=\"background-color: rgba(254, 235, 225, 0.5);\">oriented</span> <span title=\"0.042\" style=\"background-color: rgba(254, 238, 230, 0.5);\">abrasion</span> <span title=\"0.015\" style=\"background-color: rgba(254, 243, 237, 0.5);\">in</span> <span title=\"0.044\" style=\"background-color: rgba(254, 237, 229, 0.5);\">on</span> <span title=\"0.057\" style=\"background-color: rgba(254, 235, 226, 0.5);\">the</span> <span title=\"0.019\" style=\"background-color: rgba(254, 242, 236, 0.5);\">anterior</span> <span title=\"0.040\" style=\"background-color: rgba(254, 238, 230, 0.5);\">left</span> <span title=\"0.030\" style=\"background-color: rgba(254, 240, 233, 0.5);\">lower</span> <span title=\"0.043\" style=\"background-color: rgba(254, 237, 229, 0.5);\">leg</span> <span title=\"0.127\" style=\"background-color: rgba(253, 223, 209, 0.5);\">.</span></span>"
      ],
      "text/plain": [
       "<IPython.core.display.HTML object>"
      ]
     },
     "metadata": {},
     "output_type": "display_data"
    }
   ],
   "source": [
    "interpret_result(7663)"
   ]
  },
  {
   "cell_type": "code",
   "execution_count": 38,
   "metadata": {},
   "outputs": [
    {
     "name": "stdout",
     "output_type": "stream",
     "text": [
      "True Label: Homicide\n",
      "\n",
      "Pred Label: Homicide\n",
      "\n",
      "Class Probabilities: tensor([7.9123e-04, 9.9900e-01, 2.1058e-04])\n",
      "\n",
      "***Raw Text***\n",
      "\n",
      ".MICRO.\n",
      "Heart-No histopathologic abnormalities. \n",
      "\n",
      "Lungs-Parenchymal congestion. \n",
      "\n",
      "Kidneys-Autolytic changes and congestion. \n",
      "\n",
      "Liver-Central venous congestion. \n",
      "\n",
      "Brain-Hippocampus with no histopathologic abnormalities. \n",
      ".LOCATIONBack\n",
      ".INJURYFirearm injury.\n",
      ".INJURYDESC.\n",
      "GUNSHOT WOUND OF the back\n",
      "\n",
      "Entrance:\n",
      "\n",
      "On the mid back, 47.0 cm below the top of the head, 2.0 cm right posterior midline, and 111.0 cm superior to the heel, is an entrance gunshot wound consisting of a 0.6 x 0.6  cm round defect with a 1.4 x 1.2 cm wide circumferential pink marginal abrasion which is widest at 2 oâclock position.  Soot, unburned gunpowder particles and gunpowder stippling are not visible on the skin surrounding the wound.\n",
      "\n",
      "Path:\n",
      "\n",
      "The hemorrhagic wound track sequentially perforates the skin and soft tissue of the mid back, the 12th thoracic vertebral body, the inferior vena cava, the mesentery of the small intestine, the left lobe of the liver, and the projectile comes to rest in the soft tissue just under the skin of the right mid abdomen. \n",
      "\n",
      "Associated injuries:\n",
      "\n",
      "Associated injuries include fracture of the 12th thoracic vertebra, perforation of the inferior vena cava, perforation of the small intestine mesentery, laceration of the left lobe of the liver, and approximately 1500 ml of hemoperitoneum. \n",
      "\n",
      "\n",
      "Trajectory:\n",
      "\n",
      "The wound track travels from the decedentâs right to left, back to front in a downward direction. \n",
      "\n",
      "Recovered:\n",
      "\n",
      "Recovered from the right abdominal wall is a 115.4 GN jacketed, rounded and intact projectile. \n",
      "\n",
      "\n",
      "***Intrinsic Attention***\n"
     ]
    },
    {
     "data": {
      "text/html": [
       "<span style=\"font-family: monospace;\"><span title=\"0.073\" style=\"background-color: rgba(254, 233, 223, 0.5);\">xxbos</span> <span title=\"0.006\" style=\"background-color: rgba(254, 244, 239, 0.5);\">xxup</span> <span title=\"0.005\" style=\"background-color: rgba(254, 244, 239, 0.5);\">.micro</span> <span title=\"0.039\" style=\"background-color: rgba(254, 239, 231, 0.5);\">.</span> <span title=\"0.007\" style=\"background-color: rgba(254, 244, 239, 0.5);\">xxmaj</span> <span title=\"0.008\" style=\"background-color: rgba(254, 243, 238, 0.5);\">heart</span> <span title=\"0.041\" style=\"background-color: rgba(254, 238, 230, 0.5);\">-</span> <span title=\"0.178\" style=\"background-color: rgba(253, 208, 189, 0.5);\">xxmaj</span> <span title=\"0.115\" style=\"background-color: rgba(254, 225, 212, 0.5);\">no</span> <span title=\"0.037\" style=\"background-color: rgba(254, 239, 231, 0.5);\">histopathologic</span> <span title=\"0.047\" style=\"background-color: rgba(254, 237, 228, 0.5);\">abnormalities</span> <span title=\"0.099\" style=\"background-color: rgba(254, 228, 216, 0.5);\">.</span> <span title=\"0.059\" style=\"background-color: rgba(254, 235, 225, 0.5);\">xxmaj</span> <span title=\"0.009\" style=\"background-color: rgba(254, 243, 238, 0.5);\">lungs</span> <span title=\"0.017\" style=\"background-color: rgba(254, 242, 236, 0.5);\">-</span> <span title=\"0.025\" style=\"background-color: rgba(254, 241, 234, 0.5);\">xxmaj</span> <span title=\"0.148\" style=\"background-color: rgba(253, 218, 202, 0.5);\">parenchymal</span> <span title=\"0.075\" style=\"background-color: rgba(254, 232, 222, 0.5);\">congestion</span> <span title=\"0.087\" style=\"background-color: rgba(254, 230, 219, 0.5);\">.</span> <span title=\"0.462\" style=\"background-color: rgba(251, 117, 85, 0.5);\">xxmaj</span> <span title=\"0.150\" style=\"background-color: rgba(253, 216, 200, 0.5);\">kidneys</span> <span title=\"0.007\" style=\"background-color: rgba(254, 244, 239, 0.5);\">-</span> <span title=\"0.007\" style=\"background-color: rgba(254, 244, 239, 0.5);\">xxmaj</span> <span title=\"0.016\" style=\"background-color: rgba(254, 243, 237, 0.5);\">autolytic</span> <span title=\"0.172\" style=\"background-color: rgba(253, 211, 192, 0.5);\">changes</span> <span title=\"0.099\" style=\"background-color: rgba(254, 228, 216, 0.5);\">and</span> <span title=\"0.159\" style=\"background-color: rgba(253, 214, 197, 0.5);\">congestion</span> <span title=\"0.819\" style=\"background-color: rgba(181, 18, 24, 0.5);\">.</span> <span title=\"0.094\" style=\"background-color: rgba(254, 229, 218, 0.5);\">xxmaj</span> <span title=\"0.067\" style=\"background-color: rgba(254, 233, 224, 0.5);\">liver</span> <span title=\"0.111\" style=\"background-color: rgba(254, 226, 213, 0.5);\">-</span> <span title=\"0.025\" style=\"background-color: rgba(254, 241, 234, 0.5);\">xxmaj</span> <span title=\"0.035\" style=\"background-color: rgba(254, 239, 231, 0.5);\">central</span> <span title=\"0.018\" style=\"background-color: rgba(254, 242, 236, 0.5);\">venous</span> <span title=\"0.168\" style=\"background-color: rgba(253, 211, 192, 0.5);\">congestion</span> <span title=\"0.070\" style=\"background-color: rgba(254, 233, 223, 0.5);\">.</span> <span title=\"0.089\" style=\"background-color: rgba(254, 230, 219, 0.5);\">xxmaj</span> <span title=\"0.330\" style=\"background-color: rgba(252, 160, 131, 0.5);\">brain</span> <span title=\"0.676\" style=\"background-color: rgba(224, 45, 38, 0.5);\">-</span> <span title=\"0.034\" style=\"background-color: rgba(254, 239, 232, 0.5);\">xxmaj</span> <span title=\"0.007\" style=\"background-color: rgba(254, 244, 239, 0.5);\">hippocampus</span> <span title=\"0.010\" style=\"background-color: rgba(254, 243, 238, 0.5);\">with</span> <span title=\"0.026\" style=\"background-color: rgba(254, 241, 234, 0.5);\">no</span> <span title=\"0.191\" style=\"background-color: rgba(252, 204, 183, 0.5);\">histopathologic</span> <span title=\"0.099\" style=\"background-color: rgba(254, 228, 216, 0.5);\">abnormalities</span> <span title=\"0.051\" style=\"background-color: rgba(254, 236, 227, 0.5);\">.</span> <span title=\"0.183\" style=\"background-color: rgba(253, 207, 188, 0.5);\">.locationback</span> <span title=\"0.086\" style=\"background-color: rgba(254, 230, 219, 0.5);\">.injuryfirearm</span> <span title=\"0.129\" style=\"background-color: rgba(253, 223, 209, 0.5);\">injury</span> <span title=\"0.105\" style=\"background-color: rgba(254, 227, 215, 0.5);\">.</span> <span title=\"0.029\" style=\"background-color: rgba(254, 240, 233, 0.5);\">xxup</span> <span title=\"0.018\" style=\"background-color: rgba(254, 242, 236, 0.5);\">.injurydesc</span> <span title=\"0.043\" style=\"background-color: rgba(254, 238, 230, 0.5);\">.</span> <span title=\"0.175\" style=\"background-color: rgba(253, 209, 191, 0.5);\">xxup</span> <span title=\"0.029\" style=\"background-color: rgba(254, 240, 233, 0.5);\">gunshot</span> <span title=\"0.241\" style=\"background-color: rgba(252, 190, 165, 0.5);\">xxup</span> <span title=\"0.026\" style=\"background-color: rgba(254, 241, 234, 0.5);\">wound</span> <span title=\"0.004\" style=\"background-color: rgba(254, 244, 239, 0.5);\">xxup</span> <span title=\"0.007\" style=\"background-color: rgba(254, 244, 239, 0.5);\">of</span> <span title=\"0.007\" style=\"background-color: rgba(254, 244, 239, 0.5);\">the</span> <span title=\"0.037\" style=\"background-color: rgba(254, 239, 231, 0.5);\">back</span> <span title=\"0.013\" style=\"background-color: rgba(254, 243, 237, 0.5);\">xxmaj</span> <span title=\"0.012\" style=\"background-color: rgba(254, 243, 237, 0.5);\">entrance</span> <span title=\"0.037\" style=\"background-color: rgba(254, 239, 231, 0.5);\">:</span> <span title=\"0.212\" style=\"background-color: rgba(252, 198, 175, 0.5);\">xxmaj</span> <span title=\"0.014\" style=\"background-color: rgba(254, 243, 237, 0.5);\">on</span> <span title=\"0.062\" style=\"background-color: rgba(254, 235, 225, 0.5);\">the</span> <span title=\"0.018\" style=\"background-color: rgba(254, 242, 236, 0.5);\">mid</span> <span title=\"0.039\" style=\"background-color: rgba(254, 238, 230, 0.5);\">back</span> <span title=\"0.041\" style=\"background-color: rgba(254, 238, 230, 0.5);\">,</span> <span title=\"0.198\" style=\"background-color: rgba(252, 202, 182, 0.5);\">47.0</span> <span title=\"0.053\" style=\"background-color: rgba(254, 236, 227, 0.5);\">cm</span> <span title=\"0.019\" style=\"background-color: rgba(254, 242, 236, 0.5);\">below</span> <span title=\"0.128\" style=\"background-color: rgba(253, 223, 209, 0.5);\">the</span> <span title=\"0.032\" style=\"background-color: rgba(254, 239, 232, 0.5);\">top</span> <span title=\"0.022\" style=\"background-color: rgba(254, 241, 235, 0.5);\">of</span> <span title=\"0.041\" style=\"background-color: rgba(254, 238, 230, 0.5);\">the</span> <span title=\"0.067\" style=\"background-color: rgba(254, 233, 224, 0.5);\">head</span> <span title=\"0.056\" style=\"background-color: rgba(254, 235, 226, 0.5);\">,</span> <span title=\"0.379\" style=\"background-color: rgba(251, 144, 112, 0.5);\">2.0</span> <span title=\"0.161\" style=\"background-color: rgba(253, 213, 195, 0.5);\">cm</span> <span title=\"0.038\" style=\"background-color: rgba(254, 239, 231, 0.5);\">right</span> <span title=\"0.242\" style=\"background-color: rgba(252, 190, 165, 0.5);\">posterior</span> <span title=\"0.031\" style=\"background-color: rgba(254, 240, 233, 0.5);\">midline</span> <span title=\"0.057\" style=\"background-color: rgba(254, 235, 226, 0.5);\">,</span> <span title=\"0.017\" style=\"background-color: rgba(254, 242, 236, 0.5);\">and</span> <span title=\"0.051\" style=\"background-color: rgba(254, 236, 227, 0.5);\">xxunk</span> <span title=\"0.017\" style=\"background-color: rgba(254, 242, 236, 0.5);\">cm</span> <span title=\"0.027\" style=\"background-color: rgba(254, 241, 234, 0.5);\">superior</span> <span title=\"0.063\" style=\"background-color: rgba(254, 234, 224, 0.5);\">to</span> <span title=\"0.027\" style=\"background-color: rgba(254, 241, 234, 0.5);\">the</span> <span title=\"0.145\" style=\"background-color: rgba(253, 218, 202, 0.5);\">heel</span> <span title=\"0.068\" style=\"background-color: rgba(254, 233, 224, 0.5);\">,</span> <span title=\"0.090\" style=\"background-color: rgba(254, 229, 218, 0.5);\">is</span> <span title=\"0.159\" style=\"background-color: rgba(253, 214, 197, 0.5);\">an</span> <span title=\"0.065\" style=\"background-color: rgba(254, 234, 224, 0.5);\">entrance</span> <span title=\"0.038\" style=\"background-color: rgba(254, 239, 231, 0.5);\">gunshot</span> <span title=\"0.048\" style=\"background-color: rgba(254, 237, 228, 0.5);\">wound</span> <span title=\"0.151\" style=\"background-color: rgba(253, 216, 200, 0.5);\">consisting</span> <span title=\"0.052\" style=\"background-color: rgba(254, 236, 227, 0.5);\">of</span> <span title=\"0.103\" style=\"background-color: rgba(254, 227, 215, 0.5);\">a</span> <span title=\"0.064\" style=\"background-color: rgba(254, 234, 224, 0.5);\">0.6</span> <span title=\"0.059\" style=\"background-color: rgba(254, 235, 225, 0.5);\">x</span> <span title=\"0.120\" style=\"background-color: rgba(254, 225, 211, 0.5);\">0.6</span> <span title=\"0.012\" style=\"background-color: rgba(254, 243, 237, 0.5);\">cm</span> <span title=\"0.037\" style=\"background-color: rgba(254, 239, 231, 0.5);\">round</span> <span title=\"0.041\" style=\"background-color: rgba(254, 238, 230, 0.5);\">defect</span> <span title=\"0.137\" style=\"background-color: rgba(253, 220, 205, 0.5);\">with</span> <span title=\"0.054\" style=\"background-color: rgba(254, 236, 227, 0.5);\">a</span> <span title=\"0.031\" style=\"background-color: rgba(254, 240, 233, 0.5);\">1.4</span> <span title=\"0.039\" style=\"background-color: rgba(254, 239, 231, 0.5);\">x</span> <span title=\"0.036\" style=\"background-color: rgba(254, 239, 231, 0.5);\">1.2</span> <span title=\"0.047\" style=\"background-color: rgba(254, 237, 228, 0.5);\">cm</span> <span title=\"0.086\" style=\"background-color: rgba(254, 231, 220, 0.5);\">wide</span> <span title=\"0.034\" style=\"background-color: rgba(254, 239, 232, 0.5);\">circumferential</span> <span title=\"0.051\" style=\"background-color: rgba(254, 236, 227, 0.5);\">pink</span> <span title=\"0.041\" style=\"background-color: rgba(254, 238, 230, 0.5);\">marginal</span> <span title=\"0.096\" style=\"background-color: rgba(254, 229, 217, 0.5);\">abrasion</span> <span title=\"0.129\" style=\"background-color: rgba(253, 222, 208, 0.5);\">which</span> <span title=\"0.056\" style=\"background-color: rgba(254, 235, 226, 0.5);\">is</span> <span title=\"0.042\" style=\"background-color: rgba(254, 238, 230, 0.5);\">widest</span> <span title=\"0.123\" style=\"background-color: rgba(254, 224, 210, 0.5);\">at</span> <span title=\"0.059\" style=\"background-color: rgba(254, 235, 225, 0.5);\">2</span> <span title=\"0.040\" style=\"background-color: rgba(254, 238, 230, 0.5);\">oâclock</span> <span title=\"0.031\" style=\"background-color: rgba(254, 240, 233, 0.5);\">position</span> <span title=\"0.133\" style=\"background-color: rgba(253, 221, 206, 0.5);\">.</span> <span title=\"0.213\" style=\"background-color: rgba(252, 198, 175, 0.5);\">xxmaj</span> <span title=\"0.096\" style=\"background-color: rgba(254, 229, 217, 0.5);\">soot</span> <span title=\"0.123\" style=\"background-color: rgba(254, 224, 210, 0.5);\">,</span> <span title=\"0.054\" style=\"background-color: rgba(254, 236, 227, 0.5);\">unburned</span> <span title=\"0.095\" style=\"background-color: rgba(254, 229, 217, 0.5);\">gunpowder</span> <span title=\"0.041\" style=\"background-color: rgba(254, 238, 230, 0.5);\">particles</span> <span title=\"0.053\" style=\"background-color: rgba(254, 236, 227, 0.5);\">and</span> <span title=\"0.033\" style=\"background-color: rgba(254, 239, 232, 0.5);\">gunpowder</span> <span title=\"0.063\" style=\"background-color: rgba(254, 234, 224, 0.5);\">stippling</span> <span title=\"0.027\" style=\"background-color: rgba(254, 241, 234, 0.5);\">are</span> <span title=\"0.039\" style=\"background-color: rgba(254, 239, 231, 0.5);\">not</span> <span title=\"0.035\" style=\"background-color: rgba(254, 239, 232, 0.5);\">visible</span> <span title=\"0.032\" style=\"background-color: rgba(254, 239, 232, 0.5);\">on</span> <span title=\"0.147\" style=\"background-color: rgba(253, 218, 202, 0.5);\">the</span> <span title=\"0.103\" style=\"background-color: rgba(254, 227, 215, 0.5);\">skin</span> <span title=\"0.045\" style=\"background-color: rgba(254, 237, 229, 0.5);\">surrounding</span> <span title=\"0.040\" style=\"background-color: rgba(254, 238, 230, 0.5);\">the</span> <span title=\"0.085\" style=\"background-color: rgba(254, 231, 220, 0.5);\">wound</span> <span title=\"0.027\" style=\"background-color: rgba(254, 241, 234, 0.5);\">.</span> <span title=\"0.054\" style=\"background-color: rgba(254, 236, 227, 0.5);\">xxmaj</span> <span title=\"0.097\" style=\"background-color: rgba(254, 229, 217, 0.5);\">path</span> <span title=\"0.019\" style=\"background-color: rgba(254, 242, 236, 0.5);\">:</span> <span title=\"0.060\" style=\"background-color: rgba(254, 235, 225, 0.5);\">xxmaj</span> <span title=\"0.024\" style=\"background-color: rgba(254, 241, 234, 0.5);\">the</span> <span title=\"0.013\" style=\"background-color: rgba(254, 243, 237, 0.5);\">hemorrhagic</span> <span title=\"0.009\" style=\"background-color: rgba(254, 243, 238, 0.5);\">wound</span> <span title=\"0.023\" style=\"background-color: rgba(254, 241, 235, 0.5);\">track</span> <span title=\"0.034\" style=\"background-color: rgba(254, 239, 232, 0.5);\">sequentially</span> <span title=\"0.010\" style=\"background-color: rgba(254, 243, 238, 0.5);\">perforates</span> <span title=\"0.039\" style=\"background-color: rgba(254, 239, 231, 0.5);\">the</span> <span title=\"0.013\" style=\"background-color: rgba(254, 243, 237, 0.5);\">skin</span> <span title=\"0.008\" style=\"background-color: rgba(254, 243, 238, 0.5);\">and</span> <span title=\"0.010\" style=\"background-color: rgba(254, 243, 238, 0.5);\">soft</span> <span title=\"0.062\" style=\"background-color: rgba(254, 235, 225, 0.5);\">tissue</span> <span title=\"0.026\" style=\"background-color: rgba(254, 241, 234, 0.5);\">of</span> <span title=\"0.030\" style=\"background-color: rgba(254, 240, 233, 0.5);\">the</span> <span title=\"0.014\" style=\"background-color: rgba(254, 243, 237, 0.5);\">mid</span> <span title=\"0.015\" style=\"background-color: rgba(254, 243, 237, 0.5);\">back</span> <span title=\"0.055\" style=\"background-color: rgba(254, 235, 226, 0.5);\">,</span> <span title=\"0.035\" style=\"background-color: rgba(254, 239, 232, 0.5);\">the</span> <span title=\"0.073\" style=\"background-color: rgba(254, 233, 223, 0.5);\">12th</span> <span title=\"0.128\" style=\"background-color: rgba(253, 223, 209, 0.5);\">thoracic</span> <span title=\"0.084\" style=\"background-color: rgba(254, 231, 220, 0.5);\">vertebral</span> <span title=\"0.038\" style=\"background-color: rgba(254, 239, 231, 0.5);\">body</span> <span title=\"0.127\" style=\"background-color: rgba(253, 223, 209, 0.5);\">,</span> <span title=\"0.061\" style=\"background-color: rgba(254, 235, 225, 0.5);\">the</span> <span title=\"0.240\" style=\"background-color: rgba(252, 190, 165, 0.5);\">inferior</span> <span title=\"0.050\" style=\"background-color: rgba(254, 237, 228, 0.5);\">vena</span> <span title=\"0.033\" style=\"background-color: rgba(254, 239, 232, 0.5);\">cava</span> <span title=\"0.035\" style=\"background-color: rgba(254, 239, 232, 0.5);\">,</span> <span title=\"0.196\" style=\"background-color: rgba(252, 202, 182, 0.5);\">the</span> <span title=\"0.111\" style=\"background-color: rgba(254, 226, 213, 0.5);\">mesentery</span> <span title=\"0.028\" style=\"background-color: rgba(254, 240, 233, 0.5);\">of</span> <span title=\"0.064\" style=\"background-color: rgba(254, 234, 224, 0.5);\">the</span> <span title=\"0.436\" style=\"background-color: rgba(251, 126, 94, 0.5);\">small</span> <span title=\"0.366\" style=\"background-color: rgba(252, 149, 117, 0.5);\">intestine</span> <span title=\"0.325\" style=\"background-color: rgba(252, 162, 132, 0.5);\">,</span> <span title=\"0.067\" style=\"background-color: rgba(254, 233, 224, 0.5);\">the</span> <span title=\"0.039\" style=\"background-color: rgba(254, 238, 230, 0.5);\">left</span> <span title=\"0.063\" style=\"background-color: rgba(254, 234, 224, 0.5);\">lobe</span> <span title=\"0.252\" style=\"background-color: rgba(252, 186, 160, 0.5);\">of</span> <span title=\"0.308\" style=\"background-color: rgba(252, 168, 139, 0.5);\">the</span> <span title=\"0.166\" style=\"background-color: rgba(253, 212, 194, 0.5);\">liver</span> <span title=\"0.040\" style=\"background-color: rgba(254, 238, 230, 0.5);\">,</span> <span title=\"0.078\" style=\"background-color: rgba(254, 231, 221, 0.5);\">and</span> <span title=\"0.402\" style=\"background-color: rgba(251, 138, 106, 0.5);\">the</span> <span title=\"0.055\" style=\"background-color: rgba(254, 235, 226, 0.5);\">projectile</span> <span title=\"0.063\" style=\"background-color: rgba(254, 234, 224, 0.5);\">comes</span> <span title=\"0.243\" style=\"background-color: rgba(252, 189, 163, 0.5);\">to</span> <span title=\"0.150\" style=\"background-color: rgba(253, 216, 200, 0.5);\">rest</span> <span title=\"0.037\" style=\"background-color: rgba(254, 239, 231, 0.5);\">in</span> <span title=\"0.074\" style=\"background-color: rgba(254, 233, 223, 0.5);\">the</span> <span title=\"0.108\" style=\"background-color: rgba(254, 227, 214, 0.5);\">soft</span> <span title=\"0.282\" style=\"background-color: rgba(252, 176, 148, 0.5);\">tissue</span> <span title=\"0.104\" style=\"background-color: rgba(254, 227, 215, 0.5);\">just</span> <span title=\"0.091\" style=\"background-color: rgba(254, 229, 218, 0.5);\">under</span> <span title=\"0.199\" style=\"background-color: rgba(252, 201, 180, 0.5);\">the</span> <span title=\"0.063\" style=\"background-color: rgba(254, 234, 224, 0.5);\">skin</span> <span title=\"0.125\" style=\"background-color: rgba(253, 223, 209, 0.5);\">of</span> <span title=\"0.038\" style=\"background-color: rgba(254, 239, 231, 0.5);\">the</span> <span title=\"0.184\" style=\"background-color: rgba(253, 206, 186, 0.5);\">right</span> <span title=\"0.187\" style=\"background-color: rgba(253, 206, 186, 0.5);\">mid</span> <span title=\"0.060\" style=\"background-color: rgba(254, 235, 225, 0.5);\">abdomen</span> <span title=\"0.118\" style=\"background-color: rgba(254, 225, 211, 0.5);\">.</span> <span title=\"0.035\" style=\"background-color: rgba(254, 239, 232, 0.5);\">xxmaj</span> <span title=\"0.038\" style=\"background-color: rgba(254, 239, 231, 0.5);\">associated</span> <span title=\"0.202\" style=\"background-color: rgba(252, 201, 180, 0.5);\">injuries</span> <span title=\"0.090\" style=\"background-color: rgba(254, 229, 218, 0.5);\">:</span> <span title=\"0.082\" style=\"background-color: rgba(254, 231, 220, 0.5);\">xxmaj</span> <span title=\"0.135\" style=\"background-color: rgba(253, 221, 206, 0.5);\">associated</span> <span title=\"0.017\" style=\"background-color: rgba(254, 242, 236, 0.5);\">injuries</span> <span title=\"0.042\" style=\"background-color: rgba(254, 238, 230, 0.5);\">include</span> <span title=\"0.021\" style=\"background-color: rgba(254, 241, 235, 0.5);\">fracture</span> <span title=\"0.018\" style=\"background-color: rgba(254, 242, 236, 0.5);\">of</span> <span title=\"0.042\" style=\"background-color: rgba(254, 238, 230, 0.5);\">the</span> <span title=\"0.137\" style=\"background-color: rgba(253, 221, 206, 0.5);\">12th</span> <span title=\"0.132\" style=\"background-color: rgba(253, 222, 208, 0.5);\">thoracic</span> <span title=\"0.013\" style=\"background-color: rgba(254, 243, 237, 0.5);\">vertebra</span> <span title=\"0.028\" style=\"background-color: rgba(254, 240, 233, 0.5);\">,</span> <span title=\"0.012\" style=\"background-color: rgba(254, 243, 237, 0.5);\">perforation</span> <span title=\"0.053\" style=\"background-color: rgba(254, 236, 227, 0.5);\">of</span> <span title=\"0.058\" style=\"background-color: rgba(254, 235, 226, 0.5);\">the</span> <span title=\"0.030\" style=\"background-color: rgba(254, 240, 233, 0.5);\">inferior</span> <span title=\"0.014\" style=\"background-color: rgba(254, 243, 237, 0.5);\">vena</span> <span title=\"0.036\" style=\"background-color: rgba(254, 239, 231, 0.5);\">cava</span> <span title=\"0.160\" style=\"background-color: rgba(253, 214, 197, 0.5);\">,</span> <span title=\"0.110\" style=\"background-color: rgba(254, 226, 213, 0.5);\">perforation</span> <span title=\"0.114\" style=\"background-color: rgba(254, 225, 212, 0.5);\">of</span> <span title=\"0.293\" style=\"background-color: rgba(252, 173, 145, 0.5);\">the</span> <span title=\"0.052\" style=\"background-color: rgba(254, 236, 227, 0.5);\">small</span> <span title=\"0.055\" style=\"background-color: rgba(254, 235, 226, 0.5);\">intestine</span> <span title=\"0.412\" style=\"background-color: rgba(251, 134, 102, 0.5);\">mesentery</span> <span title=\"0.296\" style=\"background-color: rgba(252, 172, 144, 0.5);\">,</span> <span title=\"0.155\" style=\"background-color: rgba(253, 215, 199, 0.5);\">laceration</span> <span title=\"0.050\" style=\"background-color: rgba(254, 237, 228, 0.5);\">of</span> <span title=\"0.303\" style=\"background-color: rgba(252, 169, 141, 0.5);\">the</span> <span title=\"0.087\" style=\"background-color: rgba(254, 230, 219, 0.5);\">left</span> <span title=\"0.079\" style=\"background-color: rgba(254, 231, 221, 0.5);\">lobe</span> <span title=\"0.495\" style=\"background-color: rgba(251, 107, 75, 0.5);\">of</span> <span title=\"1.000\" style=\"background-color: rgba(103, 0, 12, 0.5);\">the</span> <span title=\"0.068\" style=\"background-color: rgba(254, 233, 224, 0.5);\">liver</span> <span title=\"0.014\" style=\"background-color: rgba(254, 243, 237, 0.5);\">,</span> <span title=\"0.164\" style=\"background-color: rgba(253, 212, 194, 0.5);\">and</span> <span title=\"0.041\" style=\"background-color: rgba(254, 238, 230, 0.5);\">approximately</span> <span title=\"0.041\" style=\"background-color: rgba(254, 238, 230, 0.5);\">1500</span> <span title=\"0.074\" style=\"background-color: rgba(254, 233, 223, 0.5);\">ml</span> <span title=\"0.109\" style=\"background-color: rgba(254, 227, 214, 0.5);\">of</span> <span title=\"0.145\" style=\"background-color: rgba(253, 218, 202, 0.5);\">hemoperitoneum</span> <span title=\"0.023\" style=\"background-color: rgba(254, 241, 235, 0.5);\">.</span> <span title=\"0.163\" style=\"background-color: rgba(253, 213, 195, 0.5);\">xxmaj</span> <span title=\"0.041\" style=\"background-color: rgba(254, 238, 230, 0.5);\">trajectory</span> <span title=\"0.044\" style=\"background-color: rgba(254, 237, 229, 0.5);\">:</span> <span title=\"0.107\" style=\"background-color: rgba(254, 227, 214, 0.5);\">xxmaj</span> <span title=\"0.141\" style=\"background-color: rgba(253, 219, 203, 0.5);\">the</span> <span title=\"0.037\" style=\"background-color: rgba(254, 239, 231, 0.5);\">wound</span> <span title=\"0.035\" style=\"background-color: rgba(254, 239, 232, 0.5);\">track</span> <span title=\"0.129\" style=\"background-color: rgba(253, 222, 208, 0.5);\">travels</span> <span title=\"0.038\" style=\"background-color: rgba(254, 239, 231, 0.5);\">from</span> <span title=\"0.148\" style=\"background-color: rgba(253, 218, 202, 0.5);\">the</span> <span title=\"0.315\" style=\"background-color: rgba(252, 166, 137, 0.5);\">decedentâs</span> <span title=\"0.376\" style=\"background-color: rgba(251, 145, 113, 0.5);\">right</span> <span title=\"0.096\" style=\"background-color: rgba(254, 229, 217, 0.5);\">to</span> <span title=\"0.052\" style=\"background-color: rgba(254, 236, 227, 0.5);\">left</span> <span title=\"0.048\" style=\"background-color: rgba(254, 237, 228, 0.5);\">,</span> <span title=\"0.009\" style=\"background-color: rgba(254, 243, 238, 0.5);\">back</span> <span title=\"0.046\" style=\"background-color: rgba(254, 237, 229, 0.5);\">to</span> <span title=\"0.022\" style=\"background-color: rgba(254, 241, 235, 0.5);\">front</span> <span title=\"0.163\" style=\"background-color: rgba(253, 213, 195, 0.5);\">in</span> <span title=\"0.045\" style=\"background-color: rgba(254, 237, 229, 0.5);\">a</span> <span title=\"0.016\" style=\"background-color: rgba(254, 242, 236, 0.5);\">downward</span> <span title=\"0.017\" style=\"background-color: rgba(254, 242, 236, 0.5);\">direction</span> <span title=\"0.032\" style=\"background-color: rgba(254, 239, 232, 0.5);\">.</span> <span title=\"0.079\" style=\"background-color: rgba(254, 231, 221, 0.5);\">xxmaj</span> <span title=\"0.087\" style=\"background-color: rgba(254, 230, 219, 0.5);\">recovered</span> <span title=\"0.133\" style=\"background-color: rgba(253, 221, 206, 0.5);\">:</span> <span title=\"0.082\" style=\"background-color: rgba(254, 231, 221, 0.5);\">xxmaj</span> <span title=\"0.098\" style=\"background-color: rgba(254, 228, 216, 0.5);\">recovered</span> <span title=\"0.245\" style=\"background-color: rgba(252, 189, 163, 0.5);\">from</span> <span title=\"0.382\" style=\"background-color: rgba(251, 144, 112, 0.5);\">the</span> <span title=\"0.275\" style=\"background-color: rgba(252, 178, 151, 0.5);\">right</span> <span title=\"0.125\" style=\"background-color: rgba(253, 223, 209, 0.5);\">abdominal</span> <span title=\"0.087\" style=\"background-color: rgba(254, 230, 219, 0.5);\">wall</span> <span title=\"0.689\" style=\"background-color: rgba(220, 40, 36, 0.5);\">is</span> <span title=\"0.254\" style=\"background-color: rgba(252, 186, 160, 0.5);\">a</span> <span title=\"0.188\" style=\"background-color: rgba(252, 205, 185, 0.5);\">115.4</span> <span title=\"0.089\" style=\"background-color: rgba(254, 230, 219, 0.5);\">xxup</span> <span title=\"0.047\" style=\"background-color: rgba(254, 237, 228, 0.5);\">gn</span> <span title=\"0.196\" style=\"background-color: rgba(252, 202, 182, 0.5);\">jacketed</span> <span title=\"0.054\" style=\"background-color: rgba(254, 236, 227, 0.5);\">,</span> <span title=\"0.010\" style=\"background-color: rgba(254, 243, 238, 0.5);\">rounded</span> <span title=\"0.016\" style=\"background-color: rgba(254, 243, 237, 0.5);\">and</span> <span title=\"0.041\" style=\"background-color: rgba(254, 238, 230, 0.5);\">intact</span> <span title=\"0.252\" style=\"background-color: rgba(252, 186, 160, 0.5);\">projectile</span> <span title=\"0.071\" style=\"background-color: rgba(254, 233, 223, 0.5);\">.</span></span>"
      ],
      "text/plain": [
       "<IPython.core.display.HTML object>"
      ]
     },
     "metadata": {},
     "output_type": "display_data"
    }
   ],
   "source": [
    "interpret_result(7603)"
   ]
  },
  {
   "cell_type": "code",
   "execution_count": null,
   "metadata": {},
   "outputs": [],
   "source": []
  },
  {
   "cell_type": "code",
   "execution_count": null,
   "metadata": {},
   "outputs": [],
   "source": []
  },
  {
   "cell_type": "code",
   "execution_count": null,
   "metadata": {},
   "outputs": [],
   "source": []
  },
  {
   "cell_type": "code",
   "execution_count": null,
   "metadata": {},
   "outputs": [],
   "source": []
  },
  {
   "cell_type": "code",
   "execution_count": null,
   "metadata": {},
   "outputs": [],
   "source": []
  },
  {
   "cell_type": "code",
   "execution_count": 39,
   "metadata": {},
   "outputs": [],
   "source": [
    "valid = df.loc[df['is_valid']==True]"
   ]
  },
  {
   "cell_type": "code",
   "execution_count": 40,
   "metadata": {},
   "outputs": [
    {
     "data": {
      "text/html": [
       "<div>\n",
       "<style scoped>\n",
       "    .dataframe tbody tr th:only-of-type {\n",
       "        vertical-align: middle;\n",
       "    }\n",
       "\n",
       "    .dataframe tbody tr th {\n",
       "        vertical-align: top;\n",
       "    }\n",
       "\n",
       "    .dataframe thead th {\n",
       "        text-align: right;\n",
       "    }\n",
       "</style>\n",
       "<table border=\"1\" class=\"dataframe\">\n",
       "  <thead>\n",
       "    <tr style=\"text-align: right;\">\n",
       "      <th></th>\n",
       "      <th>label</th>\n",
       "      <th>text</th>\n",
       "      <th>is_valid</th>\n",
       "    </tr>\n",
       "  </thead>\n",
       "  <tbody>\n",
       "    <tr>\n",
       "      <th>16</th>\n",
       "      <td>Accident</td>\n",
       "      <td>\\n.MICRO.\\nNONE\\n.LOCATIONExtremity\\n.INJURYBl...</td>\n",
       "      <td>True</td>\n",
       "    </tr>\n",
       "    <tr>\n",
       "      <th>20</th>\n",
       "      <td>Accident</td>\n",
       "      <td>\\n.MICRO.\\nHeart: Negative\\n\\nLungs: Pulmonary...</td>\n",
       "      <td>True</td>\n",
       "    </tr>\n",
       "    <tr>\n",
       "      <th>22</th>\n",
       "      <td>Accident</td>\n",
       "      <td>\\n.MICRO.\\nHeart: Sections of the heart show i...</td>\n",
       "      <td>True</td>\n",
       "    </tr>\n",
       "    <tr>\n",
       "      <th>30</th>\n",
       "      <td>Accident</td>\n",
       "      <td>\\n.MICRO.\\nBRAIN: No significant, histopatholo...</td>\n",
       "      <td>True</td>\n",
       "    </tr>\n",
       "    <tr>\n",
       "      <th>32</th>\n",
       "      <td>Accident</td>\n",
       "      <td>\\n.MICRO.\\nLIVER:  Sinusoidal congestion with ...</td>\n",
       "      <td>True</td>\n",
       "    </tr>\n",
       "    <tr>\n",
       "      <th>40</th>\n",
       "      <td>Accident</td>\n",
       "      <td>\\n.MICRO.\\nNONE\\n.LOCATIONHead\\n.INJURYBlunt i...</td>\n",
       "      <td>True</td>\n",
       "    </tr>\n",
       "    <tr>\n",
       "      <th>47</th>\n",
       "      <td>Accident</td>\n",
       "      <td>\\n.MICRO.\\nNONE\\n.LOCATIONHead\\n.INJURYBlunt i...</td>\n",
       "      <td>True</td>\n",
       "    </tr>\n",
       "    <tr>\n",
       "      <th>50</th>\n",
       "      <td>Suicide</td>\n",
       "      <td>\\n.MICRO.\\nNONE\\n.LOCATIONHead and neck\\n.INJU...</td>\n",
       "      <td>True</td>\n",
       "    </tr>\n",
       "    <tr>\n",
       "      <th>53</th>\n",
       "      <td>Accident</td>\n",
       "      <td>\\n.MICRO.\\nBRAIN: No significant, histopatholo...</td>\n",
       "      <td>True</td>\n",
       "    </tr>\n",
       "    <tr>\n",
       "      <th>60</th>\n",
       "      <td>Accident</td>\n",
       "      <td>\\n.MICRO.\\nHeart: Negative\\n\\nLungs: Negative\\...</td>\n",
       "      <td>True</td>\n",
       "    </tr>\n",
       "    <tr>\n",
       "      <th>69</th>\n",
       "      <td>Suicide</td>\n",
       "      <td>\\n.MICRO.\\nNONE\\n.LOCATIONNeck\\n.INJURYHanging...</td>\n",
       "      <td>True</td>\n",
       "    </tr>\n",
       "    <tr>\n",
       "      <th>74</th>\n",
       "      <td>Suicide</td>\n",
       "      <td>\\n.MICRO.\\nNONE\\n.LOCATIONHead\\n.INJURYFirearm...</td>\n",
       "      <td>True</td>\n",
       "    </tr>\n",
       "    <tr>\n",
       "      <th>78</th>\n",
       "      <td>Accident</td>\n",
       "      <td>\\n.MICRO.\\nHEART: Patchy myocyte hypertrophy\\n...</td>\n",
       "      <td>True</td>\n",
       "    </tr>\n",
       "    <tr>\n",
       "      <th>81</th>\n",
       "      <td>Accident</td>\n",
       "      <td>\\n.MICRO.\\nNONE\\n.LOCATIONHead\\n.INJURYBlunt i...</td>\n",
       "      <td>True</td>\n",
       "    </tr>\n",
       "    <tr>\n",
       "      <th>86</th>\n",
       "      <td>Suicide</td>\n",
       "      <td>\\n.MICRO.\\nLIVER:  Normal appearing hepatocyte...</td>\n",
       "      <td>True</td>\n",
       "    </tr>\n",
       "    <tr>\n",
       "      <th>93</th>\n",
       "      <td>Accident</td>\n",
       "      <td>\\n.MICRO.\\nHEART, KIDNEYS, BRAIN: No significa...</td>\n",
       "      <td>True</td>\n",
       "    </tr>\n",
       "    <tr>\n",
       "      <th>106</th>\n",
       "      <td>Accident</td>\n",
       "      <td>\\n.MICRO.\\nNONE\\n.LOCATIONOther\\n.INJURYBlunt ...</td>\n",
       "      <td>True</td>\n",
       "    </tr>\n",
       "    <tr>\n",
       "      <th>115</th>\n",
       "      <td>Accident</td>\n",
       "      <td>\\n.MICRO.\\nNONE\\n.LOCATIONHead\\n.INJURYMultipl...</td>\n",
       "      <td>True</td>\n",
       "    </tr>\n",
       "    <tr>\n",
       "      <th>116</th>\n",
       "      <td>Accident</td>\n",
       "      <td>\\n.MICRO.\\nNONE\\n.LOCATIONChest\\n.INJURYBlunt ...</td>\n",
       "      <td>True</td>\n",
       "    </tr>\n",
       "    <tr>\n",
       "      <th>120</th>\n",
       "      <td>Accident</td>\n",
       "      <td>\\n.MICRO.\\nNONE\\n.LOCATIONHead\\n.INJURYBlunt i...</td>\n",
       "      <td>True</td>\n",
       "    </tr>\n",
       "    <tr>\n",
       "      <th>122</th>\n",
       "      <td>Suicide</td>\n",
       "      <td>\\n.MICRO.\\nNONE\\n.LOCATIONHead\\n.INJURYFirearm...</td>\n",
       "      <td>True</td>\n",
       "    </tr>\n",
       "    <tr>\n",
       "      <th>124</th>\n",
       "      <td>Suicide</td>\n",
       "      <td>\\n.MICRO.\\nNONE\\n.LOCATIONHead\\n.INJURYFirearm...</td>\n",
       "      <td>True</td>\n",
       "    </tr>\n",
       "    <tr>\n",
       "      <th>129</th>\n",
       "      <td>Accident</td>\n",
       "      <td>\\n.MICRO.\\nHeart: No significant histopatholog...</td>\n",
       "      <td>True</td>\n",
       "    </tr>\n",
       "    <tr>\n",
       "      <th>130</th>\n",
       "      <td>Accident</td>\n",
       "      <td>\\n.MICRO.\\nMUSCLE:  No significant histopathol...</td>\n",
       "      <td>True</td>\n",
       "    </tr>\n",
       "    <tr>\n",
       "      <th>133</th>\n",
       "      <td>Suicide</td>\n",
       "      <td>\\n.MICRO.\\nNONE\\n.LOCATIONHead and neck\\n.INJU...</td>\n",
       "      <td>True</td>\n",
       "    </tr>\n",
       "    <tr>\n",
       "      <th>137</th>\n",
       "      <td>Accident</td>\n",
       "      <td>\\n.MICRO.\\nHEART: mild myocyte hypertophy and ...</td>\n",
       "      <td>True</td>\n",
       "    </tr>\n",
       "    <tr>\n",
       "      <th>151</th>\n",
       "      <td>Accident</td>\n",
       "      <td>\\n.MICRO.\\nNONE\\n.LOCATIONHead\\n.INJURYBlunt i...</td>\n",
       "      <td>True</td>\n",
       "    </tr>\n",
       "    <tr>\n",
       "      <th>156</th>\n",
       "      <td>Accident</td>\n",
       "      <td>\\n.MICRO.\\nBRAIN: Rare scattered red neurons i...</td>\n",
       "      <td>True</td>\n",
       "    </tr>\n",
       "    <tr>\n",
       "      <th>159</th>\n",
       "      <td>Accident</td>\n",
       "      <td>\\n.MICRO.\\nNONE\\n.LOCATIONHead\\n.INJURYBlunt i...</td>\n",
       "      <td>True</td>\n",
       "    </tr>\n",
       "    <tr>\n",
       "      <th>160</th>\n",
       "      <td>Accident</td>\n",
       "      <td>\\n.MICRO.\\nHEART: Sections of bilateral ventri...</td>\n",
       "      <td>True</td>\n",
       "    </tr>\n",
       "    <tr>\n",
       "      <th>...</th>\n",
       "      <td>...</td>\n",
       "      <td>...</td>\n",
       "      <td>...</td>\n",
       "    </tr>\n",
       "    <tr>\n",
       "      <th>7555</th>\n",
       "      <td>Suicide</td>\n",
       "      <td>\\n.MICRO.\\nNONE\\n.LOCATIONHead\\n.INJURYFirearm...</td>\n",
       "      <td>True</td>\n",
       "    </tr>\n",
       "    <tr>\n",
       "      <th>7557</th>\n",
       "      <td>Accident</td>\n",
       "      <td>\\n.MICRO.\\nNONE\\n.LOCATIONHead\\n.INJURYBlunt i...</td>\n",
       "      <td>True</td>\n",
       "    </tr>\n",
       "    <tr>\n",
       "      <th>7558</th>\n",
       "      <td>Suicide</td>\n",
       "      <td>\\n.MICRO.\\nNONE\\n.LOCATIONHead\\n.INJURYFirearm...</td>\n",
       "      <td>True</td>\n",
       "    </tr>\n",
       "    <tr>\n",
       "      <th>7562</th>\n",
       "      <td>Homicide</td>\n",
       "      <td>\\n.MICRO.\\nHEART: scattered epicardial and int...</td>\n",
       "      <td>True</td>\n",
       "    </tr>\n",
       "    <tr>\n",
       "      <th>7564</th>\n",
       "      <td>Accident</td>\n",
       "      <td>\\n.MICRO.\\nNONE\\n.LOCATIONHead\\n.INJURYMultipl...</td>\n",
       "      <td>True</td>\n",
       "    </tr>\n",
       "    <tr>\n",
       "      <th>7566</th>\n",
       "      <td>Suicide</td>\n",
       "      <td>\\n.MICRO.\\nNONE\\n.LOCATIONHead\\n.INJURYFirearm...</td>\n",
       "      <td>True</td>\n",
       "    </tr>\n",
       "    <tr>\n",
       "      <th>7569</th>\n",
       "      <td>Accident</td>\n",
       "      <td>\\n.MICRO.\\nBRAIN: Perivascular and intraparenc...</td>\n",
       "      <td>True</td>\n",
       "    </tr>\n",
       "    <tr>\n",
       "      <th>7570</th>\n",
       "      <td>Accident</td>\n",
       "      <td>\\n.MICRO.\\nHeart: Marked autolysis. No patholo...</td>\n",
       "      <td>True</td>\n",
       "    </tr>\n",
       "    <tr>\n",
       "      <th>7586</th>\n",
       "      <td>Accident</td>\n",
       "      <td>\\n.MICRO.\\nLUNG: Extravasated erythrocytes and...</td>\n",
       "      <td>True</td>\n",
       "    </tr>\n",
       "    <tr>\n",
       "      <th>7587</th>\n",
       "      <td>Accident</td>\n",
       "      <td>\\n.MICRO.\\nNONE\\n.LOCATIONTrunk\\n.INJURYBlunt ...</td>\n",
       "      <td>True</td>\n",
       "    </tr>\n",
       "    <tr>\n",
       "      <th>7589</th>\n",
       "      <td>Accident</td>\n",
       "      <td>\\n.MICRO.\\nNONE\\n.LOCATIONTrunk\\n.INJURYBlunt ...</td>\n",
       "      <td>True</td>\n",
       "    </tr>\n",
       "    <tr>\n",
       "      <th>7603</th>\n",
       "      <td>Homicide</td>\n",
       "      <td>\\n.MICRO.\\nHeart-No histopathologic abnormalit...</td>\n",
       "      <td>True</td>\n",
       "    </tr>\n",
       "    <tr>\n",
       "      <th>7604</th>\n",
       "      <td>Suicide</td>\n",
       "      <td>\\n.MICRO.\\nNONE\\n.LOCATIONNeck\\n.INJURYHanging...</td>\n",
       "      <td>True</td>\n",
       "    </tr>\n",
       "    <tr>\n",
       "      <th>7607</th>\n",
       "      <td>Accident</td>\n",
       "      <td>\\n.MICRO.\\nNONE\\n.LOCATIONHead and neck\\n.INJU...</td>\n",
       "      <td>True</td>\n",
       "    </tr>\n",
       "    <tr>\n",
       "      <th>7612</th>\n",
       "      <td>Accident</td>\n",
       "      <td>\\n.MICRO.\\nHeart: Subendocardial myocyte pallo...</td>\n",
       "      <td>True</td>\n",
       "    </tr>\n",
       "    <tr>\n",
       "      <th>7625</th>\n",
       "      <td>Suicide</td>\n",
       "      <td>\\n.MICRO.\\nNONE\\n.LOCATIONHead\\n.INJURYFirearm...</td>\n",
       "      <td>True</td>\n",
       "    </tr>\n",
       "    <tr>\n",
       "      <th>7626</th>\n",
       "      <td>Accident</td>\n",
       "      <td>\\n.MICRO.\\nNONE\\n.LOCATIONHead\\n.INJURYBlunt i...</td>\n",
       "      <td>True</td>\n",
       "    </tr>\n",
       "    <tr>\n",
       "      <th>7631</th>\n",
       "      <td>Suicide</td>\n",
       "      <td>\\n.MICRO.\\nBRAIN: Mild thickening of the lepto...</td>\n",
       "      <td>True</td>\n",
       "    </tr>\n",
       "    <tr>\n",
       "      <th>7634</th>\n",
       "      <td>Accident</td>\n",
       "      <td>\\n.MICRO.\\nHeart: Occasional hypertrophic and ...</td>\n",
       "      <td>True</td>\n",
       "    </tr>\n",
       "    <tr>\n",
       "      <th>7640</th>\n",
       "      <td>Accident</td>\n",
       "      <td>\\n.MICRO.\\nNONE\\n.LOCATIONHead and neck\\n.INJU...</td>\n",
       "      <td>True</td>\n",
       "    </tr>\n",
       "    <tr>\n",
       "      <th>7642</th>\n",
       "      <td>Suicide</td>\n",
       "      <td>\\n.MICRO.\\nMicroscopic Description:\\n\\nThe liv...</td>\n",
       "      <td>True</td>\n",
       "    </tr>\n",
       "    <tr>\n",
       "      <th>7645</th>\n",
       "      <td>Accident</td>\n",
       "      <td>\\n.MICRO.\\nNONE\\n.LOCATIONHead\\n.INJURYBlunt i...</td>\n",
       "      <td>True</td>\n",
       "    </tr>\n",
       "    <tr>\n",
       "      <th>7649</th>\n",
       "      <td>Homicide</td>\n",
       "      <td>\\n.MICRO.\\nHeart: No significant histopatholog...</td>\n",
       "      <td>True</td>\n",
       "    </tr>\n",
       "    <tr>\n",
       "      <th>7652</th>\n",
       "      <td>Suicide</td>\n",
       "      <td>\\n.MICRO.\\nNONE\\n.LOCATIONNeck\\n.INJURYHanging...</td>\n",
       "      <td>True</td>\n",
       "    </tr>\n",
       "    <tr>\n",
       "      <th>7654</th>\n",
       "      <td>Accident</td>\n",
       "      <td>\\n.MICRO.\\nNONE\\n.LOCATIONHead\\n.INJURYBlunt i...</td>\n",
       "      <td>True</td>\n",
       "    </tr>\n",
       "    <tr>\n",
       "      <th>7663</th>\n",
       "      <td>Homicide</td>\n",
       "      <td>\\n.MICRO.\\nHEART - No significant histopatholo...</td>\n",
       "      <td>True</td>\n",
       "    </tr>\n",
       "    <tr>\n",
       "      <th>7666</th>\n",
       "      <td>Accident</td>\n",
       "      <td>\\n.MICRO.\\nHEART:  Congestion and edema.  Some...</td>\n",
       "      <td>True</td>\n",
       "    </tr>\n",
       "    <tr>\n",
       "      <th>7670</th>\n",
       "      <td>Accident</td>\n",
       "      <td>\\n.MICRO.\\nBRAIN (LEFT HIPPOCAMPUS, LEFT CEREB...</td>\n",
       "      <td>True</td>\n",
       "    </tr>\n",
       "    <tr>\n",
       "      <th>7672</th>\n",
       "      <td>Homicide</td>\n",
       "      <td>\\n.MICRO.\\nHEART: Occasional, hypertrophic myo...</td>\n",
       "      <td>True</td>\n",
       "    </tr>\n",
       "    <tr>\n",
       "      <th>7674</th>\n",
       "      <td>Accident</td>\n",
       "      <td>\\n.MICRO.\\nBRAIN: No significant, histopatholo...</td>\n",
       "      <td>True</td>\n",
       "    </tr>\n",
       "  </tbody>\n",
       "</table>\n",
       "<p>1536 rows × 3 columns</p>\n",
       "</div>"
      ],
      "text/plain": [
       "         label                                               text  is_valid\n",
       "16    Accident  \\n.MICRO.\\nNONE\\n.LOCATIONExtremity\\n.INJURYBl...      True\n",
       "20    Accident  \\n.MICRO.\\nHeart: Negative\\n\\nLungs: Pulmonary...      True\n",
       "22    Accident  \\n.MICRO.\\nHeart: Sections of the heart show i...      True\n",
       "30    Accident  \\n.MICRO.\\nBRAIN: No significant, histopatholo...      True\n",
       "32    Accident  \\n.MICRO.\\nLIVER:  Sinusoidal congestion with ...      True\n",
       "40    Accident  \\n.MICRO.\\nNONE\\n.LOCATIONHead\\n.INJURYBlunt i...      True\n",
       "47    Accident  \\n.MICRO.\\nNONE\\n.LOCATIONHead\\n.INJURYBlunt i...      True\n",
       "50     Suicide  \\n.MICRO.\\nNONE\\n.LOCATIONHead and neck\\n.INJU...      True\n",
       "53    Accident  \\n.MICRO.\\nBRAIN: No significant, histopatholo...      True\n",
       "60    Accident  \\n.MICRO.\\nHeart: Negative\\n\\nLungs: Negative\\...      True\n",
       "69     Suicide  \\n.MICRO.\\nNONE\\n.LOCATIONNeck\\n.INJURYHanging...      True\n",
       "74     Suicide  \\n.MICRO.\\nNONE\\n.LOCATIONHead\\n.INJURYFirearm...      True\n",
       "78    Accident  \\n.MICRO.\\nHEART: Patchy myocyte hypertrophy\\n...      True\n",
       "81    Accident  \\n.MICRO.\\nNONE\\n.LOCATIONHead\\n.INJURYBlunt i...      True\n",
       "86     Suicide  \\n.MICRO.\\nLIVER:  Normal appearing hepatocyte...      True\n",
       "93    Accident  \\n.MICRO.\\nHEART, KIDNEYS, BRAIN: No significa...      True\n",
       "106   Accident  \\n.MICRO.\\nNONE\\n.LOCATIONOther\\n.INJURYBlunt ...      True\n",
       "115   Accident  \\n.MICRO.\\nNONE\\n.LOCATIONHead\\n.INJURYMultipl...      True\n",
       "116   Accident  \\n.MICRO.\\nNONE\\n.LOCATIONChest\\n.INJURYBlunt ...      True\n",
       "120   Accident  \\n.MICRO.\\nNONE\\n.LOCATIONHead\\n.INJURYBlunt i...      True\n",
       "122    Suicide  \\n.MICRO.\\nNONE\\n.LOCATIONHead\\n.INJURYFirearm...      True\n",
       "124    Suicide  \\n.MICRO.\\nNONE\\n.LOCATIONHead\\n.INJURYFirearm...      True\n",
       "129   Accident  \\n.MICRO.\\nHeart: No significant histopatholog...      True\n",
       "130   Accident  \\n.MICRO.\\nMUSCLE:  No significant histopathol...      True\n",
       "133    Suicide  \\n.MICRO.\\nNONE\\n.LOCATIONHead and neck\\n.INJU...      True\n",
       "137   Accident  \\n.MICRO.\\nHEART: mild myocyte hypertophy and ...      True\n",
       "151   Accident  \\n.MICRO.\\nNONE\\n.LOCATIONHead\\n.INJURYBlunt i...      True\n",
       "156   Accident  \\n.MICRO.\\nBRAIN: Rare scattered red neurons i...      True\n",
       "159   Accident  \\n.MICRO.\\nNONE\\n.LOCATIONHead\\n.INJURYBlunt i...      True\n",
       "160   Accident  \\n.MICRO.\\nHEART: Sections of bilateral ventri...      True\n",
       "...        ...                                                ...       ...\n",
       "7555   Suicide  \\n.MICRO.\\nNONE\\n.LOCATIONHead\\n.INJURYFirearm...      True\n",
       "7557  Accident  \\n.MICRO.\\nNONE\\n.LOCATIONHead\\n.INJURYBlunt i...      True\n",
       "7558   Suicide  \\n.MICRO.\\nNONE\\n.LOCATIONHead\\n.INJURYFirearm...      True\n",
       "7562  Homicide  \\n.MICRO.\\nHEART: scattered epicardial and int...      True\n",
       "7564  Accident  \\n.MICRO.\\nNONE\\n.LOCATIONHead\\n.INJURYMultipl...      True\n",
       "7566   Suicide  \\n.MICRO.\\nNONE\\n.LOCATIONHead\\n.INJURYFirearm...      True\n",
       "7569  Accident  \\n.MICRO.\\nBRAIN: Perivascular and intraparenc...      True\n",
       "7570  Accident  \\n.MICRO.\\nHeart: Marked autolysis. No patholo...      True\n",
       "7586  Accident  \\n.MICRO.\\nLUNG: Extravasated erythrocytes and...      True\n",
       "7587  Accident  \\n.MICRO.\\nNONE\\n.LOCATIONTrunk\\n.INJURYBlunt ...      True\n",
       "7589  Accident  \\n.MICRO.\\nNONE\\n.LOCATIONTrunk\\n.INJURYBlunt ...      True\n",
       "7603  Homicide  \\n.MICRO.\\nHeart-No histopathologic abnormalit...      True\n",
       "7604   Suicide  \\n.MICRO.\\nNONE\\n.LOCATIONNeck\\n.INJURYHanging...      True\n",
       "7607  Accident  \\n.MICRO.\\nNONE\\n.LOCATIONHead and neck\\n.INJU...      True\n",
       "7612  Accident  \\n.MICRO.\\nHeart: Subendocardial myocyte pallo...      True\n",
       "7625   Suicide  \\n.MICRO.\\nNONE\\n.LOCATIONHead\\n.INJURYFirearm...      True\n",
       "7626  Accident  \\n.MICRO.\\nNONE\\n.LOCATIONHead\\n.INJURYBlunt i...      True\n",
       "7631   Suicide  \\n.MICRO.\\nBRAIN: Mild thickening of the lepto...      True\n",
       "7634  Accident  \\n.MICRO.\\nHeart: Occasional hypertrophic and ...      True\n",
       "7640  Accident  \\n.MICRO.\\nNONE\\n.LOCATIONHead and neck\\n.INJU...      True\n",
       "7642   Suicide  \\n.MICRO.\\nMicroscopic Description:\\n\\nThe liv...      True\n",
       "7645  Accident  \\n.MICRO.\\nNONE\\n.LOCATIONHead\\n.INJURYBlunt i...      True\n",
       "7649  Homicide  \\n.MICRO.\\nHeart: No significant histopatholog...      True\n",
       "7652   Suicide  \\n.MICRO.\\nNONE\\n.LOCATIONNeck\\n.INJURYHanging...      True\n",
       "7654  Accident  \\n.MICRO.\\nNONE\\n.LOCATIONHead\\n.INJURYBlunt i...      True\n",
       "7663  Homicide  \\n.MICRO.\\nHEART - No significant histopatholo...      True\n",
       "7666  Accident  \\n.MICRO.\\nHEART:  Congestion and edema.  Some...      True\n",
       "7670  Accident  \\n.MICRO.\\nBRAIN (LEFT HIPPOCAMPUS, LEFT CEREB...      True\n",
       "7672  Homicide  \\n.MICRO.\\nHEART: Occasional, hypertrophic myo...      True\n",
       "7674  Accident  \\n.MICRO.\\nBRAIN: No significant, histopatholo...      True\n",
       "\n",
       "[1536 rows x 3 columns]"
      ]
     },
     "execution_count": 40,
     "metadata": {},
     "output_type": "execute_result"
    }
   ],
   "source": [
    "valid"
   ]
  },
  {
   "cell_type": "code",
   "execution_count": null,
   "metadata": {},
   "outputs": [],
   "source": []
  },
  {
   "cell_type": "code",
   "execution_count": null,
   "metadata": {},
   "outputs": [],
   "source": []
  },
  {
   "cell_type": "code",
   "execution_count": null,
   "metadata": {},
   "outputs": [],
   "source": []
  },
  {
   "cell_type": "code",
   "execution_count": null,
   "metadata": {},
   "outputs": [],
   "source": []
  },
  {
   "cell_type": "code",
   "execution_count": 41,
   "metadata": {},
   "outputs": [
    {
     "data": {
      "text/plain": [
       "\"for i in range(0,3040):\\n    example = df['text'][i]\\n    label = df['label'][i]\\n    val = df['is_valid'][i]\\n    prediction_class = learn.predict(example)[0]\\n    if str(label) != str(prediction_class):\\n        print(i, label, prediction_class, val)\\n\""
      ]
     },
     "execution_count": 41,
     "metadata": {},
     "output_type": "execute_result"
    }
   ],
   "source": [
    "'''for i in range(0,3040):\n",
    "    example = df['text'][i]\n",
    "    label = df['label'][i]\n",
    "    val = df['is_valid'][i]\n",
    "    prediction_class = learn.predict(example)[0]\n",
    "    if str(label) != str(prediction_class):\n",
    "        print(i, label, prediction_class, val)\n",
    "'''"
   ]
  },
  {
   "cell_type": "code",
   "execution_count": null,
   "metadata": {},
   "outputs": [],
   "source": []
  },
  {
   "cell_type": "code",
   "execution_count": null,
   "metadata": {},
   "outputs": [],
   "source": []
  },
  {
   "cell_type": "code",
   "execution_count": null,
   "metadata": {},
   "outputs": [],
   "source": []
  },
  {
   "cell_type": "code",
   "execution_count": null,
   "metadata": {},
   "outputs": [],
   "source": []
  },
  {
   "cell_type": "code",
   "execution_count": null,
   "metadata": {},
   "outputs": [],
   "source": []
  }
 ],
 "metadata": {
  "kernelspec": {
   "display_name": "Python 3",
   "language": "python",
   "name": "python3"
  },
  "language_info": {
   "codemirror_mode": {
    "name": "ipython",
    "version": 3
   },
   "file_extension": ".py",
   "mimetype": "text/x-python",
   "name": "python",
   "nbconvert_exporter": "python",
   "pygments_lexer": "ipython3",
   "version": "3.6.5"
  }
 },
 "nbformat": 4,
 "nbformat_minor": 2
}
