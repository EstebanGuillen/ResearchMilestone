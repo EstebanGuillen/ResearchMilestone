{
 "cells": [
  {
   "cell_type": "code",
   "execution_count": 1,
   "metadata": {},
   "outputs": [],
   "source": [
    "%reload_ext autoreload\n",
    "%autoreload 2\n",
    "%matplotlib inline"
   ]
  },
  {
   "cell_type": "code",
   "execution_count": 2,
   "metadata": {},
   "outputs": [],
   "source": [
    "from fastai.text import *\n",
    "from pathlib import Path\n",
    "import pandas as pd"
   ]
  },
  {
   "cell_type": "code",
   "execution_count": 3,
   "metadata": {},
   "outputs": [],
   "source": [
    "#path = Path('/home/ubuntu/data/autopsy/milestone/suicide_homicide_accident/no_preprocessing')\n",
    "path = Path('/nfs/research/ejguill/data/autopsy/no_preprocessing/folds/tmp')\n"
   ]
  },
  {
   "cell_type": "code",
   "execution_count": 4,
   "metadata": {},
   "outputs": [],
   "source": [
    "df = pd.read_csv(path/'data.csv')\n",
    "#df.head()"
   ]
  },
  {
   "cell_type": "code",
   "execution_count": 5,
   "metadata": {},
   "outputs": [],
   "source": [
    "#df.tail()"
   ]
  },
  {
   "cell_type": "code",
   "execution_count": 6,
   "metadata": {},
   "outputs": [
    {
     "data": {
      "text/plain": [
       "'\\n.MICRO.\\nHeart - no significant histopathology\\n\\nLungs - congestion, no significant histopathology\\n\\nKidneys - no significant histopathology\\n\\nLiver - no significant histopathology\\n\\nHippocampus - no significant histopathology\\n.LOCATIONExtremities\\n.INJURYBlunt injury.\\n.INJURYDESC.\\nHealing abrasions measuring from 0.1 to 0.2 cm are on the posterior right hand.\\n \\nA 0.2 x 1.1 cm healing abrasion is in the left inguinal fold. \\n\\n\\n\\n.LOCATIONHead\\n.INJURYBlunt injury.\\n.INJURYDESC.\\nA 0.9 x 0.6 cm abrasion is on the right side of the chin. '"
      ]
     },
     "execution_count": 6,
     "metadata": {},
     "output_type": "execute_result"
    }
   ],
   "source": [
    "df['text'][1]"
   ]
  },
  {
   "cell_type": "code",
   "execution_count": 7,
   "metadata": {},
   "outputs": [
    {
     "data": {
      "text/plain": [
       "'\\n.MICRO.\\nNONE\\n.LOCATIONExtremities\\n.INJURYBlunt injury.\\n.INJURYDESC.\\nSKIN AND DEEP SOFT TISSUES \\n\\nParchment-like brown and red abrasions are extensive over bony prominences.  \\n\\nA gaping laceration is in the skin of the right thenar eminence.\\n\\nA gaping laceration is in the proximal anterior left shin.\\n\\n\\nSKELETAL ELEMENTS\\n\\nNo palpable fractures.\\n\\n\\n.LOCATIONTrunk\\n.INJURYBlunt injury.\\n.INJURYDESC.\\nSKIN AND DEEP SOFT TISSUES OF THE CHEST AND ABDOMEN\\n\\nExtensive linear red and brown parchment-like abrasions are across the skin of the chest and abdomen.  \\n\\n\\nSKIN AND DEEP SOFT TISSUES OF THE BACK\\n\\nExtensive linear and irregular red and brown parchment-like abrasions are across the skin of the back (left paramidline and left lower back greater than right).\\n\\n\\nRIBS AND STERNUM\\n\\nExtensive fractures are palpable in the anterior ribs arcs.\\n\\n\\nCLAVICLES\\n\\nNo palpable fractures.\\n\\n\\nSCAPULAE\\n\\nNo palpable fractures.\\n\\n\\nVERTEBRAL COLUMN\\n\\nNo palpable fractures.\\n\\n\\n.LOCATIONHead\\n.INJURYBlunt injury.\\n.INJURYDESC.\\nFACE\\n\\nAn abraded purple ecchymosis extends from the right supraorbital margin into the right paramidline frontal forehead.  Patchy purple abrasions are on the left cheek along the malar prominence.  \\n\\n\\nSCALP\\n\\nAtraumatic.\\n\\n\\nFACIAL SKELETON\\n\\nNo palpable fractures.\\n\\n\\nCALVARIUM\\n\\nNo palpable fractures.'"
      ]
     },
     "execution_count": 7,
     "metadata": {},
     "output_type": "execute_result"
    }
   ],
   "source": [
    "df['text'][0]"
   ]
  },
  {
   "cell_type": "code",
   "execution_count": 8,
   "metadata": {},
   "outputs": [
    {
     "data": {
      "text/plain": [
       "'\\n.MICRO.\\nNONE\\n.LOCATIONNeck\\n.INJURYHanging.\\n.INJURYDESC.\\nEncircling the neck is a 1.0 cm brown abraded ligaure furrow which crosses over the thyroid cartilage at the midline and cants upwards and backwards toward the nape of the neck lying 4.0 cm below the right ear and 1.5 cm below the left ear. No other neck trauma is noted. \\n\\nOverlying the ligature furrow is a 1.0 cm wide white rope ligature tied in a noose-type knot. '"
      ]
     },
     "execution_count": 8,
     "metadata": {},
     "output_type": "execute_result"
    }
   ],
   "source": [
    "df['text'][2]"
   ]
  },
  {
   "cell_type": "code",
   "execution_count": 9,
   "metadata": {},
   "outputs": [
    {
     "data": {
      "text/plain": [
       "\"\\n.MICRO.\\nHeart: No diagnostic abnormality.  \\n\\nLungs: No diagnostic abnormality.  \\n\\nLiver: There is a nodular proliferation demarcated by intersecting fibrous septae. The periphery of the nodules shows bile ductular proliferation and lymphocytes. The background liver shows minimal macrosteatosis with mild lymphocytic portal inflammation and rare mixed lobular inflammation.\\n\\nKidney: There are multifocal tubular calcifications.\\n\\nBrain: A section of the hippocampus shows scattered mild acute hypoxic-ischemic type changes.\\n\\n.LOCATIONBack\\n.INJURYFirearm injury.\\n.INJURYDESC.\\nPERFORATING GUNSHOT WOUND OF BACK\\n\\nGUNSHOT ENTRANCE WOUND, INDETERMINATE RANGE OF FIRE:\\nOn the right aspect of the back, in the subscapular region, 40.5 cm below the top of the head and 12.5 cm right of the posterior midline, is an ovoid 2.0 cm x 0.6 cm gunshot entrance wound with a 0.1 to 0.4 cm wide pink marginal abrasion from 1 o'clock to 9 oâ\\x80\\x99clock that is widest at 3 oâ\\x80\\x99clock. A 3 x 2 cm faint blue contusion extends laterally from the gaping defect. Two purple linear contusions, 1.0 x 0.2 cm and 0.3 x 0.2 cm, project from the the inferior lateral edge of the gaping defect. Soot, unburned gunpowder particles and gunpowder stippling are not visible on the skin surrounding the wound.\\n\\nPATHWAY:\\nThe hemorrhagic wound track sequentially perforates the skin, subcutaneous soft tissues, posterior aspect of the right 10th rib, the lower lobe of the right lung, the esophagus, the pericardium, the posterior aspect of the left atrium, the pericardium, the upper lobe of the left lung, the anterior aspect of the left 2nd intercostal space, the left axillary soft tissue, and the anterior left shoulder skin. \\n\\nAssociated injuries include right hemopneumothorax (1,000 mL), left hemopneumothorax (450 mL), hemopericardium (20 mL), and posterior right 10th rib fracture.\\n\\nGUNSHOT EXIT WOUND:\\nLocated on the anterior aspect of the left shoulder, 28.5 cm below the top of the head and 20.5 cm left of the anterior midline, is an exit gunshot wound consisting of a 2.2 cm laceration without marginal abrasion and skin tag at 1 oâ\\x80\\x99clock. A 2 x 0.8 cm green contusion extends from 1 oâ\\x80\\x99clock.  \\n\\nTRAJECTORY: \\nThe wound track travels from the decedentâ\\x80\\x99s right to left, back to front, and upward.\\n\\nPROJECTILE:\\nNone recovered.\\n\\n\\nClothing:\\nOn the back and left shoulder areas of the shirt and back area of the undershirt and likely corresponding to the entrance and exit gunshot wounds are defects with frayed edges. Soot or unburned gunpowder particles are not visible on the fabric surrounding the defect.\\n\\n.LOCATIONHead\\n.INJURYBlunt injury.\\n.INJURYDESC.\\nA 2 x 2 cm green contusion is on the right aspect of the forehead. A 3 x 2 cm red-purple contusion is on the lateral and right aspect of the chin. A 5.5 x 3 cm green-purple contusion is on the left lateral chin. \\n\\n.LOCATIONTrunk\\n.INJURYBlunt injury.\\n.INJURYDESC.\\nScattered 0.5 to 1 cm green contusions are on the upper anterior chest.\\n\\n.LOCATIONExtremities\\n.INJURYBlunt injury.\\n.INJURYDESC.\\nRIGHT UPPER:\\n\\nA 1 x 0.7 cm green contusion and a 1 x 0.5 cm red contusion are on the anterior lateral arm. A 2 x 0.5 cm red contusion is on the dorsal wrist.\\n\\nLEFT UPPER:\\n\\nA 1.5 x 1 cm green contusion with a 1 x 0.1 cm red crusted abrasion is in the left antecubital fossa. On posterior arm, are a 1 x 1 cm green contusion, 2.5 x 2 cm green contusion, and 1 x 1 cm red contusion.\\n\\nRIGHT LOWER:\\n\\nOn the anterior medial thigh are a 1 x 1 cm red contusion and a 1 x 0.8 cm red contusion. Underlying gauze and band-aids on the anterior thigh are two linear crusted red abrasions, measuring  3 x 0.1 cm and 6 x 0.2 cm. A 2 x 1.5 cm purple contusion is on the knee. A 9 x 4.5 cm red contusion is on the shin. A 1 x 0.2 cm superficial laceration is on the medial ankle.\\n\\nLEFT LOWER:\\n\\nScattered 0.5 to 1.5 cm purple contusions are on the anterior thigh. A 5 x 3.5 cm purple contusion is on the shin. A 3 x 1.5 cm faint purple contusion is on the anterior ankle.  On the medial thigh are red contusions, measuring 2.5 x 2 cm and 1 x 1 cm.\""
      ]
     },
     "execution_count": 9,
     "metadata": {},
     "output_type": "execute_result"
    }
   ],
   "source": [
    "df['text'][4]"
   ]
  },
  {
   "cell_type": "code",
   "execution_count": 10,
   "metadata": {},
   "outputs": [
    {
     "data": {
      "text/plain": [
       "'\\n.MICRO.\\nMicroscopic Description:\\n\\nPlease note that due to decomposition, many of the representative sections have moderate to severe autolytic changes.\\n\\nThe liver is severely autolyzed without significant inflammation or fibrosis.\\n\\nThe pancreas is severely autolyzed without residual islets or acini. There is moderate fibrosis without significant inflammation.\\n\\nThe left kidney has an appropriate number of glomeruli without significant sclerosis or inflammation. The tubules have moderate autolytic change without inflammation, tubule drop out or fibrosis. No polarizable material is present.\\n\\nThe heart has no significant inflammation or fibrosis. The cardiac myocytes are unremarkable. The myocardial vessels are patent without significant medial hypertrophy or thrombosis.\\n\\nThe lungs have moderate autolytic changes without significant inflammation or fibrosis. No polarizable material is present.\\n\\nThe left cerebellum has no neuronal loss, inflammation, gliosis or hypoxic-ischemic changes.\\n.LOCATIONHead\\n.INJURYBlunt injury.\\n.INJURYDESC.\\nUnder the central and right frontal scalp is a 12 x 7 cm subscalpular and subgaleal hemorrhage which involves the anterior right temporalis muscle.'"
      ]
     },
     "execution_count": 10,
     "metadata": {},
     "output_type": "execute_result"
    }
   ],
   "source": [
    "df['text'][3038]"
   ]
  },
  {
   "cell_type": "code",
   "execution_count": 11,
   "metadata": {},
   "outputs": [
    {
     "data": {
      "text/plain": [
       "'\\n.MICRO.\\nBrain: The brain is contused, but there are no definite ischemic changes.\\n\\nHeart: There is a mild increase in interstitial fibrosis in the right ventricle at the subendocardial surface.\\n\\nLungs: The alveolar air spaces are filled with blood, and there are some mild-moderate emphysematous changes.\\n\\nLiver: There is an increase in steatosis (~50%), and there is a mild increase in lobular neutrophilic inflammation without an increase in fibrosis.\\n\\nKidney: There is a mild increase in glomerulosclerosis, and the arterioles are mildly thickened.  There is some chronic interstitial atrophy.\\n.LOCATIONHead\\n.INJURYFirearm injury.\\n.INJURYDESC.\\nGUNSHOT WOUND OF HEAD\\n\\nEntrance:\\n\\nOn the hard palate, 14 cm below the top of the head and 0.5 cm right of the anterior midline, is an entrance gunshot wound consisting of a 0.8 x 1.2 cm irregular-oval defect with a 0.8 x 1.3 cm thin discontinuous rim of pink marginal abrasion that is widest at 3 oâ\\x80\\x99clock. Soot, unburned gunpowder particles and gunpowder stippling are visible on the palate surrounding the wound over an area of 2.5 x 4 cm.\\n\\nPath:\\n\\nThe hemorrhagic wound track sequentially perforates the hard palate, basilar skull, and brain and penetrates the right parietal skull.  The missile comes to rest in the right hemisphere of the brain.\\n\\nAssociated injuries include subgaleal hemorrhage around the vertex scalp, 20 x 15 cm, subarachnoid and subdural hemorrhage, laceration of the right posterior cerebral artery, laceration of the right midbrain, basal ganglia, and parietal cortex, contusion of the left inferior temporal lobe, and fractures of the maxilla, basilar skull, and calvarium.\\n\\nRetained: One orange-brown metallic projectile (Missle recovered from brain @ 87.8 GNs) was recovered for evidence.\\n\\nTrajectory:\\n \\nThe wound track travels from the decedentâ\\x80\\x99s front to back, upward, and slightly left to right.\\n\\nClothing:\\n\\nThere are no holes in the clothing that correspond to gunshot wounds.\\n\\n\\n.LOCATIONExtremity\\n.INJURYBlunt injury.\\n.INJURYDESC.\\nOn the left medial hand and forearm, there are multiple lacerations, 0.3 - 1.0 cm, the largest of which has partial skin avulsion over an area of 0.3 x 1.0 cm.\\n\\n.LOCATIONExtremity\\n.INJURYBlunt injury.\\n.INJURYDESC.\\nThere are multiple abrasions, some of which have scabs, on the right shoulder, right anterior-lateral upper arm, right lateral forearm, right superior chest, and right superior anterior abdomen measuring from 0.2 - 1.2 cm in maximum dimension.\\n\\n.LOCATIONHead\\n.INJURYBlunt injury.\\n.INJURYDESC.\\nThere are multiple abrasions of the face, 0.2 - 0.5 cm.  There is periorbital ecchymosis of the right eye, 4 x 1.5 cm.'"
      ]
     },
     "execution_count": 11,
     "metadata": {},
     "output_type": "execute_result"
    }
   ],
   "source": [
    "df['text'][3040]"
   ]
  },
  {
   "cell_type": "code",
   "execution_count": 12,
   "metadata": {},
   "outputs": [
    {
     "data": {
      "text/plain": [
       "'\\n.MICRO.\\nHeart: Section shows areas of myocyte hypertrophy.\\n\\nLung: Section shows pigment-laden macrophages and extravasated red blood cells within alveolar spaces. No polarizable material is present.\\n\\nLiver: Section shows central vein and centrilobular sinusoidal dilation. There is mildly increased portal fibrosis and rare areas of bridging fibrosis.\\n\\nKidney: Section shows scattered sclerotic glomeruli.\\n.LOCATIONExtremity\\n.INJURYThermal injury.\\n.INJURYDESC.\\nThe dorsal left hand and dorsal surfaces of the left 3rd, 4th, and 5th digits show superficial thermal injury, consisting of scattered skin blisters.'"
      ]
     },
     "execution_count": 12,
     "metadata": {},
     "output_type": "execute_result"
    }
   ],
   "source": [
    "df['text'][3041]"
   ]
  },
  {
   "cell_type": "code",
   "execution_count": 13,
   "metadata": {},
   "outputs": [],
   "source": [
    "bs=32"
   ]
  },
  {
   "cell_type": "code",
   "execution_count": 14,
   "metadata": {},
   "outputs": [],
   "source": [
    "data_clas = TextClasDataBunch.from_csv(path, 'data.csv', bs=bs)"
   ]
  },
  {
   "cell_type": "code",
   "execution_count": 15,
   "metadata": {},
   "outputs": [
    {
     "data": {
      "text/html": [
       "<table>  <col width='90%'>  <col width='10%'>  <tr>\n",
       "    <th>text</th>\n",
       "    <th>target</th>\n",
       "  </tr>\n",
       "  <tr>\n",
       "    <th>xxbos \\n xxup .micro . \\n xxmaj heart - no significant histopathology \\n\\n xxmaj lungs - patchy extravasation of red blood cells into the intra - alveolar space \\n\\n xxmaj kidneys - no significant histopathology \\n\\n xxmaj liver - no significant histopathology \\n\\n xxmaj hippocampus - no significant histopathology \\n\\n xxmaj xxunk - vaginal , anal , and oral smears negative for xxunk components . \\n .locationhead and neck \\n</th>\n",
       "    <th>Homicide</th>\n",
       "  </tr>\n",
       "  <tr>\n",
       "    <th>xxbos \\n xxup .micro . \\n xxup brain : xxmaj no significant , histopathologic findings \\n\\n xxup heart : xxmaj no significant , histopathologic findings \\n\\n xxup lungs : xxmaj no significant , histopathologic findings \\n\\n xxup kidneys : xxmaj no significant , histopathologic findings \\n\\n xxup liver : xxmaj no significant , histopathologic findings \\n\\n\\n .locationextremity \\n .injurysharp injury . \\n xxup .injurydesc . \\n xxmaj on the anterior</th>\n",
       "    <th>Homicide</th>\n",
       "  </tr>\n",
       "  <tr>\n",
       "    <th>xxbos \\n xxup .micro . \\n xxup heart : xxmaj no significant histopathologic diagnosis . \\n\\n xxup lungs : xxmaj there is patchy blood within alveolar spaces . \\n\\n xxup liver : xxmaj there is diffuse autolysis . xxmaj inflammation is periportal and consists predominantly of lymphocytes and some neutrophils . \\n\\n xxup kidney : xxmaj tubular autolysis and no significant histopathologic diagnosis . \\n\\n xxup uterus : xxmaj non</th>\n",
       "    <th>Homicide</th>\n",
       "  </tr>\n",
       "  <tr>\n",
       "    <th>xxbos \\n xxup .micro . \\n xxmaj heart : xxmaj sections of the heart are predominantly autolyzed but show increased perivascular fibrosis in the left ventricle , right ventricle , and interventricular septum . \\n\\n xxmaj lungs : xxmaj sections of the lungs are predominantly autolyzed but show multifocal carbon pigment . xxmaj the right lung contains intra - alveolar intact red blood cells . \\n\\n xxmaj kidney : a</th>\n",
       "    <th>Homicide</th>\n",
       "  </tr>\n",
       "  <tr>\n",
       "    <th>xxbos \\n xxup .micro . \\n xxup heart : mild myocyte hypertrophy \\n\\n xxup lung : patchy atelectasis , perivascular black pigment accumulation \\n\\n xxup liver : minimal chronic , lymphocytic , periportal inflammation ; lipofuscin pigment accumulation most prominent in zone 3 \\n\\n xxup kidney : patchy partial and global glomerular sclerosis , rare tubular cast \\n\\n xxup brain : minimal acute hypoxic - ischemic changes \\n .locationneck \\n</th>\n",
       "    <th>Homicide</th>\n",
       "  </tr>\n",
       "</table>\n"
      ],
      "text/plain": [
       "<IPython.core.display.HTML object>"
      ]
     },
     "metadata": {},
     "output_type": "display_data"
    }
   ],
   "source": [
    "data_clas.show_batch()"
   ]
  },
  {
   "cell_type": "code",
   "execution_count": 16,
   "metadata": {},
   "outputs": [],
   "source": [
    "learn = text_classifier_learner(data_clas, drop_mult=0.5, qrnn=True, emb_sz=100, nh=200, nl=1)\n"
   ]
  },
  {
   "cell_type": "code",
   "execution_count": 17,
   "metadata": {},
   "outputs": [
    {
     "data": {
      "text/html": [
       "Total time: 02:58 <p><table style='width:300px; margin-bottom:10px'>\n",
       "  <tr>\n",
       "    <th>epoch</th>\n",
       "    <th>train_loss</th>\n",
       "    <th>valid_loss</th>\n",
       "    <th>accuracy</th>\n",
       "  </tr>\n",
       "  <tr>\n",
       "    <th>1</th>\n",
       "    <th>1.097192</th>\n",
       "    <th>1.072513</th>\n",
       "    <th>0.386719</th>\n",
       "  </tr>\n",
       "  <tr>\n",
       "    <th>2</th>\n",
       "    <th>0.881974</th>\n",
       "    <th>0.732215</th>\n",
       "    <th>0.720052</th>\n",
       "  </tr>\n",
       "  <tr>\n",
       "    <th>3</th>\n",
       "    <th>0.684574</th>\n",
       "    <th>0.718371</th>\n",
       "    <th>0.727214</th>\n",
       "  </tr>\n",
       "  <tr>\n",
       "    <th>4</th>\n",
       "    <th>0.621024</th>\n",
       "    <th>0.741591</th>\n",
       "    <th>0.743490</th>\n",
       "  </tr>\n",
       "  <tr>\n",
       "    <th>5</th>\n",
       "    <th>0.574478</th>\n",
       "    <th>0.499414</th>\n",
       "    <th>0.832682</th>\n",
       "  </tr>\n",
       "  <tr>\n",
       "    <th>6</th>\n",
       "    <th>0.559167</th>\n",
       "    <th>0.488673</th>\n",
       "    <th>0.830078</th>\n",
       "  </tr>\n",
       "  <tr>\n",
       "    <th>7</th>\n",
       "    <th>0.482889</th>\n",
       "    <th>0.454623</th>\n",
       "    <th>0.880208</th>\n",
       "  </tr>\n",
       "  <tr>\n",
       "    <th>8</th>\n",
       "    <th>0.529594</th>\n",
       "    <th>0.455008</th>\n",
       "    <th>0.889974</th>\n",
       "  </tr>\n",
       "  <tr>\n",
       "    <th>9</th>\n",
       "    <th>0.470552</th>\n",
       "    <th>0.482244</th>\n",
       "    <th>0.882812</th>\n",
       "  </tr>\n",
       "  <tr>\n",
       "    <th>10</th>\n",
       "    <th>0.461219</th>\n",
       "    <th>0.403498</th>\n",
       "    <th>0.898438</th>\n",
       "  </tr>\n",
       "  <tr>\n",
       "    <th>11</th>\n",
       "    <th>0.469578</th>\n",
       "    <th>0.446652</th>\n",
       "    <th>0.895833</th>\n",
       "  </tr>\n",
       "  <tr>\n",
       "    <th>12</th>\n",
       "    <th>0.499588</th>\n",
       "    <th>0.409945</th>\n",
       "    <th>0.906901</th>\n",
       "  </tr>\n",
       "  <tr>\n",
       "    <th>13</th>\n",
       "    <th>0.427228</th>\n",
       "    <th>0.397397</th>\n",
       "    <th>0.906250</th>\n",
       "  </tr>\n",
       "  <tr>\n",
       "    <th>14</th>\n",
       "    <th>0.466207</th>\n",
       "    <th>0.407690</th>\n",
       "    <th>0.907552</th>\n",
       "  </tr>\n",
       "  <tr>\n",
       "    <th>15</th>\n",
       "    <th>0.432909</th>\n",
       "    <th>0.418532</th>\n",
       "    <th>0.906250</th>\n",
       "  </tr>\n",
       "  <tr>\n",
       "    <th>16</th>\n",
       "    <th>0.412209</th>\n",
       "    <th>0.411190</th>\n",
       "    <th>0.906901</th>\n",
       "  </tr>\n",
       "  <tr>\n",
       "    <th>17</th>\n",
       "    <th>0.432595</th>\n",
       "    <th>0.395125</th>\n",
       "    <th>0.910156</th>\n",
       "  </tr>\n",
       "  <tr>\n",
       "    <th>18</th>\n",
       "    <th>0.422973</th>\n",
       "    <th>0.395526</th>\n",
       "    <th>0.909505</th>\n",
       "  </tr>\n",
       "  <tr>\n",
       "    <th>19</th>\n",
       "    <th>0.447640</th>\n",
       "    <th>0.422973</th>\n",
       "    <th>0.905599</th>\n",
       "  </tr>\n",
       "  <tr>\n",
       "    <th>20</th>\n",
       "    <th>0.473819</th>\n",
       "    <th>0.393777</th>\n",
       "    <th>0.909505</th>\n",
       "  </tr>\n",
       "</table>\n"
      ],
      "text/plain": [
       "<IPython.core.display.HTML object>"
      ]
     },
     "metadata": {},
     "output_type": "display_data"
    }
   ],
   "source": [
    "learn.unfreeze()\n",
    "learn.fit_one_cycle(20, slice(1e-3/(2.6**4),1e-3), moms=(0.8,0.7))"
   ]
  },
  {
   "cell_type": "code",
   "execution_count": 18,
   "metadata": {},
   "outputs": [],
   "source": [
    "from fastai.vision import *"
   ]
  },
  {
   "cell_type": "code",
   "execution_count": 19,
   "metadata": {},
   "outputs": [
    {
     "data": {
      "image/png": "[encoded data removed]",
      "text/plain": [
       "<Figure size 480x480 with 1 Axes>"
      ]
     },
     "metadata": {
      "needs_background": "light"
     },
     "output_type": "display_data"
    }
   ],
   "source": [
    "interp = ClassificationInterpretation.from_learner(learn)\n",
    "interp.plot_confusion_matrix(figsize=(4,4), dpi=120)"
   ]
  },
  {
   "cell_type": "code",
   "execution_count": 20,
   "metadata": {},
   "outputs": [
    {
     "data": {
      "image/png": "[encoded data removed]",
      "text/plain": [
       "<Figure size 432x288 with 1 Axes>"
      ]
     },
     "metadata": {
      "needs_background": "light"
     },
     "output_type": "display_data"
    }
   ],
   "source": [
    "learn.recorder.plot_losses()"
   ]
  },
  {
   "cell_type": "code",
   "execution_count": 21,
   "metadata": {},
   "outputs": [
    {
     "data": {
      "image/png": "[encoded data removed]",
      "text/plain": [
       "<Figure size 432x288 with 1 Axes>"
      ]
     },
     "metadata": {
      "needs_background": "light"
     },
     "output_type": "display_data"
    }
   ],
   "source": [
    "learn.recorder.plot_metrics()"
   ]
  },
  {
   "cell_type": "code",
   "execution_count": null,
   "metadata": {},
   "outputs": [],
   "source": []
  },
  {
   "cell_type": "code",
   "execution_count": 22,
   "metadata": {},
   "outputs": [
    {
     "data": {
      "text/plain": [
       "True"
      ]
     },
     "execution_count": 22,
     "metadata": {},
     "output_type": "execute_result"
    }
   ],
   "source": [
    "interp = ClassificationInterpretation.from_learner(learn)\n",
    "\n",
    "losses,idxs = interp.top_losses()\n",
    "\n",
    "len(data_clas.valid_ds)==len(losses)==len(idxs)"
   ]
  },
  {
   "cell_type": "code",
   "execution_count": 23,
   "metadata": {},
   "outputs": [],
   "source": [
    "loss = learn.recorder.losses"
   ]
  },
  {
   "cell_type": "code",
   "execution_count": 24,
   "metadata": {},
   "outputs": [
    {
     "data": {
      "text/plain": [
       "7660"
      ]
     },
     "execution_count": 24,
     "metadata": {},
     "output_type": "execute_result"
    }
   ],
   "source": [
    "len(loss)"
   ]
  },
  {
   "cell_type": "code",
   "execution_count": 25,
   "metadata": {},
   "outputs": [
    {
     "data": {
      "text/plain": [
       "20"
      ]
     },
     "execution_count": 25,
     "metadata": {},
     "output_type": "execute_result"
    }
   ],
   "source": [
    "len(learn.recorder.val_losses)"
   ]
  },
  {
   "cell_type": "code",
   "execution_count": 26,
   "metadata": {},
   "outputs": [],
   "source": []
  },
  {
   "cell_type": "code",
   "execution_count": 27,
   "metadata": {},
   "outputs": [],
   "source": []
  },
  {
   "cell_type": "code",
   "execution_count": 29,
   "metadata": {},
   "outputs": [
    {
     "ename": "RuntimeError",
     "evalue": "Error(s) in loading state_dict for MultiBatchRNNCore:\n\tMissing key(s) in state_dict: \"encoder.weight\", \"encoder_dp.emb.weight\", \"rnns.0.linear.weight_raw\", \"rnns.0.linear.module.weight\", \"rnns.0.linear.module.bias\". \n\tUnexpected key(s) in state_dict: \"model\", \"opt\". ",
     "output_type": "error",
     "traceback": [
      "\u001b[0;31m---------------------------------------------------------------------------\u001b[0m",
      "\u001b[0;31mRuntimeError\u001b[0m                              Traceback (most recent call last)",
      "\u001b[0;32m<ipython-input-29-da17ab4b462f>\u001b[0m in \u001b[0;36m<module>\u001b[0;34m\u001b[0m\n\u001b[0;32m----> 1\u001b[0;31m \u001b[0msaved_learner\u001b[0m\u001b[0;34m.\u001b[0m\u001b[0mload_encoder\u001b[0m\u001b[0;34m(\u001b[0m\u001b[0;34m'temp_learner'\u001b[0m\u001b[0;34m)\u001b[0m\u001b[0;34m\u001b[0m\u001b[0;34m\u001b[0m\u001b[0m\n\u001b[0m",
      "\u001b[0;32m~/anaconda3/envs/milestone/lib/python3.7/site-packages/fastai/text/learner.py\u001b[0m in \u001b[0;36mload_encoder\u001b[0;34m(self, name)\u001b[0m\n\u001b[1;32m     63\u001b[0m     \u001b[0;32mdef\u001b[0m \u001b[0mload_encoder\u001b[0m\u001b[0;34m(\u001b[0m\u001b[0mself\u001b[0m\u001b[0;34m,\u001b[0m \u001b[0mname\u001b[0m\u001b[0;34m:\u001b[0m\u001b[0mstr\u001b[0m\u001b[0;34m)\u001b[0m\u001b[0;34m:\u001b[0m\u001b[0;34m\u001b[0m\u001b[0;34m\u001b[0m\u001b[0m\n\u001b[1;32m     64\u001b[0m         \u001b[0;34m\"Load the encoder `name` from the model directory.\"\u001b[0m\u001b[0;34m\u001b[0m\u001b[0;34m\u001b[0m\u001b[0m\n\u001b[0;32m---> 65\u001b[0;31m         \u001b[0mget_model\u001b[0m\u001b[0;34m(\u001b[0m\u001b[0mself\u001b[0m\u001b[0;34m.\u001b[0m\u001b[0mmodel\u001b[0m\u001b[0;34m)\u001b[0m\u001b[0;34m[\u001b[0m\u001b[0;36m0\u001b[0m\u001b[0;34m]\u001b[0m\u001b[0;34m.\u001b[0m\u001b[0mload_state_dict\u001b[0m\u001b[0;34m(\u001b[0m\u001b[0mtorch\u001b[0m\u001b[0;34m.\u001b[0m\u001b[0mload\u001b[0m\u001b[0;34m(\u001b[0m\u001b[0mself\u001b[0m\u001b[0;34m.\u001b[0m\u001b[0mpath\u001b[0m\u001b[0;34m/\u001b[0m\u001b[0mself\u001b[0m\u001b[0;34m.\u001b[0m\u001b[0mmodel_dir\u001b[0m\u001b[0;34m/\u001b[0m\u001b[0;34mf'{name}.pth'\u001b[0m\u001b[0;34m)\u001b[0m\u001b[0;34m)\u001b[0m\u001b[0;34m\u001b[0m\u001b[0;34m\u001b[0m\u001b[0m\n\u001b[0m\u001b[1;32m     66\u001b[0m         \u001b[0mself\u001b[0m\u001b[0;34m.\u001b[0m\u001b[0mfreeze\u001b[0m\u001b[0;34m(\u001b[0m\u001b[0;34m)\u001b[0m\u001b[0;34m\u001b[0m\u001b[0;34m\u001b[0m\u001b[0m\n\u001b[1;32m     67\u001b[0m \u001b[0;34m\u001b[0m\u001b[0m\n",
      "\u001b[0;32m~/anaconda3/envs/milestone/lib/python3.7/site-packages/torch/nn/modules/module.py\u001b[0m in \u001b[0;36mload_state_dict\u001b[0;34m(self, state_dict, strict)\u001b[0m\n\u001b[1;32m    767\u001b[0m         \u001b[0;32mif\u001b[0m \u001b[0mlen\u001b[0m\u001b[0;34m(\u001b[0m\u001b[0merror_msgs\u001b[0m\u001b[0;34m)\u001b[0m \u001b[0;34m>\u001b[0m \u001b[0;36m0\u001b[0m\u001b[0;34m:\u001b[0m\u001b[0;34m\u001b[0m\u001b[0;34m\u001b[0m\u001b[0m\n\u001b[1;32m    768\u001b[0m             raise RuntimeError('Error(s) in loading state_dict for {}:\\n\\t{}'.format(\n\u001b[0;32m--> 769\u001b[0;31m                                self.__class__.__name__, \"\\n\\t\".join(error_msgs)))\n\u001b[0m\u001b[1;32m    770\u001b[0m \u001b[0;34m\u001b[0m\u001b[0m\n\u001b[1;32m    771\u001b[0m     \u001b[0;32mdef\u001b[0m \u001b[0m_named_members\u001b[0m\u001b[0;34m(\u001b[0m\u001b[0mself\u001b[0m\u001b[0;34m,\u001b[0m \u001b[0mget_members_fn\u001b[0m\u001b[0;34m,\u001b[0m \u001b[0mprefix\u001b[0m\u001b[0;34m=\u001b[0m\u001b[0;34m''\u001b[0m\u001b[0;34m,\u001b[0m \u001b[0mrecurse\u001b[0m\u001b[0;34m=\u001b[0m\u001b[0;32mTrue\u001b[0m\u001b[0;34m)\u001b[0m\u001b[0;34m:\u001b[0m\u001b[0;34m\u001b[0m\u001b[0;34m\u001b[0m\u001b[0m\n",
      "\u001b[0;31mRuntimeError\u001b[0m: Error(s) in loading state_dict for MultiBatchRNNCore:\n\tMissing key(s) in state_dict: \"encoder.weight\", \"encoder_dp.emb.weight\", \"rnns.0.linear.weight_raw\", \"rnns.0.linear.module.weight\", \"rnns.0.linear.module.bias\". \n\tUnexpected key(s) in state_dict: \"model\", \"opt\". "
     ]
    }
   ],
   "source": []
  },
  {
   "cell_type": "code",
   "execution_count": null,
   "metadata": {},
   "outputs": [],
   "source": []
  }
 ],
 "metadata": {
  "kernelspec": {
   "display_name": "Python 3",
   "language": "python",
   "name": "python3"
  },
  "language_info": {
   "codemirror_mode": {
    "name": "ipython",
    "version": 3
   },
   "file_extension": ".py",
   "mimetype": "text/x-python",
   "name": "python",
   "nbconvert_exporter": "python",
   "pygments_lexer": "ipython3",
   "version": "3.7.2"
  }
 },
 "nbformat": 4,
 "nbformat_minor": 2
}
