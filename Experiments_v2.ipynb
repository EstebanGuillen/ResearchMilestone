{
 "cells": [
  {
   "cell_type": "code",
   "execution_count": 1,
   "metadata": {},
   "outputs": [],
   "source": [
    "from fastai import *        # Quick access to most common functionality\n",
    "from fastai.text import *   # Quick access to NLP functionality\n",
    "from pathlib import Path\n",
    "\n",
    "epochs = 20"
   ]
  },
  {
   "cell_type": "code",
   "execution_count": null,
   "metadata": {},
   "outputs": [],
   "source": [
    "#Parameter setting 1"
   ]
  },
  {
   "cell_type": "code",
   "execution_count": null,
   "metadata": {},
   "outputs": [],
   "source": [
    "path_clas = Path('/home/ubuntu/data/autopsy')\n",
    "\n",
    "batch_size=32\n",
    "drop_mult=0.1\n",
    "learning_rate= slice(1e-5,1e-3)\n",
    "wd=1e-4\n",
    "num_folds = 5\n",
    "\n",
    "moms = (0.8,0.7)\n",
    "folds = ['data_suicide_homicide_k_1.csv','data_suicide_homicide_k_2.csv','data_suicide_homicide_k_3.csv','data_suicide_homicide_k_4.csv','data_suicide_homicide_k_5.csv']\n",
    "\n",
    "accuracy_list = []\n",
    "learner_list = []\n",
    "i = 0\n",
    "for f in folds:\n",
    "  i = i + 1\n",
    "  print(\"\\nFold: \" + str(i))\n",
    "  data_clas = TextClasDataBunch.from_csv(path_clas,f, classes=['Suicide','Homicide'],bs=batch_size)\n",
    "\n",
    "  learn = text_classifier_learner(data_clas, drop_mult=drop_mult)\n",
    "  learn.unfreeze()\n",
    "  learn.fit_one_cycle(epochs,learning_rate, wd=wd, moms=moms)\n",
    "  learner_list.append(learn)\n",
    "  \n",
    "  acc = (learn.validate())[1].item()\n",
    "  accuracy_list.append(acc)\n",
    "\n",
    "print('\\nAccuracy List')\n",
    "print(accuracy_list)\n",
    "\n",
    "print(\"\\nAverage Accuracy\")\n",
    "print( (sum(accuracy_list))/ (num_folds))\n"
   ]
  },
  {
   "cell_type": "code",
   "execution_count": null,
   "metadata": {},
   "outputs": [],
   "source": [
    "learner_list[0].recorder.plot_losses()\n",
    "learner_list[0].recorder.plot_metrics()"
   ]
  },
  {
   "cell_type": "code",
   "execution_count": null,
   "metadata": {},
   "outputs": [],
   "source": [
    "learner_list[1].recorder.plot_losses()\n",
    "learner_list[1].recorder.plot_metrics()"
   ]
  },
  {
   "cell_type": "code",
   "execution_count": null,
   "metadata": {},
   "outputs": [],
   "source": [
    "learner_list[2].recorder.plot_losses()\n",
    "learner_list[2].recorder.plot_metrics()"
   ]
  },
  {
   "cell_type": "code",
   "execution_count": null,
   "metadata": {},
   "outputs": [],
   "source": [
    "learner_list[3].recorder.plot_losses()\n",
    "learner_list[3].recorder.plot_metrics()"
   ]
  },
  {
   "cell_type": "code",
   "execution_count": null,
   "metadata": {},
   "outputs": [],
   "source": [
    "learner_list[4].recorder.plot_losses()\n",
    "learner_list[4].recorder.plot_metrics()"
   ]
  },
  {
   "cell_type": "code",
   "execution_count": null,
   "metadata": {},
   "outputs": [],
   "source": []
  },
  {
   "cell_type": "code",
   "execution_count": null,
   "metadata": {},
   "outputs": [],
   "source": [
    "#Parameter setting 2"
   ]
  },
  {
   "cell_type": "code",
   "execution_count": null,
   "metadata": {},
   "outputs": [],
   "source": [
    "path_clas = Path('/home/ubuntu/data/autopsy')\n",
    "\n",
    "batch_size=32\n",
    "drop_mult=0.5\n",
    "learning_rate= slice(1e-5,1e-3)\n",
    "wd=1e-4\n",
    "num_folds = 5\n",
    "\n",
    "moms = (0.8,0.7)\n",
    "folds = ['data_suicide_homicide_k_1.csv','data_suicide_homicide_k_2.csv','data_suicide_homicide_k_3.csv','data_suicide_homicide_k_4.csv','data_suicide_homicide_k_5.csv']\n",
    "\n",
    "accuracy_list = []\n",
    "learner_list = []\n",
    "i = 0\n",
    "for f in folds:\n",
    "  i = i + 1\n",
    "  print(\"\\nFold: \" + str(i))\n",
    "  data_clas = TextClasDataBunch.from_csv(path_clas,f, classes=['Suicide','Homicide'],bs=batch_size)\n",
    "\n",
    "  learn = text_classifier_learner(data_clas, drop_mult=drop_mult)\n",
    "  learn.unfreeze()\n",
    "  learn.fit_one_cycle(epochs,learning_rate, wd=wd, moms=moms)\n",
    "  learner_list.append(learn)\n",
    "  \n",
    "  acc = (learn.validate())[1].item()\n",
    "  accuracy_list.append(acc)\n",
    "\n",
    "print('\\nAccuracy List')\n",
    "print(accuracy_list)\n",
    "\n",
    "print(\"\\nAverage Accuracy\")\n",
    "print( (sum(accuracy_list))/ (num_folds))\n"
   ]
  },
  {
   "cell_type": "code",
   "execution_count": null,
   "metadata": {},
   "outputs": [],
   "source": [
    "learner_list[0].recorder.plot_losses()\n",
    "learner_list[0].recorder.plot_metrics()"
   ]
  },
  {
   "cell_type": "code",
   "execution_count": null,
   "metadata": {},
   "outputs": [],
   "source": [
    "learner_list[1].recorder.plot_losses()\n",
    "learner_list[1].recorder.plot_metrics()"
   ]
  },
  {
   "cell_type": "code",
   "execution_count": null,
   "metadata": {},
   "outputs": [],
   "source": [
    "learner_list[2].recorder.plot_losses()\n",
    "learner_list[2].recorder.plot_metrics()"
   ]
  },
  {
   "cell_type": "code",
   "execution_count": null,
   "metadata": {},
   "outputs": [],
   "source": [
    "learner_list[3].recorder.plot_losses()\n",
    "learner_list[3].recorder.plot_metrics()"
   ]
  },
  {
   "cell_type": "code",
   "execution_count": null,
   "metadata": {},
   "outputs": [],
   "source": [
    "learner_list[4].recorder.plot_losses()\n",
    "learner_list[4].recorder.plot_metrics()"
   ]
  },
  {
   "cell_type": "code",
   "execution_count": null,
   "metadata": {},
   "outputs": [],
   "source": []
  },
  {
   "cell_type": "code",
   "execution_count": null,
   "metadata": {},
   "outputs": [],
   "source": [
    "#Parameter setting 3"
   ]
  },
  {
   "cell_type": "code",
   "execution_count": null,
   "metadata": {},
   "outputs": [],
   "source": [
    "path_clas = Path('/home/ubuntu/data/autopsy')\n",
    "\n",
    "batch_size=32\n",
    "drop_mult=0.3\n",
    "learning_rate= slice(1e-4,1e-3)\n",
    "wd=1e-4\n",
    "num_folds = 5\n",
    "\n",
    "moms = (0.8,0.7)\n",
    "folds = ['data_suicide_homicide_k_1.csv','data_suicide_homicide_k_2.csv','data_suicide_homicide_k_3.csv','data_suicide_homicide_k_4.csv','data_suicide_homicide_k_5.csv']\n",
    "\n",
    "accuracy_list = []\n",
    "learner_list = []\n",
    "i = 0\n",
    "for f in folds:\n",
    "  i = i + 1\n",
    "  print(\"\\nFold: \" + str(i))\n",
    "  data_clas = TextClasDataBunch.from_csv(path_clas,f, classes=['Suicide','Homicide'],bs=batch_size)\n",
    "\n",
    "  learn = text_classifier_learner(data_clas, drop_mult=drop_mult)\n",
    "  learn.unfreeze()\n",
    "  learn.fit_one_cycle(epochs,learning_rate, wd=wd, moms=moms)\n",
    "  learner_list.append(learn)\n",
    "  \n",
    "  acc = (learn.validate())[1].item()\n",
    "  accuracy_list.append(acc)\n",
    "\n",
    "print('\\nAccuracy List')\n",
    "print(accuracy_list)\n",
    "\n",
    "print(\"\\nAverage Accuracy\")\n",
    "print( (sum(accuracy_list))/ (num_folds))\n"
   ]
  },
  {
   "cell_type": "code",
   "execution_count": null,
   "metadata": {},
   "outputs": [],
   "source": [
    "learner_list[0].recorder.plot_losses()\n",
    "learner_list[0].recorder.plot_metrics()"
   ]
  },
  {
   "cell_type": "code",
   "execution_count": null,
   "metadata": {},
   "outputs": [],
   "source": [
    "learner_list[1].recorder.plot_losses()\n",
    "learner_list[1].recorder.plot_metrics()"
   ]
  },
  {
   "cell_type": "code",
   "execution_count": null,
   "metadata": {},
   "outputs": [],
   "source": [
    "learner_list[2].recorder.plot_losses()\n",
    "learner_list[2].recorder.plot_metrics()"
   ]
  },
  {
   "cell_type": "code",
   "execution_count": null,
   "metadata": {},
   "outputs": [],
   "source": [
    "learner_list[3].recorder.plot_losses()\n",
    "learner_list[3].recorder.plot_metrics()"
   ]
  },
  {
   "cell_type": "code",
   "execution_count": null,
   "metadata": {},
   "outputs": [],
   "source": [
    "learner_list[4].recorder.plot_losses()\n",
    "learner_list[4].recorder.plot_metrics()"
   ]
  },
  {
   "cell_type": "code",
   "execution_count": null,
   "metadata": {},
   "outputs": [],
   "source": []
  },
  {
   "cell_type": "code",
   "execution_count": null,
   "metadata": {},
   "outputs": [],
   "source": [
    "#Parameter setting 4"
   ]
  },
  {
   "cell_type": "code",
   "execution_count": null,
   "metadata": {},
   "outputs": [],
   "source": [
    "path_clas = Path('/home/ubuntu/data/autopsy')\n",
    "\n",
    "batch_size=32\n",
    "drop_mult=0.3\n",
    "learning_rate= slice(1e-4,1e-2)\n",
    "wd=1e-4\n",
    "num_folds = 5\n",
    "\n",
    "moms = (0.8,0.7)\n",
    "folds = ['data_suicide_homicide_k_1.csv','data_suicide_homicide_k_2.csv','data_suicide_homicide_k_3.csv','data_suicide_homicide_k_4.csv','data_suicide_homicide_k_5.csv']\n",
    "\n",
    "accuracy_list = []\n",
    "learner_list = []\n",
    "i = 0\n",
    "for f in folds:\n",
    "  i = i + 1\n",
    "  print(\"\\nFold: \" + str(i))\n",
    "  data_clas = TextClasDataBunch.from_csv(path_clas,f, classes=['Suicide','Homicide'],bs=batch_size)\n",
    "\n",
    "  learn = text_classifier_learner(data_clas, drop_mult=drop_mult)\n",
    "  learn.unfreeze()\n",
    "  learn.fit_one_cycle(epochs,learning_rate, wd=wd, moms=moms)\n",
    "  learner_list.append(learn)\n",
    "  \n",
    "  acc = (learn.validate())[1].item()\n",
    "  accuracy_list.append(acc)\n",
    "\n",
    "print('\\nAccuracy List')\n",
    "print(accuracy_list)\n",
    "\n",
    "print(\"\\nAverage Accuracy\")\n",
    "print( (sum(accuracy_list))/ (num_folds))\n"
   ]
  },
  {
   "cell_type": "code",
   "execution_count": null,
   "metadata": {},
   "outputs": [],
   "source": [
    "learner_list[0].recorder.plot_losses()\n",
    "learner_list[0].recorder.plot_metrics()"
   ]
  },
  {
   "cell_type": "code",
   "execution_count": null,
   "metadata": {},
   "outputs": [],
   "source": [
    "learner_list[1].recorder.plot_losses()\n",
    "learner_list[1].recorder.plot_metrics()"
   ]
  },
  {
   "cell_type": "code",
   "execution_count": null,
   "metadata": {},
   "outputs": [],
   "source": [
    "learner_list[2].recorder.plot_losses()\n",
    "learner_list[2].recorder.plot_metrics()"
   ]
  },
  {
   "cell_type": "code",
   "execution_count": null,
   "metadata": {},
   "outputs": [],
   "source": [
    "learner_list[3].recorder.plot_losses()\n",
    "learner_list[3].recorder.plot_metrics()"
   ]
  },
  {
   "cell_type": "code",
   "execution_count": null,
   "metadata": {},
   "outputs": [],
   "source": [
    "learner_list[4].recorder.plot_losses()\n",
    "learner_list[4].recorder.plot_metrics()"
   ]
  },
  {
   "cell_type": "code",
   "execution_count": null,
   "metadata": {},
   "outputs": [],
   "source": []
  },
  {
   "cell_type": "code",
   "execution_count": null,
   "metadata": {},
   "outputs": [],
   "source": []
  },
  {
   "cell_type": "code",
   "execution_count": null,
   "metadata": {},
   "outputs": [],
   "source": []
  },
  {
   "cell_type": "code",
   "execution_count": null,
   "metadata": {},
   "outputs": [],
   "source": [
    "#Large RNN using an AWD LSTM activation (pretrained with WikiText)"
   ]
  },
  {
   "cell_type": "code",
   "execution_count": null,
   "metadata": {},
   "outputs": [],
   "source": [
    "#Parameter setting 1"
   ]
  },
  {
   "cell_type": "code",
   "execution_count": null,
   "metadata": {},
   "outputs": [],
   "source": [
    "path_clas = Path('/home/ubuntu/data/autopsy')\n",
    "path_lm = Path('/home/ubuntu/data/autopsy')\n",
    "\n",
    "batch_size=32\n",
    "drop_mult=0.1\n",
    "learning_rate= slice(1e-5,1e-3)\n",
    "wd=1e-4\n",
    "num_folds = 5\n",
    "\n",
    "moms = (0.8,0.7)\n",
    "folds = ['data_suicide_homicide_k_1.csv','data_suicide_homicide_k_2.csv','data_suicide_homicide_k_3.csv','data_suicide_homicide_k_4.csv','data_suicide_homicide_k_5.csv']\n",
    "\n",
    "accuracy_list = []\n",
    "learner_list = []\n",
    "i = 0\n",
    "data_lm = TextLMDataBunch.from_csv(path_lm, 'data_suicide_homicide_k_1.csv', classes=['Suicide','Homicide'])\n",
    "for f in folds:\n",
    "  i = i + 1\n",
    "  print(\"\\nFold: \" + str(i))\n",
    "  #data_lm = TextLMDataBunch.from_csv(path_lm, f, classes=['Suicide','Homicide'])\n",
    "  data_clas = TextClasDataBunch.from_csv(path_clas,f, vocab=data_lm.train_ds.vocab, classes=['Suicide','Homicide'], bs=batch_size)\n",
    "\n",
    "  learn = text_classifier_learner(data_clas, drop_mult=drop_mult)\n",
    "  learn.load_encoder('enc_autopsy_only_pretrained')\n",
    "  learn.fit(4,learning_rate, wd=wd)\n",
    "  learn.unfreeze()\n",
    "  learn.fit_one_cycle(epochs,learning_rate, wd=wd, moms=moms)\n",
    "  learner_list.append(learn)\n",
    "  \n",
    "  acc = (learn.validate())[1].item()\n",
    "  accuracy_list.append(acc)\n",
    "\n",
    "print('\\nAccuracy List')\n",
    "print(accuracy_list)\n",
    "\n",
    "print(\"\\nAverage Accuracy\")\n",
    "print( (sum(accuracy_list))/ (num_folds ))\n"
   ]
  },
  {
   "cell_type": "code",
   "execution_count": null,
   "metadata": {},
   "outputs": [],
   "source": [
    "learner_list[0].recorder.plot_losses()\n",
    "learner_list[0].recorder.plot_metrics()"
   ]
  },
  {
   "cell_type": "code",
   "execution_count": null,
   "metadata": {},
   "outputs": [],
   "source": [
    "learner_list[1].recorder.plot_losses()\n",
    "learner_list[1].recorder.plot_metrics()"
   ]
  },
  {
   "cell_type": "code",
   "execution_count": null,
   "metadata": {},
   "outputs": [],
   "source": [
    "learner_list[2].recorder.plot_losses()\n",
    "learner_list[2].recorder.plot_metrics()"
   ]
  },
  {
   "cell_type": "code",
   "execution_count": null,
   "metadata": {},
   "outputs": [],
   "source": [
    "learner_list[3].recorder.plot_losses()\n",
    "learner_list[3].recorder.plot_metrics()"
   ]
  },
  {
   "cell_type": "code",
   "execution_count": null,
   "metadata": {},
   "outputs": [],
   "source": [
    "learner_list[4].recorder.plot_losses()\n",
    "learner_list[4].recorder.plot_metrics()"
   ]
  },
  {
   "cell_type": "code",
   "execution_count": null,
   "metadata": {},
   "outputs": [],
   "source": []
  },
  {
   "cell_type": "code",
   "execution_count": null,
   "metadata": {},
   "outputs": [],
   "source": [
    "#Parameter setting 2"
   ]
  },
  {
   "cell_type": "code",
   "execution_count": null,
   "metadata": {},
   "outputs": [],
   "source": [
    "path_clas = Path('/home/ubuntu/data/autopsy')\n",
    "path_lm = Path('/home/ubuntu/data/autopsy')\n",
    "\n",
    "batch_size=32\n",
    "drop_mult=0.5\n",
    "learning_rate= slice(1e-5,1e-3)\n",
    "wd=1e-4\n",
    "num_folds = 5\n",
    "\n",
    "moms = (0.8,0.7)\n",
    "folds = ['data_suicide_homicide_k_1.csv','data_suicide_homicide_k_2.csv','data_suicide_homicide_k_3.csv','data_suicide_homicide_k_4.csv','data_suicide_homicide_k_5.csv']\n",
    "\n",
    "accuracy_list = []\n",
    "learner_list = []\n",
    "i = 0\n",
    "data_lm = TextLMDataBunch.from_csv(path_lm, 'data_suicide_homicide_k_1.csv', classes=['Suicide','Homicide'])\n",
    "for f in folds:\n",
    "  i = i + 1\n",
    "  print(\"\\nFold: \" + str(i))\n",
    "  #data_lm = TextLMDataBunch.from_csv(path_lm, f, classes=['Suicide','Homicide'])\n",
    "  data_clas = TextClasDataBunch.from_csv(path_clas,f, vocab=data_lm.train_ds.vocab, classes=['Suicide','Homicide'], bs=batch_size)\n",
    "\n",
    "  learn = text_classifier_learner(data_clas, drop_mult=drop_mult)\n",
    "  learn.load_encoder('enc_autopsy_only_pretrained')\n",
    "  learn.fit(4,learning_rate, wd=wd)\n",
    "  learn.unfreeze()\n",
    "  learn.fit_one_cycle(epochs,learning_rate, wd=wd, moms=moms)\n",
    "  learner_list.append(learn)\n",
    "  \n",
    "  acc = (learn.validate())[1].item()\n",
    "  accuracy_list.append(acc)\n",
    "\n",
    "print('\\nAccuracy List')\n",
    "print(accuracy_list)\n",
    "\n",
    "print(\"\\nAverage Accuracy\")\n",
    "print( (sum(accuracy_list))/ (num_folds ))\n"
   ]
  },
  {
   "cell_type": "code",
   "execution_count": null,
   "metadata": {},
   "outputs": [],
   "source": [
    "learner_list[0].recorder.plot_losses()\n",
    "learner_list[0].recorder.plot_metrics()"
   ]
  },
  {
   "cell_type": "code",
   "execution_count": null,
   "metadata": {},
   "outputs": [],
   "source": [
    "learner_list[1].recorder.plot_losses()\n",
    "learner_list[1].recorder.plot_metrics()"
   ]
  },
  {
   "cell_type": "code",
   "execution_count": null,
   "metadata": {},
   "outputs": [],
   "source": [
    "learner_list[2].recorder.plot_losses()\n",
    "learner_list[2].recorder.plot_metrics()"
   ]
  },
  {
   "cell_type": "code",
   "execution_count": null,
   "metadata": {},
   "outputs": [],
   "source": [
    "learner_list[3].recorder.plot_losses()\n",
    "learner_list[3].recorder.plot_metrics()"
   ]
  },
  {
   "cell_type": "code",
   "execution_count": null,
   "metadata": {},
   "outputs": [],
   "source": [
    "learner_list[4].recorder.plot_losses()\n",
    "learner_list[4].recorder.plot_metrics()"
   ]
  },
  {
   "cell_type": "code",
   "execution_count": null,
   "metadata": {},
   "outputs": [],
   "source": []
  },
  {
   "cell_type": "code",
   "execution_count": null,
   "metadata": {},
   "outputs": [],
   "source": [
    "#Parameter setting 3"
   ]
  },
  {
   "cell_type": "code",
   "execution_count": null,
   "metadata": {},
   "outputs": [],
   "source": [
    "path_clas = Path('/home/ubuntu/data/autopsy')\n",
    "path_lm = Path('/home/ubuntu/data/autopsy')\n",
    "\n",
    "batch_size=32\n",
    "drop_mult=0.3\n",
    "learning_rate= slice(1e-4,1e-3)\n",
    "wd=1e-4\n",
    "num_folds = 5\n",
    "\n",
    "moms = (0.8,0.7)\n",
    "folds = ['data_suicide_homicide_k_1.csv','data_suicide_homicide_k_2.csv','data_suicide_homicide_k_3.csv','data_suicide_homicide_k_4.csv','data_suicide_homicide_k_5.csv']\n",
    "\n",
    "accuracy_list = []\n",
    "learner_list = []\n",
    "i = 0\n",
    "data_lm = TextLMDataBunch.from_csv(path_lm, 'data_suicide_homicide_k_1.csv', classes=['Suicide','Homicide'])\n",
    "for f in folds:\n",
    "  i = i + 1\n",
    "  print(\"\\nFold: \" + str(i))\n",
    "  #data_lm = TextLMDataBunch.from_csv(path_lm, f, classes=['Suicide','Homicide'])\n",
    "  data_clas = TextClasDataBunch.from_csv(path_clas,f, vocab=data_lm.train_ds.vocab, classes=['Suicide','Homicide'], bs=batch_size)\n",
    "\n",
    "  learn = text_classifier_learner(data_clas, drop_mult=drop_mult)\n",
    "  learn.load_encoder('enc_autopsy_only_pretrained')\n",
    "  learn.fit(4,learning_rate, wd=wd)\n",
    "  learn.unfreeze()\n",
    "  learn.fit_one_cycle(epochs,learning_rate, wd=wd, moms=moms)\n",
    "  learner_list.append(learn)\n",
    "  \n",
    "  acc = (learn.validate())[1].item()\n",
    "  accuracy_list.append(acc)\n",
    "\n",
    "print('\\nAccuracy List')\n",
    "print(accuracy_list)\n",
    "\n",
    "print(\"\\nAverage Accuracy\")\n",
    "print( (sum(accuracy_list))/ (num_folds ))\n"
   ]
  },
  {
   "cell_type": "code",
   "execution_count": null,
   "metadata": {},
   "outputs": [],
   "source": [
    "learner_list[0].recorder.plot_losses()\n",
    "learner_list[0].recorder.plot_metrics()"
   ]
  },
  {
   "cell_type": "code",
   "execution_count": null,
   "metadata": {},
   "outputs": [],
   "source": [
    "learner_list[1].recorder.plot_losses()\n",
    "learner_list[1].recorder.plot_metrics()"
   ]
  },
  {
   "cell_type": "code",
   "execution_count": null,
   "metadata": {},
   "outputs": [],
   "source": [
    "learner_list[2].recorder.plot_losses()\n",
    "learner_list[2].recorder.plot_metrics()"
   ]
  },
  {
   "cell_type": "code",
   "execution_count": null,
   "metadata": {},
   "outputs": [],
   "source": [
    "learner_list[3].recorder.plot_losses()\n",
    "learner_list[3].recorder.plot_metrics()"
   ]
  },
  {
   "cell_type": "code",
   "execution_count": null,
   "metadata": {},
   "outputs": [],
   "source": [
    "learner_list[4].recorder.plot_losses()\n",
    "learner_list[4].recorder.plot_metrics()"
   ]
  },
  {
   "cell_type": "code",
   "execution_count": null,
   "metadata": {},
   "outputs": [],
   "source": []
  },
  {
   "cell_type": "code",
   "execution_count": null,
   "metadata": {},
   "outputs": [],
   "source": [
    "#Parameter setting 4"
   ]
  },
  {
   "cell_type": "code",
   "execution_count": null,
   "metadata": {},
   "outputs": [],
   "source": [
    "path_clas = Path('/home/ubuntu/data/autopsy')\n",
    "path_lm = Path('/home/ubuntu/data/autopsy')\n",
    "\n",
    "batch_size=32\n",
    "drop_mult=0.3\n",
    "learning_rate= slice(1e-4,1e-2)\n",
    "wd=1e-4\n",
    "num_folds = 5\n",
    "\n",
    "moms = (0.8,0.7)\n",
    "folds = ['data_suicide_homicide_k_1.csv','data_suicide_homicide_k_2.csv','data_suicide_homicide_k_3.csv','data_suicide_homicide_k_4.csv','data_suicide_homicide_k_5.csv']\n",
    "\n",
    "accuracy_list = []\n",
    "learner_list = []\n",
    "i = 0\n",
    "data_lm = TextLMDataBunch.from_csv(path_lm, 'data_suicide_homicide_k_1.csv', classes=['Suicide','Homicide'])\n",
    "for f in folds:\n",
    "  i = i + 1\n",
    "  print(\"\\nFold: \" + str(i))\n",
    "  #data_lm = TextLMDataBunch.from_csv(path_lm, f, classes=['Suicide','Homicide'])\n",
    "  data_clas = TextClasDataBunch.from_csv(path_clas,f, vocab=data_lm.train_ds.vocab, classes=['Suicide','Homicide'], bs=batch_size)\n",
    "\n",
    "  learn = text_classifier_learner(data_clas, drop_mult=drop_mult)\n",
    "  learn.load_encoder('enc_autopsy_only_pretrained')\n",
    "  learn.fit(4,learning_rate, wd=wd)\n",
    "  learn.unfreeze()\n",
    "  learn.fit_one_cycle(epochs,learning_rate, wd=wd, moms=moms)\n",
    "  learner_list.append(learn)\n",
    "  \n",
    "  acc = (learn.validate())[1].item()\n",
    "  accuracy_list.append(acc)\n",
    "\n",
    "print('\\nAccuracy List')\n",
    "print(accuracy_list)\n",
    "\n",
    "print(\"\\nAverage Accuracy\")\n",
    "print( (sum(accuracy_list))/ (num_folds ))\n"
   ]
  },
  {
   "cell_type": "code",
   "execution_count": null,
   "metadata": {},
   "outputs": [],
   "source": [
    "learner_list[0].recorder.plot_losses()\n",
    "learner_list[0].recorder.plot_metrics()"
   ]
  },
  {
   "cell_type": "code",
   "execution_count": null,
   "metadata": {},
   "outputs": [],
   "source": [
    "learner_list[1].recorder.plot_losses()\n",
    "learner_list[1].recorder.plot_metrics()"
   ]
  },
  {
   "cell_type": "code",
   "execution_count": null,
   "metadata": {},
   "outputs": [],
   "source": [
    "learner_list[2].recorder.plot_losses()\n",
    "learner_list[2].recorder.plot_metrics()"
   ]
  },
  {
   "cell_type": "code",
   "execution_count": null,
   "metadata": {},
   "outputs": [],
   "source": [
    "learner_list[3].recorder.plot_losses()\n",
    "learner_list[3].recorder.plot_metrics()"
   ]
  },
  {
   "cell_type": "code",
   "execution_count": null,
   "metadata": {},
   "outputs": [],
   "source": [
    "learner_list[4].recorder.plot_losses()\n",
    "learner_list[4].recorder.plot_metrics()"
   ]
  },
  {
   "cell_type": "code",
   "execution_count": null,
   "metadata": {},
   "outputs": [],
   "source": []
  },
  {
   "cell_type": "code",
   "execution_count": null,
   "metadata": {},
   "outputs": [],
   "source": []
  },
  {
   "cell_type": "code",
   "execution_count": null,
   "metadata": {},
   "outputs": [],
   "source": [
    "#Large RNN using an AWD LSTM activation (finetuned with the autopsy data)"
   ]
  },
  {
   "cell_type": "code",
   "execution_count": null,
   "metadata": {},
   "outputs": [],
   "source": [
    "#Parameter settings 1"
   ]
  },
  {
   "cell_type": "code",
   "execution_count": null,
   "metadata": {},
   "outputs": [],
   "source": [
    "path_clas = Path('/home/ubuntu/data/autopsy')\n",
    "path_lm = Path('/home/ubuntu/data/autopsy')\n",
    "\n",
    "batch_size=32\n",
    "drop_mult=0.1\n",
    "learning_rate= slice(1e-5,1e-3)\n",
    "wd=1e-4\n",
    "num_folds = 5\n",
    "\n",
    "moms = (0.8,0.7)\n",
    "folds = ['data_suicide_homicide_k_1.csv','data_suicide_homicide_k_2.csv','data_suicide_homicide_k_3.csv','data_suicide_homicide_k_4.csv','data_suicide_homicide_k_5.csv']\n",
    "\n",
    "accuracy_list = []\n",
    "learner_list = []\n",
    "\n",
    "i = 0\n",
    "data_lm = TextLMDataBunch.from_csv(path_lm, 'data_suicide_homicide_k_1.csv', classes=['Suicide','Homicide'])\n",
    "for f in folds:\n",
    "  i = i + 1\n",
    "  \n",
    "  #data_lm = TextLMDataBunch.from_csv(path_lm, 'data_suicide_homicide_k_1.csv', classes=['Suicide','Homicide'])\n",
    "\n",
    "  data_clas = TextClasDataBunch.from_csv(path_clas,f, vocab=data_lm.train_ds.vocab, classes=['Suicide','Homicide'], bs=batch_size)\n",
    "\n",
    "  learn = text_classifier_learner(data_clas, drop_mult=drop_mult)\n",
    "  learn.load_encoder('enc_autopsy_not_pretrained')\n",
    "  learn.fit(4,learning_rate, wd=wd)\n",
    "  learn.unfreeze()\n",
    "  learn.fit_one_cycle(epochs,learning_rate, wd=wd, moms=moms)\n",
    "  learner_list.append(learn)\n",
    "  \n",
    "  acc = (learn.validate())[1].item()\n",
    "  accuracy_list.append(acc)\n",
    "\n",
    "print('\\nAccuracy List')\n",
    "print(accuracy_list)\n",
    "\n",
    "print(\"\\nAverage Accuracy\")\n",
    "print( (sum(accuracy_list))/ (num_folds ))\n"
   ]
  },
  {
   "cell_type": "code",
   "execution_count": null,
   "metadata": {},
   "outputs": [],
   "source": [
    "learner_list[0].recorder.plot_losses()\n",
    "learner_list[0].recorder.plot_metrics()"
   ]
  },
  {
   "cell_type": "code",
   "execution_count": null,
   "metadata": {},
   "outputs": [],
   "source": [
    "learner_list[1].recorder.plot_losses()\n",
    "learner_list[1].recorder.plot_metrics()"
   ]
  },
  {
   "cell_type": "code",
   "execution_count": null,
   "metadata": {},
   "outputs": [],
   "source": [
    "learner_list[2].recorder.plot_losses()\n",
    "learner_list[2].recorder.plot_metrics()"
   ]
  },
  {
   "cell_type": "code",
   "execution_count": null,
   "metadata": {},
   "outputs": [],
   "source": [
    "learner_list[3].recorder.plot_losses()\n",
    "learner_list[3].recorder.plot_metrics()"
   ]
  },
  {
   "cell_type": "code",
   "execution_count": null,
   "metadata": {},
   "outputs": [],
   "source": [
    "learner_list[4].recorder.plot_losses()\n",
    "learner_list[4].recorder.plot_metrics()"
   ]
  },
  {
   "cell_type": "code",
   "execution_count": null,
   "metadata": {},
   "outputs": [],
   "source": []
  },
  {
   "cell_type": "code",
   "execution_count": null,
   "metadata": {},
   "outputs": [],
   "source": [
    "#Parameter settings 2"
   ]
  },
  {
   "cell_type": "code",
   "execution_count": null,
   "metadata": {},
   "outputs": [],
   "source": [
    "path_clas = Path('/home/ubuntu/data/autopsy')\n",
    "path_lm = Path('/home/ubuntu/data/autopsy')\n",
    "\n",
    "batch_size=32\n",
    "drop_mult=0.5\n",
    "learning_rate= slice(1e-5,1e-3)\n",
    "wd=1e-4\n",
    "num_folds = 5\n",
    "\n",
    "moms = (0.8,0.7)\n",
    "folds = ['data_suicide_homicide_k_1.csv','data_suicide_homicide_k_2.csv','data_suicide_homicide_k_3.csv','data_suicide_homicide_k_4.csv','data_suicide_homicide_k_5.csv']\n",
    "\n",
    "accuracy_list = []\n",
    "learner_list = []\n",
    "\n",
    "i = 0\n",
    "data_lm = TextLMDataBunch.from_csv(path_lm, 'data_suicide_homicide_k_1.csv', classes=['Suicide','Homicide'])\n",
    "for f in folds:\n",
    "  i = i + 1\n",
    "  \n",
    "  #data_lm = TextLMDataBunch.from_csv(path_lm, 'data_suicide_homicide_k_1.csv', classes=['Suicide','Homicide'])\n",
    "\n",
    "  data_clas = TextClasDataBunch.from_csv(path_clas,f, vocab=data_lm.train_ds.vocab, classes=['Suicide','Homicide'], bs=batch_size)\n",
    "\n",
    "  learn = text_classifier_learner(data_clas, drop_mult=drop_mult)\n",
    "  learn.load_encoder('enc_autopsy_not_pretrained')\n",
    "  learn.fit(4,learning_rate, wd=wd)\n",
    "  learn.unfreeze()\n",
    "  learn.fit_one_cycle(epochs,learning_rate, wd=wd, moms=moms)\n",
    "  learner_list.append(learn)\n",
    "  \n",
    "  acc = (learn.validate())[1].item()\n",
    "  accuracy_list.append(acc)\n",
    "\n",
    "print('\\nAccuracy List')\n",
    "print(accuracy_list)\n",
    "\n",
    "print(\"\\nAverage Accuracy\")\n",
    "print( (sum(accuracy_list))/ (num_folds ))\n"
   ]
  },
  {
   "cell_type": "code",
   "execution_count": null,
   "metadata": {},
   "outputs": [],
   "source": [
    "learner_list[0].recorder.plot_losses()\n",
    "learner_list[0].recorder.plot_metrics()"
   ]
  },
  {
   "cell_type": "code",
   "execution_count": null,
   "metadata": {},
   "outputs": [],
   "source": [
    "learner_list[1].recorder.plot_losses()\n",
    "learner_list[1].recorder.plot_metrics()"
   ]
  },
  {
   "cell_type": "code",
   "execution_count": null,
   "metadata": {},
   "outputs": [],
   "source": [
    "learner_list[2].recorder.plot_losses()\n",
    "learner_list[2].recorder.plot_metrics()"
   ]
  },
  {
   "cell_type": "code",
   "execution_count": null,
   "metadata": {},
   "outputs": [],
   "source": [
    "learner_list[3].recorder.plot_losses()\n",
    "learner_list[3].recorder.plot_metrics()"
   ]
  },
  {
   "cell_type": "code",
   "execution_count": null,
   "metadata": {},
   "outputs": [],
   "source": [
    "learner_list[4].recorder.plot_losses()\n",
    "learner_list[4].recorder.plot_metrics()"
   ]
  },
  {
   "cell_type": "code",
   "execution_count": null,
   "metadata": {},
   "outputs": [],
   "source": []
  },
  {
   "cell_type": "code",
   "execution_count": null,
   "metadata": {},
   "outputs": [],
   "source": [
    "#Parameter settings 3"
   ]
  },
  {
   "cell_type": "code",
   "execution_count": null,
   "metadata": {},
   "outputs": [],
   "source": [
    "path_clas = Path('/home/ubuntu/data/autopsy')\n",
    "path_lm = Path('/home/ubuntu/data/autopsy')\n",
    "\n",
    "batch_size=32\n",
    "drop_mult=0.3\n",
    "learning_rate= slice(1e-4,1e-3)\n",
    "wd=1e-4\n",
    "num_folds = 5\n",
    "\n",
    "moms = (0.8,0.7)\n",
    "folds = ['data_suicide_homicide_k_1.csv','data_suicide_homicide_k_2.csv','data_suicide_homicide_k_3.csv','data_suicide_homicide_k_4.csv','data_suicide_homicide_k_5.csv']\n",
    "\n",
    "accuracy_list = []\n",
    "learner_list = []\n",
    "\n",
    "i = 0\n",
    "data_lm = TextLMDataBunch.from_csv(path_lm, 'data_suicide_homicide_k_1.csv', classes=['Suicide','Homicide'])\n",
    "for f in folds:\n",
    "  i = i + 1\n",
    "  \n",
    "  #data_lm = TextLMDataBunch.from_csv(path_lm, 'data_suicide_homicide_k_1.csv', classes=['Suicide','Homicide'])\n",
    "\n",
    "  data_clas = TextClasDataBunch.from_csv(path_clas,f, vocab=data_lm.train_ds.vocab, classes=['Suicide','Homicide'], bs=batch_size)\n",
    "\n",
    "  learn = text_classifier_learner(data_clas, drop_mult=drop_mult)\n",
    "  learn.load_encoder('enc_autopsy_not_pretrained')\n",
    "  learn.fit(4,learning_rate, wd=wd)\n",
    "  learn.unfreeze()\n",
    "  learn.fit_one_cycle(epochs,learning_rate, wd=wd, moms=moms)\n",
    "  learner_list.append(learn)\n",
    "  \n",
    "  acc = (learn.validate())[1].item()\n",
    "  accuracy_list.append(acc)\n",
    "\n",
    "print('\\nAccuracy List')\n",
    "print(accuracy_list)\n",
    "\n",
    "print(\"\\nAverage Accuracy\")\n",
    "print( (sum(accuracy_list))/ (num_folds ))\n"
   ]
  },
  {
   "cell_type": "code",
   "execution_count": null,
   "metadata": {},
   "outputs": [],
   "source": [
    "learner_list[0].recorder.plot_losses()\n",
    "learner_list[0].recorder.plot_metrics()"
   ]
  },
  {
   "cell_type": "code",
   "execution_count": null,
   "metadata": {},
   "outputs": [],
   "source": [
    "learner_list[1].recorder.plot_losses()\n",
    "learner_list[1].recorder.plot_metrics()"
   ]
  },
  {
   "cell_type": "code",
   "execution_count": null,
   "metadata": {},
   "outputs": [],
   "source": [
    "learner_list[2].recorder.plot_losses()\n",
    "learner_list[2].recorder.plot_metrics()"
   ]
  },
  {
   "cell_type": "code",
   "execution_count": null,
   "metadata": {},
   "outputs": [],
   "source": [
    "learner_list[3].recorder.plot_losses()\n",
    "learner_list[3].recorder.plot_metrics()"
   ]
  },
  {
   "cell_type": "code",
   "execution_count": null,
   "metadata": {},
   "outputs": [],
   "source": [
    "learner_list[4].recorder.plot_losses()\n",
    "learner_list[4].recorder.plot_metrics()"
   ]
  },
  {
   "cell_type": "code",
   "execution_count": null,
   "metadata": {},
   "outputs": [],
   "source": []
  },
  {
   "cell_type": "code",
   "execution_count": null,
   "metadata": {},
   "outputs": [],
   "source": [
    "#Parameter settings 4"
   ]
  },
  {
   "cell_type": "code",
   "execution_count": null,
   "metadata": {},
   "outputs": [],
   "source": [
    "path_clas = Path('/home/ubuntu/data/autopsy')\n",
    "path_lm = Path('/home/ubuntu/data/autopsy')\n",
    "\n",
    "batch_size=32\n",
    "drop_mult=0.3\n",
    "learning_rate= slice(1e-4,1e-2)\n",
    "wd=1e-4\n",
    "num_folds = 5\n",
    "\n",
    "moms = (0.8,0.7)\n",
    "folds = ['data_suicide_homicide_k_1.csv','data_suicide_homicide_k_2.csv','data_suicide_homicide_k_3.csv','data_suicide_homicide_k_4.csv','data_suicide_homicide_k_5.csv']\n",
    "\n",
    "accuracy_list = []\n",
    "learner_list = []\n",
    "\n",
    "i = 0\n",
    "data_lm = TextLMDataBunch.from_csv(path_lm, 'data_suicide_homicide_k_1.csv', classes=['Suicide','Homicide'])\n",
    "for f in folds:\n",
    "  i = i + 1\n",
    "  \n",
    "  #data_lm = TextLMDataBunch.from_csv(path_lm, 'data_suicide_homicide_k_1.csv', classes=['Suicide','Homicide'])\n",
    "\n",
    "  data_clas = TextClasDataBunch.from_csv(path_clas,f, vocab=data_lm.train_ds.vocab, classes=['Suicide','Homicide'], bs=batch_size)\n",
    "\n",
    "  learn = text_classifier_learner(data_clas, drop_mult=drop_mult)\n",
    "  learn.load_encoder('enc_autopsy_not_pretrained')\n",
    "  learn.fit(4,learning_rate, wd=wd)\n",
    "  learn.unfreeze()\n",
    "  learn.fit_one_cycle(epochs,learning_rate, wd=wd, moms=moms)\n",
    "  learner_list.append(learn)\n",
    "  \n",
    "  acc = (learn.validate())[1].item()\n",
    "  accuracy_list.append(acc)\n",
    "\n",
    "print('\\nAccuracy List')\n",
    "print(accuracy_list)\n",
    "\n",
    "print(\"\\nAverage Accuracy\")\n",
    "print( (sum(accuracy_list))/ (num_folds ))\n"
   ]
  },
  {
   "cell_type": "code",
   "execution_count": null,
   "metadata": {},
   "outputs": [],
   "source": [
    "learner_list[0].recorder.plot_losses()\n",
    "learner_list[0].recorder.plot_metrics()"
   ]
  },
  {
   "cell_type": "code",
   "execution_count": null,
   "metadata": {},
   "outputs": [],
   "source": [
    "learner_list[1].recorder.plot_losses()\n",
    "learner_list[1].recorder.plot_metrics()"
   ]
  },
  {
   "cell_type": "code",
   "execution_count": null,
   "metadata": {},
   "outputs": [],
   "source": [
    "learner_list[2].recorder.plot_losses()\n",
    "learner_list[2].recorder.plot_metrics()"
   ]
  },
  {
   "cell_type": "code",
   "execution_count": null,
   "metadata": {},
   "outputs": [],
   "source": [
    "learner_list[3].recorder.plot_losses()\n",
    "learner_list[3].recorder.plot_metrics()"
   ]
  },
  {
   "cell_type": "code",
   "execution_count": null,
   "metadata": {},
   "outputs": [],
   "source": [
    "learner_list[4].recorder.plot_losses()\n",
    "learner_list[4].recorder.plot_metrics()"
   ]
  },
  {
   "cell_type": "code",
   "execution_count": null,
   "metadata": {},
   "outputs": [],
   "source": []
  },
  {
   "cell_type": "code",
   "execution_count": null,
   "metadata": {},
   "outputs": [],
   "source": []
  },
  {
   "cell_type": "code",
   "execution_count": null,
   "metadata": {},
   "outputs": [],
   "source": []
  },
  {
   "cell_type": "code",
   "execution_count": null,
   "metadata": {},
   "outputs": [],
   "source": [
    "#Large RNN using an AWD LSTM activation (finetuned with the Nidia27k data)"
   ]
  },
  {
   "cell_type": "code",
   "execution_count": null,
   "metadata": {},
   "outputs": [],
   "source": [
    "#Parameter settings 1"
   ]
  },
  {
   "cell_type": "code",
   "execution_count": null,
   "metadata": {},
   "outputs": [],
   "source": [
    "path_clas = Path('/home/ubuntu/data/autopsy')\n",
    "path_lm = Path('/home/ubuntu/data/medical/nidia27k_preprocess')\n",
    "\n",
    "batch_size=32\n",
    "drop_mult=0.1\n",
    "learning_rate=slice(1e-5,1e-3)\n",
    "wd=1e-4\n",
    "num_folds = 5\n",
    "\n",
    "moms = (0.8,0.7)\n",
    "folds = ['data_suicide_homicide_k_1.csv','data_suicide_homicide_k_2.csv','data_suicide_homicide_k_3.csv','data_suicide_homicide_k_4.csv','data_suicide_homicide_k_5.csv']\n",
    "\n",
    "accuracy_list = []\n",
    "learner_list = []\n",
    "i = 0\n",
    "data_lm = TextLMDataBunch.from_csv(path_lm,'documents-preprocess-valid.csv', classes=['neg','pos'], bs=batch_size)\n",
    "for f in folds:\n",
    "  i = i + 1\n",
    "  print(\"\\nFold: \" + str(i))\n",
    "  #data_lm = TextLMDataBunch.from_csv(path_lm, f, classes=['Suicide','Homicide'])\n",
    "  #data_lm = TextLMDataBunch.from_csv(path_lm,'documents-preprocess-valid.csv', classes=['neg','pos'], bs=batch_size)\n",
    "  data_clas = TextClasDataBunch.from_csv(path_clas,f, vocab=data_lm.train_ds.vocab, classes=['Suicide','Homicide'], bs=batch_size)\n",
    "\n",
    "  learn = text_classifier_learner(data_clas, drop_mult=drop_mult)\n",
    "  learn.load_encoder('enc_nidia_not_pretrained')\n",
    "  learn.fit(4,learning_rate, wd=wd)\n",
    "  learn.unfreeze()\n",
    "  learn.fit_one_cycle(epochs,learning_rate, wd=wd, moms=moms)\n",
    "  \n",
    "  learner_list.append(learn)  \n",
    "    \n",
    "  acc = (learn.validate())[1].item()\n",
    "  accuracy_list.append(acc)\n",
    "\n",
    "print('\\nAccuracy List')\n",
    "print(accuracy_list)\n",
    "\n",
    "print(\"\\nAverage Accuracy\")\n",
    "print( (sum(accuracy_list))/ (num_folds ))"
   ]
  },
  {
   "cell_type": "code",
   "execution_count": null,
   "metadata": {},
   "outputs": [],
   "source": [
    "learner_list[0].recorder.plot_losses()\n",
    "learner_list[0].recorder.plot_metrics()"
   ]
  },
  {
   "cell_type": "code",
   "execution_count": null,
   "metadata": {},
   "outputs": [],
   "source": [
    "learner_list[1].recorder.plot_losses()\n",
    "learner_list[1].recorder.plot_metrics()"
   ]
  },
  {
   "cell_type": "code",
   "execution_count": null,
   "metadata": {},
   "outputs": [],
   "source": [
    "learner_list[2].recorder.plot_losses()\n",
    "learner_list[2].recorder.plot_metrics()"
   ]
  },
  {
   "cell_type": "code",
   "execution_count": null,
   "metadata": {},
   "outputs": [],
   "source": [
    "learner_list[3].recorder.plot_losses()\n",
    "learner_list[3].recorder.plot_metrics()"
   ]
  },
  {
   "cell_type": "code",
   "execution_count": null,
   "metadata": {},
   "outputs": [],
   "source": [
    "learner_list[4].recorder.plot_losses()\n",
    "learner_list[4].recorder.plot_metrics()"
   ]
  },
  {
   "cell_type": "code",
   "execution_count": null,
   "metadata": {},
   "outputs": [],
   "source": []
  },
  {
   "cell_type": "code",
   "execution_count": null,
   "metadata": {},
   "outputs": [],
   "source": [
    "#Parameter settings 2"
   ]
  },
  {
   "cell_type": "code",
   "execution_count": null,
   "metadata": {},
   "outputs": [],
   "source": [
    "path_clas = Path('/home/ubuntu/data/autopsy')\n",
    "path_lm = Path('/home/ubuntu/data/medical/nidia27k_preprocess')\n",
    "\n",
    "batch_size=32\n",
    "drop_mult=0.5\n",
    "learning_rate=slice(1e-5,1e-3)\n",
    "wd=1e-4\n",
    "num_folds = 5\n",
    "\n",
    "moms = (0.8,0.7)\n",
    "folds = ['data_suicide_homicide_k_1.csv','data_suicide_homicide_k_2.csv','data_suicide_homicide_k_3.csv','data_suicide_homicide_k_4.csv','data_suicide_homicide_k_5.csv']\n",
    "\n",
    "accuracy_list = []\n",
    "learner_list = []\n",
    "i = 0\n",
    "data_lm = TextLMDataBunch.from_csv(path_lm,'documents-preprocess-valid.csv', classes=['neg','pos'], bs=batch_size)\n",
    "for f in folds:\n",
    "  i = i + 1\n",
    "  print(\"\\nFold: \" + str(i))\n",
    "  #data_lm = TextLMDataBunch.from_csv(path_lm, f, classes=['Suicide','Homicide'])\n",
    "  #data_lm = TextLMDataBunch.from_csv(path_lm,'documents-preprocess-valid.csv', classes=['neg','pos'], bs=batch_size)\n",
    "  data_clas = TextClasDataBunch.from_csv(path_clas,f, vocab=data_lm.train_ds.vocab, classes=['Suicide','Homicide'], bs=batch_size)\n",
    "\n",
    "  learn = text_classifier_learner(data_clas, drop_mult=drop_mult)\n",
    "  learn.load_encoder('enc_nidia_not_pretrained')\n",
    "  learn.fit(4,learning_rate, wd=wd)\n",
    "  learn.unfreeze()\n",
    "  learn.fit_one_cycle(epochs,learning_rate, wd=wd, moms=moms)\n",
    "  \n",
    "  learner_list.append(learn)  \n",
    "    \n",
    "  acc = (learn.validate())[1].item()\n",
    "  accuracy_list.append(acc)\n",
    "\n",
    "print('\\nAccuracy List')\n",
    "print(accuracy_list)\n",
    "\n",
    "print(\"\\nAverage Accuracy\")\n",
    "print( (sum(accuracy_list))/ (num_folds ))"
   ]
  },
  {
   "cell_type": "code",
   "execution_count": null,
   "metadata": {},
   "outputs": [],
   "source": [
    "learner_list[0].recorder.plot_losses()\n",
    "learner_list[0].recorder.plot_metrics()"
   ]
  },
  {
   "cell_type": "code",
   "execution_count": null,
   "metadata": {},
   "outputs": [],
   "source": [
    "learner_list[1].recorder.plot_losses()\n",
    "learner_list[1].recorder.plot_metrics()"
   ]
  },
  {
   "cell_type": "code",
   "execution_count": null,
   "metadata": {},
   "outputs": [],
   "source": [
    "learner_list[2].recorder.plot_losses()\n",
    "learner_list[2].recorder.plot_metrics()"
   ]
  },
  {
   "cell_type": "code",
   "execution_count": null,
   "metadata": {},
   "outputs": [],
   "source": [
    "learner_list[3].recorder.plot_losses()\n",
    "learner_list[3].recorder.plot_metrics()"
   ]
  },
  {
   "cell_type": "code",
   "execution_count": null,
   "metadata": {},
   "outputs": [],
   "source": [
    "learner_list[4].recorder.plot_losses()\n",
    "learner_list[4].recorder.plot_metrics()"
   ]
  },
  {
   "cell_type": "code",
   "execution_count": null,
   "metadata": {},
   "outputs": [],
   "source": []
  },
  {
   "cell_type": "code",
   "execution_count": null,
   "metadata": {},
   "outputs": [],
   "source": [
    "#Parameter settings 3"
   ]
  },
  {
   "cell_type": "code",
   "execution_count": null,
   "metadata": {},
   "outputs": [],
   "source": [
    "path_clas = Path('/home/ubuntu/data/autopsy')\n",
    "path_lm = Path('/home/ubuntu/data/medical/nidia27k_preprocess')\n",
    "\n",
    "batch_size=32\n",
    "drop_mult=0.3\n",
    "learning_rate=slice(1e-4,1e-3)\n",
    "wd=1e-4\n",
    "num_folds = 5\n",
    "\n",
    "moms = (0.8,0.7)\n",
    "folds = ['data_suicide_homicide_k_1.csv','data_suicide_homicide_k_2.csv','data_suicide_homicide_k_3.csv','data_suicide_homicide_k_4.csv','data_suicide_homicide_k_5.csv']\n",
    "\n",
    "accuracy_list = []\n",
    "learner_list = []\n",
    "i = 0\n",
    "data_lm = TextLMDataBunch.from_csv(path_lm,'documents-preprocess-valid.csv', classes=['neg','pos'], bs=batch_size)\n",
    "for f in folds:\n",
    "  i = i + 1\n",
    "  print(\"\\nFold: \" + str(i))\n",
    "  #data_lm = TextLMDataBunch.from_csv(path_lm, f, classes=['Suicide','Homicide'])\n",
    "  #data_lm = TextLMDataBunch.from_csv(path_lm,'documents-preprocess-valid.csv', classes=['neg','pos'], bs=batch_size)\n",
    "  data_clas = TextClasDataBunch.from_csv(path_clas,f, vocab=data_lm.train_ds.vocab, classes=['Suicide','Homicide'], bs=batch_size)\n",
    "\n",
    "  learn = text_classifier_learner(data_clas, drop_mult=drop_mult)\n",
    "  learn.load_encoder('enc_nidia_not_pretrained')\n",
    "  learn.fit(4,learning_rate, wd=wd)\n",
    "  learn.unfreeze()\n",
    "  learn.fit_one_cycle(epochs,learning_rate, wd=wd, moms=moms)\n",
    "  \n",
    "  learner_list.append(learn)  \n",
    "    \n",
    "  acc = (learn.validate())[1].item()\n",
    "  accuracy_list.append(acc)\n",
    "\n",
    "print('\\nAccuracy List')\n",
    "print(accuracy_list)\n",
    "\n",
    "print(\"\\nAverage Accuracy\")\n",
    "print( (sum(accuracy_list))/ (num_folds ))"
   ]
  },
  {
   "cell_type": "code",
   "execution_count": null,
   "metadata": {},
   "outputs": [],
   "source": [
    "learner_list[0].recorder.plot_losses()\n",
    "learner_list[0].recorder.plot_metrics()"
   ]
  },
  {
   "cell_type": "code",
   "execution_count": null,
   "metadata": {},
   "outputs": [],
   "source": [
    "learner_list[1].recorder.plot_losses()\n",
    "learner_list[1].recorder.plot_metrics()"
   ]
  },
  {
   "cell_type": "code",
   "execution_count": null,
   "metadata": {},
   "outputs": [],
   "source": [
    "learner_list[2].recorder.plot_losses()\n",
    "learner_list[2].recorder.plot_metrics()"
   ]
  },
  {
   "cell_type": "code",
   "execution_count": null,
   "metadata": {},
   "outputs": [],
   "source": [
    "learner_list[3].recorder.plot_losses()\n",
    "learner_list[3].recorder.plot_metrics()"
   ]
  },
  {
   "cell_type": "code",
   "execution_count": null,
   "metadata": {},
   "outputs": [],
   "source": [
    "learner_list[4].recorder.plot_losses()\n",
    "learner_list[4].recorder.plot_metrics()"
   ]
  },
  {
   "cell_type": "code",
   "execution_count": null,
   "metadata": {},
   "outputs": [],
   "source": []
  },
  {
   "cell_type": "code",
   "execution_count": null,
   "metadata": {},
   "outputs": [],
   "source": [
    "#Parameter settings 4"
   ]
  },
  {
   "cell_type": "code",
   "execution_count": null,
   "metadata": {},
   "outputs": [],
   "source": [
    "path_clas = Path('/home/ubuntu/data/autopsy')\n",
    "path_lm = Path('/home/ubuntu/data/medical/nidia27k_preprocess')\n",
    "\n",
    "batch_size=32\n",
    "drop_mult=0.3\n",
    "learning_rate=slice(1e-4,1e-2)\n",
    "wd=1e-4\n",
    "num_folds = 5\n",
    "\n",
    "moms = (0.8,0.7)\n",
    "folds = ['data_suicide_homicide_k_1.csv','data_suicide_homicide_k_2.csv','data_suicide_homicide_k_3.csv','data_suicide_homicide_k_4.csv','data_suicide_homicide_k_5.csv']\n",
    "\n",
    "accuracy_list = []\n",
    "learner_list = []\n",
    "i = 0\n",
    "data_lm = TextLMDataBunch.from_csv(path_lm,'documents-preprocess-valid.csv', classes=['neg','pos'], bs=batch_size)\n",
    "for f in folds:\n",
    "  i = i + 1\n",
    "  print(\"\\nFold: \" + str(i))\n",
    "  #data_lm = TextLMDataBunch.from_csv(path_lm, f, classes=['Suicide','Homicide'])\n",
    "  #data_lm = TextLMDataBunch.from_csv(path_lm,'documents-preprocess-valid.csv', classes=['neg','pos'], bs=batch_size)\n",
    "  data_clas = TextClasDataBunch.from_csv(path_clas,f, vocab=data_lm.train_ds.vocab, classes=['Suicide','Homicide'], bs=batch_size)\n",
    "\n",
    "  learn = text_classifier_learner(data_clas, drop_mult=drop_mult)\n",
    "  learn.load_encoder('enc_nidia_not_pretrained')\n",
    "  learn.fit(4,learning_rate, wd=wd)\n",
    "  learn.unfreeze()\n",
    "  learn.fit_one_cycle(epochs,learning_rate, wd=wd, moms=moms)\n",
    "  \n",
    "  learner_list.append(learn)  \n",
    "    \n",
    "  acc = (learn.validate())[1].item()\n",
    "  accuracy_list.append(acc)\n",
    "\n",
    "print('\\nAccuracy List')\n",
    "print(accuracy_list)\n",
    "\n",
    "print(\"\\nAverage Accuracy\")\n",
    "print( (sum(accuracy_list))/ (float(num_folds)  ))"
   ]
  },
  {
   "cell_type": "code",
   "execution_count": null,
   "metadata": {},
   "outputs": [],
   "source": [
    "learner_list[0].recorder.plot_losses()\n",
    "learner_list[0].recorder.plot_metrics()"
   ]
  },
  {
   "cell_type": "code",
   "execution_count": null,
   "metadata": {},
   "outputs": [],
   "source": [
    "learner_list[1].recorder.plot_losses()\n",
    "learner_list[1].recorder.plot_metrics()"
   ]
  },
  {
   "cell_type": "code",
   "execution_count": null,
   "metadata": {},
   "outputs": [],
   "source": [
    "learner_list[2].recorder.plot_losses()\n",
    "learner_list[2].recorder.plot_metrics()"
   ]
  },
  {
   "cell_type": "code",
   "execution_count": null,
   "metadata": {},
   "outputs": [],
   "source": [
    "learner_list[3].recorder.plot_losses()\n",
    "learner_list[3].recorder.plot_metrics()"
   ]
  },
  {
   "cell_type": "code",
   "execution_count": null,
   "metadata": {},
   "outputs": [],
   "source": [
    "learner_list[4].recorder.plot_losses()\n",
    "learner_list[4].recorder.plot_metrics()"
   ]
  },
  {
   "cell_type": "code",
   "execution_count": null,
   "metadata": {},
   "outputs": [],
   "source": []
  },
  {
   "cell_type": "code",
   "execution_count": null,
   "metadata": {},
   "outputs": [],
   "source": []
  },
  {
   "cell_type": "code",
   "execution_count": null,
   "metadata": {},
   "outputs": [],
   "source": []
  },
  {
   "cell_type": "code",
   "execution_count": null,
   "metadata": {},
   "outputs": [],
   "source": []
  },
  {
   "cell_type": "code",
   "execution_count": null,
   "metadata": {},
   "outputs": [],
   "source": [
    "#Large RNN using an AWD LSTM activation (pretrained with WikiText and finetuned with the autopsy data)"
   ]
  },
  {
   "cell_type": "code",
   "execution_count": null,
   "metadata": {},
   "outputs": [],
   "source": [
    "#Parameter settings 1"
   ]
  },
  {
   "cell_type": "code",
   "execution_count": null,
   "metadata": {},
   "outputs": [],
   "source": [
    "path_clas = Path('/home/ubuntu/data/autopsy')\n",
    "path_lm = Path('/home/ubuntu/data/autopsy')\n",
    "\n",
    "batch_size=32\n",
    "drop_mult=0.1\n",
    "learning_rate=slice(1e-5,1e-3)\n",
    "wd=1e-4\n",
    "num_folds = 5\n",
    "\n",
    "moms = (0.8,0.7)\n",
    "folds = ['data_suicide_homicide_k_1.csv','data_suicide_homicide_k_2.csv','data_suicide_homicide_k_3.csv','data_suicide_homicide_k_4.csv','data_suicide_homicide_k_5.csv']\n",
    "\n",
    "accuracy_list = []\n",
    "learner_list = []\n",
    "i = 0\n",
    "data_lm = TextLMDataBunch.from_csv(path_lm, 'data_suicide_homicide_k_1.csv', classes=['Suicide','Homicide'])\n",
    "for f in folds:\n",
    "  i = i + 1\n",
    "  print(\"\\nFold: \" + str(i))\n",
    "  #data_lm = TextLMDataBunch.from_csv(path_lm, f, classes=['Suicide','Homicide'])\n",
    "  data_clas = TextClasDataBunch.from_csv(path_clas,f, vocab=data_lm.train_ds.vocab, classes=['Suicide','Homicide'], bs=batch_size)\n",
    "\n",
    "  learn = text_classifier_learner(data_clas, drop_mult=drop_mult)\n",
    "  learn.load_encoder('enc_autopsy_pretrained')\n",
    "  learn.fit(4,learning_rate, wd=wd)\n",
    "  learn.unfreeze()\n",
    "  learn.fit_one_cycle(epochs,learning_rate, wd=wd, moms=moms)\n",
    "  learner_list.append(learn)\n",
    "  \n",
    "  acc = (learn.validate())[1].item()\n",
    "  accuracy_list.append(acc)\n",
    "\n",
    "print('\\nAccuracy List')\n",
    "print(accuracy_list)\n",
    "\n",
    "print(\"\\nAverage Accuracy\")\n",
    "print( (sum(accuracy_list))/ num_folds  ))\n"
   ]
  },
  {
   "cell_type": "code",
   "execution_count": null,
   "metadata": {},
   "outputs": [],
   "source": [
    "learner_list[0].recorder.plot_losses()\n",
    "learner_list[0].recorder.plot_metrics()"
   ]
  },
  {
   "cell_type": "code",
   "execution_count": null,
   "metadata": {},
   "outputs": [],
   "source": [
    "learner_list[1].recorder.plot_losses()\n",
    "learner_list[1].recorder.plot_metrics()"
   ]
  },
  {
   "cell_type": "code",
   "execution_count": null,
   "metadata": {},
   "outputs": [],
   "source": [
    "learner_list[2].recorder.plot_losses()\n",
    "learner_list[2].recorder.plot_metrics()"
   ]
  },
  {
   "cell_type": "code",
   "execution_count": null,
   "metadata": {},
   "outputs": [],
   "source": [
    "learner_list[3].recorder.plot_losses()\n",
    "learner_list[3].recorder.plot_metrics()"
   ]
  },
  {
   "cell_type": "code",
   "execution_count": null,
   "metadata": {},
   "outputs": [],
   "source": [
    "learner_list[4].recorder.plot_losses()\n",
    "learner_list[4].recorder.plot_metrics()"
   ]
  },
  {
   "cell_type": "code",
   "execution_count": null,
   "metadata": {},
   "outputs": [],
   "source": []
  },
  {
   "cell_type": "code",
   "execution_count": null,
   "metadata": {},
   "outputs": [],
   "source": [
    "#Parameter settings 2"
   ]
  },
  {
   "cell_type": "code",
   "execution_count": null,
   "metadata": {},
   "outputs": [],
   "source": [
    "path_clas = Path('/home/ubuntu/data/autopsy')\n",
    "path_lm = Path('/home/ubuntu/data/autopsy')\n",
    "\n",
    "batch_size=32\n",
    "drop_mult=0.5\n",
    "learning_rate=slice(1e-5,1e-3)\n",
    "wd=1e-4\n",
    "num_folds = 5\n",
    "\n",
    "moms = (0.8,0.7)\n",
    "folds = ['data_suicide_homicide_k_1.csv','data_suicide_homicide_k_2.csv','data_suicide_homicide_k_3.csv','data_suicide_homicide_k_4.csv','data_suicide_homicide_k_5.csv']\n",
    "\n",
    "accuracy_list = []\n",
    "learner_list = []\n",
    "i = 0\n",
    "data_lm = TextLMDataBunch.from_csv(path_lm, 'data_suicide_homicide_k_1.csv', classes=['Suicide','Homicide'])\n",
    "for f in folds:\n",
    "  i = i + 1\n",
    "  print(\"\\nFold: \" + str(i))\n",
    "  #data_lm = TextLMDataBunch.from_csv(path_lm, f, classes=['Suicide','Homicide'])\n",
    "  data_clas = TextClasDataBunch.from_csv(path_clas,f, vocab=data_lm.train_ds.vocab, classes=['Suicide','Homicide'], bs=batch_size)\n",
    "\n",
    "  learn = text_classifier_learner(data_clas, drop_mult=drop_mult)\n",
    "  learn.load_encoder('enc_autopsy_pretrained')\n",
    "  learn.fit(4,learning_rate, wd=wd)\n",
    "  learn.unfreeze()\n",
    "  learn.fit_one_cycle(epochs,learning_rate, wd=wd, moms=moms)\n",
    "  learner_list.append(learn)\n",
    "  \n",
    "  acc = (learn.validate())[1].item()\n",
    "  accuracy_list.append(acc)\n",
    "\n",
    "print('\\nAccuracy List')\n",
    "print(accuracy_list)\n",
    "\n",
    "print(\"\\nAverage Accuracy\")\n",
    "print( (sum(accuracy_list))/ num_folds  ))\n"
   ]
  },
  {
   "cell_type": "code",
   "execution_count": null,
   "metadata": {},
   "outputs": [],
   "source": [
    "learner_list[0].recorder.plot_losses()\n",
    "learner_list[0].recorder.plot_metrics()"
   ]
  },
  {
   "cell_type": "code",
   "execution_count": null,
   "metadata": {},
   "outputs": [],
   "source": [
    "learner_list[1].recorder.plot_losses()\n",
    "learner_list[1].recorder.plot_metrics()"
   ]
  },
  {
   "cell_type": "code",
   "execution_count": null,
   "metadata": {},
   "outputs": [],
   "source": [
    "learner_list[2].recorder.plot_losses()\n",
    "learner_list[2].recorder.plot_metrics()"
   ]
  },
  {
   "cell_type": "code",
   "execution_count": null,
   "metadata": {},
   "outputs": [],
   "source": [
    "learner_list[3].recorder.plot_losses()\n",
    "learner_list[3].recorder.plot_metrics()"
   ]
  },
  {
   "cell_type": "code",
   "execution_count": null,
   "metadata": {},
   "outputs": [],
   "source": [
    "learner_list[4].recorder.plot_losses()\n",
    "learner_list[4].recorder.plot_metrics()"
   ]
  },
  {
   "cell_type": "code",
   "execution_count": null,
   "metadata": {},
   "outputs": [],
   "source": []
  },
  {
   "cell_type": "code",
   "execution_count": null,
   "metadata": {},
   "outputs": [],
   "source": [
    "#Parameter settings 3"
   ]
  },
  {
   "cell_type": "code",
   "execution_count": null,
   "metadata": {},
   "outputs": [],
   "source": [
    "path_clas = Path('/home/ubuntu/data/autopsy')\n",
    "path_lm = Path('/home/ubuntu/data/autopsy')\n",
    "\n",
    "batch_size=32\n",
    "drop_mult=0.3\n",
    "learning_rate=slice(1e-4,1e-3)\n",
    "wd=1e-4\n",
    "num_folds = 5\n",
    "\n",
    "moms = (0.8,0.7)\n",
    "folds = ['data_suicide_homicide_k_1.csv','data_suicide_homicide_k_2.csv','data_suicide_homicide_k_3.csv','data_suicide_homicide_k_4.csv','data_suicide_homicide_k_5.csv']\n",
    "\n",
    "accuracy_list = []\n",
    "learner_list = []\n",
    "i = 0\n",
    "data_lm = TextLMDataBunch.from_csv(path_lm, 'data_suicide_homicide_k_1.csv', classes=['Suicide','Homicide'])\n",
    "for f in folds:\n",
    "  i = i + 1\n",
    "  print(\"\\nFold: \" + str(i))\n",
    "  #data_lm = TextLMDataBunch.from_csv(path_lm, f, classes=['Suicide','Homicide'])\n",
    "  data_clas = TextClasDataBunch.from_csv(path_clas,f, vocab=data_lm.train_ds.vocab, classes=['Suicide','Homicide'], bs=batch_size)\n",
    "\n",
    "  learn = text_classifier_learner(data_clas, drop_mult=drop_mult)\n",
    "  learn.load_encoder('enc_autopsy_pretrained')\n",
    "  learn.fit(4,learning_rate, wd=wd)\n",
    "  learn.unfreeze()\n",
    "  learn.fit_one_cycle(epochs,learning_rate, wd=wd, moms=moms)\n",
    "  learner_list.append(learn)\n",
    "  \n",
    "  acc = (learn.validate())[1].item()\n",
    "  accuracy_list.append(acc)\n",
    "\n",
    "print('\\nAccuracy List')\n",
    "print(accuracy_list)\n",
    "\n",
    "print(\"\\nAverage Accuracy\")\n",
    "print( (sum(accuracy_list))/ num_folds  ))\n"
   ]
  },
  {
   "cell_type": "code",
   "execution_count": null,
   "metadata": {},
   "outputs": [],
   "source": [
    "learner_list[0].recorder.plot_losses()\n",
    "learner_list[0].recorder.plot_metrics()"
   ]
  },
  {
   "cell_type": "code",
   "execution_count": null,
   "metadata": {},
   "outputs": [],
   "source": [
    "learner_list[1].recorder.plot_losses()\n",
    "learner_list[1].recorder.plot_metrics()"
   ]
  },
  {
   "cell_type": "code",
   "execution_count": null,
   "metadata": {},
   "outputs": [],
   "source": [
    "learner_list[2].recorder.plot_losses()\n",
    "learner_list[2].recorder.plot_metrics()"
   ]
  },
  {
   "cell_type": "code",
   "execution_count": null,
   "metadata": {},
   "outputs": [],
   "source": [
    "learner_list[3].recorder.plot_losses()\n",
    "learner_list[3].recorder.plot_metrics()"
   ]
  },
  {
   "cell_type": "code",
   "execution_count": null,
   "metadata": {},
   "outputs": [],
   "source": [
    "learner_list[4].recorder.plot_losses()\n",
    "learner_list[4].recorder.plot_metrics()"
   ]
  },
  {
   "cell_type": "code",
   "execution_count": null,
   "metadata": {},
   "outputs": [],
   "source": []
  },
  {
   "cell_type": "code",
   "execution_count": null,
   "metadata": {},
   "outputs": [],
   "source": [
    "#Parameter settings 4"
   ]
  },
  {
   "cell_type": "code",
   "execution_count": null,
   "metadata": {},
   "outputs": [],
   "source": [
    "path_clas = Path('/home/ubuntu/data/autopsy')\n",
    "path_lm = Path('/home/ubuntu/data/autopsy')\n",
    "\n",
    "batch_size=32\n",
    "drop_mult=0.3\n",
    "learning_rate=slice(1e-4,1e-2)\n",
    "wd=1e-4\n",
    "num_folds = 5\n",
    "\n",
    "moms = (0.8,0.7)\n",
    "folds = ['data_suicide_homicide_k_1.csv','data_suicide_homicide_k_2.csv','data_suicide_homicide_k_3.csv','data_suicide_homicide_k_4.csv','data_suicide_homicide_k_5.csv']\n",
    "\n",
    "accuracy_list = []\n",
    "learner_list = []\n",
    "i = 0\n",
    "data_lm = TextLMDataBunch.from_csv(path_lm, 'data_suicide_homicide_k_1.csv', classes=['Suicide','Homicide'])\n",
    "for f in folds:\n",
    "  i = i + 1\n",
    "  print(\"\\nFold: \" + str(i))\n",
    "  #data_lm = TextLMDataBunch.from_csv(path_lm, f, classes=['Suicide','Homicide'])\n",
    "  data_clas = TextClasDataBunch.from_csv(path_clas,f, vocab=data_lm.train_ds.vocab, classes=['Suicide','Homicide'], bs=batch_size)\n",
    "\n",
    "  learn = text_classifier_learner(data_clas, drop_mult=drop_mult)\n",
    "  learn.load_encoder('enc_autopsy_pretrained')\n",
    "  learn.fit(4,learning_rate, wd=wd)\n",
    "  learn.unfreeze()\n",
    "  learn.fit_one_cycle(epochs,learning_rate, wd=wd, moms=moms)\n",
    "  learner_list.append(learn)\n",
    "  \n",
    "  acc = (learn.validate())[1].item()\n",
    "  accuracy_list.append(acc)\n",
    "\n",
    "print('\\nAccuracy List')\n",
    "print(accuracy_list)\n",
    "\n",
    "print(\"\\nAverage Accuracy\")\n",
    "print( (sum(accuracy_list))/ num_folds  ))\n"
   ]
  },
  {
   "cell_type": "code",
   "execution_count": null,
   "metadata": {},
   "outputs": [],
   "source": [
    "learner_list[0].recorder.plot_losses()\n",
    "learner_list[0].recorder.plot_metrics()"
   ]
  },
  {
   "cell_type": "code",
   "execution_count": null,
   "metadata": {},
   "outputs": [],
   "source": [
    "learner_list[1].recorder.plot_losses()\n",
    "learner_list[1].recorder.plot_metrics()"
   ]
  },
  {
   "cell_type": "code",
   "execution_count": null,
   "metadata": {},
   "outputs": [],
   "source": [
    "learner_list[2].recorder.plot_losses()\n",
    "learner_list[2].recorder.plot_metrics()"
   ]
  },
  {
   "cell_type": "code",
   "execution_count": null,
   "metadata": {},
   "outputs": [],
   "source": [
    "learner_list[3].recorder.plot_losses()\n",
    "learner_list[3].recorder.plot_metrics()"
   ]
  },
  {
   "cell_type": "code",
   "execution_count": null,
   "metadata": {},
   "outputs": [],
   "source": [
    "learner_list[4].recorder.plot_losses()\n",
    "learner_list[4].recorder.plot_metrics()"
   ]
  },
  {
   "cell_type": "code",
   "execution_count": null,
   "metadata": {},
   "outputs": [],
   "source": []
  },
  {
   "cell_type": "code",
   "execution_count": null,
   "metadata": {},
   "outputs": [],
   "source": []
  },
  {
   "cell_type": "code",
   "execution_count": null,
   "metadata": {},
   "outputs": [],
   "source": []
  },
  {
   "cell_type": "code",
   "execution_count": null,
   "metadata": {},
   "outputs": [],
   "source": []
  },
  {
   "cell_type": "code",
   "execution_count": null,
   "metadata": {},
   "outputs": [],
   "source": [
    "#Large RNN using an AWD LSTM activation (pretrained with WikiText and finetuned with the Nidia27k data)"
   ]
  },
  {
   "cell_type": "code",
   "execution_count": null,
   "metadata": {},
   "outputs": [],
   "source": [
    "#Parameter settings 1"
   ]
  },
  {
   "cell_type": "code",
   "execution_count": null,
   "metadata": {},
   "outputs": [],
   "source": [
    "path_clas = Path('/home/ubuntu/data/autopsy')\n",
    "path_lm = Path('/home/ubuntu/data/medical/nidia27k_preprocess')\n",
    "\n",
    "batch_size=32\n",
    "drop_mult=0.1\n",
    "learning_rate=slice(1e-5,1e-3)\n",
    "wd=1e-4\n",
    "num_folds = 5\n",
    "\n",
    "moms = (0.8,0.7)\n",
    "folds = ['data_suicide_homicide_k_1.csv','data_suicide_homicide_k_2.csv','data_suicide_homicide_k_3.csv','data_suicide_homicide_k_4.csv','data_suicide_homicide_k_5.csv']\n",
    "\n",
    "accuracy_list = []\n",
    "learner_list = []\n",
    "i = 0\n",
    "data_lm = TextLMDataBunch.from_csv(path_lm, 'documents-preprocess-valid.csv', classes=['neg','pos'])\n",
    "for f in folds:\n",
    "  i = i + 1\n",
    "  print(\"\\nFold: \" + str(i))\n",
    "  #data_lm = TextLMDataBunch.from_csv(path_lm, f, classes=['neg','pos'])\n",
    "  data_clas = TextClasDataBunch.from_csv(path_clas,f, vocab=data_lm.train_ds.vocab, classes=['Suicide','Homicide'],bs=batch_size)\n",
    "\n",
    "  learn = text_classifier_learner(data_clas, drop_mult=drop_mult)\n",
    "  learn.load_encoder('enc_nidia_pretrained')\n",
    "  learn.fit(4,learning_rate, wd=wd)\n",
    "  learn.unfreeze()\n",
    "  learn.fit_one_cycle(epochs,learning_rate, wd=wd, moms=moms)\n",
    "  learner_list.append(learn)\n",
    "  \n",
    "  acc = (learn.validate())[1].item()\n",
    "  accuracy_list.append(acc)\n",
    "\n",
    "print('\\nAccuracy List')\n",
    "print(accuracy_list)\n",
    "\n",
    "print(\"\\nAverage Accuracy\")\n",
    "print( (sum(accuracy_list))/ (num_folds))"
   ]
  },
  {
   "cell_type": "code",
   "execution_count": null,
   "metadata": {},
   "outputs": [],
   "source": [
    "learner_list[0].recorder.plot_losses()\n",
    "learner_list[0].recorder.plot_metrics()"
   ]
  },
  {
   "cell_type": "code",
   "execution_count": null,
   "metadata": {},
   "outputs": [],
   "source": [
    "learner_list[1].recorder.plot_losses()\n",
    "learner_list[1].recorder.plot_metrics()"
   ]
  },
  {
   "cell_type": "code",
   "execution_count": null,
   "metadata": {},
   "outputs": [],
   "source": [
    "learner_list[2].recorder.plot_losses()\n",
    "learner_list[2].recorder.plot_metrics()"
   ]
  },
  {
   "cell_type": "code",
   "execution_count": null,
   "metadata": {},
   "outputs": [],
   "source": [
    "learner_list[3].recorder.plot_losses()\n",
    "learner_list[3].recorder.plot_metrics()"
   ]
  },
  {
   "cell_type": "code",
   "execution_count": null,
   "metadata": {},
   "outputs": [],
   "source": [
    "learner_list[4].recorder.plot_losses()\n",
    "learner_list[4].recorder.plot_metrics()"
   ]
  },
  {
   "cell_type": "code",
   "execution_count": null,
   "metadata": {},
   "outputs": [],
   "source": []
  },
  {
   "cell_type": "code",
   "execution_count": null,
   "metadata": {},
   "outputs": [],
   "source": [
    "#Parameter settings 2"
   ]
  },
  {
   "cell_type": "code",
   "execution_count": null,
   "metadata": {},
   "outputs": [],
   "source": [
    "path_clas = Path('/home/ubuntu/data/autopsy')\n",
    "path_lm = Path('/home/ubuntu/data/medical/nidia27k_preprocess')\n",
    "\n",
    "batch_size=32\n",
    "drop_mult=0.5\n",
    "learning_rate=slice(1e-5,1e-3)\n",
    "wd=1e-4\n",
    "num_folds = 5\n",
    "\n",
    "moms = (0.8,0.7)\n",
    "folds = ['data_suicide_homicide_k_1.csv','data_suicide_homicide_k_2.csv','data_suicide_homicide_k_3.csv','data_suicide_homicide_k_4.csv','data_suicide_homicide_k_5.csv']\n",
    "\n",
    "accuracy_list = []\n",
    "learner_list = []\n",
    "i = 0\n",
    "data_lm = TextLMDataBunch.from_csv(path_lm, 'documents-preprocess-valid.csv', classes=['neg','pos'])\n",
    "for f in folds:\n",
    "  i = i + 1\n",
    "  print(\"\\nFold: \" + str(i))\n",
    "  #data_lm = TextLMDataBunch.from_csv(path_lm, f, classes=['neg','pos'])\n",
    "  data_clas = TextClasDataBunch.from_csv(path_clas,f, vocab=data_lm.train_ds.vocab, classes=['Suicide','Homicide'],bs=batch_size)\n",
    "\n",
    "  learn = text_classifier_learner(data_clas, drop_mult=drop_mult)\n",
    "  learn.load_encoder('enc_nidia_pretrained')\n",
    "  learn.fit(4,learning_rate, wd=wd)\n",
    "  learn.unfreeze()\n",
    "  learn.fit_one_cycle(epochs,learning_rate, wd=wd, moms=moms)\n",
    "  learner_list.append(learn)\n",
    "  \n",
    "  acc = (learn.validate())[1].item()\n",
    "  accuracy_list.append(acc)\n",
    "\n",
    "print('\\nAccuracy List')\n",
    "print(accuracy_list)\n",
    "\n",
    "print(\"\\nAverage Accuracy\")\n",
    "print( (sum(accuracy_list))/ (num_folds))"
   ]
  },
  {
   "cell_type": "code",
   "execution_count": null,
   "metadata": {},
   "outputs": [],
   "source": [
    "learner_list[0].recorder.plot_losses()\n",
    "learner_list[0].recorder.plot_metrics()"
   ]
  },
  {
   "cell_type": "code",
   "execution_count": null,
   "metadata": {},
   "outputs": [],
   "source": [
    "learner_list[1].recorder.plot_losses()\n",
    "learner_list[1].recorder.plot_metrics()"
   ]
  },
  {
   "cell_type": "code",
   "execution_count": null,
   "metadata": {},
   "outputs": [],
   "source": [
    "learner_list[2].recorder.plot_losses()\n",
    "learner_list[2].recorder.plot_metrics()"
   ]
  },
  {
   "cell_type": "code",
   "execution_count": null,
   "metadata": {},
   "outputs": [],
   "source": [
    "learner_list[3].recorder.plot_losses()\n",
    "learner_list[3].recorder.plot_metrics()"
   ]
  },
  {
   "cell_type": "code",
   "execution_count": null,
   "metadata": {},
   "outputs": [],
   "source": [
    "learner_list[4].recorder.plot_losses()\n",
    "learner_list[4].recorder.plot_metrics()"
   ]
  },
  {
   "cell_type": "code",
   "execution_count": null,
   "metadata": {},
   "outputs": [],
   "source": []
  },
  {
   "cell_type": "code",
   "execution_count": null,
   "metadata": {},
   "outputs": [],
   "source": [
    "#Parameter settings 3"
   ]
  },
  {
   "cell_type": "code",
   "execution_count": null,
   "metadata": {},
   "outputs": [],
   "source": [
    "path_clas = Path('/home/ubuntu/data/autopsy')\n",
    "path_lm = Path('/home/ubuntu/data/medical/nidia27k_preprocess')\n",
    "\n",
    "batch_size=32\n",
    "drop_mult=0.3\n",
    "learning_rate=slice(1e-4,1e-3)\n",
    "wd=1e-4\n",
    "num_folds = 5\n",
    "\n",
    "moms = (0.8,0.7)\n",
    "folds = ['data_suicide_homicide_k_1.csv','data_suicide_homicide_k_2.csv','data_suicide_homicide_k_3.csv','data_suicide_homicide_k_4.csv','data_suicide_homicide_k_5.csv']\n",
    "\n",
    "accuracy_list = []\n",
    "learner_list = []\n",
    "i = 0\n",
    "data_lm = TextLMDataBunch.from_csv(path_lm, 'documents-preprocess-valid.csv', classes=['neg','pos'])\n",
    "for f in folds:\n",
    "  i = i + 1\n",
    "  print(\"\\nFold: \" + str(i))\n",
    "  #data_lm = TextLMDataBunch.from_csv(path_lm, f, classes=['neg','pos'])\n",
    "  data_clas = TextClasDataBunch.from_csv(path_clas,f, vocab=data_lm.train_ds.vocab, classes=['Suicide','Homicide'],bs=batch_size)\n",
    "\n",
    "  learn = text_classifier_learner(data_clas, drop_mult=drop_mult)\n",
    "  learn.load_encoder('enc_nidia_pretrained')\n",
    "  learn.fit(4,learning_rate, wd=wd)\n",
    "  learn.unfreeze()\n",
    "  learn.fit_one_cycle(epochs,learning_rate, wd=wd, moms=moms)\n",
    "  learner_list.append(learn)\n",
    "  \n",
    "  acc = (learn.validate())[1].item()\n",
    "  accuracy_list.append(acc)\n",
    "\n",
    "print('\\nAccuracy List')\n",
    "print(accuracy_list)\n",
    "\n",
    "print(\"\\nAverage Accuracy\")\n",
    "print( (sum(accuracy_list))/ (num_folds))"
   ]
  },
  {
   "cell_type": "code",
   "execution_count": null,
   "metadata": {},
   "outputs": [],
   "source": [
    "learner_list[0].recorder.plot_losses()\n",
    "learner_list[0].recorder.plot_metrics()"
   ]
  },
  {
   "cell_type": "code",
   "execution_count": null,
   "metadata": {},
   "outputs": [],
   "source": [
    "learner_list[1].recorder.plot_losses()\n",
    "learner_list[1].recorder.plot_metrics()"
   ]
  },
  {
   "cell_type": "code",
   "execution_count": null,
   "metadata": {},
   "outputs": [],
   "source": [
    "learner_list[2].recorder.plot_losses()\n",
    "learner_list[2].recorder.plot_metrics()"
   ]
  },
  {
   "cell_type": "code",
   "execution_count": null,
   "metadata": {},
   "outputs": [],
   "source": [
    "learner_list[3].recorder.plot_losses()\n",
    "learner_list[3].recorder.plot_metrics()"
   ]
  },
  {
   "cell_type": "code",
   "execution_count": null,
   "metadata": {},
   "outputs": [],
   "source": [
    "learner_list[4].recorder.plot_losses()\n",
    "learner_list[4].recorder.plot_metrics()"
   ]
  },
  {
   "cell_type": "code",
   "execution_count": null,
   "metadata": {},
   "outputs": [],
   "source": []
  },
  {
   "cell_type": "code",
   "execution_count": null,
   "metadata": {},
   "outputs": [],
   "source": [
    "#Parameter settings 4"
   ]
  },
  {
   "cell_type": "code",
   "execution_count": null,
   "metadata": {},
   "outputs": [],
   "source": [
    "path_clas = Path('/home/ubuntu/data/autopsy')\n",
    "path_lm = Path('/home/ubuntu/data/medical/nidia27k_preprocess')\n",
    "\n",
    "batch_size=32\n",
    "drop_mult=0.3\n",
    "learning_rate=slice(1e-4,1e-2)\n",
    "wd=1e-4\n",
    "num_folds = 5\n",
    "\n",
    "moms = (0.8,0.7)\n",
    "folds = ['data_suicide_homicide_k_1.csv','data_suicide_homicide_k_2.csv','data_suicide_homicide_k_3.csv','data_suicide_homicide_k_4.csv','data_suicide_homicide_k_5.csv']\n",
    "\n",
    "accuracy_list = []\n",
    "learner_list = []\n",
    "i = 0\n",
    "data_lm = TextLMDataBunch.from_csv(path_lm, 'documents-preprocess-valid.csv', classes=['neg','pos'])\n",
    "for f in folds:\n",
    "  i = i + 1\n",
    "  print(\"\\nFold: \" + str(i))\n",
    "  #data_lm = TextLMDataBunch.from_csv(path_lm, f, classes=['neg','pos'])\n",
    "  data_clas = TextClasDataBunch.from_csv(path_clas,f, vocab=data_lm.train_ds.vocab, classes=['Suicide','Homicide'],bs=batch_size)\n",
    "\n",
    "  learn = text_classifier_learner(data_clas, drop_mult=drop_mult)\n",
    "  learn.load_encoder('enc_nidia_pretrained')\n",
    "  learn.fit(4,learning_rate, wd=wd)\n",
    "  learn.unfreeze()\n",
    "  learn.fit_one_cycle(epochs,learning_rate, wd=wd, moms=moms)\n",
    "  learner_list.append(learn)\n",
    "  \n",
    "  acc = (learn.validate())[1].item()\n",
    "  accuracy_list.append(acc)\n",
    "\n",
    "print('\\nAccuracy List')\n",
    "print(accuracy_list)\n",
    "\n",
    "print(\"\\nAverage Accuracy\")\n",
    "print( (sum(accuracy_list))/ (num_folds))"
   ]
  },
  {
   "cell_type": "code",
   "execution_count": null,
   "metadata": {},
   "outputs": [],
   "source": [
    "learner_list[0].recorder.plot_losses()\n",
    "learner_list[0].recorder.plot_metrics()"
   ]
  },
  {
   "cell_type": "code",
   "execution_count": null,
   "metadata": {},
   "outputs": [],
   "source": [
    "learner_list[1].recorder.plot_losses()\n",
    "learner_list[1].recorder.plot_metrics()"
   ]
  },
  {
   "cell_type": "code",
   "execution_count": null,
   "metadata": {},
   "outputs": [],
   "source": [
    "learner_list[2].recorder.plot_losses()\n",
    "learner_list[2].recorder.plot_metrics()"
   ]
  },
  {
   "cell_type": "code",
   "execution_count": null,
   "metadata": {},
   "outputs": [],
   "source": [
    "learner_list[3].recorder.plot_losses()\n",
    "learner_list[3].recorder.plot_metrics()"
   ]
  },
  {
   "cell_type": "code",
   "execution_count": null,
   "metadata": {},
   "outputs": [],
   "source": [
    "learner_list[4].recorder.plot_losses()\n",
    "learner_list[4].recorder.plot_metrics()"
   ]
  },
  {
   "cell_type": "code",
   "execution_count": null,
   "metadata": {},
   "outputs": [],
   "source": []
  },
  {
   "cell_type": "code",
   "execution_count": null,
   "metadata": {},
   "outputs": [],
   "source": []
  },
  {
   "cell_type": "code",
   "execution_count": null,
   "metadata": {},
   "outputs": [],
   "source": []
  },
  {
   "cell_type": "code",
   "execution_count": null,
   "metadata": {},
   "outputs": [],
   "source": []
  }
 ],
 "metadata": {
  "kernelspec": {
   "display_name": "Python 3",
   "language": "python",
   "name": "python3"
  },
  "language_info": {
   "codemirror_mode": {
    "name": "ipython",
    "version": 3
   },
   "file_extension": ".py",
   "mimetype": "text/x-python",
   "name": "python",
   "nbconvert_exporter": "python",
   "pygments_lexer": "ipython3",
   "version": "3.6.5"
  }
 },
 "nbformat": 4,
 "nbformat_minor": 2
}
