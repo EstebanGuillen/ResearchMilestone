{
 "cells": [
  {
   "cell_type": "code",
   "execution_count": 1,
   "metadata": {},
   "outputs": [],
   "source": [
    "%reload_ext autoreload\n",
    "%autoreload 2\n",
    "%matplotlib inline"
   ]
  },
  {
   "cell_type": "code",
   "execution_count": 2,
   "metadata": {},
   "outputs": [],
   "source": [
    "from fastai.text import *\n",
    "from pathlib import Path\n",
    "import pandas as pd"
   ]
  },
  {
   "cell_type": "code",
   "execution_count": 3,
   "metadata": {},
   "outputs": [],
   "source": [
    "path = Path('/home/ubuntu/data/autopsy/milestone/no_preprocessing')"
   ]
  },
  {
   "cell_type": "code",
   "execution_count": 4,
   "metadata": {},
   "outputs": [
    {
     "data": {
      "text/html": [
       "<div>\n",
       "<style scoped>\n",
       "    .dataframe tbody tr th:only-of-type {\n",
       "        vertical-align: middle;\n",
       "    }\n",
       "\n",
       "    .dataframe tbody tr th {\n",
       "        vertical-align: top;\n",
       "    }\n",
       "\n",
       "    .dataframe thead th {\n",
       "        text-align: right;\n",
       "    }\n",
       "</style>\n",
       "<table border=\"1\" class=\"dataframe\">\n",
       "  <thead>\n",
       "    <tr style=\"text-align: right;\">\n",
       "      <th></th>\n",
       "      <th>label</th>\n",
       "      <th>text</th>\n",
       "      <th>is_valid</th>\n",
       "    </tr>\n",
       "  </thead>\n",
       "  <tbody>\n",
       "    <tr>\n",
       "      <th>0</th>\n",
       "      <td>Homicide</td>\n",
       "      <td>\\n.MICRO.\\nHEART: acute hemorrhages in the epi...</td>\n",
       "      <td>False</td>\n",
       "    </tr>\n",
       "    <tr>\n",
       "      <th>1</th>\n",
       "      <td>Suicide</td>\n",
       "      <td>\\n.MICRO.\\nNONE\\n.LOCATIONNeck\\n.INJURYHanging...</td>\n",
       "      <td>False</td>\n",
       "    </tr>\n",
       "    <tr>\n",
       "      <th>2</th>\n",
       "      <td>Homicide</td>\n",
       "      <td>\\n.MICRO.\\nLIVER: Moderate macrovesicular stea...</td>\n",
       "      <td>False</td>\n",
       "    </tr>\n",
       "    <tr>\n",
       "      <th>3</th>\n",
       "      <td>Homicide</td>\n",
       "      <td>\\n.MICRO.\\nHeart:\\nNo significant histopatholo...</td>\n",
       "      <td>False</td>\n",
       "    </tr>\n",
       "    <tr>\n",
       "      <th>4</th>\n",
       "      <td>Homicide</td>\n",
       "      <td>\\n.MICRO.\\nNONE\\n.LOCATIONTrunk\\n.INJURYFirear...</td>\n",
       "      <td>False</td>\n",
       "    </tr>\n",
       "  </tbody>\n",
       "</table>\n",
       "</div>"
      ],
      "text/plain": [
       "      label                                               text  is_valid\n",
       "0  Homicide  \\n.MICRO.\\nHEART: acute hemorrhages in the epi...     False\n",
       "1   Suicide  \\n.MICRO.\\nNONE\\n.LOCATIONNeck\\n.INJURYHanging...     False\n",
       "2  Homicide  \\n.MICRO.\\nLIVER: Moderate macrovesicular stea...     False\n",
       "3  Homicide  \\n.MICRO.\\nHeart:\\nNo significant histopatholo...     False\n",
       "4  Homicide  \\n.MICRO.\\nNONE\\n.LOCATIONTrunk\\n.INJURYFirear...     False"
      ]
     },
     "execution_count": 4,
     "metadata": {},
     "output_type": "execute_result"
    }
   ],
   "source": [
    "df = pd.read_csv(path/'data.csv')\n",
    "df.head()"
   ]
  },
  {
   "cell_type": "code",
   "execution_count": 34,
   "metadata": {},
   "outputs": [
    {
     "data": {
      "text/html": [
       "<div>\n",
       "<style scoped>\n",
       "    .dataframe tbody tr th:only-of-type {\n",
       "        vertical-align: middle;\n",
       "    }\n",
       "\n",
       "    .dataframe tbody tr th {\n",
       "        vertical-align: top;\n",
       "    }\n",
       "\n",
       "    .dataframe thead th {\n",
       "        text-align: right;\n",
       "    }\n",
       "</style>\n",
       "<table border=\"1\" class=\"dataframe\">\n",
       "  <thead>\n",
       "    <tr style=\"text-align: right;\">\n",
       "      <th></th>\n",
       "      <th>label</th>\n",
       "      <th>text</th>\n",
       "      <th>is_valid</th>\n",
       "    </tr>\n",
       "  </thead>\n",
       "  <tbody>\n",
       "    <tr>\n",
       "      <th>3037</th>\n",
       "      <td>Suicide</td>\n",
       "      <td>\\n.MICRO.\\nNONE\\n.LOCATIONExtremity\\n.INJURYBl...</td>\n",
       "      <td>False</td>\n",
       "    </tr>\n",
       "    <tr>\n",
       "      <th>3038</th>\n",
       "      <td>Suicide</td>\n",
       "      <td>\\n.MICRO.\\nHeart: Negative\\n\\nLungs: Pulmonary...</td>\n",
       "      <td>False</td>\n",
       "    </tr>\n",
       "    <tr>\n",
       "      <th>3039</th>\n",
       "      <td>Suicide</td>\n",
       "      <td>\\n.MICRO.\\nNONE\\n.LOCATIONNeck\\n.INJURYHanging...</td>\n",
       "      <td>False</td>\n",
       "    </tr>\n",
       "    <tr>\n",
       "      <th>3040</th>\n",
       "      <td>Suicide</td>\n",
       "      <td>\\n.MICRO.\\nHEART:  There is patchy perivascula...</td>\n",
       "      <td>False</td>\n",
       "    </tr>\n",
       "    <tr>\n",
       "      <th>3041</th>\n",
       "      <td>Homicide</td>\n",
       "      <td>\\n.MICRO.\\nHeart: No significant, histopatholo...</td>\n",
       "      <td>False</td>\n",
       "    </tr>\n",
       "  </tbody>\n",
       "</table>\n",
       "</div>"
      ],
      "text/plain": [
       "         label                                               text  is_valid\n",
       "3037   Suicide  \\n.MICRO.\\nNONE\\n.LOCATIONExtremity\\n.INJURYBl...     False\n",
       "3038   Suicide  \\n.MICRO.\\nHeart: Negative\\n\\nLungs: Pulmonary...     False\n",
       "3039   Suicide  \\n.MICRO.\\nNONE\\n.LOCATIONNeck\\n.INJURYHanging...     False\n",
       "3040   Suicide  \\n.MICRO.\\nHEART:  There is patchy perivascula...     False\n",
       "3041  Homicide  \\n.MICRO.\\nHeart: No significant, histopatholo...     False"
      ]
     },
     "execution_count": 34,
     "metadata": {},
     "output_type": "execute_result"
    }
   ],
   "source": [
    "df.tail()"
   ]
  },
  {
   "cell_type": "code",
   "execution_count": 5,
   "metadata": {},
   "outputs": [
    {
     "data": {
      "text/plain": [
       "'\\n.MICRO.\\nNONE\\n.LOCATIONNeck\\n.INJURYHanging.\\n.INJURYDESC.\\nPartially encircling the neck is a 0.75 cm brown abraded ligature furrow which anteriorly passes over the thyroid cartilage and cants upwards and backwards toward the nape of the neck lying 6.0 cm below the right ear and 3.0 cm below the left ear. No other neck trauma is present. Accompanying the body is a green electrical cord ligature which correlates with the ligature furrow of the neck. \\n\\n.LOCATIONHead\\n.INJURYBlunt injury.\\n.INJURYDESC.\\nOn the left anterior forehead is a 1.0 cm linear red abrasion,.'"
      ]
     },
     "execution_count": 5,
     "metadata": {},
     "output_type": "execute_result"
    }
   ],
   "source": [
    "df['text'][1]"
   ]
  },
  {
   "cell_type": "code",
   "execution_count": 31,
   "metadata": {},
   "outputs": [
    {
     "data": {
      "text/plain": [
       "'\\n.MICRO.\\nHEART: acute hemorrhages in the epicardial adipose tissue, otherwise, no significant histopathologic diagnosis\\n\\nLUNG: patchy intra-alveolar macrophages, scattered foci of intra-alveolar erythrocytes\\n\\nLIVER: bridging fibrosis/early cirrhosis with prominent lobular steatosis and mild chronic periportal inflammation; focal interface hepatitis and bile ductular reaction\\n\\nKIDNEY: no significant histopathologic diagnosis\\n\\nESOPHAGUS: intact squamous mucosa with submucosal and intramuscular acute hemorrhages\\n\\nTHYROID: acute hemorrhage of the soft tissue adjacent to the thyroid gland, otherwise no significant histopathologic diagnosis\\n.LOCATIONHead\\n.INJURYBlunt injury.\\n.INJURYDESC.\\nA 3 x 1.5 cm, irregular laceration is on the left frontal scalp, with an irregular marginal abrasion extending up to 0.6 cm from the edge of the wound. A 7.5 x 0.3 cm linear, horizontal laceration is on the central frontal scalp, with an irregular pink marginal abrasion extending up to 0.5 cm from the edge of the wound. A 7x1 cm irregular laceration is oriented horizontally on the left parietal scalp. The left ear has a perforating laceration on the superior helix up to 2.5 cm and associated with multiple red abrasions. A 6 x 3 cm, blue-purple, right periorbital contusion is associated with soft tissue edema. Left periorbial edema is without extensive ecchymosis. A 4 x 2 cm red, superficial abrasion is on the right cheek. A right, lateral scleral hemorrhage is present. Perioral red abrasions measure up to 1.8 cm. Facial fractures are palpable. \\n\\nSubgaleal and subscalpular hemorrhages are most extensive on the left frontotemporal scalp and calvarium. A linear skull fracture extends across the temporal and parietal bones. The anterior cranial fossae are fractured with mild displacement of the left orbital roof. Approximatly 50 mL of clotted epidural hemorrhage overlies the left parietal dura. A 10 mL subdural hemorrhage with clot is present over the left temporal lobe. Mild scattered subarachnoid hemorrhage is evident. Please see the separate neuropathology report for additional information.\\n\\n.LOCATIONExtremities\\n.INJURYBlunt injury.\\n.INJURYDESC.\\nUpper extremities\\n\\nMultiple linear red abrasions are on the right arm and forearm, ranging from 0.5 to 4.5 cm. A 7 x 8 cm blue-purple contusion with central blanching is on the knuckles of the right hand. A 0.5 cm, linear red laceration with superficial skin avulsion is on the right first finger. The left hand and knuckles are edematous, with a faint 8 x 7 cm blue contusion. A 2.3 cm linear laceration is on the medial aspect of the left fifth digit. \\n\\nLower extremities\\n\\nMultiple blue-purple and brown contusions are on the anterior lower extremities, ranging from 2 to 5 cm. Linear red abrasions ranging from 0.5 to 3 cm are on the bilateral anterior lower extremities. A 9 x 10 cm faint blue-green contusion is on the left posterior thigh. A 6 x 3 cm faint blue-green contusion is on the left posterior lower leg. Linear horizontal superficial abrasions are on the posterior leg, ranging from 1.5-12 cm in length. Multiple horizontal linear, superficial, red abrasions are on right posterior and medial leg, ranging from 1.5-2 cm. A 2.5 x 1 cm laceration with abrasion is on the medial right ankle. \\n\\n.LOCATIONTrunk\\n.INJURYBlunt injury.\\n.INJURYDESC.\\nMultiple red linear and curvilinear abrasions are haphazardly arranged on the right chest and abdomen ranging from 0.5-1.3 cm. A 2 x 3 cm blue contusion is on the left abdomen.  Multiple additional red, punctate and linear abrasions ranging from 0.1-1.5 cm are on the right back, shoulder, and flank, covering up to 25% of the posterior trunk surface area. On the left flank are two red contusions, 6 x 2 cm and 5.5 x 2 cm, with central areas of blanching approximately 2.5 x 1 cm. Associated red abrasions within the contusion on the left flank measure up to 1 cm.  An 12 x 2 cm discontinuous oval contusion with central blanching spans the buttocks at the sacrum. A 2 x 1 cm, blue-purple abrasion is associated with the previously described contusion and is on the left upper buttock. \\n\\n\\n\\n.LOCATIONNeck\\n.INJURYBlunt injury.\\n.INJURYDESC.\\nThe sternothyroid and sternohyoid muscles contain areas of patchy hemorrhage in the anterior neck. The left paravertebral muscles are hemorrhagic. The left hyoid bone and left superior horn of the thyroid cartilage are fractured. Hemorrhages in the soft tissue surrounding the esophagus and thyroid gland are patchy and scattered.'"
      ]
     },
     "execution_count": 31,
     "metadata": {},
     "output_type": "execute_result"
    }
   ],
   "source": [
    "df['text'][0]"
   ]
  },
  {
   "cell_type": "code",
   "execution_count": 33,
   "metadata": {},
   "outputs": [
    {
     "data": {
      "text/plain": [
       "\"\\n.MICRO.\\nLIVER: Moderate macrovesicular steatosis\\n\\nBRAIN, LUNGS, KIDNEYS, HEART: no significant histopathology\\n.LOCATIONTrunk\\n.INJURYFirearm injury.\\n.INJURYDESC.\\nGUNSHOT WOUND OF BACK/TRUNK, INDETERMINATE RANGE:\\n\\nEntrance:\\n\\nOn the left mid back, 7.5 cm left of posterior midline and 50 cm below the top of the head, is an entrance gunshot wound consisting of a 0.8 x 0.8 cm round defect with 0.2 cm wide circumferential marginal abrasion. Soot, unburned gunpowder particles and gunpowder stippling are not visible on the skin surrounding the wound.\\n\\nPath:\\n\\nThe hemorrhagic wound track sequentially perforates the skin and subcutaneous tissues of the left mid back, the tenth thoracic vertebral body (T10), the diaphragm, the right lobe of the liver, the diaphragm, the lower lobe of the right lung, and the sixth lateral right intercostal space, and penetrates the soft tissue of the right flank where the missile comes to rest. \\n\\nAssociated injuries include scant hemoperitoneum.\\n\\nExit: None\\n\\nRecovery: Recovered from the subcutaneous soft tissues of the right flank underlying a 6 x 3 cm purple contusion located 47 cm below the top of the head and 22 cm right of anterior midline is a fully copper jacketed projectile weighing 164.4 grains. \\n\\nTrajectory:\\n \\nThe wound track travels from the decedentâ\\x80\\x99s back to front, left to right, and upwards. \\n\\nClothing:\\n\\nA blood-soaked sleeveless men's undershirt is received with the decedent. On the apparent back of the shirt and corresponding to the entrance gunshot wound is a 1.5 x 1.2 cm defect with frayed edges.  Soot or unburned gunpowder particles are not visible on the fabric surrounding the defect.\\n\\n\\n.LOCATIONTrunk\\n.INJURYFirearm injury.\\n.INJURYDESC.\\nGUNSHOT WOUND OF LEFT FLANK/TRUNK, INDETERMINATE RANGE:\\n\\nEntrance:\\n\\nOn the left flank, 27 cm left of anterior midine and 47 cm below the top of the head, is an entrance gunshot wound consisting of a 1.2 x 0.8 cm ovoid defect with 0.2 to 0.5 cm wide pink marginal abrasion that is widest between 6 and 9 o'clock. Soot, unburned gunpowder particles and gunpowder stippling are not visible on the skin surrounding the wound.\\n\\nPath:\\n\\nThe hemorrhagic wound track sequentially perforates the skin and subcutaneous tissues of the left flank, the left chest wall, the upper lobe of the left lung, the pericardium, the pulmonary trunk, the ascending aorta, the superior vena cava, the pericardium, the upper lobe of the right lung, and the anterior second right intercostal space, the right axillary soft tissue, and the right anterior axillary subcutaneous tissue and skin. \\n\\nAssociated injuries include bilateral hemothoraces (300 mL left and 600 mL right) and 60 mL hemopericardium. \\n\\nExit: \\n\\nAt the superoanterior aspect of the right axilla, 32 cm below the top of the head and 20 cm right of anterior midline, is an exit gunshot wound consisting of a 1.8 cm laceration, without marginal abrasion, centered in a 3.5 x 2 cm red contusion. \\n\\nRecovery: None\\n\\nTrajectory:\\n \\nThe wound track travels from the decedentâ\\x80\\x99s left to right, back to front, and upwards. \\n\\nClothing:\\n\\nOn the left side of the sleeveless undershirt under the sleeve opening and corresponding to the entrance gunshot wound is a 1.5 x 1 cm defect with frayed edges. Soot or unburned gunpowder particles are not visible on the fabric surrounding the defect.\\n\\n\\n.LOCATIONTrunk\\n.INJURYFirearm injury.\\n.INJURYDESC.\\nGUNSHOT WOUND OF LEFT ARM AND TRUNK, DISTANT RANGE:\\n\\nEntrance:\\n\\nOn the posterior left upper arm, 18 cm below the top of the shoulder, 34 cm left of posterior midline, 33 cm below the top of the head, and 13 cm proximal to the elbow, is an entrance gunshot wound consisting of a 0.8 x 0.8 cm round defect with a 0.2 cm wide pink circumferential marginal abrasion. Soot, unburned gunpowder particles and gunpowder stippling are not visible on the skin surrounding the wound.\\n\\nPath:\\n\\nThe hemorrhagic wound track sequentially perforates the skin, soft tissue, and skin of the left upper arm. \\n\\nExit:\\n\\nOn the anteromedial left upper arm distal to the axilla, at the anterior midline of the upper arm, and 18 cm below the top of the head, is an exit gunshot wound consisting of a 1 x 0.8 cm gaping laceration without marginal abrasion. \\n\\nRe-entrance:\\n\\nOn the left lateral chest, 31.5 cm below the top of the head, 18 cm below the top of the shoulder, and 29 cm left of anterior midline, is an entrance gunshot wound consisting of a 1.1 x 0.8 cm ovoid defect with 0.1 to 0.3 cm wide circumferential marginal abrasion widest between 3 and 6 o'clock. Soot, unburned gunpowder particles, and gunpowder stippling are not visible on the skin surrounding the wound. \\n\\nPath:\\n\\nThe hemorrhagic wound track sequentially perforates the skin and subcutaneous tissue of the left flank/axilla, the soft tissue of the left axilla and posterior to the left clavicle, the mediastinum, and the anterior right first intercostal space and anterior right second rib, and penetrates the soft tissue of the right shoulder where the missile comes to rest. \\n\\nRecovery: \\n\\nRecovered from the subcutaneous soft tissue of the lateral right upper shoulder at a point 11 cm below the top of the shoulder, 24 cm below the top of the head, and 30 cm right of anterior midline, is a fully copper jacketed projectile weighing 165 grains. \\n\\nTrajectory:\\n \\nThe wound track travels from the decedentâ\\x80\\x99s left to right, back to front, and upwards. \\n\""
      ]
     },
     "execution_count": 33,
     "metadata": {},
     "output_type": "execute_result"
    }
   ],
   "source": [
    "df['text'][2]"
   ]
  },
  {
   "cell_type": "code",
   "execution_count": 38,
   "metadata": {},
   "outputs": [
    {
     "data": {
      "text/plain": [
       "\"\\n.MICRO.\\nNONE\\n.LOCATIONTrunk\\n.INJURYFirearm injury.\\n.INJURYDESC.\\nNOTE: The wounds are described in an arbitrary order which does not imply sequence or severity.  Wound tracks are described for a body at rest in the anatomic position.)\\n\\n.LOCATIONTrunk\\n.INJURYFirearm injury.\\n.INJURYDESC.\\nEntrance: On the upper chest, centered approximately 14 inches below the top of the head and 3 inches right of anterior midline, is an entrance gunshot wound, consisting of a 3/8 inch round defect with circumferential, 1/8 to 1/4 inch, dark red marginal abrasion and a 1/8 inch rim of purple ecchymosis extending from the wound edges. No soot, stippling, or unburned gunpowder particles are visible on the skin surrounding this wound.\\n\\nExit: None.\\n\\nTerminus: The wound track terminates in the subcutaneous tissue of the upper back, centered approximately 10 inches below the top of the head and 2 inches right of posterior midline.\\n\\nPath: The hemorrhagic wound track involves the skin, subcutaneous tissue, and musculature of the upper chest; the body of the clavicle; the right subclavian artery and vein; the right 1st rib posteriorly; and the musculature and subcutaneous tissue of the upper back.\\n\\nAssociated findings: There are approximately 3000 ml of blood within the right chest cavity. The right clavicle and first rib are fractured. There is abundant soft tissue hemorrhage within the right neck. The upper lobe of the right lung contains an approximately 2 x 2 x 2 inch hematoma at the apex.\\n\\nRecovery: A mushroomed, copper jacketed missile is recovered from within the subcutaneous tissue of the upper right back.\\n\\nTrajectory: The wound track travels from the decedent's front to back, right to left, and upward.\\n\\nClothing: The clothing shows defects corresponding with the entrance wound.\\n\\n\\n\\n.LOCATIONTrunk\\n.INJURYFirearm injury.\\n.INJURYDESC.\\nEntrance: On the upper abdomen, centered approximately 24 inches below the top of the head and 5 inches right of anterior midline, is an entrance gunshot wound, consisting of a 3/8 inch round defect with circumferential, 1/8 inch, dark red marginal abrasion. No soot, stippling, or unburned gunpowder particles are visible on the skin surrounding this wound.\\n\\nExit: None.\\n\\nTerminus: The wound track terminates in the subcutaneous tissue of the mid back, centered approximately 18 inches below the top of the head and 3 inches right of posterior midline.\\n\\nPath: The hemorrhagic wound track involves the skin, subcutaneous tissue, and musculature of the upper abdomen; the right 6th rib anteriorly; the lower lobe of the right lung; the right leaflet of the diaphragm; the liver; the 9th intercostal space posteriorly; and the musculature and subcutaneous tissue of the mid back.\\n\\nAssociated findings: There are approximately 200 ml of blood within the abdominal cavity. The right 6th and 9th ribs are fractured.\\n\\nRecovery: A mushroomed, copper jacketed missile is recovered from within the subcutaneous tissue of the mid right back.\\n\\nTrajectory: The wound track travels from the decedent's front to back, right to left, and upward.\\n\\nClothing: The clothing shows defects corresponding with the entrance wound.\\n\\n\""
      ]
     },
     "execution_count": 38,
     "metadata": {},
     "output_type": "execute_result"
    }
   ],
   "source": [
    "df['text'][4]"
   ]
  },
  {
   "cell_type": "code",
   "execution_count": 35,
   "metadata": {},
   "outputs": [
    {
     "data": {
      "text/plain": [
       "'\\n.MICRO.\\nHeart: Negative\\n\\nLungs: Pulmonary edema\\n\\nLiver: Negative\\n\\nKidney: Negative\\n\\nBrain: Intraparenchymal and subarachnoid hemorrhage of cerebellum \\n.LOCATIONHead\\n.INJURYFirearm injury.\\n.INJURYDESC.\\nGunshot wound of head:\\n\\nEntrance: on the right temporal scalp, is a 2.5 x 1.5 entrance gunshot wound with a circumferential marginal abrasion and discontinuous muzzle imprint. Soot is present on the wound margin.\\n\\nPath: right temporal skull (soot on outer table, internal beveling), right temporal lobe, basal ganglia, left temporal lobe\\n\\nAssociated injuries: right periorbital contusion and medial canthus laceration, extensive fragmentation of base of brain, numerous skull fractures including bilateral anterior and middle cranial fossae, diffuse subarchnoid and thin bilateral subdural hemorrhage\\n\\nNo Exit:\\n\\nRecovery:25.6 grain deformed jacketed missile recovered from left occipital lobe\\n\\nTrajectory: right to left and backward\\n\\nHands: negative'"
      ]
     },
     "execution_count": 35,
     "metadata": {},
     "output_type": "execute_result"
    }
   ],
   "source": [
    "df['text'][3038]"
   ]
  },
  {
   "cell_type": "code",
   "execution_count": 36,
   "metadata": {},
   "outputs": [
    {
     "data": {
      "text/plain": [
       "'\\n.MICRO.\\nHEART:  There is patchy perivascular fibrosis.  Some myocyte nuclei are enlarged and irregular.\\n\\nLUNGS:  Patchy intra-alveolar edema, congestion.\\n\\nKIDNEY:  There is some thickening of artery muscular walls.  There is a rare globally sclerotic glomeruli.\\n\\nLIVER:  Periortal fibrosis is bridging and contains inflammation consisting predominantly of lymphocytes.  Steatosis is moderate to severe.\\n\\nBRAIN:  No significant histopathologic diagnosis.\\n.LOCATIONExtremity\\n.INJURYBlunt injury.\\n.INJURYDESC.\\nOn the right posterior hand is a 0.8 cm linear oblique orange red superficial abrasion.  The left lateral hand has a 1.0 cm linear oblique orange red superficial abrasion.'"
      ]
     },
     "execution_count": 36,
     "metadata": {},
     "output_type": "execute_result"
    }
   ],
   "source": [
    "df['text'][3040]"
   ]
  },
  {
   "cell_type": "code",
   "execution_count": 37,
   "metadata": {},
   "outputs": [
    {
     "data": {
      "text/plain": [
       "'\\n.MICRO.\\nHeart: No significant, histopathologic findings\\n\\nLungs: Atelectasis; focal collections of brown-pigmented, intra-alveolar macrophages\\n\\nKidneys: No significant, histopathologic findings\\n\\nLiver: Mild to moderate, predominantly lymphocytic, portal inflammation and mild, fibrous, portal expansion \\n\\nHippocampus: No significant, histopathologic findings\\n.LOCATIONExtremities\\n.INJURYBlunt injury.\\n.INJURYDESC.\\nRIGHT UPPER EXTREMITY\\nThere are red to orange, linear to irregular abrasions in an 18 x 4.5 cm area of the right lateral arm and right posterior forearm. \\n\\nThere is a 0.3 x 0.2 cm, red abrasion of the dorsal right hand, in the region of the fifth distal metacarpal.\\n\\nThere is a 7 x 6 cm cluster of purple contusions of the anterior right shoulder. \\n\\n\\nLEFT UPPER EXTREMITY\\nThere are scattered, red, 0.1 cm to 0.4 cm in greatest dimension abrasions of the dorsal left hand.\\n\\n\\nLEFT LOWER EXTREMITY\\nThere is a 5 x 3.5 cm cluster of red abrasions of the left anterior knee.\\n\\nThere is a 0.5 x 0.3 cm, red abrasion of the anterior left lower leg. \\n\\n\\nRIGHT LOWER EXTREMITY\\nThere is a 2 x 1 cm, red-orange abrasion of the right medial knee.\\n\\n\\n.LOCATIONExtremities\\n.INJURYIllicit substance use.\\n.INJURYDESC.\\nThere are linear, brown to yellow-green, vaguely linear contusions, within which are pinpoint, red abrasions, of the right upper arm, left forearm and left upper arm.  \\n\\n.LOCATIONChest\\n.INJURYFirearm injury.\\n.INJURYDESC.\\nGUNSHOT WOUND OF LEFT CHEST, INDETERMINATE RANGE OF FIRE\\n\\nEntrance:\\n\\nOn the left chest, 36 cm below the top of the head and 14 cm left of the anterior midline, is an entrance gunshot wound consisting of a 1.6 cm, round defect with a 1 cm wide, pink marginal abrasion at 1 oâ\\x80\\x99clock. There is a 0.3 cm, circumferential, purple contusion. Soot, unburned gunpowder particles and gunpowder stippling are not visible on the skin surrounding the wound.\\n\\nPath:\\n\\nThe hemorrhagic wound track sequentially perforates the skin and subcutaneous tissue of the left chest, left third intercostal muscle and fourth rib, left upper lung lobe, pericardial sac, anterior septum and right ventricle of the heart (with disruption of the left anterior descending coronary artery, right papillary muscles and right chordae tendinae), right upper and middle lung lobes, right fifth rib and the subcutaneous tissue and skin of the right chest.  \\n\\nAssociated Injuries:\\n\\nAssociated findings include 1250 milliliters of blood in the left chest cavity and 750 milliliters of blood in the right chest cavity.\\n\\nExit:\\n\\nOn the right chest, 47 cm below the top of the head and 10.5 cm right of the anterior midline, is an exit gunshot wound consisting of a 2 x 0.8 cm laceration without marginal abrasion. Located superior-medial to the exit wound is an adjacent, 1.5 x 1 cm, purple contusion.\\n\\nTrajectory:\\n\\nThe wound track travels from the decedentâ\\x80\\x99s left to right and downward.\\n\\nClothing:\\n\\nThe decedent is received clad in a blue and black, short-sleeve shirt. On the left sleeve area of the blue and black shirt and corresponding to the entrance gunshot wound is a 0.8 x 0.6 cm defect with frayed edges.  On the right chest panel of the blue and black shirt and corresponding to the entrance gunshot wound is a 0.8 cm in greatest dimension defect with frayed edges. Soot or unburned gunpowder particles are not visible on the fabric surrounding the defect.\\n\\n.LOCATIONHead\\n.INJURYBlunt injury.\\n.INJURYDESC.\\nThere are two, 1.5 x 0.2 cm and 0.8 x 0.2 cm, red abrasions of the right forehead.\\n\\nThere is a 0.7 x 0.5 cm, red abrasion of the right nasal bridge. \\n\\n.LOCATIONHead\\n.INJURYOther.\\n.INJURYDESC.\\nThere is a 1.2 cm long incised wound/laceration of the right chin with two sharp angles. The wound has a depth of at least 0.3 cm and damages the skin and subcutaneous tissue.'"
      ]
     },
     "execution_count": 37,
     "metadata": {},
     "output_type": "execute_result"
    }
   ],
   "source": [
    "df['text'][3041]"
   ]
  },
  {
   "cell_type": "code",
   "execution_count": 6,
   "metadata": {},
   "outputs": [],
   "source": [
    "bs=32"
   ]
  },
  {
   "cell_type": "code",
   "execution_count": null,
   "metadata": {},
   "outputs": [],
   "source": [
    "\n"
   ]
  },
  {
   "cell_type": "code",
   "execution_count": 7,
   "metadata": {},
   "outputs": [],
   "source": [
    "data_lm = TextLMDataBunch.from_csv(path, 'data.csv')"
   ]
  },
  {
   "cell_type": "code",
   "execution_count": 8,
   "metadata": {},
   "outputs": [
    {
     "data": {
      "text/html": [
       "<table>  <col width='5%'>  <col width='95%'>  <tr>\n",
       "    <th>idx</th>\n",
       "    <th>text</th>\n",
       "  </tr>\n",
       "  <tr>\n",
       "    <th>0</th>\n",
       "    <th>xxbos \\n xxup .micro . \\n xxup none \\n .locationhead \\n .injuryfirearm injury . \\n xxup .injurydesc . \\n xxup perforating xxup gunshot xxup wound xxup of xxup head \\n\\n\\n xxup entrance \\n\\n xxmaj location : xxmaj right parietal scalp , 3 cm from the top of the head and 5 cm from the back of the head \\n\\n xxmaj defect : 1.1 cm round defect from which radiates a</th>\n",
       "  </tr>\n",
       "  <tr>\n",
       "    <th>1</th>\n",
       "    <th>a 1.0 x 0.6 cm oval gunshot wound entrance with a 0.5 cm medial left sided abrasion . \\n\\n xxmaj the wound is centered just to the right of midline and 103 cm above the right heel . \\n\\n xxmaj subsequent autopsy reveals a penetrating gunshot wound of the buttock and hip . xxmaj the bullet passes superficially through the soft tissue of the right buttock and hip and comes</th>\n",
       "  </tr>\n",
       "  <tr>\n",
       "    <th>2</th>\n",
       "    <th>of pigmented macrophages within alveoli . \\n\\n xxmaj liver : \\n xxmaj moderate chronic portal inflammation and increase in portal fibrosis with focal portal bridging ; mild macrovesicular steatosis . \\n\\n xxmaj kidney : \\n xxmaj one globally sclerotic glomerulus . \\n\\n xxmaj right hippocampus : \\n xxmaj no significant histopathologic findings . \\n .locationchest \\n .injuryfirearm injury . \\n xxup .injurydesc . \\n xxup shotgun xxup wound xxup of</th>\n",
       "  </tr>\n",
       "  <tr>\n",
       "    <th>3</th>\n",
       "    <th>of the right shoulder , is an exit gunshot wound consisting of a 1.5 cm ( reapproximated ) laceration without marginal abrasion . \\n\\n xxmaj trajectory : \\n\\n xxmaj the wound track travels from the decedentâs left to right , back to front , and upward . \\n\\n xxmaj clothing : \\n\\n xxmaj on the back and front area of the sweatshirt and undershirt and possibly corresponding to the entrance</th>\n",
       "  </tr>\n",
       "  <tr>\n",
       "    <th>4</th>\n",
       "    <th>irregular . \\n\\n xxup lungs : xxmaj postmortem changes and intra - alveolar edema . \\n\\n xxup liver : xxmaj periportal inflammation consisting predominantly of lymphocytes . xxmaj severe diffuse steatosis . \\n\\n xxup kidney : xxmaj tubular autolysis and no significant histopathologic diagnosis . \\n\\n xxup brain : xxmaj no significant histopathologic diagnosis . \\n .locationneck \\n .injuryhanging . \\n xxup .injurydesc . \\n a yellow strap in three</th>\n",
       "  </tr>\n",
       "</table>\n"
      ],
      "text/plain": [
       "<IPython.core.display.HTML object>"
      ]
     },
     "metadata": {},
     "output_type": "display_data"
    }
   ],
   "source": [
    "data_lm.show_batch()"
   ]
  },
  {
   "cell_type": "code",
   "execution_count": 9,
   "metadata": {},
   "outputs": [],
   "source": [
    "#learn = language_model_learner(data_lm, pretrained_model=URLs.WT103_1, qrnn=True)\n",
    "learn = language_model_learner(data_lm, qrnn=True)"
   ]
  },
  {
   "cell_type": "code",
   "execution_count": 10,
   "metadata": {},
   "outputs": [
    {
     "data": {
      "text/html": [
       "Total time: 00:09 <p><table style='width:300px; margin-bottom:10px'>\n",
       "  <tr>\n",
       "    <th>epoch</th>\n",
       "    <th>train_loss</th>\n",
       "    <th>valid_loss</th>\n",
       "    <th>accuracy</th>\n",
       "  </tr>\n",
       "  <tr>\n",
       "    <th>1</th>\n",
       "    <th>2.359633</th>\n",
       "    <th>2.152133</th>\n",
       "    <th>0.543387</th>\n",
       "  </tr>\n",
       "</table>\n"
      ],
      "text/plain": [
       "<IPython.core.display.HTML object>"
      ]
     },
     "metadata": {},
     "output_type": "display_data"
    }
   ],
   "source": [
    "learn.fit_one_cycle(1, 1e-2, moms=(0.8,0.7))"
   ]
  },
  {
   "cell_type": "code",
   "execution_count": 11,
   "metadata": {},
   "outputs": [],
   "source": [
    "learn.unfreeze()"
   ]
  },
  {
   "cell_type": "code",
   "execution_count": 12,
   "metadata": {},
   "outputs": [
    {
     "data": {
      "text/html": [
       "Total time: 01:38 <p><table style='width:300px; margin-bottom:10px'>\n",
       "  <tr>\n",
       "    <th>epoch</th>\n",
       "    <th>train_loss</th>\n",
       "    <th>valid_loss</th>\n",
       "    <th>accuracy</th>\n",
       "  </tr>\n",
       "  <tr>\n",
       "    <th>1</th>\n",
       "    <th>2.188012</th>\n",
       "    <th>2.116117</th>\n",
       "    <th>0.548402</th>\n",
       "  </tr>\n",
       "  <tr>\n",
       "    <th>2</th>\n",
       "    <th>2.093144</th>\n",
       "    <th>2.027139</th>\n",
       "    <th>0.560236</th>\n",
       "  </tr>\n",
       "  <tr>\n",
       "    <th>3</th>\n",
       "    <th>1.986039</th>\n",
       "    <th>1.905764</th>\n",
       "    <th>0.577245</th>\n",
       "  </tr>\n",
       "  <tr>\n",
       "    <th>4</th>\n",
       "    <th>1.895353</th>\n",
       "    <th>1.808617</th>\n",
       "    <th>0.592924</th>\n",
       "  </tr>\n",
       "  <tr>\n",
       "    <th>5</th>\n",
       "    <th>1.843608</th>\n",
       "    <th>1.746729</th>\n",
       "    <th>0.602810</th>\n",
       "  </tr>\n",
       "  <tr>\n",
       "    <th>6</th>\n",
       "    <th>1.763032</th>\n",
       "    <th>1.705305</th>\n",
       "    <th>0.609230</th>\n",
       "  </tr>\n",
       "  <tr>\n",
       "    <th>7</th>\n",
       "    <th>1.662612</th>\n",
       "    <th>1.676907</th>\n",
       "    <th>0.613840</th>\n",
       "  </tr>\n",
       "  <tr>\n",
       "    <th>8</th>\n",
       "    <th>1.658068</th>\n",
       "    <th>1.661589</th>\n",
       "    <th>0.616477</th>\n",
       "  </tr>\n",
       "  <tr>\n",
       "    <th>9</th>\n",
       "    <th>1.634334</th>\n",
       "    <th>1.654842</th>\n",
       "    <th>0.617487</th>\n",
       "  </tr>\n",
       "  <tr>\n",
       "    <th>10</th>\n",
       "    <th>1.609407</th>\n",
       "    <th>1.653789</th>\n",
       "    <th>0.617847</th>\n",
       "  </tr>\n",
       "</table>\n"
      ],
      "text/plain": [
       "<IPython.core.display.HTML object>"
      ]
     },
     "metadata": {},
     "output_type": "display_data"
    }
   ],
   "source": [
    "learn.fit_one_cycle(10, 1e-3, moms=(0.8,0.7))"
   ]
  },
  {
   "cell_type": "code",
   "execution_count": 13,
   "metadata": {},
   "outputs": [],
   "source": [
    "learn.save_encoder('fine_tuned_enc_qrnn')"
   ]
  },
  {
   "cell_type": "code",
   "execution_count": null,
   "metadata": {},
   "outputs": [],
   "source": []
  },
  {
   "cell_type": "code",
   "execution_count": 14,
   "metadata": {},
   "outputs": [],
   "source": [
    "data_clas = TextClasDataBunch.from_csv(path, 'data.csv', vocab=data_lm.train_ds.vocab, bs=bs)"
   ]
  },
  {
   "cell_type": "code",
   "execution_count": 15,
   "metadata": {},
   "outputs": [
    {
     "data": {
      "text/html": [
       "<table>  <col width='90%'>  <col width='10%'>  <tr>\n",
       "    <th>text</th>\n",
       "    <th>target</th>\n",
       "  </tr>\n",
       "  <tr>\n",
       "    <th>xxbos \\n xxup .micro . \\n xxmaj heart - no significant histopathology \\n\\n xxmaj lungs - patchy extravasation of red blood cells into the intra - alveolar space \\n\\n xxmaj kidneys - no significant histopathology \\n\\n xxmaj liver - no significant histopathology \\n\\n xxmaj hippocampus - no significant histopathology \\n\\n xxmaj xxunk - vaginal , anal , and oral smears negative for xxunk components . \\n .locationhead and neck \\n</th>\n",
       "    <th>Homicide</th>\n",
       "  </tr>\n",
       "  <tr>\n",
       "    <th>xxbos \\n xxup .micro . \\n xxmaj heart : xxmaj no significant histopathologic abnormalities \\n\\n xxmaj lungs : xxmaj the lungs show areas of atelectasis , scattered intra - alveolar macrophages , mildly enlarged alveoli with incomplete septae , and rare interstitial carbon pigment . \\n\\n xxmaj liver : xxmaj mild mixed inflammation is confined to the portal tracts . \\n\\n xxmaj kidney : xxmaj no significant histopathologic abnormalities \\n\\n</th>\n",
       "    <th>Homicide</th>\n",
       "  </tr>\n",
       "  <tr>\n",
       "    <th>xxbos \\n xxup .micro . \\n xxmaj lung : xxmaj atelectasis . xxmaj foci of intralveolar erythrocytes . \\n\\n xxmaj heart : xxmaj left ventricular myocyte hypertrophy . \\n\\n xxmaj liver : xxmaj severe steatosis . xxmaj multifocal intralobular chronic inflammation . \\n\\n xxmaj kidney : xxmaj occasional sclerotic glomeruli . \\n\\n xxmaj brain : xxmaj no significant histopathologic diagnosis . \\n .locationextremity \\n .injuryother . \\n xxup .injurydesc .</th>\n",
       "    <th>Homicide</th>\n",
       "  </tr>\n",
       "  <tr>\n",
       "    <th>xxbos \\n xxup .micro . \\n xxup none \\n .locationhead \\n .injuryfirearm injury . \\n xxup .injurydesc . \\n xxup penetrating xxup gunshot xxup wound xxup of xxup head ( a ) \\n\\n xxup entrance : xxmaj on the left side of the scalp , centered 4 centimeters below the top of the head and 6 centimeters left of the anterior midline , is an entrance gunshot wound consisting of</th>\n",
       "    <th>Homicide</th>\n",
       "  </tr>\n",
       "  <tr>\n",
       "    <th>xxbos \\n xxup .micro . \\n xxmaj heart : xxmaj focal lymphocytic infiltrate at the epicardial surface and edge of myocardium \\n\\n xxmaj lungs : xxmaj pigmented macrophages within occasional alveoli \\n\\n xxmaj liver : xxmaj occasional portals with mild , predominantly lymphocytic inflammation \\n\\n xxmaj kidney : xxmaj no significant histopathologic findings \\n .locationhead and neck \\n .injurysharp injury . \\n xxup .injurydesc . \\n xxup incised xxup wound</th>\n",
       "    <th>Homicide</th>\n",
       "  </tr>\n",
       "</table>\n"
      ],
      "text/plain": [
       "<IPython.core.display.HTML object>"
      ]
     },
     "metadata": {},
     "output_type": "display_data"
    }
   ],
   "source": [
    "data_clas.show_batch()"
   ]
  },
  {
   "cell_type": "code",
   "execution_count": 16,
   "metadata": {},
   "outputs": [],
   "source": [
    "learn = text_classifier_learner(data_clas, drop_mult=0.5, qrnn=True)\n",
    "learn.load_encoder('fine_tuned_enc_qrnn')\n",
    "learn.freeze()"
   ]
  },
  {
   "cell_type": "code",
   "execution_count": 17,
   "metadata": {},
   "outputs": [
    {
     "data": {
      "text/html": [
       "Total time: 00:10 <p><table style='width:300px; margin-bottom:10px'>\n",
       "  <tr>\n",
       "    <th>epoch</th>\n",
       "    <th>train_loss</th>\n",
       "    <th>valid_loss</th>\n",
       "    <th>accuracy</th>\n",
       "  </tr>\n",
       "  <tr>\n",
       "    <th>1</th>\n",
       "    <th>0.616710</th>\n",
       "    <th>0.442835</th>\n",
       "    <th>0.825944</th>\n",
       "  </tr>\n",
       "</table>\n"
      ],
      "text/plain": [
       "<IPython.core.display.HTML object>"
      ]
     },
     "metadata": {},
     "output_type": "display_data"
    }
   ],
   "source": [
    "learn.fit_one_cycle(1, 2e-2, moms=(0.8,0.7))"
   ]
  },
  {
   "cell_type": "code",
   "execution_count": 18,
   "metadata": {},
   "outputs": [
    {
     "data": {
      "text/html": [
       "Total time: 00:15 <p><table style='width:300px; margin-bottom:10px'>\n",
       "  <tr>\n",
       "    <th>epoch</th>\n",
       "    <th>train_loss</th>\n",
       "    <th>valid_loss</th>\n",
       "    <th>accuracy</th>\n",
       "  </tr>\n",
       "  <tr>\n",
       "    <th>1</th>\n",
       "    <th>0.587787</th>\n",
       "    <th>0.439223</th>\n",
       "    <th>0.848933</th>\n",
       "  </tr>\n",
       "</table>\n"
      ],
      "text/plain": [
       "<IPython.core.display.HTML object>"
      ]
     },
     "metadata": {},
     "output_type": "display_data"
    }
   ],
   "source": [
    "learn.fit_one_cycle(1, 2e-2, moms=(0.8,0.7))"
   ]
  },
  {
   "cell_type": "code",
   "execution_count": 19,
   "metadata": {},
   "outputs": [
    {
     "data": {
      "text/html": [
       "Total time: 00:17 <p><table style='width:300px; margin-bottom:10px'>\n",
       "  <tr>\n",
       "    <th>epoch</th>\n",
       "    <th>train_loss</th>\n",
       "    <th>valid_loss</th>\n",
       "    <th>accuracy</th>\n",
       "  </tr>\n",
       "  <tr>\n",
       "    <th>1</th>\n",
       "    <th>0.577965</th>\n",
       "    <th>0.429380</th>\n",
       "    <th>0.840723</th>\n",
       "  </tr>\n",
       "</table>\n"
      ],
      "text/plain": [
       "<IPython.core.display.HTML object>"
      ]
     },
     "metadata": {},
     "output_type": "display_data"
    }
   ],
   "source": [
    "learn.freeze_to(-2)\n",
    "learn.fit_one_cycle(1, slice(1e-2/(2.6**4),1e-2), moms=(0.8,0.7))"
   ]
  },
  {
   "cell_type": "code",
   "execution_count": 20,
   "metadata": {},
   "outputs": [
    {
     "data": {
      "text/html": [
       "Total time: 00:21 <p><table style='width:300px; margin-bottom:10px'>\n",
       "  <tr>\n",
       "    <th>epoch</th>\n",
       "    <th>train_loss</th>\n",
       "    <th>valid_loss</th>\n",
       "    <th>accuracy</th>\n",
       "  </tr>\n",
       "  <tr>\n",
       "    <th>1</th>\n",
       "    <th>0.529344</th>\n",
       "    <th>0.366511</th>\n",
       "    <th>0.866995</th>\n",
       "  </tr>\n",
       "</table>\n"
      ],
      "text/plain": [
       "<IPython.core.display.HTML object>"
      ]
     },
     "metadata": {},
     "output_type": "display_data"
    }
   ],
   "source": [
    "learn.freeze_to(-3)\n",
    "learn.fit_one_cycle(1, slice(5e-3/(2.6**4),5e-3), moms=(0.8,0.7))"
   ]
  },
  {
   "cell_type": "code",
   "execution_count": 21,
   "metadata": {},
   "outputs": [
    {
     "data": {
      "text/html": [
       "Total time: 01:04 <p><table style='width:300px; margin-bottom:10px'>\n",
       "  <tr>\n",
       "    <th>epoch</th>\n",
       "    <th>train_loss</th>\n",
       "    <th>valid_loss</th>\n",
       "    <th>accuracy</th>\n",
       "  </tr>\n",
       "  <tr>\n",
       "    <th>1</th>\n",
       "    <th>0.489869</th>\n",
       "    <th>0.309701</th>\n",
       "    <th>0.891626</th>\n",
       "  </tr>\n",
       "  <tr>\n",
       "    <th>2</th>\n",
       "    <th>0.461150</th>\n",
       "    <th>0.304651</th>\n",
       "    <th>0.891626</th>\n",
       "  </tr>\n",
       "</table>\n"
      ],
      "text/plain": [
       "<IPython.core.display.HTML object>"
      ]
     },
     "metadata": {},
     "output_type": "display_data"
    }
   ],
   "source": [
    "learn.unfreeze()\n",
    "learn.fit_one_cycle(2, slice(1e-3/(2.6**4),1e-3), moms=(0.8,0.7))"
   ]
  },
  {
   "cell_type": "code",
   "execution_count": 22,
   "metadata": {},
   "outputs": [
    {
     "data": {
      "text/html": [
       "Total time: 10:15 <p><table style='width:300px; margin-bottom:10px'>\n",
       "  <tr>\n",
       "    <th>epoch</th>\n",
       "    <th>train_loss</th>\n",
       "    <th>valid_loss</th>\n",
       "    <th>accuracy</th>\n",
       "  </tr>\n",
       "  <tr>\n",
       "    <th>1</th>\n",
       "    <th>0.478571</th>\n",
       "    <th>0.304214</th>\n",
       "    <th>0.898194</th>\n",
       "  </tr>\n",
       "  <tr>\n",
       "    <th>2</th>\n",
       "    <th>0.445100</th>\n",
       "    <th>0.288667</th>\n",
       "    <th>0.903120</th>\n",
       "  </tr>\n",
       "  <tr>\n",
       "    <th>3</th>\n",
       "    <th>0.463270</th>\n",
       "    <th>0.301161</th>\n",
       "    <th>0.916256</th>\n",
       "  </tr>\n",
       "  <tr>\n",
       "    <th>4</th>\n",
       "    <th>0.496135</th>\n",
       "    <th>0.284578</th>\n",
       "    <th>0.916256</th>\n",
       "  </tr>\n",
       "  <tr>\n",
       "    <th>5</th>\n",
       "    <th>0.517894</th>\n",
       "    <th>0.276558</th>\n",
       "    <th>0.919540</th>\n",
       "  </tr>\n",
       "  <tr>\n",
       "    <th>6</th>\n",
       "    <th>0.472275</th>\n",
       "    <th>0.260607</th>\n",
       "    <th>0.889984</th>\n",
       "  </tr>\n",
       "  <tr>\n",
       "    <th>7</th>\n",
       "    <th>0.466141</th>\n",
       "    <th>0.236446</th>\n",
       "    <th>0.927750</th>\n",
       "  </tr>\n",
       "  <tr>\n",
       "    <th>8</th>\n",
       "    <th>0.478737</th>\n",
       "    <th>0.245028</th>\n",
       "    <th>0.921182</th>\n",
       "  </tr>\n",
       "  <tr>\n",
       "    <th>9</th>\n",
       "    <th>0.429510</th>\n",
       "    <th>0.244637</th>\n",
       "    <th>0.912972</th>\n",
       "  </tr>\n",
       "  <tr>\n",
       "    <th>10</th>\n",
       "    <th>0.380971</th>\n",
       "    <th>0.232045</th>\n",
       "    <th>0.911330</th>\n",
       "  </tr>\n",
       "  <tr>\n",
       "    <th>11</th>\n",
       "    <th>0.399875</th>\n",
       "    <th>0.226764</th>\n",
       "    <th>0.926108</th>\n",
       "  </tr>\n",
       "  <tr>\n",
       "    <th>12</th>\n",
       "    <th>0.397605</th>\n",
       "    <th>0.238635</th>\n",
       "    <th>0.904762</th>\n",
       "  </tr>\n",
       "  <tr>\n",
       "    <th>13</th>\n",
       "    <th>0.464721</th>\n",
       "    <th>0.202213</th>\n",
       "    <th>0.931035</th>\n",
       "  </tr>\n",
       "  <tr>\n",
       "    <th>14</th>\n",
       "    <th>0.455856</th>\n",
       "    <th>0.216027</th>\n",
       "    <th>0.929392</th>\n",
       "  </tr>\n",
       "  <tr>\n",
       "    <th>15</th>\n",
       "    <th>0.395716</th>\n",
       "    <th>0.215864</th>\n",
       "    <th>0.926108</th>\n",
       "  </tr>\n",
       "  <tr>\n",
       "    <th>16</th>\n",
       "    <th>0.417165</th>\n",
       "    <th>0.203805</th>\n",
       "    <th>0.931035</th>\n",
       "  </tr>\n",
       "  <tr>\n",
       "    <th>17</th>\n",
       "    <th>0.365565</th>\n",
       "    <th>0.245962</th>\n",
       "    <th>0.914614</th>\n",
       "  </tr>\n",
       "  <tr>\n",
       "    <th>18</th>\n",
       "    <th>0.368284</th>\n",
       "    <th>0.242398</th>\n",
       "    <th>0.916256</th>\n",
       "  </tr>\n",
       "  <tr>\n",
       "    <th>19</th>\n",
       "    <th>0.380349</th>\n",
       "    <th>0.237324</th>\n",
       "    <th>0.914614</th>\n",
       "  </tr>\n",
       "  <tr>\n",
       "    <th>20</th>\n",
       "    <th>0.376349</th>\n",
       "    <th>0.206918</th>\n",
       "    <th>0.924466</th>\n",
       "  </tr>\n",
       "</table>\n"
      ],
      "text/plain": [
       "<IPython.core.display.HTML object>"
      ]
     },
     "metadata": {},
     "output_type": "display_data"
    }
   ],
   "source": [
    "learn.fit_one_cycle(20, slice(1e-3/(2.6**4),1e-3), moms=(0.8,0.7))"
   ]
  },
  {
   "cell_type": "code",
   "execution_count": 23,
   "metadata": {},
   "outputs": [],
   "source": [
    "from fastai.vision import *"
   ]
  },
  {
   "cell_type": "code",
   "execution_count": 24,
   "metadata": {},
   "outputs": [
    {
     "data": {
      "image/png": "[encoded data removed]",
      "text/plain": [
       "<Figure size 480x480 with 1 Axes>"
      ]
     },
     "metadata": {},
     "output_type": "display_data"
    }
   ],
   "source": [
    "interp = ClassificationInterpretation.from_learner(learn)\n",
    "interp.plot_confusion_matrix(figsize=(4,4), dpi=120)"
   ]
  },
  {
   "cell_type": "code",
   "execution_count": 25,
   "metadata": {},
   "outputs": [
    {
     "data": {
      "image/png": "[encoded data removed]",
      "text/plain": [
       "<Figure size 432x288 with 1 Axes>"
      ]
     },
     "metadata": {},
     "output_type": "display_data"
    }
   ],
   "source": [
    "learn.recorder.plot_losses()"
   ]
  },
  {
   "cell_type": "code",
   "execution_count": 26,
   "metadata": {},
   "outputs": [
    {
     "data": {
      "image/png": "[encoded data removed]",
      "text/plain": [
       "<Figure size 432x288 with 1 Axes>"
      ]
     },
     "metadata": {},
     "output_type": "display_data"
    }
   ],
   "source": [
    "learn.recorder.plot_metrics()"
   ]
  },
  {
   "cell_type": "code",
   "execution_count": 41,
   "metadata": {},
   "outputs": [
    {
     "data": {
      "text/plain": [
       "(Category Homicide, tensor(0), tensor([0.9490, 0.0510]))"
      ]
     },
     "execution_count": 41,
     "metadata": {},
     "output_type": "execute_result"
    }
   ],
   "source": [
    "learn.predict('\\n.MICRO.\\nHEART: acute hemorrhages in the epicardial adipose tissue, otherwise, no significant histopathologic diagnosis\\n\\nLUNG: patchy intra-alveolar macrophages, scattered foci of intra-alveolar erythrocytes\\n\\nLIVER: bridging fibrosis/early cirrhosis with prominent lobular steatosis and mild chronic periportal inflammation; focal interface hepatitis and bile ductular reaction\\n\\nKIDNEY: no significant histopathologic diagnosis\\n\\nESOPHAGUS: intact squamous mucosa with submucosal and intramuscular acute hemorrhages\\n\\nTHYROID: acute hemorrhage of the soft tissue adjacent to the thyroid gland, otherwise no significant histopathologic diagnosis\\n.LOCATIONHead\\n.INJURYBlunt injury.\\n.INJURYDESC.\\nA 3 x 1.5 cm, irregular laceration is on the left frontal scalp, with an irregular marginal abrasion extending up to 0.6 cm from the edge of the wound. A 7.5 x 0.3 cm linear, horizontal laceration is on the central frontal scalp, with an irregular pink marginal abrasion extending up to 0.5 cm from the edge of the wound. A 7x1 cm irregular laceration is oriented horizontally on the left parietal scalp. The left ear has a perforating laceration on the superior helix up to 2.5 cm and associated with multiple red abrasions. A 6 x 3 cm, blue-purple, right periorbital contusion is associated with soft tissue edema. Left periorbial edema is without extensive ecchymosis. A 4 x 2 cm red, superficial abrasion is on the right cheek. A right, lateral scleral hemorrhage is present. Perioral red abrasions measure up to 1.8 cm. Facial fractures are palpable. \\n\\nSubgaleal and subscalpular hemorrhages are most extensive on the left frontotemporal scalp and calvarium. A linear skull fracture extends across the temporal and parietal bones. The anterior cranial fossae are fractured with mild displacement of the left orbital roof. Approximatly 50 mL of clotted epidural hemorrhage overlies the left parietal dura. A 10 mL subdural hemorrhage with clot is present over the left temporal lobe. Mild scattered subarachnoid hemorrhage is evident. Please see the separate neuropathology report for additional information.\\n\\n.LOCATIONExtremities\\n.INJURYBlunt injury.\\n.INJURYDESC.\\nUpper extremities\\n\\nMultiple linear red abrasions are on the right arm and forearm, ranging from 0.5 to 4.5 cm. A 7 x 8 cm blue-purple contusion with central blanching is on the knuckles of the right hand. A 0.5 cm, linear red laceration with superficial skin avulsion is on the right first finger. The left hand and knuckles are edematous, with a faint 8 x 7 cm blue contusion. A 2.3 cm linear laceration is on the medial aspect of the left fifth digit. \\n\\nLower extremities\\n\\nMultiple blue-purple and brown contusions are on the anterior lower extremities, ranging from 2 to 5 cm. Linear red abrasions ranging from 0.5 to 3 cm are on the bilateral anterior lower extremities. A 9 x 10 cm faint blue-green contusion is on the left posterior thigh. A 6 x 3 cm faint blue-green contusion is on the left posterior lower leg. Linear horizontal superficial abrasions are on the posterior leg, ranging from 1.5-12 cm in length. Multiple horizontal linear, superficial, red abrasions are on right posterior and medial leg, ranging from 1.5-2 cm. A 2.5 x 1 cm laceration with abrasion is on the medial right ankle. \\n\\n.LOCATIONTrunk\\n.INJURYBlunt injury.\\n.INJURYDESC.\\nMultiple red linear and curvilinear abrasions are haphazardly arranged on the right chest and abdomen ranging from 0.5-1.3 cm. A 2 x 3 cm blue contusion is on the left abdomen.  Multiple additional red, punctate and linear abrasions ranging from 0.1-1.5 cm are on the right back, shoulder, and flank, covering up to 25% of the posterior trunk surface area. On the left flank are two red contusions, 6 x 2 cm and 5.5 x 2 cm, with central areas of blanching approximately 2.5 x 1 cm. Associated red abrasions within the contusion on the left flank measure up to 1 cm.  An 12 x 2 cm discontinuous oval contusion with central blanching spans the buttocks at the sacrum. A 2 x 1 cm, blue-purple abrasion is associated with the previously described contusion and is on the left upper buttock. \\n\\n\\n\\n.LOCATIONNeck\\n.INJURYBlunt injury.\\n.INJURYDESC.\\nThe sternothyroid and sternohyoid muscles contain areas of patchy hemorrhage in the anterior neck. The left paravertebral muscles are hemorrhagic. The left hyoid bone and left superior horn of the thyroid cartilage are fractured. Hemorrhages in the soft tissue surrounding the esophagus and thyroid gland are patchy and scattered.')"
   ]
  },
  {
   "cell_type": "code",
   "execution_count": 40,
   "metadata": {},
   "outputs": [
    {
     "data": {
      "text/plain": [
       "(Category Suicide, tensor(1), tensor([0.2332, 0.7668]))"
      ]
     },
     "execution_count": 40,
     "metadata": {},
     "output_type": "execute_result"
    }
   ],
   "source": [
    "learn.predict('This is a really long autopsy report, maybe the model is overfitting to the length of the text,This is a really long autopsy report, maybe the model is overfitting to the length of the text,This is a really long autopsy report, maybe the model is overfitting to the length of the text,This is a really long autopsy report, maybe the model is overfitting to the length of the text,This is a really long autopsy report, maybe the model is overfitting to the length of the text,This is a really long autopsy report, maybe the model is overfitting to the length of the text,This is a really long autopsy report, maybe the model is overfitting to the length of the text,This is a really long autopsy report, maybe the model is overfitting to the length of the text,This is a really long autopsy report, maybe the model is overfitting to the length of the text,This is a really long autopsy report, maybe the model is overfitting to the length of the text,This is a really long autopsy report, maybe the model is overfitting to the length of the text,This is a really long autopsy report, maybe the model is overfitting to the length of the text,This is a really long autopsy report, maybe the model is overfitting to the length of the text,This is a really long autopsy report, maybe the model is overfitting to the length of the text,This is a really long autopsy report, maybe the model is overfitting to the length of the text,This is a really long autopsy report, maybe the model is overfitting to the length of the text,This is a really long autopsy report, maybe the model is overfitting to the length of the text,This is a really long autopsy report, maybe the model is overfitting to the length of the text,This is a really long autopsy report, maybe the model is overfitting to the length of the text,This is a really long autopsy report, maybe the model is overfitting to the length of the text,This is a really long autopsy report, maybe the model is overfitting to the length of the text,This is a really long autopsy report, maybe the model is overfitting to the length of the text,This is a really long autopsy report, maybe the model is overfitting to the length of the text,This is a really long autopsy report, maybe the model is overfitting to the length of the text,This is a really long autopsy report, maybe the model is overfitting to the length of the text,This is a really long autopsy report, maybe the model is overfitting to the length of the text,This is a really long autopsy report, maybe the model is overfitting to the length of the text,This is a really long autopsy report, maybe the model is overfitting to the length of the text,This is a really long autopsy report, maybe the model is overfitting to the length of the text,This is a really long autopsy report, maybe the model is overfitting to the length of the text,This is a really long autopsy report, maybe the model is overfitting to the length of the text,This is a really long autopsy report, maybe the model is overfitting to the length of the text,This is a really long autopsy report, maybe the model is overfitting to the length of the text,This is a really long autopsy report, maybe the model is overfitting to the length of the text,This is a really long autopsy report, maybe the model is overfitting to the length of the text,This is a really long autopsy report, maybe the model is overfitting to the length of the text,This is a really long autopsy report, maybe the model is overfitting to the length of the text,This is a really long autopsy report, maybe the model is overfitting to the length of the text,This is a really long autopsy report, maybe the model is overfitting to the length of the text,This is a really long autopsy report, maybe the model is overfitting to the length of the text,This is a really long autopsy report, maybe the model is overfitting to the length of the text,This is a really long autopsy report, maybe the model is overfitting to the length of the text,This is a really long autopsy report, maybe the model is overfitting to the length of the text,This is a really long autopsy report, maybe the model is overfitting to the length of the text,This is a really long autopsy report, maybe the model is overfitting to the length of the text,This is a really long autopsy report, maybe the model is overfitting to the length of the text,This is a really long autopsy report, maybe the model is overfitting to the length of the text,This is a really long autopsy report, maybe the model is overfitting to the length of the text,This is a really long autopsy report, maybe the model is overfitting to the length of the text,This is a really long autopsy report, maybe the model is overfitting to the length of the text,This is a really long autopsy report, maybe the model is overfitting to the length of the text,This is a really long autopsy report, maybe the model is overfitting to the length of the text,This is a really long autopsy report, maybe the model is overfitting to the length of the text,This is a really long autopsy report, maybe the model is overfitting to the length of the text,This is a really long autopsy report, maybe the model is overfitting to the length of the text,This is a really long autopsy report, maybe the model is overfitting to the length of the text,This is a really long autopsy report, maybe the model is overfitting to the length of the text,This is a really long autopsy report, maybe the model is overfitting to the length of the text,This is a really long autopsy report, maybe the model is overfitting to the length of the text,This is a really long autopsy report, maybe the model is overfitting to the length of the text,This is a really long autopsy report, maybe the model is overfitting to the length of the text,This is a really long autopsy report, maybe the model is overfitting to the length of the text,This is a really long autopsy report, maybe the model is overfitting to the length of the text,This is a really long autopsy report, maybe the model is overfitting to the length of the text,This is a really long autopsy report, maybe the model is overfitting to the length of the text,This is a really long autopsy report, maybe the model is overfitting to the length of the text,This is a really long autopsy report, maybe the model is overfitting to the length of the text,This is a really long autopsy report, maybe the model is overfitting to the length of the text,This is a really long autopsy report, maybe the model is overfitting to the length of the text,This is a really long autopsy report, maybe the model is overfitting to the length of the text,This is a really long autopsy report, maybe the model is overfitting to the length of the text,This is a really long autopsy report, maybe the model is overfitting to the length of the text,This is a really long autopsy report, maybe the model is overfitting to the length of the text,This is a really long autopsy report, maybe the model is overfitting to the length of the text,This is a really long autopsy report, maybe the model is overfitting to the length of the text,This is a really long autopsy report, maybe the model is overfitting to the length of the text,This is a really long autopsy report, maybe the model is overfitting to the length of the text,This is a really long autopsy report, maybe the model is overfitting to the length of the text,This is a really long autopsy report, maybe the model is overfitting to the length of the text,This is a really long autopsy report, maybe the model is overfitting to the length of the text,This is a really long autopsy report, maybe the model is overfitting to the length of the text,This is a really long autopsy report, maybe the model is overfitting to the length of the text,This is a really long autopsy report, maybe the model is overfitting to the length of the text,This is a really long autopsy report, maybe the model is overfitting to the length of the text,This is a really long autopsy report, maybe the model is overfitting to the length of the text,This is a really long autopsy report, maybe the model is overfitting to the length of the text,This is a really long autopsy report, maybe the model is overfitting to the length of the text,This is a really long autopsy report, maybe the model is overfitting to the length of the text,This is a really long autopsy report, maybe the model is overfitting to the length of the text,This is a really long autopsy report, maybe the model is overfitting to the length of the text,This is a really long autopsy report, maybe the model is overfitting to the length of the text,This is a really long autopsy report, maybe the model is overfitting to the length of the text,This is a really long autopsy report, maybe the model is overfitting to the length of the text,This is a really long autopsy report, maybe the model is overfitting to the length of the text,This is a really long autopsy report, maybe the model is overfitting to the length of the text,This is a really long autopsy report, maybe the model is overfitting to the length of the text,This is a really long autopsy report, maybe the model is overfitting to the length of the text,This is a really long autopsy report, maybe the model is overfitting to the length of the text,This is a really long autopsy report, maybe the model is overfitting to the length of the text,This is a really long autopsy report, maybe the model is overfitting to the length of the text,This is a really long autopsy report, maybe the model is overfitting to the length of the text,This is a really long autopsy report, maybe the model is overfitting to the length of the text,This is a really long autopsy report, maybe the model is overfitting to the length of the text,This is a really long autopsy report, maybe the model is overfitting to the length of the text,This is a really long autopsy report, maybe the model is overfitting to the length of the text,This is a really long autopsy report, maybe the model is overfitting to the length of the text,This is a really long autopsy report, maybe the model is overfitting to the length of the text,This is a really long autopsy report, maybe the model is overfitting to the length of the text,This is a really long autopsy report, maybe the model is overfitting to the length of the text,This is a really long autopsy report, maybe the model is overfitting to the length of the text,This is a really long autopsy report, maybe the model is overfitting to the length of the text,This is a really long autopsy report, maybe the model is overfitting to the length of the text,This is a really long autopsy report, maybe the model is overfitting to the length of the text,This is a really long autopsy report, maybe the model is overfitting to the length of the text,This is a really long autopsy report, maybe the model is overfitting to the length of the text,This is a really long autopsy report, maybe the model is overfitting to the length of the text,This is a really long autopsy report, maybe the model is overfitting to the length of the text,This is a really long autopsy report, maybe the model is overfitting to the length of the text,This is a really long autopsy report, maybe the model is overfitting to the length of the text,This is a really long autopsy report, maybe the model is overfitting to the length of the text,This is a really long autopsy report, maybe the model is overfitting to the length of the text,This is a really long autopsy report, maybe the model is overfitting to the length of the text,This is a really long autopsy report, maybe the model is overfitting to the length of the text,This is a really long autopsy report, maybe the model is overfitting to the length of the text,This is a really long autopsy report, maybe the model is overfitting to the length of the text,This is a really long autopsy report, maybe the model is overfitting to the length of the text,This is a really long autopsy report, maybe the model is overfitting to the length of the text,This is a really long autopsy report, maybe the model is overfitting to the length of the text,This is a really long autopsy report, maybe the model is overfitting to the length of the text,This is a really long autopsy report, maybe the model is overfitting to the length of the text,This is a really long autopsy report, maybe the model is overfitting to the length of the text,This is a really long autopsy report, maybe the model is overfitting to the length of the text,This is a really long autopsy report, maybe the model is overfitting to the length of the text,This is a really long autopsy report, maybe the model is overfitting to the length of the text,This is a really long autopsy report, maybe the model is overfitting to the length of the text,This is a really long autopsy report, maybe the model is overfitting to the length of the text,')"
   ]
  },
  {
   "cell_type": "code",
   "execution_count": 42,
   "metadata": {},
   "outputs": [
    {
     "data": {
      "text/plain": [
       "(Category Suicide, tensor(1), tensor([0.0018, 0.9982]))"
      ]
     },
     "execution_count": 42,
     "metadata": {},
     "output_type": "execute_result"
    }
   ],
   "source": [
    "learn.predict('\\n.MICRO.\\nNONE\\n.LOCATIONNeck\\n.INJURYHanging.\\n.INJURYDESC.\\nPartially encircling the neck is a 0.75 cm brown abraded ligature furrow which anteriorly passes over the thyroid cartilage and cants upwards and backwards toward the nape of the neck lying 6.0 cm below the right ear and 3.0 cm below the left ear. No other neck trauma is present. Accompanying the body is a green electrical cord ligature which correlates with the ligature furrow of the neck. \\n\\n.LOCATIONHead\\n.INJURYBlunt injury.\\n.INJURYDESC.\\nOn the left anterior forehead is a 1.0 cm linear red abrasion,.\\n.MICRO.\\nNONE\\n.LOCATIONNeck\\n.INJURYHanging.\\n.INJURYDESC.\\nPartially encircling the neck is a 0.75 cm brown abraded ligature furrow which anteriorly passes over the thyroid cartilage and cants upwards and backwards toward the nape of the neck lying 6.0 cm below the right ear and 3.0 cm below the left ear. No other neck trauma is present. Accompanying the body is a green electrical cord ligature which correlates with the ligature furrow of the neck. \\n\\n.LOCATIONHead\\n.INJURYBlunt injury.\\n.INJURYDESC.\\nOn the left anterior forehead is a 1.0 cm linear red abrasion,.\\n.MICRO.\\nNONE\\n.LOCATIONNeck\\n.INJURYHanging.\\n.INJURYDESC.\\nPartially encircling the neck is a 0.75 cm brown abraded ligature furrow which anteriorly passes over the thyroid cartilage and cants upwards and backwards toward the nape of the neck lying 6.0 cm below the right ear and 3.0 cm below the left ear. No other neck trauma is present. Accompanying the body is a green electrical cord ligature which correlates with the ligature furrow of the neck. \\n\\n.LOCATIONHead\\n.INJURYBlunt injury.\\n.INJURYDESC.\\nOn the left anterior forehead is a 1.0 cm linear red abrasion,.\\n.MICRO.\\nNONE\\n.LOCATIONNeck\\n.INJURYHanging.\\n.INJURYDESC.\\nPartially encircling the neck is a 0.75 cm brown abraded ligature furrow which anteriorly passes over the thyroid cartilage and cants upwards and backwards toward the nape of the neck lying 6.0 cm below the right ear and 3.0 cm below the left ear. No other neck trauma is present. Accompanying the body is a green electrical cord ligature which correlates with the ligature furrow of the neck. \\n\\n.LOCATIONHead\\n.INJURYBlunt injury.\\n.INJURYDESC.\\nOn the left anterior forehead is a 1.0 cm linear red abrasion,.\\n.MICRO.\\nNONE\\n.LOCATIONNeck\\n.INJURYHanging.\\n.INJURYDESC.\\nPartially encircling the neck is a 0.75 cm brown abraded ligature furrow which anteriorly passes over the thyroid cartilage and cants upwards and backwards toward the nape of the neck lying 6.0 cm below the right ear and 3.0 cm below the left ear. No other neck trauma is present. Accompanying the body is a green electrical cord ligature which correlates with the ligature furrow of the neck. \\n\\n.LOCATIONHead\\n.INJURYBlunt injury.\\n.INJURYDESC.\\nOn the left anterior forehead is a 1.0 cm linear red abrasion,.\\n.MICRO.\\nNONE\\n.LOCATIONNeck\\n.INJURYHanging.\\n.INJURYDESC.\\nPartially encircling the neck is a 0.75 cm brown abraded ligature furrow which anteriorly passes over the thyroid cartilage and cants upwards and backwards toward the nape of the neck lying 6.0 cm below the right ear and 3.0 cm below the left ear. No other neck trauma is present. Accompanying the body is a green electrical cord ligature which correlates with the ligature furrow of the neck. \\n\\n.LOCATIONHead\\n.INJURYBlunt injury.\\n.INJURYDESC.\\nOn the left anterior forehead is a 1.0 cm linear red abrasion,.\\n.MICRO.\\nNONE\\n.LOCATIONNeck\\n.INJURYHanging.\\n.INJURYDESC.\\nPartially encircling the neck is a 0.75 cm brown abraded ligature furrow which anteriorly passes over the thyroid cartilage and cants upwards and backwards toward the nape of the neck lying 6.0 cm below the right ear and 3.0 cm below the left ear. No other neck trauma is present. Accompanying the body is a green electrical cord ligature which correlates with the ligature furrow of the neck. \\n\\n.LOCATIONHead\\n.INJURYBlunt injury.\\n.INJURYDESC.\\nOn the left anterior forehead is a 1.0 cm linear red abrasion,.\\n.MICRO.\\nNONE\\n.LOCATIONNeck\\n.INJURYHanging.\\n.INJURYDESC.\\nPartially encircling the neck is a 0.75 cm brown abraded ligature furrow which anteriorly passes over the thyroid cartilage and cants upwards and backwards toward the nape of the neck lying 6.0 cm below the right ear and 3.0 cm below the left ear. No other neck trauma is present. Accompanying the body is a green electrical cord ligature which correlates with the ligature furrow of the neck. \\n\\n.LOCATIONHead\\n.INJURYBlunt injury.\\n.INJURYDESC.\\nOn the left anterior forehead is a 1.0 cm linear red abrasion,.\\n.MICRO.\\nNONE\\n.LOCATIONNeck\\n.INJURYHanging.\\n.INJURYDESC.\\nPartially encircling the neck is a 0.75 cm brown abraded ligature furrow which anteriorly passes over the thyroid cartilage and cants upwards and backwards toward the nape of the neck lying 6.0 cm below the right ear and 3.0 cm below the left ear. No other neck trauma is present. Accompanying the body is a green electrical cord ligature which correlates with the ligature furrow of the neck. \\n\\n.LOCATIONHead\\n.INJURYBlunt injury.\\n.INJURYDESC.\\nOn the left anterior forehead is a 1.0 cm linear red abrasion,.\\n.MICRO.\\nNONE\\n.LOCATIONNeck\\n.INJURYHanging.\\n.INJURYDESC.\\nPartially encircling the neck is a 0.75 cm brown abraded ligature furrow which anteriorly passes over the thyroid cartilage and cants upwards and backwards toward the nape of the neck lying 6.0 cm below the right ear and 3.0 cm below the left ear. No other neck trauma is present. Accompanying the body is a green electrical cord ligature which correlates with the ligature furrow of the neck. \\n\\n.LOCATIONHead\\n.INJURYBlunt injury.\\n.INJURYDESC.\\nOn the left anterior forehead is a 1.0 cm linear red abrasion,.\\n.MICRO.\\nNONE\\n.LOCATIONNeck\\n.INJURYHanging.\\n.INJURYDESC.\\nPartially encircling the neck is a 0.75 cm brown abraded ligature furrow which anteriorly passes over the thyroid cartilage and cants upwards and backwards toward the nape of the neck lying 6.0 cm below the right ear and 3.0 cm below the left ear. No other neck trauma is present. Accompanying the body is a green electrical cord ligature which correlates with the ligature furrow of the neck. \\n\\n.LOCATIONHead\\n.INJURYBlunt injury.\\n.INJURYDESC.\\nOn the left anterior forehead is a 1.0 cm linear red abrasion,.\\n.MICRO.\\nNONE\\n.LOCATIONNeck\\n.INJURYHanging.\\n.INJURYDESC.\\nPartially encircling the neck is a 0.75 cm brown abraded ligature furrow which anteriorly passes over the thyroid cartilage and cants upwards and backwards toward the nape of the neck lying 6.0 cm below the right ear and 3.0 cm below the left ear. No other neck trauma is present. Accompanying the body is a green electrical cord ligature which correlates with the ligature furrow of the neck. \\n\\n.LOCATIONHead\\n.INJURYBlunt injury.\\n.INJURYDESC.\\nOn the left anterior forehead is a 1.0 cm linear red abrasion,.\\n.MICRO.\\nNONE\\n.LOCATIONNeck\\n.INJURYHanging.\\n.INJURYDESC.\\nPartially encircling the neck is a 0.75 cm brown abraded ligature furrow which anteriorly passes over the thyroid cartilage and cants upwards and backwards toward the nape of the neck lying 6.0 cm below the right ear and 3.0 cm below the left ear. No other neck trauma is present. Accompanying the body is a green electrical cord ligature which correlates with the ligature furrow of the neck. \\n\\n.LOCATIONHead\\n.INJURYBlunt injury.\\n.INJURYDESC.\\nOn the left anterior forehead is a 1.0 cm linear red abrasion,.\\n.MICRO.\\nNONE\\n.LOCATIONNeck\\n.INJURYHanging.\\n.INJURYDESC.\\nPartially encircling the neck is a 0.75 cm brown abraded ligature furrow which anteriorly passes over the thyroid cartilage and cants upwards and backwards toward the nape of the neck lying 6.0 cm below the right ear and 3.0 cm below the left ear. No other neck trauma is present. Accompanying the body is a green electrical cord ligature which correlates with the ligature furrow of the neck. \\n\\n.LOCATIONHead\\n.INJURYBlunt injury.\\n.INJURYDESC.\\nOn the left anterior forehead is a 1.0 cm linear red abrasion,.\\n.MICRO.\\nNONE\\n.LOCATIONNeck\\n.INJURYHanging.\\n.INJURYDESC.\\nPartially encircling the neck is a 0.75 cm brown abraded ligature furrow which anteriorly passes over the thyroid cartilage and cants upwards and backwards toward the nape of the neck lying 6.0 cm below the right ear and 3.0 cm below the left ear. No other neck trauma is present. Accompanying the body is a green electrical cord ligature which correlates with the ligature furrow of the neck. \\n\\n.LOCATIONHead\\n.INJURYBlunt injury.\\n.INJURYDESC.\\nOn the left anterior forehead is a 1.0 cm linear red abrasion,.\\n.MICRO.\\nNONE\\n.LOCATIONNeck\\n.INJURYHanging.\\n.INJURYDESC.\\nPartially encircling the neck is a 0.75 cm brown abraded ligature furrow which anteriorly passes over the thyroid cartilage and cants upwards and backwards toward the nape of the neck lying 6.0 cm below the right ear and 3.0 cm below the left ear. No other neck trauma is present. Accompanying the body is a green electrical cord ligature which correlates with the ligature furrow of the neck. \\n\\n.LOCATIONHead\\n.INJURYBlunt injury.\\n.INJURYDESC.\\nOn the left anterior forehead is a 1.0 cm linear red abrasion,.\\n.MICRO.\\nNONE\\n.LOCATIONNeck\\n.INJURYHanging.\\n.INJURYDESC.\\nPartially encircling the neck is a 0.75 cm brown abraded ligature furrow which anteriorly passes over the thyroid cartilage and cants upwards and backwards toward the nape of the neck lying 6.0 cm below the right ear and 3.0 cm below the left ear. No other neck trauma is present. Accompanying the body is a green electrical cord ligature which correlates with the ligature furrow of the neck. \\n\\n.LOCATIONHead\\n.INJURYBlunt injury.\\n.INJURYDESC.\\nOn the left anterior forehead is a 1.0 cm linear red abrasion,.\\n.MICRO.\\nNONE\\n.LOCATIONNeck\\n.INJURYHanging.\\n.INJURYDESC.\\nPartially encircling the neck is a 0.75 cm brown abraded ligature furrow which anteriorly passes over the thyroid cartilage and cants upwards and backwards toward the nape of the neck lying 6.0 cm below the right ear and 3.0 cm below the left ear. No other neck trauma is present. Accompanying the body is a green electrical cord ligature which correlates with the ligature furrow of the neck. \\n\\n.LOCATIONHead\\n.INJURYBlunt injury.\\n.INJURYDESC.\\nOn the left anterior forehead is a 1.0 cm linear red abrasion,.\\n.MICRO.\\nNONE\\n.LOCATIONNeck\\n.INJURYHanging.\\n.INJURYDESC.\\nPartially encircling the neck is a 0.75 cm brown abraded ligature furrow which anteriorly passes over the thyroid cartilage and cants upwards and backwards toward the nape of the neck lying 6.0 cm below the right ear and 3.0 cm below the left ear. No other neck trauma is present. Accompanying the body is a green electrical cord ligature which correlates with the ligature furrow of the neck. \\n\\n.LOCATIONHead\\n.INJURYBlunt injury.\\n.INJURYDESC.\\nOn the left anterior forehead is a 1.0 cm linear red abrasion,.\\n.MICRO.\\nNONE\\n.LOCATIONNeck\\n.INJURYHanging.\\n.INJURYDESC.\\nPartially encircling the neck is a 0.75 cm brown abraded ligature furrow which anteriorly passes over the thyroid cartilage and cants upwards and backwards toward the nape of the neck lying 6.0 cm below the right ear and 3.0 cm below the left ear. No other neck trauma is present. Accompanying the body is a green electrical cord ligature which correlates with the ligature furrow of the neck. \\n\\n.LOCATIONHead\\n.INJURYBlunt injury.\\n.INJURYDESC.\\nOn the left anterior forehead is a 1.0 cm linear red abrasion,.\\n.MICRO.\\nNONE\\n.LOCATIONNeck\\n.INJURYHanging.\\n.INJURYDESC.\\nPartially encircling the neck is a 0.75 cm brown abraded ligature furrow which anteriorly passes over the thyroid cartilage and cants upwards and backwards toward the nape of the neck lying 6.0 cm below the right ear and 3.0 cm below the left ear. No other neck trauma is present. Accompanying the body is a green electrical cord ligature which correlates with the ligature furrow of the neck. \\n\\n.LOCATIONHead\\n.INJURYBlunt injury.\\n.INJURYDESC.\\nOn the left anterior forehead is a 1.0 cm linear red abrasion,.\\n.MICRO.\\nNONE\\n.LOCATIONNeck\\n.INJURYHanging.\\n.INJURYDESC.\\nPartially encircling the neck is a 0.75 cm brown abraded ligature furrow which anteriorly passes over the thyroid cartilage and cants upwards and backwards toward the nape of the neck lying 6.0 cm below the right ear and 3.0 cm below the left ear. No other neck trauma is present. Accompanying the body is a green electrical cord ligature which correlates with the ligature furrow of the neck. \\n\\n.LOCATIONHead\\n.INJURYBlunt injury.\\n.INJURYDESC.\\nOn the left anterior forehead is a 1.0 cm linear red abrasion,.\\n.MICRO.\\nNONE\\n.LOCATIONNeck\\n.INJURYHanging.\\n.INJURYDESC.\\nPartially encircling the neck is a 0.75 cm brown abraded ligature furrow which anteriorly passes over the thyroid cartilage and cants upwards and backwards toward the nape of the neck lying 6.0 cm below the right ear and 3.0 cm below the left ear. No other neck trauma is present. Accompanying the body is a green electrical cord ligature which correlates with the ligature furrow of the neck. \\n\\n.LOCATIONHead\\n.INJURYBlunt injury.\\n.INJURYDESC.\\nOn the left anterior forehead is a 1.0 cm linear red abrasion,.\\n.MICRO.\\nNONE\\n.LOCATIONNeck\\n.INJURYHanging.\\n.INJURYDESC.\\nPartially encircling the neck is a 0.75 cm brown abraded ligature furrow which anteriorly passes over the thyroid cartilage and cants upwards and backwards toward the nape of the neck lying 6.0 cm below the right ear and 3.0 cm below the left ear. No other neck trauma is present. Accompanying the body is a green electrical cord ligature which correlates with the ligature furrow of the neck. \\n\\n.LOCATIONHead\\n.INJURYBlunt injury.\\n.INJURYDESC.\\nOn the left anterior forehead is a 1.0 cm linear red abrasion,.\\n.MICRO.\\nNONE\\n.LOCATIONNeck\\n.INJURYHanging.\\n.INJURYDESC.\\nPartially encircling the neck is a 0.75 cm brown abraded ligature furrow which anteriorly passes over the thyroid cartilage and cants upwards and backwards toward the nape of the neck lying 6.0 cm below the right ear and 3.0 cm below the left ear. No other neck trauma is present. Accompanying the body is a green electrical cord ligature which correlates with the ligature furrow of the neck. \\n\\n.LOCATIONHead\\n.INJURYBlunt injury.\\n.INJURYDESC.\\nOn the left anterior forehead is a 1.0 cm linear red abrasion,.\\n.MICRO.\\nNONE\\n.LOCATIONNeck\\n.INJURYHanging.\\n.INJURYDESC.\\nPartially encircling the neck is a 0.75 cm brown abraded ligature furrow which anteriorly passes over the thyroid cartilage and cants upwards and backwards toward the nape of the neck lying 6.0 cm below the right ear and 3.0 cm below the left ear. No other neck trauma is present. Accompanying the body is a green electrical cord ligature which correlates with the ligature furrow of the neck. \\n\\n.LOCATIONHead\\n.INJURYBlunt injury.\\n.INJURYDESC.\\nOn the left anterior forehead is a 1.0 cm linear red abrasion,.\\n.MICRO.\\nNONE\\n.LOCATIONNeck\\n.INJURYHanging.\\n.INJURYDESC.\\nPartially encircling the neck is a 0.75 cm brown abraded ligature furrow which anteriorly passes over the thyroid cartilage and cants upwards and backwards toward the nape of the neck lying 6.0 cm below the right ear and 3.0 cm below the left ear. No other neck trauma is present. Accompanying the body is a green electrical cord ligature which correlates with the ligature furrow of the neck. \\n\\n.LOCATIONHead\\n.INJURYBlunt injury.\\n.INJURYDESC.\\nOn the left anterior forehead is a 1.0 cm linear red abrasion,.\\n.MICRO.\\nNONE\\n.LOCATIONNeck\\n.INJURYHanging.\\n.INJURYDESC.\\nPartially encircling the neck is a 0.75 cm brown abraded ligature furrow which anteriorly passes over the thyroid cartilage and cants upwards and backwards toward the nape of the neck lying 6.0 cm below the right ear and 3.0 cm below the left ear. No other neck trauma is present. Accompanying the body is a green electrical cord ligature which correlates with the ligature furrow of the neck. \\n\\n.LOCATIONHead\\n.INJURYBlunt injury.\\n.INJURYDESC.\\nOn the left anterior forehead is a 1.0 cm linear red abrasion,.\\n.MICRO.\\nNONE\\n.LOCATIONNeck\\n.INJURYHanging.\\n.INJURYDESC.\\nPartially encircling the neck is a 0.75 cm brown abraded ligature furrow which anteriorly passes over the thyroid cartilage and cants upwards and backwards toward the nape of the neck lying 6.0 cm below the right ear and 3.0 cm below the left ear. No other neck trauma is present. Accompanying the body is a green electrical cord ligature which correlates with the ligature furrow of the neck. \\n\\n.LOCATIONHead\\n.INJURYBlunt injury.\\n.INJURYDESC.\\nOn the left anterior forehead is a 1.0 cm linear red abrasion,.\\n.MICRO.\\nNONE\\n.LOCATIONNeck\\n.INJURYHanging.\\n.INJURYDESC.\\nPartially encircling the neck is a 0.75 cm brown abraded ligature furrow which anteriorly passes over the thyroid cartilage and cants upwards and backwards toward the nape of the neck lying 6.0 cm below the right ear and 3.0 cm below the left ear. No other neck trauma is present. Accompanying the body is a green electrical cord ligature which correlates with the ligature furrow of the neck. \\n\\n.LOCATIONHead\\n.INJURYBlunt injury.\\n.INJURYDESC.\\nOn the left anterior forehead is a 1.0 cm linear red abrasion,.\\n.MICRO.\\nNONE\\n.LOCATIONNeck\\n.INJURYHanging.\\n.INJURYDESC.\\nPartially encircling the neck is a 0.75 cm brown abraded ligature furrow which anteriorly passes over the thyroid cartilage and cants upwards and backwards toward the nape of the neck lying 6.0 cm below the right ear and 3.0 cm below the left ear. No other neck trauma is present. Accompanying the body is a green electrical cord ligature which correlates with the ligature furrow of the neck. \\n\\n.LOCATIONHead\\n.INJURYBlunt injury.\\n.INJURYDESC.\\nOn the left anterior forehead is a 1.0 cm linear red abrasion,.\\n.MICRO.\\nNONE\\n.LOCATIONNeck\\n.INJURYHanging.\\n.INJURYDESC.\\nPartially encircling the neck is a 0.75 cm brown abraded ligature furrow which anteriorly passes over the thyroid cartilage and cants upwards and backwards toward the nape of the neck lying 6.0 cm below the right ear and 3.0 cm below the left ear. No other neck trauma is present. Accompanying the body is a green electrical cord ligature which correlates with the ligature furrow of the neck. \\n\\n.LOCATIONHead\\n.INJURYBlunt injury.\\n.INJURYDESC.\\nOn the left anterior forehead is a 1.0 cm linear red abrasion,.\\n.MICRO.\\nNONE\\n.LOCATIONNeck\\n.INJURYHanging.\\n.INJURYDESC.\\nPartially encircling the neck is a 0.75 cm brown abraded ligature furrow which anteriorly passes over the thyroid cartilage and cants upwards and backwards toward the nape of the neck lying 6.0 cm below the right ear and 3.0 cm below the left ear. No other neck trauma is present. Accompanying the body is a green electrical cord ligature which correlates with the ligature furrow of the neck. \\n\\n.LOCATIONHead\\n.INJURYBlunt injury.\\n.INJURYDESC.\\nOn the left anterior forehead is a 1.0 cm linear red abrasion,.\\n.MICRO.\\nNONE\\n.LOCATIONNeck\\n.INJURYHanging.\\n.INJURYDESC.\\nPartially encircling the neck is a 0.75 cm brown abraded ligature furrow which anteriorly passes over the thyroid cartilage and cants upwards and backwards toward the nape of the neck lying 6.0 cm below the right ear and 3.0 cm below the left ear. No other neck trauma is present. Accompanying the body is a green electrical cord ligature which correlates with the ligature furrow of the neck. \\n\\n.LOCATIONHead\\n.INJURYBlunt injury.\\n.INJURYDESC.\\nOn the left anterior forehead is a 1.0 cm linear red abrasion,.\\n.MICRO.\\nNONE\\n.LOCATIONNeck\\n.INJURYHanging.\\n.INJURYDESC.\\nPartially encircling the neck is a 0.75 cm brown abraded ligature furrow which anteriorly passes over the thyroid cartilage and cants upwards and backwards toward the nape of the neck lying 6.0 cm below the right ear and 3.0 cm below the left ear. No other neck trauma is present. Accompanying the body is a green electrical cord ligature which correlates with the ligature furrow of the neck. \\n\\n.LOCATIONHead\\n.INJURYBlunt injury.\\n.INJURYDESC.\\nOn the left anterior forehead is a 1.0 cm linear red abrasion,.\\n.MICRO.\\nNONE\\n.LOCATIONNeck\\n.INJURYHanging.\\n.INJURYDESC.\\nPartially encircling the neck is a 0.75 cm brown abraded ligature furrow which anteriorly passes over the thyroid cartilage and cants upwards and backwards toward the nape of the neck lying 6.0 cm below the right ear and 3.0 cm below the left ear. No other neck trauma is present. Accompanying the body is a green electrical cord ligature which correlates with the ligature furrow of the neck. \\n\\n.LOCATIONHead\\n.INJURYBlunt injury.\\n.INJURYDESC.\\nOn the left anterior forehead is a 1.0 cm linear red abrasion,.\\n.MICRO.\\nNONE\\n.LOCATIONNeck\\n.INJURYHanging.\\n.INJURYDESC.\\nPartially encircling the neck is a 0.75 cm brown abraded ligature furrow which anteriorly passes over the thyroid cartilage and cants upwards and backwards toward the nape of the neck lying 6.0 cm below the right ear and 3.0 cm below the left ear. No other neck trauma is present. Accompanying the body is a green electrical cord ligature which correlates with the ligature furrow of the neck. \\n\\n.LOCATIONHead\\n.INJURYBlunt injury.\\n.INJURYDESC.\\nOn the left anterior forehead is a 1.0 cm linear red abrasion,.\\n.MICRO.\\nNONE\\n.LOCATIONNeck\\n.INJURYHanging.\\n.INJURYDESC.\\nPartially encircling the neck is a 0.75 cm brown abraded ligature furrow which anteriorly passes over the thyroid cartilage and cants upwards and backwards toward the nape of the neck lying 6.0 cm below the right ear and 3.0 cm below the left ear. No other neck trauma is present. Accompanying the body is a green electrical cord ligature which correlates with the ligature furrow of the neck. \\n\\n.LOCATIONHead\\n.INJURYBlunt injury.\\n.INJURYDESC.\\nOn the left anterior forehead is a 1.0 cm linear red abrasion,.\\n.MICRO.\\nNONE\\n.LOCATIONNeck\\n.INJURYHanging.\\n.INJURYDESC.\\nPartially encircling the neck is a 0.75 cm brown abraded ligature furrow which anteriorly passes over the thyroid cartilage and cants upwards and backwards toward the nape of the neck lying 6.0 cm below the right ear and 3.0 cm below the left ear. No other neck trauma is present. Accompanying the body is a green electrical cord ligature which correlates with the ligature furrow of the neck. \\n\\n.LOCATIONHead\\n.INJURYBlunt injury.\\n.INJURYDESC.\\nOn the left anterior forehead is a 1.0 cm linear red abrasion,.\\n.MICRO.\\nNONE\\n.LOCATIONNeck\\n.INJURYHanging.\\n.INJURYDESC.\\nPartially encircling the neck is a 0.75 cm brown abraded ligature furrow which anteriorly passes over the thyroid cartilage and cants upwards and backwards toward the nape of the neck lying 6.0 cm below the right ear and 3.0 cm below the left ear. No other neck trauma is present. Accompanying the body is a green electrical cord ligature which correlates with the ligature furrow of the neck. \\n\\n.LOCATIONHead\\n.INJURYBlunt injury.\\n.INJURYDESC.\\nOn the left anterior forehead is a 1.0 cm linear red abrasion,.\\n.MICRO.\\nNONE\\n.LOCATIONNeck\\n.INJURYHanging.\\n.INJURYDESC.\\nPartially encircling the neck is a 0.75 cm brown abraded ligature furrow which anteriorly passes over the thyroid cartilage and cants upwards and backwards toward the nape of the neck lying 6.0 cm below the right ear and 3.0 cm below the left ear. No other neck trauma is present. Accompanying the body is a green electrical cord ligature which correlates with the ligature furrow of the neck. \\n\\n.LOCATIONHead\\n.INJURYBlunt injury.\\n.INJURYDESC.\\nOn the left anterior forehead is a 1.0 cm linear red abrasion,.\\n.MICRO.\\nNONE\\n.LOCATIONNeck\\n.INJURYHanging.\\n.INJURYDESC.\\nPartially encircling the neck is a 0.75 cm brown abraded ligature furrow which anteriorly passes over the thyroid cartilage and cants upwards and backwards toward the nape of the neck lying 6.0 cm below the right ear and 3.0 cm below the left ear. No other neck trauma is present. Accompanying the body is a green electrical cord ligature which correlates with the ligature furrow of the neck. \\n\\n.LOCATIONHead\\n.INJURYBlunt injury.\\n.INJURYDESC.\\nOn the left anterior forehead is a 1.0 cm linear red abrasion,.\\n.MICRO.\\nNONE\\n.LOCATIONNeck\\n.INJURYHanging.\\n.INJURYDESC.\\nPartially encircling the neck is a 0.75 cm brown abraded ligature furrow which anteriorly passes over the thyroid cartilage and cants upwards and backwards toward the nape of the neck lying 6.0 cm below the right ear and 3.0 cm below the left ear. No other neck trauma is present. Accompanying the body is a green electrical cord ligature which correlates with the ligature furrow of the neck. \\n\\n.LOCATIONHead\\n.INJURYBlunt injury.\\n.INJURYDESC.\\nOn the left anterior forehead is a 1.0 cm linear red abrasion,.\\n.MICRO.\\nNONE\\n.LOCATIONNeck\\n.INJURYHanging.\\n.INJURYDESC.\\nPartially encircling the neck is a 0.75 cm brown abraded ligature furrow which anteriorly passes over the thyroid cartilage and cants upwards and backwards toward the nape of the neck lying 6.0 cm below the right ear and 3.0 cm below the left ear. No other neck trauma is present. Accompanying the body is a green electrical cord ligature which correlates with the ligature furrow of the neck. \\n\\n.LOCATIONHead\\n.INJURYBlunt injury.\\n.INJURYDESC.\\nOn the left anterior forehead is a 1.0 cm linear red abrasion,.\\n.MICRO.\\nNONE\\n.LOCATIONNeck\\n.INJURYHanging.\\n.INJURYDESC.\\nPartially encircling the neck is a 0.75 cm brown abraded ligature furrow which anteriorly passes over the thyroid cartilage and cants upwards and backwards toward the nape of the neck lying 6.0 cm below the right ear and 3.0 cm below the left ear. No other neck trauma is present. Accompanying the body is a green electrical cord ligature which correlates with the ligature furrow of the neck. \\n\\n.LOCATIONHead\\n.INJURYBlunt injury.\\n.INJURYDESC.\\nOn the left anterior forehead is a 1.0 cm linear red abrasion,.\\n.MICRO.\\nNONE\\n.LOCATIONNeck\\n.INJURYHanging.\\n.INJURYDESC.\\nPartially encircling the neck is a 0.75 cm brown abraded ligature furrow which anteriorly passes over the thyroid cartilage and cants upwards and backwards toward the nape of the neck lying 6.0 cm below the right ear and 3.0 cm below the left ear. No other neck trauma is present. Accompanying the body is a green electrical cord ligature which correlates with the ligature furrow of the neck. \\n\\n.LOCATIONHead\\n.INJURYBlunt injury.\\n.INJURYDESC.\\nOn the left anterior forehead is a 1.0 cm linear red abrasion,.\\n.MICRO.\\nNONE\\n.LOCATIONNeck\\n.INJURYHanging.\\n.INJURYDESC.\\nPartially encircling the neck is a 0.75 cm brown abraded ligature furrow which anteriorly passes over the thyroid cartilage and cants upwards and backwards toward the nape of the neck lying 6.0 cm below the right ear and 3.0 cm below the left ear. No other neck trauma is present. Accompanying the body is a green electrical cord ligature which correlates with the ligature furrow of the neck. \\n\\n.LOCATIONHead\\n.INJURYBlunt injury.\\n.INJURYDESC.\\nOn the left anterior forehead is a 1.0 cm linear red abrasion,.\\n.MICRO.\\nNONE\\n.LOCATIONNeck\\n.INJURYHanging.\\n.INJURYDESC.\\nPartially encircling the neck is a 0.75 cm brown abraded ligature furrow which anteriorly passes over the thyroid cartilage and cants upwards and backwards toward the nape of the neck lying 6.0 cm below the right ear and 3.0 cm below the left ear. No other neck trauma is present. Accompanying the body is a green electrical cord ligature which correlates with the ligature furrow of the neck. \\n\\n.LOCATIONHead\\n.INJURYBlunt injury.\\n.INJURYDESC.\\nOn the left anterior forehead is a 1.0 cm linear red abrasion,.\\n.MICRO.\\nNONE\\n.LOCATIONNeck\\n.INJURYHanging.\\n.INJURYDESC.\\nPartially encircling the neck is a 0.75 cm brown abraded ligature furrow which anteriorly passes over the thyroid cartilage and cants upwards and backwards toward the nape of the neck lying 6.0 cm below the right ear and 3.0 cm below the left ear. No other neck trauma is present. Accompanying the body is a green electrical cord ligature which correlates with the ligature furrow of the neck. \\n\\n.LOCATIONHead\\n.INJURYBlunt injury.\\n.INJURYDESC.\\nOn the left anterior forehead is a 1.0 cm linear red abrasion,.\\n.MICRO.\\nNONE\\n.LOCATIONNeck\\n.INJURYHanging.\\n.INJURYDESC.\\nPartially encircling the neck is a 0.75 cm brown abraded ligature furrow which anteriorly passes over the thyroid cartilage and cants upwards and backwards toward the nape of the neck lying 6.0 cm below the right ear and 3.0 cm below the left ear. No other neck trauma is present. Accompanying the body is a green electrical cord ligature which correlates with the ligature furrow of the neck. \\n\\n.LOCATIONHead\\n.INJURYBlunt injury.\\n.INJURYDESC.\\nOn the left anterior forehead is a 1.0 cm linear red abrasion,.\\n.MICRO.\\nNONE\\n.LOCATIONNeck\\n.INJURYHanging.\\n.INJURYDESC.\\nPartially encircling the neck is a 0.75 cm brown abraded ligature furrow which anteriorly passes over the thyroid cartilage and cants upwards and backwards toward the nape of the neck lying 6.0 cm below the right ear and 3.0 cm below the left ear. No other neck trauma is present. Accompanying the body is a green electrical cord ligature which correlates with the ligature furrow of the neck. \\n\\n.LOCATIONHead\\n.INJURYBlunt injury.\\n.INJURYDESC.\\nOn the left anterior forehead is a 1.0 cm linear red abrasion,.\\n.MICRO.\\nNONE\\n.LOCATIONNeck\\n.INJURYHanging.\\n.INJURYDESC.\\nPartially encircling the neck is a 0.75 cm brown abraded ligature furrow which anteriorly passes over the thyroid cartilage and cants upwards and backwards toward the nape of the neck lying 6.0 cm below the right ear and 3.0 cm below the left ear. No other neck trauma is present. Accompanying the body is a green electrical cord ligature which correlates with the ligature furrow of the neck. \\n\\n.LOCATIONHead\\n.INJURYBlunt injury.\\n.INJURYDESC.\\nOn the left anterior forehead is a 1.0 cm linear red abrasion,.\\n.MICRO.\\nNONE\\n.LOCATIONNeck\\n.INJURYHanging.\\n.INJURYDESC.\\nPartially encircling the neck is a 0.75 cm brown abraded ligature furrow which anteriorly passes over the thyroid cartilage and cants upwards and backwards toward the nape of the neck lying 6.0 cm below the right ear and 3.0 cm below the left ear. No other neck trauma is present. Accompanying the body is a green electrical cord ligature which correlates with the ligature furrow of the neck. \\n\\n.LOCATIONHead\\n.INJURYBlunt injury.\\n.INJURYDESC.\\nOn the left anterior forehead is a 1.0 cm linear red abrasion,.\\n.MICRO.\\nNONE\\n.LOCATIONNeck\\n.INJURYHanging.\\n.INJURYDESC.\\nPartially encircling the neck is a 0.75 cm brown abraded ligature furrow which anteriorly passes over the thyroid cartilage and cants upwards and backwards toward the nape of the neck lying 6.0 cm below the right ear and 3.0 cm below the left ear. No other neck trauma is present. Accompanying the body is a green electrical cord ligature which correlates with the ligature furrow of the neck. \\n\\n.LOCATIONHead\\n.INJURYBlunt injury.\\n.INJURYDESC.\\nOn the left anterior forehead is a 1.0 cm linear red abrasion,.\\n.MICRO.\\nNONE\\n.LOCATIONNeck\\n.INJURYHanging.\\n.INJURYDESC.\\nPartially encircling the neck is a 0.75 cm brown abraded ligature furrow which anteriorly passes over the thyroid cartilage and cants upwards and backwards toward the nape of the neck lying 6.0 cm below the right ear and 3.0 cm below the left ear. No other neck trauma is present. Accompanying the body is a green electrical cord ligature which correlates with the ligature furrow of the neck. \\n\\n.LOCATIONHead\\n.INJURYBlunt injury.\\n.INJURYDESC.\\nOn the left anterior forehead is a 1.0 cm linear red abrasion,.\\n.MICRO.\\nNONE\\n.LOCATIONNeck\\n.INJURYHanging.\\n.INJURYDESC.\\nPartially encircling the neck is a 0.75 cm brown abraded ligature furrow which anteriorly passes over the thyroid cartilage and cants upwards and backwards toward the nape of the neck lying 6.0 cm below the right ear and 3.0 cm below the left ear. No other neck trauma is present. Accompanying the body is a green electrical cord ligature which correlates with the ligature furrow of the neck. \\n\\n.LOCATIONHead\\n.INJURYBlunt injury.\\n.INJURYDESC.\\nOn the left anterior forehead is a 1.0 cm linear red abrasion,.\\n.MICRO.\\nNONE\\n.LOCATIONNeck\\n.INJURYHanging.\\n.INJURYDESC.\\nPartially encircling the neck is a 0.75 cm brown abraded ligature furrow which anteriorly passes over the thyroid cartilage and cants upwards and backwards toward the nape of the neck lying 6.0 cm below the right ear and 3.0 cm below the left ear. No other neck trauma is present. Accompanying the body is a green electrical cord ligature which correlates with the ligature furrow of the neck. \\n\\n.LOCATIONHead\\n.INJURYBlunt injury.\\n.INJURYDESC.\\nOn the left anterior forehead is a 1.0 cm linear red abrasion,.\\n.MICRO.\\nNONE\\n.LOCATIONNeck\\n.INJURYHanging.\\n.INJURYDESC.\\nPartially encircling the neck is a 0.75 cm brown abraded ligature furrow which anteriorly passes over the thyroid cartilage and cants upwards and backwards toward the nape of the neck lying 6.0 cm below the right ear and 3.0 cm below the left ear. No other neck trauma is present. Accompanying the body is a green electrical cord ligature which correlates with the ligature furrow of the neck. \\n\\n.LOCATIONHead\\n.INJURYBlunt injury.\\n.INJURYDESC.\\nOn the left anterior forehead is a 1.0 cm linear red abrasion,.\\n.MICRO.\\nNONE\\n.LOCATIONNeck\\n.INJURYHanging.\\n.INJURYDESC.\\nPartially encircling the neck is a 0.75 cm brown abraded ligature furrow which anteriorly passes over the thyroid cartilage and cants upwards and backwards toward the nape of the neck lying 6.0 cm below the right ear and 3.0 cm below the left ear. No other neck trauma is present. Accompanying the body is a green electrical cord ligature which correlates with the ligature furrow of the neck. \\n\\n.LOCATIONHead\\n.INJURYBlunt injury.\\n.INJURYDESC.\\nOn the left anterior forehead is a 1.0 cm linear red abrasion,.\\n.MICRO.\\nNONE\\n.LOCATIONNeck\\n.INJURYHanging.\\n.INJURYDESC.\\nPartially encircling the neck is a 0.75 cm brown abraded ligature furrow which anteriorly passes over the thyroid cartilage and cants upwards and backwards toward the nape of the neck lying 6.0 cm below the right ear and 3.0 cm below the left ear. No other neck trauma is present. Accompanying the body is a green electrical cord ligature which correlates with the ligature furrow of the neck. \\n\\n.LOCATIONHead\\n.INJURYBlunt injury.\\n.INJURYDESC.\\nOn the left anterior forehead is a 1.0 cm linear red abrasion,.\\n.MICRO.\\nNONE\\n.LOCATIONNeck\\n.INJURYHanging.\\n.INJURYDESC.\\nPartially encircling the neck is a 0.75 cm brown abraded ligature furrow which anteriorly passes over the thyroid cartilage and cants upwards and backwards toward the nape of the neck lying 6.0 cm below the right ear and 3.0 cm below the left ear. No other neck trauma is present. Accompanying the body is a green electrical cord ligature which correlates with the ligature furrow of the neck. \\n\\n.LOCATIONHead\\n.INJURYBlunt injury.\\n.INJURYDESC.\\nOn the left anterior forehead is a 1.0 cm linear red abrasion,.\\n.MICRO.\\nNONE\\n.LOCATIONNeck\\n.INJURYHanging.\\n.INJURYDESC.\\nPartially encircling the neck is a 0.75 cm brown abraded ligature furrow which anteriorly passes over the thyroid cartilage and cants upwards and backwards toward the nape of the neck lying 6.0 cm below the right ear and 3.0 cm below the left ear. No other neck trauma is present. Accompanying the body is a green electrical cord ligature which correlates with the ligature furrow of the neck. \\n\\n.LOCATIONHead\\n.INJURYBlunt injury.\\n.INJURYDESC.\\nOn the left anterior forehead is a 1.0 cm linear red abrasion,.\\n.MICRO.\\nNONE\\n.LOCATIONNeck\\n.INJURYHanging.\\n.INJURYDESC.\\nPartially encircling the neck is a 0.75 cm brown abraded ligature furrow which anteriorly passes over the thyroid cartilage and cants upwards and backwards toward the nape of the neck lying 6.0 cm below the right ear and 3.0 cm below the left ear. No other neck trauma is present. Accompanying the body is a green electrical cord ligature which correlates with the ligature furrow of the neck. \\n\\n.LOCATIONHead\\n.INJURYBlunt injury.\\n.INJURYDESC.\\nOn the left anterior forehead is a 1.0 cm linear red abrasion,.\\n.MICRO.\\nNONE\\n.LOCATIONNeck\\n.INJURYHanging.\\n.INJURYDESC.\\nPartially encircling the neck is a 0.75 cm brown abraded ligature furrow which anteriorly passes over the thyroid cartilage and cants upwards and backwards toward the nape of the neck lying 6.0 cm below the right ear and 3.0 cm below the left ear. No other neck trauma is present. Accompanying the body is a green electrical cord ligature which correlates with the ligature furrow of the neck. \\n\\n.LOCATIONHead\\n.INJURYBlunt injury.\\n.INJURYDESC.\\nOn the left anterior forehead is a 1.0 cm linear red abrasion,.\\n.MICRO.\\nNONE\\n.LOCATIONNeck\\n.INJURYHanging.\\n.INJURYDESC.\\nPartially encircling the neck is a 0.75 cm brown abraded ligature furrow which anteriorly passes over the thyroid cartilage and cants upwards and backwards toward the nape of the neck lying 6.0 cm below the right ear and 3.0 cm below the left ear. No other neck trauma is present. Accompanying the body is a green electrical cord ligature which correlates with the ligature furrow of the neck. \\n\\n.LOCATIONHead\\n.INJURYBlunt injury.\\n.INJURYDESC.\\nOn the left anterior forehead is a 1.0 cm linear red abrasion,.\\n.MICRO.\\nNONE\\n.LOCATIONNeck\\n.INJURYHanging.\\n.INJURYDESC.\\nPartially encircling the neck is a 0.75 cm brown abraded ligature furrow which anteriorly passes over the thyroid cartilage and cants upwards and backwards toward the nape of the neck lying 6.0 cm below the right ear and 3.0 cm below the left ear. No other neck trauma is present. Accompanying the body is a green electrical cord ligature which correlates with the ligature furrow of the neck. \\n\\n.LOCATIONHead\\n.INJURYBlunt injury.\\n.INJURYDESC.\\nOn the left anterior forehead is a 1.0 cm linear red abrasion,.\\n.MICRO.\\nNONE\\n.LOCATIONNeck\\n.INJURYHanging.\\n.INJURYDESC.\\nPartially encircling the neck is a 0.75 cm brown abraded ligature furrow which anteriorly passes over the thyroid cartilage and cants upwards and backwards toward the nape of the neck lying 6.0 cm below the right ear and 3.0 cm below the left ear. No other neck trauma is present. Accompanying the body is a green electrical cord ligature which correlates with the ligature furrow of the neck. \\n\\n.LOCATIONHead\\n.INJURYBlunt injury.\\n.INJURYDESC.\\nOn the left anterior forehead is a 1.0 cm linear red abrasion,.\\n.MICRO.\\nNONE\\n.LOCATIONNeck\\n.INJURYHanging.\\n.INJURYDESC.\\nPartially encircling the neck is a 0.75 cm brown abraded ligature furrow which anteriorly passes over the thyroid cartilage and cants upwards and backwards toward the nape of the neck lying 6.0 cm below the right ear and 3.0 cm below the left ear. No other neck trauma is present. Accompanying the body is a green electrical cord ligature which correlates with the ligature furrow of the neck. \\n\\n.LOCATIONHead\\n.INJURYBlunt injury.\\n.INJURYDESC.\\nOn the left anterior forehead is a 1.0 cm linear red abrasion,.\\n.MICRO.\\nNONE\\n.LOCATIONNeck\\n.INJURYHanging.\\n.INJURYDESC.\\nPartially encircling the neck is a 0.75 cm brown abraded ligature furrow which anteriorly passes over the thyroid cartilage and cants upwards and backwards toward the nape of the neck lying 6.0 cm below the right ear and 3.0 cm below the left ear. No other neck trauma is present. Accompanying the body is a green electrical cord ligature which correlates with the ligature furrow of the neck. \\n\\n.LOCATIONHead\\n.INJURYBlunt injury.\\n.INJURYDESC.\\nOn the left anterior forehead is a 1.0 cm linear red abrasion,.\\n.MICRO.\\nNONE\\n.LOCATIONNeck\\n.INJURYHanging.\\n.INJURYDESC.\\nPartially encircling the neck is a 0.75 cm brown abraded ligature furrow which anteriorly passes over the thyroid cartilage and cants upwards and backwards toward the nape of the neck lying 6.0 cm below the right ear and 3.0 cm below the left ear. No other neck trauma is present. Accompanying the body is a green electrical cord ligature which correlates with the ligature furrow of the neck. \\n\\n.LOCATIONHead\\n.INJURYBlunt injury.\\n.INJURYDESC.\\nOn the left anterior forehead is a 1.0 cm linear red abrasion,.\\n.MICRO.\\nNONE\\n.LOCATIONNeck\\n.INJURYHanging.\\n.INJURYDESC.\\nPartially encircling the neck is a 0.75 cm brown abraded ligature furrow which anteriorly passes over the thyroid cartilage and cants upwards and backwards toward the nape of the neck lying 6.0 cm below the right ear and 3.0 cm below the left ear. No other neck trauma is present. Accompanying the body is a green electrical cord ligature which correlates with the ligature furrow of the neck. \\n\\n.LOCATIONHead\\n.INJURYBlunt injury.\\n.INJURYDESC.\\nOn the left anterior forehead is a 1.0 cm linear red abrasion,.\\n.MICRO.\\nNONE\\n.LOCATIONNeck\\n.INJURYHanging.\\n.INJURYDESC.\\nPartially encircling the neck is a 0.75 cm brown abraded ligature furrow which anteriorly passes over the thyroid cartilage and cants upwards and backwards toward the nape of the neck lying 6.0 cm below the right ear and 3.0 cm below the left ear. No other neck trauma is present. Accompanying the body is a green electrical cord ligature which correlates with the ligature furrow of the neck. \\n\\n.LOCATIONHead\\n.INJURYBlunt injury.\\n.INJURYDESC.\\nOn the left anterior forehead is a 1.0 cm linear red abrasion,.\\n.MICRO.\\nNONE\\n.LOCATIONNeck\\n.INJURYHanging.\\n.INJURYDESC.\\nPartially encircling the neck is a 0.75 cm brown abraded ligature furrow which anteriorly passes over the thyroid cartilage and cants upwards and backwards toward the nape of the neck lying 6.0 cm below the right ear and 3.0 cm below the left ear. No other neck trauma is present. Accompanying the body is a green electrical cord ligature which correlates with the ligature furrow of the neck. \\n\\n.LOCATIONHead\\n.INJURYBlunt injury.\\n.INJURYDESC.\\nOn the left anterior forehead is a 1.0 cm linear red abrasion,.\\n.MICRO.\\nNONE\\n.LOCATIONNeck\\n.INJURYHanging.\\n.INJURYDESC.\\nPartially encircling the neck is a 0.75 cm brown abraded ligature furrow which anteriorly passes over the thyroid cartilage and cants upwards and backwards toward the nape of the neck lying 6.0 cm below the right ear and 3.0 cm below the left ear. No other neck trauma is present. Accompanying the body is a green electrical cord ligature which correlates with the ligature furrow of the neck. \\n\\n.LOCATIONHead\\n.INJURYBlunt injury.\\n.INJURYDESC.\\nOn the left anterior forehead is a 1.0 cm linear red abrasion,.\\n.MICRO.\\nNONE\\n.LOCATIONNeck\\n.INJURYHanging.\\n.INJURYDESC.\\nPartially encircling the neck is a 0.75 cm brown abraded ligature furrow which anteriorly passes over the thyroid cartilage and cants upwards and backwards toward the nape of the neck lying 6.0 cm below the right ear and 3.0 cm below the left ear. No other neck trauma is present. Accompanying the body is a green electrical cord ligature which correlates with the ligature furrow of the neck. \\n\\n.LOCATIONHead\\n.INJURYBlunt injury.\\n.INJURYDESC.\\nOn the left anterior forehead is a 1.0 cm linear red abrasion,.\\n.MICRO.\\nNONE\\n.LOCATIONNeck\\n.INJURYHanging.\\n.INJURYDESC.\\nPartially encircling the neck is a 0.75 cm brown abraded ligature furrow which anteriorly passes over the thyroid cartilage and cants upwards and backwards toward the nape of the neck lying 6.0 cm below the right ear and 3.0 cm below the left ear. No other neck trauma is present. Accompanying the body is a green electrical cord ligature which correlates with the ligature furrow of the neck. \\n\\n.LOCATIONHead\\n.INJURYBlunt injury.\\n.INJURYDESC.\\nOn the left anterior forehead is a 1.0 cm linear red abrasion,.\\n.MICRO.\\nNONE\\n.LOCATIONNeck\\n.INJURYHanging.\\n.INJURYDESC.\\nPartially encircling the neck is a 0.75 cm brown abraded ligature furrow which anteriorly passes over the thyroid cartilage and cants upwards and backwards toward the nape of the neck lying 6.0 cm below the right ear and 3.0 cm below the left ear. No other neck trauma is present. Accompanying the body is a green electrical cord ligature which correlates with the ligature furrow of the neck. \\n\\n.LOCATIONHead\\n.INJURYBlunt injury.\\n.INJURYDESC.\\nOn the left anterior forehead is a 1.0 cm linear red abrasion,.\\n.MICRO.\\nNONE\\n.LOCATIONNeck\\n.INJURYHanging.\\n.INJURYDESC.\\nPartially encircling the neck is a 0.75 cm brown abraded ligature furrow which anteriorly passes over the thyroid cartilage and cants upwards and backwards toward the nape of the neck lying 6.0 cm below the right ear and 3.0 cm below the left ear. No other neck trauma is present. Accompanying the body is a green electrical cord ligature which correlates with the ligature furrow of the neck. \\n\\n.LOCATIONHead\\n.INJURYBlunt injury.\\n.INJURYDESC.\\nOn the left anterior forehead is a 1.0 cm linear red abrasion,.\\n.MICRO.\\nNONE\\n.LOCATIONNeck\\n.INJURYHanging.\\n.INJURYDESC.\\nPartially encircling the neck is a 0.75 cm brown abraded ligature furrow which anteriorly passes over the thyroid cartilage and cants upwards and backwards toward the nape of the neck lying 6.0 cm below the right ear and 3.0 cm below the left ear. No other neck trauma is present. Accompanying the body is a green electrical cord ligature which correlates with the ligature furrow of the neck. \\n\\n.LOCATIONHead\\n.INJURYBlunt injury.\\n.INJURYDESC.\\nOn the left anterior forehead is a 1.0 cm linear red abrasion,.\\n.MICRO.\\nNONE\\n.LOCATIONNeck\\n.INJURYHanging.\\n.INJURYDESC.\\nPartially encircling the neck is a 0.75 cm brown abraded ligature furrow which anteriorly passes over the thyroid cartilage and cants upwards and backwards toward the nape of the neck lying 6.0 cm below the right ear and 3.0 cm below the left ear. No other neck trauma is present. Accompanying the body is a green electrical cord ligature which correlates with the ligature furrow of the neck. \\n\\n.LOCATIONHead\\n.INJURYBlunt injury.\\n.INJURYDESC.\\nOn the left anterior forehead is a 1.0 cm linear red abrasion,.\\n.MICRO.\\nNONE\\n.LOCATIONNeck\\n.INJURYHanging.\\n.INJURYDESC.\\nPartially encircling the neck is a 0.75 cm brown abraded ligature furrow which anteriorly passes over the thyroid cartilage and cants upwards and backwards toward the nape of the neck lying 6.0 cm below the right ear and 3.0 cm below the left ear. No other neck trauma is present. Accompanying the body is a green electrical cord ligature which correlates with the ligature furrow of the neck. \\n\\n.LOCATIONHead\\n.INJURYBlunt injury.\\n.INJURYDESC.\\nOn the left anterior forehead is a 1.0 cm linear red abrasion,.\\n.MICRO.\\nNONE\\n.LOCATIONNeck\\n.INJURYHanging.\\n.INJURYDESC.\\nPartially encircling the neck is a 0.75 cm brown abraded ligature furrow which anteriorly passes over the thyroid cartilage and cants upwards and backwards toward the nape of the neck lying 6.0 cm below the right ear and 3.0 cm below the left ear. No other neck trauma is present. Accompanying the body is a green electrical cord ligature which correlates with the ligature furrow of the neck. \\n\\n.LOCATIONHead\\n.INJURYBlunt injury.\\n.INJURYDESC.\\nOn the left anterior forehead is a 1.0 cm linear red abrasion,.\\n.MICRO.\\nNONE\\n.LOCATIONNeck\\n.INJURYHanging.\\n.INJURYDESC.\\nPartially encircling the neck is a 0.75 cm brown abraded ligature furrow which anteriorly passes over the thyroid cartilage and cants upwards and backwards toward the nape of the neck lying 6.0 cm below the right ear and 3.0 cm below the left ear. No other neck trauma is present. Accompanying the body is a green electrical cord ligature which correlates with the ligature furrow of the neck. \\n\\n.LOCATIONHead\\n.INJURYBlunt injury.\\n.INJURYDESC.\\nOn the left anterior forehead is a 1.0 cm linear red abrasion,.\\n.MICRO.\\nNONE\\n.LOCATIONNeck\\n.INJURYHanging.\\n.INJURYDESC.\\nPartially encircling the neck is a 0.75 cm brown abraded ligature furrow which anteriorly passes over the thyroid cartilage and cants upwards and backwards toward the nape of the neck lying 6.0 cm below the right ear and 3.0 cm below the left ear. No other neck trauma is present. Accompanying the body is a green electrical cord ligature which correlates with the ligature furrow of the neck. \\n\\n.LOCATIONHead\\n.INJURYBlunt injury.\\n.INJURYDESC.\\nOn the left anterior forehead is a 1.0 cm linear red abrasion,.\\n.MICRO.\\nNONE\\n.LOCATIONNeck\\n.INJURYHanging.\\n.INJURYDESC.\\nPartially encircling the neck is a 0.75 cm brown abraded ligature furrow which anteriorly passes over the thyroid cartilage and cants upwards and backwards toward the nape of the neck lying 6.0 cm below the right ear and 3.0 cm below the left ear. No other neck trauma is present. Accompanying the body is a green electrical cord ligature which correlates with the ligature furrow of the neck. \\n\\n.LOCATIONHead\\n.INJURYBlunt injury.\\n.INJURYDESC.\\nOn the left anterior forehead is a 1.0 cm linear red abrasion,.\\n.MICRO.\\nNONE\\n.LOCATIONNeck\\n.INJURYHanging.\\n.INJURYDESC.\\nPartially encircling the neck is a 0.75 cm brown abraded ligature furrow which anteriorly passes over the thyroid cartilage and cants upwards and backwards toward the nape of the neck lying 6.0 cm below the right ear and 3.0 cm below the left ear. No other neck trauma is present. Accompanying the body is a green electrical cord ligature which correlates with the ligature furrow of the neck. \\n\\n.LOCATIONHead\\n.INJURYBlunt injury.\\n.INJURYDESC.\\nOn the left anterior forehead is a 1.0 cm linear red abrasion,.\\n.MICRO.\\nNONE\\n.LOCATIONNeck\\n.INJURYHanging.\\n.INJURYDESC.\\nPartially encircling the neck is a 0.75 cm brown abraded ligature furrow which anteriorly passes over the thyroid cartilage and cants upwards and backwards toward the nape of the neck lying 6.0 cm below the right ear and 3.0 cm below the left ear. No other neck trauma is present. Accompanying the body is a green electrical cord ligature which correlates with the ligature furrow of the neck. \\n\\n.LOCATIONHead\\n.INJURYBlunt injury.\\n.INJURYDESC.\\nOn the left anterior forehead is a 1.0 cm linear red abrasion,.\\n.MICRO.\\nNONE\\n.LOCATIONNeck\\n.INJURYHanging.\\n.INJURYDESC.\\nPartially encircling the neck is a 0.75 cm brown abraded ligature furrow which anteriorly passes over the thyroid cartilage and cants upwards and backwards toward the nape of the neck lying 6.0 cm below the right ear and 3.0 cm below the left ear. No other neck trauma is present. Accompanying the body is a green electrical cord ligature which correlates with the ligature furrow of the neck. \\n\\n.LOCATIONHead\\n.INJURYBlunt injury.\\n.INJURYDESC.\\nOn the left anterior forehead is a 1.0 cm linear red abrasion,.\\n.MICRO.\\nNONE\\n.LOCATIONNeck\\n.INJURYHanging.\\n.INJURYDESC.\\nPartially encircling the neck is a 0.75 cm brown abraded ligature furrow which anteriorly passes over the thyroid cartilage and cants upwards and backwards toward the nape of the neck lying 6.0 cm below the right ear and 3.0 cm below the left ear. No other neck trauma is present. Accompanying the body is a green electrical cord ligature which correlates with the ligature furrow of the neck. \\n\\n.LOCATIONHead\\n.INJURYBlunt injury.\\n.INJURYDESC.\\nOn the left anterior forehead is a 1.0 cm linear red abrasion,.\\n.MICRO.\\nNONE\\n.LOCATIONNeck\\n.INJURYHanging.\\n.INJURYDESC.\\nPartially encircling the neck is a 0.75 cm brown abraded ligature furrow which anteriorly passes over the thyroid cartilage and cants upwards and backwards toward the nape of the neck lying 6.0 cm below the right ear and 3.0 cm below the left ear. No other neck trauma is present. Accompanying the body is a green electrical cord ligature which correlates with the ligature furrow of the neck. \\n\\n.LOCATIONHead\\n.INJURYBlunt injury.\\n.INJURYDESC.\\nOn the left anterior forehead is a 1.0 cm linear red abrasion,.\\n.MICRO.\\nNONE\\n.LOCATIONNeck\\n.INJURYHanging.\\n.INJURYDESC.\\nPartially encircling the neck is a 0.75 cm brown abraded ligature furrow which anteriorly passes over the thyroid cartilage and cants upwards and backwards toward the nape of the neck lying 6.0 cm below the right ear and 3.0 cm below the left ear. No other neck trauma is present. Accompanying the body is a green electrical cord ligature which correlates with the ligature furrow of the neck. \\n\\n.LOCATIONHead\\n.INJURYBlunt injury.\\n.INJURYDESC.\\nOn the left anterior forehead is a 1.0 cm linear red abrasion,.\\n.MICRO.\\nNONE\\n.LOCATIONNeck\\n.INJURYHanging.\\n.INJURYDESC.\\nPartially encircling the neck is a 0.75 cm brown abraded ligature furrow which anteriorly passes over the thyroid cartilage and cants upwards and backwards toward the nape of the neck lying 6.0 cm below the right ear and 3.0 cm below the left ear. No other neck trauma is present. Accompanying the body is a green electrical cord ligature which correlates with the ligature furrow of the neck. \\n\\n.LOCATIONHead\\n.INJURYBlunt injury.\\n.INJURYDESC.\\nOn the left anterior forehead is a 1.0 cm linear red abrasion,.\\n.MICRO.\\nNONE\\n.LOCATIONNeck\\n.INJURYHanging.\\n.INJURYDESC.\\nPartially encircling the neck is a 0.75 cm brown abraded ligature furrow which anteriorly passes over the thyroid cartilage and cants upwards and backwards toward the nape of the neck lying 6.0 cm below the right ear and 3.0 cm below the left ear. No other neck trauma is present. Accompanying the body is a green electrical cord ligature which correlates with the ligature furrow of the neck. \\n\\n.LOCATIONHead\\n.INJURYBlunt injury.\\n.INJURYDESC.\\nOn the left anterior forehead is a 1.0 cm linear red abrasion,.\\n.MICRO.\\nNONE\\n.LOCATIONNeck\\n.INJURYHanging.\\n.INJURYDESC.\\nPartially encircling the neck is a 0.75 cm brown abraded ligature furrow which anteriorly passes over the thyroid cartilage and cants upwards and backwards toward the nape of the neck lying 6.0 cm below the right ear and 3.0 cm below the left ear. No other neck trauma is present. Accompanying the body is a green electrical cord ligature which correlates with the ligature furrow of the neck. \\n\\n.LOCATIONHead\\n.INJURYBlunt injury.\\n.INJURYDESC.\\nOn the left anterior forehead is a 1.0 cm linear red abrasion,.\\n.MICRO.\\nNONE\\n.LOCATIONNeck\\n.INJURYHanging.\\n.INJURYDESC.\\nPartially encircling the neck is a 0.75 cm brown abraded ligature furrow which anteriorly passes over the thyroid cartilage and cants upwards and backwards toward the nape of the neck lying 6.0 cm below the right ear and 3.0 cm below the left ear. No other neck trauma is present. Accompanying the body is a green electrical cord ligature which correlates with the ligature furrow of the neck. \\n\\n.LOCATIONHead\\n.INJURYBlunt injury.\\n.INJURYDESC.\\nOn the left anterior forehead is a 1.0 cm linear red abrasion,.\\n.MICRO.\\nNONE\\n.LOCATIONNeck\\n.INJURYHanging.\\n.INJURYDESC.\\nPartially encircling the neck is a 0.75 cm brown abraded ligature furrow which anteriorly passes over the thyroid cartilage and cants upwards and backwards toward the nape of the neck lying 6.0 cm below the right ear and 3.0 cm below the left ear. No other neck trauma is present. Accompanying the body is a green electrical cord ligature which correlates with the ligature furrow of the neck. \\n\\n.LOCATIONHead\\n.INJURYBlunt injury.\\n.INJURYDESC.\\nOn the left anterior forehead is a 1.0 cm linear red abrasion,.\\n.MICRO.\\nNONE\\n.LOCATIONNeck\\n.INJURYHanging.\\n.INJURYDESC.\\nPartially encircling the neck is a 0.75 cm brown abraded ligature furrow which anteriorly passes over the thyroid cartilage and cants upwards and backwards toward the nape of the neck lying 6.0 cm below the right ear and 3.0 cm below the left ear. No other neck trauma is present. Accompanying the body is a green electrical cord ligature which correlates with the ligature furrow of the neck. \\n\\n.LOCATIONHead\\n.INJURYBlunt injury.\\n.INJURYDESC.\\nOn the left anterior forehead is a 1.0 cm linear red abrasion,.\\n.MICRO.\\nNONE\\n.LOCATIONNeck\\n.INJURYHanging.\\n.INJURYDESC.\\nPartially encircling the neck is a 0.75 cm brown abraded ligature furrow which anteriorly passes over the thyroid cartilage and cants upwards and backwards toward the nape of the neck lying 6.0 cm below the right ear and 3.0 cm below the left ear. No other neck trauma is present. Accompanying the body is a green electrical cord ligature which correlates with the ligature furrow of the neck. \\n\\n.LOCATIONHead\\n.INJURYBlunt injury.\\n.INJURYDESC.\\nOn the left anterior forehead is a 1.0 cm linear red abrasion,.\\n.MICRO.\\nNONE\\n.LOCATIONNeck\\n.INJURYHanging.\\n.INJURYDESC.\\nPartially encircling the neck is a 0.75 cm brown abraded ligature furrow which anteriorly passes over the thyroid cartilage and cants upwards and backwards toward the nape of the neck lying 6.0 cm below the right ear and 3.0 cm below the left ear. No other neck trauma is present. Accompanying the body is a green electrical cord ligature which correlates with the ligature furrow of the neck. \\n\\n.LOCATIONHead\\n.INJURYBlunt injury.\\n.INJURYDESC.\\nOn the left anterior forehead is a 1.0 cm linear red abrasion,.\\n.MICRO.\\nNONE\\n.LOCATIONNeck\\n.INJURYHanging.\\n.INJURYDESC.\\nPartially encircling the neck is a 0.75 cm brown abraded ligature furrow which anteriorly passes over the thyroid cartilage and cants upwards and backwards toward the nape of the neck lying 6.0 cm below the right ear and 3.0 cm below the left ear. No other neck trauma is present. Accompanying the body is a green electrical cord ligature which correlates with the ligature furrow of the neck. \\n\\n.LOCATIONHead\\n.INJURYBlunt injury.\\n.INJURYDESC.\\nOn the left anterior forehead is a 1.0 cm linear red abrasion,.\\n.MICRO.\\nNONE\\n.LOCATIONNeck\\n.INJURYHanging.\\n.INJURYDESC.\\nPartially encircling the neck is a 0.75 cm brown abraded ligature furrow which anteriorly passes over the thyroid cartilage and cants upwards and backwards toward the nape of the neck lying 6.0 cm below the right ear and 3.0 cm below the left ear. No other neck trauma is present. Accompanying the body is a green electrical cord ligature which correlates with the ligature furrow of the neck. \\n\\n.LOCATIONHead\\n.INJURYBlunt injury.\\n.INJURYDESC.\\nOn the left anterior forehead is a 1.0 cm linear red abrasion,.\\n.MICRO.\\nNONE\\n.LOCATIONNeck\\n.INJURYHanging.\\n.INJURYDESC.\\nPartially encircling the neck is a 0.75 cm brown abraded ligature furrow which anteriorly passes over the thyroid cartilage and cants upwards and backwards toward the nape of the neck lying 6.0 cm below the right ear and 3.0 cm below the left ear. No other neck trauma is present. Accompanying the body is a green electrical cord ligature which correlates with the ligature furrow of the neck. \\n\\n.LOCATIONHead\\n.INJURYBlunt injury.\\n.INJURYDESC.\\nOn the left anterior forehead is a 1.0 cm linear red abrasion,.\\n.MICRO.\\nNONE\\n.LOCATIONNeck\\n.INJURYHanging.\\n.INJURYDESC.\\nPartially encircling the neck is a 0.75 cm brown abraded ligature furrow which anteriorly passes over the thyroid cartilage and cants upwards and backwards toward the nape of the neck lying 6.0 cm below the right ear and 3.0 cm below the left ear. No other neck trauma is present. Accompanying the body is a green electrical cord ligature which correlates with the ligature furrow of the neck. \\n\\n.LOCATIONHead\\n.INJURYBlunt injury.\\n.INJURYDESC.\\nOn the left anterior forehead is a 1.0 cm linear red abrasion,.\\n.MICRO.\\nNONE\\n.LOCATIONNeck\\n.INJURYHanging.\\n.INJURYDESC.\\nPartially encircling the neck is a 0.75 cm brown abraded ligature furrow which anteriorly passes over the thyroid cartilage and cants upwards and backwards toward the nape of the neck lying 6.0 cm below the right ear and 3.0 cm below the left ear. No other neck trauma is present. Accompanying the body is a green electrical cord ligature which correlates with the ligature furrow of the neck. \\n\\n.LOCATIONHead\\n.INJURYBlunt injury.\\n.INJURYDESC.\\nOn the left anterior forehead is a 1.0 cm linear red abrasion,.\\n.MICRO.\\nNONE\\n.LOCATIONNeck\\n.INJURYHanging.\\n.INJURYDESC.\\nPartially encircling the neck is a 0.75 cm brown abraded ligature furrow which anteriorly passes over the thyroid cartilage and cants upwards and backwards toward the nape of the neck lying 6.0 cm below the right ear and 3.0 cm below the left ear. No other neck trauma is present. Accompanying the body is a green electrical cord ligature which correlates with the ligature furrow of the neck. \\n\\n.LOCATIONHead\\n.INJURYBlunt injury.\\n.INJURYDESC.\\nOn the left anterior forehead is a 1.0 cm linear red abrasion,.\\n.MICRO.\\nNONE\\n.LOCATIONNeck\\n.INJURYHanging.\\n.INJURYDESC.\\nPartially encircling the neck is a 0.75 cm brown abraded ligature furrow which anteriorly passes over the thyroid cartilage and cants upwards and backwards toward the nape of the neck lying 6.0 cm below the right ear and 3.0 cm below the left ear. No other neck trauma is present. Accompanying the body is a green electrical cord ligature which correlates with the ligature furrow of the neck. \\n\\n.LOCATIONHead\\n.INJURYBlunt injury.\\n.INJURYDESC.\\nOn the left anterior forehead is a 1.0 cm linear red abrasion,.\\n.MICRO.\\nNONE\\n.LOCATIONNeck\\n.INJURYHanging.\\n.INJURYDESC.\\nPartially encircling the neck is a 0.75 cm brown abraded ligature furrow which anteriorly passes over the thyroid cartilage and cants upwards and backwards toward the nape of the neck lying 6.0 cm below the right ear and 3.0 cm below the left ear. No other neck trauma is present. Accompanying the body is a green electrical cord ligature which correlates with the ligature furrow of the neck. \\n\\n.LOCATIONHead\\n.INJURYBlunt injury.\\n.INJURYDESC.\\nOn the left anterior forehead is a 1.0 cm linear red abrasion,.\\n.MICRO.\\nNONE\\n.LOCATIONNeck\\n.INJURYHanging.\\n.INJURYDESC.\\nPartially encircling the neck is a 0.75 cm brown abraded ligature furrow which anteriorly passes over the thyroid cartilage and cants upwards and backwards toward the nape of the neck lying 6.0 cm below the right ear and 3.0 cm below the left ear. No other neck trauma is present. Accompanying the body is a green electrical cord ligature which correlates with the ligature furrow of the neck. \\n\\n.LOCATIONHead\\n.INJURYBlunt injury.\\n.INJURYDESC.\\nOn the left anterior forehead is a 1.0 cm linear red abrasion,.')"
   ]
  },
  {
   "cell_type": "code",
   "execution_count": null,
   "metadata": {},
   "outputs": [],
   "source": []
  }
 ],
 "metadata": {
  "kernelspec": {
   "display_name": "Python 3",
   "language": "python",
   "name": "python3"
  },
  "language_info": {
   "codemirror_mode": {
    "name": "ipython",
    "version": 3
   },
   "file_extension": ".py",
   "mimetype": "text/x-python",
   "name": "python",
   "nbconvert_exporter": "python",
   "pygments_lexer": "ipython3",
   "version": "3.6.5"
  }
 },
 "nbformat": 4,
 "nbformat_minor": 2
}
