{
 "cells": [
  {
   "cell_type": "code",
   "execution_count": 1,
   "metadata": {},
   "outputs": [],
   "source": [
    "%reload_ext autoreload\n",
    "%autoreload 2\n",
    "%matplotlib inline"
   ]
  },
  {
   "cell_type": "code",
   "execution_count": 2,
   "metadata": {},
   "outputs": [],
   "source": [
    "from fastai.text import *\n",
    "from pathlib import Path\n",
    "import pandas as pd"
   ]
  },
  {
   "cell_type": "code",
   "execution_count": 3,
   "metadata": {},
   "outputs": [],
   "source": [
    "#path = Path('/home/ubuntu/data/autopsy/milestone/no_preprocessing')\n",
    "\n",
    "path = Path('/home/ubuntu/data/autopsy/2014_2018/no_preprocessing/reports/k-fold-suicide-homicide')\n"
   ]
  },
  {
   "cell_type": "code",
   "execution_count": 4,
   "metadata": {},
   "outputs": [
    {
     "data": {
      "text/html": [
       "<div>\n",
       "<style scoped>\n",
       "    .dataframe tbody tr th:only-of-type {\n",
       "        vertical-align: middle;\n",
       "    }\n",
       "\n",
       "    .dataframe tbody tr th {\n",
       "        vertical-align: top;\n",
       "    }\n",
       "\n",
       "    .dataframe thead th {\n",
       "        text-align: right;\n",
       "    }\n",
       "</style>\n",
       "<table border=\"1\" class=\"dataframe\">\n",
       "  <thead>\n",
       "    <tr style=\"text-align: right;\">\n",
       "      <th></th>\n",
       "      <th>label</th>\n",
       "      <th>text</th>\n",
       "      <th>is_valid</th>\n",
       "    </tr>\n",
       "  </thead>\n",
       "  <tbody>\n",
       "    <tr>\n",
       "      <th>0</th>\n",
       "      <td>Homicide</td>\n",
       "      <td>\\n.MICRO.\\nHEART: acute hemorrhages in the epi...</td>\n",
       "      <td>False</td>\n",
       "    </tr>\n",
       "    <tr>\n",
       "      <th>1</th>\n",
       "      <td>Suicide</td>\n",
       "      <td>\\n.MICRO.\\nNONE\\n.LOCATIONNeck\\n.INJURYHanging...</td>\n",
       "      <td>False</td>\n",
       "    </tr>\n",
       "    <tr>\n",
       "      <th>2</th>\n",
       "      <td>Homicide</td>\n",
       "      <td>\\n.MICRO.\\nLIVER: Moderate macrovesicular stea...</td>\n",
       "      <td>False</td>\n",
       "    </tr>\n",
       "    <tr>\n",
       "      <th>3</th>\n",
       "      <td>Homicide</td>\n",
       "      <td>\\n.MICRO.\\nHeart:\\nNo significant histopatholo...</td>\n",
       "      <td>False</td>\n",
       "    </tr>\n",
       "    <tr>\n",
       "      <th>4</th>\n",
       "      <td>Homicide</td>\n",
       "      <td>\\n.MICRO.\\nNONE\\n.LOCATIONTrunk\\n.INJURYFirear...</td>\n",
       "      <td>False</td>\n",
       "    </tr>\n",
       "  </tbody>\n",
       "</table>\n",
       "</div>"
      ],
      "text/plain": [
       "      label                                               text  is_valid\n",
       "0  Homicide  \\n.MICRO.\\nHEART: acute hemorrhages in the epi...     False\n",
       "1   Suicide  \\n.MICRO.\\nNONE\\n.LOCATIONNeck\\n.INJURYHanging...     False\n",
       "2  Homicide  \\n.MICRO.\\nLIVER: Moderate macrovesicular stea...     False\n",
       "3  Homicide  \\n.MICRO.\\nHeart:\\nNo significant histopatholo...     False\n",
       "4  Homicide  \\n.MICRO.\\nNONE\\n.LOCATIONTrunk\\n.INJURYFirear...     False"
      ]
     },
     "execution_count": 4,
     "metadata": {},
     "output_type": "execute_result"
    }
   ],
   "source": [
    "df = pd.read_csv(path/'data_suicide_homicide_k_1.csv')\n",
    "df.head()"
   ]
  },
  {
   "cell_type": "code",
   "execution_count": 5,
   "metadata": {},
   "outputs": [
    {
     "data": {
      "text/plain": [
       "'\\n.MICRO.\\nNONE\\n.LOCATIONNeck\\n.INJURYHanging.\\n.INJURYDESC.\\nPartially encircling the neck is a 0.75 cm brown abraded ligature furrow which anteriorly passes over the thyroid cartilage and cants upwards and backwards toward the nape of the neck lying 6.0 cm below the right ear and 3.0 cm below the left ear. No other neck trauma is present. Accompanying the body is a green electrical cord ligature which correlates with the ligature furrow of the neck. \\n\\n.LOCATIONHead\\n.INJURYBlunt injury.\\n.INJURYDESC.\\nOn the left anterior forehead is a 1.0 cm linear red abrasion,.'"
      ]
     },
     "execution_count": 5,
     "metadata": {},
     "output_type": "execute_result"
    }
   ],
   "source": [
    "df['text'][1]"
   ]
  },
  {
   "cell_type": "code",
   "execution_count": 6,
   "metadata": {},
   "outputs": [],
   "source": [
    "bs=32"
   ]
  },
  {
   "cell_type": "code",
   "execution_count": null,
   "metadata": {},
   "outputs": [],
   "source": [
    "\n"
   ]
  },
  {
   "cell_type": "code",
   "execution_count": 7,
   "metadata": {},
   "outputs": [],
   "source": [
    "data_lm = TextLMDataBunch.from_csv(path, 'data_suicide_homicide_k_1.csv')"
   ]
  },
  {
   "cell_type": "code",
   "execution_count": 8,
   "metadata": {},
   "outputs": [
    {
     "data": {
      "text/html": [
       "<table border=\"1\" class=\"dataframe\">\n",
       "  <thead>\n",
       "    <tr style=\"text-align: right;\">\n",
       "      <th>idx</th>\n",
       "      <th>text</th>\n",
       "    </tr>\n",
       "  </thead>\n",
       "  <tbody>\n",
       "    <tr>\n",
       "      <td>0</td>\n",
       "      <td>. xxmaj the furrow crosses the anterior midline above the thyroid cartilage at a point 25 cm below the top of the head . xxmaj it dips downward to a point 4 cm right of anterior midline and 27 cm below the top of the head before canting upward and around the right side of the neck . xxmaj it also cants upward around the left side of the neck</td>\n",
       "    </tr>\n",
       "    <tr>\n",
       "      <td>1</td>\n",
       "      <td>approximately 0.2 to 0.7 cm . xxmaj they travel from the decedentâs front to back . \\n \\n  .locationtrunk \\n  .injuryblunt injury . \\n  xxup .injurydesc . \\n  xxmaj on the superior aspect of the right chest is a 1.5 x 1 cm , green - brown contusion . xxmaj on the central portion of the upper back is a 19 x 17 cm area of</td>\n",
       "    </tr>\n",
       "    <tr>\n",
       "      <td>2</td>\n",
       "      <td>a 1 x 0.5 cm contusion involves the left chest . xxbos \\n  xxup .micro . \\n  xxup heart : xxmaj rare myocyte nuclear hypertrophy and hyperchromasia \\n \\n  xxup lung : xxmaj patchy congestion . xxmaj the right anterior lung shows diffuse acute hemorrhage consisting of predominantly of intraalveolar erythrocytes . \\n \\n  xxup liver : xxmaj moderate steatosis . \\n \\n  xxup pancreas</td>\n",
       "    </tr>\n",
       "    <tr>\n",
       "      <td>3</td>\n",
       "      <td>the anterior midline , is an 8.2 cm , vertically - oriented stab wound with a 0.3 cm wide blunt angle at the superior aspect and a sharp angle at the inferior aspect . xxmaj the inferior aspect is associated with a focal 0.5 x 0.1 cm red - yellow abrasion . \\n \\n  xxmaj path : xxmaj the wound travels through the skin and subcutaneous tissues of the</td>\n",
       "    </tr>\n",
       "    <tr>\n",
       "      <td>4</td>\n",
       "      <td>curvilinear laceration of the right parieto - occipital scalp \\n  -- 2 x 1.2 cm , ovoid abrasion with a central 1.2 cm laceration of the left xxunk scalp \\n  -- 1.3 cm , curvilinear laceration superior to the attachment of the left ear \\n  -- xxmaj two lacerations of the anterior surface of the left ear , 1.6 and 2.0 cm , with avulsion of the</td>\n",
       "    </tr>\n",
       "  </tbody>\n",
       "</table>"
      ],
      "text/plain": [
       "<IPython.core.display.HTML object>"
      ]
     },
     "metadata": {},
     "output_type": "display_data"
    }
   ],
   "source": [
    "data_lm.show_batch()"
   ]
  },
  {
   "cell_type": "code",
   "execution_count": 9,
   "metadata": {},
   "outputs": [],
   "source": [
    "learn = language_model_learner(data_lm, arch=AWD_LSTM)"
   ]
  },
  {
   "cell_type": "code",
   "execution_count": null,
   "metadata": {},
   "outputs": [],
   "source": [
    "learn.freeze()"
   ]
  },
  {
   "cell_type": "code",
   "execution_count": null,
   "metadata": {},
   "outputs": [],
   "source": [
    "#do some gradual unfreezing, so we don't lose the pretrained info\n",
    "learn.fit_one_cycle(2, 1e-2, moms=(0.8,0.7))"
   ]
  },
  {
   "cell_type": "code",
   "execution_count": null,
   "metadata": {},
   "outputs": [],
   "source": []
  },
  {
   "cell_type": "code",
   "execution_count": null,
   "metadata": {},
   "outputs": [],
   "source": [
    "learn.freeze_to(-2)\n",
    "learn.fit_one_cycle(1, slice(1e-2/(2.6**4),1e-2), moms=(0.8,0.7))"
   ]
  },
  {
   "cell_type": "code",
   "execution_count": null,
   "metadata": {},
   "outputs": [],
   "source": []
  },
  {
   "cell_type": "code",
   "execution_count": null,
   "metadata": {},
   "outputs": [],
   "source": [
    "learn.freeze_to(-3)\n",
    "learn.fit_one_cycle(1, slice(5e-3/(2.6**4),5e-3), moms=(0.8,0.7))"
   ]
  },
  {
   "cell_type": "code",
   "execution_count": null,
   "metadata": {},
   "outputs": [],
   "source": []
  },
  {
   "cell_type": "code",
   "execution_count": null,
   "metadata": {},
   "outputs": [],
   "source": [
    "learn.unfreeze()\n",
    "learn.fit_one_cycle(8, 1e-3, moms=(0.8,0.7))"
   ]
  },
  {
   "cell_type": "code",
   "execution_count": null,
   "metadata": {},
   "outputs": [],
   "source": []
  },
  {
   "cell_type": "code",
   "execution_count": 13,
   "metadata": {},
   "outputs": [],
   "source": [
    "learn.save_encoder('fine_tuned_enc_no_pretrain')"
   ]
  },
  {
   "cell_type": "code",
   "execution_count": null,
   "metadata": {},
   "outputs": [],
   "source": []
  },
  {
   "cell_type": "code",
   "execution_count": 14,
   "metadata": {},
   "outputs": [],
   "source": [
    "data_clas = TextClasDataBunch.from_csv(path, 'data_suicide_homicide_k_1.csv', vocab=data_lm.train_ds.vocab, bs=bs)"
   ]
  },
  {
   "cell_type": "code",
   "execution_count": 15,
   "metadata": {},
   "outputs": [
    {
     "data": {
      "text/html": [
       "<table border=\"1\" class=\"dataframe\">\n",
       "  <thead>\n",
       "    <tr style=\"text-align: right;\">\n",
       "      <th>text</th>\n",
       "      <th>target</th>\n",
       "    </tr>\n",
       "  </thead>\n",
       "  <tbody>\n",
       "    <tr>\n",
       "      <td>xxbos \\n  xxup .micro . \\n  xxmaj heart - no significant histopathology \\n \\n  xxmaj lungs - patchy extravasation of red blood cells into the intra - alveolar space \\n \\n  xxmaj kidneys - no significant histopathology \\n \\n  xxmaj liver - no significant histopathology \\n \\n  xxmaj hippocampus - no significant histopathology \\n \\n  xxmaj xxunk - vaginal , anal , and</td>\n",
       "      <td>Homicide</td>\n",
       "    </tr>\n",
       "    <tr>\n",
       "      <td>xxbos \\n  xxup .micro . \\n  xxmaj heart : xxmaj some of the cardiomyocyte nuclei are slightly enlarged . \\n \\n  xxmaj lungs : xxmaj partially atelectatic with rare intra - alveolar macrophages . \\n \\n  xxmaj liver : xxmaj mild lymphoplasmacytic inflammation confined to portal tracts . \\n \\n  xxmaj kidney : xxmaj partially autolyzed with no significant histopathologic abnormalities . \\n \\n</td>\n",
       "      <td>Homicide</td>\n",
       "    </tr>\n",
       "    <tr>\n",
       "      <td>xxbos \\n  xxup .micro . \\n  xxup brain : xxmaj scattered small ( petechial ) intraparenchymal and perivascular hemorrhages \\n \\n  xxup heart : xxmaj no significant histopathologic findings \\n \\n  xxup lungs : xxmaj blood in the bronchioles \\n \\n  xxup kidneys : xxmaj no significant histopathologic findings \\n \\n  xxup liver : xxmaj mild , predominantly macrovesicular steatosis \\n \\n \\n</td>\n",
       "      <td>Homicide</td>\n",
       "    </tr>\n",
       "    <tr>\n",
       "      <td>xxbos \\n  xxup .micro . \\n  xxup none \\n  .locationhead \\n  .injuryfirearm injury . \\n  xxup .injurydesc . \\n  xxup penetrating xxup gunshot xxup wound xxup of xxup head ( a ) \\n \\n  xxup entrance : xxmaj on the left side of the scalp , centered 4 centimeters below the top of the head and 6 centimeters left of the anterior midline</td>\n",
       "      <td>Homicide</td>\n",
       "    </tr>\n",
       "    <tr>\n",
       "      <td>xxbos \\n  xxup .micro . \\n  xxmaj brain : xxmaj non - organizing subarachnoid hemorrhage of the frontal cortex . xxmaj no significant histopathology of the hippocampus or cerebellum . \\n \\n  xxmaj heart : xxmaj no significant histopathology . \\n \\n  xxmaj lung : xxmaj mild emphysematous changes of the upper lobes ( septal clubbing , airspace widening ) ; scattered polarizable foreign material within</td>\n",
       "      <td>Homicide</td>\n",
       "    </tr>\n",
       "  </tbody>\n",
       "</table>"
      ],
      "text/plain": [
       "<IPython.core.display.HTML object>"
      ]
     },
     "metadata": {},
     "output_type": "display_data"
    }
   ],
   "source": [
    "data_clas.show_batch()"
   ]
  },
  {
   "cell_type": "code",
   "execution_count": 54,
   "metadata": {},
   "outputs": [],
   "source": [
    "learn = text_classifier_learner(data_clas, arch=AWD_LSTM, drop_mult=0.5)\n",
    "learn.load_encoder('fine_tuned_enc_no_pretrain')\n",
    "learn.freeze()"
   ]
  },
  {
   "cell_type": "code",
   "execution_count": null,
   "metadata": {},
   "outputs": [],
   "source": []
  },
  {
   "cell_type": "code",
   "execution_count": null,
   "metadata": {},
   "outputs": [],
   "source": []
  },
  {
   "cell_type": "code",
   "execution_count": 17,
   "metadata": {},
   "outputs": [
    {
     "data": {
      "text/html": [
       "Total time: 00:34 <p><table border=\"1\" class=\"dataframe\">\n",
       "  <thead>\n",
       "    <tr style=\"text-align: left;\">\n",
       "      <th>epoch</th>\n",
       "      <th>train_loss</th>\n",
       "      <th>valid_loss</th>\n",
       "      <th>accuracy</th>\n",
       "      <th>time</th>\n",
       "    </tr>\n",
       "  </thead>\n",
       "  <tbody>\n",
       "    <tr>\n",
       "      <td>1</td>\n",
       "      <td>0.497361</td>\n",
       "      <td>0.740553</td>\n",
       "      <td>0.623974</td>\n",
       "      <td>00:34</td>\n",
       "    </tr>\n",
       "  </tbody>\n",
       "</table>"
      ],
      "text/plain": [
       "<IPython.core.display.HTML object>"
      ]
     },
     "metadata": {},
     "output_type": "display_data"
    }
   ],
   "source": [
    "learn.fit_one_cycle(1, 2e-2, moms=(0.8,0.7))"
   ]
  },
  {
   "cell_type": "code",
   "execution_count": 19,
   "metadata": {},
   "outputs": [
    {
     "data": {
      "text/html": [
       "Total time: 00:40 <p><table border=\"1\" class=\"dataframe\">\n",
       "  <thead>\n",
       "    <tr style=\"text-align: left;\">\n",
       "      <th>epoch</th>\n",
       "      <th>train_loss</th>\n",
       "      <th>valid_loss</th>\n",
       "      <th>accuracy</th>\n",
       "      <th>time</th>\n",
       "    </tr>\n",
       "  </thead>\n",
       "  <tbody>\n",
       "    <tr>\n",
       "      <td>1</td>\n",
       "      <td>0.428092</td>\n",
       "      <td>0.458193</td>\n",
       "      <td>0.802956</td>\n",
       "      <td>00:40</td>\n",
       "    </tr>\n",
       "  </tbody>\n",
       "</table>"
      ],
      "text/plain": [
       "<IPython.core.display.HTML object>"
      ]
     },
     "metadata": {},
     "output_type": "display_data"
    }
   ],
   "source": [
    "learn.freeze_to(-2)\n",
    "learn.fit_one_cycle(1, slice(1e-2/(2.6**4),1e-2), moms=(0.8,0.7))"
   ]
  },
  {
   "cell_type": "code",
   "execution_count": 20,
   "metadata": {},
   "outputs": [
    {
     "data": {
      "text/html": [
       "Total time: 00:55 <p><table border=\"1\" class=\"dataframe\">\n",
       "  <thead>\n",
       "    <tr style=\"text-align: left;\">\n",
       "      <th>epoch</th>\n",
       "      <th>train_loss</th>\n",
       "      <th>valid_loss</th>\n",
       "      <th>accuracy</th>\n",
       "      <th>time</th>\n",
       "    </tr>\n",
       "  </thead>\n",
       "  <tbody>\n",
       "    <tr>\n",
       "      <td>1</td>\n",
       "      <td>0.393528</td>\n",
       "      <td>0.408407</td>\n",
       "      <td>0.819376</td>\n",
       "      <td>00:55</td>\n",
       "    </tr>\n",
       "  </tbody>\n",
       "</table>"
      ],
      "text/plain": [
       "<IPython.core.display.HTML object>"
      ]
     },
     "metadata": {},
     "output_type": "display_data"
    }
   ],
   "source": [
    "learn.freeze_to(-3)\n",
    "learn.fit_one_cycle(1, slice(5e-3/(2.6**4),5e-3), moms=(0.8,0.7))"
   ]
  },
  {
   "cell_type": "code",
   "execution_count": 21,
   "metadata": {},
   "outputs": [
    {
     "data": {
      "text/html": [
       "Total time: 02:12 <p><table border=\"1\" class=\"dataframe\">\n",
       "  <thead>\n",
       "    <tr style=\"text-align: left;\">\n",
       "      <th>epoch</th>\n",
       "      <th>train_loss</th>\n",
       "      <th>valid_loss</th>\n",
       "      <th>accuracy</th>\n",
       "      <th>time</th>\n",
       "    </tr>\n",
       "  </thead>\n",
       "  <tbody>\n",
       "    <tr>\n",
       "      <td>1</td>\n",
       "      <td>0.430387</td>\n",
       "      <td>0.344997</td>\n",
       "      <td>0.845649</td>\n",
       "      <td>01:04</td>\n",
       "    </tr>\n",
       "    <tr>\n",
       "      <td>2</td>\n",
       "      <td>0.382873</td>\n",
       "      <td>0.376847</td>\n",
       "      <td>0.840723</td>\n",
       "      <td>01:07</td>\n",
       "    </tr>\n",
       "  </tbody>\n",
       "</table>"
      ],
      "text/plain": [
       "<IPython.core.display.HTML object>"
      ]
     },
     "metadata": {},
     "output_type": "display_data"
    }
   ],
   "source": [
    "learn.unfreeze()\n",
    "learn.fit_one_cycle(20, slice(3e-4,3e-3), moms=(0.8,0.7))"
   ]
  },
  {
   "cell_type": "code",
   "execution_count": 23,
   "metadata": {},
   "outputs": [],
   "source": [
    "from fastai.vision import *"
   ]
  },
  {
   "cell_type": "code",
   "execution_count": 24,
   "metadata": {},
   "outputs": [
    {
     "data": {
      "image/png": "[encoded data removed]",
      "text/plain": [
       "<Figure size 480x480 with 1 Axes>"
      ]
     },
     "metadata": {},
     "output_type": "display_data"
    }
   ],
   "source": [
    "interp = ClassificationInterpretation.from_learner(learn)\n",
    "interp.plot_confusion_matrix(figsize=(4,4), dpi=120)"
   ]
  },
  {
   "cell_type": "code",
   "execution_count": 25,
   "metadata": {},
   "outputs": [
    {
     "data": {
      "image/png": "[encoded data removed]",
      "text/plain": [
       "<Figure size 432x288 with 1 Axes>"
      ]
     },
     "metadata": {},
     "output_type": "display_data"
    }
   ],
   "source": [
    "learn.recorder.plot_losses()"
   ]
  },
  {
   "cell_type": "code",
   "execution_count": 26,
   "metadata": {},
   "outputs": [
    {
     "data": {
      "image/png": "[encoded data removed]",
      "text/plain": [
       "<Figure size 432x288 with 1 Axes>"
      ]
     },
     "metadata": {},
     "output_type": "display_data"
    }
   ],
   "source": [
    "learn.recorder.plot_metrics()"
   ]
  },
  {
   "cell_type": "code",
   "execution_count": null,
   "metadata": {},
   "outputs": [],
   "source": []
  },
  {
   "cell_type": "code",
   "execution_count": 51,
   "metadata": {},
   "outputs": [],
   "source": [
    "\n",
    "def intrinsic_attention_modified(self, text:str, class_id:int=None):\n",
    "        \"\"\"Calculate the intrinsic attention of the input w.r.t to an output `class_id`, or the classification given by the model if `None`.\n",
    "        For reference, see the Sequential Jacobian session at https://www.cs.toronto.edu/~graves/preprint.pdf\n",
    "        \"\"\"\n",
    "        self.model.train()\n",
    "        eval_dropouts(self.model)\n",
    "        self.model.zero_grad()\n",
    "        self.model.reset()\n",
    "        ids = self.data.one_item(text)[0]\n",
    "        emb = self.model[0].module.encoder(ids).detach().requires_grad_(True)                \n",
    "        lstm_output = self.model[0].module(emb, from_embeddings=True)\n",
    "        self.model.eval()\n",
    "        cl = self.model[1](lstm_output)[0].softmax(dim=-1)\n",
    "        if class_id is None: class_id = cl.argmax()\n",
    "        cl[0][class_id].backward()\n",
    "        attn = emb.grad.squeeze().abs().sum(dim=-1)\n",
    "        attn /= attn.max() \n",
    "        tokens = self.data.single_ds.reconstruct(ids[0])\n",
    "        return tokens, attn\n",
    "\n",
    "def eval_dropouts(mod):\n",
    "        module_name =  mod.__class__.__name__\n",
    "        if 'Dropout' in module_name or 'BatchNorm' in module_name: mod.training = False\n",
    "        for module in mod.children(): eval_dropouts(module)\n",
    "\n",
    "TextClassificationInterpretation.intrinsic_attention = intrinsic_attention_modified\n",
    "ci = TextClassificationInterpretation.from_learner(learn)"
   ]
  },
  {
   "cell_type": "code",
   "execution_count": null,
   "metadata": {},
   "outputs": [],
   "source": []
  },
  {
   "cell_type": "code",
   "execution_count": 59,
   "metadata": {},
   "outputs": [],
   "source": [
    "example = df['text'][1]"
   ]
  },
  {
   "cell_type": "code",
   "execution_count": null,
   "metadata": {},
   "outputs": [],
   "source": []
  },
  {
   "cell_type": "code",
   "execution_count": 60,
   "metadata": {},
   "outputs": [
    {
     "data": {
      "text/html": [
       "<span style=\"font-family: monospace;\"><span title=\"0.136\" style=\"background-color: rgba(224, 68, 48, 0.5);\">xxbos</span> <span title=\"0.080\" style=\"background-color: rgba(204, 37, 38, 0.5);\">xxup</span> <span title=\"0.068\" style=\"background-color: rgba(198, 32, 38, 0.5);\">.micro</span> <span title=\"0.216\" style=\"background-color: rgba(245, 119, 71, 0.5);\">.</span> <span title=\"0.081\" style=\"background-color: rgba(204, 37, 38, 0.5);\">xxup</span> <span title=\"0.053\" style=\"background-color: rgba(190, 24, 38, 0.5);\">none</span> <span title=\"0.082\" style=\"background-color: rgba(206, 39, 38, 0.5);\">.locationneck</span> <span title=\"0.247\" style=\"background-color: rgba(248, 139, 81, 0.5);\">.injuryhanging</span> <span title=\"0.132\" style=\"background-color: rgba(223, 65, 47, 0.5);\">.</span> <span title=\"0.685\" style=\"background-color: rgba(173, 220, 110, 0.5);\">xxup</span> <span title=\"0.226\" style=\"background-color: rgba(246, 124, 74, 0.5);\">.injurydesc</span> <span title=\"0.982\" style=\"background-color: rgba(4, 111, 58, 0.5);\">.</span> <span title=\"0.201\" style=\"background-color: rgba(244, 109, 67, 0.5);\">xxmaj</span> <span title=\"0.078\" style=\"background-color: rgba(202, 35, 38, 0.5);\">partially</span> <span title=\"0.089\" style=\"background-color: rgba(208, 41, 38, 0.5);\">encircling</span> <span title=\"0.249\" style=\"background-color: rgba(248, 139, 81, 0.5);\">the</span> <span title=\"0.132\" style=\"background-color: rgba(223, 65, 47, 0.5);\">neck</span> <span title=\"0.153\" style=\"background-color: rgba(230, 80, 53, 0.5);\">is</span> <span title=\"0.174\" style=\"background-color: rgba(236, 92, 59, 0.5);\">a</span> <span title=\"1.000\" style=\"background-color: rgba(0, 104, 55, 0.5);\">0.75</span> <span title=\"0.729\" style=\"background-color: rgba(147, 208, 103, 0.5);\">cm</span> <span title=\"0.110\" style=\"background-color: rgba(217, 53, 41, 0.5);\">brown</span> <span title=\"0.270\" style=\"background-color: rgba(250, 154, 88, 0.5);\">abraded</span> <span title=\"0.176\" style=\"background-color: rgba(237, 94, 60, 0.5);\">ligature</span> <span title=\"0.145\" style=\"background-color: rgba(228, 75, 51, 0.5);\">furrow</span> <span title=\"0.670\" style=\"background-color: rgba(181, 223, 115, 0.5);\">which</span> <span title=\"0.243\" style=\"background-color: rgba(247, 137, 79, 0.5);\">anteriorly</span> <span title=\"0.434\" style=\"background-color: rgba(254, 234, 157, 0.5);\">passes</span> <span title=\"0.499\" style=\"background-color: rgba(254, 254, 189, 0.5);\">over</span> <span title=\"0.707\" style=\"background-color: rgba(162, 215, 105, 0.5);\">the</span> <span title=\"0.468\" style=\"background-color: rgba(254, 244, 173, 0.5);\">thyroid</span> <span title=\"0.208\" style=\"background-color: rgba(244, 114, 69, 0.5);\">cartilage</span> <span title=\"0.424\" style=\"background-color: rgba(254, 231, 151, 0.5);\">and</span> <span title=\"0.468\" style=\"background-color: rgba(254, 244, 173, 0.5);\">cants</span> <span title=\"0.312\" style=\"background-color: rgba(253, 178, 101, 0.5);\">upwards</span> <span title=\"0.166\" style=\"background-color: rgba(233, 87, 57, 0.5);\">and</span> <span title=\"0.751\" style=\"background-color: rgba(132, 202, 102, 0.5);\">backwards</span> <span title=\"0.247\" style=\"background-color: rgba(248, 139, 81, 0.5);\">toward</span> <span title=\"0.126\" style=\"background-color: rgba(222, 63, 46, 0.5);\">the</span> <span title=\"0.510\" style=\"background-color: rgba(251, 253, 185, 0.5);\">nape</span> <span title=\"0.517\" style=\"background-color: rgba(248, 252, 181, 0.5);\">of</span> <span title=\"0.155\" style=\"background-color: rgba(230, 80, 53, 0.5);\">the</span> <span title=\"0.309\" style=\"background-color: rgba(253, 178, 101, 0.5);\">neck</span> <span title=\"0.250\" style=\"background-color: rgba(248, 139, 81, 0.5);\">lying</span> <span title=\"0.179\" style=\"background-color: rgba(237, 94, 60, 0.5);\">6.0</span> <span title=\"0.442\" style=\"background-color: rgba(254, 237, 161, 0.5);\">cm</span> <span title=\"0.189\" style=\"background-color: rgba(240, 101, 63, 0.5);\">below</span> <span title=\"0.105\" style=\"background-color: rgba(215, 49, 39, 0.5);\">the</span> <span title=\"0.217\" style=\"background-color: rgba(245, 119, 71, 0.5);\">right</span> <span title=\"0.441\" style=\"background-color: rgba(254, 236, 159, 0.5);\">ear</span> <span title=\"0.275\" style=\"background-color: rgba(250, 157, 89, 0.5);\">and</span> <span title=\"0.181\" style=\"background-color: rgba(238, 97, 61, 0.5);\">3.0</span> <span title=\"0.178\" style=\"background-color: rgba(237, 94, 60, 0.5);\">cm</span> <span title=\"0.053\" style=\"background-color: rgba(190, 24, 38, 0.5);\">below</span> <span title=\"0.124\" style=\"background-color: rgba(221, 61, 45, 0.5);\">the</span> <span title=\"0.207\" style=\"background-color: rgba(244, 111, 68, 0.5);\">left</span> <span title=\"0.085\" style=\"background-color: rgba(206, 39, 38, 0.5);\">ear</span> <span title=\"0.166\" style=\"background-color: rgba(233, 87, 57, 0.5);\">.</span> <span title=\"0.084\" style=\"background-color: rgba(206, 39, 38, 0.5);\">xxmaj</span> <span title=\"0.116\" style=\"background-color: rgba(218, 56, 42, 0.5);\">no</span> <span title=\"0.058\" style=\"background-color: rgba(192, 26, 38, 0.5);\">other</span> <span title=\"0.098\" style=\"background-color: rgba(214, 47, 38, 0.5);\">neck</span> <span title=\"0.157\" style=\"background-color: rgba(231, 82, 54, 0.5);\">trauma</span> <span title=\"0.066\" style=\"background-color: rgba(196, 30, 38, 0.5);\">is</span> <span title=\"0.097\" style=\"background-color: rgba(212, 45, 38, 0.5);\">present</span> <span title=\"0.368\" style=\"background-color: rgba(253, 208, 125, 0.5);\">.</span> <span title=\"0.422\" style=\"background-color: rgba(254, 231, 151, 0.5);\">xxmaj</span> <span title=\"0.540\" style=\"background-color: rgba(239, 248, 169, 0.5);\">accompanying</span> <span title=\"0.454\" style=\"background-color: rgba(254, 241, 167, 0.5);\">the</span> <span title=\"0.091\" style=\"background-color: rgba(210, 43, 38, 0.5);\">body</span> <span title=\"0.113\" style=\"background-color: rgba(218, 56, 42, 0.5);\">is</span> <span title=\"0.090\" style=\"background-color: rgba(208, 41, 38, 0.5);\">a</span> <span title=\"0.147\" style=\"background-color: rgba(228, 75, 51, 0.5);\">green</span> <span title=\"0.837\" style=\"background-color: rgba(72, 174, 91, 0.5);\">electrical</span> <span title=\"0.129\" style=\"background-color: rgba(222, 63, 46, 0.5);\">cord</span> <span title=\"0.244\" style=\"background-color: rgba(247, 137, 79, 0.5);\">ligature</span> <span title=\"0.126\" style=\"background-color: rgba(222, 63, 46, 0.5);\">which</span> <span title=\"0.121\" style=\"background-color: rgba(220, 58, 43, 0.5);\">correlates</span> <span title=\"0.373\" style=\"background-color: rgba(253, 210, 127, 0.5);\">with</span> <span title=\"0.621\" style=\"background-color: rgba(205, 233, 131, 0.5);\">the</span> <span title=\"0.418\" style=\"background-color: rgba(254, 230, 149, 0.5);\">ligature</span> <span title=\"0.189\" style=\"background-color: rgba(240, 101, 63, 0.5);\">furrow</span> <span title=\"0.110\" style=\"background-color: rgba(217, 53, 41, 0.5);\">of</span> <span title=\"0.601\" style=\"background-color: rgba(217, 239, 139, 0.5);\">the</span> <span title=\"0.119\" style=\"background-color: rgba(220, 58, 43, 0.5);\">neck</span> <span title=\"0.058\" style=\"background-color: rgba(192, 26, 38, 0.5);\">.</span> <span title=\"0.189\" style=\"background-color: rgba(240, 101, 63, 0.5);\">.locationhead</span> <span title=\"0.112\" style=\"background-color: rgba(217, 53, 41, 0.5);\">.injuryblunt</span> <span title=\"0.057\" style=\"background-color: rgba(192, 26, 38, 0.5);\">injury</span> <span title=\"0.018\" style=\"background-color: rgba(172, 7, 38, 0.5);\">.</span> <span title=\"0.036\" style=\"background-color: rgba(182, 16, 38, 0.5);\">xxup</span> <span title=\"0.032\" style=\"background-color: rgba(180, 15, 38, 0.5);\">.injurydesc</span> <span title=\"0.076\" style=\"background-color: rgba(202, 35, 38, 0.5);\">.</span> <span title=\"0.444\" style=\"background-color: rgba(254, 237, 161, 0.5);\">xxmaj</span> <span title=\"0.113\" style=\"background-color: rgba(217, 53, 41, 0.5);\">on</span> <span title=\"0.417\" style=\"background-color: rgba(254, 228, 147, 0.5);\">the</span> <span title=\"0.073\" style=\"background-color: rgba(200, 33, 38, 0.5);\">left</span> <span title=\"0.048\" style=\"background-color: rgba(188, 22, 38, 0.5);\">anterior</span> <span title=\"0.024\" style=\"background-color: rgba(176, 11, 38, 0.5);\">forehead</span> <span title=\"0.035\" style=\"background-color: rgba(182, 16, 38, 0.5);\">is</span> <span title=\"0.124\" style=\"background-color: rgba(221, 61, 45, 0.5);\">a</span> <span title=\"0.078\" style=\"background-color: rgba(202, 35, 38, 0.5);\">1.0</span> <span title=\"0.106\" style=\"background-color: rgba(216, 51, 40, 0.5);\">cm</span> <span title=\"0.069\" style=\"background-color: rgba(198, 32, 38, 0.5);\">linear</span> <span title=\"0.176\" style=\"background-color: rgba(237, 94, 60, 0.5);\">red</span> <span title=\"0.084\" style=\"background-color: rgba(206, 39, 38, 0.5);\">abrasion</span> <span title=\"0.171\" style=\"background-color: rgba(234, 89, 58, 0.5);\">,</span> <span title=\"0.282\" style=\"background-color: rgba(251, 162, 91, 0.5);\">.</span></span>"
      ],
      "text/plain": [
       "<IPython.core.display.HTML object>"
      ]
     },
     "metadata": {},
     "output_type": "display_data"
    }
   ],
   "source": [
    "ci.show_intrinsic_attention(example)"
   ]
  },
  {
   "cell_type": "code",
   "execution_count": 61,
   "metadata": {},
   "outputs": [
    {
     "data": {
      "text/plain": [
       "(<fastai.core.Category at 0x7f9bd0b0be48>, tensor(1), tensor([0.3192, 0.6808]))"
      ]
     },
     "execution_count": 61,
     "metadata": {},
     "output_type": "execute_result"
    }
   ],
   "source": [
    "learn.predict(example)"
   ]
  },
  {
   "cell_type": "code",
   "execution_count": null,
   "metadata": {},
   "outputs": [],
   "source": []
  }
 ],
 "metadata": {
  "kernelspec": {
   "display_name": "Python 3",
   "language": "python",
   "name": "python3"
  },
  "language_info": {
   "codemirror_mode": {
    "name": "ipython",
    "version": 3
   },
   "file_extension": ".py",
   "mimetype": "text/x-python",
   "name": "python",
   "nbconvert_exporter": "python",
   "pygments_lexer": "ipython3",
   "version": "3.6.5"
  }
 },
 "nbformat": 4,
 "nbformat_minor": 2
}
