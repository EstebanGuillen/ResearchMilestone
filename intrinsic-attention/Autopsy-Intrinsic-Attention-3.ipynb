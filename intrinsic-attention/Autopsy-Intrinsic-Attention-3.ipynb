{
 "cells": [
  {
   "cell_type": "code",
   "execution_count": 1,
   "metadata": {},
   "outputs": [],
   "source": [
    "%reload_ext autoreload\n",
    "%autoreload 2\n",
    "%matplotlib inline"
   ]
  },
  {
   "cell_type": "code",
   "execution_count": 2,
   "metadata": {},
   "outputs": [],
   "source": [
    "from fastai.text import *\n",
    "from pathlib import Path\n",
    "import pandas as pd"
   ]
  },
  {
   "cell_type": "code",
   "execution_count": 3,
   "metadata": {},
   "outputs": [],
   "source": [
    "#path = Path('/home/ubuntu/data/autopsy/milestone/no_preprocessing')\n",
    "\n",
    "path = Path('/home/ubuntu/data/autopsy/2014_2018/no_preprocessing/reports/k-fold-suicide-homicide-accident-natural')\n"
   ]
  },
  {
   "cell_type": "code",
   "execution_count": 4,
   "metadata": {},
   "outputs": [
    {
     "data": {
      "text/html": [
       "<div>\n",
       "<style scoped>\n",
       "    .dataframe tbody tr th:only-of-type {\n",
       "        vertical-align: middle;\n",
       "    }\n",
       "\n",
       "    .dataframe tbody tr th {\n",
       "        vertical-align: top;\n",
       "    }\n",
       "\n",
       "    .dataframe thead th {\n",
       "        text-align: right;\n",
       "    }\n",
       "</style>\n",
       "<table border=\"1\" class=\"dataframe\">\n",
       "  <thead>\n",
       "    <tr style=\"text-align: right;\">\n",
       "      <th></th>\n",
       "      <th>label</th>\n",
       "      <th>text</th>\n",
       "      <th>is_valid</th>\n",
       "    </tr>\n",
       "  </thead>\n",
       "  <tbody>\n",
       "    <tr>\n",
       "      <th>0</th>\n",
       "      <td>Accident</td>\n",
       "      <td>\\n.MICRO.\\nHEART: Scattered myofibers are enla...</td>\n",
       "      <td>False</td>\n",
       "    </tr>\n",
       "    <tr>\n",
       "      <th>1</th>\n",
       "      <td>Accident</td>\n",
       "      <td>\\n.MICRO.\\nHeart: negative\\n\\nLungs: mild emph...</td>\n",
       "      <td>False</td>\n",
       "    </tr>\n",
       "    <tr>\n",
       "      <th>2</th>\n",
       "      <td>Accident</td>\n",
       "      <td>\\n.MICRO.\\nNONE\\n.LOCATIONHead\\n.INJURYBlunt i...</td>\n",
       "      <td>False</td>\n",
       "    </tr>\n",
       "    <tr>\n",
       "      <th>3</th>\n",
       "      <td>Accident</td>\n",
       "      <td>\\n.MICRO.\\nBrain: No significant histopatholog...</td>\n",
       "      <td>False</td>\n",
       "    </tr>\n",
       "    <tr>\n",
       "      <th>4</th>\n",
       "      <td>Accident</td>\n",
       "      <td>\\n.MICRO.\\nLIVER:  Cirrhosis present, characte...</td>\n",
       "      <td>False</td>\n",
       "    </tr>\n",
       "  </tbody>\n",
       "</table>\n",
       "</div>"
      ],
      "text/plain": [
       "      label                                               text  is_valid\n",
       "0  Accident  \\n.MICRO.\\nHEART: Scattered myofibers are enla...     False\n",
       "1  Accident  \\n.MICRO.\\nHeart: negative\\n\\nLungs: mild emph...     False\n",
       "2  Accident  \\n.MICRO.\\nNONE\\n.LOCATIONHead\\n.INJURYBlunt i...     False\n",
       "3  Accident  \\n.MICRO.\\nBrain: No significant histopatholog...     False\n",
       "4  Accident  \\n.MICRO.\\nLIVER:  Cirrhosis present, characte...     False"
      ]
     },
     "execution_count": 4,
     "metadata": {},
     "output_type": "execute_result"
    }
   ],
   "source": [
    "df = pd.read_csv(path/'data_suicide_homicide_accident_natural_k_1.csv')\n",
    "df.head()"
   ]
  },
  {
   "cell_type": "code",
   "execution_count": 5,
   "metadata": {},
   "outputs": [
    {
     "data": {
      "text/plain": [
       "'\\n.MICRO.\\nHeart: negative\\n\\nLungs: mild emphysema; autolysis\\n\\nLiver: fatty change; autolysis\\n\\nKidney: autolysis\\n\\nThyroid: negative\\n\\nEsophagus: autolysis\\n.LOCATIONExtremity\\n.INJURYBlunt injury.\\n.INJURYDESC.\\nThere is an 8 x 4 cm area of discontinuous abrasions overlying the left knee.\\n\\n.LOCATIONBack\\n.INJURYBlunt injury.\\n.INJURYDESC.\\nThere is a 4 x 2 cm irregular pressure abrasion overlying the lumbar spine.\\n\\nThere is a 3 x 1.5 cm pressure abrasion on the lower left buttock.'"
      ]
     },
     "execution_count": 5,
     "metadata": {},
     "output_type": "execute_result"
    }
   ],
   "source": [
    "df['text'][1]"
   ]
  },
  {
   "cell_type": "code",
   "execution_count": 6,
   "metadata": {},
   "outputs": [],
   "source": [
    "bs=32"
   ]
  },
  {
   "cell_type": "code",
   "execution_count": 7,
   "metadata": {},
   "outputs": [],
   "source": [
    "\n",
    "classes = ['Suicide','Homicide','Accident','Natural']"
   ]
  },
  {
   "cell_type": "code",
   "execution_count": 8,
   "metadata": {},
   "outputs": [],
   "source": [
    "valid_df =  df.loc[df['is_valid']==True]"
   ]
  },
  {
   "cell_type": "code",
   "execution_count": 9,
   "metadata": {},
   "outputs": [],
   "source": [
    "train_df = df.loc[df['is_valid']==False]"
   ]
  },
  {
   "cell_type": "code",
   "execution_count": 10,
   "metadata": {},
   "outputs": [],
   "source": [
    "data_lm = TextLMDataBunch.from_df(path, train_df=train_df, valid_df=valid_df, classes=classes,bs=bs)"
   ]
  },
  {
   "cell_type": "code",
   "execution_count": 11,
   "metadata": {},
   "outputs": [
    {
     "data": {
      "text/html": [
       "<table border=\"1\" class=\"dataframe\">\n",
       "  <thead>\n",
       "    <tr style=\"text-align: right;\">\n",
       "      <th>idx</th>\n",
       "      <th>text</th>\n",
       "    </tr>\n",
       "  </thead>\n",
       "  <tbody>\n",
       "    <tr>\n",
       "      <td>0</td>\n",
       "      <td>within the interstitium , predominantly around the airways . \\n \\n  xxup liver : xxmaj rare microaggregates of mixed inflammatory cells ( lymphocytes , histiocytes , neutrophils ) are within the lobules . \\n \\n  xxup kidney : xxmaj evaluation is limited by partial autolysis ; there are no significant , histopathologic abnormalities . \\n  .locationextremities \\n  .injuryblunt injury . \\n  xxup .injurydesc . \\n</td>\n",
       "    </tr>\n",
       "    <tr>\n",
       "      <td>1</td>\n",
       "      <td>with the follicular xxunk of papillary carcinoma . \\n  .locationhead \\n  .injuryblunt injury . \\n  xxup .injurydesc . \\n  a 3.1 x 0.5 cm red , dried abrasion is under the right chin . \\n \\n  .locationextremity \\n  .injuryillicit substance use . \\n  xxup .injurydesc . \\n  a 0.1 cm , fresh injection site is within the right antecubital fossa . \\n</td>\n",
       "    </tr>\n",
       "    <tr>\n",
       "      <td>2</td>\n",
       "      <td>to 3.2 cm . xxmaj the right preauricular region contains a 5.0 cm red abrasion . xxmaj the right nostril contains two 0.5 cm red abrasions . xxmaj the lips are diffusely abraded and contused . xxmaj the top of the nose contains a 2.0 cm red abrasion . xxmaj the left maxillary region contains a 3.0 red abraded contusion . xxmaj the left lower eyelid contains a 5.0 cm</td>\n",
       "    </tr>\n",
       "    <tr>\n",
       "      <td>3</td>\n",
       "      <td>giant cell granulomas of portal regions \\n \\n  xxmaj kidney : mild arteriolonephrosclerosis \\n \\n  xxmaj brain : negative \\n  .locationchest \\n  .injuryblunt injury . \\n  xxup .injurydesc . \\n  xxmaj resuscitation injuries : \\n \\n  xxmaj rib fractures , anterolateral : 3,5 left , 4 - 6 right \\n  xxmaj small laceration of proximal superior vena cava with associated anterior mediastinal</td>\n",
       "    </tr>\n",
       "    <tr>\n",
       "      <td>4</td>\n",
       "      <td>: \\n \\n  xxmaj the parenchyma has a moderate degree of diffuse steatosis . xxmaj scattered portal tracts and lobules have a mild lymphoplasmacytic infiltrate with rare neutrophils . \\n \\n  xxup kidney : \\n \\n  xxmaj no significant histopathologic abnormalities . \\n  .locationtrunk \\n  .injuryblunt injury . \\n  xxup .injurydesc . \\n  a 1 x 0.5 cm red - brown crusted ovoid</td>\n",
       "    </tr>\n",
       "  </tbody>\n",
       "</table>"
      ],
      "text/plain": [
       "<IPython.core.display.HTML object>"
      ]
     },
     "metadata": {},
     "output_type": "display_data"
    }
   ],
   "source": [
    "data_lm.show_batch()"
   ]
  },
  {
   "cell_type": "code",
   "execution_count": 12,
   "metadata": {},
   "outputs": [],
   "source": [
    "learn = language_model_learner(data_lm, arch=AWD_LSTM)"
   ]
  },
  {
   "cell_type": "code",
   "execution_count": 13,
   "metadata": {},
   "outputs": [],
   "source": [
    "learn.freeze()"
   ]
  },
  {
   "cell_type": "code",
   "execution_count": 14,
   "metadata": {},
   "outputs": [
    {
     "data": {
      "text/html": [
       "Total time: 02:24 <p><table border=\"1\" class=\"dataframe\">\n",
       "  <thead>\n",
       "    <tr style=\"text-align: left;\">\n",
       "      <th>epoch</th>\n",
       "      <th>train_loss</th>\n",
       "      <th>valid_loss</th>\n",
       "      <th>accuracy</th>\n",
       "      <th>time</th>\n",
       "    </tr>\n",
       "  </thead>\n",
       "  <tbody>\n",
       "    <tr>\n",
       "      <td>1</td>\n",
       "      <td>2.437959</td>\n",
       "      <td>2.096444</td>\n",
       "      <td>0.536422</td>\n",
       "      <td>01:12</td>\n",
       "    </tr>\n",
       "    <tr>\n",
       "      <td>2</td>\n",
       "      <td>2.338436</td>\n",
       "      <td>1.979499</td>\n",
       "      <td>0.554260</td>\n",
       "      <td>01:12</td>\n",
       "    </tr>\n",
       "  </tbody>\n",
       "</table>"
      ],
      "text/plain": [
       "<IPython.core.display.HTML object>"
      ]
     },
     "metadata": {},
     "output_type": "display_data"
    }
   ],
   "source": [
    "#do some gradual unfreezing, so we don't lose the pretrained info\n",
    "learn.fit_one_cycle(2, 1e-2, moms=(0.8,0.7))"
   ]
  },
  {
   "cell_type": "code",
   "execution_count": null,
   "metadata": {},
   "outputs": [],
   "source": []
  },
  {
   "cell_type": "code",
   "execution_count": 15,
   "metadata": {},
   "outputs": [
    {
     "data": {
      "text/html": [
       "Total time: 01:14 <p><table border=\"1\" class=\"dataframe\">\n",
       "  <thead>\n",
       "    <tr style=\"text-align: left;\">\n",
       "      <th>epoch</th>\n",
       "      <th>train_loss</th>\n",
       "      <th>valid_loss</th>\n",
       "      <th>accuracy</th>\n",
       "      <th>time</th>\n",
       "    </tr>\n",
       "  </thead>\n",
       "  <tbody>\n",
       "    <tr>\n",
       "      <td>1</td>\n",
       "      <td>1.997764</td>\n",
       "      <td>1.800887</td>\n",
       "      <td>0.582271</td>\n",
       "      <td>01:14</td>\n",
       "    </tr>\n",
       "  </tbody>\n",
       "</table>"
      ],
      "text/plain": [
       "<IPython.core.display.HTML object>"
      ]
     },
     "metadata": {},
     "output_type": "display_data"
    }
   ],
   "source": [
    "learn.freeze_to(-2)\n",
    "learn.fit_one_cycle(1, slice(1e-2/(2.6**4),1e-2), moms=(0.8,0.7))"
   ]
  },
  {
   "cell_type": "code",
   "execution_count": null,
   "metadata": {},
   "outputs": [],
   "source": []
  },
  {
   "cell_type": "code",
   "execution_count": 16,
   "metadata": {},
   "outputs": [
    {
     "data": {
      "text/html": [
       "Total time: 01:18 <p><table border=\"1\" class=\"dataframe\">\n",
       "  <thead>\n",
       "    <tr style=\"text-align: left;\">\n",
       "      <th>epoch</th>\n",
       "      <th>train_loss</th>\n",
       "      <th>valid_loss</th>\n",
       "      <th>accuracy</th>\n",
       "      <th>time</th>\n",
       "    </tr>\n",
       "  </thead>\n",
       "  <tbody>\n",
       "    <tr>\n",
       "      <td>1</td>\n",
       "      <td>1.867756</td>\n",
       "      <td>1.712542</td>\n",
       "      <td>0.598034</td>\n",
       "      <td>01:18</td>\n",
       "    </tr>\n",
       "  </tbody>\n",
       "</table>"
      ],
      "text/plain": [
       "<IPython.core.display.HTML object>"
      ]
     },
     "metadata": {},
     "output_type": "display_data"
    }
   ],
   "source": [
    "learn.freeze_to(-3)\n",
    "learn.fit_one_cycle(1, slice(5e-3/(2.6**4),5e-3), moms=(0.8,0.7))"
   ]
  },
  {
   "cell_type": "code",
   "execution_count": null,
   "metadata": {},
   "outputs": [],
   "source": []
  },
  {
   "cell_type": "code",
   "execution_count": 17,
   "metadata": {},
   "outputs": [
    {
     "data": {
      "text/html": [
       "Total time: 11:14 <p><table border=\"1\" class=\"dataframe\">\n",
       "  <thead>\n",
       "    <tr style=\"text-align: left;\">\n",
       "      <th>epoch</th>\n",
       "      <th>train_loss</th>\n",
       "      <th>valid_loss</th>\n",
       "      <th>accuracy</th>\n",
       "      <th>time</th>\n",
       "    </tr>\n",
       "  </thead>\n",
       "  <tbody>\n",
       "    <tr>\n",
       "      <td>1</td>\n",
       "      <td>1.825038</td>\n",
       "      <td>1.685008</td>\n",
       "      <td>0.603211</td>\n",
       "      <td>01:24</td>\n",
       "    </tr>\n",
       "    <tr>\n",
       "      <td>2</td>\n",
       "      <td>1.719084</td>\n",
       "      <td>1.635645</td>\n",
       "      <td>0.612602</td>\n",
       "      <td>01:24</td>\n",
       "    </tr>\n",
       "    <tr>\n",
       "      <td>3</td>\n",
       "      <td>1.668741</td>\n",
       "      <td>1.582179</td>\n",
       "      <td>0.622237</td>\n",
       "      <td>01:24</td>\n",
       "    </tr>\n",
       "    <tr>\n",
       "      <td>4</td>\n",
       "      <td>1.536738</td>\n",
       "      <td>1.543075</td>\n",
       "      <td>0.630185</td>\n",
       "      <td>01:24</td>\n",
       "    </tr>\n",
       "    <tr>\n",
       "      <td>5</td>\n",
       "      <td>1.548387</td>\n",
       "      <td>1.512631</td>\n",
       "      <td>0.637338</td>\n",
       "      <td>01:24</td>\n",
       "    </tr>\n",
       "    <tr>\n",
       "      <td>6</td>\n",
       "      <td>1.454001</td>\n",
       "      <td>1.494126</td>\n",
       "      <td>0.641896</td>\n",
       "      <td>01:24</td>\n",
       "    </tr>\n",
       "    <tr>\n",
       "      <td>7</td>\n",
       "      <td>1.470712</td>\n",
       "      <td>1.484959</td>\n",
       "      <td>0.643523</td>\n",
       "      <td>01:24</td>\n",
       "    </tr>\n",
       "    <tr>\n",
       "      <td>8</td>\n",
       "      <td>1.410028</td>\n",
       "      <td>1.484465</td>\n",
       "      <td>0.643849</td>\n",
       "      <td>01:24</td>\n",
       "    </tr>\n",
       "  </tbody>\n",
       "</table>"
      ],
      "text/plain": [
       "<IPython.core.display.HTML object>"
      ]
     },
     "metadata": {},
     "output_type": "display_data"
    }
   ],
   "source": [
    "learn.unfreeze()\n",
    "learn.fit_one_cycle(8, 1e-3, moms=(0.8,0.7))"
   ]
  },
  {
   "cell_type": "code",
   "execution_count": null,
   "metadata": {},
   "outputs": [],
   "source": []
  },
  {
   "cell_type": "code",
   "execution_count": 18,
   "metadata": {},
   "outputs": [],
   "source": [
    "learn.save_encoder('fine_tuned_enc_no_pretrain2')"
   ]
  },
  {
   "cell_type": "code",
   "execution_count": null,
   "metadata": {},
   "outputs": [],
   "source": [
    " "
   ]
  },
  {
   "cell_type": "code",
   "execution_count": 19,
   "metadata": {},
   "outputs": [],
   "source": [
    "data_clas = TextClasDataBunch.from_df(path, train_df=train_df, valid_df=valid_df, vocab=data_lm.train_ds.vocab, bs=bs, classes=classes)"
   ]
  },
  {
   "cell_type": "code",
   "execution_count": 20,
   "metadata": {},
   "outputs": [
    {
     "data": {
      "text/html": [
       "<table border=\"1\" class=\"dataframe\">\n",
       "  <thead>\n",
       "    <tr style=\"text-align: right;\">\n",
       "      <th>text</th>\n",
       "      <th>target</th>\n",
       "    </tr>\n",
       "  </thead>\n",
       "  <tbody>\n",
       "    <tr>\n",
       "      <td>xxbos \\n  xxup .micro . \\n  xxup heart : xxmaj myocyte hypertrophy , interstitial fibrosis \\n \\n  xxup lungs : xxmaj peripherally dilated alveolar spaces with septal clubbing alternating with areas of atelectasis ; mild deposition of black pigment around bronchioles and pleura \\n \\n  xxup kidneys : xxmaj frequent , globally sclerotic glomeruli ; patchy interstitial fibrosis ; patchy interstitial lymphocytic inflammation \\n \\n</td>\n",
       "      <td>Homicide</td>\n",
       "    </tr>\n",
       "    <tr>\n",
       "      <td>xxbos \\n  xxup .micro . \\n  xxup brain : xxmaj no significant , histopathologic findings \\n \\n  xxup heart : xxmaj no significant , histopathologic findings \\n \\n  xxup lungs : xxmaj no significant , histopathologic findings \\n \\n  xxup kidneys : xxmaj no significant , histopathologic findings \\n \\n  xxup liver : xxmaj no significant , histopathologic findings \\n \\n \\n  .locationextremity</td>\n",
       "      <td>Homicide</td>\n",
       "    </tr>\n",
       "    <tr>\n",
       "      <td>xxbos \\n  xxup .micro . \\n  xxup heart : no significant histopathologic diagnosis \\n \\n  xxup lungs : patchy intra - alveolar fluid ; rare , variably polarizable material in large airways and in interstitial , vascular spaces often with a maltese - cross appearance and lack of significant inflammation ; mild , patchy interstitial and pleural chronic inflammation \\n \\n  xxup liver : mild ,</td>\n",
       "      <td>Homicide</td>\n",
       "    </tr>\n",
       "    <tr>\n",
       "      <td>xxbos \\n  xxup .micro . \\n  xxup none \\n  .locationhead \\n  .injuryblunt injury . \\n  xxup .injurydesc . \\n  1 . xxup chop xxup wound xxup of xxup the xxup left xxup frontal xxup scalp ( xxup wound a ) \\n \\n  xxmaj on the anterolateral inferior left frontal scalp , 6 cm below the top of the head and 6 cm left</td>\n",
       "      <td>Homicide</td>\n",
       "    </tr>\n",
       "    <tr>\n",
       "      <td>xxbos \\n  xxup .micro . \\n  xxup left xxup circumflex xxup coronary xxup artery - a partially xxunk thrombus is present within the lumen . xxmaj away from the thrombus there is focal atherosclerotic narrowing of the lumen estimated to be greater than 95 % . \\n \\n  xxup lungs - xxmaj partially collapsed lung parenchyma with intra - alveolar blood and edema fluid . xxmaj there</td>\n",
       "      <td>Suicide</td>\n",
       "    </tr>\n",
       "  </tbody>\n",
       "</table>"
      ],
      "text/plain": [
       "<IPython.core.display.HTML object>"
      ]
     },
     "metadata": {},
     "output_type": "display_data"
    }
   ],
   "source": [
    "data_clas.show_batch()"
   ]
  },
  {
   "cell_type": "code",
   "execution_count": 21,
   "metadata": {},
   "outputs": [],
   "source": [
    "learn = text_classifier_learner(data_clas, arch=AWD_LSTM, drop_mult=0.8)\n",
    "learn.load_encoder('fine_tuned_enc_no_pretrain2')\n",
    "learn.freeze()"
   ]
  },
  {
   "cell_type": "code",
   "execution_count": null,
   "metadata": {},
   "outputs": [],
   "source": []
  },
  {
   "cell_type": "code",
   "execution_count": null,
   "metadata": {},
   "outputs": [],
   "source": []
  },
  {
   "cell_type": "code",
   "execution_count": 22,
   "metadata": {},
   "outputs": [
    {
     "data": {
      "text/html": [
       "Total time: 01:09 <p><table border=\"1\" class=\"dataframe\">\n",
       "  <thead>\n",
       "    <tr style=\"text-align: left;\">\n",
       "      <th>epoch</th>\n",
       "      <th>train_loss</th>\n",
       "      <th>valid_loss</th>\n",
       "      <th>accuracy</th>\n",
       "      <th>time</th>\n",
       "    </tr>\n",
       "  </thead>\n",
       "  <tbody>\n",
       "    <tr>\n",
       "      <td>1</td>\n",
       "      <td>0.887213</td>\n",
       "      <td>0.948806</td>\n",
       "      <td>0.645177</td>\n",
       "      <td>01:09</td>\n",
       "    </tr>\n",
       "  </tbody>\n",
       "</table>"
      ],
      "text/plain": [
       "<IPython.core.display.HTML object>"
      ]
     },
     "metadata": {},
     "output_type": "display_data"
    }
   ],
   "source": [
    "learn.fit_one_cycle(1, 2e-2, moms=(0.8,0.7))"
   ]
  },
  {
   "cell_type": "code",
   "execution_count": 23,
   "metadata": {},
   "outputs": [
    {
     "data": {
      "text/html": [
       "Total time: 01:27 <p><table border=\"1\" class=\"dataframe\">\n",
       "  <thead>\n",
       "    <tr style=\"text-align: left;\">\n",
       "      <th>epoch</th>\n",
       "      <th>train_loss</th>\n",
       "      <th>valid_loss</th>\n",
       "      <th>accuracy</th>\n",
       "      <th>time</th>\n",
       "    </tr>\n",
       "  </thead>\n",
       "  <tbody>\n",
       "    <tr>\n",
       "      <td>1</td>\n",
       "      <td>0.801940</td>\n",
       "      <td>0.889386</td>\n",
       "      <td>0.670383</td>\n",
       "      <td>01:27</td>\n",
       "    </tr>\n",
       "  </tbody>\n",
       "</table>"
      ],
      "text/plain": [
       "<IPython.core.display.HTML object>"
      ]
     },
     "metadata": {},
     "output_type": "display_data"
    }
   ],
   "source": [
    "learn.freeze_to(-2)\n",
    "learn.fit_one_cycle(1, slice(1e-2/(2.6**4),1e-2), moms=(0.8,0.7))"
   ]
  },
  {
   "cell_type": "code",
   "execution_count": 24,
   "metadata": {},
   "outputs": [
    {
     "data": {
      "text/html": [
       "Total time: 02:04 <p><table border=\"1\" class=\"dataframe\">\n",
       "  <thead>\n",
       "    <tr style=\"text-align: left;\">\n",
       "      <th>epoch</th>\n",
       "      <th>train_loss</th>\n",
       "      <th>valid_loss</th>\n",
       "      <th>accuracy</th>\n",
       "      <th>time</th>\n",
       "    </tr>\n",
       "  </thead>\n",
       "  <tbody>\n",
       "    <tr>\n",
       "      <td>1</td>\n",
       "      <td>0.731942</td>\n",
       "      <td>0.851005</td>\n",
       "      <td>0.684440</td>\n",
       "      <td>02:04</td>\n",
       "    </tr>\n",
       "  </tbody>\n",
       "</table>"
      ],
      "text/plain": [
       "<IPython.core.display.HTML object>"
      ]
     },
     "metadata": {},
     "output_type": "display_data"
    }
   ],
   "source": [
    "learn.freeze_to(-3)\n",
    "learn.fit_one_cycle(1, slice(5e-3/(2.6**4),5e-3), moms=(0.8,0.7))"
   ]
  },
  {
   "cell_type": "code",
   "execution_count": 25,
   "metadata": {},
   "outputs": [
    {
     "data": {
      "text/html": [
       "Total time: 45:13 <p><table border=\"1\" class=\"dataframe\">\n",
       "  <thead>\n",
       "    <tr style=\"text-align: left;\">\n",
       "      <th>epoch</th>\n",
       "      <th>train_loss</th>\n",
       "      <th>valid_loss</th>\n",
       "      <th>accuracy</th>\n",
       "      <th>time</th>\n",
       "    </tr>\n",
       "  </thead>\n",
       "  <tbody>\n",
       "    <tr>\n",
       "      <td>1</td>\n",
       "      <td>0.723508</td>\n",
       "      <td>0.876113</td>\n",
       "      <td>0.681047</td>\n",
       "      <td>02:21</td>\n",
       "    </tr>\n",
       "    <tr>\n",
       "      <td>2</td>\n",
       "      <td>0.716110</td>\n",
       "      <td>0.848219</td>\n",
       "      <td>0.680078</td>\n",
       "      <td>02:06</td>\n",
       "    </tr>\n",
       "    <tr>\n",
       "      <td>3</td>\n",
       "      <td>0.716712</td>\n",
       "      <td>0.768116</td>\n",
       "      <td>0.697528</td>\n",
       "      <td>02:09</td>\n",
       "    </tr>\n",
       "    <tr>\n",
       "      <td>4</td>\n",
       "      <td>0.713254</td>\n",
       "      <td>0.805197</td>\n",
       "      <td>0.691226</td>\n",
       "      <td>02:15</td>\n",
       "    </tr>\n",
       "    <tr>\n",
       "      <td>5</td>\n",
       "      <td>0.690591</td>\n",
       "      <td>0.828763</td>\n",
       "      <td>0.676200</td>\n",
       "      <td>02:18</td>\n",
       "    </tr>\n",
       "    <tr>\n",
       "      <td>6</td>\n",
       "      <td>0.721464</td>\n",
       "      <td>0.903891</td>\n",
       "      <td>0.696558</td>\n",
       "      <td>02:10</td>\n",
       "    </tr>\n",
       "    <tr>\n",
       "      <td>7</td>\n",
       "      <td>0.712360</td>\n",
       "      <td>0.776145</td>\n",
       "      <td>0.705768</td>\n",
       "      <td>02:16</td>\n",
       "    </tr>\n",
       "    <tr>\n",
       "      <td>8</td>\n",
       "      <td>0.694478</td>\n",
       "      <td>0.693945</td>\n",
       "      <td>0.698982</td>\n",
       "      <td>02:16</td>\n",
       "    </tr>\n",
       "    <tr>\n",
       "      <td>9</td>\n",
       "      <td>0.681129</td>\n",
       "      <td>0.722996</td>\n",
       "      <td>0.698982</td>\n",
       "      <td>02:26</td>\n",
       "    </tr>\n",
       "    <tr>\n",
       "      <td>10</td>\n",
       "      <td>0.685443</td>\n",
       "      <td>0.889476</td>\n",
       "      <td>0.692196</td>\n",
       "      <td>02:09</td>\n",
       "    </tr>\n",
       "    <tr>\n",
       "      <td>11</td>\n",
       "      <td>0.698158</td>\n",
       "      <td>0.824193</td>\n",
       "      <td>0.697528</td>\n",
       "      <td>02:18</td>\n",
       "    </tr>\n",
       "    <tr>\n",
       "      <td>12</td>\n",
       "      <td>0.683659</td>\n",
       "      <td>0.842662</td>\n",
       "      <td>0.705768</td>\n",
       "      <td>02:17</td>\n",
       "    </tr>\n",
       "    <tr>\n",
       "      <td>13</td>\n",
       "      <td>0.675873</td>\n",
       "      <td>0.820794</td>\n",
       "      <td>0.700436</td>\n",
       "      <td>02:08</td>\n",
       "    </tr>\n",
       "    <tr>\n",
       "      <td>14</td>\n",
       "      <td>0.697704</td>\n",
       "      <td>0.775951</td>\n",
       "      <td>0.691711</td>\n",
       "      <td>02:24</td>\n",
       "    </tr>\n",
       "    <tr>\n",
       "      <td>15</td>\n",
       "      <td>0.675192</td>\n",
       "      <td>0.791015</td>\n",
       "      <td>0.698013</td>\n",
       "      <td>02:11</td>\n",
       "    </tr>\n",
       "    <tr>\n",
       "      <td>16</td>\n",
       "      <td>0.667378</td>\n",
       "      <td>0.756296</td>\n",
       "      <td>0.696558</td>\n",
       "      <td>02:11</td>\n",
       "    </tr>\n",
       "    <tr>\n",
       "      <td>17</td>\n",
       "      <td>0.647357</td>\n",
       "      <td>0.767119</td>\n",
       "      <td>0.702860</td>\n",
       "      <td>02:16</td>\n",
       "    </tr>\n",
       "    <tr>\n",
       "      <td>18</td>\n",
       "      <td>0.645591</td>\n",
       "      <td>0.736023</td>\n",
       "      <td>0.699952</td>\n",
       "      <td>02:19</td>\n",
       "    </tr>\n",
       "    <tr>\n",
       "      <td>19</td>\n",
       "      <td>0.664990</td>\n",
       "      <td>0.750888</td>\n",
       "      <td>0.698982</td>\n",
       "      <td>02:10</td>\n",
       "    </tr>\n",
       "    <tr>\n",
       "      <td>20</td>\n",
       "      <td>0.661917</td>\n",
       "      <td>0.787239</td>\n",
       "      <td>0.702860</td>\n",
       "      <td>02:24</td>\n",
       "    </tr>\n",
       "  </tbody>\n",
       "</table>"
      ],
      "text/plain": [
       "<IPython.core.display.HTML object>"
      ]
     },
     "metadata": {},
     "output_type": "display_data"
    }
   ],
   "source": [
    "learn.unfreeze()\n",
    "learn.fit_one_cycle(20, slice(3e-4,3e-3), moms=(0.8,0.7))"
   ]
  },
  {
   "cell_type": "code",
   "execution_count": 26,
   "metadata": {},
   "outputs": [],
   "source": [
    "from fastai.vision import *"
   ]
  },
  {
   "cell_type": "code",
   "execution_count": 27,
   "metadata": {},
   "outputs": [
    {
     "data": {
      "image/png": "[encoded data removed]",
      "text/plain": [
       "<Figure size 480x480 with 1 Axes>"
      ]
     },
     "metadata": {},
     "output_type": "display_data"
    }
   ],
   "source": [
    "interp = ClassificationInterpretation.from_learner(learn)\n",
    "interp.plot_confusion_matrix(figsize=(4,4), dpi=120)"
   ]
  },
  {
   "cell_type": "code",
   "execution_count": 28,
   "metadata": {},
   "outputs": [
    {
     "data": {
      "image/png": "[encoded data removed]",
      "text/plain": [
       "<Figure size 432x288 with 1 Axes>"
      ]
     },
     "metadata": {},
     "output_type": "display_data"
    }
   ],
   "source": [
    "learn.recorder.plot_losses()"
   ]
  },
  {
   "cell_type": "code",
   "execution_count": 29,
   "metadata": {},
   "outputs": [
    {
     "data": {
      "image/png": "[encoded data removed]",
      "text/plain": [
       "<Figure size 432x288 with 1 Axes>"
      ]
     },
     "metadata": {},
     "output_type": "display_data"
    }
   ],
   "source": [
    "learn.recorder.plot_metrics()"
   ]
  },
  {
   "cell_type": "code",
   "execution_count": null,
   "metadata": {},
   "outputs": [],
   "source": []
  },
  {
   "cell_type": "code",
   "execution_count": 30,
   "metadata": {},
   "outputs": [],
   "source": [
    "def intrinsic_attention_modified_old(self, text:str, class_id:int=None):\n",
    "        ids = self.data.one_item(text)[0]\n",
    "        emb = self.model[0].module.encoder(ids).detach().requires_grad_(True)\n",
    "        self.model.train()\n",
    "        self.model.zero_grad()\n",
    "        self.model.reset()\n",
    "        lstm_output = self.model[0].module(emb, from_embeddings=True)\n",
    "        self.model.eval()\n",
    "        self.model.zero_grad()\n",
    "        self.model.reset()\n",
    "        cl = self.model[1](lstm_output)[0].softmax(dim=-1)\n",
    "        if class_id is None: class_id = cl.argmax()\n",
    "        cl[0][class_id].backward()\n",
    "        attn = emb.grad.squeeze().abs().sum(dim=-1)\n",
    "        attn /= attn.max()\n",
    "        tokens = self.data.single_ds.reconstruct(ids[0])\n",
    "        return tokens, attn\n",
    "    \n",
    "def intrinsic_attention_modified(self, text:str, class_id:int=None):\n",
    "        \"\"\"Calculate the intrinsic attention of the input w.r.t to an output `class_id`, or the classification given by the model if `None`.\n",
    "        For reference, see the Sequential Jacobian session at https://www.cs.toronto.edu/~graves/preprint.pdf\n",
    "        \"\"\"\n",
    "        self.model.train()\n",
    "        eval_dropouts(self.model)\n",
    "        self.model.zero_grad()\n",
    "        self.model.reset()\n",
    "        ids = self.data.one_item(text)[0]\n",
    "        emb = self.model[0].module.encoder(ids).detach().requires_grad_(True)                \n",
    "        lstm_output = self.model[0].module(emb, from_embeddings=True)\n",
    "        self.model.eval()\n",
    "        cl = self.model[1](lstm_output)[0].softmax(dim=-1)\n",
    "        if class_id is None: class_id = cl.argmax()\n",
    "        cl[0][class_id].backward()\n",
    "        attn = emb.grad.squeeze().abs().sum(dim=-1)\n",
    "        attn /= attn.max() \n",
    "        tokens = self.data.single_ds.reconstruct(ids[0])\n",
    "        return tokens, attn\n",
    "\n",
    "def eval_dropouts(mod):\n",
    "        module_name =  mod.__class__.__name__\n",
    "        if 'Dropout' in module_name or 'BatchNorm' in module_name: mod.training = False\n",
    "        for module in mod.children(): eval_dropouts(module)\n",
    "\n",
    "TextClassificationInterpretation.intrinsic_attention = intrinsic_attention_modified\n",
    "ci = TextClassificationInterpretation.from_learner(learn)"
   ]
  },
  {
   "cell_type": "code",
   "execution_count": 31,
   "metadata": {},
   "outputs": [],
   "source": [
    "import matplotlib.cm as cm"
   ]
  },
  {
   "cell_type": "code",
   "execution_count": 32,
   "metadata": {},
   "outputs": [],
   "source": [
    "def interpret_result(row_index):\n",
    "    example = df['text'][row_index]\n",
    "    label = df['label'][row_index]\n",
    "    print('True Label:',label)\n",
    "    \n",
    "    prediction_class = learn.predict(example)[0]\n",
    "    prediction_probs = learn.predict(example)[2]\n",
    "    \n",
    "    print('\\nPred Label:',prediction_class)\n",
    "    print('\\nClass Probabilities:',prediction_probs)\n",
    "    \n",
    "    print('\\n***Raw Text***')\n",
    "    print(example)\n",
    "    \n",
    "    print('\\n***Intrinsic Attention***')\n",
    "    \n",
    "    ci.show_intrinsic_attention(example,  cmap=cm.Reds)\n",
    "    \n",
    "    prediction_class = learn.predict(example)[0]\n",
    "    prediction_probs = learn.predict(example)[2]\n",
    "    \n",
    "    \n",
    "    "
   ]
  },
  {
   "cell_type": "code",
   "execution_count": null,
   "metadata": {},
   "outputs": [],
   "source": []
  },
  {
   "cell_type": "code",
   "execution_count": 33,
   "metadata": {},
   "outputs": [
    {
     "name": "stdout",
     "output_type": "stream",
     "text": [
      "True Label: Accident\n",
      "\n",
      "Pred Label: Accident\n",
      "\n",
      "Class Probabilities: tensor([0.0385, 0.0201, 0.7635, 0.1778])\n",
      "\n",
      "***Raw Text***\n",
      "\n",
      ".MICRO.\n",
      "Heart: Patchy left and right ventricular hypertrophy.\n",
      "\n",
      "Lungs:  Scattered foci of septal clubbing and fragmentation. Scattered collections of intraalveolar macrophages. Colonies of postmortem bacterial overgrowth.\n",
      "\n",
      "Liver: Moderate steatosis. Increased periportal chronic inflammation and chronic lobular inflammation. \n",
      "\n",
      "Kidney: Rare intratubular calcification.\n",
      "\n",
      "Brain: No significant histopathologic diagnosis.\n",
      ".LOCATIONOther\n",
      ".INJURYBlunt injury.\n",
      ".INJURYDESC.\n",
      "Dried red linear oblique abrasion of right posterior proximal thigh, 1 x 3/8 inch.\n",
      "\n",
      "Two parallel linear oblique scratch abrasions of left proximal thigh near the gluteal cleft (less than two inches in greatest dimension).\n",
      "\n",
      "***Intrinsic Attention***\n"
     ]
    },
    {
     "data": {
      "text/html": [
       "<span style=\"font-family: monospace;\"><span title=\"0.097\" style=\"background-color: rgba(254, 229, 217, 0.5);\">xxbos</span> <span title=\"0.041\" style=\"background-color: rgba(254, 238, 230, 0.5);\">xxup</span> <span title=\"0.062\" style=\"background-color: rgba(254, 235, 225, 0.5);\">.micro</span> <span title=\"0.128\" style=\"background-color: rgba(253, 223, 209, 0.5);\">.</span> <span title=\"0.058\" style=\"background-color: rgba(254, 235, 226, 0.5);\">xxmaj</span> <span title=\"0.067\" style=\"background-color: rgba(254, 233, 224, 0.5);\">heart</span> <span title=\"0.241\" style=\"background-color: rgba(252, 190, 165, 0.5);\">:</span> <span title=\"0.461\" style=\"background-color: rgba(251, 117, 85, 0.5);\">xxmaj</span> <span title=\"0.125\" style=\"background-color: rgba(253, 223, 209, 0.5);\">patchy</span> <span title=\"0.179\" style=\"background-color: rgba(253, 208, 189, 0.5);\">left</span> <span title=\"0.593\" style=\"background-color: rgba(242, 71, 51, 0.5);\">and</span> <span title=\"0.594\" style=\"background-color: rgba(241, 69, 50, 0.5);\">right</span> <span title=\"0.424\" style=\"background-color: rgba(251, 130, 98, 0.5);\">ventricular</span> <span title=\"0.408\" style=\"background-color: rgba(251, 135, 103, 0.5);\">hypertrophy</span> <span title=\"0.998\" style=\"background-color: rgba(103, 0, 12, 0.5);\">.</span> <span title=\"0.833\" style=\"background-color: rgba(177, 17, 23, 0.5);\">xxmaj</span> <span title=\"0.084\" style=\"background-color: rgba(254, 231, 220, 0.5);\">lungs</span> <span title=\"0.026\" style=\"background-color: rgba(254, 241, 234, 0.5);\">:</span> <span title=\"0.102\" style=\"background-color: rgba(254, 228, 216, 0.5);\">xxmaj</span> <span title=\"0.532\" style=\"background-color: rgba(247, 93, 66, 0.5);\">scattered</span> <span title=\"0.086\" style=\"background-color: rgba(254, 230, 219, 0.5);\">foci</span> <span title=\"0.133\" style=\"background-color: rgba(253, 221, 206, 0.5);\">of</span> <span title=\"0.266\" style=\"background-color: rgba(252, 182, 156, 0.5);\">septal</span> <span title=\"0.419\" style=\"background-color: rgba(251, 131, 99, 0.5);\">clubbing</span> <span title=\"0.152\" style=\"background-color: rgba(253, 216, 200, 0.5);\">and</span> <span title=\"0.576\" style=\"background-color: rgba(243, 77, 55, 0.5);\">fragmentation</span> <span title=\"0.484\" style=\"background-color: rgba(251, 111, 79, 0.5);\">.</span> <span title=\"0.106\" style=\"background-color: rgba(254, 227, 214, 0.5);\">xxmaj</span> <span title=\"0.494\" style=\"background-color: rgba(251, 107, 75, 0.5);\">scattered</span> <span title=\"0.079\" style=\"background-color: rgba(254, 231, 221, 0.5);\">collections</span> <span title=\"0.067\" style=\"background-color: rgba(254, 233, 224, 0.5);\">of</span> <span title=\"0.268\" style=\"background-color: rgba(252, 181, 154, 0.5);\">intraalveolar</span> <span title=\"0.740\" style=\"background-color: rgba(205, 26, 30, 0.5);\">macrophages</span> <span title=\"0.131\" style=\"background-color: rgba(253, 222, 208, 0.5);\">.</span> <span title=\"0.447\" style=\"background-color: rgba(251, 122, 90, 0.5);\">xxmaj</span> <span title=\"0.291\" style=\"background-color: rgba(252, 173, 145, 0.5);\">colonies</span> <span title=\"0.125\" style=\"background-color: rgba(253, 223, 209, 0.5);\">of</span> <span title=\"0.126\" style=\"background-color: rgba(253, 223, 209, 0.5);\">postmortem</span> <span title=\"1.000\" style=\"background-color: rgba(103, 0, 12, 0.5);\">bacterial</span> <span title=\"0.225\" style=\"background-color: rgba(252, 194, 171, 0.5);\">overgrowth</span> <span title=\"0.559\" style=\"background-color: rgba(245, 83, 59, 0.5);\">.</span> <span title=\"0.462\" style=\"background-color: rgba(251, 117, 85, 0.5);\">xxmaj</span> <span title=\"0.171\" style=\"background-color: rgba(253, 211, 192, 0.5);\">liver</span> <span title=\"0.030\" style=\"background-color: rgba(254, 240, 233, 0.5);\">:</span> <span title=\"0.015\" style=\"background-color: rgba(254, 243, 237, 0.5);\">xxmaj</span> <span title=\"0.073\" style=\"background-color: rgba(254, 233, 223, 0.5);\">moderate</span> <span title=\"0.277\" style=\"background-color: rgba(252, 178, 151, 0.5);\">steatosis</span> <span title=\"0.039\" style=\"background-color: rgba(254, 238, 230, 0.5);\">.</span> <span title=\"0.094\" style=\"background-color: rgba(254, 229, 217, 0.5);\">xxmaj</span> <span title=\"0.352\" style=\"background-color: rgba(252, 153, 122, 0.5);\">increased</span> <span title=\"0.534\" style=\"background-color: rgba(247, 93, 66, 0.5);\">periportal</span> <span title=\"0.057\" style=\"background-color: rgba(254, 235, 226, 0.5);\">chronic</span> <span title=\"0.048\" style=\"background-color: rgba(254, 237, 228, 0.5);\">inflammation</span> <span title=\"0.276\" style=\"background-color: rgba(252, 178, 151, 0.5);\">and</span> <span title=\"0.264\" style=\"background-color: rgba(252, 182, 156, 0.5);\">chronic</span> <span title=\"0.211\" style=\"background-color: rgba(252, 198, 175, 0.5);\">lobular</span> <span title=\"0.164\" style=\"background-color: rgba(253, 212, 194, 0.5);\">inflammation</span> <span title=\"0.061\" style=\"background-color: rgba(254, 235, 225, 0.5);\">.</span> <span title=\"0.195\" style=\"background-color: rgba(252, 204, 183, 0.5);\">xxmaj</span> <span title=\"0.163\" style=\"background-color: rgba(253, 213, 195, 0.5);\">kidney</span> <span title=\"0.052\" style=\"background-color: rgba(254, 236, 227, 0.5);\">:</span> <span title=\"0.024\" style=\"background-color: rgba(254, 241, 234, 0.5);\">xxmaj</span> <span title=\"0.020\" style=\"background-color: rgba(254, 241, 235, 0.5);\">rare</span> <span title=\"0.051\" style=\"background-color: rgba(254, 237, 228, 0.5);\">intratubular</span> <span title=\"0.238\" style=\"background-color: rgba(252, 191, 166, 0.5);\">calcification</span> <span title=\"0.027\" style=\"background-color: rgba(254, 241, 234, 0.5);\">.</span> <span title=\"0.046\" style=\"background-color: rgba(254, 237, 229, 0.5);\">xxmaj</span> <span title=\"0.221\" style=\"background-color: rgba(252, 195, 172, 0.5);\">brain</span> <span title=\"0.290\" style=\"background-color: rgba(252, 173, 145, 0.5);\">:</span> <span title=\"0.133\" style=\"background-color: rgba(253, 221, 206, 0.5);\">xxmaj</span> <span title=\"0.032\" style=\"background-color: rgba(254, 239, 232, 0.5);\">no</span> <span title=\"0.021\" style=\"background-color: rgba(254, 241, 235, 0.5);\">significant</span> <span title=\"0.123\" style=\"background-color: rgba(254, 224, 210, 0.5);\">histopathologic</span> <span title=\"0.406\" style=\"background-color: rgba(251, 136, 104, 0.5);\">diagnosis</span> <span title=\"0.070\" style=\"background-color: rgba(254, 233, 224, 0.5);\">.</span> <span title=\"0.100\" style=\"background-color: rgba(254, 228, 216, 0.5);\">.locationother</span> <span title=\"0.146\" style=\"background-color: rgba(253, 218, 202, 0.5);\">.injuryblunt</span> <span title=\"0.132\" style=\"background-color: rgba(253, 222, 208, 0.5);\">injury</span> <span title=\"0.227\" style=\"background-color: rgba(252, 193, 169, 0.5);\">.</span> <span title=\"0.152\" style=\"background-color: rgba(253, 216, 200, 0.5);\">xxup</span> <span title=\"0.038\" style=\"background-color: rgba(254, 239, 231, 0.5);\">.injurydesc</span> <span title=\"0.033\" style=\"background-color: rgba(254, 239, 232, 0.5);\">.</span> <span title=\"0.254\" style=\"background-color: rgba(252, 185, 159, 0.5);\">xxmaj</span> <span title=\"0.067\" style=\"background-color: rgba(254, 233, 224, 0.5);\">dried</span> <span title=\"0.160\" style=\"background-color: rgba(253, 214, 197, 0.5);\">red</span> <span title=\"0.077\" style=\"background-color: rgba(254, 232, 222, 0.5);\">linear</span> <span title=\"0.037\" style=\"background-color: rgba(254, 239, 231, 0.5);\">oblique</span> <span title=\"0.025\" style=\"background-color: rgba(254, 241, 234, 0.5);\">abrasion</span> <span title=\"0.021\" style=\"background-color: rgba(254, 241, 235, 0.5);\">of</span> <span title=\"0.046\" style=\"background-color: rgba(254, 237, 229, 0.5);\">right</span> <span title=\"0.026\" style=\"background-color: rgba(254, 241, 234, 0.5);\">posterior</span> <span title=\"0.031\" style=\"background-color: rgba(254, 239, 232, 0.5);\">proximal</span> <span title=\"0.094\" style=\"background-color: rgba(254, 229, 217, 0.5);\">thigh</span> <span title=\"0.456\" style=\"background-color: rgba(251, 120, 88, 0.5);\">,</span> <span title=\"0.176\" style=\"background-color: rgba(253, 208, 189, 0.5);\">1</span> <span title=\"0.296\" style=\"background-color: rgba(252, 172, 144, 0.5);\">x</span> <span title=\"0.219\" style=\"background-color: rgba(252, 195, 172, 0.5);\">3</span> <span title=\"0.165\" style=\"background-color: rgba(253, 212, 194, 0.5);\">/</span> <span title=\"0.078\" style=\"background-color: rgba(254, 232, 222, 0.5);\">8</span> <span title=\"0.120\" style=\"background-color: rgba(254, 225, 211, 0.5);\">inch</span> <span title=\"0.166\" style=\"background-color: rgba(253, 212, 194, 0.5);\">.</span> <span title=\"0.127\" style=\"background-color: rgba(253, 223, 209, 0.5);\">xxmaj</span> <span title=\"0.100\" style=\"background-color: rgba(254, 228, 216, 0.5);\">two</span> <span title=\"0.043\" style=\"background-color: rgba(254, 237, 229, 0.5);\">parallel</span> <span title=\"0.084\" style=\"background-color: rgba(254, 231, 220, 0.5);\">linear</span> <span title=\"0.048\" style=\"background-color: rgba(254, 237, 228, 0.5);\">oblique</span> <span title=\"0.047\" style=\"background-color: rgba(254, 237, 228, 0.5);\">scratch</span> <span title=\"0.056\" style=\"background-color: rgba(254, 235, 226, 0.5);\">abrasions</span> <span title=\"0.025\" style=\"background-color: rgba(254, 241, 234, 0.5);\">of</span> <span title=\"0.052\" style=\"background-color: rgba(254, 236, 227, 0.5);\">left</span> <span title=\"0.045\" style=\"background-color: rgba(254, 237, 229, 0.5);\">proximal</span> <span title=\"0.053\" style=\"background-color: rgba(254, 236, 227, 0.5);\">thigh</span> <span title=\"0.073\" style=\"background-color: rgba(254, 233, 223, 0.5);\">near</span> <span title=\"0.201\" style=\"background-color: rgba(252, 201, 180, 0.5);\">the</span> <span title=\"0.344\" style=\"background-color: rgba(252, 155, 125, 0.5);\">gluteal</span> <span title=\"0.234\" style=\"background-color: rgba(252, 191, 166, 0.5);\">cleft</span> <span title=\"0.204\" style=\"background-color: rgba(252, 200, 179, 0.5);\">(</span> <span title=\"0.351\" style=\"background-color: rgba(252, 154, 123, 0.5);\">less</span> <span title=\"0.182\" style=\"background-color: rgba(253, 207, 188, 0.5);\">than</span> <span title=\"0.087\" style=\"background-color: rgba(254, 230, 219, 0.5);\">two</span> <span title=\"0.137\" style=\"background-color: rgba(253, 220, 205, 0.5);\">inches</span> <span title=\"0.275\" style=\"background-color: rgba(252, 178, 151, 0.5);\">in</span> <span title=\"0.181\" style=\"background-color: rgba(253, 207, 188, 0.5);\">greatest</span> <span title=\"0.179\" style=\"background-color: rgba(253, 208, 189, 0.5);\">dimension</span> <span title=\"0.063\" style=\"background-color: rgba(254, 234, 224, 0.5);\">)</span> <span title=\"0.344\" style=\"background-color: rgba(252, 155, 125, 0.5);\">.</span></span>"
      ],
      "text/plain": [
       "<IPython.core.display.HTML object>"
      ]
     },
     "metadata": {},
     "output_type": "display_data"
    }
   ],
   "source": [
    "interpret_result(13)"
   ]
  },
  {
   "cell_type": "code",
   "execution_count": 34,
   "metadata": {},
   "outputs": [
    {
     "name": "stdout",
     "output_type": "stream",
     "text": [
      "True Label: Accident\n",
      "\n",
      "Pred Label: Homicide\n",
      "\n",
      "Class Probabilities: tensor([0.0030, 0.6569, 0.3375, 0.0026])\n",
      "\n",
      "***Raw Text***\n",
      "\n",
      ".MICRO.\n",
      "NONE\n",
      ".LOCATIONHead\n",
      ".INJURYBlunt injury.\n",
      ".INJURYDESC.\n",
      "4 inch purple-green contusion surrounding wound left temple closed with steri-strips with corresponding deep scalp bruise\n",
      "\n",
      "large amount of bilateral bloody cerebral spinal fluid with small adherent subdural clot left temporal lobe and xanthochromic change, dura of right middle cranial fossa.\n",
      "\n",
      "multifocal subarachnoid hemorrhage described in neuropathology report\n",
      "\n",
      ".LOCATIONTrunk\n",
      ".INJURYBlunt injury.\n",
      ".INJURYDESC.\n",
      "4 inch purple contusion left iliac crest\n",
      "\n",
      ".LOCATIONExtremity\n",
      ".INJURYBlunt injury.\n",
      ".INJURYDESC.\n",
      "6 inch zone of purple-green contusion left wrist and dorsal left hand\n",
      "\n",
      "***Intrinsic Attention***\n"
     ]
    },
    {
     "data": {
      "text/html": [
       "<span style=\"font-family: monospace;\"><span title=\"0.051\" style=\"background-color: rgba(254, 236, 227, 0.5);\">xxbos</span> <span title=\"0.026\" style=\"background-color: rgba(254, 241, 234, 0.5);\">xxup</span> <span title=\"0.022\" style=\"background-color: rgba(254, 241, 235, 0.5);\">.micro</span> <span title=\"0.130\" style=\"background-color: rgba(253, 222, 208, 0.5);\">.</span> <span title=\"0.035\" style=\"background-color: rgba(254, 239, 232, 0.5);\">xxup</span> <span title=\"0.028\" style=\"background-color: rgba(254, 240, 233, 0.5);\">none</span> <span title=\"0.034\" style=\"background-color: rgba(254, 239, 232, 0.5);\">.locationhead</span> <span title=\"0.154\" style=\"background-color: rgba(253, 215, 199, 0.5);\">.injuryblunt</span> <span title=\"0.084\" style=\"background-color: rgba(254, 231, 220, 0.5);\">injury</span> <span title=\"0.300\" style=\"background-color: rgba(252, 171, 142, 0.5);\">.</span> <span title=\"0.048\" style=\"background-color: rgba(254, 237, 228, 0.5);\">xxup</span> <span title=\"0.226\" style=\"background-color: rgba(252, 194, 171, 0.5);\">.injurydesc</span> <span title=\"0.060\" style=\"background-color: rgba(254, 235, 225, 0.5);\">.</span> <span title=\"0.020\" style=\"background-color: rgba(254, 241, 235, 0.5);\">4</span> <span title=\"0.020\" style=\"background-color: rgba(254, 241, 235, 0.5);\">inch</span> <span title=\"0.016\" style=\"background-color: rgba(254, 243, 237, 0.5);\">purple</span> <span title=\"0.059\" style=\"background-color: rgba(254, 235, 225, 0.5);\">-</span> <span title=\"0.035\" style=\"background-color: rgba(254, 239, 232, 0.5);\">green</span> <span title=\"0.063\" style=\"background-color: rgba(254, 234, 224, 0.5);\">contusion</span> <span title=\"0.404\" style=\"background-color: rgba(251, 136, 104, 0.5);\">surrounding</span> <span title=\"0.676\" style=\"background-color: rgba(223, 44, 37, 0.5);\">wound</span> <span title=\"0.441\" style=\"background-color: rgba(251, 125, 93, 0.5);\">left</span> <span title=\"0.131\" style=\"background-color: rgba(253, 222, 208, 0.5);\">temple</span> <span title=\"0.335\" style=\"background-color: rgba(252, 159, 129, 0.5);\">closed</span> <span title=\"0.527\" style=\"background-color: rgba(248, 94, 66, 0.5);\">with</span> <span title=\"0.603\" style=\"background-color: rgba(241, 66, 49, 0.5);\">steri</span> <span title=\"0.457\" style=\"background-color: rgba(251, 119, 87, 0.5);\">-</span> <span title=\"0.419\" style=\"background-color: rgba(251, 131, 99, 0.5);\">strips</span> <span title=\"0.731\" style=\"background-color: rgba(207, 28, 31, 0.5);\">with</span> <span title=\"0.931\" style=\"background-color: rgba(136, 8, 17, 0.5);\">corresponding</span> <span title=\"0.184\" style=\"background-color: rgba(253, 206, 186, 0.5);\">deep</span> <span title=\"1.000\" style=\"background-color: rgba(103, 0, 12, 0.5);\">scalp</span> <span title=\"0.159\" style=\"background-color: rgba(253, 214, 197, 0.5);\">bruise</span> <span title=\"0.453\" style=\"background-color: rgba(251, 121, 89, 0.5);\">large</span> <span title=\"0.163\" style=\"background-color: rgba(253, 213, 195, 0.5);\">amount</span> <span title=\"0.369\" style=\"background-color: rgba(252, 148, 116, 0.5);\">of</span> <span title=\"0.288\" style=\"background-color: rgba(252, 175, 147, 0.5);\">bilateral</span> <span title=\"0.433\" style=\"background-color: rgba(251, 127, 95, 0.5);\">bloody</span> <span title=\"0.557\" style=\"background-color: rgba(245, 84, 60, 0.5);\">cerebral</span> <span title=\"0.110\" style=\"background-color: rgba(254, 226, 213, 0.5);\">spinal</span> <span title=\"0.678\" style=\"background-color: rgba(223, 44, 37, 0.5);\">fluid</span> <span title=\"0.857\" style=\"background-color: rgba(169, 16, 22, 0.5);\">with</span> <span title=\"0.218\" style=\"background-color: rgba(252, 197, 174, 0.5);\">small</span> <span title=\"0.491\" style=\"background-color: rgba(251, 109, 77, 0.5);\">adherent</span> <span title=\"0.853\" style=\"background-color: rgba(171, 16, 22, 0.5);\">subdural</span> <span title=\"0.630\" style=\"background-color: rgba(237, 57, 43, 0.5);\">clot</span> <span title=\"0.727\" style=\"background-color: rgba(208, 29, 31, 0.5);\">left</span> <span title=\"0.448\" style=\"background-color: rgba(251, 122, 90, 0.5);\">temporal</span> <span title=\"0.208\" style=\"background-color: rgba(252, 199, 177, 0.5);\">lobe</span> <span title=\"0.437\" style=\"background-color: rgba(251, 126, 94, 0.5);\">and</span> <span title=\"0.591\" style=\"background-color: rgba(242, 71, 51, 0.5);\">xxunk</span> <span title=\"0.440\" style=\"background-color: rgba(251, 125, 93, 0.5);\">change</span> <span title=\"0.373\" style=\"background-color: rgba(252, 146, 114, 0.5);\">,</span> <span title=\"0.512\" style=\"background-color: rgba(249, 100, 70, 0.5);\">dura</span> <span title=\"0.431\" style=\"background-color: rgba(251, 127, 95, 0.5);\">of</span> <span title=\"0.303\" style=\"background-color: rgba(252, 169, 141, 0.5);\">right</span> <span title=\"0.157\" style=\"background-color: rgba(253, 214, 197, 0.5);\">middle</span> <span title=\"0.514\" style=\"background-color: rgba(249, 100, 70, 0.5);\">cranial</span> <span title=\"0.542\" style=\"background-color: rgba(247, 90, 64, 0.5);\">fossa</span> <span title=\"0.106\" style=\"background-color: rgba(254, 227, 214, 0.5);\">.</span> <span title=\"0.644\" style=\"background-color: rgba(233, 53, 41, 0.5);\">multifocal</span> <span title=\"0.237\" style=\"background-color: rgba(252, 191, 166, 0.5);\">subarachnoid</span> <span title=\"0.199\" style=\"background-color: rgba(252, 202, 182, 0.5);\">hemorrhage</span> <span title=\"0.286\" style=\"background-color: rgba(252, 175, 147, 0.5);\">described</span> <span title=\"0.357\" style=\"background-color: rgba(252, 151, 120, 0.5);\">in</span> <span title=\"0.133\" style=\"background-color: rgba(253, 222, 208, 0.5);\">neuropathology</span> <span title=\"0.052\" style=\"background-color: rgba(254, 236, 227, 0.5);\">report</span> <span title=\"0.071\" style=\"background-color: rgba(254, 233, 223, 0.5);\">.locationtrunk</span> <span title=\"0.480\" style=\"background-color: rgba(251, 112, 80, 0.5);\">.injuryblunt</span> <span title=\"0.332\" style=\"background-color: rgba(252, 160, 131, 0.5);\">injury</span> <span title=\"0.261\" style=\"background-color: rgba(252, 184, 157, 0.5);\">.</span> <span title=\"0.509\" style=\"background-color: rgba(250, 102, 71, 0.5);\">xxup</span> <span title=\"0.150\" style=\"background-color: rgba(253, 216, 200, 0.5);\">.injurydesc</span> <span title=\"0.389\" style=\"background-color: rgba(251, 141, 109, 0.5);\">.</span> <span title=\"0.229\" style=\"background-color: rgba(252, 193, 169, 0.5);\">4</span> <span title=\"0.031\" style=\"background-color: rgba(254, 239, 232, 0.5);\">inch</span> <span title=\"0.331\" style=\"background-color: rgba(252, 160, 131, 0.5);\">purple</span> <span title=\"0.032\" style=\"background-color: rgba(254, 239, 232, 0.5);\">contusion</span> <span title=\"0.121\" style=\"background-color: rgba(254, 225, 211, 0.5);\">left</span> <span title=\"0.033\" style=\"background-color: rgba(254, 239, 232, 0.5);\">iliac</span> <span title=\"0.013\" style=\"background-color: rgba(254, 243, 237, 0.5);\">crest</span> <span title=\"0.020\" style=\"background-color: rgba(254, 241, 235, 0.5);\">.locationextremity</span> <span title=\"0.037\" style=\"background-color: rgba(254, 239, 231, 0.5);\">.injuryblunt</span> <span title=\"0.039\" style=\"background-color: rgba(254, 238, 230, 0.5);\">injury</span> <span title=\"0.026\" style=\"background-color: rgba(254, 241, 234, 0.5);\">.</span> <span title=\"0.050\" style=\"background-color: rgba(254, 237, 228, 0.5);\">xxup</span> <span title=\"0.208\" style=\"background-color: rgba(252, 199, 177, 0.5);\">.injurydesc</span> <span title=\"0.184\" style=\"background-color: rgba(253, 206, 186, 0.5);\">.</span> <span title=\"0.152\" style=\"background-color: rgba(253, 216, 200, 0.5);\">6</span> <span title=\"0.096\" style=\"background-color: rgba(254, 229, 217, 0.5);\">inch</span> <span title=\"0.156\" style=\"background-color: rgba(253, 215, 199, 0.5);\">zone</span> <span title=\"0.303\" style=\"background-color: rgba(252, 169, 141, 0.5);\">of</span> <span title=\"0.149\" style=\"background-color: rgba(253, 216, 200, 0.5);\">purple</span> <span title=\"0.028\" style=\"background-color: rgba(254, 240, 233, 0.5);\">-</span> <span title=\"0.195\" style=\"background-color: rgba(252, 204, 183, 0.5);\">green</span> <span title=\"0.027\" style=\"background-color: rgba(254, 240, 233, 0.5);\">contusion</span> <span title=\"0.088\" style=\"background-color: rgba(254, 230, 219, 0.5);\">left</span> <span title=\"0.027\" style=\"background-color: rgba(254, 240, 233, 0.5);\">wrist</span> <span title=\"0.014\" style=\"background-color: rgba(254, 243, 237, 0.5);\">and</span> <span title=\"0.015\" style=\"background-color: rgba(254, 243, 237, 0.5);\">dorsal</span> <span title=\"0.015\" style=\"background-color: rgba(254, 243, 237, 0.5);\">left</span> <span title=\"0.044\" style=\"background-color: rgba(254, 237, 229, 0.5);\">hand</span></span>"
      ],
      "text/plain": [
       "<IPython.core.display.HTML object>"
      ]
     },
     "metadata": {},
     "output_type": "display_data"
    }
   ],
   "source": [
    "interpret_result(20)"
   ]
  },
  {
   "cell_type": "code",
   "execution_count": 35,
   "metadata": {},
   "outputs": [
    {
     "name": "stdout",
     "output_type": "stream",
     "text": [
      "True Label: Suicide\n",
      "\n",
      "Pred Label: Suicide\n",
      "\n",
      "Class Probabilities: tensor([9.9986e-01, 1.1959e-30, 1.3689e-04, 8.3069e-08])\n",
      "\n",
      "***Raw Text***\n",
      "\n",
      ".MICRO.\n",
      "NONE\n",
      ".LOCATIONHead\n",
      ".INJURYBlunt injury.\n",
      ".INJURYDESC.\n",
      "Deformity superior to left brow 1.7 cm width x 0.7 cm height. \n",
      "\n",
      ".LOCATIONHead\n",
      ".INJURYHanging.\n",
      ".INJURYDESC.\n",
      "Reddish-brown line across the left eyeball distal to the pupil. \n",
      "\n",
      ".LOCATIONHead\n",
      ".INJURYHanging.\n",
      ".INJURYDESC.\n",
      "Petechiae noted to the left eye.\n",
      "\n",
      ".LOCATIONNeck\n",
      ".INJURYHanging.\n",
      ".INJURYDESC.\n",
      "Abrasion left side neck 5.5 cm width x 1.5 cm height\n",
      "\n",
      ".LOCATIONNeck\n",
      ".INJURYHanging.\n",
      ".INJURYDESC.\n",
      "Abrasion L upper neck 5.5 width x 2.5 cm height. \n",
      "\n",
      ".LOCATIONNeck\n",
      ".INJURYHanging.\n",
      ".INJURYDESC.\n",
      "Abrasion right upper neck 4.5 cm width x 2.5 cm height. \n",
      "\n",
      ".LOCATIONExtremity\n",
      ".INJURYBlunt injury.\n",
      ".INJURYDESC.\n",
      "Abrasion, scabbed 0.5 cm width x 0.5 cm height to left lower leg medial and distal to patella\n",
      "\n",
      ".LOCATIONExtremity\n",
      ".INJURYBlunt injury.\n",
      ".INJURYDESC.\n",
      "Abrasion, scabbed 0.5 cm width x 0.5 cm height to left lower leg lateral and distal to patella.\n",
      "\n",
      "***Intrinsic Attention***\n"
     ]
    },
    {
     "data": {
      "text/html": [
       "<span style=\"font-family: monospace;\"><span title=\"0.026\" style=\"background-color: rgba(254, 241, 234, 0.5);\">xxbos</span> <span title=\"0.008\" style=\"background-color: rgba(254, 243, 238, 0.5);\">xxup</span> <span title=\"0.011\" style=\"background-color: rgba(254, 243, 238, 0.5);\">.micro</span> <span title=\"0.022\" style=\"background-color: rgba(254, 241, 235, 0.5);\">.</span> <span title=\"0.009\" style=\"background-color: rgba(254, 243, 238, 0.5);\">xxup</span> <span title=\"0.004\" style=\"background-color: rgba(254, 244, 239, 0.5);\">none</span> <span title=\"0.019\" style=\"background-color: rgba(254, 242, 236, 0.5);\">.locationhead</span> <span title=\"0.054\" style=\"background-color: rgba(254, 236, 227, 0.5);\">.injuryblunt</span> <span title=\"0.024\" style=\"background-color: rgba(254, 241, 234, 0.5);\">injury</span> <span title=\"0.101\" style=\"background-color: rgba(254, 228, 216, 0.5);\">.</span> <span title=\"0.019\" style=\"background-color: rgba(254, 242, 236, 0.5);\">xxup</span> <span title=\"0.053\" style=\"background-color: rgba(254, 236, 227, 0.5);\">.injurydesc</span> <span title=\"0.021\" style=\"background-color: rgba(254, 241, 235, 0.5);\">.</span> <span title=\"0.008\" style=\"background-color: rgba(254, 244, 239, 0.5);\">xxmaj</span> <span title=\"0.011\" style=\"background-color: rgba(254, 243, 238, 0.5);\">deformity</span> <span title=\"0.009\" style=\"background-color: rgba(254, 243, 238, 0.5);\">superior</span> <span title=\"0.015\" style=\"background-color: rgba(254, 243, 237, 0.5);\">to</span> <span title=\"0.009\" style=\"background-color: rgba(254, 243, 238, 0.5);\">left</span> <span title=\"0.018\" style=\"background-color: rgba(254, 242, 236, 0.5);\">brow</span> <span title=\"0.049\" style=\"background-color: rgba(254, 237, 228, 0.5);\">1.7</span> <span title=\"0.408\" style=\"background-color: rgba(251, 135, 103, 0.5);\">cm</span> <span title=\"0.221\" style=\"background-color: rgba(252, 195, 172, 0.5);\">width</span> <span title=\"0.096\" style=\"background-color: rgba(254, 229, 217, 0.5);\">x</span> <span title=\"0.087\" style=\"background-color: rgba(254, 230, 219, 0.5);\">0.7</span> <span title=\"0.171\" style=\"background-color: rgba(253, 211, 192, 0.5);\">cm</span> <span title=\"0.113\" style=\"background-color: rgba(254, 226, 213, 0.5);\">height</span> <span title=\"0.055\" style=\"background-color: rgba(254, 235, 226, 0.5);\">.</span> <span title=\"0.140\" style=\"background-color: rgba(253, 220, 205, 0.5);\">.locationhead</span> <span title=\"0.068\" style=\"background-color: rgba(254, 233, 224, 0.5);\">.injuryhanging</span> <span title=\"0.047\" style=\"background-color: rgba(254, 237, 228, 0.5);\">.</span> <span title=\"0.030\" style=\"background-color: rgba(254, 240, 233, 0.5);\">xxup</span> <span title=\"0.104\" style=\"background-color: rgba(254, 227, 215, 0.5);\">.injurydesc</span> <span title=\"0.035\" style=\"background-color: rgba(254, 239, 231, 0.5);\">.</span> <span title=\"0.033\" style=\"background-color: rgba(254, 239, 232, 0.5);\">xxmaj</span> <span title=\"0.265\" style=\"background-color: rgba(252, 182, 156, 0.5);\">reddish</span> <span title=\"0.142\" style=\"background-color: rgba(253, 219, 203, 0.5);\">-</span> <span title=\"0.957\" style=\"background-color: rgba(122, 4, 15, 0.5);\">brown</span> <span title=\"0.060\" style=\"background-color: rgba(254, 235, 225, 0.5);\">line</span> <span title=\"0.041\" style=\"background-color: rgba(254, 238, 230, 0.5);\">across</span> <span title=\"0.037\" style=\"background-color: rgba(254, 239, 231, 0.5);\">the</span> <span title=\"0.124\" style=\"background-color: rgba(254, 224, 210, 0.5);\">left</span> <span title=\"0.045\" style=\"background-color: rgba(254, 237, 229, 0.5);\">eyeball</span> <span title=\"0.044\" style=\"background-color: rgba(254, 237, 229, 0.5);\">distal</span> <span title=\"0.151\" style=\"background-color: rgba(253, 216, 200, 0.5);\">to</span> <span title=\"1.000\" style=\"background-color: rgba(103, 0, 12, 0.5);\">the</span> <span title=\"0.119\" style=\"background-color: rgba(254, 225, 211, 0.5);\">xxunk</span> <span title=\"0.239\" style=\"background-color: rgba(252, 190, 165, 0.5);\">.</span> <span title=\"0.583\" style=\"background-color: rgba(242, 74, 53, 0.5);\">.locationhead</span> <span title=\"0.439\" style=\"background-color: rgba(251, 125, 93, 0.5);\">.injuryhanging</span> <span title=\"0.167\" style=\"background-color: rgba(253, 212, 194, 0.5);\">.</span> <span title=\"0.212\" style=\"background-color: rgba(252, 198, 175, 0.5);\">xxup</span> <span title=\"0.986\" style=\"background-color: rgba(108, 1, 13, 0.5);\">.injurydesc</span> <span title=\"0.607\" style=\"background-color: rgba(240, 65, 48, 0.5);\">.</span> <span title=\"0.255\" style=\"background-color: rgba(252, 185, 159, 0.5);\">xxmaj</span> <span title=\"0.097\" style=\"background-color: rgba(254, 229, 217, 0.5);\">petechiae</span> <span title=\"0.299\" style=\"background-color: rgba(252, 171, 142, 0.5);\">noted</span> <span title=\"0.077\" style=\"background-color: rgba(254, 232, 222, 0.5);\">to</span> <span title=\"0.037\" style=\"background-color: rgba(254, 239, 231, 0.5);\">the</span> <span title=\"0.446\" style=\"background-color: rgba(251, 122, 90, 0.5);\">left</span> <span title=\"0.140\" style=\"background-color: rgba(253, 220, 205, 0.5);\">eye</span> <span title=\"0.634\" style=\"background-color: rgba(236, 56, 42, 0.5);\">.</span> <span title=\"0.159\" style=\"background-color: rgba(253, 214, 197, 0.5);\">.locationneck</span> <span title=\"0.097\" style=\"background-color: rgba(254, 229, 217, 0.5);\">.injuryhanging</span> <span title=\"0.048\" style=\"background-color: rgba(254, 237, 228, 0.5);\">.</span> <span title=\"0.093\" style=\"background-color: rgba(254, 229, 218, 0.5);\">xxup</span> <span title=\"0.020\" style=\"background-color: rgba(254, 241, 235, 0.5);\">.injurydesc</span> <span title=\"0.025\" style=\"background-color: rgba(254, 241, 234, 0.5);\">.</span> <span title=\"0.050\" style=\"background-color: rgba(254, 237, 228, 0.5);\">xxmaj</span> <span title=\"0.401\" style=\"background-color: rgba(251, 138, 106, 0.5);\">abrasion</span> <span title=\"0.129\" style=\"background-color: rgba(253, 223, 209, 0.5);\">left</span> <span title=\"0.076\" style=\"background-color: rgba(254, 232, 222, 0.5);\">side</span> <span title=\"0.039\" style=\"background-color: rgba(254, 239, 231, 0.5);\">neck</span> <span title=\"0.042\" style=\"background-color: rgba(254, 238, 230, 0.5);\">5.5</span> <span title=\"0.123\" style=\"background-color: rgba(254, 224, 210, 0.5);\">cm</span> <span title=\"0.061\" style=\"background-color: rgba(254, 235, 225, 0.5);\">width</span> <span title=\"0.045\" style=\"background-color: rgba(254, 237, 229, 0.5);\">x</span> <span title=\"0.425\" style=\"background-color: rgba(251, 130, 98, 0.5);\">1.5</span> <span title=\"0.132\" style=\"background-color: rgba(253, 222, 208, 0.5);\">cm</span> <span title=\"0.667\" style=\"background-color: rgba(227, 47, 39, 0.5);\">height</span> <span title=\"0.205\" style=\"background-color: rgba(252, 200, 179, 0.5);\">.locationneck</span> <span title=\"0.120\" style=\"background-color: rgba(254, 225, 211, 0.5);\">.injuryhanging</span> <span title=\"0.060\" style=\"background-color: rgba(254, 235, 225, 0.5);\">.</span> <span title=\"0.127\" style=\"background-color: rgba(253, 223, 209, 0.5);\">xxup</span> <span title=\"0.025\" style=\"background-color: rgba(254, 241, 234, 0.5);\">.injurydesc</span> <span title=\"0.030\" style=\"background-color: rgba(254, 240, 233, 0.5);\">.</span> <span title=\"0.070\" style=\"background-color: rgba(254, 233, 224, 0.5);\">xxmaj</span> <span title=\"0.228\" style=\"background-color: rgba(252, 193, 169, 0.5);\">abrasion</span> <span title=\"0.140\" style=\"background-color: rgba(253, 220, 205, 0.5);\">l</span> <span title=\"0.146\" style=\"background-color: rgba(253, 218, 202, 0.5);\">upper</span> <span title=\"0.152\" style=\"background-color: rgba(253, 216, 200, 0.5);\">neck</span> <span title=\"0.187\" style=\"background-color: rgba(253, 206, 186, 0.5);\">5.5</span> <span title=\"0.068\" style=\"background-color: rgba(254, 233, 224, 0.5);\">width</span> <span title=\"0.213\" style=\"background-color: rgba(252, 198, 175, 0.5);\">x</span> <span title=\"0.169\" style=\"background-color: rgba(253, 211, 192, 0.5);\">2.5</span> <span title=\"0.110\" style=\"background-color: rgba(254, 226, 213, 0.5);\">cm</span> <span title=\"0.054\" style=\"background-color: rgba(254, 236, 227, 0.5);\">height</span> <span title=\"0.348\" style=\"background-color: rgba(252, 154, 123, 0.5);\">.</span> <span title=\"0.083\" style=\"background-color: rgba(254, 231, 220, 0.5);\">.locationneck</span> <span title=\"0.294\" style=\"background-color: rgba(252, 172, 144, 0.5);\">.injuryhanging</span> <span title=\"0.059\" style=\"background-color: rgba(254, 235, 225, 0.5);\">.</span> <span title=\"0.405\" style=\"background-color: rgba(251, 136, 104, 0.5);\">xxup</span> <span title=\"0.106\" style=\"background-color: rgba(254, 227, 214, 0.5);\">.injurydesc</span> <span title=\"0.050\" style=\"background-color: rgba(254, 237, 228, 0.5);\">.</span> <span title=\"0.045\" style=\"background-color: rgba(254, 237, 229, 0.5);\">xxmaj</span> <span title=\"0.089\" style=\"background-color: rgba(254, 230, 219, 0.5);\">abrasion</span> <span title=\"0.024\" style=\"background-color: rgba(254, 241, 234, 0.5);\">right</span> <span title=\"0.029\" style=\"background-color: rgba(254, 240, 233, 0.5);\">upper</span> <span title=\"0.058\" style=\"background-color: rgba(254, 235, 226, 0.5);\">neck</span> <span title=\"0.191\" style=\"background-color: rgba(252, 205, 185, 0.5);\">4.5</span> <span title=\"0.204\" style=\"background-color: rgba(252, 200, 179, 0.5);\">cm</span> <span title=\"0.110\" style=\"background-color: rgba(254, 226, 213, 0.5);\">width</span> <span title=\"0.119\" style=\"background-color: rgba(254, 225, 211, 0.5);\">x</span> <span title=\"0.169\" style=\"background-color: rgba(253, 211, 192, 0.5);\">2.5</span> <span title=\"0.233\" style=\"background-color: rgba(252, 192, 168, 0.5);\">cm</span> <span title=\"0.111\" style=\"background-color: rgba(254, 226, 213, 0.5);\">height</span> <span title=\"0.083\" style=\"background-color: rgba(254, 231, 220, 0.5);\">.</span> <span title=\"0.047\" style=\"background-color: rgba(254, 237, 228, 0.5);\">.locationextremity</span> <span title=\"0.258\" style=\"background-color: rgba(252, 185, 159, 0.5);\">.injuryblunt</span> <span title=\"0.073\" style=\"background-color: rgba(254, 233, 223, 0.5);\">injury</span> <span title=\"0.052\" style=\"background-color: rgba(254, 236, 227, 0.5);\">.</span> <span title=\"0.276\" style=\"background-color: rgba(252, 178, 151, 0.5);\">xxup</span> <span title=\"0.068\" style=\"background-color: rgba(254, 233, 224, 0.5);\">.injurydesc</span> <span title=\"0.642\" style=\"background-color: rgba(233, 53, 41, 0.5);\">.</span> <span title=\"0.108\" style=\"background-color: rgba(254, 227, 214, 0.5);\">xxmaj</span> <span title=\"0.046\" style=\"background-color: rgba(254, 237, 229, 0.5);\">abrasion</span> <span title=\"0.046\" style=\"background-color: rgba(254, 237, 229, 0.5);\">,</span> <span title=\"0.091\" style=\"background-color: rgba(254, 229, 218, 0.5);\">scabbed</span> <span title=\"0.023\" style=\"background-color: rgba(254, 241, 235, 0.5);\">0.5</span> <span title=\"0.034\" style=\"background-color: rgba(254, 239, 232, 0.5);\">cm</span> <span title=\"0.084\" style=\"background-color: rgba(254, 231, 220, 0.5);\">width</span> <span title=\"0.317\" style=\"background-color: rgba(252, 164, 135, 0.5);\">x</span> <span title=\"0.297\" style=\"background-color: rgba(252, 171, 142, 0.5);\">0.5</span> <span title=\"0.158\" style=\"background-color: rgba(253, 214, 197, 0.5);\">cm</span> <span title=\"0.226\" style=\"background-color: rgba(252, 194, 171, 0.5);\">height</span> <span title=\"0.164\" style=\"background-color: rgba(253, 212, 194, 0.5);\">to</span> <span title=\"0.099\" style=\"background-color: rgba(254, 228, 216, 0.5);\">left</span> <span title=\"0.284\" style=\"background-color: rgba(252, 176, 148, 0.5);\">lower</span> <span title=\"0.168\" style=\"background-color: rgba(253, 211, 192, 0.5);\">leg</span> <span title=\"0.129\" style=\"background-color: rgba(253, 222, 208, 0.5);\">medial</span> <span title=\"0.061\" style=\"background-color: rgba(254, 235, 225, 0.5);\">and</span> <span title=\"0.402\" style=\"background-color: rgba(251, 136, 104, 0.5);\">distal</span> <span title=\"0.099\" style=\"background-color: rgba(254, 228, 216, 0.5);\">to</span> <span title=\"0.038\" style=\"background-color: rgba(254, 239, 231, 0.5);\">patella</span> <span title=\"0.467\" style=\"background-color: rgba(251, 116, 84, 0.5);\">.locationextremity</span> <span title=\"0.109\" style=\"background-color: rgba(254, 227, 214, 0.5);\">.injuryblunt</span> <span title=\"0.390\" style=\"background-color: rgba(251, 141, 109, 0.5);\">injury</span> <span title=\"0.228\" style=\"background-color: rgba(252, 193, 169, 0.5);\">.</span> <span title=\"0.103\" style=\"background-color: rgba(254, 227, 215, 0.5);\">xxup</span> <span title=\"0.080\" style=\"background-color: rgba(254, 231, 221, 0.5);\">.injurydesc</span> <span title=\"0.049\" style=\"background-color: rgba(254, 237, 228, 0.5);\">.</span> <span title=\"0.072\" style=\"background-color: rgba(254, 233, 223, 0.5);\">xxmaj</span> <span title=\"0.021\" style=\"background-color: rgba(254, 241, 235, 0.5);\">abrasion</span> <span title=\"0.028\" style=\"background-color: rgba(254, 240, 233, 0.5);\">,</span> <span title=\"0.063\" style=\"background-color: rgba(254, 234, 224, 0.5);\">scabbed</span> <span title=\"0.198\" style=\"background-color: rgba(252, 202, 182, 0.5);\">0.5</span> <span title=\"0.042\" style=\"background-color: rgba(254, 238, 230, 0.5);\">cm</span> <span title=\"0.141\" style=\"background-color: rgba(253, 219, 203, 0.5);\">width</span> <span title=\"0.054\" style=\"background-color: rgba(254, 236, 227, 0.5);\">x</span> <span title=\"0.025\" style=\"background-color: rgba(254, 241, 234, 0.5);\">0.5</span> <span title=\"0.082\" style=\"background-color: rgba(254, 231, 220, 0.5);\">cm</span> <span title=\"0.036\" style=\"background-color: rgba(254, 239, 231, 0.5);\">height</span> <span title=\"0.037\" style=\"background-color: rgba(254, 239, 231, 0.5);\">to</span> <span title=\"0.024\" style=\"background-color: rgba(254, 241, 234, 0.5);\">left</span> <span title=\"0.123\" style=\"background-color: rgba(254, 224, 210, 0.5);\">lower</span> <span title=\"0.044\" style=\"background-color: rgba(254, 237, 229, 0.5);\">leg</span> <span title=\"0.039\" style=\"background-color: rgba(254, 239, 231, 0.5);\">lateral</span> <span title=\"0.049\" style=\"background-color: rgba(254, 237, 228, 0.5);\">and</span> <span title=\"0.044\" style=\"background-color: rgba(254, 237, 229, 0.5);\">distal</span> <span title=\"0.078\" style=\"background-color: rgba(254, 232, 222, 0.5);\">to</span> <span title=\"0.035\" style=\"background-color: rgba(254, 239, 232, 0.5);\">patella</span> <span title=\"0.075\" style=\"background-color: rgba(254, 232, 222, 0.5);\">.</span></span>"
      ],
      "text/plain": [
       "<IPython.core.display.HTML object>"
      ]
     },
     "metadata": {},
     "output_type": "display_data"
    }
   ],
   "source": [
    "interpret_result(107)"
   ]
  },
  {
   "cell_type": "code",
   "execution_count": 36,
   "metadata": {},
   "outputs": [
    {
     "name": "stdout",
     "output_type": "stream",
     "text": [
      "True Label: Suicide\n",
      "\n",
      "Pred Label: Suicide\n",
      "\n",
      "Class Probabilities: tensor([8.8779e-01, 1.1220e-01, 6.7895e-06, 1.8691e-06])\n",
      "\n",
      "***Raw Text***\n",
      "\n",
      ".MICRO.\n",
      "NONE\n",
      ".LOCATIONHead\n",
      ".INJURYFirearm injury.\n",
      ".INJURYDESC.\n",
      "Entrance: on the posterior left upper palate is an oblong 1.5 by 1.0 cm entrance gunshot wound without obvious soot deposition.\n",
      "\n",
      "Path: upper palate, sella turcica, basal ganglia at the midline, medial cerebral hemispheres and impacts left medial superior parietal skull. Associated injuries include subarachnoid hemorrhage.\n",
      "\n",
      "No exit\n",
      "\n",
      "Recovery: recovered from the left superior parietal skull is a jacketed 228.4 grain moderately deformed bullet.\n",
      "\n",
      "Trajectory:upwards and backwards\n",
      "\n",
      "Hands: negatve\n",
      "\n",
      "***Intrinsic Attention***\n"
     ]
    },
    {
     "data": {
      "text/html": [
       "<span style=\"font-family: monospace;\"><span title=\"0.150\" style=\"background-color: rgba(253, 216, 200, 0.5);\">xxbos</span> <span title=\"0.066\" style=\"background-color: rgba(254, 234, 224, 0.5);\">xxup</span> <span title=\"0.025\" style=\"background-color: rgba(254, 241, 234, 0.5);\">.micro</span> <span title=\"0.138\" style=\"background-color: rgba(253, 220, 205, 0.5);\">.</span> <span title=\"0.029\" style=\"background-color: rgba(254, 240, 233, 0.5);\">xxup</span> <span title=\"0.024\" style=\"background-color: rgba(254, 241, 234, 0.5);\">none</span> <span title=\"0.058\" style=\"background-color: rgba(254, 235, 226, 0.5);\">.locationhead</span> <span title=\"0.296\" style=\"background-color: rgba(252, 172, 144, 0.5);\">.injuryfirearm</span> <span title=\"0.104\" style=\"background-color: rgba(254, 227, 215, 0.5);\">injury</span> <span title=\"0.375\" style=\"background-color: rgba(252, 146, 114, 0.5);\">.</span> <span title=\"0.090\" style=\"background-color: rgba(254, 230, 219, 0.5);\">xxup</span> <span title=\"0.495\" style=\"background-color: rgba(251, 107, 75, 0.5);\">.injurydesc</span> <span title=\"0.072\" style=\"background-color: rgba(254, 233, 223, 0.5);\">.</span> <span title=\"0.041\" style=\"background-color: rgba(254, 238, 230, 0.5);\">xxmaj</span> <span title=\"0.032\" style=\"background-color: rgba(254, 239, 232, 0.5);\">entrance</span> <span title=\"0.032\" style=\"background-color: rgba(254, 239, 232, 0.5);\">:</span> <span title=\"0.086\" style=\"background-color: rgba(254, 230, 219, 0.5);\">on</span> <span title=\"0.042\" style=\"background-color: rgba(254, 238, 230, 0.5);\">the</span> <span title=\"0.065\" style=\"background-color: rgba(254, 234, 224, 0.5);\">posterior</span> <span title=\"0.193\" style=\"background-color: rgba(252, 204, 183, 0.5);\">left</span> <span title=\"0.836\" style=\"background-color: rgba(175, 17, 23, 0.5);\">upper</span> <span title=\"0.252\" style=\"background-color: rgba(252, 186, 160, 0.5);\">palate</span> <span title=\"0.247\" style=\"background-color: rgba(252, 187, 162, 0.5);\">is</span> <span title=\"0.122\" style=\"background-color: rgba(254, 224, 210, 0.5);\">an</span> <span title=\"0.306\" style=\"background-color: rgba(252, 168, 139, 0.5);\">oblong</span> <span title=\"0.239\" style=\"background-color: rgba(252, 190, 165, 0.5);\">1.5</span> <span title=\"0.446\" style=\"background-color: rgba(251, 122, 90, 0.5);\">by</span> <span title=\"1.000\" style=\"background-color: rgba(103, 0, 12, 0.5);\">1.0</span> <span title=\"0.112\" style=\"background-color: rgba(254, 226, 213, 0.5);\">cm</span> <span title=\"0.212\" style=\"background-color: rgba(252, 198, 175, 0.5);\">entrance</span> <span title=\"0.813\" style=\"background-color: rgba(183, 19, 24, 0.5);\">gunshot</span> <span title=\"0.284\" style=\"background-color: rgba(252, 176, 148, 0.5);\">wound</span> <span title=\"0.217\" style=\"background-color: rgba(252, 197, 174, 0.5);\">without</span> <span title=\"0.304\" style=\"background-color: rgba(252, 169, 141, 0.5);\">obvious</span> <span title=\"0.118\" style=\"background-color: rgba(254, 225, 211, 0.5);\">soot</span> <span title=\"0.473\" style=\"background-color: rgba(251, 114, 82, 0.5);\">deposition</span> <span title=\"0.320\" style=\"background-color: rgba(252, 164, 135, 0.5);\">.</span> <span title=\"0.191\" style=\"background-color: rgba(252, 205, 185, 0.5);\">xxmaj</span> <span title=\"0.320\" style=\"background-color: rgba(252, 164, 135, 0.5);\">path</span> <span title=\"0.301\" style=\"background-color: rgba(252, 169, 141, 0.5);\">:</span> <span title=\"0.226\" style=\"background-color: rgba(252, 194, 171, 0.5);\">upper</span> <span title=\"0.101\" style=\"background-color: rgba(254, 228, 216, 0.5);\">palate</span> <span title=\"0.034\" style=\"background-color: rgba(254, 239, 232, 0.5);\">,</span> <span title=\"0.037\" style=\"background-color: rgba(254, 239, 231, 0.5);\">sella</span> <span title=\"0.085\" style=\"background-color: rgba(254, 231, 220, 0.5);\">turcica</span> <span title=\"0.345\" style=\"background-color: rgba(252, 155, 125, 0.5);\">,</span> <span title=\"0.124\" style=\"background-color: rgba(254, 224, 210, 0.5);\">basal</span> <span title=\"0.469\" style=\"background-color: rgba(251, 115, 83, 0.5);\">ganglia</span> <span title=\"0.898\" style=\"background-color: rgba(153, 12, 19, 0.5);\">at</span> <span title=\"0.128\" style=\"background-color: rgba(253, 223, 209, 0.5);\">the</span> <span title=\"0.720\" style=\"background-color: rgba(211, 31, 32, 0.5);\">midline</span> <span title=\"0.229\" style=\"background-color: rgba(252, 193, 169, 0.5);\">,</span> <span title=\"0.038\" style=\"background-color: rgba(254, 239, 231, 0.5);\">medial</span> <span title=\"0.424\" style=\"background-color: rgba(251, 130, 98, 0.5);\">cerebral</span> <span title=\"0.420\" style=\"background-color: rgba(251, 131, 99, 0.5);\">hemispheres</span> <span title=\"0.089\" style=\"background-color: rgba(254, 230, 219, 0.5);\">and</span> <span title=\"0.061\" style=\"background-color: rgba(254, 235, 225, 0.5);\">impacts</span> <span title=\"0.077\" style=\"background-color: rgba(254, 232, 222, 0.5);\">left</span> <span title=\"0.068\" style=\"background-color: rgba(254, 233, 224, 0.5);\">medial</span> <span title=\"0.165\" style=\"background-color: rgba(253, 212, 194, 0.5);\">superior</span> <span title=\"0.255\" style=\"background-color: rgba(252, 185, 159, 0.5);\">parietal</span> <span title=\"0.157\" style=\"background-color: rgba(253, 214, 197, 0.5);\">skull</span> <span title=\"0.089\" style=\"background-color: rgba(254, 230, 219, 0.5);\">.</span> <span title=\"0.276\" style=\"background-color: rgba(252, 178, 151, 0.5);\">xxmaj</span> <span title=\"0.112\" style=\"background-color: rgba(254, 226, 213, 0.5);\">associated</span> <span title=\"0.227\" style=\"background-color: rgba(252, 193, 169, 0.5);\">injuries</span> <span title=\"0.194\" style=\"background-color: rgba(252, 204, 183, 0.5);\">include</span> <span title=\"0.140\" style=\"background-color: rgba(253, 220, 205, 0.5);\">subarachnoid</span> <span title=\"0.134\" style=\"background-color: rgba(253, 221, 206, 0.5);\">hemorrhage</span> <span title=\"0.047\" style=\"background-color: rgba(254, 237, 228, 0.5);\">.</span> <span title=\"0.072\" style=\"background-color: rgba(254, 233, 223, 0.5);\">xxmaj</span> <span title=\"0.177\" style=\"background-color: rgba(253, 208, 189, 0.5);\">no</span> <span title=\"0.127\" style=\"background-color: rgba(253, 223, 209, 0.5);\">exit</span> <span title=\"0.087\" style=\"background-color: rgba(254, 230, 219, 0.5);\">xxmaj</span> <span title=\"0.169\" style=\"background-color: rgba(253, 211, 192, 0.5);\">recovery</span> <span title=\"0.061\" style=\"background-color: rgba(254, 235, 225, 0.5);\">:</span> <span title=\"0.020\" style=\"background-color: rgba(254, 241, 235, 0.5);\">recovered</span> <span title=\"0.017\" style=\"background-color: rgba(254, 242, 236, 0.5);\">from</span> <span title=\"0.026\" style=\"background-color: rgba(254, 241, 234, 0.5);\">the</span> <span title=\"0.103\" style=\"background-color: rgba(254, 227, 215, 0.5);\">left</span> <span title=\"0.213\" style=\"background-color: rgba(252, 198, 175, 0.5);\">superior</span> <span title=\"0.073\" style=\"background-color: rgba(254, 233, 223, 0.5);\">parietal</span> <span title=\"0.059\" style=\"background-color: rgba(254, 235, 226, 0.5);\">skull</span> <span title=\"0.323\" style=\"background-color: rgba(252, 163, 134, 0.5);\">is</span> <span title=\"0.075\" style=\"background-color: rgba(254, 232, 222, 0.5);\">a</span> <span title=\"0.168\" style=\"background-color: rgba(253, 212, 194, 0.5);\">jacketed</span> <span title=\"0.079\" style=\"background-color: rgba(254, 231, 221, 0.5);\">xxunk</span> <span title=\"0.058\" style=\"background-color: rgba(254, 235, 226, 0.5);\">grain</span> <span title=\"0.075\" style=\"background-color: rgba(254, 232, 222, 0.5);\">moderately</span> <span title=\"0.097\" style=\"background-color: rgba(254, 229, 217, 0.5);\">deformed</span> <span title=\"0.105\" style=\"background-color: rgba(254, 227, 215, 0.5);\">bullet</span> <span title=\"0.102\" style=\"background-color: rgba(254, 227, 215, 0.5);\">.</span> <span title=\"0.049\" style=\"background-color: rgba(254, 237, 228, 0.5);\">xxmaj</span> <span title=\"0.052\" style=\"background-color: rgba(254, 236, 227, 0.5);\">trajectory</span> <span title=\"0.207\" style=\"background-color: rgba(252, 199, 177, 0.5);\">:</span> <span title=\"0.121\" style=\"background-color: rgba(254, 225, 211, 0.5);\">upwards</span> <span title=\"0.131\" style=\"background-color: rgba(253, 222, 208, 0.5);\">and</span> <span title=\"0.151\" style=\"background-color: rgba(253, 216, 200, 0.5);\">backwards</span> <span title=\"0.128\" style=\"background-color: rgba(253, 223, 209, 0.5);\">xxmaj</span> <span title=\"0.141\" style=\"background-color: rgba(253, 220, 205, 0.5);\">hands</span> <span title=\"0.037\" style=\"background-color: rgba(254, 239, 231, 0.5);\">:</span> <span title=\"0.021\" style=\"background-color: rgba(254, 241, 235, 0.5);\">xxunk</span></span>"
      ],
      "text/plain": [
       "<IPython.core.display.HTML object>"
      ]
     },
     "metadata": {},
     "output_type": "display_data"
    }
   ],
   "source": [
    "interpret_result(117)"
   ]
  },
  {
   "cell_type": "code",
   "execution_count": 37,
   "metadata": {},
   "outputs": [
    {
     "name": "stdout",
     "output_type": "stream",
     "text": [
      "True Label: Natural\n",
      "\n",
      "Pred Label: Accident\n",
      "\n",
      "Class Probabilities: tensor([0.0052, 0.3106, 0.6664, 0.0178])\n",
      "\n",
      "***Raw Text***\n",
      "\n",
      ".MICRO.\n",
      "NONE\n",
      ".LOCATIONHead\n",
      ".INJURYBlunt injury.\n",
      ".INJURYDESC.\n",
      "There are bilateral, blue-green, periorbital contusions and there is an avulsed laceration of the left scalp.\n",
      "\n",
      "***Intrinsic Attention***\n"
     ]
    },
    {
     "data": {
      "text/html": [
       "<span style=\"font-family: monospace;\"><span title=\"0.057\" style=\"background-color: rgba(254, 235, 226, 0.5);\">xxbos</span> <span title=\"0.026\" style=\"background-color: rgba(254, 241, 234, 0.5);\">xxup</span> <span title=\"0.018\" style=\"background-color: rgba(254, 242, 236, 0.5);\">.micro</span> <span title=\"0.106\" style=\"background-color: rgba(254, 227, 214, 0.5);\">.</span> <span title=\"0.023\" style=\"background-color: rgba(254, 241, 235, 0.5);\">xxup</span> <span title=\"0.024\" style=\"background-color: rgba(254, 241, 234, 0.5);\">none</span> <span title=\"0.054\" style=\"background-color: rgba(254, 236, 227, 0.5);\">.locationhead</span> <span title=\"0.181\" style=\"background-color: rgba(253, 207, 188, 0.5);\">.injuryblunt</span> <span title=\"0.099\" style=\"background-color: rgba(254, 228, 216, 0.5);\">injury</span> <span title=\"0.384\" style=\"background-color: rgba(251, 143, 111, 0.5);\">.</span> <span title=\"0.073\" style=\"background-color: rgba(254, 233, 223, 0.5);\">xxup</span> <span title=\"0.253\" style=\"background-color: rgba(252, 186, 160, 0.5);\">.injurydesc</span> <span title=\"0.050\" style=\"background-color: rgba(254, 237, 228, 0.5);\">.</span> <span title=\"0.026\" style=\"background-color: rgba(254, 241, 234, 0.5);\">xxmaj</span> <span title=\"0.028\" style=\"background-color: rgba(254, 240, 233, 0.5);\">there</span> <span title=\"0.039\" style=\"background-color: rgba(254, 238, 230, 0.5);\">are</span> <span title=\"0.065\" style=\"background-color: rgba(254, 234, 224, 0.5);\">bilateral</span> <span title=\"0.023\" style=\"background-color: rgba(254, 241, 235, 0.5);\">,</span> <span title=\"0.078\" style=\"background-color: rgba(254, 231, 221, 0.5);\">blue</span> <span title=\"0.164\" style=\"background-color: rgba(253, 212, 194, 0.5);\">-</span> <span title=\"0.276\" style=\"background-color: rgba(252, 178, 151, 0.5);\">green</span> <span title=\"0.195\" style=\"background-color: rgba(252, 204, 183, 0.5);\">,</span> <span title=\"1.000\" style=\"background-color: rgba(103, 0, 12, 0.5);\">periorbital</span> <span title=\"0.225\" style=\"background-color: rgba(252, 194, 171, 0.5);\">contusions</span> <span title=\"0.418\" style=\"background-color: rgba(251, 131, 99, 0.5);\">and</span> <span title=\"0.104\" style=\"background-color: rgba(254, 227, 215, 0.5);\">there</span> <span title=\"0.264\" style=\"background-color: rgba(252, 182, 156, 0.5);\">is</span> <span title=\"0.138\" style=\"background-color: rgba(253, 220, 205, 0.5);\">an</span> <span title=\"0.665\" style=\"background-color: rgba(227, 47, 39, 0.5);\">avulsed</span> <span title=\"0.446\" style=\"background-color: rgba(251, 122, 90, 0.5);\">laceration</span> <span title=\"0.107\" style=\"background-color: rgba(254, 227, 214, 0.5);\">of</span> <span title=\"0.222\" style=\"background-color: rgba(252, 195, 172, 0.5);\">the</span> <span title=\"0.090\" style=\"background-color: rgba(254, 229, 218, 0.5);\">left</span> <span title=\"0.087\" style=\"background-color: rgba(254, 230, 219, 0.5);\">scalp</span> <span title=\"0.523\" style=\"background-color: rgba(248, 97, 68, 0.5);\">.</span></span>"
      ],
      "text/plain": [
       "<IPython.core.display.HTML object>"
      ]
     },
     "metadata": {},
     "output_type": "display_data"
    }
   ],
   "source": [
    "interpret_result(134)"
   ]
  },
  {
   "cell_type": "code",
   "execution_count": 38,
   "metadata": {},
   "outputs": [
    {
     "name": "stdout",
     "output_type": "stream",
     "text": [
      "True Label: Natural\n",
      "\n",
      "Pred Label: Accident\n",
      "\n",
      "Class Probabilities: tensor([0.0161, 0.2537, 0.5995, 0.1307])\n",
      "\n",
      "***Raw Text***\n",
      "\n",
      ".MICRO.\n",
      "Heart: negative\n",
      "\n",
      "Lungs: bronchopneumonia\n",
      "\n",
      "Kidney: negative\n",
      "\n",
      "Liver: severe fatty change with individual hepatic cell necrosis (alcoholic hepatitis)\n",
      "\n",
      "Pancreas: acute pancreatitis\n",
      "\n",
      "Adrenal: cortical hemorrhage\n",
      "\n",
      "\n",
      ".LOCATIONHead\n",
      ".INJURYBlunt injury.\n",
      ".INJURYDESC.\n",
      "On the left side of the forehead is a 0.8 x 0.5 cm abrasion in the middle of a raised 4 x 4 cm blue contusion.\n",
      "\n",
      "There is extensive subscalpular contusion of the left side of the head most pronounced in the frontal and temporal areas.\n",
      "\n",
      "There is bilateral healing periorbital contusion greater on the fright than the left.\n",
      "\n",
      "On the right side of the face there is faint healing contusion that is a dependent continuation of the right periorbital contusion.\n",
      "\n",
      "There are no internal head or brain injuries.\n",
      "\n",
      ".LOCATIONExtremity\n",
      ".INJURYBlunt injury.\n",
      ".INJURYDESC.\n",
      "There is a 2 x 2 cm irregular abrasion surrounded by an 8 x 4 cm contusion on the top of the left shoulder.\n",
      "\n",
      "On the anterior mid right upper arm is a 3.5 x 3.0 cm blue contusion.\n",
      "\n",
      ".LOCATIONExtremity\n",
      ".INJURYBlunt injury.\n",
      ".INJURYDESC.\n",
      "On the lateral right hip and right upper thigh is a 17 x 15 cm purple/blue contusion.\n",
      "\n",
      "Just below th right knee is a 0.5 cm abrasion.\n",
      "\n",
      "On the left hip overlying the left anterior iliac crest is a 2 x 1.5 cm contusion.\n",
      "\n",
      "On the anterior right mid shin is a 0.5 cm abrasion surrounded by a 2 x 1.5 cm contusion.\n",
      "\n",
      "Overlying the right knee are two duperficial abrasions surrounded by an 8 x 2 cm contusion.\n",
      "\n",
      "There are numerous discontinuous abrasions and contusions of the left shin.\n",
      " On the outside of the left foot is a 3 x 2.5 cm contusion.\n",
      "\n",
      "***Intrinsic Attention***\n"
     ]
    },
    {
     "data": {
      "text/html": [
       "<span style=\"font-family: monospace;\"><span title=\"0.060\" style=\"background-color: rgba(254, 235, 225, 0.5);\">xxbos</span> <span title=\"0.029\" style=\"background-color: rgba(254, 240, 233, 0.5);\">xxup</span> <span title=\"0.018\" style=\"background-color: rgba(254, 242, 236, 0.5);\">.micro</span> <span title=\"0.069\" style=\"background-color: rgba(254, 233, 224, 0.5);\">.</span> <span title=\"0.031\" style=\"background-color: rgba(254, 240, 233, 0.5);\">xxmaj</span> <span title=\"0.019\" style=\"background-color: rgba(254, 242, 236, 0.5);\">heart</span> <span title=\"0.055\" style=\"background-color: rgba(254, 236, 227, 0.5);\">:</span> <span title=\"0.199\" style=\"background-color: rgba(252, 201, 180, 0.5);\">negative</span> <span title=\"0.036\" style=\"background-color: rgba(254, 239, 231, 0.5);\">xxmaj</span> <span title=\"0.308\" style=\"background-color: rgba(252, 168, 139, 0.5);\">lungs</span> <span title=\"0.037\" style=\"background-color: rgba(254, 239, 231, 0.5);\">:</span> <span title=\"0.044\" style=\"background-color: rgba(254, 237, 229, 0.5);\">bronchopneumonia</span> <span title=\"0.169\" style=\"background-color: rgba(253, 211, 192, 0.5);\">xxmaj</span> <span title=\"0.029\" style=\"background-color: rgba(254, 240, 233, 0.5);\">kidney</span> <span title=\"0.295\" style=\"background-color: rgba(252, 172, 144, 0.5);\">:</span> <span title=\"0.038\" style=\"background-color: rgba(254, 239, 231, 0.5);\">negative</span> <span title=\"0.033\" style=\"background-color: rgba(254, 239, 232, 0.5);\">xxmaj</span> <span title=\"0.261\" style=\"background-color: rgba(252, 184, 157, 0.5);\">liver</span> <span title=\"0.029\" style=\"background-color: rgba(254, 240, 233, 0.5);\">:</span> <span title=\"0.314\" style=\"background-color: rgba(252, 166, 137, 0.5);\">severe</span> <span title=\"0.058\" style=\"background-color: rgba(254, 235, 226, 0.5);\">fatty</span> <span title=\"0.042\" style=\"background-color: rgba(254, 238, 230, 0.5);\">change</span> <span title=\"0.212\" style=\"background-color: rgba(252, 198, 175, 0.5);\">with</span> <span title=\"0.041\" style=\"background-color: rgba(254, 238, 230, 0.5);\">individual</span> <span title=\"0.267\" style=\"background-color: rgba(252, 181, 154, 0.5);\">hepatic</span> <span title=\"0.347\" style=\"background-color: rgba(252, 155, 125, 0.5);\">cell</span> <span title=\"0.297\" style=\"background-color: rgba(252, 171, 142, 0.5);\">necrosis</span> <span title=\"0.149\" style=\"background-color: rgba(253, 216, 200, 0.5);\">(</span> <span title=\"0.320\" style=\"background-color: rgba(252, 164, 135, 0.5);\">alcoholic</span> <span title=\"0.298\" style=\"background-color: rgba(252, 171, 142, 0.5);\">hepatitis</span> <span title=\"0.269\" style=\"background-color: rgba(252, 181, 154, 0.5);\">)</span> <span title=\"0.152\" style=\"background-color: rgba(253, 216, 200, 0.5);\">xxmaj</span> <span title=\"0.058\" style=\"background-color: rgba(254, 235, 226, 0.5);\">pancreas</span> <span title=\"0.347\" style=\"background-color: rgba(252, 155, 125, 0.5);\">:</span> <span title=\"0.233\" style=\"background-color: rgba(252, 192, 168, 0.5);\">acute</span> <span title=\"0.056\" style=\"background-color: rgba(254, 235, 226, 0.5);\">pancreatitis</span> <span title=\"0.050\" style=\"background-color: rgba(254, 237, 228, 0.5);\">xxmaj</span> <span title=\"0.073\" style=\"background-color: rgba(254, 233, 223, 0.5);\">adrenal</span> <span title=\"0.415\" style=\"background-color: rgba(251, 132, 100, 0.5);\">:</span> <span title=\"0.050\" style=\"background-color: rgba(254, 237, 228, 0.5);\">cortical</span> <span title=\"0.328\" style=\"background-color: rgba(252, 160, 131, 0.5);\">hemorrhage</span> <span title=\"0.415\" style=\"background-color: rgba(251, 132, 100, 0.5);\">.locationhead</span> <span title=\"0.053\" style=\"background-color: rgba(254, 236, 227, 0.5);\">.injuryblunt</span> <span title=\"0.130\" style=\"background-color: rgba(253, 222, 208, 0.5);\">injury</span> <span title=\"1.000\" style=\"background-color: rgba(103, 0, 12, 0.5);\">.</span> <span title=\"0.241\" style=\"background-color: rgba(252, 190, 165, 0.5);\">xxup</span> <span title=\"0.585\" style=\"background-color: rgba(242, 74, 53, 0.5);\">.injurydesc</span> <span title=\"0.345\" style=\"background-color: rgba(252, 155, 125, 0.5);\">.</span> <span title=\"0.192\" style=\"background-color: rgba(252, 204, 183, 0.5);\">xxmaj</span> <span title=\"0.529\" style=\"background-color: rgba(248, 94, 66, 0.5);\">on</span> <span title=\"0.069\" style=\"background-color: rgba(254, 233, 224, 0.5);\">the</span> <span title=\"0.258\" style=\"background-color: rgba(252, 185, 159, 0.5);\">left</span> <span title=\"0.050\" style=\"background-color: rgba(254, 237, 228, 0.5);\">side</span> <span title=\"0.015\" style=\"background-color: rgba(254, 243, 237, 0.5);\">of</span> <span title=\"0.018\" style=\"background-color: rgba(254, 242, 236, 0.5);\">the</span> <span title=\"0.016\" style=\"background-color: rgba(254, 242, 236, 0.5);\">forehead</span> <span title=\"0.055\" style=\"background-color: rgba(254, 235, 226, 0.5);\">is</span> <span title=\"0.030\" style=\"background-color: rgba(254, 240, 233, 0.5);\">a</span> <span title=\"0.032\" style=\"background-color: rgba(254, 239, 232, 0.5);\">0.8</span> <span title=\"0.052\" style=\"background-color: rgba(254, 236, 227, 0.5);\">x</span> <span title=\"0.181\" style=\"background-color: rgba(253, 207, 188, 0.5);\">0.5</span> <span title=\"0.091\" style=\"background-color: rgba(254, 229, 218, 0.5);\">cm</span> <span title=\"0.203\" style=\"background-color: rgba(252, 201, 180, 0.5);\">abrasion</span> <span title=\"0.379\" style=\"background-color: rgba(251, 144, 112, 0.5);\">in</span> <span title=\"0.103\" style=\"background-color: rgba(254, 227, 215, 0.5);\">the</span> <span title=\"0.096\" style=\"background-color: rgba(254, 229, 217, 0.5);\">middle</span> <span title=\"0.535\" style=\"background-color: rgba(247, 91, 65, 0.5);\">of</span> <span title=\"0.195\" style=\"background-color: rgba(252, 204, 183, 0.5);\">a</span> <span title=\"0.125\" style=\"background-color: rgba(253, 223, 209, 0.5);\">raised</span> <span title=\"0.265\" style=\"background-color: rgba(252, 182, 156, 0.5);\">4</span> <span title=\"0.136\" style=\"background-color: rgba(253, 221, 206, 0.5);\">x</span> <span title=\"0.210\" style=\"background-color: rgba(252, 199, 177, 0.5);\">4</span> <span title=\"0.100\" style=\"background-color: rgba(254, 228, 216, 0.5);\">cm</span> <span title=\"0.365\" style=\"background-color: rgba(252, 149, 117, 0.5);\">blue</span> <span title=\"0.190\" style=\"background-color: rgba(252, 205, 185, 0.5);\">contusion</span> <span title=\"0.093\" style=\"background-color: rgba(254, 229, 218, 0.5);\">.</span> <span title=\"0.243\" style=\"background-color: rgba(252, 189, 163, 0.5);\">xxmaj</span> <span title=\"0.105\" style=\"background-color: rgba(254, 227, 215, 0.5);\">there</span> <span title=\"0.097\" style=\"background-color: rgba(254, 229, 217, 0.5);\">is</span> <span title=\"0.286\" style=\"background-color: rgba(252, 175, 147, 0.5);\">extensive</span> <span title=\"0.065\" style=\"background-color: rgba(254, 234, 224, 0.5);\">subscalpular</span> <span title=\"0.054\" style=\"background-color: rgba(254, 236, 227, 0.5);\">contusion</span> <span title=\"0.043\" style=\"background-color: rgba(254, 237, 229, 0.5);\">of</span> <span title=\"0.046\" style=\"background-color: rgba(254, 237, 229, 0.5);\">the</span> <span title=\"0.176\" style=\"background-color: rgba(253, 208, 189, 0.5);\">left</span> <span title=\"0.104\" style=\"background-color: rgba(254, 227, 215, 0.5);\">side</span> <span title=\"0.038\" style=\"background-color: rgba(254, 239, 231, 0.5);\">of</span> <span title=\"0.037\" style=\"background-color: rgba(254, 239, 231, 0.5);\">the</span> <span title=\"0.107\" style=\"background-color: rgba(254, 227, 214, 0.5);\">head</span> <span title=\"0.125\" style=\"background-color: rgba(254, 224, 210, 0.5);\">most</span> <span title=\"0.092\" style=\"background-color: rgba(254, 229, 218, 0.5);\">pronounced</span> <span title=\"0.325\" style=\"background-color: rgba(252, 162, 132, 0.5);\">in</span> <span title=\"0.981\" style=\"background-color: rgba(110, 1, 14, 0.5);\">the</span> <span title=\"0.237\" style=\"background-color: rgba(252, 191, 166, 0.5);\">frontal</span> <span title=\"0.098\" style=\"background-color: rgba(254, 228, 216, 0.5);\">and</span> <span title=\"0.083\" style=\"background-color: rgba(254, 231, 220, 0.5);\">temporal</span> <span title=\"0.148\" style=\"background-color: rgba(253, 218, 202, 0.5);\">areas</span> <span title=\"0.279\" style=\"background-color: rgba(252, 177, 150, 0.5);\">.</span> <span title=\"0.088\" style=\"background-color: rgba(254, 230, 219, 0.5);\">xxmaj</span> <span title=\"0.101\" style=\"background-color: rgba(254, 228, 216, 0.5);\">there</span> <span title=\"0.320\" style=\"background-color: rgba(252, 163, 134, 0.5);\">is</span> <span title=\"0.306\" style=\"background-color: rgba(252, 168, 139, 0.5);\">bilateral</span> <span title=\"0.281\" style=\"background-color: rgba(252, 177, 150, 0.5);\">healing</span> <span title=\"0.132\" style=\"background-color: rgba(253, 222, 208, 0.5);\">periorbital</span> <span title=\"0.083\" style=\"background-color: rgba(254, 231, 220, 0.5);\">contusion</span> <span title=\"0.296\" style=\"background-color: rgba(252, 172, 144, 0.5);\">greater</span> <span title=\"0.123\" style=\"background-color: rgba(254, 224, 210, 0.5);\">on</span> <span title=\"0.155\" style=\"background-color: rgba(253, 215, 199, 0.5);\">the</span> <span title=\"0.095\" style=\"background-color: rgba(254, 229, 217, 0.5);\">xxunk</span> <span title=\"0.047\" style=\"background-color: rgba(254, 237, 229, 0.5);\">than</span> <span title=\"0.052\" style=\"background-color: rgba(254, 236, 227, 0.5);\">the</span> <span title=\"0.057\" style=\"background-color: rgba(254, 235, 226, 0.5);\">left</span> <span title=\"0.155\" style=\"background-color: rgba(253, 215, 199, 0.5);\">.</span> <span title=\"0.106\" style=\"background-color: rgba(254, 227, 214, 0.5);\">xxmaj</span> <span title=\"0.356\" style=\"background-color: rgba(252, 151, 120, 0.5);\">on</span> <span title=\"0.427\" style=\"background-color: rgba(251, 129, 97, 0.5);\">the</span> <span title=\"0.445\" style=\"background-color: rgba(251, 124, 92, 0.5);\">right</span> <span title=\"0.168\" style=\"background-color: rgba(253, 211, 192, 0.5);\">side</span> <span title=\"0.308\" style=\"background-color: rgba(252, 168, 139, 0.5);\">of</span> <span title=\"0.130\" style=\"background-color: rgba(253, 222, 208, 0.5);\">the</span> <span title=\"0.054\" style=\"background-color: rgba(254, 236, 227, 0.5);\">face</span> <span title=\"0.197\" style=\"background-color: rgba(252, 202, 182, 0.5);\">there</span> <span title=\"0.183\" style=\"background-color: rgba(253, 207, 188, 0.5);\">is</span> <span title=\"0.059\" style=\"background-color: rgba(254, 235, 225, 0.5);\">faint</span> <span title=\"0.058\" style=\"background-color: rgba(254, 235, 226, 0.5);\">healing</span> <span title=\"0.037\" style=\"background-color: rgba(254, 239, 231, 0.5);\">contusion</span> <span title=\"0.033\" style=\"background-color: rgba(254, 239, 232, 0.5);\">that</span> <span title=\"0.075\" style=\"background-color: rgba(254, 232, 222, 0.5);\">is</span> <span title=\"0.193\" style=\"background-color: rgba(252, 204, 183, 0.5);\">a</span> <span title=\"0.076\" style=\"background-color: rgba(254, 232, 222, 0.5);\">dependent</span> <span title=\"0.117\" style=\"background-color: rgba(254, 225, 211, 0.5);\">continuation</span> <span title=\"0.275\" style=\"background-color: rgba(252, 178, 151, 0.5);\">of</span> <span title=\"0.068\" style=\"background-color: rgba(254, 233, 224, 0.5);\">the</span> <span title=\"0.102\" style=\"background-color: rgba(254, 227, 215, 0.5);\">right</span> <span title=\"0.543\" style=\"background-color: rgba(246, 89, 63, 0.5);\">periorbital</span> <span title=\"0.198\" style=\"background-color: rgba(252, 202, 182, 0.5);\">contusion</span> <span title=\"0.107\" style=\"background-color: rgba(254, 227, 214, 0.5);\">.</span> <span title=\"0.344\" style=\"background-color: rgba(252, 155, 125, 0.5);\">xxmaj</span> <span title=\"0.325\" style=\"background-color: rgba(252, 162, 132, 0.5);\">there</span> <span title=\"0.191\" style=\"background-color: rgba(252, 205, 185, 0.5);\">are</span> <span title=\"0.210\" style=\"background-color: rgba(252, 199, 177, 0.5);\">no</span> <span title=\"0.081\" style=\"background-color: rgba(254, 231, 221, 0.5);\">internal</span> <span title=\"0.100\" style=\"background-color: rgba(254, 228, 216, 0.5);\">head</span> <span title=\"0.456\" style=\"background-color: rgba(251, 120, 88, 0.5);\">or</span> <span title=\"0.397\" style=\"background-color: rgba(251, 139, 107, 0.5);\">brain</span> <span title=\"0.114\" style=\"background-color: rgba(254, 225, 212, 0.5);\">injuries</span> <span title=\"0.066\" style=\"background-color: rgba(254, 234, 224, 0.5);\">.</span> <span title=\"0.089\" style=\"background-color: rgba(254, 230, 219, 0.5);\">.locationextremity</span> <span title=\"0.185\" style=\"background-color: rgba(253, 206, 186, 0.5);\">.injuryblunt</span> <span title=\"0.051\" style=\"background-color: rgba(254, 236, 227, 0.5);\">injury</span> <span title=\"0.022\" style=\"background-color: rgba(254, 241, 235, 0.5);\">.</span> <span title=\"0.031\" style=\"background-color: rgba(254, 240, 233, 0.5);\">xxup</span> <span title=\"0.061\" style=\"background-color: rgba(254, 235, 225, 0.5);\">.injurydesc</span> <span title=\"0.106\" style=\"background-color: rgba(254, 227, 214, 0.5);\">.</span> <span title=\"0.087\" style=\"background-color: rgba(254, 230, 219, 0.5);\">xxmaj</span> <span title=\"0.189\" style=\"background-color: rgba(252, 205, 185, 0.5);\">there</span> <span title=\"0.727\" style=\"background-color: rgba(208, 29, 31, 0.5);\">is</span> <span title=\"0.835\" style=\"background-color: rgba(177, 17, 23, 0.5);\">a</span> <span title=\"0.305\" style=\"background-color: rgba(252, 168, 139, 0.5);\">2</span> <span title=\"0.217\" style=\"background-color: rgba(252, 197, 174, 0.5);\">x</span> <span title=\"0.084\" style=\"background-color: rgba(254, 231, 220, 0.5);\">2</span> <span title=\"0.017\" style=\"background-color: rgba(254, 242, 236, 0.5);\">cm</span> <span title=\"0.010\" style=\"background-color: rgba(254, 243, 238, 0.5);\">irregular</span> <span title=\"0.149\" style=\"background-color: rgba(253, 216, 200, 0.5);\">abrasion</span> <span title=\"0.026\" style=\"background-color: rgba(254, 241, 234, 0.5);\">surrounded</span> <span title=\"0.129\" style=\"background-color: rgba(253, 223, 209, 0.5);\">by</span> <span title=\"0.020\" style=\"background-color: rgba(254, 241, 235, 0.5);\">an</span> <span title=\"0.007\" style=\"background-color: rgba(254, 244, 239, 0.5);\">8</span> <span title=\"0.010\" style=\"background-color: rgba(254, 243, 238, 0.5);\">x</span> <span title=\"0.014\" style=\"background-color: rgba(254, 243, 237, 0.5);\">4</span> <span title=\"0.023\" style=\"background-color: rgba(254, 241, 235, 0.5);\">cm</span> <span title=\"0.011\" style=\"background-color: rgba(254, 243, 238, 0.5);\">contusion</span> <span title=\"0.011\" style=\"background-color: rgba(254, 243, 238, 0.5);\">on</span> <span title=\"0.043\" style=\"background-color: rgba(254, 238, 230, 0.5);\">the</span> <span title=\"0.058\" style=\"background-color: rgba(254, 235, 226, 0.5);\">top</span> <span title=\"0.035\" style=\"background-color: rgba(254, 239, 232, 0.5);\">of</span> <span title=\"0.059\" style=\"background-color: rgba(254, 235, 225, 0.5);\">the</span> <span title=\"0.123\" style=\"background-color: rgba(254, 224, 210, 0.5);\">left</span> <span title=\"0.073\" style=\"background-color: rgba(254, 233, 223, 0.5);\">shoulder</span> <span title=\"0.046\" style=\"background-color: rgba(254, 237, 229, 0.5);\">.</span> <span title=\"0.032\" style=\"background-color: rgba(254, 239, 232, 0.5);\">xxmaj</span> <span title=\"0.156\" style=\"background-color: rgba(253, 215, 199, 0.5);\">on</span> <span title=\"0.218\" style=\"background-color: rgba(252, 197, 174, 0.5);\">the</span> <span title=\"0.213\" style=\"background-color: rgba(252, 198, 175, 0.5);\">anterior</span> <span title=\"0.064\" style=\"background-color: rgba(254, 234, 224, 0.5);\">mid</span> <span title=\"0.099\" style=\"background-color: rgba(254, 228, 216, 0.5);\">right</span> <span title=\"0.170\" style=\"background-color: rgba(253, 211, 192, 0.5);\">upper</span> <span title=\"0.031\" style=\"background-color: rgba(254, 240, 233, 0.5);\">arm</span> <span title=\"0.027\" style=\"background-color: rgba(254, 241, 234, 0.5);\">is</span> <span title=\"0.021\" style=\"background-color: rgba(254, 241, 235, 0.5);\">a</span> <span title=\"0.068\" style=\"background-color: rgba(254, 233, 224, 0.5);\">3.5</span> <span title=\"0.066\" style=\"background-color: rgba(254, 234, 224, 0.5);\">x</span> <span title=\"0.066\" style=\"background-color: rgba(254, 234, 224, 0.5);\">3.0</span> <span title=\"0.155\" style=\"background-color: rgba(253, 215, 199, 0.5);\">cm</span> <span title=\"0.038\" style=\"background-color: rgba(254, 239, 231, 0.5);\">blue</span> <span title=\"0.022\" style=\"background-color: rgba(254, 241, 235, 0.5);\">contusion</span> <span title=\"0.038\" style=\"background-color: rgba(254, 239, 231, 0.5);\">.</span> <span title=\"0.111\" style=\"background-color: rgba(254, 226, 213, 0.5);\">.locationextremity</span> <span title=\"0.017\" style=\"background-color: rgba(254, 242, 236, 0.5);\">.injuryblunt</span> <span title=\"0.009\" style=\"background-color: rgba(254, 243, 238, 0.5);\">injury</span> <span title=\"0.022\" style=\"background-color: rgba(254, 241, 235, 0.5);\">.</span> <span title=\"0.083\" style=\"background-color: rgba(254, 231, 220, 0.5);\">xxup</span> <span title=\"0.032\" style=\"background-color: rgba(254, 239, 232, 0.5);\">.injurydesc</span> <span title=\"0.118\" style=\"background-color: rgba(254, 225, 211, 0.5);\">.</span> <span title=\"0.148\" style=\"background-color: rgba(253, 218, 202, 0.5);\">xxmaj</span> <span title=\"0.087\" style=\"background-color: rgba(254, 230, 219, 0.5);\">on</span> <span title=\"0.117\" style=\"background-color: rgba(254, 225, 212, 0.5);\">the</span> <span title=\"0.108\" style=\"background-color: rgba(254, 227, 214, 0.5);\">lateral</span> <span title=\"0.042\" style=\"background-color: rgba(254, 238, 230, 0.5);\">right</span> <span title=\"0.023\" style=\"background-color: rgba(254, 241, 235, 0.5);\">hip</span> <span title=\"0.103\" style=\"background-color: rgba(254, 227, 215, 0.5);\">and</span> <span title=\"0.035\" style=\"background-color: rgba(254, 239, 232, 0.5);\">right</span> <span title=\"0.071\" style=\"background-color: rgba(254, 233, 223, 0.5);\">upper</span> <span title=\"0.029\" style=\"background-color: rgba(254, 240, 233, 0.5);\">thigh</span> <span title=\"0.117\" style=\"background-color: rgba(254, 225, 212, 0.5);\">is</span> <span title=\"0.054\" style=\"background-color: rgba(254, 236, 227, 0.5);\">a</span> <span title=\"0.015\" style=\"background-color: rgba(254, 243, 237, 0.5);\">17</span> <span title=\"0.009\" style=\"background-color: rgba(254, 243, 238, 0.5);\">x</span> <span title=\"0.102\" style=\"background-color: rgba(254, 227, 215, 0.5);\">15</span> <span title=\"0.023\" style=\"background-color: rgba(254, 241, 235, 0.5);\">cm</span> <span title=\"0.104\" style=\"background-color: rgba(254, 227, 215, 0.5);\">purple</span> <span title=\"0.029\" style=\"background-color: rgba(254, 240, 233, 0.5);\">/</span> <span title=\"0.008\" style=\"background-color: rgba(254, 243, 238, 0.5);\">blue</span> <span title=\"0.009\" style=\"background-color: rgba(254, 243, 238, 0.5);\">contusion</span> <span title=\"0.012\" style=\"background-color: rgba(254, 243, 237, 0.5);\">.</span> <span title=\"0.021\" style=\"background-color: rgba(254, 241, 235, 0.5);\">xxmaj</span> <span title=\"0.009\" style=\"background-color: rgba(254, 243, 238, 0.5);\">just</span> <span title=\"0.011\" style=\"background-color: rgba(254, 243, 238, 0.5);\">below</span> <span title=\"0.041\" style=\"background-color: rgba(254, 238, 230, 0.5);\">th</span> <span title=\"0.079\" style=\"background-color: rgba(254, 231, 221, 0.5);\">right</span> <span title=\"0.076\" style=\"background-color: rgba(254, 232, 222, 0.5);\">knee</span> <span title=\"0.272\" style=\"background-color: rgba(252, 180, 153, 0.5);\">is</span> <span title=\"0.095\" style=\"background-color: rgba(254, 229, 217, 0.5);\">a</span> <span title=\"0.274\" style=\"background-color: rgba(252, 178, 151, 0.5);\">0.5</span> <span title=\"0.078\" style=\"background-color: rgba(254, 232, 222, 0.5);\">cm</span> <span title=\"0.114\" style=\"background-color: rgba(254, 225, 212, 0.5);\">abrasion</span> <span title=\"0.196\" style=\"background-color: rgba(252, 202, 182, 0.5);\">.</span> <span title=\"0.184\" style=\"background-color: rgba(253, 207, 188, 0.5);\">xxmaj</span> <span title=\"0.073\" style=\"background-color: rgba(254, 233, 223, 0.5);\">on</span> <span title=\"0.080\" style=\"background-color: rgba(254, 231, 221, 0.5);\">the</span> <span title=\"0.405\" style=\"background-color: rgba(251, 136, 104, 0.5);\">left</span> <span title=\"0.199\" style=\"background-color: rgba(252, 202, 182, 0.5);\">hip</span> <span title=\"0.085\" style=\"background-color: rgba(254, 231, 220, 0.5);\">overlying</span> <span title=\"0.050\" style=\"background-color: rgba(254, 237, 228, 0.5);\">the</span> <span title=\"0.191\" style=\"background-color: rgba(252, 205, 185, 0.5);\">left</span> <span title=\"0.101\" style=\"background-color: rgba(254, 228, 216, 0.5);\">anterior</span> <span title=\"0.070\" style=\"background-color: rgba(254, 233, 224, 0.5);\">iliac</span> <span title=\"0.082\" style=\"background-color: rgba(254, 231, 221, 0.5);\">crest</span> <span title=\"0.024\" style=\"background-color: rgba(254, 241, 234, 0.5);\">is</span> <span title=\"0.018\" style=\"background-color: rgba(254, 242, 236, 0.5);\">a</span> <span title=\"0.051\" style=\"background-color: rgba(254, 236, 227, 0.5);\">2</span> <span title=\"0.210\" style=\"background-color: rgba(252, 199, 177, 0.5);\">x</span> <span title=\"0.197\" style=\"background-color: rgba(252, 202, 182, 0.5);\">1.5</span> <span title=\"0.242\" style=\"background-color: rgba(252, 190, 165, 0.5);\">cm</span> <span title=\"0.118\" style=\"background-color: rgba(254, 225, 211, 0.5);\">contusion</span> <span title=\"0.107\" style=\"background-color: rgba(254, 227, 214, 0.5);\">.</span> <span title=\"0.055\" style=\"background-color: rgba(254, 235, 226, 0.5);\">xxmaj</span> <span title=\"0.046\" style=\"background-color: rgba(254, 237, 229, 0.5);\">on</span> <span title=\"0.104\" style=\"background-color: rgba(254, 227, 215, 0.5);\">the</span> <span title=\"0.044\" style=\"background-color: rgba(254, 237, 229, 0.5);\">anterior</span> <span title=\"0.131\" style=\"background-color: rgba(253, 222, 208, 0.5);\">right</span> <span title=\"0.023\" style=\"background-color: rgba(254, 241, 235, 0.5);\">mid</span> <span title=\"0.011\" style=\"background-color: rgba(254, 243, 238, 0.5);\">shin</span> <span title=\"0.036\" style=\"background-color: rgba(254, 239, 231, 0.5);\">is</span> <span title=\"0.071\" style=\"background-color: rgba(254, 233, 223, 0.5);\">a</span> <span title=\"0.029\" style=\"background-color: rgba(254, 240, 233, 0.5);\">0.5</span> <span title=\"0.080\" style=\"background-color: rgba(254, 231, 221, 0.5);\">cm</span> <span title=\"0.296\" style=\"background-color: rgba(252, 172, 144, 0.5);\">abrasion</span> <span title=\"0.230\" style=\"background-color: rgba(252, 193, 169, 0.5);\">surrounded</span> <span title=\"0.049\" style=\"background-color: rgba(254, 237, 228, 0.5);\">by</span> <span title=\"0.077\" style=\"background-color: rgba(254, 232, 222, 0.5);\">a</span> <span title=\"0.122\" style=\"background-color: rgba(254, 224, 210, 0.5);\">2</span> <span title=\"0.366\" style=\"background-color: rgba(252, 149, 117, 0.5);\">x</span> <span title=\"0.126\" style=\"background-color: rgba(253, 223, 209, 0.5);\">1.5</span> <span title=\"0.048\" style=\"background-color: rgba(254, 237, 228, 0.5);\">cm</span> <span title=\"0.049\" style=\"background-color: rgba(254, 237, 228, 0.5);\">contusion</span> <span title=\"0.062\" style=\"background-color: rgba(254, 235, 225, 0.5);\">.</span> <span title=\"0.030\" style=\"background-color: rgba(254, 240, 233, 0.5);\">xxmaj</span> <span title=\"0.051\" style=\"background-color: rgba(254, 236, 227, 0.5);\">overlying</span> <span title=\"0.022\" style=\"background-color: rgba(254, 241, 235, 0.5);\">the</span> <span title=\"0.108\" style=\"background-color: rgba(254, 227, 214, 0.5);\">right</span> <span title=\"0.017\" style=\"background-color: rgba(254, 242, 236, 0.5);\">knee</span> <span title=\"0.010\" style=\"background-color: rgba(254, 243, 238, 0.5);\">are</span> <span title=\"0.021\" style=\"background-color: rgba(254, 241, 235, 0.5);\">two</span> <span title=\"0.067\" style=\"background-color: rgba(254, 233, 224, 0.5);\">xxunk</span> <span title=\"0.030\" style=\"background-color: rgba(254, 240, 233, 0.5);\">abrasions</span> <span title=\"0.101\" style=\"background-color: rgba(254, 228, 216, 0.5);\">surrounded</span> <span title=\"0.071\" style=\"background-color: rgba(254, 233, 223, 0.5);\">by</span> <span title=\"0.188\" style=\"background-color: rgba(252, 205, 185, 0.5);\">an</span> <span title=\"0.156\" style=\"background-color: rgba(253, 215, 199, 0.5);\">8</span> <span title=\"0.050\" style=\"background-color: rgba(254, 237, 228, 0.5);\">x</span> <span title=\"0.046\" style=\"background-color: rgba(254, 237, 229, 0.5);\">2</span> <span title=\"0.086\" style=\"background-color: rgba(254, 231, 220, 0.5);\">cm</span> <span title=\"0.041\" style=\"background-color: rgba(254, 238, 230, 0.5);\">contusion</span> <span title=\"0.128\" style=\"background-color: rgba(253, 223, 209, 0.5);\">.</span> <span title=\"0.157\" style=\"background-color: rgba(253, 214, 197, 0.5);\">xxmaj</span> <span title=\"0.046\" style=\"background-color: rgba(254, 237, 229, 0.5);\">there</span> <span title=\"0.047\" style=\"background-color: rgba(254, 237, 229, 0.5);\">are</span> <span title=\"0.048\" style=\"background-color: rgba(254, 237, 228, 0.5);\">numerous</span> <span title=\"0.020\" style=\"background-color: rgba(254, 241, 235, 0.5);\">discontinuous</span> <span title=\"0.039\" style=\"background-color: rgba(254, 239, 231, 0.5);\">abrasions</span> <span title=\"0.012\" style=\"background-color: rgba(254, 243, 237, 0.5);\">and</span> <span title=\"0.060\" style=\"background-color: rgba(254, 235, 225, 0.5);\">contusions</span> <span title=\"0.013\" style=\"background-color: rgba(254, 243, 237, 0.5);\">of</span> <span title=\"0.015\" style=\"background-color: rgba(254, 243, 237, 0.5);\">the</span> <span title=\"0.042\" style=\"background-color: rgba(254, 238, 230, 0.5);\">left</span> <span title=\"0.173\" style=\"background-color: rgba(253, 209, 191, 0.5);\">shin</span> <span title=\"0.036\" style=\"background-color: rgba(254, 239, 231, 0.5);\">.</span> <span title=\"0.064\" style=\"background-color: rgba(254, 234, 224, 0.5);\">xxmaj</span> <span title=\"0.139\" style=\"background-color: rgba(253, 220, 205, 0.5);\">on</span> <span title=\"0.041\" style=\"background-color: rgba(254, 238, 230, 0.5);\">the</span> <span title=\"0.111\" style=\"background-color: rgba(254, 226, 213, 0.5);\">outside</span> <span title=\"0.264\" style=\"background-color: rgba(252, 182, 156, 0.5);\">of</span> <span title=\"0.200\" style=\"background-color: rgba(252, 201, 180, 0.5);\">the</span> <span title=\"0.231\" style=\"background-color: rgba(252, 192, 168, 0.5);\">left</span> <span title=\"0.074\" style=\"background-color: rgba(254, 232, 222, 0.5);\">foot</span> <span title=\"0.098\" style=\"background-color: rgba(254, 228, 216, 0.5);\">is</span> <span title=\"0.149\" style=\"background-color: rgba(253, 216, 200, 0.5);\">a</span> <span title=\"0.123\" style=\"background-color: rgba(254, 224, 210, 0.5);\">3</span> <span title=\"0.027\" style=\"background-color: rgba(254, 241, 234, 0.5);\">x</span> <span title=\"0.014\" style=\"background-color: rgba(254, 243, 237, 0.5);\">2.5</span> <span title=\"0.086\" style=\"background-color: rgba(254, 231, 220, 0.5);\">cm</span> <span title=\"0.019\" style=\"background-color: rgba(254, 242, 236, 0.5);\">contusion</span> <span title=\"0.013\" style=\"background-color: rgba(254, 243, 237, 0.5);\">.</span></span>"
      ],
      "text/plain": [
       "<IPython.core.display.HTML object>"
      ]
     },
     "metadata": {},
     "output_type": "display_data"
    }
   ],
   "source": [
    "interpret_result(138)"
   ]
  },
  {
   "cell_type": "code",
   "execution_count": 39,
   "metadata": {},
   "outputs": [
    {
     "name": "stdout",
     "output_type": "stream",
     "text": [
      "True Label: Natural\n",
      "\n",
      "Pred Label: Accident\n",
      "\n",
      "Class Probabilities: tensor([0.0243, 0.0121, 0.5937, 0.3699])\n",
      "\n",
      "***Raw Text***\n",
      "\n",
      ".MICRO.\n",
      "Heart:\n",
      "Increase in interstitial fibrosis with focal replacement of myocardium; Patchy myocyte hypertrophy\n",
      "\n",
      "Lungs:\n",
      "Mild edema\n",
      "\n",
      "Liver:\n",
      "Mild macro- and microvesicular steatosis; portal bridging fibrosis and mild chronic portal inflammation\n",
      "\n",
      "kidneys:\n",
      "Nodular glomerulosclerosis (Kimmelstiel-Wilson nodules) and focal global glomerulosclerosis; arteriolosclerosis.\n",
      "\n",
      "Hippocampus:\n",
      "No pathologic abnormality.\n",
      ".LOCATIONExtremities\n",
      ".INJURYBlunt injury.\n",
      ".INJURYDESC.\n",
      "LEFT UPPER EXTREMITY\n",
      "\n",
      "There are red dried abrasions of the left posterior forearm and lateral upper arm, ranging from 0.1 to 2.5 cm. \n",
      "\n",
      "RIGHT UPPER EXTREMITY\n",
      "\n",
      "There is a 2.5 x 0.2 cm linear abrasion of the lateral right upper arm.\n",
      "\n",
      "There are two, 1 cm and 2.5 cm, light purple to blue contusions of the right anterior upper arm.  \n",
      "\n",
      "There is a 5 x 2.5 cm blue to purple contusion of the right antecubital fossa.\n",
      "\n",
      "There are red abrasions of the posterior right forearm and upper arm, ranging from 0.1 cm to 1.5 cm.\n",
      "\n",
      "RIGHT LOWER EXTREMITY \n",
      "\n",
      "There is a 8 x 4 cm cluster of red dried abrasions of the right anterolateral knee.\n",
      "\n",
      "There is a 3.5 x 1 cm cluster of red dried abrasions of the right anterior lower leg.\n",
      "\n",
      "There is a 4 x 3 cm blue contusion of the medial right thigh. \n",
      "\n",
      "LEFT LOWER EXTREMITY\n",
      "\n",
      "There is a 1 x 0.3 cm red dried abrasion of the anterior left lower leg. \n",
      "\n",
      ".LOCATIONTrunk\n",
      ".INJURYBlunt injury.\n",
      ".INJURYDESC.\n",
      "There is a 13 x 5 cm purple to blue contusion of the left hip, overlying the left iliac crest. \n",
      "\n",
      "There is a 1 x 0.7 cm red abrasion of the sacral region. \n",
      "\n",
      "There are numerous linear to round abrasions spanning across  the entire upper back, ranging from 0.1 cm to 1.5 cm in greatest dimension.\n",
      "\n",
      "There is an 11 x 1 cm red abrasion of the middle right to midline back. \n",
      "\n",
      "There are round abrasions spanning across the lower back, ranging form 0.1 cm to 0.4 cm.\n",
      "\n",
      ".LOCATIONHead\n",
      ".INJURYBlunt injury.\n",
      ".INJURYDESC.\n",
      "There is a 1 x 0.8 cm dark red dried abrasion of the left forehead. \n",
      "\n",
      "***Intrinsic Attention***\n"
     ]
    },
    {
     "data": {
      "text/html": [
       "<span style=\"font-family: monospace;\"><span title=\"0.043\" style=\"background-color: rgba(254, 238, 230, 0.5);\">xxbos</span> <span title=\"0.015\" style=\"background-color: rgba(254, 243, 237, 0.5);\">xxup</span> <span title=\"0.016\" style=\"background-color: rgba(254, 243, 237, 0.5);\">.micro</span> <span title=\"0.071\" style=\"background-color: rgba(254, 233, 223, 0.5);\">.</span> <span title=\"0.023\" style=\"background-color: rgba(254, 241, 235, 0.5);\">xxmaj</span> <span title=\"0.019\" style=\"background-color: rgba(254, 242, 236, 0.5);\">heart</span> <span title=\"0.046\" style=\"background-color: rgba(254, 237, 229, 0.5);\">:</span> <span title=\"0.381\" style=\"background-color: rgba(251, 144, 112, 0.5);\">xxmaj</span> <span title=\"0.072\" style=\"background-color: rgba(254, 233, 223, 0.5);\">increase</span> <span title=\"0.167\" style=\"background-color: rgba(253, 212, 194, 0.5);\">in</span> <span title=\"0.136\" style=\"background-color: rgba(253, 221, 206, 0.5);\">interstitial</span> <span title=\"1.000\" style=\"background-color: rgba(103, 0, 12, 0.5);\">fibrosis</span> <span title=\"0.233\" style=\"background-color: rgba(252, 192, 168, 0.5);\">with</span> <span title=\"0.448\" style=\"background-color: rgba(251, 122, 90, 0.5);\">focal</span> <span title=\"0.526\" style=\"background-color: rgba(248, 96, 67, 0.5);\">replacement</span> <span title=\"0.293\" style=\"background-color: rgba(252, 172, 144, 0.5);\">of</span> <span title=\"0.497\" style=\"background-color: rgba(251, 106, 74, 0.5);\">myocardium</span> <span title=\"0.877\" style=\"background-color: rgba(163, 14, 20, 0.5);\">;</span> <span title=\"0.222\" style=\"background-color: rgba(252, 195, 172, 0.5);\">xxmaj</span> <span title=\"0.338\" style=\"background-color: rgba(252, 158, 128, 0.5);\">patchy</span> <span title=\"0.124\" style=\"background-color: rgba(254, 224, 210, 0.5);\">myocyte</span> <span title=\"0.073\" style=\"background-color: rgba(254, 233, 223, 0.5);\">hypertrophy</span> <span title=\"0.131\" style=\"background-color: rgba(253, 222, 208, 0.5);\">xxmaj</span> <span title=\"0.139\" style=\"background-color: rgba(253, 220, 205, 0.5);\">lungs</span> <span title=\"0.079\" style=\"background-color: rgba(254, 231, 221, 0.5);\">:</span> <span title=\"0.020\" style=\"background-color: rgba(254, 241, 235, 0.5);\">xxmaj</span> <span title=\"0.039\" style=\"background-color: rgba(254, 238, 230, 0.5);\">mild</span> <span title=\"0.117\" style=\"background-color: rgba(254, 225, 211, 0.5);\">edema</span> <span title=\"0.021\" style=\"background-color: rgba(254, 241, 235, 0.5);\">xxmaj</span> <span title=\"0.023\" style=\"background-color: rgba(254, 241, 235, 0.5);\">liver</span> <span title=\"0.025\" style=\"background-color: rgba(254, 241, 234, 0.5);\">:</span> <span title=\"0.082\" style=\"background-color: rgba(254, 231, 220, 0.5);\">xxmaj</span> <span title=\"0.149\" style=\"background-color: rgba(253, 216, 200, 0.5);\">mild</span> <span title=\"0.017\" style=\"background-color: rgba(254, 242, 236, 0.5);\">macro-</span> <span title=\"0.037\" style=\"background-color: rgba(254, 239, 231, 0.5);\">and</span> <span title=\"0.168\" style=\"background-color: rgba(253, 212, 194, 0.5);\">microvesicular</span> <span title=\"0.026\" style=\"background-color: rgba(254, 241, 234, 0.5);\">steatosis</span> <span title=\"0.039\" style=\"background-color: rgba(254, 238, 230, 0.5);\">;</span> <span title=\"0.040\" style=\"background-color: rgba(254, 238, 230, 0.5);\">portal</span> <span title=\"0.130\" style=\"background-color: rgba(253, 222, 208, 0.5);\">bridging</span> <span title=\"0.271\" style=\"background-color: rgba(252, 180, 153, 0.5);\">fibrosis</span> <span title=\"0.053\" style=\"background-color: rgba(254, 236, 227, 0.5);\">and</span> <span title=\"0.128\" style=\"background-color: rgba(253, 223, 209, 0.5);\">mild</span> <span title=\"0.135\" style=\"background-color: rgba(253, 221, 206, 0.5);\">chronic</span> <span title=\"0.105\" style=\"background-color: rgba(254, 227, 215, 0.5);\">portal</span> <span title=\"0.260\" style=\"background-color: rgba(252, 184, 157, 0.5);\">inflammation</span> <span title=\"0.343\" style=\"background-color: rgba(252, 157, 126, 0.5);\">kidneys</span> <span title=\"0.192\" style=\"background-color: rgba(252, 204, 183, 0.5);\">:</span> <span title=\"0.069\" style=\"background-color: rgba(254, 233, 224, 0.5);\">xxmaj</span> <span title=\"0.119\" style=\"background-color: rgba(254, 225, 211, 0.5);\">nodular</span> <span title=\"0.280\" style=\"background-color: rgba(252, 177, 150, 0.5);\">glomerulosclerosis</span> <span title=\"0.194\" style=\"background-color: rgba(252, 204, 183, 0.5);\">(</span> <span title=\"0.031\" style=\"background-color: rgba(254, 240, 233, 0.5);\">xxmaj</span> <span title=\"0.026\" style=\"background-color: rgba(254, 241, 234, 0.5);\">kimmelstiel</span> <span title=\"0.185\" style=\"background-color: rgba(253, 206, 186, 0.5);\">-</span> <span title=\"0.023\" style=\"background-color: rgba(254, 241, 235, 0.5);\">xxmaj</span> <span title=\"0.041\" style=\"background-color: rgba(254, 238, 230, 0.5);\">wilson</span> <span title=\"0.085\" style=\"background-color: rgba(254, 231, 220, 0.5);\">nodules</span> <span title=\"0.677\" style=\"background-color: rgba(223, 44, 37, 0.5);\">)</span> <span title=\"0.330\" style=\"background-color: rgba(252, 160, 131, 0.5);\">and</span> <span title=\"0.067\" style=\"background-color: rgba(254, 233, 224, 0.5);\">focal</span> <span title=\"0.070\" style=\"background-color: rgba(254, 233, 224, 0.5);\">global</span> <span title=\"0.284\" style=\"background-color: rgba(252, 176, 148, 0.5);\">glomerulosclerosis</span> <span title=\"0.046\" style=\"background-color: rgba(254, 237, 229, 0.5);\">;</span> <span title=\"0.042\" style=\"background-color: rgba(254, 238, 230, 0.5);\">arteriolosclerosis</span> <span title=\"0.189\" style=\"background-color: rgba(252, 205, 185, 0.5);\">.</span> <span title=\"0.159\" style=\"background-color: rgba(253, 214, 197, 0.5);\">xxmaj</span> <span title=\"0.036\" style=\"background-color: rgba(254, 239, 231, 0.5);\">hippocampus</span> <span title=\"0.043\" style=\"background-color: rgba(254, 237, 229, 0.5);\">:</span> <span title=\"0.095\" style=\"background-color: rgba(254, 229, 217, 0.5);\">xxmaj</span> <span title=\"0.104\" style=\"background-color: rgba(254, 227, 215, 0.5);\">no</span> <span title=\"0.120\" style=\"background-color: rgba(254, 225, 211, 0.5);\">pathologic</span> <span title=\"0.032\" style=\"background-color: rgba(254, 239, 232, 0.5);\">abnormality</span> <span title=\"0.119\" style=\"background-color: rgba(254, 225, 211, 0.5);\">.</span> <span title=\"0.019\" style=\"background-color: rgba(254, 242, 236, 0.5);\">.locationextremities</span> <span title=\"0.010\" style=\"background-color: rgba(254, 243, 238, 0.5);\">.injuryblunt</span> <span title=\"0.046\" style=\"background-color: rgba(254, 237, 229, 0.5);\">injury</span> <span title=\"0.381\" style=\"background-color: rgba(251, 144, 112, 0.5);\">.</span> <span title=\"0.069\" style=\"background-color: rgba(254, 233, 224, 0.5);\">xxup</span> <span title=\"0.046\" style=\"background-color: rgba(254, 237, 229, 0.5);\">.injurydesc</span> <span title=\"0.048\" style=\"background-color: rgba(254, 237, 228, 0.5);\">.</span> <span title=\"0.128\" style=\"background-color: rgba(253, 223, 209, 0.5);\">xxup</span> <span title=\"0.418\" style=\"background-color: rgba(251, 131, 99, 0.5);\">left</span> <span title=\"0.173\" style=\"background-color: rgba(253, 209, 191, 0.5);\">xxup</span> <span title=\"0.025\" style=\"background-color: rgba(254, 241, 234, 0.5);\">upper</span> <span title=\"0.020\" style=\"background-color: rgba(254, 241, 235, 0.5);\">xxup</span> <span title=\"0.147\" style=\"background-color: rgba(253, 218, 202, 0.5);\">extremity</span> <span title=\"0.027\" style=\"background-color: rgba(254, 241, 234, 0.5);\">xxmaj</span> <span title=\"0.093\" style=\"background-color: rgba(254, 229, 218, 0.5);\">there</span> <span title=\"0.029\" style=\"background-color: rgba(254, 240, 233, 0.5);\">are</span> <span title=\"0.011\" style=\"background-color: rgba(254, 243, 238, 0.5);\">red</span> <span title=\"0.011\" style=\"background-color: rgba(254, 243, 238, 0.5);\">dried</span> <span title=\"0.009\" style=\"background-color: rgba(254, 243, 238, 0.5);\">abrasions</span> <span title=\"0.024\" style=\"background-color: rgba(254, 241, 234, 0.5);\">of</span> <span title=\"0.011\" style=\"background-color: rgba(254, 243, 238, 0.5);\">the</span> <span title=\"0.012\" style=\"background-color: rgba(254, 243, 237, 0.5);\">left</span> <span title=\"0.025\" style=\"background-color: rgba(254, 241, 234, 0.5);\">posterior</span> <span title=\"0.125\" style=\"background-color: rgba(253, 223, 209, 0.5);\">forearm</span> <span title=\"0.039\" style=\"background-color: rgba(254, 238, 230, 0.5);\">and</span> <span title=\"0.134\" style=\"background-color: rgba(253, 221, 206, 0.5);\">lateral</span> <span title=\"0.045\" style=\"background-color: rgba(254, 237, 229, 0.5);\">upper</span> <span title=\"0.149\" style=\"background-color: rgba(253, 216, 200, 0.5);\">arm</span> <span title=\"0.031\" style=\"background-color: rgba(254, 240, 233, 0.5);\">,</span> <span title=\"0.022\" style=\"background-color: rgba(254, 241, 235, 0.5);\">ranging</span> <span title=\"0.047\" style=\"background-color: rgba(254, 237, 228, 0.5);\">from</span> <span title=\"0.043\" style=\"background-color: rgba(254, 238, 230, 0.5);\">0.1</span> <span title=\"0.140\" style=\"background-color: rgba(253, 220, 205, 0.5);\">to</span> <span title=\"0.226\" style=\"background-color: rgba(252, 194, 171, 0.5);\">2.5</span> <span title=\"0.121\" style=\"background-color: rgba(254, 225, 211, 0.5);\">cm</span> <span title=\"0.042\" style=\"background-color: rgba(254, 238, 230, 0.5);\">.</span> <span title=\"0.023\" style=\"background-color: rgba(254, 241, 235, 0.5);\">xxup</span> <span title=\"0.031\" style=\"background-color: rgba(254, 240, 233, 0.5);\">right</span> <span title=\"0.056\" style=\"background-color: rgba(254, 235, 226, 0.5);\">xxup</span> <span title=\"0.079\" style=\"background-color: rgba(254, 231, 221, 0.5);\">upper</span> <span title=\"0.023\" style=\"background-color: rgba(254, 241, 234, 0.5);\">xxup</span> <span title=\"0.042\" style=\"background-color: rgba(254, 238, 230, 0.5);\">extremity</span> <span title=\"0.031\" style=\"background-color: rgba(254, 239, 232, 0.5);\">xxmaj</span> <span title=\"0.044\" style=\"background-color: rgba(254, 237, 229, 0.5);\">there</span> <span title=\"0.015\" style=\"background-color: rgba(254, 243, 237, 0.5);\">is</span> <span title=\"0.063\" style=\"background-color: rgba(254, 234, 224, 0.5);\">a</span> <span title=\"0.029\" style=\"background-color: rgba(254, 240, 233, 0.5);\">2.5</span> <span title=\"0.050\" style=\"background-color: rgba(254, 237, 228, 0.5);\">x</span> <span title=\"0.028\" style=\"background-color: rgba(254, 240, 233, 0.5);\">0.2</span> <span title=\"0.028\" style=\"background-color: rgba(254, 240, 233, 0.5);\">cm</span> <span title=\"0.027\" style=\"background-color: rgba(254, 241, 234, 0.5);\">linear</span> <span title=\"0.010\" style=\"background-color: rgba(254, 243, 238, 0.5);\">abrasion</span> <span title=\"0.009\" style=\"background-color: rgba(254, 243, 238, 0.5);\">of</span> <span title=\"0.022\" style=\"background-color: rgba(254, 241, 235, 0.5);\">the</span> <span title=\"0.112\" style=\"background-color: rgba(254, 226, 213, 0.5);\">lateral</span> <span title=\"0.030\" style=\"background-color: rgba(254, 240, 233, 0.5);\">right</span> <span title=\"0.113\" style=\"background-color: rgba(254, 226, 213, 0.5);\">upper</span> <span title=\"0.038\" style=\"background-color: rgba(254, 239, 231, 0.5);\">arm</span> <span title=\"0.157\" style=\"background-color: rgba(253, 214, 197, 0.5);\">.</span> <span title=\"0.015\" style=\"background-color: rgba(254, 243, 237, 0.5);\">xxmaj</span> <span title=\"0.022\" style=\"background-color: rgba(254, 241, 235, 0.5);\">there</span> <span title=\"0.038\" style=\"background-color: rgba(254, 239, 231, 0.5);\">are</span> <span title=\"0.027\" style=\"background-color: rgba(254, 240, 233, 0.5);\">two</span> <span title=\"0.031\" style=\"background-color: rgba(254, 240, 233, 0.5);\">,</span> <span title=\"0.066\" style=\"background-color: rgba(254, 234, 224, 0.5);\">1</span> <span title=\"0.038\" style=\"background-color: rgba(254, 239, 231, 0.5);\">cm</span> <span title=\"0.040\" style=\"background-color: rgba(254, 238, 230, 0.5);\">and</span> <span title=\"0.021\" style=\"background-color: rgba(254, 241, 235, 0.5);\">2.5</span> <span title=\"0.160\" style=\"background-color: rgba(253, 213, 195, 0.5);\">cm</span> <span title=\"0.108\" style=\"background-color: rgba(254, 227, 214, 0.5);\">,</span> <span title=\"0.039\" style=\"background-color: rgba(254, 239, 231, 0.5);\">light</span> <span title=\"0.028\" style=\"background-color: rgba(254, 240, 233, 0.5);\">purple</span> <span title=\"0.099\" style=\"background-color: rgba(254, 228, 216, 0.5);\">to</span> <span title=\"0.075\" style=\"background-color: rgba(254, 232, 222, 0.5);\">blue</span> <span title=\"0.057\" style=\"background-color: rgba(254, 235, 226, 0.5);\">contusions</span> <span title=\"0.061\" style=\"background-color: rgba(254, 235, 225, 0.5);\">of</span> <span title=\"0.010\" style=\"background-color: rgba(254, 243, 238, 0.5);\">the</span> <span title=\"0.007\" style=\"background-color: rgba(254, 244, 239, 0.5);\">right</span> <span title=\"0.027\" style=\"background-color: rgba(254, 241, 234, 0.5);\">anterior</span> <span title=\"0.039\" style=\"background-color: rgba(254, 238, 230, 0.5);\">upper</span> <span title=\"0.026\" style=\"background-color: rgba(254, 241, 234, 0.5);\">arm</span> <span title=\"0.047\" style=\"background-color: rgba(254, 237, 228, 0.5);\">.</span> <span title=\"0.038\" style=\"background-color: rgba(254, 239, 231, 0.5);\">xxmaj</span> <span title=\"0.034\" style=\"background-color: rgba(254, 239, 232, 0.5);\">there</span> <span title=\"0.017\" style=\"background-color: rgba(254, 242, 236, 0.5);\">is</span> <span title=\"0.030\" style=\"background-color: rgba(254, 240, 233, 0.5);\">a</span> <span title=\"0.032\" style=\"background-color: rgba(254, 239, 232, 0.5);\">5</span> <span title=\"0.016\" style=\"background-color: rgba(254, 242, 236, 0.5);\">x</span> <span title=\"0.022\" style=\"background-color: rgba(254, 241, 235, 0.5);\">2.5</span> <span title=\"0.065\" style=\"background-color: rgba(254, 234, 224, 0.5);\">cm</span> <span title=\"0.046\" style=\"background-color: rgba(254, 237, 229, 0.5);\">blue</span> <span title=\"0.027\" style=\"background-color: rgba(254, 240, 233, 0.5);\">to</span> <span title=\"0.033\" style=\"background-color: rgba(254, 239, 232, 0.5);\">purple</span> <span title=\"0.040\" style=\"background-color: rgba(254, 238, 230, 0.5);\">contusion</span> <span title=\"0.017\" style=\"background-color: rgba(254, 242, 236, 0.5);\">of</span> <span title=\"0.014\" style=\"background-color: rgba(254, 243, 237, 0.5);\">the</span> <span title=\"0.020\" style=\"background-color: rgba(254, 241, 235, 0.5);\">right</span> <span title=\"0.043\" style=\"background-color: rgba(254, 238, 230, 0.5);\">antecubital</span> <span title=\"0.037\" style=\"background-color: rgba(254, 239, 231, 0.5);\">fossa</span> <span title=\"0.058\" style=\"background-color: rgba(254, 235, 226, 0.5);\">.</span> <span title=\"0.008\" style=\"background-color: rgba(254, 243, 238, 0.5);\">xxmaj</span> <span title=\"0.005\" style=\"background-color: rgba(254, 244, 239, 0.5);\">there</span> <span title=\"0.016\" style=\"background-color: rgba(254, 242, 236, 0.5);\">are</span> <span title=\"0.038\" style=\"background-color: rgba(254, 239, 231, 0.5);\">red</span> <span title=\"0.017\" style=\"background-color: rgba(254, 242, 236, 0.5);\">abrasions</span> <span title=\"0.018\" style=\"background-color: rgba(254, 242, 236, 0.5);\">of</span> <span title=\"0.054\" style=\"background-color: rgba(254, 236, 227, 0.5);\">the</span> <span title=\"0.017\" style=\"background-color: rgba(254, 242, 236, 0.5);\">posterior</span> <span title=\"0.019\" style=\"background-color: rgba(254, 242, 236, 0.5);\">right</span> <span title=\"0.019\" style=\"background-color: rgba(254, 242, 236, 0.5);\">forearm</span> <span title=\"0.093\" style=\"background-color: rgba(254, 229, 218, 0.5);\">and</span> <span title=\"0.056\" style=\"background-color: rgba(254, 235, 226, 0.5);\">upper</span> <span title=\"0.041\" style=\"background-color: rgba(254, 238, 230, 0.5);\">arm</span> <span title=\"0.056\" style=\"background-color: rgba(254, 235, 226, 0.5);\">,</span> <span title=\"0.032\" style=\"background-color: rgba(254, 239, 232, 0.5);\">ranging</span> <span title=\"0.043\" style=\"background-color: rgba(254, 237, 229, 0.5);\">from</span> <span title=\"0.056\" style=\"background-color: rgba(254, 235, 226, 0.5);\">0.1</span> <span title=\"0.310\" style=\"background-color: rgba(252, 167, 138, 0.5);\">cm</span> <span title=\"0.038\" style=\"background-color: rgba(254, 239, 231, 0.5);\">to</span> <span title=\"0.008\" style=\"background-color: rgba(254, 243, 238, 0.5);\">1.5</span> <span title=\"0.004\" style=\"background-color: rgba(254, 244, 239, 0.5);\">cm</span> <span title=\"0.019\" style=\"background-color: rgba(254, 242, 236, 0.5);\">.</span> <span title=\"0.044\" style=\"background-color: rgba(254, 237, 229, 0.5);\">xxup</span> <span title=\"0.034\" style=\"background-color: rgba(254, 239, 232, 0.5);\">right</span> <span title=\"0.103\" style=\"background-color: rgba(254, 227, 215, 0.5);\">xxup</span> <span title=\"0.096\" style=\"background-color: rgba(254, 229, 217, 0.5);\">lower</span> <span title=\"0.035\" style=\"background-color: rgba(254, 239, 231, 0.5);\">xxup</span> <span title=\"0.021\" style=\"background-color: rgba(254, 241, 235, 0.5);\">extremity</span> <span title=\"0.049\" style=\"background-color: rgba(254, 237, 228, 0.5);\">xxmaj</span> <span title=\"0.036\" style=\"background-color: rgba(254, 239, 231, 0.5);\">there</span> <span title=\"0.079\" style=\"background-color: rgba(254, 231, 221, 0.5);\">is</span> <span title=\"0.019\" style=\"background-color: rgba(254, 242, 236, 0.5);\">a</span> <span title=\"0.051\" style=\"background-color: rgba(254, 237, 228, 0.5);\">8</span> <span title=\"0.041\" style=\"background-color: rgba(254, 238, 230, 0.5);\">x</span> <span title=\"0.013\" style=\"background-color: rgba(254, 243, 237, 0.5);\">4</span> <span title=\"0.053\" style=\"background-color: rgba(254, 236, 227, 0.5);\">cm</span> <span title=\"0.023\" style=\"background-color: rgba(254, 241, 234, 0.5);\">cluster</span> <span title=\"0.032\" style=\"background-color: rgba(254, 239, 232, 0.5);\">of</span> <span title=\"0.012\" style=\"background-color: rgba(254, 243, 237, 0.5);\">red</span> <span title=\"0.017\" style=\"background-color: rgba(254, 242, 236, 0.5);\">dried</span> <span title=\"0.017\" style=\"background-color: rgba(254, 242, 236, 0.5);\">abrasions</span> <span title=\"0.009\" style=\"background-color: rgba(254, 243, 238, 0.5);\">of</span> <span title=\"0.013\" style=\"background-color: rgba(254, 243, 237, 0.5);\">the</span> <span title=\"0.009\" style=\"background-color: rgba(254, 243, 238, 0.5);\">right</span> <span title=\"0.016\" style=\"background-color: rgba(254, 242, 236, 0.5);\">anterolateral</span> <span title=\"0.065\" style=\"background-color: rgba(254, 234, 224, 0.5);\">knee</span> <span title=\"0.022\" style=\"background-color: rgba(254, 241, 235, 0.5);\">.</span> <span title=\"0.089\" style=\"background-color: rgba(254, 230, 219, 0.5);\">xxmaj</span> <span title=\"0.031\" style=\"background-color: rgba(254, 240, 233, 0.5);\">there</span> <span title=\"0.100\" style=\"background-color: rgba(254, 228, 216, 0.5);\">is</span> <span title=\"0.012\" style=\"background-color: rgba(254, 243, 237, 0.5);\">a</span> <span title=\"0.018\" style=\"background-color: rgba(254, 242, 236, 0.5);\">3.5</span> <span title=\"0.030\" style=\"background-color: rgba(254, 240, 233, 0.5);\">x</span> <span title=\"0.019\" style=\"background-color: rgba(254, 242, 236, 0.5);\">1</span> <span title=\"0.017\" style=\"background-color: rgba(254, 242, 236, 0.5);\">cm</span> <span title=\"0.048\" style=\"background-color: rgba(254, 237, 228, 0.5);\">cluster</span> <span title=\"0.019\" style=\"background-color: rgba(254, 242, 236, 0.5);\">of</span> <span title=\"0.019\" style=\"background-color: rgba(254, 242, 236, 0.5);\">red</span> <span title=\"0.017\" style=\"background-color: rgba(254, 242, 236, 0.5);\">dried</span> <span title=\"0.109\" style=\"background-color: rgba(254, 227, 214, 0.5);\">abrasions</span> <span title=\"0.025\" style=\"background-color: rgba(254, 241, 234, 0.5);\">of</span> <span title=\"0.081\" style=\"background-color: rgba(254, 231, 221, 0.5);\">the</span> <span title=\"0.089\" style=\"background-color: rgba(254, 230, 219, 0.5);\">right</span> <span title=\"0.069\" style=\"background-color: rgba(254, 233, 224, 0.5);\">anterior</span> <span title=\"0.018\" style=\"background-color: rgba(254, 242, 236, 0.5);\">lower</span> <span title=\"0.014\" style=\"background-color: rgba(254, 243, 237, 0.5);\">leg</span> <span title=\"0.022\" style=\"background-color: rgba(254, 241, 235, 0.5);\">.</span> <span title=\"0.060\" style=\"background-color: rgba(254, 235, 225, 0.5);\">xxmaj</span> <span title=\"0.061\" style=\"background-color: rgba(254, 235, 225, 0.5);\">there</span> <span title=\"0.011\" style=\"background-color: rgba(254, 243, 238, 0.5);\">is</span> <span title=\"0.006\" style=\"background-color: rgba(254, 244, 239, 0.5);\">a</span> <span title=\"0.013\" style=\"background-color: rgba(254, 243, 237, 0.5);\">4</span> <span title=\"0.025\" style=\"background-color: rgba(254, 241, 234, 0.5);\">x</span> <span title=\"0.020\" style=\"background-color: rgba(254, 241, 235, 0.5);\">3</span> <span title=\"0.013\" style=\"background-color: rgba(254, 243, 237, 0.5);\">cm</span> <span title=\"0.048\" style=\"background-color: rgba(254, 237, 228, 0.5);\">blue</span> <span title=\"0.018\" style=\"background-color: rgba(254, 242, 236, 0.5);\">contusion</span> <span title=\"0.020\" style=\"background-color: rgba(254, 241, 235, 0.5);\">of</span> <span title=\"0.017\" style=\"background-color: rgba(254, 242, 236, 0.5);\">the</span> <span title=\"0.086\" style=\"background-color: rgba(254, 230, 219, 0.5);\">medial</span> <span title=\"0.020\" style=\"background-color: rgba(254, 241, 235, 0.5);\">right</span> <span title=\"0.068\" style=\"background-color: rgba(254, 233, 224, 0.5);\">thigh</span> <span title=\"0.082\" style=\"background-color: rgba(254, 231, 221, 0.5);\">.</span> <span title=\"0.063\" style=\"background-color: rgba(254, 234, 224, 0.5);\">xxup</span> <span title=\"0.017\" style=\"background-color: rgba(254, 242, 236, 0.5);\">left</span> <span title=\"0.014\" style=\"background-color: rgba(254, 243, 237, 0.5);\">xxup</span> <span title=\"0.018\" style=\"background-color: rgba(254, 242, 236, 0.5);\">lower</span> <span title=\"0.037\" style=\"background-color: rgba(254, 239, 231, 0.5);\">xxup</span> <span title=\"0.043\" style=\"background-color: rgba(254, 237, 229, 0.5);\">extremity</span> <span title=\"0.032\" style=\"background-color: rgba(254, 239, 232, 0.5);\">xxmaj</span> <span title=\"0.011\" style=\"background-color: rgba(254, 243, 238, 0.5);\">there</span> <span title=\"0.005\" style=\"background-color: rgba(254, 244, 239, 0.5);\">is</span> <span title=\"0.014\" style=\"background-color: rgba(254, 243, 237, 0.5);\">a</span> <span title=\"0.025\" style=\"background-color: rgba(254, 241, 234, 0.5);\">1</span> <span title=\"0.020\" style=\"background-color: rgba(254, 241, 235, 0.5);\">x</span> <span title=\"0.012\" style=\"background-color: rgba(254, 243, 237, 0.5);\">0.3</span> <span title=\"0.024\" style=\"background-color: rgba(254, 241, 234, 0.5);\">cm</span> <span title=\"0.011\" style=\"background-color: rgba(254, 243, 238, 0.5);\">red</span> <span title=\"0.013\" style=\"background-color: rgba(254, 243, 237, 0.5);\">dried</span> <span title=\"0.012\" style=\"background-color: rgba(254, 243, 237, 0.5);\">abrasion</span> <span title=\"0.049\" style=\"background-color: rgba(254, 237, 228, 0.5);\">of</span> <span title=\"0.040\" style=\"background-color: rgba(254, 238, 230, 0.5);\">the</span> <span title=\"0.011\" style=\"background-color: rgba(254, 243, 238, 0.5);\">anterior</span> <span title=\"0.013\" style=\"background-color: rgba(254, 243, 237, 0.5);\">left</span> <span title=\"0.029\" style=\"background-color: rgba(254, 240, 233, 0.5);\">lower</span> <span title=\"0.021\" style=\"background-color: rgba(254, 241, 235, 0.5);\">leg</span> <span title=\"0.048\" style=\"background-color: rgba(254, 237, 228, 0.5);\">.</span> <span title=\"0.009\" style=\"background-color: rgba(254, 243, 238, 0.5);\">.locationtrunk</span> <span title=\"0.006\" style=\"background-color: rgba(254, 244, 239, 0.5);\">.injuryblunt</span> <span title=\"0.016\" style=\"background-color: rgba(254, 242, 236, 0.5);\">injury</span> <span title=\"0.076\" style=\"background-color: rgba(254, 232, 222, 0.5);\">.</span> <span title=\"0.021\" style=\"background-color: rgba(254, 241, 235, 0.5);\">xxup</span> <span title=\"0.100\" style=\"background-color: rgba(254, 228, 216, 0.5);\">.injurydesc</span> <span title=\"0.027\" style=\"background-color: rgba(254, 240, 233, 0.5);\">.</span> <span title=\"0.109\" style=\"background-color: rgba(254, 227, 214, 0.5);\">xxmaj</span> <span title=\"0.012\" style=\"background-color: rgba(254, 243, 237, 0.5);\">there</span> <span title=\"0.010\" style=\"background-color: rgba(254, 243, 238, 0.5);\">is</span> <span title=\"0.026\" style=\"background-color: rgba(254, 241, 234, 0.5);\">a</span> <span title=\"0.026\" style=\"background-color: rgba(254, 241, 234, 0.5);\">13</span> <span title=\"0.018\" style=\"background-color: rgba(254, 242, 236, 0.5);\">x</span> <span title=\"0.028\" style=\"background-color: rgba(254, 240, 233, 0.5);\">5</span> <span title=\"0.013\" style=\"background-color: rgba(254, 243, 237, 0.5);\">cm</span> <span title=\"0.028\" style=\"background-color: rgba(254, 240, 233, 0.5);\">purple</span> <span title=\"0.015\" style=\"background-color: rgba(254, 243, 237, 0.5);\">to</span> <span title=\"0.059\" style=\"background-color: rgba(254, 235, 225, 0.5);\">blue</span> <span title=\"0.071\" style=\"background-color: rgba(254, 233, 223, 0.5);\">contusion</span> <span title=\"0.034\" style=\"background-color: rgba(254, 239, 232, 0.5);\">of</span> <span title=\"0.010\" style=\"background-color: rgba(254, 243, 238, 0.5);\">the</span> <span title=\"0.012\" style=\"background-color: rgba(254, 243, 237, 0.5);\">left</span> <span title=\"0.020\" style=\"background-color: rgba(254, 241, 235, 0.5);\">hip</span> <span title=\"0.019\" style=\"background-color: rgba(254, 242, 236, 0.5);\">,</span> <span title=\"0.052\" style=\"background-color: rgba(254, 236, 227, 0.5);\">overlying</span> <span title=\"0.044\" style=\"background-color: rgba(254, 237, 229, 0.5);\">the</span> <span title=\"0.007\" style=\"background-color: rgba(254, 244, 239, 0.5);\">left</span> <span title=\"0.006\" style=\"background-color: rgba(254, 244, 239, 0.5);\">iliac</span> <span title=\"0.147\" style=\"background-color: rgba(253, 218, 202, 0.5);\">crest</span> <span title=\"0.021\" style=\"background-color: rgba(254, 241, 235, 0.5);\">.</span> <span title=\"0.127\" style=\"background-color: rgba(253, 223, 209, 0.5);\">xxmaj</span> <span title=\"0.035\" style=\"background-color: rgba(254, 239, 231, 0.5);\">there</span> <span title=\"0.006\" style=\"background-color: rgba(254, 244, 239, 0.5);\">is</span> <span title=\"0.007\" style=\"background-color: rgba(254, 244, 239, 0.5);\">a</span> <span title=\"0.009\" style=\"background-color: rgba(254, 243, 238, 0.5);\">1</span> <span title=\"0.023\" style=\"background-color: rgba(254, 241, 235, 0.5);\">x</span> <span title=\"0.013\" style=\"background-color: rgba(254, 243, 237, 0.5);\">0.7</span> <span title=\"0.022\" style=\"background-color: rgba(254, 241, 235, 0.5);\">cm</span> <span title=\"0.033\" style=\"background-color: rgba(254, 239, 232, 0.5);\">red</span> <span title=\"0.046\" style=\"background-color: rgba(254, 237, 229, 0.5);\">abrasion</span> <span title=\"0.023\" style=\"background-color: rgba(254, 241, 235, 0.5);\">of</span> <span title=\"0.038\" style=\"background-color: rgba(254, 239, 231, 0.5);\">the</span> <span title=\"0.153\" style=\"background-color: rgba(253, 215, 199, 0.5);\">sacral</span> <span title=\"0.047\" style=\"background-color: rgba(254, 237, 229, 0.5);\">region</span> <span title=\"0.051\" style=\"background-color: rgba(254, 237, 228, 0.5);\">.</span> <span title=\"0.038\" style=\"background-color: rgba(254, 239, 231, 0.5);\">xxmaj</span> <span title=\"0.152\" style=\"background-color: rgba(253, 216, 200, 0.5);\">there</span> <span title=\"0.058\" style=\"background-color: rgba(254, 235, 226, 0.5);\">are</span> <span title=\"0.058\" style=\"background-color: rgba(254, 235, 226, 0.5);\">numerous</span> <span title=\"0.076\" style=\"background-color: rgba(254, 232, 222, 0.5);\">linear</span> <span title=\"0.034\" style=\"background-color: rgba(254, 239, 232, 0.5);\">to</span> <span title=\"0.030\" style=\"background-color: rgba(254, 240, 233, 0.5);\">round</span> <span title=\"0.057\" style=\"background-color: rgba(254, 235, 226, 0.5);\">abrasions</span> <span title=\"0.210\" style=\"background-color: rgba(252, 199, 177, 0.5);\">spanning</span> <span title=\"0.057\" style=\"background-color: rgba(254, 235, 226, 0.5);\">across</span> <span title=\"0.142\" style=\"background-color: rgba(253, 219, 203, 0.5);\">the</span> <span title=\"0.028\" style=\"background-color: rgba(254, 240, 233, 0.5);\">entire</span> <span title=\"0.039\" style=\"background-color: rgba(254, 239, 231, 0.5);\">upper</span> <span title=\"0.146\" style=\"background-color: rgba(253, 218, 202, 0.5);\">back</span> <span title=\"0.042\" style=\"background-color: rgba(254, 238, 230, 0.5);\">,</span> <span title=\"0.005\" style=\"background-color: rgba(254, 244, 239, 0.5);\">ranging</span> <span title=\"0.009\" style=\"background-color: rgba(254, 243, 238, 0.5);\">from</span> <span title=\"0.018\" style=\"background-color: rgba(254, 242, 236, 0.5);\">0.1</span> <span title=\"0.043\" style=\"background-color: rgba(254, 237, 229, 0.5);\">cm</span> <span title=\"0.021\" style=\"background-color: rgba(254, 241, 235, 0.5);\">to</span> <span title=\"0.029\" style=\"background-color: rgba(254, 240, 233, 0.5);\">1.5</span> <span title=\"0.058\" style=\"background-color: rgba(254, 235, 226, 0.5);\">cm</span> <span title=\"0.022\" style=\"background-color: rgba(254, 241, 235, 0.5);\">in</span> <span title=\"0.030\" style=\"background-color: rgba(254, 240, 233, 0.5);\">greatest</span> <span title=\"0.020\" style=\"background-color: rgba(254, 241, 235, 0.5);\">dimension</span> <span title=\"0.115\" style=\"background-color: rgba(254, 225, 212, 0.5);\">.</span> <span title=\"0.063\" style=\"background-color: rgba(254, 234, 224, 0.5);\">xxmaj</span> <span title=\"0.024\" style=\"background-color: rgba(254, 241, 234, 0.5);\">there</span> <span title=\"0.026\" style=\"background-color: rgba(254, 241, 234, 0.5);\">is</span> <span title=\"0.180\" style=\"background-color: rgba(253, 207, 188, 0.5);\">an</span> <span title=\"0.041\" style=\"background-color: rgba(254, 238, 230, 0.5);\">11</span> <span title=\"0.011\" style=\"background-color: rgba(254, 243, 238, 0.5);\">x</span> <span title=\"0.010\" style=\"background-color: rgba(254, 243, 238, 0.5);\">1</span> <span title=\"0.039\" style=\"background-color: rgba(254, 239, 231, 0.5);\">cm</span> <span title=\"0.082\" style=\"background-color: rgba(254, 231, 220, 0.5);\">red</span> <span title=\"0.055\" style=\"background-color: rgba(254, 235, 226, 0.5);\">abrasion</span> <span title=\"0.191\" style=\"background-color: rgba(252, 205, 185, 0.5);\">of</span> <span title=\"0.319\" style=\"background-color: rgba(252, 164, 135, 0.5);\">the</span> <span title=\"0.109\" style=\"background-color: rgba(254, 227, 214, 0.5);\">middle</span> <span title=\"0.129\" style=\"background-color: rgba(253, 223, 209, 0.5);\">right</span> <span title=\"0.121\" style=\"background-color: rgba(254, 224, 210, 0.5);\">to</span> <span title=\"0.177\" style=\"background-color: rgba(253, 208, 189, 0.5);\">midline</span> <span title=\"0.092\" style=\"background-color: rgba(254, 229, 218, 0.5);\">back</span> <span title=\"0.033\" style=\"background-color: rgba(254, 239, 232, 0.5);\">.</span> <span title=\"0.081\" style=\"background-color: rgba(254, 231, 221, 0.5);\">xxmaj</span> <span title=\"0.065\" style=\"background-color: rgba(254, 234, 224, 0.5);\">there</span> <span title=\"0.071\" style=\"background-color: rgba(254, 233, 223, 0.5);\">are</span> <span title=\"0.035\" style=\"background-color: rgba(254, 239, 232, 0.5);\">round</span> <span title=\"0.109\" style=\"background-color: rgba(254, 227, 214, 0.5);\">abrasions</span> <span title=\"0.032\" style=\"background-color: rgba(254, 239, 232, 0.5);\">spanning</span> <span title=\"0.040\" style=\"background-color: rgba(254, 238, 230, 0.5);\">across</span> <span title=\"0.015\" style=\"background-color: rgba(254, 243, 237, 0.5);\">the</span> <span title=\"0.018\" style=\"background-color: rgba(254, 242, 236, 0.5);\">lower</span> <span title=\"0.023\" style=\"background-color: rgba(254, 241, 235, 0.5);\">back</span> <span title=\"0.010\" style=\"background-color: rgba(254, 243, 238, 0.5);\">,</span> <span title=\"0.024\" style=\"background-color: rgba(254, 241, 234, 0.5);\">ranging</span> <span title=\"0.034\" style=\"background-color: rgba(254, 239, 232, 0.5);\">form</span> <span title=\"0.019\" style=\"background-color: rgba(254, 242, 236, 0.5);\">0.1</span> <span title=\"0.007\" style=\"background-color: rgba(254, 244, 239, 0.5);\">cm</span> <span title=\"0.009\" style=\"background-color: rgba(254, 243, 238, 0.5);\">to</span> <span title=\"0.018\" style=\"background-color: rgba(254, 242, 236, 0.5);\">0.4</span> <span title=\"0.039\" style=\"background-color: rgba(254, 239, 231, 0.5);\">cm</span> <span title=\"0.035\" style=\"background-color: rgba(254, 239, 231, 0.5);\">.</span> <span title=\"0.036\" style=\"background-color: rgba(254, 239, 231, 0.5);\">.locationhead</span> <span title=\"0.065\" style=\"background-color: rgba(254, 234, 224, 0.5);\">.injuryblunt</span> <span title=\"0.025\" style=\"background-color: rgba(254, 241, 234, 0.5);\">injury</span> <span title=\"0.026\" style=\"background-color: rgba(254, 241, 234, 0.5);\">.</span> <span title=\"0.018\" style=\"background-color: rgba(254, 242, 236, 0.5);\">xxup</span> <span title=\"0.062\" style=\"background-color: rgba(254, 235, 225, 0.5);\">.injurydesc</span> <span title=\"0.040\" style=\"background-color: rgba(254, 238, 230, 0.5);\">.</span> <span title=\"0.028\" style=\"background-color: rgba(254, 240, 233, 0.5);\">xxmaj</span> <span title=\"0.046\" style=\"background-color: rgba(254, 237, 229, 0.5);\">there</span> <span title=\"0.166\" style=\"background-color: rgba(253, 212, 194, 0.5);\">is</span> <span title=\"0.202\" style=\"background-color: rgba(252, 201, 180, 0.5);\">a</span> <span title=\"0.134\" style=\"background-color: rgba(253, 221, 206, 0.5);\">1</span> <span title=\"0.044\" style=\"background-color: rgba(254, 237, 229, 0.5);\">x</span> <span title=\"0.043\" style=\"background-color: rgba(254, 238, 230, 0.5);\">0.8</span> <span title=\"0.011\" style=\"background-color: rgba(254, 243, 238, 0.5);\">cm</span> <span title=\"0.007\" style=\"background-color: rgba(254, 244, 239, 0.5);\">dark</span> <span title=\"0.015\" style=\"background-color: rgba(254, 243, 237, 0.5);\">red</span> <span title=\"0.043\" style=\"background-color: rgba(254, 237, 229, 0.5);\">dried</span> <span title=\"0.034\" style=\"background-color: rgba(254, 239, 232, 0.5);\">abrasion</span> <span title=\"0.171\" style=\"background-color: rgba(253, 211, 192, 0.5);\">of</span> <span title=\"0.115\" style=\"background-color: rgba(254, 225, 212, 0.5);\">the</span> <span title=\"0.107\" style=\"background-color: rgba(254, 227, 214, 0.5);\">left</span> <span title=\"0.128\" style=\"background-color: rgba(253, 223, 209, 0.5);\">forehead</span> <span title=\"0.059\" style=\"background-color: rgba(254, 235, 225, 0.5);\">.</span></span>"
      ],
      "text/plain": [
       "<IPython.core.display.HTML object>"
      ]
     },
     "metadata": {},
     "output_type": "display_data"
    }
   ],
   "source": [
    "interpret_result(10248)"
   ]
  },
  {
   "cell_type": "code",
   "execution_count": 40,
   "metadata": {},
   "outputs": [
    {
     "name": "stdout",
     "output_type": "stream",
     "text": [
      "True Label: Natural\n",
      "\n",
      "Pred Label: Accident\n",
      "\n",
      "Class Probabilities: tensor([0.0080, 0.0731, 0.8928, 0.0261])\n",
      "\n",
      "***Raw Text***\n",
      "\n",
      ".MICRO.\n",
      "NONE\n",
      ".LOCATIONHead\n",
      ".INJURYBlunt injury.\n",
      ".INJURYDESC.\n",
      "There are possible contusions of the face; livor mortis is also very prominent in the face.\n",
      "\n",
      ".LOCATIONExtremity\n",
      ".INJURYBlunt injury.\n",
      ".INJURYDESC.\n",
      "There are brown abrasions of the anterior, left knee.\n",
      "\n",
      "***Intrinsic Attention***\n"
     ]
    },
    {
     "data": {
      "text/html": [
       "<span style=\"font-family: monospace;\"><span title=\"0.043\" style=\"background-color: rgba(254, 238, 230, 0.5);\">xxbos</span> <span title=\"0.020\" style=\"background-color: rgba(254, 241, 235, 0.5);\">xxup</span> <span title=\"0.014\" style=\"background-color: rgba(254, 243, 237, 0.5);\">.micro</span> <span title=\"0.061\" style=\"background-color: rgba(254, 235, 225, 0.5);\">.</span> <span title=\"0.017\" style=\"background-color: rgba(254, 242, 236, 0.5);\">xxup</span> <span title=\"0.013\" style=\"background-color: rgba(254, 243, 237, 0.5);\">none</span> <span title=\"0.042\" style=\"background-color: rgba(254, 238, 230, 0.5);\">.locationhead</span> <span title=\"0.122\" style=\"background-color: rgba(254, 224, 210, 0.5);\">.injuryblunt</span> <span title=\"0.051\" style=\"background-color: rgba(254, 236, 227, 0.5);\">injury</span> <span title=\"0.259\" style=\"background-color: rgba(252, 184, 157, 0.5);\">.</span> <span title=\"0.040\" style=\"background-color: rgba(254, 238, 230, 0.5);\">xxup</span> <span title=\"0.131\" style=\"background-color: rgba(253, 222, 208, 0.5);\">.injurydesc</span> <span title=\"0.033\" style=\"background-color: rgba(254, 239, 232, 0.5);\">.</span> <span title=\"0.015\" style=\"background-color: rgba(254, 243, 237, 0.5);\">xxmaj</span> <span title=\"0.021\" style=\"background-color: rgba(254, 241, 235, 0.5);\">there</span> <span title=\"0.019\" style=\"background-color: rgba(254, 242, 236, 0.5);\">are</span> <span title=\"0.030\" style=\"background-color: rgba(254, 240, 233, 0.5);\">possible</span> <span title=\"0.014\" style=\"background-color: rgba(254, 243, 237, 0.5);\">contusions</span> <span title=\"0.024\" style=\"background-color: rgba(254, 241, 234, 0.5);\">of</span> <span title=\"0.047\" style=\"background-color: rgba(254, 237, 228, 0.5);\">the</span> <span title=\"0.110\" style=\"background-color: rgba(254, 226, 213, 0.5);\">face</span> <span title=\"0.103\" style=\"background-color: rgba(254, 227, 215, 0.5);\">;</span> <span title=\"0.384\" style=\"background-color: rgba(251, 143, 111, 0.5);\">livor</span> <span title=\"0.278\" style=\"background-color: rgba(252, 177, 150, 0.5);\">mortis</span> <span title=\"0.094\" style=\"background-color: rgba(254, 229, 217, 0.5);\">is</span> <span title=\"0.069\" style=\"background-color: rgba(254, 233, 224, 0.5);\">also</span> <span title=\"0.213\" style=\"background-color: rgba(252, 198, 175, 0.5);\">very</span> <span title=\"0.186\" style=\"background-color: rgba(253, 206, 186, 0.5);\">prominent</span> <span title=\"1.000\" style=\"background-color: rgba(103, 0, 12, 0.5);\">in</span> <span title=\"0.406\" style=\"background-color: rgba(251, 136, 104, 0.5);\">the</span> <span title=\"0.107\" style=\"background-color: rgba(254, 227, 214, 0.5);\">face</span> <span title=\"0.118\" style=\"background-color: rgba(254, 225, 211, 0.5);\">.</span> <span title=\"0.154\" style=\"background-color: rgba(253, 215, 199, 0.5);\">.locationextremity</span> <span title=\"0.111\" style=\"background-color: rgba(254, 226, 213, 0.5);\">.injuryblunt</span> <span title=\"0.051\" style=\"background-color: rgba(254, 236, 227, 0.5);\">injury</span> <span title=\"0.040\" style=\"background-color: rgba(254, 238, 230, 0.5);\">.</span> <span title=\"0.065\" style=\"background-color: rgba(254, 234, 224, 0.5);\">xxup</span> <span title=\"0.020\" style=\"background-color: rgba(254, 241, 235, 0.5);\">.injurydesc</span> <span title=\"0.012\" style=\"background-color: rgba(254, 243, 238, 0.5);\">.</span> <span title=\"0.143\" style=\"background-color: rgba(253, 219, 203, 0.5);\">xxmaj</span> <span title=\"0.021\" style=\"background-color: rgba(254, 241, 235, 0.5);\">there</span> <span title=\"0.068\" style=\"background-color: rgba(254, 233, 224, 0.5);\">are</span> <span title=\"0.031\" style=\"background-color: rgba(254, 240, 233, 0.5);\">brown</span> <span title=\"0.017\" style=\"background-color: rgba(254, 242, 236, 0.5);\">abrasions</span> <span title=\"0.020\" style=\"background-color: rgba(254, 241, 235, 0.5);\">of</span> <span title=\"0.021\" style=\"background-color: rgba(254, 241, 235, 0.5);\">the</span> <span title=\"0.024\" style=\"background-color: rgba(254, 241, 234, 0.5);\">anterior</span> <span title=\"0.019\" style=\"background-color: rgba(254, 242, 236, 0.5);\">,</span> <span title=\"0.014\" style=\"background-color: rgba(254, 243, 237, 0.5);\">left</span> <span title=\"0.035\" style=\"background-color: rgba(254, 239, 232, 0.5);\">knee</span> <span title=\"0.050\" style=\"background-color: rgba(254, 237, 228, 0.5);\">.</span></span>"
      ],
      "text/plain": [
       "<IPython.core.display.HTML object>"
      ]
     },
     "metadata": {},
     "output_type": "display_data"
    }
   ],
   "source": [
    "interpret_result(10252)"
   ]
  },
  {
   "cell_type": "code",
   "execution_count": 41,
   "metadata": {},
   "outputs": [
    {
     "name": "stdout",
     "output_type": "stream",
     "text": [
      "True Label: Natural\n",
      "\n",
      "Pred Label: Accident\n",
      "\n",
      "Class Probabilities: tensor([0.0275, 0.0168, 0.5168, 0.4389])\n",
      "\n",
      "***Raw Text***\n",
      "\n",
      ".MICRO.\n",
      "Kidney: Subnuclear renal tubular vacuoles (Armani-Ebstein change) in a background of tubular autolysis; focal glomerulosclerosis; arteriolosclerosis.\n",
      "\n",
      "Liver: Marked steatosis with increased portal tract fibrosis, bridging fibrous septa and chronic periportal and septal inflammation.\n",
      "\n",
      "Lungs: Focal areas of increased intra-alveolar eosinophilic granular material (pulmonary edema) and pigment laden macrophages. Rare focus of septal fibrosis.\n",
      "\n",
      "Heart: Patchy left ventricular myocyte hypertrophy.\n",
      "\n",
      "Pancreas: Irregular interlobular fibrosis without acute or chronic inflammation. \n",
      "\n",
      "Brain: No histopathologic diagnosis.\n",
      "\n",
      ".LOCATIONExtremity\n",
      ".INJURYBlunt injury.\n",
      ".INJURYDESC.\n",
      "There is a single, 1cm, purple-black contusion on the right anterior forearm.  Additionally, a confluence of less than 1 cm ecchymoses is present on the left arm just below the shoulder.\n",
      "\n",
      ".LOCATIONExtremity\n",
      ".INJURYBlunt injury.\n",
      ".INJURYDESC.\n",
      "Two small, blue-black, 2 cm contusions are present on the right and left anterior thighs.\n",
      "\n",
      ".LOCATIONExtremity\n",
      ".INJURYBlunt injury.\n",
      ".INJURYDESC.\n",
      "A thin, sub-centimeter linear abrasion is present along the posterior aspect of the right forearm, near the wrist.\n",
      "\n",
      "***Intrinsic Attention***\n"
     ]
    },
    {
     "data": {
      "text/html": [
       "<span style=\"font-family: monospace;\"><span title=\"0.024\" style=\"background-color: rgba(254, 241, 234, 0.5);\">xxbos</span> <span title=\"0.008\" style=\"background-color: rgba(254, 244, 239, 0.5);\">xxup</span> <span title=\"0.008\" style=\"background-color: rgba(254, 243, 238, 0.5);\">.micro</span> <span title=\"0.026\" style=\"background-color: rgba(254, 241, 234, 0.5);\">.</span> <span title=\"0.012\" style=\"background-color: rgba(254, 243, 238, 0.5);\">xxmaj</span> <span title=\"0.012\" style=\"background-color: rgba(254, 243, 237, 0.5);\">kidney</span> <span title=\"0.037\" style=\"background-color: rgba(254, 239, 231, 0.5);\">:</span> <span title=\"0.181\" style=\"background-color: rgba(253, 207, 188, 0.5);\">xxmaj</span> <span title=\"0.019\" style=\"background-color: rgba(254, 242, 236, 0.5);\">subnuclear</span> <span title=\"0.052\" style=\"background-color: rgba(254, 236, 227, 0.5);\">renal</span> <span title=\"0.353\" style=\"background-color: rgba(252, 153, 122, 0.5);\">tubular</span> <span title=\"0.222\" style=\"background-color: rgba(252, 195, 172, 0.5);\">vacuoles</span> <span title=\"0.122\" style=\"background-color: rgba(254, 224, 210, 0.5);\">(</span> <span title=\"0.172\" style=\"background-color: rgba(253, 209, 191, 0.5);\">xxmaj</span> <span title=\"0.022\" style=\"background-color: rgba(254, 241, 235, 0.5);\">armani</span> <span title=\"0.026\" style=\"background-color: rgba(254, 241, 234, 0.5);\">-</span> <span title=\"0.172\" style=\"background-color: rgba(253, 209, 191, 0.5);\">xxmaj</span> <span title=\"0.026\" style=\"background-color: rgba(254, 241, 234, 0.5);\">ebstein</span> <span title=\"0.027\" style=\"background-color: rgba(254, 241, 234, 0.5);\">change</span> <span title=\"0.165\" style=\"background-color: rgba(253, 212, 194, 0.5);\">)</span> <span title=\"0.082\" style=\"background-color: rgba(254, 231, 221, 0.5);\">in</span> <span title=\"0.024\" style=\"background-color: rgba(254, 241, 234, 0.5);\">a</span> <span title=\"0.056\" style=\"background-color: rgba(254, 235, 226, 0.5);\">background</span> <span title=\"0.026\" style=\"background-color: rgba(254, 241, 234, 0.5);\">of</span> <span title=\"0.085\" style=\"background-color: rgba(254, 231, 220, 0.5);\">tubular</span> <span title=\"0.023\" style=\"background-color: rgba(254, 241, 235, 0.5);\">autolysis</span> <span title=\"0.069\" style=\"background-color: rgba(254, 233, 224, 0.5);\">;</span> <span title=\"0.045\" style=\"background-color: rgba(254, 237, 229, 0.5);\">focal</span> <span title=\"0.025\" style=\"background-color: rgba(254, 241, 234, 0.5);\">glomerulosclerosis</span> <span title=\"0.062\" style=\"background-color: rgba(254, 235, 225, 0.5);\">;</span> <span title=\"0.074\" style=\"background-color: rgba(254, 233, 223, 0.5);\">arteriolosclerosis</span> <span title=\"0.018\" style=\"background-color: rgba(254, 242, 236, 0.5);\">.</span> <span title=\"0.048\" style=\"background-color: rgba(254, 237, 228, 0.5);\">xxmaj</span> <span title=\"0.014\" style=\"background-color: rgba(254, 243, 237, 0.5);\">liver</span> <span title=\"0.006\" style=\"background-color: rgba(254, 244, 239, 0.5);\">:</span> <span title=\"0.029\" style=\"background-color: rgba(254, 240, 233, 0.5);\">xxmaj</span> <span title=\"0.129\" style=\"background-color: rgba(253, 223, 209, 0.5);\">marked</span> <span title=\"0.018\" style=\"background-color: rgba(254, 242, 236, 0.5);\">steatosis</span> <span title=\"0.030\" style=\"background-color: rgba(254, 240, 233, 0.5);\">with</span> <span title=\"0.182\" style=\"background-color: rgba(253, 207, 188, 0.5);\">increased</span> <span title=\"0.249\" style=\"background-color: rgba(252, 187, 162, 0.5);\">portal</span> <span title=\"0.073\" style=\"background-color: rgba(254, 233, 223, 0.5);\">tract</span> <span title=\"0.119\" style=\"background-color: rgba(254, 225, 211, 0.5);\">fibrosis</span> <span title=\"0.115\" style=\"background-color: rgba(254, 225, 212, 0.5);\">,</span> <span title=\"0.082\" style=\"background-color: rgba(254, 231, 220, 0.5);\">bridging</span> <span title=\"0.064\" style=\"background-color: rgba(254, 234, 224, 0.5);\">fibrous</span> <span title=\"0.022\" style=\"background-color: rgba(254, 241, 235, 0.5);\">septa</span> <span title=\"0.179\" style=\"background-color: rgba(253, 208, 189, 0.5);\">and</span> <span title=\"0.126\" style=\"background-color: rgba(253, 223, 209, 0.5);\">chronic</span> <span title=\"0.081\" style=\"background-color: rgba(254, 231, 221, 0.5);\">periportal</span> <span title=\"0.026\" style=\"background-color: rgba(254, 241, 234, 0.5);\">and</span> <span title=\"0.093\" style=\"background-color: rgba(254, 229, 218, 0.5);\">septal</span> <span title=\"0.122\" style=\"background-color: rgba(254, 224, 210, 0.5);\">inflammation</span> <span title=\"0.034\" style=\"background-color: rgba(254, 239, 232, 0.5);\">.</span> <span title=\"0.046\" style=\"background-color: rgba(254, 237, 229, 0.5);\">xxmaj</span> <span title=\"0.017\" style=\"background-color: rgba(254, 242, 236, 0.5);\">lungs</span> <span title=\"0.008\" style=\"background-color: rgba(254, 244, 239, 0.5);\">:</span> <span title=\"0.004\" style=\"background-color: rgba(254, 244, 239, 0.5);\">xxmaj</span> <span title=\"0.020\" style=\"background-color: rgba(254, 241, 235, 0.5);\">focal</span> <span title=\"0.090\" style=\"background-color: rgba(254, 229, 218, 0.5);\">areas</span> <span title=\"0.020\" style=\"background-color: rgba(254, 241, 235, 0.5);\">of</span> <span title=\"0.029\" style=\"background-color: rgba(254, 240, 233, 0.5);\">increased</span> <span title=\"0.101\" style=\"background-color: rgba(254, 228, 216, 0.5);\">intra</span> <span title=\"0.071\" style=\"background-color: rgba(254, 233, 223, 0.5);\">-</span> <span title=\"0.023\" style=\"background-color: rgba(254, 241, 235, 0.5);\">alveolar</span> <span title=\"0.098\" style=\"background-color: rgba(254, 228, 216, 0.5);\">eosinophilic</span> <span title=\"0.101\" style=\"background-color: rgba(254, 228, 216, 0.5);\">granular</span> <span title=\"0.017\" style=\"background-color: rgba(254, 242, 236, 0.5);\">material</span> <span title=\"0.056\" style=\"background-color: rgba(254, 235, 226, 0.5);\">(</span> <span title=\"0.124\" style=\"background-color: rgba(254, 224, 210, 0.5);\">pulmonary</span> <span title=\"0.072\" style=\"background-color: rgba(254, 233, 223, 0.5);\">edema</span> <span title=\"0.052\" style=\"background-color: rgba(254, 236, 227, 0.5);\">)</span> <span title=\"0.021\" style=\"background-color: rgba(254, 241, 235, 0.5);\">and</span> <span title=\"0.084\" style=\"background-color: rgba(254, 231, 220, 0.5);\">pigment</span> <span title=\"0.037\" style=\"background-color: rgba(254, 239, 231, 0.5);\">laden</span> <span title=\"0.015\" style=\"background-color: rgba(254, 243, 237, 0.5);\">macrophages</span> <span title=\"0.022\" style=\"background-color: rgba(254, 241, 235, 0.5);\">.</span> <span title=\"0.062\" style=\"background-color: rgba(254, 235, 225, 0.5);\">xxmaj</span> <span title=\"0.035\" style=\"background-color: rgba(254, 239, 232, 0.5);\">rare</span> <span title=\"0.020\" style=\"background-color: rgba(254, 241, 235, 0.5);\">focus</span> <span title=\"0.008\" style=\"background-color: rgba(254, 244, 239, 0.5);\">of</span> <span title=\"0.012\" style=\"background-color: rgba(254, 243, 237, 0.5);\">septal</span> <span title=\"0.064\" style=\"background-color: rgba(254, 234, 224, 0.5);\">fibrosis</span> <span title=\"0.061\" style=\"background-color: rgba(254, 235, 225, 0.5);\">.</span> <span title=\"0.019\" style=\"background-color: rgba(254, 242, 236, 0.5);\">xxmaj</span> <span title=\"0.044\" style=\"background-color: rgba(254, 237, 229, 0.5);\">heart</span> <span title=\"0.022\" style=\"background-color: rgba(254, 241, 235, 0.5);\">:</span> <span title=\"0.005\" style=\"background-color: rgba(254, 244, 239, 0.5);\">xxmaj</span> <span title=\"0.004\" style=\"background-color: rgba(254, 244, 239, 0.5);\">patchy</span> <span title=\"0.019\" style=\"background-color: rgba(254, 242, 236, 0.5);\">left</span> <span title=\"0.072\" style=\"background-color: rgba(254, 233, 223, 0.5);\">ventricular</span> <span title=\"0.015\" style=\"background-color: rgba(254, 243, 237, 0.5);\">myocyte</span> <span title=\"0.013\" style=\"background-color: rgba(254, 243, 237, 0.5);\">hypertrophy</span> <span title=\"0.060\" style=\"background-color: rgba(254, 235, 225, 0.5);\">.</span> <span title=\"0.045\" style=\"background-color: rgba(254, 237, 229, 0.5);\">xxmaj</span> <span title=\"0.135\" style=\"background-color: rgba(253, 221, 206, 0.5);\">pancreas</span> <span title=\"0.099\" style=\"background-color: rgba(254, 228, 216, 0.5);\">:</span> <span title=\"0.072\" style=\"background-color: rgba(254, 233, 223, 0.5);\">xxmaj</span> <span title=\"0.023\" style=\"background-color: rgba(254, 241, 235, 0.5);\">irregular</span> <span title=\"0.015\" style=\"background-color: rgba(254, 243, 237, 0.5);\">interlobular</span> <span title=\"0.057\" style=\"background-color: rgba(254, 235, 226, 0.5);\">fibrosis</span> <span title=\"0.535\" style=\"background-color: rgba(247, 93, 66, 0.5);\">without</span> <span title=\"0.059\" style=\"background-color: rgba(254, 235, 225, 0.5);\">acute</span> <span title=\"0.111\" style=\"background-color: rgba(254, 226, 213, 0.5);\">or</span> <span title=\"0.379\" style=\"background-color: rgba(251, 144, 112, 0.5);\">chronic</span> <span title=\"1.000\" style=\"background-color: rgba(103, 0, 12, 0.5);\">inflammation</span> <span title=\"0.368\" style=\"background-color: rgba(252, 148, 116, 0.5);\">.</span> <span title=\"0.318\" style=\"background-color: rgba(252, 164, 135, 0.5);\">xxmaj</span> <span title=\"0.401\" style=\"background-color: rgba(251, 138, 106, 0.5);\">brain</span> <span title=\"0.126\" style=\"background-color: rgba(253, 223, 209, 0.5);\">:</span> <span title=\"0.168\" style=\"background-color: rgba(253, 212, 194, 0.5);\">xxmaj</span> <span title=\"0.047\" style=\"background-color: rgba(254, 237, 228, 0.5);\">no</span> <span title=\"0.021\" style=\"background-color: rgba(254, 241, 235, 0.5);\">histopathologic</span> <span title=\"0.009\" style=\"background-color: rgba(254, 243, 238, 0.5);\">diagnosis</span> <span title=\"0.028\" style=\"background-color: rgba(254, 240, 233, 0.5);\">.</span> <span title=\"0.130\" style=\"background-color: rgba(253, 222, 208, 0.5);\">.locationextremity</span> <span title=\"0.018\" style=\"background-color: rgba(254, 242, 236, 0.5);\">.injuryblunt</span> <span title=\"0.022\" style=\"background-color: rgba(254, 241, 235, 0.5);\">injury</span> <span title=\"0.047\" style=\"background-color: rgba(254, 237, 229, 0.5);\">.</span> <span title=\"0.114\" style=\"background-color: rgba(254, 225, 212, 0.5);\">xxup</span> <span title=\"0.056\" style=\"background-color: rgba(254, 235, 226, 0.5);\">.injurydesc</span> <span title=\"0.009\" style=\"background-color: rgba(254, 243, 238, 0.5);\">.</span> <span title=\"0.005\" style=\"background-color: rgba(254, 244, 239, 0.5);\">xxmaj</span> <span title=\"0.091\" style=\"background-color: rgba(254, 229, 218, 0.5);\">there</span> <span title=\"0.019\" style=\"background-color: rgba(254, 242, 236, 0.5);\">is</span> <span title=\"0.044\" style=\"background-color: rgba(254, 237, 229, 0.5);\">a</span> <span title=\"0.019\" style=\"background-color: rgba(254, 242, 236, 0.5);\">single</span> <span title=\"0.006\" style=\"background-color: rgba(254, 244, 239, 0.5);\">,</span> <span title=\"0.006\" style=\"background-color: rgba(254, 244, 239, 0.5);\">1</span> <span title=\"0.004\" style=\"background-color: rgba(254, 244, 239, 0.5);\">cm</span> <span title=\"0.011\" style=\"background-color: rgba(254, 243, 238, 0.5);\">,</span> <span title=\"0.004\" style=\"background-color: rgba(254, 244, 239, 0.5);\">purple</span> <span title=\"0.005\" style=\"background-color: rgba(254, 244, 239, 0.5);\">-</span> <span title=\"0.014\" style=\"background-color: rgba(254, 243, 237, 0.5);\">black</span> <span title=\"0.028\" style=\"background-color: rgba(254, 240, 233, 0.5);\">contusion</span> <span title=\"0.019\" style=\"background-color: rgba(254, 242, 236, 0.5);\">on</span> <span title=\"0.010\" style=\"background-color: rgba(254, 243, 238, 0.5);\">the</span> <span title=\"0.100\" style=\"background-color: rgba(254, 228, 216, 0.5);\">right</span> <span title=\"0.029\" style=\"background-color: rgba(254, 240, 233, 0.5);\">anterior</span> <span title=\"0.023\" style=\"background-color: rgba(254, 241, 235, 0.5);\">forearm</span> <span title=\"0.016\" style=\"background-color: rgba(254, 242, 236, 0.5);\">.</span> <span title=\"0.019\" style=\"background-color: rgba(254, 242, 236, 0.5);\">xxmaj</span> <span title=\"0.027\" style=\"background-color: rgba(254, 241, 234, 0.5);\">additionally</span> <span title=\"0.011\" style=\"background-color: rgba(254, 243, 238, 0.5);\">,</span> <span title=\"0.021\" style=\"background-color: rgba(254, 241, 235, 0.5);\">a</span> <span title=\"0.019\" style=\"background-color: rgba(254, 242, 236, 0.5);\">confluence</span> <span title=\"0.015\" style=\"background-color: rgba(254, 243, 237, 0.5);\">of</span> <span title=\"0.008\" style=\"background-color: rgba(254, 243, 238, 0.5);\">less</span> <span title=\"0.011\" style=\"background-color: rgba(254, 243, 238, 0.5);\">than</span> <span title=\"0.024\" style=\"background-color: rgba(254, 241, 234, 0.5);\">1</span> <span title=\"0.046\" style=\"background-color: rgba(254, 237, 229, 0.5);\">cm</span> <span title=\"0.005\" style=\"background-color: rgba(254, 244, 239, 0.5);\">ecchymoses</span> <span title=\"0.006\" style=\"background-color: rgba(254, 244, 239, 0.5);\">is</span> <span title=\"0.050\" style=\"background-color: rgba(254, 237, 228, 0.5);\">present</span> <span title=\"0.011\" style=\"background-color: rgba(254, 243, 238, 0.5);\">on</span> <span title=\"0.025\" style=\"background-color: rgba(254, 241, 234, 0.5);\">the</span> <span title=\"0.138\" style=\"background-color: rgba(253, 220, 205, 0.5);\">left</span> <span title=\"0.027\" style=\"background-color: rgba(254, 241, 234, 0.5);\">arm</span> <span title=\"0.052\" style=\"background-color: rgba(254, 236, 227, 0.5);\">just</span> <span title=\"0.031\" style=\"background-color: rgba(254, 240, 233, 0.5);\">below</span> <span title=\"0.025\" style=\"background-color: rgba(254, 241, 234, 0.5);\">the</span> <span title=\"0.016\" style=\"background-color: rgba(254, 242, 236, 0.5);\">shoulder</span> <span title=\"0.107\" style=\"background-color: rgba(254, 227, 214, 0.5);\">.</span> <span title=\"0.018\" style=\"background-color: rgba(254, 242, 236, 0.5);\">.locationextremity</span> <span title=\"0.058\" style=\"background-color: rgba(254, 235, 226, 0.5);\">.injuryblunt</span> <span title=\"0.030\" style=\"background-color: rgba(254, 240, 233, 0.5);\">injury</span> <span title=\"0.015\" style=\"background-color: rgba(254, 243, 237, 0.5);\">.</span> <span title=\"0.017\" style=\"background-color: rgba(254, 242, 236, 0.5);\">xxup</span> <span title=\"0.057\" style=\"background-color: rgba(254, 235, 226, 0.5);\">.injurydesc</span> <span title=\"0.047\" style=\"background-color: rgba(254, 237, 228, 0.5);\">.</span> <span title=\"0.060\" style=\"background-color: rgba(254, 235, 225, 0.5);\">xxmaj</span> <span title=\"0.020\" style=\"background-color: rgba(254, 241, 235, 0.5);\">two</span> <span title=\"0.020\" style=\"background-color: rgba(254, 241, 235, 0.5);\">small</span> <span title=\"0.004\" style=\"background-color: rgba(254, 244, 239, 0.5);\">,</span> <span title=\"0.004\" style=\"background-color: rgba(254, 244, 239, 0.5);\">blue</span> <span title=\"0.072\" style=\"background-color: rgba(254, 233, 223, 0.5);\">-</span> <span title=\"0.012\" style=\"background-color: rgba(254, 243, 237, 0.5);\">black</span> <span title=\"0.031\" style=\"background-color: rgba(254, 240, 233, 0.5);\">,</span> <span title=\"0.013\" style=\"background-color: rgba(254, 243, 237, 0.5);\">2</span> <span title=\"0.004\" style=\"background-color: rgba(254, 244, 239, 0.5);\">cm</span> <span title=\"0.004\" style=\"background-color: rgba(255, 245, 240, 0.5);\">contusions</span> <span title=\"0.005\" style=\"background-color: rgba(254, 244, 239, 0.5);\">are</span> <span title=\"0.009\" style=\"background-color: rgba(254, 243, 238, 0.5);\">present</span> <span title=\"0.004\" style=\"background-color: rgba(255, 245, 240, 0.5);\">on</span> <span title=\"0.005\" style=\"background-color: rgba(254, 244, 239, 0.5);\">the</span> <span title=\"0.011\" style=\"background-color: rgba(254, 243, 238, 0.5);\">right</span> <span title=\"0.030\" style=\"background-color: rgba(254, 240, 233, 0.5);\">and</span> <span title=\"0.044\" style=\"background-color: rgba(254, 237, 229, 0.5);\">left</span> <span title=\"0.014\" style=\"background-color: rgba(254, 243, 237, 0.5);\">anterior</span> <span title=\"0.031\" style=\"background-color: rgba(254, 240, 233, 0.5);\">thighs</span> <span title=\"0.009\" style=\"background-color: rgba(254, 243, 238, 0.5);\">.</span> <span title=\"0.018\" style=\"background-color: rgba(254, 242, 236, 0.5);\">.locationextremity</span> <span title=\"0.010\" style=\"background-color: rgba(254, 243, 238, 0.5);\">.injuryblunt</span> <span title=\"0.024\" style=\"background-color: rgba(254, 241, 234, 0.5);\">injury</span> <span title=\"0.007\" style=\"background-color: rgba(254, 244, 239, 0.5);\">.</span> <span title=\"0.028\" style=\"background-color: rgba(254, 240, 233, 0.5);\">xxup</span> <span title=\"0.018\" style=\"background-color: rgba(254, 242, 236, 0.5);\">.injurydesc</span> <span title=\"0.035\" style=\"background-color: rgba(254, 239, 232, 0.5);\">.</span> <span title=\"0.023\" style=\"background-color: rgba(254, 241, 235, 0.5);\">a</span> <span title=\"0.014\" style=\"background-color: rgba(254, 243, 237, 0.5);\">thin</span> <span title=\"0.025\" style=\"background-color: rgba(254, 241, 234, 0.5);\">,</span> <span title=\"0.023\" style=\"background-color: rgba(254, 241, 235, 0.5);\">sub</span> <span title=\"0.028\" style=\"background-color: rgba(254, 240, 233, 0.5);\">-</span> <span title=\"0.017\" style=\"background-color: rgba(254, 242, 236, 0.5);\">centimeter</span> <span title=\"0.033\" style=\"background-color: rgba(254, 239, 232, 0.5);\">linear</span> <span title=\"0.007\" style=\"background-color: rgba(254, 244, 239, 0.5);\">abrasion</span> <span title=\"0.005\" style=\"background-color: rgba(254, 244, 239, 0.5);\">is</span> <span title=\"0.077\" style=\"background-color: rgba(254, 232, 222, 0.5);\">present</span> <span title=\"0.012\" style=\"background-color: rgba(254, 243, 237, 0.5);\">along</span> <span title=\"0.044\" style=\"background-color: rgba(254, 237, 229, 0.5);\">the</span> <span title=\"0.012\" style=\"background-color: rgba(254, 243, 237, 0.5);\">posterior</span> <span title=\"0.004\" style=\"background-color: rgba(254, 244, 239, 0.5);\">aspect</span> <span title=\"0.003\" style=\"background-color: rgba(255, 245, 240, 0.5);\">of</span> <span title=\"0.005\" style=\"background-color: rgba(254, 244, 239, 0.5);\">the</span> <span title=\"0.016\" style=\"background-color: rgba(254, 242, 236, 0.5);\">right</span> <span title=\"0.004\" style=\"background-color: rgba(254, 244, 239, 0.5);\">forearm</span> <span title=\"0.010\" style=\"background-color: rgba(254, 243, 238, 0.5);\">,</span> <span title=\"0.028\" style=\"background-color: rgba(254, 240, 233, 0.5);\">near</span> <span title=\"0.111\" style=\"background-color: rgba(254, 226, 213, 0.5);\">the</span> <span title=\"0.024\" style=\"background-color: rgba(254, 241, 234, 0.5);\">wrist</span> <span title=\"0.073\" style=\"background-color: rgba(254, 233, 223, 0.5);\">.</span></span>"
      ],
      "text/plain": [
       "<IPython.core.display.HTML object>"
      ]
     },
     "metadata": {},
     "output_type": "display_data"
    }
   ],
   "source": [
    "interpret_result(10307)"
   ]
  },
  {
   "cell_type": "code",
   "execution_count": 42,
   "metadata": {},
   "outputs": [
    {
     "name": "stdout",
     "output_type": "stream",
     "text": [
      "True Label: Homicide\n",
      "\n",
      "Pred Label: Homicide\n",
      "\n",
      "Class Probabilities: tensor([0.0698, 0.8956, 0.0156, 0.0190])\n",
      "\n",
      "***Raw Text***\n",
      "\n",
      ".MICRO.\n",
      "NONE\n",
      ".LOCATIONTrunk\n",
      ".INJURYFirearm injury.\n",
      ".INJURYDESC.\n",
      "GUNSHOT WOUND OF THE ANTERIOR RIGHT CHEST\n",
      "\n",
      "Entrance:\n",
      "\n",
      "On the anterior right chest, 48 cm below the top of the head, 6 cm right of the anterior midline, and 8 cm inferomedial to the right nipple, is an entrance gunshot wound consisting of a 0.5 cm round defect with a 0.7 x 0.7 cm dark red abrasion at the lateral edge of the defect.  Soot, unburned gunpowder particles and gunpowder stippling are not visible on the skin surrounding the wound.\n",
      "\n",
      "Path:\n",
      "\n",
      "The hemorrhagic wound track sequentially perforates the skin and subcutaneous tissue of the anterior right and left side of the chest, the anterior 4th and 5th left ribs, the lateral 5th left intercostal space, and the skin and subcutaneous tissue of the lateral upper left chest.  \n",
      "\n",
      "Associated injuries include a 2 x 0.5 cm linear, red abrasion of the paramidline mid left chest and fractures of the anterior 4th and 5th left ribs.\n",
      "\n",
      "Exit:\n",
      "\n",
      "On the lateral upper left chest in the anterior axillary line, 42.5 cm below the top of the head and 14.5 cm left of the anterior midline, is an exit gunshot wound consisting of multiple lacerations ranging in size from 0.2 cm to 2 x 1.4 cm.  The wound is eccentrically located within an 8 x 4 cm irregular, red, dry abrasion.\n",
      "\n",
      "Re-entrance:\n",
      "\n",
      "On the proximal medial upper left arm, 8 cm below the axilla and 5 cm right of the anterior arm midline, is a irregular reentrance gunshot wound consisting of a 1 x 0.5 cm oval defect eccentrically located within a 4.5 x 2.5 cm red/orange, dry abrasion.\n",
      "\n",
      "Trajectory:\n",
      "\n",
      "The wound track travels from the decedentâs front to back, right to left and upward.\n",
      "\n",
      "Clothing:\n",
      "\n",
      "On the right chest area of the blue t-shirt and corresponding to the entrance gunshot wound is a defect with frayed edges.  On the lateral left chest area and left sleeve of the blue t-shirt and corresponding to the exit and reentrance gunshot wounds are irregular defects.  Soot or unburned gunpowder particles are not visible on the fabric surrounding the defect.\n",
      "\n",
      "\n",
      "GUNSHOT WOUND OF THE LATERAL RIGHT CHEST\n",
      "\n",
      "Entrance:\n",
      "\n",
      "On the lateral mid right chest, 46 cm below the top of the head and 15 cm right of the anterior midline, is an entrance gunshot wound consisting of a 0.6 x 0.5 cm oval defect with an up to 0.2 cm wide circumferential marginal abrasion which is widest at the lateral edge of the defect.  Soot, unburned gunpowder particles and gunpowder stippling are not visible on the skin surrounding the wound.\n",
      "\n",
      "Path:\n",
      "\n",
      "The hemorrhagic wound track sequentially perforates the skin and subcutaneous tissue of the lateral mid right back; the lateral 6th right rib; the middle lobe of the right lung; the upper lobe of the right lung including the hilum; the right and left atria including the tricuspid, pulmonic, mitral and aortic valves; and the upper lobe of the left lung including the hilum.  \n",
      "\n",
      "Associated injuries include a 1 x 0.5 cm 'Y'-shaped abrasion distinct from and adjacent to the entrance defect, fracture of the lateral 6th left rib, lacerations of the lower lobe of the right lung, a 700 ml right hemothroax, a 150 ml left hemothroax and lacerations of the parietal pleura of the 4th and 6th left intercostal spaces.\n",
      "\n",
      "Recovery:\n",
      "\n",
      "Recovered in the upper lobe of the left lung is a 4.2 grain missile fragment.  Recovered in the 6th left intercostal space is a 4.8 grain missile fragment.\n",
      "\n",
      "Trajectory:\n",
      "\n",
      "The wound track travels from the decedentâs right to left and slightly upward with no significant front or back trajectory.\n",
      "\n",
      "Clothing:\n",
      "\n",
      "On the lateral right chest area of the blue shirt and corresponding to the entrance gunshot wound is a small defect with frayed edges.  Soot or unburned gunpowder particles are not visible on the fabric surrounding the defect.\n",
      "\n",
      "\n",
      "GUNSHOT WOUND OF THE LATERAL LEFT BACK\n",
      "\n",
      "Entrance:\n",
      "\n",
      "On the upper lateral left back, 40 cm below the top of the head and 18 cm left of the posterior midline, is an entrance gunshot wound consisting of a 0.5 x 0.4 cm oval defect with a 0.2 cm wide circumferential pink marginal abrasion.  Soot, unburned gunpowder particles and gunpowder stippling are not visible on the skin surrounding the wound.\n",
      "\n",
      "Path:\n",
      "\n",
      "The hemorrhagic wound track sequentially perforates the skin and subcutaneous tissue of the lateral upper left back and anterior mid left chest. \n",
      "\n",
      "Exit:\n",
      "\n",
      "On the anterior mid left chest, 45 cm below the top of the head and 7 cm left of the anterior midline, is an exit gunshot wound consisting of a 1.5 x 1 cm laceration without marginal abrasion.  A 0.5 cm fragment defect is located inferomedial to the exit defect. \n",
      "  \n",
      "Recovery:\n",
      "\n",
      "Recovered in the soft tissue of the left chest near the exit defect is a 4.6 grain fragment of a deformed copper jacket.\n",
      "\n",
      "Trajectory:\n",
      "\n",
      "The wound track travels from the decedentâs back to front, left to right and downward.\n",
      "\n",
      "Clothing:\n",
      "\n",
      "On the lateral left back area of the blue t-shirt and corresponding to the entrance gunshot wound is a small defect with frayed edges.  Soot or unburned gunpowder particles are not visible on the fabric surrounding the defect.\n",
      "\n",
      "\n",
      ".LOCATIONExtremity\n",
      ".INJURYFirearm injury.\n",
      ".INJURYDESC.\n",
      "GUNSHOT WOUND OF THE LATERAL UPPER RIGHT ARM\n",
      "\n",
      "Entrance:\n",
      "\n",
      "On the lateral upper right arm, 23.5 cm below the acromoclavicular joint and 5 cm right of the anterior arm midline, is an entrance gunshot wound consisting of a 1.5 x 1 cm oval defect with a 0.1 cm to 0.2 cm wide circumferential pink marginal abrasion which is widest from 12 to 6 oâclock.  Soot, unburned gunpowder particles and gunpowder stippling are not visible on the skin surrounding the wound.\n",
      "\n",
      "Path:\n",
      "\n",
      "The hemorrhagic wound track sequentially perforates the skin and subcutaneous tissue of the upper right arm.  \n",
      "\n",
      "Exit:\n",
      "\n",
      "On the posteromedial upper right arm, 16 cm below the axilla and 4.5 cm left of the anterior arm midline, is an exit gunshot wound consisting of a 9 x 3.5 cm gaping laceration without marginal abrasion.  \n",
      "\n",
      "Re-entrance:\n",
      "\n",
      "On the lateral lower right abdomen, centered 67.5 cm below the top of the head and 14 cm right of the anterior midline, is a 3.5 x 1.7 cm irregular laceration.  Multiple small punctate and linear red/orange, dry abrasions surround the reentrance defect, and a 0.8 x 0.3 cm defect within a 1.5 x 1 cm dark red abrasion is directly superior to the reentrance defect.\n",
      "\n",
      "Path:\n",
      "\n",
      "The hemorrhagic wound track penetrates the soft tissue of the abdominal wall only.\n",
      "\n",
      "Recovery:\n",
      "\n",
      "Recovered in the soft tissue of the right abdominal wall are fragments of a deformed copper jacket and lead missile weighing 11.4 grains in aggregate. \n",
      "\n",
      "Trajectory:\n",
      "\n",
      "The wound track travels from the decedentâs back to front, right to left and downward.\n",
      "\n",
      "Clothing:\n",
      "\n",
      "On the right sleeve of the blue t-shirt and corresponding to the entrance and exit gunshot wounds are defects with frayed edges.  Soot or unburned gunpowder particles are not visible on the fabric surrounding the defects.\n",
      "\n",
      "\n",
      ".LOCATIONHead\n",
      ".INJURYBlunt injury.\n",
      ".INJURYDESC.\n",
      "On the anterior and superior right frontal scalp is a 10 x 5 cm area of red, dry, linear abrasions.\n",
      "\n",
      "On the anterior left frontal scalp is a 7 x 7 cm area of red, dry abrasions.\n",
      "\n",
      "On the skin at the lateral canthus of the right eye are 0.8 cm and 0.5 cm red, dry abrasions.\n",
      "\n",
      "On the skin overlying the left zygoma is a 4 x 1.5 cm red, dry abrasion.\n",
      "\n",
      "On the nose is a 1.5 cm linear, red abrasion.\n",
      "\n",
      "On the right side of the upper lip and on the right cheek are 1 x 1 cm and 2 x 1.5 cm areas of red, dry abrasions.\n",
      "\n",
      "\n",
      ".LOCATIONExtremities\n",
      ".INJURYBlunt injury.\n",
      ".INJURYDESC.\n",
      "On the posterior proximal right forearm is an 11 x 5 cm area of red/orange, dry abrasions.\n",
      "\n",
      "On the distal right thigh is an 8 x 6 cm area of orange, dry abrasions.\n",
      "\n",
      "On the distal lateral right knee is a 2 x 1.5 cm orange, dry abrasion.\n",
      "\n",
      "On the anterior lower right leg are multiple, scattered, small, orange abrasions.\n",
      "\n",
      "On the medial left knee is a 4 x 3.5 cm orange, dry abrasion.\n",
      "\n",
      "On the lateral left knee are three distinct 0.5 cm orange abrasions.\n",
      "\n",
      "On the lower left leg is an 11 x 0.2 cm linear red abrasion, and parallel, 2.5 x 0.5 cm and 2 x 0.5 cm red, dry abrasions.\n",
      "\n",
      "On the posterior medial mid and distal left thigh are 0.3 x 0.2 cm, 0.3 x 0.2 cm and 0.4 x 0.2 cm red abrasions.\n",
      "\n",
      "On the mid right calf is a 0.5 x 0.3 cm red abrasion.\n",
      "\n",
      "\n",
      "***Intrinsic Attention***\n"
     ]
    },
    {
     "data": {
      "text/html": [
       "<span style=\"font-family: monospace;\"><span title=\"0.017\" style=\"background-color: rgba(254, 242, 236, 0.5);\">xxbos</span> <span title=\"0.010\" style=\"background-color: rgba(254, 243, 238, 0.5);\">xxup</span> <span title=\"0.005\" style=\"background-color: rgba(254, 244, 239, 0.5);\">.micro</span> <span title=\"0.019\" style=\"background-color: rgba(254, 242, 236, 0.5);\">.</span> <span title=\"0.004\" style=\"background-color: rgba(255, 245, 240, 0.5);\">xxup</span> <span title=\"0.006\" style=\"background-color: rgba(254, 244, 239, 0.5);\">none</span> <span title=\"0.015\" style=\"background-color: rgba(254, 243, 237, 0.5);\">.locationtrunk</span> <span title=\"0.054\" style=\"background-color: rgba(254, 236, 227, 0.5);\">.injuryfirearm</span> <span title=\"0.049\" style=\"background-color: rgba(254, 237, 228, 0.5);\">injury</span> <span title=\"0.359\" style=\"background-color: rgba(252, 151, 120, 0.5);\">.</span> <span title=\"0.022\" style=\"background-color: rgba(254, 241, 235, 0.5);\">xxup</span> <span title=\"0.147\" style=\"background-color: rgba(253, 218, 202, 0.5);\">.injurydesc</span> <span title=\"0.098\" style=\"background-color: rgba(254, 228, 216, 0.5);\">.</span> <span title=\"0.008\" style=\"background-color: rgba(254, 244, 239, 0.5);\">xxup</span> <span title=\"0.006\" style=\"background-color: rgba(254, 244, 239, 0.5);\">gunshot</span> <span title=\"0.008\" style=\"background-color: rgba(254, 243, 238, 0.5);\">xxup</span> <span title=\"0.019\" style=\"background-color: rgba(254, 242, 236, 0.5);\">wound</span> <span title=\"0.008\" style=\"background-color: rgba(254, 243, 238, 0.5);\">xxup</span> <span title=\"0.011\" style=\"background-color: rgba(254, 243, 238, 0.5);\">of</span> <span title=\"0.023\" style=\"background-color: rgba(254, 241, 235, 0.5);\">xxup</span> <span title=\"0.101\" style=\"background-color: rgba(254, 228, 216, 0.5);\">the</span> <span title=\"0.019\" style=\"background-color: rgba(254, 242, 236, 0.5);\">xxup</span> <span title=\"0.088\" style=\"background-color: rgba(254, 230, 219, 0.5);\">anterior</span> <span title=\"0.029\" style=\"background-color: rgba(254, 240, 233, 0.5);\">xxup</span> <span title=\"0.042\" style=\"background-color: rgba(254, 238, 230, 0.5);\">right</span> <span title=\"0.035\" style=\"background-color: rgba(254, 239, 231, 0.5);\">xxup</span> <span title=\"0.064\" style=\"background-color: rgba(254, 234, 224, 0.5);\">chest</span> <span title=\"0.026\" style=\"background-color: rgba(254, 241, 234, 0.5);\">xxmaj</span> <span title=\"0.163\" style=\"background-color: rgba(253, 213, 195, 0.5);\">entrance</span> <span title=\"0.036\" style=\"background-color: rgba(254, 239, 231, 0.5);\">:</span> <span title=\"0.118\" style=\"background-color: rgba(254, 225, 211, 0.5);\">xxmaj</span> <span title=\"0.039\" style=\"background-color: rgba(254, 238, 230, 0.5);\">on</span> <span title=\"0.189\" style=\"background-color: rgba(252, 205, 185, 0.5);\">the</span> <span title=\"0.033\" style=\"background-color: rgba(254, 239, 232, 0.5);\">anterior</span> <span title=\"0.046\" style=\"background-color: rgba(254, 237, 229, 0.5);\">right</span> <span title=\"0.153\" style=\"background-color: rgba(253, 215, 199, 0.5);\">chest</span> <span title=\"0.050\" style=\"background-color: rgba(254, 237, 228, 0.5);\">,</span> <span title=\"0.026\" style=\"background-color: rgba(254, 241, 234, 0.5);\">48</span> <span title=\"0.042\" style=\"background-color: rgba(254, 238, 230, 0.5);\">cm</span> <span title=\"0.067\" style=\"background-color: rgba(254, 233, 224, 0.5);\">below</span> <span title=\"0.039\" style=\"background-color: rgba(254, 239, 231, 0.5);\">the</span> <span title=\"0.097\" style=\"background-color: rgba(254, 229, 217, 0.5);\">top</span> <span title=\"0.126\" style=\"background-color: rgba(253, 223, 209, 0.5);\">of</span> <span title=\"0.214\" style=\"background-color: rgba(252, 198, 175, 0.5);\">the</span> <span title=\"0.097\" style=\"background-color: rgba(254, 229, 217, 0.5);\">head</span> <span title=\"0.179\" style=\"background-color: rgba(253, 208, 189, 0.5);\">,</span> <span title=\"0.055\" style=\"background-color: rgba(254, 235, 226, 0.5);\">6</span> <span title=\"0.065\" style=\"background-color: rgba(254, 234, 224, 0.5);\">cm</span> <span title=\"0.021\" style=\"background-color: rgba(254, 241, 235, 0.5);\">right</span> <span title=\"0.069\" style=\"background-color: rgba(254, 233, 224, 0.5);\">of</span> <span title=\"0.024\" style=\"background-color: rgba(254, 241, 234, 0.5);\">the</span> <span title=\"0.035\" style=\"background-color: rgba(254, 239, 231, 0.5);\">anterior</span> <span title=\"0.110\" style=\"background-color: rgba(254, 226, 213, 0.5);\">midline</span> <span title=\"0.053\" style=\"background-color: rgba(254, 236, 227, 0.5);\">,</span> <span title=\"0.084\" style=\"background-color: rgba(254, 231, 220, 0.5);\">and</span> <span title=\"0.048\" style=\"background-color: rgba(254, 237, 228, 0.5);\">8</span> <span title=\"0.127\" style=\"background-color: rgba(253, 223, 209, 0.5);\">cm</span> <span title=\"0.062\" style=\"background-color: rgba(254, 235, 225, 0.5);\">inferomedial</span> <span title=\"0.053\" style=\"background-color: rgba(254, 236, 227, 0.5);\">to</span> <span title=\"0.148\" style=\"background-color: rgba(253, 216, 200, 0.5);\">the</span> <span title=\"0.062\" style=\"background-color: rgba(254, 235, 225, 0.5);\">right</span> <span title=\"0.028\" style=\"background-color: rgba(254, 240, 233, 0.5);\">nipple</span> <span title=\"0.064\" style=\"background-color: rgba(254, 234, 224, 0.5);\">,</span> <span title=\"0.092\" style=\"background-color: rgba(254, 229, 218, 0.5);\">is</span> <span title=\"0.048\" style=\"background-color: rgba(254, 237, 228, 0.5);\">an</span> <span title=\"0.158\" style=\"background-color: rgba(253, 214, 197, 0.5);\">entrance</span> <span title=\"0.076\" style=\"background-color: rgba(254, 232, 222, 0.5);\">gunshot</span> <span title=\"0.054\" style=\"background-color: rgba(254, 236, 227, 0.5);\">wound</span> <span title=\"0.088\" style=\"background-color: rgba(254, 230, 219, 0.5);\">consisting</span> <span title=\"0.262\" style=\"background-color: rgba(252, 182, 156, 0.5);\">of</span> <span title=\"0.026\" style=\"background-color: rgba(254, 241, 234, 0.5);\">a</span> <span title=\"0.090\" style=\"background-color: rgba(254, 229, 218, 0.5);\">0.5</span> <span title=\"0.182\" style=\"background-color: rgba(253, 207, 188, 0.5);\">cm</span> <span title=\"0.465\" style=\"background-color: rgba(251, 117, 85, 0.5);\">round</span> <span title=\"0.204\" style=\"background-color: rgba(252, 200, 179, 0.5);\">defect</span> <span title=\"0.128\" style=\"background-color: rgba(253, 223, 209, 0.5);\">with</span> <span title=\"0.295\" style=\"background-color: rgba(252, 172, 144, 0.5);\">a</span> <span title=\"0.129\" style=\"background-color: rgba(253, 223, 209, 0.5);\">0.7</span> <span title=\"0.105\" style=\"background-color: rgba(254, 227, 215, 0.5);\">x</span> <span title=\"0.201\" style=\"background-color: rgba(252, 201, 180, 0.5);\">0.7</span> <span title=\"0.081\" style=\"background-color: rgba(254, 231, 221, 0.5);\">cm</span> <span title=\"0.391\" style=\"background-color: rgba(251, 140, 108, 0.5);\">dark</span> <span title=\"0.798\" style=\"background-color: rgba(187, 20, 25, 0.5);\">red</span> <span title=\"0.372\" style=\"background-color: rgba(252, 146, 114, 0.5);\">abrasion</span> <span title=\"0.212\" style=\"background-color: rgba(252, 198, 175, 0.5);\">at</span> <span title=\"0.337\" style=\"background-color: rgba(252, 158, 128, 0.5);\">the</span> <span title=\"0.140\" style=\"background-color: rgba(253, 220, 205, 0.5);\">lateral</span> <span title=\"0.201\" style=\"background-color: rgba(252, 201, 180, 0.5);\">edge</span> <span title=\"0.121\" style=\"background-color: rgba(254, 224, 210, 0.5);\">of</span> <span title=\"0.585\" style=\"background-color: rgba(242, 74, 53, 0.5);\">the</span> <span title=\"0.397\" style=\"background-color: rgba(251, 139, 107, 0.5);\">defect</span> <span title=\"0.544\" style=\"background-color: rgba(246, 89, 63, 0.5);\">.</span> <span title=\"0.426\" style=\"background-color: rgba(251, 130, 98, 0.5);\">xxmaj</span> <span title=\"0.351\" style=\"background-color: rgba(252, 154, 123, 0.5);\">soot</span> <span title=\"0.839\" style=\"background-color: rgba(175, 17, 23, 0.5);\">,</span> <span title=\"1.000\" style=\"background-color: rgba(103, 0, 12, 0.5);\">unburned</span> <span title=\"0.325\" style=\"background-color: rgba(252, 162, 132, 0.5);\">gunpowder</span> <span title=\"0.215\" style=\"background-color: rgba(252, 197, 174, 0.5);\">particles</span> <span title=\"0.189\" style=\"background-color: rgba(252, 205, 185, 0.5);\">and</span> <span title=\"0.049\" style=\"background-color: rgba(254, 237, 228, 0.5);\">gunpowder</span> <span title=\"0.060\" style=\"background-color: rgba(254, 235, 225, 0.5);\">stippling</span> <span title=\"0.398\" style=\"background-color: rgba(251, 139, 107, 0.5);\">are</span> <span title=\"0.089\" style=\"background-color: rgba(254, 230, 219, 0.5);\">not</span> <span title=\"0.097\" style=\"background-color: rgba(254, 229, 217, 0.5);\">visible</span> <span title=\"0.049\" style=\"background-color: rgba(254, 237, 228, 0.5);\">on</span> <span title=\"0.013\" style=\"background-color: rgba(254, 243, 237, 0.5);\">the</span> <span title=\"0.004\" style=\"background-color: rgba(254, 244, 239, 0.5);\">skin</span> <span title=\"0.013\" style=\"background-color: rgba(254, 243, 237, 0.5);\">surrounding</span> <span title=\"0.020\" style=\"background-color: rgba(254, 241, 235, 0.5);\">the</span> <span title=\"0.004\" style=\"background-color: rgba(255, 245, 240, 0.5);\">wound</span> <span title=\"0.006\" style=\"background-color: rgba(254, 244, 239, 0.5);\">.</span> <span title=\"0.009\" style=\"background-color: rgba(254, 243, 238, 0.5);\">xxmaj</span> <span title=\"0.005\" style=\"background-color: rgba(254, 244, 239, 0.5);\">path</span> <span title=\"0.005\" style=\"background-color: rgba(254, 244, 239, 0.5);\">:</span> <span title=\"0.012\" style=\"background-color: rgba(254, 243, 237, 0.5);\">xxmaj</span> <span title=\"0.009\" style=\"background-color: rgba(254, 243, 238, 0.5);\">the</span> <span title=\"0.006\" style=\"background-color: rgba(254, 244, 239, 0.5);\">hemorrhagic</span> <span title=\"0.007\" style=\"background-color: rgba(254, 244, 239, 0.5);\">wound</span> <span title=\"0.003\" style=\"background-color: rgba(255, 245, 240, 0.5);\">track</span> <span title=\"0.002\" style=\"background-color: rgba(255, 245, 240, 0.5);\">sequentially</span> <span title=\"0.007\" style=\"background-color: rgba(254, 244, 239, 0.5);\">perforates</span> <span title=\"0.035\" style=\"background-color: rgba(254, 239, 231, 0.5);\">the</span> <span title=\"0.006\" style=\"background-color: rgba(254, 244, 239, 0.5);\">skin</span> <span title=\"0.008\" style=\"background-color: rgba(254, 243, 238, 0.5);\">and</span> <span title=\"0.012\" style=\"background-color: rgba(254, 243, 238, 0.5);\">subcutaneous</span> <span title=\"0.011\" style=\"background-color: rgba(254, 243, 238, 0.5);\">tissue</span> <span title=\"0.019\" style=\"background-color: rgba(254, 242, 236, 0.5);\">of</span> <span title=\"0.016\" style=\"background-color: rgba(254, 242, 236, 0.5);\">the</span> <span title=\"0.019\" style=\"background-color: rgba(254, 242, 236, 0.5);\">anterior</span> <span title=\"0.027\" style=\"background-color: rgba(254, 241, 234, 0.5);\">right</span> <span title=\"0.025\" style=\"background-color: rgba(254, 241, 234, 0.5);\">and</span> <span title=\"0.013\" style=\"background-color: rgba(254, 243, 237, 0.5);\">left</span> <span title=\"0.036\" style=\"background-color: rgba(254, 239, 231, 0.5);\">side</span> <span title=\"0.010\" style=\"background-color: rgba(254, 243, 238, 0.5);\">of</span> <span title=\"0.029\" style=\"background-color: rgba(254, 240, 233, 0.5);\">the</span> <span title=\"0.020\" style=\"background-color: rgba(254, 241, 235, 0.5);\">chest</span> <span title=\"0.015\" style=\"background-color: rgba(254, 243, 237, 0.5);\">,</span> <span title=\"0.013\" style=\"background-color: rgba(254, 243, 237, 0.5);\">the</span> <span title=\"0.036\" style=\"background-color: rgba(254, 239, 231, 0.5);\">anterior</span> <span title=\"0.037\" style=\"background-color: rgba(254, 239, 231, 0.5);\">4th</span> <span title=\"0.020\" style=\"background-color: rgba(254, 242, 236, 0.5);\">and</span> <span title=\"0.023\" style=\"background-color: rgba(254, 241, 235, 0.5);\">5th</span> <span title=\"0.031\" style=\"background-color: rgba(254, 240, 233, 0.5);\">left</span> <span title=\"0.008\" style=\"background-color: rgba(254, 243, 238, 0.5);\">ribs</span> <span title=\"0.010\" style=\"background-color: rgba(254, 243, 238, 0.5);\">,</span> <span title=\"0.041\" style=\"background-color: rgba(254, 238, 230, 0.5);\">the</span> <span title=\"0.007\" style=\"background-color: rgba(254, 244, 239, 0.5);\">lateral</span> <span title=\"0.020\" style=\"background-color: rgba(254, 241, 235, 0.5);\">5th</span> <span title=\"0.035\" style=\"background-color: rgba(254, 239, 232, 0.5);\">left</span> <span title=\"0.063\" style=\"background-color: rgba(254, 234, 224, 0.5);\">intercostal</span> <span title=\"0.016\" style=\"background-color: rgba(254, 242, 236, 0.5);\">space</span> <span title=\"0.025\" style=\"background-color: rgba(254, 241, 234, 0.5);\">,</span> <span title=\"0.032\" style=\"background-color: rgba(254, 239, 232, 0.5);\">and</span> <span title=\"0.070\" style=\"background-color: rgba(254, 233, 223, 0.5);\">the</span> <span title=\"0.009\" style=\"background-color: rgba(254, 243, 238, 0.5);\">skin</span> <span title=\"0.017\" style=\"background-color: rgba(254, 242, 236, 0.5);\">and</span> <span title=\"0.029\" style=\"background-color: rgba(254, 240, 233, 0.5);\">subcutaneous</span> <span title=\"0.050\" style=\"background-color: rgba(254, 237, 228, 0.5);\">tissue</span> <span title=\"0.054\" style=\"background-color: rgba(254, 236, 227, 0.5);\">of</span> <span title=\"0.151\" style=\"background-color: rgba(253, 216, 200, 0.5);\">the</span> <span title=\"0.051\" style=\"background-color: rgba(254, 237, 228, 0.5);\">lateral</span> <span title=\"0.012\" style=\"background-color: rgba(254, 243, 237, 0.5);\">upper</span> <span title=\"0.020\" style=\"background-color: rgba(254, 241, 235, 0.5);\">left</span> <span title=\"0.020\" style=\"background-color: rgba(254, 241, 235, 0.5);\">chest</span> <span title=\"0.047\" style=\"background-color: rgba(254, 237, 228, 0.5);\">.</span> <span title=\"0.012\" style=\"background-color: rgba(254, 243, 237, 0.5);\">xxmaj</span> <span title=\"0.036\" style=\"background-color: rgba(254, 239, 231, 0.5);\">associated</span> <span title=\"0.023\" style=\"background-color: rgba(254, 241, 235, 0.5);\">injuries</span> <span title=\"0.011\" style=\"background-color: rgba(254, 243, 238, 0.5);\">include</span> <span title=\"0.008\" style=\"background-color: rgba(254, 243, 238, 0.5);\">a</span> <span title=\"0.022\" style=\"background-color: rgba(254, 241, 235, 0.5);\">2</span> <span title=\"0.028\" style=\"background-color: rgba(254, 240, 233, 0.5);\">x</span> <span title=\"0.016\" style=\"background-color: rgba(254, 242, 236, 0.5);\">0.5</span> <span title=\"0.026\" style=\"background-color: rgba(254, 241, 234, 0.5);\">cm</span> <span title=\"0.005\" style=\"background-color: rgba(254, 244, 239, 0.5);\">linear</span> <span title=\"0.005\" style=\"background-color: rgba(254, 244, 239, 0.5);\">,</span> <span title=\"0.009\" style=\"background-color: rgba(254, 243, 238, 0.5);\">red</span> <span title=\"0.030\" style=\"background-color: rgba(254, 240, 233, 0.5);\">abrasion</span> <span title=\"0.026\" style=\"background-color: rgba(254, 241, 234, 0.5);\">of</span> <span title=\"0.019\" style=\"background-color: rgba(254, 242, 236, 0.5);\">the</span> <span title=\"0.013\" style=\"background-color: rgba(254, 243, 237, 0.5);\">paramidline</span> <span title=\"0.031\" style=\"background-color: rgba(254, 239, 232, 0.5);\">mid</span> <span title=\"0.019\" style=\"background-color: rgba(254, 242, 236, 0.5);\">left</span> <span title=\"0.011\" style=\"background-color: rgba(254, 243, 238, 0.5);\">chest</span> <span title=\"0.006\" style=\"background-color: rgba(254, 244, 239, 0.5);\">and</span> <span title=\"0.056\" style=\"background-color: rgba(254, 235, 226, 0.5);\">fractures</span> <span title=\"0.038\" style=\"background-color: rgba(254, 239, 231, 0.5);\">of</span> <span title=\"0.014\" style=\"background-color: rgba(254, 243, 237, 0.5);\">the</span> <span title=\"0.012\" style=\"background-color: rgba(254, 243, 238, 0.5);\">anterior</span> <span title=\"0.011\" style=\"background-color: rgba(254, 243, 238, 0.5);\">4th</span> <span title=\"0.008\" style=\"background-color: rgba(254, 244, 239, 0.5);\">and</span> <span title=\"0.024\" style=\"background-color: rgba(254, 241, 234, 0.5);\">5th</span> <span title=\"0.023\" style=\"background-color: rgba(254, 241, 235, 0.5);\">left</span> <span title=\"0.014\" style=\"background-color: rgba(254, 243, 237, 0.5);\">ribs</span> <span title=\"0.025\" style=\"background-color: rgba(254, 241, 234, 0.5);\">.</span> <span title=\"0.014\" style=\"background-color: rgba(254, 243, 237, 0.5);\">xxmaj</span> <span title=\"0.059\" style=\"background-color: rgba(254, 235, 225, 0.5);\">exit</span> <span title=\"0.020\" style=\"background-color: rgba(254, 241, 235, 0.5);\">:</span> <span title=\"0.021\" style=\"background-color: rgba(254, 241, 235, 0.5);\">xxmaj</span> <span title=\"0.028\" style=\"background-color: rgba(254, 240, 233, 0.5);\">on</span> <span title=\"0.044\" style=\"background-color: rgba(254, 237, 229, 0.5);\">the</span> <span title=\"0.016\" style=\"background-color: rgba(254, 242, 236, 0.5);\">lateral</span> <span title=\"0.015\" style=\"background-color: rgba(254, 243, 237, 0.5);\">upper</span> <span title=\"0.015\" style=\"background-color: rgba(254, 243, 237, 0.5);\">left</span> <span title=\"0.026\" style=\"background-color: rgba(254, 241, 234, 0.5);\">chest</span> <span title=\"0.005\" style=\"background-color: rgba(254, 244, 239, 0.5);\">in</span> <span title=\"0.005\" style=\"background-color: rgba(254, 244, 239, 0.5);\">the</span> <span title=\"0.017\" style=\"background-color: rgba(254, 242, 236, 0.5);\">anterior</span> <span title=\"0.082\" style=\"background-color: rgba(254, 231, 221, 0.5);\">axillary</span> <span title=\"0.007\" style=\"background-color: rgba(254, 244, 239, 0.5);\">line</span> <span title=\"0.006\" style=\"background-color: rgba(254, 244, 239, 0.5);\">,</span> <span title=\"0.007\" style=\"background-color: rgba(254, 244, 239, 0.5);\">42.5</span> <span title=\"0.012\" style=\"background-color: rgba(254, 243, 237, 0.5);\">cm</span> <span title=\"0.010\" style=\"background-color: rgba(254, 243, 238, 0.5);\">below</span> <span title=\"0.025\" style=\"background-color: rgba(254, 241, 234, 0.5);\">the</span> <span title=\"0.031\" style=\"background-color: rgba(254, 240, 233, 0.5);\">top</span> <span title=\"0.020\" style=\"background-color: rgba(254, 241, 235, 0.5);\">of</span> <span title=\"0.033\" style=\"background-color: rgba(254, 239, 232, 0.5);\">the</span> <span title=\"0.022\" style=\"background-color: rgba(254, 241, 235, 0.5);\">head</span> <span title=\"0.012\" style=\"background-color: rgba(254, 243, 237, 0.5);\">and</span> <span title=\"0.022\" style=\"background-color: rgba(254, 241, 235, 0.5);\">14.5</span> <span title=\"0.053\" style=\"background-color: rgba(254, 236, 227, 0.5);\">cm</span> <span title=\"0.017\" style=\"background-color: rgba(254, 242, 236, 0.5);\">left</span> <span title=\"0.005\" style=\"background-color: rgba(254, 244, 239, 0.5);\">of</span> <span title=\"0.031\" style=\"background-color: rgba(254, 240, 233, 0.5);\">the</span> <span title=\"0.008\" style=\"background-color: rgba(254, 243, 238, 0.5);\">anterior</span> <span title=\"0.013\" style=\"background-color: rgba(254, 243, 237, 0.5);\">midline</span> <span title=\"0.004\" style=\"background-color: rgba(254, 244, 239, 0.5);\">,</span> <span title=\"0.013\" style=\"background-color: rgba(254, 243, 237, 0.5);\">is</span> <span title=\"0.004\" style=\"background-color: rgba(254, 244, 239, 0.5);\">an</span> <span title=\"0.004\" style=\"background-color: rgba(254, 244, 239, 0.5);\">exit</span> <span title=\"0.015\" style=\"background-color: rgba(254, 243, 237, 0.5);\">gunshot</span> <span title=\"0.005\" style=\"background-color: rgba(254, 244, 239, 0.5);\">wound</span> <span title=\"0.017\" style=\"background-color: rgba(254, 242, 236, 0.5);\">consisting</span> <span title=\"0.008\" style=\"background-color: rgba(254, 243, 238, 0.5);\">of</span> <span title=\"0.015\" style=\"background-color: rgba(254, 243, 237, 0.5);\">multiple</span> <span title=\"0.006\" style=\"background-color: rgba(254, 244, 239, 0.5);\">lacerations</span> <span title=\"0.005\" style=\"background-color: rgba(254, 244, 239, 0.5);\">ranging</span> <span title=\"0.010\" style=\"background-color: rgba(254, 243, 238, 0.5);\">in</span> <span title=\"0.009\" style=\"background-color: rgba(254, 243, 238, 0.5);\">size</span> <span title=\"0.004\" style=\"background-color: rgba(254, 244, 239, 0.5);\">from</span> <span title=\"0.014\" style=\"background-color: rgba(254, 243, 237, 0.5);\">0.2</span> <span title=\"0.018\" style=\"background-color: rgba(254, 242, 236, 0.5);\">cm</span> <span title=\"0.061\" style=\"background-color: rgba(254, 235, 225, 0.5);\">to</span> <span title=\"0.026\" style=\"background-color: rgba(254, 241, 234, 0.5);\">2</span> <span title=\"0.018\" style=\"background-color: rgba(254, 242, 236, 0.5);\">x</span> <span title=\"0.034\" style=\"background-color: rgba(254, 239, 232, 0.5);\">1.4</span> <span title=\"0.016\" style=\"background-color: rgba(254, 243, 237, 0.5);\">cm</span> <span title=\"0.022\" style=\"background-color: rgba(254, 241, 235, 0.5);\">.</span> <span title=\"0.075\" style=\"background-color: rgba(254, 232, 222, 0.5);\">xxmaj</span> <span title=\"0.030\" style=\"background-color: rgba(254, 240, 233, 0.5);\">the</span> <span title=\"0.035\" style=\"background-color: rgba(254, 239, 231, 0.5);\">wound</span> <span title=\"0.017\" style=\"background-color: rgba(254, 242, 236, 0.5);\">is</span> <span title=\"0.007\" style=\"background-color: rgba(254, 244, 239, 0.5);\">eccentrically</span> <span title=\"0.011\" style=\"background-color: rgba(254, 243, 238, 0.5);\">located</span> <span title=\"0.007\" style=\"background-color: rgba(254, 244, 239, 0.5);\">within</span> <span title=\"0.006\" style=\"background-color: rgba(254, 244, 239, 0.5);\">an</span> <span title=\"0.008\" style=\"background-color: rgba(254, 244, 239, 0.5);\">8</span> <span title=\"0.004\" style=\"background-color: rgba(254, 244, 239, 0.5);\">x</span> <span title=\"0.008\" style=\"background-color: rgba(254, 244, 239, 0.5);\">4</span> <span title=\"0.007\" style=\"background-color: rgba(254, 244, 239, 0.5);\">cm</span> <span title=\"0.013\" style=\"background-color: rgba(254, 243, 237, 0.5);\">irregular</span> <span title=\"0.009\" style=\"background-color: rgba(254, 243, 238, 0.5);\">,</span> <span title=\"0.019\" style=\"background-color: rgba(254, 242, 236, 0.5);\">red</span> <span title=\"0.030\" style=\"background-color: rgba(254, 240, 233, 0.5);\">,</span> <span title=\"0.014\" style=\"background-color: rgba(254, 243, 237, 0.5);\">dry</span> <span title=\"0.052\" style=\"background-color: rgba(254, 236, 227, 0.5);\">abrasion</span> <span title=\"0.020\" style=\"background-color: rgba(254, 241, 235, 0.5);\">.</span> <span title=\"0.025\" style=\"background-color: rgba(254, 241, 234, 0.5);\">xxmaj</span> <span title=\"0.026\" style=\"background-color: rgba(254, 241, 234, 0.5);\">re</span> <span title=\"0.022\" style=\"background-color: rgba(254, 241, 235, 0.5);\">-</span> <span title=\"0.009\" style=\"background-color: rgba(254, 243, 238, 0.5);\">entrance</span> <span title=\"0.007\" style=\"background-color: rgba(254, 244, 239, 0.5);\">:</span> <span title=\"0.010\" style=\"background-color: rgba(254, 243, 238, 0.5);\">xxmaj</span> <span title=\"0.051\" style=\"background-color: rgba(254, 236, 227, 0.5);\">on</span> <span title=\"0.041\" style=\"background-color: rgba(254, 238, 230, 0.5);\">the</span> <span title=\"0.026\" style=\"background-color: rgba(254, 241, 234, 0.5);\">proximal</span> <span title=\"0.032\" style=\"background-color: rgba(254, 239, 232, 0.5);\">medial</span> <span title=\"0.015\" style=\"background-color: rgba(254, 243, 237, 0.5);\">upper</span> <span title=\"0.005\" style=\"background-color: rgba(254, 244, 239, 0.5);\">left</span> <span title=\"0.002\" style=\"background-color: rgba(255, 245, 240, 0.5);\">arm</span> <span title=\"0.002\" style=\"background-color: rgba(255, 245, 240, 0.5);\">,</span> <span title=\"0.005\" style=\"background-color: rgba(254, 244, 239, 0.5);\">8</span> <span title=\"0.028\" style=\"background-color: rgba(254, 240, 233, 0.5);\">cm</span> <span title=\"0.010\" style=\"background-color: rgba(254, 243, 238, 0.5);\">below</span> <span title=\"0.039\" style=\"background-color: rgba(254, 239, 231, 0.5);\">the</span> <span title=\"0.009\" style=\"background-color: rgba(254, 243, 238, 0.5);\">axilla</span> <span title=\"0.007\" style=\"background-color: rgba(254, 244, 239, 0.5);\">and</span> <span title=\"0.007\" style=\"background-color: rgba(254, 244, 239, 0.5);\">5</span> <span title=\"0.011\" style=\"background-color: rgba(254, 243, 238, 0.5);\">cm</span> <span title=\"0.010\" style=\"background-color: rgba(254, 243, 238, 0.5);\">right</span> <span title=\"0.035\" style=\"background-color: rgba(254, 239, 231, 0.5);\">of</span> <span title=\"0.036\" style=\"background-color: rgba(254, 239, 231, 0.5);\">the</span> <span title=\"0.031\" style=\"background-color: rgba(254, 239, 232, 0.5);\">anterior</span> <span title=\"0.022\" style=\"background-color: rgba(254, 241, 235, 0.5);\">arm</span> <span title=\"0.055\" style=\"background-color: rgba(254, 236, 227, 0.5);\">midline</span> <span title=\"0.006\" style=\"background-color: rgba(254, 244, 239, 0.5);\">,</span> <span title=\"0.014\" style=\"background-color: rgba(254, 243, 237, 0.5);\">is</span> <span title=\"0.009\" style=\"background-color: rgba(254, 243, 238, 0.5);\">a</span> <span title=\"0.016\" style=\"background-color: rgba(254, 243, 237, 0.5);\">irregular</span> <span title=\"0.006\" style=\"background-color: rgba(254, 244, 239, 0.5);\">xxunk</span> <span title=\"0.020\" style=\"background-color: rgba(254, 241, 235, 0.5);\">gunshot</span> <span title=\"0.008\" style=\"background-color: rgba(254, 244, 239, 0.5);\">wound</span> <span title=\"0.011\" style=\"background-color: rgba(254, 243, 238, 0.5);\">consisting</span> <span title=\"0.006\" style=\"background-color: rgba(254, 244, 239, 0.5);\">of</span> <span title=\"0.016\" style=\"background-color: rgba(254, 242, 236, 0.5);\">a</span> <span title=\"0.008\" style=\"background-color: rgba(254, 244, 239, 0.5);\">1</span> <span title=\"0.005\" style=\"background-color: rgba(254, 244, 239, 0.5);\">x</span> <span title=\"0.016\" style=\"background-color: rgba(254, 242, 236, 0.5);\">0.5</span> <span title=\"0.031\" style=\"background-color: rgba(254, 240, 233, 0.5);\">cm</span> <span title=\"0.007\" style=\"background-color: rgba(254, 244, 239, 0.5);\">oval</span> <span title=\"0.003\" style=\"background-color: rgba(255, 245, 240, 0.5);\">defect</span> <span title=\"0.006\" style=\"background-color: rgba(254, 244, 239, 0.5);\">eccentrically</span> <span title=\"0.008\" style=\"background-color: rgba(254, 244, 239, 0.5);\">located</span> <span title=\"0.019\" style=\"background-color: rgba(254, 242, 236, 0.5);\">within</span> <span title=\"0.028\" style=\"background-color: rgba(254, 240, 233, 0.5);\">a</span> <span title=\"0.016\" style=\"background-color: rgba(254, 242, 236, 0.5);\">4.5</span> <span title=\"0.011\" style=\"background-color: rgba(254, 243, 238, 0.5);\">x</span> <span title=\"0.015\" style=\"background-color: rgba(254, 243, 237, 0.5);\">2.5</span> <span title=\"0.006\" style=\"background-color: rgba(254, 244, 239, 0.5);\">cm</span> <span title=\"0.008\" style=\"background-color: rgba(254, 244, 239, 0.5);\">red</span> <span title=\"0.016\" style=\"background-color: rgba(254, 242, 236, 0.5);\">/</span> <span title=\"0.007\" style=\"background-color: rgba(254, 244, 239, 0.5);\">orange</span> <span title=\"0.007\" style=\"background-color: rgba(254, 244, 239, 0.5);\">,</span> <span title=\"0.005\" style=\"background-color: rgba(254, 244, 239, 0.5);\">dry</span> <span title=\"0.035\" style=\"background-color: rgba(254, 239, 231, 0.5);\">abrasion</span> <span title=\"0.029\" style=\"background-color: rgba(254, 240, 233, 0.5);\">.</span> <span title=\"0.032\" style=\"background-color: rgba(254, 239, 232, 0.5);\">xxmaj</span> <span title=\"0.015\" style=\"background-color: rgba(254, 243, 237, 0.5);\">trajectory</span> <span title=\"0.013\" style=\"background-color: rgba(254, 243, 237, 0.5);\">:</span> <span title=\"0.006\" style=\"background-color: rgba(254, 244, 239, 0.5);\">xxmaj</span> <span title=\"0.012\" style=\"background-color: rgba(254, 243, 238, 0.5);\">the</span> <span title=\"0.004\" style=\"background-color: rgba(254, 244, 239, 0.5);\">wound</span> <span title=\"0.005\" style=\"background-color: rgba(254, 244, 239, 0.5);\">track</span> <span title=\"0.003\" style=\"background-color: rgba(255, 245, 240, 0.5);\">travels</span> <span title=\"0.013\" style=\"background-color: rgba(254, 243, 237, 0.5);\">from</span> <span title=\"0.018\" style=\"background-color: rgba(254, 242, 236, 0.5);\">the</span> <span title=\"0.034\" style=\"background-color: rgba(254, 239, 232, 0.5);\">decedentâs</span> <span title=\"0.030\" style=\"background-color: rgba(254, 240, 233, 0.5);\">front</span> <span title=\"0.009\" style=\"background-color: rgba(254, 243, 238, 0.5);\">to</span> <span title=\"0.004\" style=\"background-color: rgba(254, 244, 239, 0.5);\">back</span> <span title=\"0.001\" style=\"background-color: rgba(255, 245, 240, 0.5);\">,</span> <span title=\"0.002\" style=\"background-color: rgba(255, 245, 240, 0.5);\">right</span> <span title=\"0.005\" style=\"background-color: rgba(254, 244, 239, 0.5);\">to</span> <span title=\"0.030\" style=\"background-color: rgba(254, 240, 233, 0.5);\">left</span> <span title=\"0.004\" style=\"background-color: rgba(255, 245, 240, 0.5);\">and</span> <span title=\"0.004\" style=\"background-color: rgba(254, 244, 239, 0.5);\">upward</span> <span title=\"0.005\" style=\"background-color: rgba(254, 244, 239, 0.5);\">.</span> <span title=\"0.011\" style=\"background-color: rgba(254, 243, 238, 0.5);\">xxmaj</span> <span title=\"0.011\" style=\"background-color: rgba(254, 243, 238, 0.5);\">clothing</span> <span title=\"0.014\" style=\"background-color: rgba(254, 243, 237, 0.5);\">:</span> <span title=\"0.021\" style=\"background-color: rgba(254, 241, 235, 0.5);\">xxmaj</span> <span title=\"0.006\" style=\"background-color: rgba(254, 244, 239, 0.5);\">on</span> <span title=\"0.007\" style=\"background-color: rgba(254, 244, 239, 0.5);\">the</span> <span title=\"0.043\" style=\"background-color: rgba(254, 237, 229, 0.5);\">right</span> <span title=\"0.025\" style=\"background-color: rgba(254, 241, 234, 0.5);\">chest</span> <span title=\"0.012\" style=\"background-color: rgba(254, 243, 237, 0.5);\">area</span> <span title=\"0.010\" style=\"background-color: rgba(254, 243, 238, 0.5);\">of</span> <span title=\"0.009\" style=\"background-color: rgba(254, 243, 238, 0.5);\">the</span> <span title=\"0.014\" style=\"background-color: rgba(254, 243, 237, 0.5);\">blue</span> <span title=\"0.009\" style=\"background-color: rgba(254, 243, 238, 0.5);\">t</span> <span title=\"0.009\" style=\"background-color: rgba(254, 243, 238, 0.5);\">-</span> <span title=\"0.003\" style=\"background-color: rgba(255, 245, 240, 0.5);\">shirt</span> <span title=\"0.012\" style=\"background-color: rgba(254, 243, 237, 0.5);\">and</span> <span title=\"0.003\" style=\"background-color: rgba(255, 245, 240, 0.5);\">corresponding</span> <span title=\"0.004\" style=\"background-color: rgba(255, 245, 240, 0.5);\">to</span> <span title=\"0.011\" style=\"background-color: rgba(254, 243, 238, 0.5);\">the</span> <span title=\"0.076\" style=\"background-color: rgba(254, 232, 222, 0.5);\">entrance</span> <span title=\"0.008\" style=\"background-color: rgba(254, 243, 238, 0.5);\">gunshot</span> <span title=\"0.007\" style=\"background-color: rgba(254, 244, 239, 0.5);\">wound</span> <span title=\"0.008\" style=\"background-color: rgba(254, 243, 238, 0.5);\">is</span> <span title=\"0.014\" style=\"background-color: rgba(254, 243, 237, 0.5);\">a</span> <span title=\"0.011\" style=\"background-color: rgba(254, 243, 238, 0.5);\">defect</span> <span title=\"0.023\" style=\"background-color: rgba(254, 241, 235, 0.5);\">with</span> <span title=\"0.030\" style=\"background-color: rgba(254, 240, 233, 0.5);\">frayed</span> <span title=\"0.023\" style=\"background-color: rgba(254, 241, 235, 0.5);\">edges</span> <span title=\"0.008\" style=\"background-color: rgba(254, 243, 238, 0.5);\">.</span> <span title=\"0.007\" style=\"background-color: rgba(254, 244, 239, 0.5);\">xxmaj</span> <span title=\"0.035\" style=\"background-color: rgba(254, 239, 232, 0.5);\">on</span> <span title=\"0.085\" style=\"background-color: rgba(254, 231, 220, 0.5);\">the</span> <span title=\"0.011\" style=\"background-color: rgba(254, 243, 238, 0.5);\">lateral</span> <span title=\"0.043\" style=\"background-color: rgba(254, 238, 230, 0.5);\">left</span> <span title=\"0.006\" style=\"background-color: rgba(254, 244, 239, 0.5);\">chest</span> <span title=\"0.019\" style=\"background-color: rgba(254, 242, 236, 0.5);\">area</span> <span title=\"0.006\" style=\"background-color: rgba(254, 244, 239, 0.5);\">and</span> <span title=\"0.007\" style=\"background-color: rgba(254, 244, 239, 0.5);\">left</span> <span title=\"0.017\" style=\"background-color: rgba(254, 242, 236, 0.5);\">sleeve</span> <span title=\"0.010\" style=\"background-color: rgba(254, 243, 238, 0.5);\">of</span> <span title=\"0.007\" style=\"background-color: rgba(254, 244, 239, 0.5);\">the</span> <span title=\"0.009\" style=\"background-color: rgba(254, 243, 238, 0.5);\">blue</span> <span title=\"0.008\" style=\"background-color: rgba(254, 243, 238, 0.5);\">t</span> <span title=\"0.035\" style=\"background-color: rgba(254, 239, 232, 0.5);\">-</span> <span title=\"0.009\" style=\"background-color: rgba(254, 243, 238, 0.5);\">shirt</span> <span title=\"0.020\" style=\"background-color: rgba(254, 241, 235, 0.5);\">and</span> <span title=\"0.021\" style=\"background-color: rgba(254, 241, 235, 0.5);\">corresponding</span> <span title=\"0.004\" style=\"background-color: rgba(254, 244, 239, 0.5);\">to</span> <span title=\"0.007\" style=\"background-color: rgba(254, 244, 239, 0.5);\">the</span> <span title=\"0.017\" style=\"background-color: rgba(254, 242, 236, 0.5);\">exit</span> <span title=\"0.008\" style=\"background-color: rgba(254, 243, 238, 0.5);\">and</span> <span title=\"0.028\" style=\"background-color: rgba(254, 240, 233, 0.5);\">xxunk</span> <span title=\"0.018\" style=\"background-color: rgba(254, 242, 236, 0.5);\">gunshot</span> <span title=\"0.031\" style=\"background-color: rgba(254, 240, 233, 0.5);\">wounds</span> <span title=\"0.024\" style=\"background-color: rgba(254, 241, 234, 0.5);\">are</span> <span title=\"0.011\" style=\"background-color: rgba(254, 243, 238, 0.5);\">irregular</span> <span title=\"0.014\" style=\"background-color: rgba(254, 243, 237, 0.5);\">defects</span> <span title=\"0.045\" style=\"background-color: rgba(254, 237, 229, 0.5);\">.</span> <span title=\"0.007\" style=\"background-color: rgba(254, 244, 239, 0.5);\">xxmaj</span> <span title=\"0.006\" style=\"background-color: rgba(254, 244, 239, 0.5);\">soot</span> <span title=\"0.024\" style=\"background-color: rgba(254, 241, 234, 0.5);\">or</span> <span title=\"0.055\" style=\"background-color: rgba(254, 235, 226, 0.5);\">unburned</span> <span title=\"0.009\" style=\"background-color: rgba(254, 243, 238, 0.5);\">gunpowder</span> <span title=\"0.033\" style=\"background-color: rgba(254, 239, 232, 0.5);\">particles</span> <span title=\"0.006\" style=\"background-color: rgba(254, 244, 239, 0.5);\">are</span> <span title=\"0.019\" style=\"background-color: rgba(254, 242, 236, 0.5);\">not</span> <span title=\"0.008\" style=\"background-color: rgba(254, 244, 239, 0.5);\">visible</span> <span title=\"0.008\" style=\"background-color: rgba(254, 243, 238, 0.5);\">on</span> <span title=\"0.023\" style=\"background-color: rgba(254, 241, 234, 0.5);\">the</span> <span title=\"0.006\" style=\"background-color: rgba(254, 244, 239, 0.5);\">fabric</span> <span title=\"0.019\" style=\"background-color: rgba(254, 242, 236, 0.5);\">surrounding</span> <span title=\"0.015\" style=\"background-color: rgba(254, 243, 237, 0.5);\">the</span> <span title=\"0.015\" style=\"background-color: rgba(254, 243, 237, 0.5);\">defect</span> <span title=\"0.011\" style=\"background-color: rgba(254, 243, 238, 0.5);\">.</span> <span title=\"0.030\" style=\"background-color: rgba(254, 240, 233, 0.5);\">xxup</span> <span title=\"0.028\" style=\"background-color: rgba(254, 240, 233, 0.5);\">gunshot</span> <span title=\"0.007\" style=\"background-color: rgba(254, 244, 239, 0.5);\">xxup</span> <span title=\"0.009\" style=\"background-color: rgba(254, 243, 238, 0.5);\">wound</span> <span title=\"0.037\" style=\"background-color: rgba(254, 239, 231, 0.5);\">xxup</span> <span title=\"0.007\" style=\"background-color: rgba(254, 244, 239, 0.5);\">of</span> <span title=\"0.008\" style=\"background-color: rgba(254, 243, 238, 0.5);\">xxup</span> <span title=\"0.007\" style=\"background-color: rgba(254, 244, 239, 0.5);\">the</span> <span title=\"0.008\" style=\"background-color: rgba(254, 243, 238, 0.5);\">xxup</span> <span title=\"0.004\" style=\"background-color: rgba(254, 244, 239, 0.5);\">lateral</span> <span title=\"0.006\" style=\"background-color: rgba(254, 244, 239, 0.5);\">xxup</span> <span title=\"0.009\" style=\"background-color: rgba(254, 243, 238, 0.5);\">right</span> <span title=\"0.005\" style=\"background-color: rgba(254, 244, 239, 0.5);\">xxup</span> <span title=\"0.007\" style=\"background-color: rgba(254, 244, 239, 0.5);\">chest</span> <span title=\"0.035\" style=\"background-color: rgba(254, 239, 232, 0.5);\">xxmaj</span> <span title=\"0.006\" style=\"background-color: rgba(254, 244, 239, 0.5);\">entrance</span> <span title=\"0.006\" style=\"background-color: rgba(254, 244, 239, 0.5);\">:</span> <span title=\"0.016\" style=\"background-color: rgba(254, 243, 237, 0.5);\">xxmaj</span> <span title=\"0.003\" style=\"background-color: rgba(255, 245, 240, 0.5);\">on</span> <span title=\"0.015\" style=\"background-color: rgba(254, 243, 237, 0.5);\">the</span> <span title=\"0.011\" style=\"background-color: rgba(254, 243, 238, 0.5);\">lateral</span> <span title=\"0.042\" style=\"background-color: rgba(254, 238, 230, 0.5);\">mid</span> <span title=\"0.007\" style=\"background-color: rgba(254, 244, 239, 0.5);\">right</span> <span title=\"0.031\" style=\"background-color: rgba(254, 240, 233, 0.5);\">chest</span> <span title=\"0.013\" style=\"background-color: rgba(254, 243, 237, 0.5);\">,</span> <span title=\"0.027\" style=\"background-color: rgba(254, 241, 234, 0.5);\">46</span> <span title=\"0.014\" style=\"background-color: rgba(254, 243, 237, 0.5);\">cm</span> <span title=\"0.035\" style=\"background-color: rgba(254, 239, 232, 0.5);\">below</span> <span title=\"0.014\" style=\"background-color: rgba(254, 243, 237, 0.5);\">the</span> <span title=\"0.062\" style=\"background-color: rgba(254, 235, 225, 0.5);\">top</span> <span title=\"0.017\" style=\"background-color: rgba(254, 242, 236, 0.5);\">of</span> <span title=\"0.056\" style=\"background-color: rgba(254, 235, 226, 0.5);\">the</span> <span title=\"0.018\" style=\"background-color: rgba(254, 242, 236, 0.5);\">head</span> <span title=\"0.103\" style=\"background-color: rgba(254, 227, 215, 0.5);\">and</span> <span title=\"0.010\" style=\"background-color: rgba(254, 243, 238, 0.5);\">15</span> <span title=\"0.009\" style=\"background-color: rgba(254, 243, 238, 0.5);\">cm</span> <span title=\"0.038\" style=\"background-color: rgba(254, 239, 231, 0.5);\">right</span> <span title=\"0.017\" style=\"background-color: rgba(254, 242, 236, 0.5);\">of</span> <span title=\"0.016\" style=\"background-color: rgba(254, 242, 236, 0.5);\">the</span> <span title=\"0.009\" style=\"background-color: rgba(254, 243, 238, 0.5);\">anterior</span> <span title=\"0.018\" style=\"background-color: rgba(254, 242, 236, 0.5);\">midline</span> <span title=\"0.015\" style=\"background-color: rgba(254, 243, 237, 0.5);\">,</span> <span title=\"0.049\" style=\"background-color: rgba(254, 237, 228, 0.5);\">is</span> <span title=\"0.052\" style=\"background-color: rgba(254, 236, 227, 0.5);\">an</span> <span title=\"0.050\" style=\"background-color: rgba(254, 237, 228, 0.5);\">entrance</span> <span title=\"0.052\" style=\"background-color: rgba(254, 236, 227, 0.5);\">gunshot</span> <span title=\"0.008\" style=\"background-color: rgba(254, 243, 238, 0.5);\">wound</span> <span title=\"0.044\" style=\"background-color: rgba(254, 237, 229, 0.5);\">consisting</span> <span title=\"0.024\" style=\"background-color: rgba(254, 241, 234, 0.5);\">of</span> <span title=\"0.015\" style=\"background-color: rgba(254, 243, 237, 0.5);\">a</span> <span title=\"0.006\" style=\"background-color: rgba(254, 244, 239, 0.5);\">0.6</span> <span title=\"0.018\" style=\"background-color: rgba(254, 242, 236, 0.5);\">x</span> <span title=\"0.005\" style=\"background-color: rgba(254, 244, 239, 0.5);\">0.5</span> <span title=\"0.008\" style=\"background-color: rgba(254, 244, 239, 0.5);\">cm</span> <span title=\"0.025\" style=\"background-color: rgba(254, 241, 234, 0.5);\">oval</span> <span title=\"0.006\" style=\"background-color: rgba(254, 244, 239, 0.5);\">defect</span> <span title=\"0.016\" style=\"background-color: rgba(254, 242, 236, 0.5);\">with</span> <span title=\"0.009\" style=\"background-color: rgba(254, 243, 238, 0.5);\">an</span> <span title=\"0.019\" style=\"background-color: rgba(254, 242, 236, 0.5);\">up</span> <span title=\"0.007\" style=\"background-color: rgba(254, 244, 239, 0.5);\">to</span> <span title=\"0.006\" style=\"background-color: rgba(254, 244, 239, 0.5);\">0.2</span> <span title=\"0.023\" style=\"background-color: rgba(254, 241, 235, 0.5);\">cm</span> <span title=\"0.014\" style=\"background-color: rgba(254, 243, 237, 0.5);\">wide</span> <span title=\"0.005\" style=\"background-color: rgba(254, 244, 239, 0.5);\">circumferential</span> <span title=\"0.013\" style=\"background-color: rgba(254, 243, 237, 0.5);\">marginal</span> <span title=\"0.021\" style=\"background-color: rgba(254, 241, 235, 0.5);\">abrasion</span> <span title=\"0.078\" style=\"background-color: rgba(254, 232, 222, 0.5);\">which</span> <span title=\"0.021\" style=\"background-color: rgba(254, 241, 235, 0.5);\">is</span> <span title=\"0.016\" style=\"background-color: rgba(254, 242, 236, 0.5);\">widest</span> <span title=\"0.027\" style=\"background-color: rgba(254, 241, 234, 0.5);\">at</span> <span title=\"0.010\" style=\"background-color: rgba(254, 243, 238, 0.5);\">the</span> <span title=\"0.017\" style=\"background-color: rgba(254, 242, 236, 0.5);\">lateral</span> <span title=\"0.030\" style=\"background-color: rgba(254, 240, 233, 0.5);\">edge</span> <span title=\"0.014\" style=\"background-color: rgba(254, 243, 237, 0.5);\">of</span> <span title=\"0.024\" style=\"background-color: rgba(254, 241, 234, 0.5);\">the</span> <span title=\"0.012\" style=\"background-color: rgba(254, 243, 238, 0.5);\">defect</span> <span title=\"0.080\" style=\"background-color: rgba(254, 231, 221, 0.5);\">.</span> <span title=\"0.074\" style=\"background-color: rgba(254, 233, 223, 0.5);\">xxmaj</span> <span title=\"0.015\" style=\"background-color: rgba(254, 243, 237, 0.5);\">soot</span> <span title=\"0.023\" style=\"background-color: rgba(254, 241, 235, 0.5);\">,</span> <span title=\"0.051\" style=\"background-color: rgba(254, 236, 227, 0.5);\">unburned</span> <span title=\"0.014\" style=\"background-color: rgba(254, 243, 237, 0.5);\">gunpowder</span> <span title=\"0.019\" style=\"background-color: rgba(254, 242, 236, 0.5);\">particles</span> <span title=\"0.016\" style=\"background-color: rgba(254, 243, 237, 0.5);\">and</span> <span title=\"0.043\" style=\"background-color: rgba(254, 238, 230, 0.5);\">gunpowder</span> <span title=\"0.110\" style=\"background-color: rgba(254, 226, 213, 0.5);\">stippling</span> <span title=\"0.069\" style=\"background-color: rgba(254, 233, 224, 0.5);\">are</span> <span title=\"0.037\" style=\"background-color: rgba(254, 239, 231, 0.5);\">not</span> <span title=\"0.047\" style=\"background-color: rgba(254, 237, 229, 0.5);\">visible</span> <span title=\"0.038\" style=\"background-color: rgba(254, 239, 231, 0.5);\">on</span> <span title=\"0.099\" style=\"background-color: rgba(254, 228, 216, 0.5);\">the</span> <span title=\"0.054\" style=\"background-color: rgba(254, 236, 227, 0.5);\">skin</span> <span title=\"0.045\" style=\"background-color: rgba(254, 237, 229, 0.5);\">surrounding</span> <span title=\"0.095\" style=\"background-color: rgba(254, 229, 217, 0.5);\">the</span> <span title=\"0.111\" style=\"background-color: rgba(254, 226, 213, 0.5);\">wound</span> <span title=\"0.036\" style=\"background-color: rgba(254, 239, 231, 0.5);\">.</span> <span title=\"0.031\" style=\"background-color: rgba(254, 240, 233, 0.5);\">xxmaj</span> <span title=\"0.032\" style=\"background-color: rgba(254, 239, 232, 0.5);\">path</span> <span title=\"0.005\" style=\"background-color: rgba(254, 244, 239, 0.5);\">:</span> <span title=\"0.008\" style=\"background-color: rgba(254, 244, 239, 0.5);\">xxmaj</span> <span title=\"0.050\" style=\"background-color: rgba(254, 237, 228, 0.5);\">the</span> <span title=\"0.007\" style=\"background-color: rgba(254, 244, 239, 0.5);\">hemorrhagic</span> <span title=\"0.020\" style=\"background-color: rgba(254, 241, 235, 0.5);\">wound</span> <span title=\"0.010\" style=\"background-color: rgba(254, 243, 238, 0.5);\">track</span> <span title=\"0.012\" style=\"background-color: rgba(254, 243, 238, 0.5);\">sequentially</span> <span title=\"0.005\" style=\"background-color: rgba(254, 244, 239, 0.5);\">perforates</span> <span title=\"0.013\" style=\"background-color: rgba(254, 243, 237, 0.5);\">the</span> <span title=\"0.019\" style=\"background-color: rgba(254, 242, 236, 0.5);\">skin</span> <span title=\"0.003\" style=\"background-color: rgba(255, 245, 240, 0.5);\">and</span> <span title=\"0.005\" style=\"background-color: rgba(254, 244, 239, 0.5);\">subcutaneous</span> <span title=\"0.009\" style=\"background-color: rgba(254, 243, 238, 0.5);\">tissue</span> <span title=\"0.005\" style=\"background-color: rgba(254, 244, 239, 0.5);\">of</span> <span title=\"0.005\" style=\"background-color: rgba(254, 244, 239, 0.5);\">the</span> <span title=\"0.013\" style=\"background-color: rgba(254, 243, 237, 0.5);\">lateral</span> <span title=\"0.010\" style=\"background-color: rgba(254, 243, 238, 0.5);\">mid</span> <span title=\"0.005\" style=\"background-color: rgba(254, 244, 239, 0.5);\">right</span> <span title=\"0.008\" style=\"background-color: rgba(254, 243, 238, 0.5);\">back</span> <span title=\"0.003\" style=\"background-color: rgba(255, 245, 240, 0.5);\">;</span> <span title=\"0.004\" style=\"background-color: rgba(255, 245, 240, 0.5);\">the</span> <span title=\"0.007\" style=\"background-color: rgba(254, 244, 239, 0.5);\">lateral</span> <span title=\"0.036\" style=\"background-color: rgba(254, 239, 231, 0.5);\">6th</span> <span title=\"0.007\" style=\"background-color: rgba(254, 244, 239, 0.5);\">right</span> <span title=\"0.009\" style=\"background-color: rgba(254, 243, 238, 0.5);\">rib</span> <span title=\"0.011\" style=\"background-color: rgba(254, 243, 238, 0.5);\">;</span> <span title=\"0.011\" style=\"background-color: rgba(254, 243, 238, 0.5);\">the</span> <span title=\"0.017\" style=\"background-color: rgba(254, 242, 236, 0.5);\">middle</span> <span title=\"0.016\" style=\"background-color: rgba(254, 242, 236, 0.5);\">lobe</span> <span title=\"0.016\" style=\"background-color: rgba(254, 242, 236, 0.5);\">of</span> <span title=\"0.030\" style=\"background-color: rgba(254, 240, 233, 0.5);\">the</span> <span title=\"0.027\" style=\"background-color: rgba(254, 240, 233, 0.5);\">right</span> <span title=\"0.013\" style=\"background-color: rgba(254, 243, 237, 0.5);\">lung</span> <span title=\"0.036\" style=\"background-color: rgba(254, 239, 231, 0.5);\">;</span> <span title=\"0.010\" style=\"background-color: rgba(254, 243, 238, 0.5);\">the</span> <span title=\"0.029\" style=\"background-color: rgba(254, 240, 233, 0.5);\">upper</span> <span title=\"0.017\" style=\"background-color: rgba(254, 242, 236, 0.5);\">lobe</span> <span title=\"0.011\" style=\"background-color: rgba(254, 243, 238, 0.5);\">of</span> <span title=\"0.014\" style=\"background-color: rgba(254, 243, 237, 0.5);\">the</span> <span title=\"0.040\" style=\"background-color: rgba(254, 238, 230, 0.5);\">right</span> <span title=\"0.036\" style=\"background-color: rgba(254, 239, 231, 0.5);\">lung</span> <span title=\"0.026\" style=\"background-color: rgba(254, 241, 234, 0.5);\">including</span> <span title=\"0.049\" style=\"background-color: rgba(254, 237, 228, 0.5);\">the</span> <span title=\"0.023\" style=\"background-color: rgba(254, 241, 235, 0.5);\">hilum</span> <span title=\"0.020\" style=\"background-color: rgba(254, 241, 235, 0.5);\">;</span> <span title=\"0.041\" style=\"background-color: rgba(254, 238, 230, 0.5);\">the</span> <span title=\"0.074\" style=\"background-color: rgba(254, 233, 223, 0.5);\">right</span> <span title=\"0.055\" style=\"background-color: rgba(254, 236, 227, 0.5);\">and</span> <span title=\"0.118\" style=\"background-color: rgba(254, 225, 211, 0.5);\">left</span> <span title=\"0.019\" style=\"background-color: rgba(254, 242, 236, 0.5);\">atria</span> <span title=\"0.014\" style=\"background-color: rgba(254, 243, 237, 0.5);\">including</span> <span title=\"0.058\" style=\"background-color: rgba(254, 235, 226, 0.5);\">the</span> <span title=\"0.069\" style=\"background-color: rgba(254, 233, 224, 0.5);\">tricuspid</span> <span title=\"0.012\" style=\"background-color: rgba(254, 243, 237, 0.5);\">,</span> <span title=\"0.012\" style=\"background-color: rgba(254, 243, 237, 0.5);\">pulmonic</span> <span title=\"0.024\" style=\"background-color: rgba(254, 241, 234, 0.5);\">,</span> <span title=\"0.062\" style=\"background-color: rgba(254, 235, 225, 0.5);\">mitral</span> <span title=\"0.013\" style=\"background-color: rgba(254, 243, 237, 0.5);\">and</span> <span title=\"0.012\" style=\"background-color: rgba(254, 243, 237, 0.5);\">aortic</span> <span title=\"0.028\" style=\"background-color: rgba(254, 240, 233, 0.5);\">valves</span> <span title=\"0.050\" style=\"background-color: rgba(254, 237, 228, 0.5);\">;</span> <span title=\"0.014\" style=\"background-color: rgba(254, 243, 237, 0.5);\">and</span> <span title=\"0.013\" style=\"background-color: rgba(254, 243, 237, 0.5);\">the</span> <span title=\"0.029\" style=\"background-color: rgba(254, 240, 233, 0.5);\">upper</span> <span title=\"0.066\" style=\"background-color: rgba(254, 234, 224, 0.5);\">lobe</span> <span title=\"0.016\" style=\"background-color: rgba(254, 242, 236, 0.5);\">of</span> <span title=\"0.013\" style=\"background-color: rgba(254, 243, 237, 0.5);\">the</span> <span title=\"0.077\" style=\"background-color: rgba(254, 232, 222, 0.5);\">left</span> <span title=\"0.015\" style=\"background-color: rgba(254, 243, 237, 0.5);\">lung</span> <span title=\"0.017\" style=\"background-color: rgba(254, 242, 236, 0.5);\">including</span> <span title=\"0.040\" style=\"background-color: rgba(254, 238, 230, 0.5);\">the</span> <span title=\"0.042\" style=\"background-color: rgba(254, 238, 230, 0.5);\">hilum</span> <span title=\"0.028\" style=\"background-color: rgba(254, 240, 233, 0.5);\">.</span> <span title=\"0.128\" style=\"background-color: rgba(253, 223, 209, 0.5);\">xxmaj</span> <span title=\"0.027\" style=\"background-color: rgba(254, 241, 234, 0.5);\">associated</span> <span title=\"0.029\" style=\"background-color: rgba(254, 240, 233, 0.5);\">injuries</span> <span title=\"0.156\" style=\"background-color: rgba(253, 215, 199, 0.5);\">include</span> <span title=\"0.014\" style=\"background-color: rgba(254, 243, 237, 0.5);\">a</span> <span title=\"0.129\" style=\"background-color: rgba(253, 222, 208, 0.5);\">1</span> <span title=\"0.015\" style=\"background-color: rgba(254, 243, 237, 0.5);\">x</span> <span title=\"0.068\" style=\"background-color: rgba(254, 233, 224, 0.5);\">0.5</span> <span title=\"0.018\" style=\"background-color: rgba(254, 242, 236, 0.5);\">cm</span> <span title=\"0.054\" style=\"background-color: rgba(254, 236, 227, 0.5);\">&#x27;</span> <span title=\"0.046\" style=\"background-color: rgba(254, 237, 229, 0.5);\">xxmaj</span> <span title=\"0.022\" style=\"background-color: rgba(254, 241, 235, 0.5);\">xxunk</span> <span title=\"0.022\" style=\"background-color: rgba(254, 241, 235, 0.5);\">abrasion</span> <span title=\"0.015\" style=\"background-color: rgba(254, 243, 237, 0.5);\">distinct</span> <span title=\"0.055\" style=\"background-color: rgba(254, 236, 227, 0.5);\">from</span> <span title=\"0.043\" style=\"background-color: rgba(254, 237, 229, 0.5);\">and</span> <span title=\"0.014\" style=\"background-color: rgba(254, 243, 237, 0.5);\">adjacent</span> <span title=\"0.011\" style=\"background-color: rgba(254, 243, 238, 0.5);\">to</span> <span title=\"0.019\" style=\"background-color: rgba(254, 242, 236, 0.5);\">the</span> <span title=\"0.079\" style=\"background-color: rgba(254, 231, 221, 0.5);\">entrance</span> <span title=\"0.018\" style=\"background-color: rgba(254, 242, 236, 0.5);\">defect</span> <span title=\"0.014\" style=\"background-color: rgba(254, 243, 237, 0.5);\">,</span> <span title=\"0.074\" style=\"background-color: rgba(254, 233, 223, 0.5);\">fracture</span> <span title=\"0.007\" style=\"background-color: rgba(254, 244, 239, 0.5);\">of</span> <span title=\"0.007\" style=\"background-color: rgba(254, 244, 239, 0.5);\">the</span> <span title=\"0.009\" style=\"background-color: rgba(254, 243, 238, 0.5);\">lateral</span> <span title=\"0.053\" style=\"background-color: rgba(254, 236, 227, 0.5);\">6th</span> <span title=\"0.034\" style=\"background-color: rgba(254, 239, 232, 0.5);\">left</span> <span title=\"0.025\" style=\"background-color: rgba(254, 241, 234, 0.5);\">rib</span> <span title=\"0.018\" style=\"background-color: rgba(254, 242, 236, 0.5);\">,</span> <span title=\"0.039\" style=\"background-color: rgba(254, 239, 231, 0.5);\">lacerations</span> <span title=\"0.041\" style=\"background-color: rgba(254, 238, 230, 0.5);\">of</span> <span title=\"0.022\" style=\"background-color: rgba(254, 241, 235, 0.5);\">the</span> <span title=\"0.016\" style=\"background-color: rgba(254, 242, 236, 0.5);\">lower</span> <span title=\"0.085\" style=\"background-color: rgba(254, 231, 220, 0.5);\">lobe</span> <span title=\"0.029\" style=\"background-color: rgba(254, 240, 233, 0.5);\">of</span> <span title=\"0.041\" style=\"background-color: rgba(254, 238, 230, 0.5);\">the</span> <span title=\"0.034\" style=\"background-color: rgba(254, 239, 232, 0.5);\">right</span> <span title=\"0.085\" style=\"background-color: rgba(254, 231, 220, 0.5);\">lung</span> <span title=\"0.024\" style=\"background-color: rgba(254, 241, 234, 0.5);\">,</span> <span title=\"0.022\" style=\"background-color: rgba(254, 241, 235, 0.5);\">a</span> <span title=\"0.028\" style=\"background-color: rgba(254, 240, 233, 0.5);\">700</span> <span title=\"0.018\" style=\"background-color: rgba(254, 242, 236, 0.5);\">ml</span> <span title=\"0.014\" style=\"background-color: rgba(254, 243, 237, 0.5);\">right</span> <span title=\"0.032\" style=\"background-color: rgba(254, 239, 232, 0.5);\">hemothroax</span> <span title=\"0.035\" style=\"background-color: rgba(254, 239, 232, 0.5);\">,</span> <span title=\"0.016\" style=\"background-color: rgba(254, 242, 236, 0.5);\">a</span> <span title=\"0.065\" style=\"background-color: rgba(254, 234, 224, 0.5);\">150</span> <span title=\"0.020\" style=\"background-color: rgba(254, 241, 235, 0.5);\">ml</span> <span title=\"0.015\" style=\"background-color: rgba(254, 243, 237, 0.5);\">left</span> <span title=\"0.027\" style=\"background-color: rgba(254, 241, 234, 0.5);\">hemothroax</span> <span title=\"0.045\" style=\"background-color: rgba(254, 237, 229, 0.5);\">and</span> <span title=\"0.033\" style=\"background-color: rgba(254, 239, 232, 0.5);\">lacerations</span> <span title=\"0.114\" style=\"background-color: rgba(254, 225, 212, 0.5);\">of</span> <span title=\"0.011\" style=\"background-color: rgba(254, 243, 238, 0.5);\">the</span> <span title=\"0.066\" style=\"background-color: rgba(254, 234, 224, 0.5);\">parietal</span> <span title=\"0.017\" style=\"background-color: rgba(254, 242, 236, 0.5);\">pleura</span> <span title=\"0.011\" style=\"background-color: rgba(254, 243, 238, 0.5);\">of</span> <span title=\"0.030\" style=\"background-color: rgba(254, 240, 233, 0.5);\">the</span> <span title=\"0.051\" style=\"background-color: rgba(254, 236, 227, 0.5);\">4th</span> <span title=\"0.015\" style=\"background-color: rgba(254, 243, 237, 0.5);\">and</span> <span title=\"0.012\" style=\"background-color: rgba(254, 243, 237, 0.5);\">6th</span> <span title=\"0.021\" style=\"background-color: rgba(254, 241, 235, 0.5);\">left</span> <span title=\"0.053\" style=\"background-color: rgba(254, 236, 227, 0.5);\">intercostal</span> <span title=\"0.009\" style=\"background-color: rgba(254, 243, 238, 0.5);\">spaces</span> <span title=\"0.020\" style=\"background-color: rgba(254, 241, 235, 0.5);\">.</span> <span title=\"0.081\" style=\"background-color: rgba(254, 231, 221, 0.5);\">xxmaj</span> <span title=\"0.055\" style=\"background-color: rgba(254, 235, 226, 0.5);\">recovery</span> <span title=\"0.050\" style=\"background-color: rgba(254, 237, 228, 0.5);\">:</span> <span title=\"0.125\" style=\"background-color: rgba(254, 224, 210, 0.5);\">xxmaj</span> <span title=\"0.019\" style=\"background-color: rgba(254, 242, 236, 0.5);\">recovered</span> <span title=\"0.028\" style=\"background-color: rgba(254, 240, 233, 0.5);\">in</span> <span title=\"0.066\" style=\"background-color: rgba(254, 234, 224, 0.5);\">the</span> <span title=\"0.049\" style=\"background-color: rgba(254, 237, 228, 0.5);\">upper</span> <span title=\"0.033\" style=\"background-color: rgba(254, 239, 232, 0.5);\">lobe</span> <span title=\"0.093\" style=\"background-color: rgba(254, 229, 218, 0.5);\">of</span> <span title=\"0.017\" style=\"background-color: rgba(254, 242, 236, 0.5);\">the</span> <span title=\"0.054\" style=\"background-color: rgba(254, 236, 227, 0.5);\">left</span> <span title=\"0.018\" style=\"background-color: rgba(254, 242, 236, 0.5);\">lung</span> <span title=\"0.015\" style=\"background-color: rgba(254, 243, 237, 0.5);\">is</span> <span title=\"0.102\" style=\"background-color: rgba(254, 227, 215, 0.5);\">a</span> <span title=\"0.048\" style=\"background-color: rgba(254, 237, 228, 0.5);\">4.2</span> <span title=\"0.017\" style=\"background-color: rgba(254, 242, 236, 0.5);\">grain</span> <span title=\"0.014\" style=\"background-color: rgba(254, 243, 237, 0.5);\">missile</span> <span title=\"0.060\" style=\"background-color: rgba(254, 235, 225, 0.5);\">fragment</span> <span title=\"0.023\" style=\"background-color: rgba(254, 241, 235, 0.5);\">.</span> <span title=\"0.020\" style=\"background-color: rgba(254, 241, 235, 0.5);\">xxmaj</span> <span title=\"0.017\" style=\"background-color: rgba(254, 242, 236, 0.5);\">recovered</span> <span title=\"0.067\" style=\"background-color: rgba(254, 233, 224, 0.5);\">in</span> <span title=\"0.016\" style=\"background-color: rgba(254, 242, 236, 0.5);\">the</span> <span title=\"0.005\" style=\"background-color: rgba(254, 244, 239, 0.5);\">6th</span> <span title=\"0.004\" style=\"background-color: rgba(254, 244, 239, 0.5);\">left</span> <span title=\"0.006\" style=\"background-color: rgba(254, 244, 239, 0.5);\">intercostal</span> <span title=\"0.052\" style=\"background-color: rgba(254, 236, 227, 0.5);\">space</span> <span title=\"0.007\" style=\"background-color: rgba(254, 244, 239, 0.5);\">is</span> <span title=\"0.007\" style=\"background-color: rgba(254, 244, 239, 0.5);\">a</span> <span title=\"0.017\" style=\"background-color: rgba(254, 242, 236, 0.5);\">4.8</span> <span title=\"0.062\" style=\"background-color: rgba(254, 235, 225, 0.5);\">grain</span> <span title=\"0.024\" style=\"background-color: rgba(254, 241, 234, 0.5);\">missile</span> <span title=\"0.009\" style=\"background-color: rgba(254, 243, 238, 0.5);\">fragment</span> <span title=\"0.024\" style=\"background-color: rgba(254, 241, 234, 0.5);\">.</span> <span title=\"0.038\" style=\"background-color: rgba(254, 239, 231, 0.5);\">xxmaj</span> <span title=\"0.012\" style=\"background-color: rgba(254, 243, 237, 0.5);\">trajectory</span> <span title=\"0.012\" style=\"background-color: rgba(254, 243, 238, 0.5);\">:</span> <span title=\"0.011\" style=\"background-color: rgba(254, 243, 238, 0.5);\">xxmaj</span> <span title=\"0.043\" style=\"background-color: rgba(254, 238, 230, 0.5);\">the</span> <span title=\"0.015\" style=\"background-color: rgba(254, 243, 237, 0.5);\">wound</span> <span title=\"0.020\" style=\"background-color: rgba(254, 241, 235, 0.5);\">track</span> <span title=\"0.035\" style=\"background-color: rgba(254, 239, 232, 0.5);\">travels</span> <span title=\"0.036\" style=\"background-color: rgba(254, 239, 231, 0.5);\">from</span> <span title=\"0.058\" style=\"background-color: rgba(254, 235, 226, 0.5);\">the</span> <span title=\"0.018\" style=\"background-color: rgba(254, 242, 236, 0.5);\">decedentâs</span> <span title=\"0.007\" style=\"background-color: rgba(254, 244, 239, 0.5);\">right</span> <span title=\"0.008\" style=\"background-color: rgba(254, 243, 238, 0.5);\">to</span> <span title=\"0.054\" style=\"background-color: rgba(254, 236, 227, 0.5);\">left</span> <span title=\"0.027\" style=\"background-color: rgba(254, 241, 234, 0.5);\">and</span> <span title=\"0.010\" style=\"background-color: rgba(254, 243, 238, 0.5);\">slightly</span> <span title=\"0.031\" style=\"background-color: rgba(254, 240, 233, 0.5);\">upward</span> <span title=\"0.015\" style=\"background-color: rgba(254, 243, 237, 0.5);\">with</span> <span title=\"0.053\" style=\"background-color: rgba(254, 236, 227, 0.5);\">no</span> <span title=\"0.016\" style=\"background-color: rgba(254, 242, 236, 0.5);\">significant</span> <span title=\"0.011\" style=\"background-color: rgba(254, 243, 238, 0.5);\">front</span> <span title=\"0.012\" style=\"background-color: rgba(254, 243, 237, 0.5);\">or</span> <span title=\"0.032\" style=\"background-color: rgba(254, 239, 232, 0.5);\">back</span> <span title=\"0.030\" style=\"background-color: rgba(254, 240, 233, 0.5);\">trajectory</span> <span title=\"0.027\" style=\"background-color: rgba(254, 241, 234, 0.5);\">.</span> <span title=\"0.010\" style=\"background-color: rgba(254, 243, 238, 0.5);\">xxmaj</span> <span title=\"0.002\" style=\"background-color: rgba(255, 245, 240, 0.5);\">clothing</span> <span title=\"0.001\" style=\"background-color: rgba(255, 245, 240, 0.5);\">:</span> <span title=\"0.003\" style=\"background-color: rgba(255, 245, 240, 0.5);\">xxmaj</span> <span title=\"0.018\" style=\"background-color: rgba(254, 242, 236, 0.5);\">on</span> <span title=\"0.004\" style=\"background-color: rgba(255, 245, 240, 0.5);\">the</span> <span title=\"0.004\" style=\"background-color: rgba(255, 245, 240, 0.5);\">lateral</span> <span title=\"0.005\" style=\"background-color: rgba(254, 244, 239, 0.5);\">right</span> <span title=\"0.005\" style=\"background-color: rgba(254, 244, 239, 0.5);\">chest</span> <span title=\"0.008\" style=\"background-color: rgba(254, 244, 239, 0.5);\">area</span> <span title=\"0.013\" style=\"background-color: rgba(254, 243, 237, 0.5);\">of</span> <span title=\"0.021\" style=\"background-color: rgba(254, 241, 235, 0.5);\">the</span> <span title=\"0.010\" style=\"background-color: rgba(254, 243, 238, 0.5);\">blue</span> <span title=\"0.010\" style=\"background-color: rgba(254, 243, 238, 0.5);\">shirt</span> <span title=\"0.049\" style=\"background-color: rgba(254, 237, 228, 0.5);\">and</span> <span title=\"0.051\" style=\"background-color: rgba(254, 237, 228, 0.5);\">corresponding</span> <span title=\"0.022\" style=\"background-color: rgba(254, 241, 235, 0.5);\">to</span> <span title=\"0.007\" style=\"background-color: rgba(254, 244, 239, 0.5);\">the</span> <span title=\"0.007\" style=\"background-color: rgba(254, 244, 239, 0.5);\">entrance</span> <span title=\"0.011\" style=\"background-color: rgba(254, 243, 238, 0.5);\">gunshot</span> <span title=\"0.013\" style=\"background-color: rgba(254, 243, 237, 0.5);\">wound</span> <span title=\"0.006\" style=\"background-color: rgba(254, 244, 239, 0.5);\">is</span> <span title=\"0.008\" style=\"background-color: rgba(254, 243, 238, 0.5);\">a</span> <span title=\"0.008\" style=\"background-color: rgba(254, 243, 238, 0.5);\">small</span> <span title=\"0.012\" style=\"background-color: rgba(254, 243, 237, 0.5);\">defect</span> <span title=\"0.005\" style=\"background-color: rgba(254, 244, 239, 0.5);\">with</span> <span title=\"0.007\" style=\"background-color: rgba(254, 244, 239, 0.5);\">frayed</span> <span title=\"0.010\" style=\"background-color: rgba(254, 243, 238, 0.5);\">edges</span> <span title=\"0.002\" style=\"background-color: rgba(255, 245, 240, 0.5);\">.</span> <span title=\"0.002\" style=\"background-color: rgba(255, 245, 240, 0.5);\">xxmaj</span> <span title=\"0.008\" style=\"background-color: rgba(254, 244, 239, 0.5);\">soot</span> <span title=\"0.043\" style=\"background-color: rgba(254, 238, 230, 0.5);\">or</span> <span title=\"0.005\" style=\"background-color: rgba(254, 244, 239, 0.5);\">unburned</span> <span title=\"0.007\" style=\"background-color: rgba(254, 244, 239, 0.5);\">gunpowder</span> <span title=\"0.006\" style=\"background-color: rgba(254, 244, 239, 0.5);\">particles</span> <span title=\"0.013\" style=\"background-color: rgba(254, 243, 237, 0.5);\">are</span> <span title=\"0.006\" style=\"background-color: rgba(254, 244, 239, 0.5);\">not</span> <span title=\"0.029\" style=\"background-color: rgba(254, 240, 233, 0.5);\">visible</span> <span title=\"0.017\" style=\"background-color: rgba(254, 242, 236, 0.5);\">on</span> <span title=\"0.021\" style=\"background-color: rgba(254, 241, 235, 0.5);\">the</span> <span title=\"0.015\" style=\"background-color: rgba(254, 243, 237, 0.5);\">fabric</span> <span title=\"0.004\" style=\"background-color: rgba(254, 244, 239, 0.5);\">surrounding</span> <span title=\"0.004\" style=\"background-color: rgba(254, 244, 239, 0.5);\">the</span> <span title=\"0.018\" style=\"background-color: rgba(254, 242, 236, 0.5);\">defect</span> <span title=\"0.037\" style=\"background-color: rgba(254, 239, 231, 0.5);\">.</span> <span title=\"0.004\" style=\"background-color: rgba(255, 245, 240, 0.5);\">xxup</span> <span title=\"0.014\" style=\"background-color: rgba(254, 243, 237, 0.5);\">gunshot</span> <span title=\"0.004\" style=\"background-color: rgba(254, 244, 239, 0.5);\">xxup</span> <span title=\"0.005\" style=\"background-color: rgba(254, 244, 239, 0.5);\">wound</span> <span title=\"0.010\" style=\"background-color: rgba(254, 243, 238, 0.5);\">xxup</span> <span title=\"0.008\" style=\"background-color: rgba(254, 244, 239, 0.5);\">of</span> <span title=\"0.006\" style=\"background-color: rgba(254, 244, 239, 0.5);\">xxup</span> <span title=\"0.007\" style=\"background-color: rgba(254, 244, 239, 0.5);\">the</span> <span title=\"0.005\" style=\"background-color: rgba(254, 244, 239, 0.5);\">xxup</span> <span title=\"0.015\" style=\"background-color: rgba(254, 243, 237, 0.5);\">lateral</span> <span title=\"0.020\" style=\"background-color: rgba(254, 241, 235, 0.5);\">xxup</span> <span title=\"0.004\" style=\"background-color: rgba(254, 244, 239, 0.5);\">left</span> <span title=\"0.015\" style=\"background-color: rgba(254, 243, 237, 0.5);\">xxup</span> <span title=\"0.017\" style=\"background-color: rgba(254, 242, 236, 0.5);\">back</span> <span title=\"0.003\" style=\"background-color: rgba(255, 245, 240, 0.5);\">xxmaj</span> <span title=\"0.006\" style=\"background-color: rgba(254, 244, 239, 0.5);\">entrance</span> <span title=\"0.026\" style=\"background-color: rgba(254, 241, 234, 0.5);\">:</span> <span title=\"0.007\" style=\"background-color: rgba(254, 244, 239, 0.5);\">xxmaj</span> <span title=\"0.010\" style=\"background-color: rgba(254, 243, 238, 0.5);\">on</span> <span title=\"0.007\" style=\"background-color: rgba(254, 244, 239, 0.5);\">the</span> <span title=\"0.008\" style=\"background-color: rgba(254, 244, 239, 0.5);\">upper</span> <span title=\"0.004\" style=\"background-color: rgba(255, 245, 240, 0.5);\">lateral</span> <span title=\"0.005\" style=\"background-color: rgba(254, 244, 239, 0.5);\">left</span> <span title=\"0.008\" style=\"background-color: rgba(254, 244, 239, 0.5);\">back</span> <span title=\"0.004\" style=\"background-color: rgba(255, 245, 240, 0.5);\">,</span> <span title=\"0.007\" style=\"background-color: rgba(254, 244, 239, 0.5);\">40</span> <span title=\"0.024\" style=\"background-color: rgba(254, 241, 234, 0.5);\">cm</span> <span title=\"0.006\" style=\"background-color: rgba(254, 244, 239, 0.5);\">below</span> <span title=\"0.005\" style=\"background-color: rgba(254, 244, 239, 0.5);\">the</span> <span title=\"0.012\" style=\"background-color: rgba(254, 243, 237, 0.5);\">top</span> <span title=\"0.004\" style=\"background-color: rgba(255, 245, 240, 0.5);\">of</span> <span title=\"0.024\" style=\"background-color: rgba(254, 241, 234, 0.5);\">the</span> <span title=\"0.028\" style=\"background-color: rgba(254, 240, 233, 0.5);\">head</span> <span title=\"0.036\" style=\"background-color: rgba(254, 239, 231, 0.5);\">and</span> <span title=\"0.005\" style=\"background-color: rgba(254, 244, 239, 0.5);\">18</span> <span title=\"0.024\" style=\"background-color: rgba(254, 241, 234, 0.5);\">cm</span> <span title=\"0.008\" style=\"background-color: rgba(254, 243, 238, 0.5);\">left</span> <span title=\"0.017\" style=\"background-color: rgba(254, 242, 236, 0.5);\">of</span> <span title=\"0.006\" style=\"background-color: rgba(254, 244, 239, 0.5);\">the</span> <span title=\"0.026\" style=\"background-color: rgba(254, 241, 234, 0.5);\">posterior</span> <span title=\"0.014\" style=\"background-color: rgba(254, 243, 237, 0.5);\">midline</span> <span title=\"0.047\" style=\"background-color: rgba(254, 237, 229, 0.5);\">,</span> <span title=\"0.009\" style=\"background-color: rgba(254, 243, 238, 0.5);\">is</span> <span title=\"0.035\" style=\"background-color: rgba(254, 239, 232, 0.5);\">an</span> <span title=\"0.011\" style=\"background-color: rgba(254, 243, 238, 0.5);\">entrance</span> <span title=\"0.054\" style=\"background-color: rgba(254, 236, 227, 0.5);\">gunshot</span> <span title=\"0.006\" style=\"background-color: rgba(254, 244, 239, 0.5);\">wound</span> <span title=\"0.006\" style=\"background-color: rgba(254, 244, 239, 0.5);\">consisting</span> <span title=\"0.027\" style=\"background-color: rgba(254, 241, 234, 0.5);\">of</span> <span title=\"0.013\" style=\"background-color: rgba(254, 243, 237, 0.5);\">a</span> <span title=\"0.011\" style=\"background-color: rgba(254, 243, 238, 0.5);\">0.5</span> <span title=\"0.004\" style=\"background-color: rgba(254, 244, 239, 0.5);\">x</span> <span title=\"0.010\" style=\"background-color: rgba(254, 243, 238, 0.5);\">0.4</span> <span title=\"0.009\" style=\"background-color: rgba(254, 243, 238, 0.5);\">cm</span> <span title=\"0.033\" style=\"background-color: rgba(254, 239, 232, 0.5);\">oval</span> <span title=\"0.025\" style=\"background-color: rgba(254, 241, 234, 0.5);\">defect</span> <span title=\"0.019\" style=\"background-color: rgba(254, 242, 236, 0.5);\">with</span> <span title=\"0.043\" style=\"background-color: rgba(254, 237, 229, 0.5);\">a</span> <span title=\"0.006\" style=\"background-color: rgba(254, 244, 239, 0.5);\">0.2</span> <span title=\"0.024\" style=\"background-color: rgba(254, 241, 234, 0.5);\">cm</span> <span title=\"0.010\" style=\"background-color: rgba(254, 243, 238, 0.5);\">wide</span> <span title=\"0.009\" style=\"background-color: rgba(254, 243, 238, 0.5);\">circumferential</span> <span title=\"0.004\" style=\"background-color: rgba(255, 245, 240, 0.5);\">pink</span> <span title=\"0.012\" style=\"background-color: rgba(254, 243, 237, 0.5);\">marginal</span> <span title=\"0.003\" style=\"background-color: rgba(255, 245, 240, 0.5);\">abrasion</span> <span title=\"0.004\" style=\"background-color: rgba(254, 244, 239, 0.5);\">.</span> <span title=\"0.014\" style=\"background-color: rgba(254, 243, 237, 0.5);\">xxmaj</span> <span title=\"0.004\" style=\"background-color: rgba(254, 244, 239, 0.5);\">soot</span> <span title=\"0.009\" style=\"background-color: rgba(254, 243, 238, 0.5);\">,</span> <span title=\"0.005\" style=\"background-color: rgba(254, 244, 239, 0.5);\">unburned</span> <span title=\"0.013\" style=\"background-color: rgba(254, 243, 237, 0.5);\">gunpowder</span> <span title=\"0.006\" style=\"background-color: rgba(254, 244, 239, 0.5);\">particles</span> <span title=\"0.003\" style=\"background-color: rgba(255, 245, 240, 0.5);\">and</span> <span title=\"0.013\" style=\"background-color: rgba(254, 243, 237, 0.5);\">gunpowder</span> <span title=\"0.008\" style=\"background-color: rgba(254, 243, 238, 0.5);\">stippling</span> <span title=\"0.004\" style=\"background-color: rgba(255, 245, 240, 0.5);\">are</span> <span title=\"0.007\" style=\"background-color: rgba(254, 244, 239, 0.5);\">not</span> <span title=\"0.014\" style=\"background-color: rgba(254, 243, 237, 0.5);\">visible</span> <span title=\"0.051\" style=\"background-color: rgba(254, 236, 227, 0.5);\">on</span> <span title=\"0.012\" style=\"background-color: rgba(254, 243, 237, 0.5);\">the</span> <span title=\"0.009\" style=\"background-color: rgba(254, 243, 238, 0.5);\">skin</span> <span title=\"0.014\" style=\"background-color: rgba(254, 243, 237, 0.5);\">surrounding</span> <span title=\"0.006\" style=\"background-color: rgba(254, 244, 239, 0.5);\">the</span> <span title=\"0.009\" style=\"background-color: rgba(254, 243, 238, 0.5);\">wound</span> <span title=\"0.015\" style=\"background-color: rgba(254, 243, 237, 0.5);\">.</span> <span title=\"0.007\" style=\"background-color: rgba(254, 244, 239, 0.5);\">xxmaj</span> <span title=\"0.015\" style=\"background-color: rgba(254, 243, 237, 0.5);\">path</span> <span title=\"0.008\" style=\"background-color: rgba(254, 244, 239, 0.5);\">:</span> <span title=\"0.058\" style=\"background-color: rgba(254, 235, 226, 0.5);\">xxmaj</span> <span title=\"0.035\" style=\"background-color: rgba(254, 239, 232, 0.5);\">the</span> <span title=\"0.007\" style=\"background-color: rgba(254, 244, 239, 0.5);\">hemorrhagic</span> <span title=\"0.010\" style=\"background-color: rgba(254, 243, 238, 0.5);\">wound</span> <span title=\"0.014\" style=\"background-color: rgba(254, 243, 237, 0.5);\">track</span> <span title=\"0.012\" style=\"background-color: rgba(254, 243, 238, 0.5);\">sequentially</span> <span title=\"0.029\" style=\"background-color: rgba(254, 240, 233, 0.5);\">perforates</span> <span title=\"0.061\" style=\"background-color: rgba(254, 235, 225, 0.5);\">the</span> <span title=\"0.010\" style=\"background-color: rgba(254, 243, 238, 0.5);\">skin</span> <span title=\"0.016\" style=\"background-color: rgba(254, 243, 237, 0.5);\">and</span> <span title=\"0.008\" style=\"background-color: rgba(254, 244, 239, 0.5);\">subcutaneous</span> <span title=\"0.002\" style=\"background-color: rgba(255, 245, 240, 0.5);\">tissue</span> <span title=\"0.005\" style=\"background-color: rgba(254, 244, 239, 0.5);\">of</span> <span title=\"0.021\" style=\"background-color: rgba(254, 241, 235, 0.5);\">the</span> <span title=\"0.005\" style=\"background-color: rgba(254, 244, 239, 0.5);\">lateral</span> <span title=\"0.012\" style=\"background-color: rgba(254, 243, 238, 0.5);\">upper</span> <span title=\"0.010\" style=\"background-color: rgba(254, 243, 238, 0.5);\">left</span> <span title=\"0.008\" style=\"background-color: rgba(254, 243, 238, 0.5);\">back</span> <span title=\"0.004\" style=\"background-color: rgba(254, 244, 239, 0.5);\">and</span> <span title=\"0.011\" style=\"background-color: rgba(254, 243, 238, 0.5);\">anterior</span> <span title=\"0.015\" style=\"background-color: rgba(254, 243, 237, 0.5);\">mid</span> <span title=\"0.003\" style=\"background-color: rgba(255, 245, 240, 0.5);\">left</span> <span title=\"0.004\" style=\"background-color: rgba(255, 245, 240, 0.5);\">chest</span> <span title=\"0.007\" style=\"background-color: rgba(254, 244, 239, 0.5);\">.</span> <span title=\"0.004\" style=\"background-color: rgba(254, 244, 239, 0.5);\">xxmaj</span> <span title=\"0.004\" style=\"background-color: rgba(254, 244, 239, 0.5);\">exit</span> <span title=\"0.008\" style=\"background-color: rgba(254, 243, 238, 0.5);\">:</span> <span title=\"0.007\" style=\"background-color: rgba(254, 244, 239, 0.5);\">xxmaj</span> <span title=\"0.004\" style=\"background-color: rgba(255, 245, 240, 0.5);\">on</span> <span title=\"0.006\" style=\"background-color: rgba(254, 244, 239, 0.5);\">the</span> <span title=\"0.002\" style=\"background-color: rgba(255, 245, 240, 0.5);\">anterior</span> <span title=\"0.002\" style=\"background-color: rgba(255, 245, 240, 0.5);\">mid</span> <span title=\"0.004\" style=\"background-color: rgba(254, 244, 239, 0.5);\">left</span> <span title=\"0.024\" style=\"background-color: rgba(254, 241, 234, 0.5);\">chest</span> <span title=\"0.003\" style=\"background-color: rgba(255, 245, 240, 0.5);\">,</span> <span title=\"0.005\" style=\"background-color: rgba(254, 244, 239, 0.5);\">45</span> <span title=\"0.005\" style=\"background-color: rgba(254, 244, 239, 0.5);\">cm</span> <span title=\"0.006\" style=\"background-color: rgba(254, 244, 239, 0.5);\">below</span> <span title=\"0.011\" style=\"background-color: rgba(254, 243, 238, 0.5);\">the</span> <span title=\"0.013\" style=\"background-color: rgba(254, 243, 237, 0.5);\">top</span> <span title=\"0.013\" style=\"background-color: rgba(254, 243, 237, 0.5);\">of</span> <span title=\"0.016\" style=\"background-color: rgba(254, 242, 236, 0.5);\">the</span> <span title=\"0.019\" style=\"background-color: rgba(254, 242, 236, 0.5);\">head</span> <span title=\"0.008\" style=\"background-color: rgba(254, 244, 239, 0.5);\">and</span> <span title=\"0.023\" style=\"background-color: rgba(254, 241, 235, 0.5);\">7</span> <span title=\"0.007\" style=\"background-color: rgba(254, 244, 239, 0.5);\">cm</span> <span title=\"0.023\" style=\"background-color: rgba(254, 241, 235, 0.5);\">left</span> <span title=\"0.017\" style=\"background-color: rgba(254, 242, 236, 0.5);\">of</span> <span title=\"0.011\" style=\"background-color: rgba(254, 243, 238, 0.5);\">the</span> <span title=\"0.010\" style=\"background-color: rgba(254, 243, 238, 0.5);\">anterior</span> <span title=\"0.024\" style=\"background-color: rgba(254, 241, 234, 0.5);\">midline</span> <span title=\"0.021\" style=\"background-color: rgba(254, 241, 235, 0.5);\">,</span> <span title=\"0.018\" style=\"background-color: rgba(254, 242, 236, 0.5);\">is</span> <span title=\"0.034\" style=\"background-color: rgba(254, 239, 232, 0.5);\">an</span> <span title=\"0.012\" style=\"background-color: rgba(254, 243, 238, 0.5);\">exit</span> <span title=\"0.026\" style=\"background-color: rgba(254, 241, 234, 0.5);\">gunshot</span> <span title=\"0.024\" style=\"background-color: rgba(254, 241, 234, 0.5);\">wound</span> <span title=\"0.018\" style=\"background-color: rgba(254, 242, 236, 0.5);\">consisting</span> <span title=\"0.045\" style=\"background-color: rgba(254, 237, 229, 0.5);\">of</span> <span title=\"0.004\" style=\"background-color: rgba(254, 244, 239, 0.5);\">a</span> <span title=\"0.004\" style=\"background-color: rgba(254, 244, 239, 0.5);\">1.5</span> <span title=\"0.011\" style=\"background-color: rgba(254, 243, 238, 0.5);\">x</span> <span title=\"0.049\" style=\"background-color: rgba(254, 237, 228, 0.5);\">1</span> <span title=\"0.007\" style=\"background-color: rgba(254, 244, 239, 0.5);\">cm</span> <span title=\"0.007\" style=\"background-color: rgba(254, 244, 239, 0.5);\">laceration</span> <span title=\"0.003\" style=\"background-color: rgba(255, 245, 240, 0.5);\">without</span> <span title=\"0.013\" style=\"background-color: rgba(254, 243, 237, 0.5);\">marginal</span> <span title=\"0.009\" style=\"background-color: rgba(254, 243, 238, 0.5);\">abrasion</span> <span title=\"0.019\" style=\"background-color: rgba(254, 242, 236, 0.5);\">.</span> <span title=\"0.026\" style=\"background-color: rgba(254, 241, 234, 0.5);\">a</span> <span title=\"0.019\" style=\"background-color: rgba(254, 242, 236, 0.5);\">0.5</span> <span title=\"0.045\" style=\"background-color: rgba(254, 237, 229, 0.5);\">cm</span> <span title=\"0.005\" style=\"background-color: rgba(254, 244, 239, 0.5);\">fragment</span> <span title=\"0.020\" style=\"background-color: rgba(254, 241, 235, 0.5);\">defect</span> <span title=\"0.008\" style=\"background-color: rgba(254, 244, 239, 0.5);\">is</span> <span title=\"0.010\" style=\"background-color: rgba(254, 243, 238, 0.5);\">located</span> <span title=\"0.003\" style=\"background-color: rgba(255, 245, 240, 0.5);\">inferomedial</span> <span title=\"0.012\" style=\"background-color: rgba(254, 243, 237, 0.5);\">to</span> <span title=\"0.003\" style=\"background-color: rgba(255, 245, 240, 0.5);\">the</span> <span title=\"0.004\" style=\"background-color: rgba(255, 245, 240, 0.5);\">exit</span> <span title=\"0.016\" style=\"background-color: rgba(254, 242, 236, 0.5);\">defect</span> <span title=\"0.005\" style=\"background-color: rgba(254, 244, 239, 0.5);\">.</span> <span title=\"0.009\" style=\"background-color: rgba(254, 243, 238, 0.5);\">xxmaj</span> <span title=\"0.003\" style=\"background-color: rgba(255, 245, 240, 0.5);\">recovery</span> <span title=\"0.012\" style=\"background-color: rgba(254, 243, 238, 0.5);\">:</span> <span title=\"0.005\" style=\"background-color: rgba(254, 244, 239, 0.5);\">xxmaj</span> <span title=\"0.003\" style=\"background-color: rgba(255, 245, 240, 0.5);\">recovered</span> <span title=\"0.010\" style=\"background-color: rgba(254, 243, 238, 0.5);\">in</span> <span title=\"0.008\" style=\"background-color: rgba(254, 243, 238, 0.5);\">the</span> <span title=\"0.002\" style=\"background-color: rgba(255, 245, 240, 0.5);\">soft</span> <span title=\"0.006\" style=\"background-color: rgba(254, 244, 239, 0.5);\">tissue</span> <span title=\"0.013\" style=\"background-color: rgba(254, 243, 237, 0.5);\">of</span> <span title=\"0.051\" style=\"background-color: rgba(254, 236, 227, 0.5);\">the</span> <span title=\"0.023\" style=\"background-color: rgba(254, 241, 234, 0.5);\">left</span> <span title=\"0.014\" style=\"background-color: rgba(254, 243, 237, 0.5);\">chest</span> <span title=\"0.025\" style=\"background-color: rgba(254, 241, 234, 0.5);\">near</span> <span title=\"0.013\" style=\"background-color: rgba(254, 243, 237, 0.5);\">the</span> <span title=\"0.010\" style=\"background-color: rgba(254, 243, 238, 0.5);\">exit</span> <span title=\"0.017\" style=\"background-color: rgba(254, 242, 236, 0.5);\">defect</span> <span title=\"0.010\" style=\"background-color: rgba(254, 243, 238, 0.5);\">is</span> <span title=\"0.012\" style=\"background-color: rgba(254, 243, 238, 0.5);\">a</span> <span title=\"0.011\" style=\"background-color: rgba(254, 243, 238, 0.5);\">4.6</span> <span title=\"0.023\" style=\"background-color: rgba(254, 241, 235, 0.5);\">grain</span> <span title=\"0.027\" style=\"background-color: rgba(254, 240, 233, 0.5);\">fragment</span> <span title=\"0.027\" style=\"background-color: rgba(254, 241, 234, 0.5);\">of</span> <span title=\"0.009\" style=\"background-color: rgba(254, 243, 238, 0.5);\">a</span> <span title=\"0.004\" style=\"background-color: rgba(254, 244, 239, 0.5);\">deformed</span> <span title=\"0.009\" style=\"background-color: rgba(254, 243, 238, 0.5);\">copper</span> <span title=\"0.017\" style=\"background-color: rgba(254, 242, 236, 0.5);\">jacket</span> <span title=\"0.006\" style=\"background-color: rgba(254, 244, 239, 0.5);\">.</span> <span title=\"0.044\" style=\"background-color: rgba(254, 237, 229, 0.5);\">xxmaj</span> <span title=\"0.037\" style=\"background-color: rgba(254, 239, 231, 0.5);\">trajectory</span> <span title=\"0.012\" style=\"background-color: rgba(254, 243, 238, 0.5);\">:</span> <span title=\"0.044\" style=\"background-color: rgba(254, 237, 229, 0.5);\">xxmaj</span> <span title=\"0.074\" style=\"background-color: rgba(254, 232, 222, 0.5);\">the</span> <span title=\"0.027\" style=\"background-color: rgba(254, 241, 234, 0.5);\">wound</span> <span title=\"0.016\" style=\"background-color: rgba(254, 242, 236, 0.5);\">track</span> <span title=\"0.041\" style=\"background-color: rgba(254, 238, 230, 0.5);\">travels</span> <span title=\"0.017\" style=\"background-color: rgba(254, 242, 236, 0.5);\">from</span> <span title=\"0.005\" style=\"background-color: rgba(254, 244, 239, 0.5);\">the</span> <span title=\"0.003\" style=\"background-color: rgba(255, 245, 240, 0.5);\">decedentâs</span> <span title=\"0.005\" style=\"background-color: rgba(254, 244, 239, 0.5);\">back</span> <span title=\"0.037\" style=\"background-color: rgba(254, 239, 231, 0.5);\">to</span> <span title=\"0.008\" style=\"background-color: rgba(254, 244, 239, 0.5);\">front</span> <span title=\"0.008\" style=\"background-color: rgba(254, 243, 238, 0.5);\">,</span> <span title=\"0.020\" style=\"background-color: rgba(254, 241, 235, 0.5);\">left</span> <span title=\"0.076\" style=\"background-color: rgba(254, 232, 222, 0.5);\">to</span> <span title=\"0.038\" style=\"background-color: rgba(254, 239, 231, 0.5);\">right</span> <span title=\"0.023\" style=\"background-color: rgba(254, 241, 235, 0.5);\">and</span> <span title=\"0.125\" style=\"background-color: rgba(253, 223, 209, 0.5);\">downward</span> <span title=\"0.021\" style=\"background-color: rgba(254, 241, 235, 0.5);\">.</span> <span title=\"0.011\" style=\"background-color: rgba(254, 243, 238, 0.5);\">xxmaj</span> <span title=\"0.008\" style=\"background-color: rgba(254, 244, 239, 0.5);\">clothing</span> <span title=\"0.008\" style=\"background-color: rgba(254, 243, 238, 0.5);\">:</span> <span title=\"0.018\" style=\"background-color: rgba(254, 242, 236, 0.5);\">xxmaj</span> <span title=\"0.026\" style=\"background-color: rgba(254, 241, 234, 0.5);\">on</span> <span title=\"0.008\" style=\"background-color: rgba(254, 244, 239, 0.5);\">the</span> <span title=\"0.017\" style=\"background-color: rgba(254, 242, 236, 0.5);\">lateral</span> <span title=\"0.010\" style=\"background-color: rgba(254, 243, 238, 0.5);\">left</span> <span title=\"0.004\" style=\"background-color: rgba(254, 244, 239, 0.5);\">back</span> <span title=\"0.007\" style=\"background-color: rgba(254, 244, 239, 0.5);\">area</span> <span title=\"0.028\" style=\"background-color: rgba(254, 240, 233, 0.5);\">of</span> <span title=\"0.019\" style=\"background-color: rgba(254, 242, 236, 0.5);\">the</span> <span title=\"0.022\" style=\"background-color: rgba(254, 241, 235, 0.5);\">blue</span> <span title=\"0.006\" style=\"background-color: rgba(254, 244, 239, 0.5);\">t</span> <span title=\"0.005\" style=\"background-color: rgba(254, 244, 239, 0.5);\">-</span> <span title=\"0.019\" style=\"background-color: rgba(254, 242, 236, 0.5);\">shirt</span> <span title=\"0.034\" style=\"background-color: rgba(254, 239, 232, 0.5);\">and</span> <span title=\"0.009\" style=\"background-color: rgba(254, 243, 238, 0.5);\">corresponding</span> <span title=\"0.002\" style=\"background-color: rgba(255, 245, 240, 0.5);\">to</span> <span title=\"0.002\" style=\"background-color: rgba(255, 245, 240, 0.5);\">the</span> <span title=\"0.003\" style=\"background-color: rgba(255, 245, 240, 0.5);\">entrance</span> <span title=\"0.021\" style=\"background-color: rgba(254, 241, 235, 0.5);\">gunshot</span> <span title=\"0.003\" style=\"background-color: rgba(255, 245, 240, 0.5);\">wound</span> <span title=\"0.004\" style=\"background-color: rgba(254, 244, 239, 0.5);\">is</span> <span title=\"0.005\" style=\"background-color: rgba(254, 244, 239, 0.5);\">a</span> <span title=\"0.008\" style=\"background-color: rgba(254, 243, 238, 0.5);\">small</span> <span title=\"0.012\" style=\"background-color: rgba(254, 243, 238, 0.5);\">defect</span> <span title=\"0.015\" style=\"background-color: rgba(254, 243, 237, 0.5);\">with</span> <span title=\"0.023\" style=\"background-color: rgba(254, 241, 235, 0.5);\">frayed</span> <span title=\"0.007\" style=\"background-color: rgba(254, 244, 239, 0.5);\">edges</span> <span title=\"0.009\" style=\"background-color: rgba(254, 243, 238, 0.5);\">.</span> <span title=\"0.027\" style=\"background-color: rgba(254, 241, 234, 0.5);\">xxmaj</span> <span title=\"0.035\" style=\"background-color: rgba(254, 239, 232, 0.5);\">soot</span> <span title=\"0.026\" style=\"background-color: rgba(254, 241, 234, 0.5);\">or</span> <span title=\"0.030\" style=\"background-color: rgba(254, 240, 233, 0.5);\">unburned</span> <span title=\"0.015\" style=\"background-color: rgba(254, 243, 237, 0.5);\">gunpowder</span> <span title=\"0.011\" style=\"background-color: rgba(254, 243, 238, 0.5);\">particles</span> <span title=\"0.007\" style=\"background-color: rgba(254, 244, 239, 0.5);\">are</span> <span title=\"0.005\" style=\"background-color: rgba(254, 244, 239, 0.5);\">not</span> <span title=\"0.004\" style=\"background-color: rgba(255, 245, 240, 0.5);\">visible</span> <span title=\"0.009\" style=\"background-color: rgba(254, 243, 238, 0.5);\">on</span> <span title=\"0.002\" style=\"background-color: rgba(255, 245, 240, 0.5);\">the</span> <span title=\"0.002\" style=\"background-color: rgba(255, 245, 240, 0.5);\">fabric</span> <span title=\"0.008\" style=\"background-color: rgba(254, 244, 239, 0.5);\">surrounding</span> <span title=\"0.039\" style=\"background-color: rgba(254, 238, 230, 0.5);\">the</span> <span title=\"0.005\" style=\"background-color: rgba(254, 244, 239, 0.5);\">defect</span> <span title=\"0.008\" style=\"background-color: rgba(254, 244, 239, 0.5);\">.</span> <span title=\"0.006\" style=\"background-color: rgba(254, 244, 239, 0.5);\">.locationextremity</span> <span title=\"0.013\" style=\"background-color: rgba(254, 243, 237, 0.5);\">.injuryfirearm</span> <span title=\"0.010\" style=\"background-color: rgba(254, 243, 238, 0.5);\">injury</span> <span title=\"0.023\" style=\"background-color: rgba(254, 241, 235, 0.5);\">.</span> <span title=\"0.017\" style=\"background-color: rgba(254, 242, 236, 0.5);\">xxup</span> <span title=\"0.030\" style=\"background-color: rgba(254, 240, 233, 0.5);\">.injurydesc</span> <span title=\"0.053\" style=\"background-color: rgba(254, 236, 227, 0.5);\">.</span> <span title=\"0.005\" style=\"background-color: rgba(254, 244, 239, 0.5);\">xxup</span> <span title=\"0.005\" style=\"background-color: rgba(254, 244, 239, 0.5);\">gunshot</span> <span title=\"0.019\" style=\"background-color: rgba(254, 242, 236, 0.5);\">xxup</span> <span title=\"0.046\" style=\"background-color: rgba(254, 237, 229, 0.5);\">wound</span> <span title=\"0.005\" style=\"background-color: rgba(254, 244, 239, 0.5);\">xxup</span> <span title=\"0.020\" style=\"background-color: rgba(254, 241, 235, 0.5);\">of</span> <span title=\"0.004\" style=\"background-color: rgba(254, 244, 239, 0.5);\">xxup</span> <span title=\"0.013\" style=\"background-color: rgba(254, 243, 237, 0.5);\">the</span> <span title=\"0.005\" style=\"background-color: rgba(254, 244, 239, 0.5);\">xxup</span> <span title=\"0.005\" style=\"background-color: rgba(254, 244, 239, 0.5);\">lateral</span> <span title=\"0.009\" style=\"background-color: rgba(254, 243, 238, 0.5);\">xxup</span> <span title=\"0.009\" style=\"background-color: rgba(254, 243, 238, 0.5);\">upper</span> <span title=\"0.007\" style=\"background-color: rgba(254, 244, 239, 0.5);\">xxup</span> <span title=\"0.005\" style=\"background-color: rgba(254, 244, 239, 0.5);\">right</span> <span title=\"0.005\" style=\"background-color: rgba(254, 244, 239, 0.5);\">xxup</span> <span title=\"0.011\" style=\"background-color: rgba(254, 243, 238, 0.5);\">arm</span> <span title=\"0.015\" style=\"background-color: rgba(254, 243, 237, 0.5);\">xxmaj</span> <span title=\"0.004\" style=\"background-color: rgba(254, 244, 239, 0.5);\">entrance</span> <span title=\"0.014\" style=\"background-color: rgba(254, 243, 237, 0.5);\">:</span> <span title=\"0.014\" style=\"background-color: rgba(254, 243, 237, 0.5);\">xxmaj</span> <span title=\"0.003\" style=\"background-color: rgba(255, 245, 240, 0.5);\">on</span> <span title=\"0.005\" style=\"background-color: rgba(254, 244, 239, 0.5);\">the</span> <span title=\"0.021\" style=\"background-color: rgba(254, 241, 235, 0.5);\">lateral</span> <span title=\"0.007\" style=\"background-color: rgba(254, 244, 239, 0.5);\">upper</span> <span title=\"0.008\" style=\"background-color: rgba(254, 243, 238, 0.5);\">right</span> <span title=\"0.006\" style=\"background-color: rgba(254, 244, 239, 0.5);\">arm</span> <span title=\"0.006\" style=\"background-color: rgba(254, 244, 239, 0.5);\">,</span> <span title=\"0.004\" style=\"background-color: rgba(255, 245, 240, 0.5);\">23.5</span> <span title=\"0.005\" style=\"background-color: rgba(254, 244, 239, 0.5);\">cm</span> <span title=\"0.007\" style=\"background-color: rgba(254, 244, 239, 0.5);\">below</span> <span title=\"0.004\" style=\"background-color: rgba(255, 245, 240, 0.5);\">the</span> <span title=\"0.004\" style=\"background-color: rgba(254, 244, 239, 0.5);\">xxunk</span> <span title=\"0.017\" style=\"background-color: rgba(254, 242, 236, 0.5);\">joint</span> <span title=\"0.004\" style=\"background-color: rgba(254, 244, 239, 0.5);\">and</span> <span title=\"0.003\" style=\"background-color: rgba(255, 245, 240, 0.5);\">5</span> <span title=\"0.005\" style=\"background-color: rgba(254, 244, 239, 0.5);\">cm</span> <span title=\"0.003\" style=\"background-color: rgba(255, 245, 240, 0.5);\">right</span> <span title=\"0.008\" style=\"background-color: rgba(254, 243, 238, 0.5);\">of</span> <span title=\"0.033\" style=\"background-color: rgba(254, 239, 232, 0.5);\">the</span> <span title=\"0.007\" style=\"background-color: rgba(254, 244, 239, 0.5);\">anterior</span> <span title=\"0.043\" style=\"background-color: rgba(254, 238, 230, 0.5);\">arm</span> <span title=\"0.021\" style=\"background-color: rgba(254, 241, 235, 0.5);\">midline</span> <span title=\"0.002\" style=\"background-color: rgba(255, 245, 240, 0.5);\">,</span> <span title=\"0.002\" style=\"background-color: rgba(255, 245, 240, 0.5);\">is</span> <span title=\"0.003\" style=\"background-color: rgba(255, 245, 240, 0.5);\">an</span> <span title=\"0.006\" style=\"background-color: rgba(254, 244, 239, 0.5);\">entrance</span> <span title=\"0.002\" style=\"background-color: rgba(255, 245, 240, 0.5);\">gunshot</span> <span title=\"0.004\" style=\"background-color: rgba(255, 245, 240, 0.5);\">wound</span> <span title=\"0.008\" style=\"background-color: rgba(254, 243, 238, 0.5);\">consisting</span> <span title=\"0.038\" style=\"background-color: rgba(254, 239, 231, 0.5);\">of</span> <span title=\"0.007\" style=\"background-color: rgba(254, 244, 239, 0.5);\">a</span> <span title=\"0.028\" style=\"background-color: rgba(254, 240, 233, 0.5);\">1.5</span> <span title=\"0.010\" style=\"background-color: rgba(254, 243, 238, 0.5);\">x</span> <span title=\"0.031\" style=\"background-color: rgba(254, 240, 233, 0.5);\">1</span> <span title=\"0.010\" style=\"background-color: rgba(254, 243, 238, 0.5);\">cm</span> <span title=\"0.030\" style=\"background-color: rgba(254, 240, 233, 0.5);\">oval</span> <span title=\"0.014\" style=\"background-color: rgba(254, 243, 237, 0.5);\">defect</span> <span title=\"0.055\" style=\"background-color: rgba(254, 235, 226, 0.5);\">with</span> <span title=\"0.015\" style=\"background-color: rgba(254, 243, 237, 0.5);\">a</span> <span title=\"0.060\" style=\"background-color: rgba(254, 235, 225, 0.5);\">0.1</span> <span title=\"0.012\" style=\"background-color: rgba(254, 243, 237, 0.5);\">cm</span> <span title=\"0.059\" style=\"background-color: rgba(254, 235, 226, 0.5);\">to</span> <span title=\"0.022\" style=\"background-color: rgba(254, 241, 235, 0.5);\">0.2</span> <span title=\"0.080\" style=\"background-color: rgba(254, 231, 221, 0.5);\">cm</span> <span title=\"0.005\" style=\"background-color: rgba(254, 244, 239, 0.5);\">wide</span> <span title=\"0.008\" style=\"background-color: rgba(254, 243, 238, 0.5);\">circumferential</span> <span title=\"0.037\" style=\"background-color: rgba(254, 239, 231, 0.5);\">pink</span> <span title=\"0.014\" style=\"background-color: rgba(254, 243, 237, 0.5);\">marginal</span> <span title=\"0.013\" style=\"background-color: rgba(254, 243, 237, 0.5);\">abrasion</span> <span title=\"0.008\" style=\"background-color: rgba(254, 243, 238, 0.5);\">which</span> <span title=\"0.018\" style=\"background-color: rgba(254, 242, 236, 0.5);\">is</span> <span title=\"0.017\" style=\"background-color: rgba(254, 242, 236, 0.5);\">widest</span> <span title=\"0.038\" style=\"background-color: rgba(254, 239, 231, 0.5);\">from</span> <span title=\"0.039\" style=\"background-color: rgba(254, 239, 231, 0.5);\">12</span> <span title=\"0.041\" style=\"background-color: rgba(254, 238, 230, 0.5);\">to</span> <span title=\"0.053\" style=\"background-color: rgba(254, 236, 227, 0.5);\">6</span> <span title=\"0.014\" style=\"background-color: rgba(254, 243, 237, 0.5);\">oâclock</span> <span title=\"0.053\" style=\"background-color: rgba(254, 236, 227, 0.5);\">.</span> <span title=\"0.015\" style=\"background-color: rgba(254, 243, 237, 0.5);\">xxmaj</span> <span title=\"0.024\" style=\"background-color: rgba(254, 241, 234, 0.5);\">soot</span> <span title=\"0.010\" style=\"background-color: rgba(254, 243, 238, 0.5);\">,</span> <span title=\"0.044\" style=\"background-color: rgba(254, 237, 229, 0.5);\">unburned</span> <span title=\"0.031\" style=\"background-color: rgba(254, 240, 233, 0.5);\">gunpowder</span> <span title=\"0.010\" style=\"background-color: rgba(254, 243, 238, 0.5);\">particles</span> <span title=\"0.019\" style=\"background-color: rgba(254, 242, 236, 0.5);\">and</span> <span title=\"0.010\" style=\"background-color: rgba(254, 243, 238, 0.5);\">gunpowder</span> <span title=\"0.023\" style=\"background-color: rgba(254, 241, 235, 0.5);\">stippling</span> <span title=\"0.016\" style=\"background-color: rgba(254, 242, 236, 0.5);\">are</span> <span title=\"0.012\" style=\"background-color: rgba(254, 243, 237, 0.5);\">not</span> <span title=\"0.030\" style=\"background-color: rgba(254, 240, 233, 0.5);\">visible</span> <span title=\"0.044\" style=\"background-color: rgba(254, 237, 229, 0.5);\">on</span> <span title=\"0.011\" style=\"background-color: rgba(254, 243, 238, 0.5);\">the</span> <span title=\"0.004\" style=\"background-color: rgba(254, 244, 239, 0.5);\">skin</span> <span title=\"0.008\" style=\"background-color: rgba(254, 243, 238, 0.5);\">surrounding</span> <span title=\"0.018\" style=\"background-color: rgba(254, 242, 236, 0.5);\">the</span> <span title=\"0.054\" style=\"background-color: rgba(254, 236, 227, 0.5);\">wound</span> <span title=\"0.013\" style=\"background-color: rgba(254, 243, 237, 0.5);\">.</span> <span title=\"0.013\" style=\"background-color: rgba(254, 243, 237, 0.5);\">xxmaj</span> <span title=\"0.021\" style=\"background-color: rgba(254, 241, 235, 0.5);\">path</span> <span title=\"0.008\" style=\"background-color: rgba(254, 243, 238, 0.5);\">:</span> <span title=\"0.011\" style=\"background-color: rgba(254, 243, 238, 0.5);\">xxmaj</span> <span title=\"0.016\" style=\"background-color: rgba(254, 242, 236, 0.5);\">the</span> <span title=\"0.008\" style=\"background-color: rgba(254, 243, 238, 0.5);\">hemorrhagic</span> <span title=\"0.008\" style=\"background-color: rgba(254, 243, 238, 0.5);\">wound</span> <span title=\"0.007\" style=\"background-color: rgba(254, 244, 239, 0.5);\">track</span> <span title=\"0.044\" style=\"background-color: rgba(254, 237, 229, 0.5);\">sequentially</span> <span title=\"0.044\" style=\"background-color: rgba(254, 237, 229, 0.5);\">perforates</span> <span title=\"0.008\" style=\"background-color: rgba(254, 243, 238, 0.5);\">the</span> <span title=\"0.012\" style=\"background-color: rgba(254, 243, 237, 0.5);\">skin</span> <span title=\"0.014\" style=\"background-color: rgba(254, 243, 237, 0.5);\">and</span> <span title=\"0.008\" style=\"background-color: rgba(254, 243, 238, 0.5);\">subcutaneous</span> <span title=\"0.013\" style=\"background-color: rgba(254, 243, 237, 0.5);\">tissue</span> <span title=\"0.016\" style=\"background-color: rgba(254, 243, 237, 0.5);\">of</span> <span title=\"0.008\" style=\"background-color: rgba(254, 243, 238, 0.5);\">the</span> <span title=\"0.024\" style=\"background-color: rgba(254, 241, 234, 0.5);\">upper</span> <span title=\"0.047\" style=\"background-color: rgba(254, 237, 228, 0.5);\">right</span> <span title=\"0.014\" style=\"background-color: rgba(254, 243, 237, 0.5);\">arm</span> <span title=\"0.020\" style=\"background-color: rgba(254, 241, 235, 0.5);\">.</span> <span title=\"0.013\" style=\"background-color: rgba(254, 243, 237, 0.5);\">xxmaj</span> <span title=\"0.016\" style=\"background-color: rgba(254, 242, 236, 0.5);\">exit</span> <span title=\"0.006\" style=\"background-color: rgba(254, 244, 239, 0.5);\">:</span> <span title=\"0.017\" style=\"background-color: rgba(254, 242, 236, 0.5);\">xxmaj</span> <span title=\"0.014\" style=\"background-color: rgba(254, 243, 237, 0.5);\">on</span> <span title=\"0.035\" style=\"background-color: rgba(254, 239, 232, 0.5);\">the</span> <span title=\"0.019\" style=\"background-color: rgba(254, 242, 236, 0.5);\">posteromedial</span> <span title=\"0.016\" style=\"background-color: rgba(254, 242, 236, 0.5);\">upper</span> <span title=\"0.006\" style=\"background-color: rgba(254, 244, 239, 0.5);\">right</span> <span title=\"0.003\" style=\"background-color: rgba(255, 245, 240, 0.5);\">arm</span> <span title=\"0.005\" style=\"background-color: rgba(254, 244, 239, 0.5);\">,</span> <span title=\"0.025\" style=\"background-color: rgba(254, 241, 234, 0.5);\">16</span> <span title=\"0.004\" style=\"background-color: rgba(255, 245, 240, 0.5);\">cm</span> <span title=\"0.013\" style=\"background-color: rgba(254, 243, 237, 0.5);\">below</span> <span title=\"0.012\" style=\"background-color: rgba(254, 243, 237, 0.5);\">the</span> <span title=\"0.011\" style=\"background-color: rgba(254, 243, 238, 0.5);\">axilla</span> <span title=\"0.007\" style=\"background-color: rgba(254, 244, 239, 0.5);\">and</span> <span title=\"0.013\" style=\"background-color: rgba(254, 243, 237, 0.5);\">4.5</span> <span title=\"0.018\" style=\"background-color: rgba(254, 242, 236, 0.5);\">cm</span> <span title=\"0.003\" style=\"background-color: rgba(255, 245, 240, 0.5);\">left</span> <span title=\"0.004\" style=\"background-color: rgba(254, 244, 239, 0.5);\">of</span> <span title=\"0.008\" style=\"background-color: rgba(254, 243, 238, 0.5);\">the</span> <span title=\"0.005\" style=\"background-color: rgba(254, 244, 239, 0.5);\">anterior</span> <span title=\"0.004\" style=\"background-color: rgba(254, 244, 239, 0.5);\">arm</span> <span title=\"0.011\" style=\"background-color: rgba(254, 243, 238, 0.5);\">midline</span> <span title=\"0.008\" style=\"background-color: rgba(254, 243, 238, 0.5);\">,</span> <span title=\"0.004\" style=\"background-color: rgba(255, 245, 240, 0.5);\">is</span> <span title=\"0.008\" style=\"background-color: rgba(254, 243, 238, 0.5);\">an</span> <span title=\"0.002\" style=\"background-color: rgba(255, 245, 240, 0.5);\">exit</span> <span title=\"0.002\" style=\"background-color: rgba(255, 245, 240, 0.5);\">gunshot</span> <span title=\"0.006\" style=\"background-color: rgba(254, 244, 239, 0.5);\">wound</span> <span title=\"0.029\" style=\"background-color: rgba(254, 240, 233, 0.5);\">consisting</span> <span title=\"0.005\" style=\"background-color: rgba(254, 244, 239, 0.5);\">of</span> <span title=\"0.008\" style=\"background-color: rgba(254, 244, 239, 0.5);\">a</span> <span title=\"0.008\" style=\"background-color: rgba(254, 243, 238, 0.5);\">9</span> <span title=\"0.010\" style=\"background-color: rgba(254, 243, 238, 0.5);\">x</span> <span title=\"0.024\" style=\"background-color: rgba(254, 241, 234, 0.5);\">3.5</span> <span title=\"0.016\" style=\"background-color: rgba(254, 242, 236, 0.5);\">cm</span> <span title=\"0.015\" style=\"background-color: rgba(254, 243, 237, 0.5);\">gaping</span> <span title=\"0.015\" style=\"background-color: rgba(254, 243, 237, 0.5);\">laceration</span> <span title=\"0.019\" style=\"background-color: rgba(254, 242, 236, 0.5);\">without</span> <span title=\"0.009\" style=\"background-color: rgba(254, 243, 238, 0.5);\">marginal</span> <span title=\"0.031\" style=\"background-color: rgba(254, 240, 233, 0.5);\">abrasion</span> <span title=\"0.008\" style=\"background-color: rgba(254, 243, 238, 0.5);\">.</span> <span title=\"0.025\" style=\"background-color: rgba(254, 241, 234, 0.5);\">xxmaj</span> <span title=\"0.013\" style=\"background-color: rgba(254, 243, 237, 0.5);\">re</span> <span title=\"0.010\" style=\"background-color: rgba(254, 243, 238, 0.5);\">-</span> <span title=\"0.010\" style=\"background-color: rgba(254, 243, 238, 0.5);\">entrance</span> <span title=\"0.025\" style=\"background-color: rgba(254, 241, 234, 0.5);\">:</span> <span title=\"0.033\" style=\"background-color: rgba(254, 239, 232, 0.5);\">xxmaj</span> <span title=\"0.037\" style=\"background-color: rgba(254, 239, 231, 0.5);\">on</span> <span title=\"0.005\" style=\"background-color: rgba(254, 244, 239, 0.5);\">the</span> <span title=\"0.004\" style=\"background-color: rgba(254, 244, 239, 0.5);\">lateral</span> <span title=\"0.015\" style=\"background-color: rgba(254, 243, 237, 0.5);\">lower</span> <span title=\"0.064\" style=\"background-color: rgba(254, 234, 224, 0.5);\">right</span> <span title=\"0.011\" style=\"background-color: rgba(254, 243, 238, 0.5);\">abdomen</span> <span title=\"0.018\" style=\"background-color: rgba(254, 242, 236, 0.5);\">,</span> <span title=\"0.013\" style=\"background-color: rgba(254, 243, 237, 0.5);\">centered</span> <span title=\"0.033\" style=\"background-color: rgba(254, 239, 232, 0.5);\">67.5</span> <span title=\"0.011\" style=\"background-color: rgba(254, 243, 238, 0.5);\">cm</span> <span title=\"0.038\" style=\"background-color: rgba(254, 239, 231, 0.5);\">below</span> <span title=\"0.026\" style=\"background-color: rgba(254, 241, 234, 0.5);\">the</span> <span title=\"0.037\" style=\"background-color: rgba(254, 239, 231, 0.5);\">top</span> <span title=\"0.045\" style=\"background-color: rgba(254, 237, 229, 0.5);\">of</span> <span title=\"0.007\" style=\"background-color: rgba(254, 244, 239, 0.5);\">the</span> <span title=\"0.024\" style=\"background-color: rgba(254, 241, 234, 0.5);\">head</span> <span title=\"0.010\" style=\"background-color: rgba(254, 243, 238, 0.5);\">and</span> <span title=\"0.014\" style=\"background-color: rgba(254, 243, 237, 0.5);\">14</span> <span title=\"0.007\" style=\"background-color: rgba(254, 244, 239, 0.5);\">cm</span> <span title=\"0.024\" style=\"background-color: rgba(254, 241, 234, 0.5);\">right</span> <span title=\"0.008\" style=\"background-color: rgba(254, 243, 238, 0.5);\">of</span> <span title=\"0.017\" style=\"background-color: rgba(254, 242, 236, 0.5);\">the</span> <span title=\"0.004\" style=\"background-color: rgba(254, 244, 239, 0.5);\">anterior</span> <span title=\"0.018\" style=\"background-color: rgba(254, 242, 236, 0.5);\">midline</span> <span title=\"0.010\" style=\"background-color: rgba(254, 243, 238, 0.5);\">,</span> <span title=\"0.007\" style=\"background-color: rgba(254, 244, 239, 0.5);\">is</span> <span title=\"0.017\" style=\"background-color: rgba(254, 242, 236, 0.5);\">a</span> <span title=\"0.023\" style=\"background-color: rgba(254, 241, 235, 0.5);\">3.5</span> <span title=\"0.013\" style=\"background-color: rgba(254, 243, 237, 0.5);\">x</span> <span title=\"0.007\" style=\"background-color: rgba(254, 244, 239, 0.5);\">1.7</span> <span title=\"0.008\" style=\"background-color: rgba(254, 243, 238, 0.5);\">cm</span> <span title=\"0.016\" style=\"background-color: rgba(254, 242, 236, 0.5);\">irregular</span> <span title=\"0.071\" style=\"background-color: rgba(254, 233, 223, 0.5);\">laceration</span> <span title=\"0.021\" style=\"background-color: rgba(254, 241, 235, 0.5);\">.</span> <span title=\"0.014\" style=\"background-color: rgba(254, 243, 237, 0.5);\">xxmaj</span> <span title=\"0.024\" style=\"background-color: rgba(254, 241, 234, 0.5);\">multiple</span> <span title=\"0.010\" style=\"background-color: rgba(254, 243, 238, 0.5);\">small</span> <span title=\"0.010\" style=\"background-color: rgba(254, 243, 238, 0.5);\">punctate</span> <span title=\"0.015\" style=\"background-color: rgba(254, 243, 237, 0.5);\">and</span> <span title=\"0.010\" style=\"background-color: rgba(254, 243, 238, 0.5);\">linear</span> <span title=\"0.012\" style=\"background-color: rgba(254, 243, 237, 0.5);\">red</span> <span title=\"0.012\" style=\"background-color: rgba(254, 243, 237, 0.5);\">/</span> <span title=\"0.051\" style=\"background-color: rgba(254, 237, 228, 0.5);\">orange</span> <span title=\"0.015\" style=\"background-color: rgba(254, 243, 237, 0.5);\">,</span> <span title=\"0.006\" style=\"background-color: rgba(254, 244, 239, 0.5);\">dry</span> <span title=\"0.019\" style=\"background-color: rgba(254, 242, 236, 0.5);\">abrasions</span> <span title=\"0.006\" style=\"background-color: rgba(254, 244, 239, 0.5);\">surround</span> <span title=\"0.002\" style=\"background-color: rgba(255, 245, 240, 0.5);\">the</span> <span title=\"0.003\" style=\"background-color: rgba(255, 245, 240, 0.5);\">xxunk</span> <span title=\"0.005\" style=\"background-color: rgba(254, 244, 239, 0.5);\">defect</span> <span title=\"0.035\" style=\"background-color: rgba(254, 239, 232, 0.5);\">,</span> <span title=\"0.014\" style=\"background-color: rgba(254, 243, 237, 0.5);\">and</span> <span title=\"0.048\" style=\"background-color: rgba(254, 237, 228, 0.5);\">a</span> <span title=\"0.010\" style=\"background-color: rgba(254, 243, 238, 0.5);\">0.8</span> <span title=\"0.007\" style=\"background-color: rgba(254, 244, 239, 0.5);\">x</span> <span title=\"0.006\" style=\"background-color: rgba(254, 244, 239, 0.5);\">0.3</span> <span title=\"0.016\" style=\"background-color: rgba(254, 242, 236, 0.5);\">cm</span> <span title=\"0.014\" style=\"background-color: rgba(254, 243, 237, 0.5);\">defect</span> <span title=\"0.032\" style=\"background-color: rgba(254, 239, 232, 0.5);\">within</span> <span title=\"0.046\" style=\"background-color: rgba(254, 237, 229, 0.5);\">a</span> <span title=\"0.060\" style=\"background-color: rgba(254, 235, 225, 0.5);\">1.5</span> <span title=\"0.082\" style=\"background-color: rgba(254, 231, 221, 0.5);\">x</span> <span title=\"0.009\" style=\"background-color: rgba(254, 243, 238, 0.5);\">1</span> <span title=\"0.037\" style=\"background-color: rgba(254, 239, 231, 0.5);\">cm</span> <span title=\"0.046\" style=\"background-color: rgba(254, 237, 229, 0.5);\">dark</span> <span title=\"0.009\" style=\"background-color: rgba(254, 243, 238, 0.5);\">red</span> <span title=\"0.015\" style=\"background-color: rgba(254, 243, 237, 0.5);\">abrasion</span> <span title=\"0.005\" style=\"background-color: rgba(254, 244, 239, 0.5);\">is</span> <span title=\"0.018\" style=\"background-color: rgba(254, 242, 236, 0.5);\">directly</span> <span title=\"0.006\" style=\"background-color: rgba(254, 244, 239, 0.5);\">superior</span> <span title=\"0.006\" style=\"background-color: rgba(254, 244, 239, 0.5);\">to</span> <span title=\"0.022\" style=\"background-color: rgba(254, 241, 235, 0.5);\">the</span> <span title=\"0.006\" style=\"background-color: rgba(254, 244, 239, 0.5);\">xxunk</span> <span title=\"0.012\" style=\"background-color: rgba(254, 243, 237, 0.5);\">defect</span> <span title=\"0.006\" style=\"background-color: rgba(254, 244, 239, 0.5);\">.</span> <span title=\"0.012\" style=\"background-color: rgba(254, 243, 237, 0.5);\">xxmaj</span> <span title=\"0.007\" style=\"background-color: rgba(254, 244, 239, 0.5);\">path</span> <span title=\"0.004\" style=\"background-color: rgba(254, 244, 239, 0.5);\">:</span> <span title=\"0.011\" style=\"background-color: rgba(254, 243, 238, 0.5);\">xxmaj</span> <span title=\"0.009\" style=\"background-color: rgba(254, 243, 238, 0.5);\">the</span> <span title=\"0.004\" style=\"background-color: rgba(255, 245, 240, 0.5);\">hemorrhagic</span> <span title=\"0.006\" style=\"background-color: rgba(254, 244, 239, 0.5);\">wound</span> <span title=\"0.007\" style=\"background-color: rgba(254, 244, 239, 0.5);\">track</span> <span title=\"0.017\" style=\"background-color: rgba(254, 242, 236, 0.5);\">penetrates</span> <span title=\"0.007\" style=\"background-color: rgba(254, 244, 239, 0.5);\">the</span> <span title=\"0.013\" style=\"background-color: rgba(254, 243, 237, 0.5);\">soft</span> <span title=\"0.004\" style=\"background-color: rgba(254, 244, 239, 0.5);\">tissue</span> <span title=\"0.026\" style=\"background-color: rgba(254, 241, 234, 0.5);\">of</span> <span title=\"0.033\" style=\"background-color: rgba(254, 239, 232, 0.5);\">the</span> <span title=\"0.005\" style=\"background-color: rgba(254, 244, 239, 0.5);\">abdominal</span> <span title=\"0.004\" style=\"background-color: rgba(255, 245, 240, 0.5);\">wall</span> <span title=\"0.016\" style=\"background-color: rgba(254, 243, 237, 0.5);\">only</span> <span title=\"0.033\" style=\"background-color: rgba(254, 239, 232, 0.5);\">.</span> <span title=\"0.029\" style=\"background-color: rgba(254, 240, 233, 0.5);\">xxmaj</span> <span title=\"0.006\" style=\"background-color: rgba(254, 244, 239, 0.5);\">recovery</span> <span title=\"0.014\" style=\"background-color: rgba(254, 243, 237, 0.5);\">:</span> <span title=\"0.012\" style=\"background-color: rgba(254, 243, 238, 0.5);\">xxmaj</span> <span title=\"0.011\" style=\"background-color: rgba(254, 243, 238, 0.5);\">recovered</span> <span title=\"0.023\" style=\"background-color: rgba(254, 241, 235, 0.5);\">in</span> <span title=\"0.018\" style=\"background-color: rgba(254, 242, 236, 0.5);\">the</span> <span title=\"0.016\" style=\"background-color: rgba(254, 242, 236, 0.5);\">soft</span> <span title=\"0.013\" style=\"background-color: rgba(254, 243, 237, 0.5);\">tissue</span> <span title=\"0.036\" style=\"background-color: rgba(254, 239, 231, 0.5);\">of</span> <span title=\"0.008\" style=\"background-color: rgba(254, 243, 238, 0.5);\">the</span> <span title=\"0.024\" style=\"background-color: rgba(254, 241, 234, 0.5);\">right</span> <span title=\"0.029\" style=\"background-color: rgba(254, 240, 233, 0.5);\">abdominal</span> <span title=\"0.009\" style=\"background-color: rgba(254, 243, 238, 0.5);\">wall</span> <span title=\"0.008\" style=\"background-color: rgba(254, 244, 239, 0.5);\">are</span> <span title=\"0.008\" style=\"background-color: rgba(254, 243, 238, 0.5);\">fragments</span> <span title=\"0.011\" style=\"background-color: rgba(254, 243, 238, 0.5);\">of</span> <span title=\"0.004\" style=\"background-color: rgba(254, 244, 239, 0.5);\">a</span> <span title=\"0.008\" style=\"background-color: rgba(254, 243, 238, 0.5);\">deformed</span> <span title=\"0.006\" style=\"background-color: rgba(254, 244, 239, 0.5);\">copper</span> <span title=\"0.030\" style=\"background-color: rgba(254, 240, 233, 0.5);\">jacket</span> <span title=\"0.017\" style=\"background-color: rgba(254, 242, 236, 0.5);\">and</span> <span title=\"0.006\" style=\"background-color: rgba(254, 244, 239, 0.5);\">lead</span> <span title=\"0.008\" style=\"background-color: rgba(254, 244, 239, 0.5);\">missile</span> <span title=\"0.004\" style=\"background-color: rgba(254, 244, 239, 0.5);\">weighing</span> <span title=\"0.006\" style=\"background-color: rgba(254, 244, 239, 0.5);\">11.4</span> <span title=\"0.004\" style=\"background-color: rgba(254, 244, 239, 0.5);\">grains</span> <span title=\"0.012\" style=\"background-color: rgba(254, 243, 237, 0.5);\">in</span> <span title=\"0.010\" style=\"background-color: rgba(254, 243, 238, 0.5);\">aggregate</span> <span title=\"0.015\" style=\"background-color: rgba(254, 243, 237, 0.5);\">.</span> <span title=\"0.009\" style=\"background-color: rgba(254, 243, 238, 0.5);\">xxmaj</span> <span title=\"0.041\" style=\"background-color: rgba(254, 238, 230, 0.5);\">trajectory</span> <span title=\"0.031\" style=\"background-color: rgba(254, 240, 233, 0.5);\">:</span> <span title=\"0.012\" style=\"background-color: rgba(254, 243, 237, 0.5);\">xxmaj</span> <span title=\"0.007\" style=\"background-color: rgba(254, 244, 239, 0.5);\">the</span> <span title=\"0.018\" style=\"background-color: rgba(254, 242, 236, 0.5);\">wound</span> <span title=\"0.013\" style=\"background-color: rgba(254, 243, 237, 0.5);\">track</span> <span title=\"0.002\" style=\"background-color: rgba(255, 245, 240, 0.5);\">travels</span> <span title=\"0.001\" style=\"background-color: rgba(255, 245, 240, 0.5);\">from</span> <span title=\"0.004\" style=\"background-color: rgba(255, 245, 240, 0.5);\">the</span> <span title=\"0.022\" style=\"background-color: rgba(254, 241, 235, 0.5);\">decedentâs</span> <span title=\"0.004\" style=\"background-color: rgba(254, 244, 239, 0.5);\">back</span> <span title=\"0.007\" style=\"background-color: rgba(254, 244, 239, 0.5);\">to</span> <span title=\"0.007\" style=\"background-color: rgba(254, 244, 239, 0.5);\">front</span> <span title=\"0.009\" style=\"background-color: rgba(254, 243, 238, 0.5);\">,</span> <span title=\"0.019\" style=\"background-color: rgba(254, 242, 236, 0.5);\">right</span> <span title=\"0.018\" style=\"background-color: rgba(254, 242, 236, 0.5);\">to</span> <span title=\"0.019\" style=\"background-color: rgba(254, 242, 236, 0.5);\">left</span> <span title=\"0.038\" style=\"background-color: rgba(254, 239, 231, 0.5);\">and</span> <span title=\"0.010\" style=\"background-color: rgba(254, 243, 238, 0.5);\">downward</span> <span title=\"0.026\" style=\"background-color: rgba(254, 241, 234, 0.5);\">.</span> <span title=\"0.019\" style=\"background-color: rgba(254, 242, 236, 0.5);\">xxmaj</span> <span title=\"0.009\" style=\"background-color: rgba(254, 243, 238, 0.5);\">clothing</span> <span title=\"0.010\" style=\"background-color: rgba(254, 243, 238, 0.5);\">:</span> <span title=\"0.042\" style=\"background-color: rgba(254, 238, 230, 0.5);\">xxmaj</span> <span title=\"0.018\" style=\"background-color: rgba(254, 242, 236, 0.5);\">on</span> <span title=\"0.013\" style=\"background-color: rgba(254, 243, 237, 0.5);\">the</span> <span title=\"0.005\" style=\"background-color: rgba(254, 244, 239, 0.5);\">right</span> <span title=\"0.003\" style=\"background-color: rgba(255, 245, 240, 0.5);\">sleeve</span> <span title=\"0.006\" style=\"background-color: rgba(254, 244, 239, 0.5);\">of</span> <span title=\"0.035\" style=\"background-color: rgba(254, 239, 232, 0.5);\">the</span> <span title=\"0.006\" style=\"background-color: rgba(254, 244, 239, 0.5);\">blue</span> <span title=\"0.005\" style=\"background-color: rgba(254, 244, 239, 0.5);\">t</span> <span title=\"0.013\" style=\"background-color: rgba(254, 243, 237, 0.5);\">-</span> <span title=\"0.052\" style=\"background-color: rgba(254, 236, 227, 0.5);\">shirt</span> <span title=\"0.015\" style=\"background-color: rgba(254, 243, 237, 0.5);\">and</span> <span title=\"0.009\" style=\"background-color: rgba(254, 243, 238, 0.5);\">corresponding</span> <span title=\"0.032\" style=\"background-color: rgba(254, 239, 232, 0.5);\">to</span> <span title=\"0.018\" style=\"background-color: rgba(254, 242, 236, 0.5);\">the</span> <span title=\"0.012\" style=\"background-color: rgba(254, 243, 237, 0.5);\">entrance</span> <span title=\"0.013\" style=\"background-color: rgba(254, 243, 237, 0.5);\">and</span> <span title=\"0.014\" style=\"background-color: rgba(254, 243, 237, 0.5);\">exit</span> <span title=\"0.044\" style=\"background-color: rgba(254, 237, 229, 0.5);\">gunshot</span> <span title=\"0.016\" style=\"background-color: rgba(254, 242, 236, 0.5);\">wounds</span> <span title=\"0.010\" style=\"background-color: rgba(254, 243, 238, 0.5);\">are</span> <span title=\"0.043\" style=\"background-color: rgba(254, 237, 229, 0.5);\">defects</span> <span title=\"0.009\" style=\"background-color: rgba(254, 243, 238, 0.5);\">with</span> <span title=\"0.007\" style=\"background-color: rgba(254, 244, 239, 0.5);\">frayed</span> <span title=\"0.029\" style=\"background-color: rgba(254, 240, 233, 0.5);\">edges</span> <span title=\"0.020\" style=\"background-color: rgba(254, 241, 235, 0.5);\">.</span> <span title=\"0.017\" style=\"background-color: rgba(254, 242, 236, 0.5);\">xxmaj</span> <span title=\"0.009\" style=\"background-color: rgba(254, 243, 238, 0.5);\">soot</span> <span title=\"0.026\" style=\"background-color: rgba(254, 241, 234, 0.5);\">or</span> <span title=\"0.025\" style=\"background-color: rgba(254, 241, 234, 0.5);\">unburned</span> <span title=\"0.049\" style=\"background-color: rgba(254, 237, 228, 0.5);\">gunpowder</span> <span title=\"0.015\" style=\"background-color: rgba(254, 243, 237, 0.5);\">particles</span> <span title=\"0.012\" style=\"background-color: rgba(254, 243, 237, 0.5);\">are</span> <span title=\"0.006\" style=\"background-color: rgba(254, 244, 239, 0.5);\">not</span> <span title=\"0.010\" style=\"background-color: rgba(254, 243, 238, 0.5);\">visible</span> <span title=\"0.002\" style=\"background-color: rgba(255, 245, 240, 0.5);\">on</span> <span title=\"0.002\" style=\"background-color: rgba(255, 245, 240, 0.5);\">the</span> <span title=\"0.004\" style=\"background-color: rgba(254, 244, 239, 0.5);\">fabric</span> <span title=\"0.027\" style=\"background-color: rgba(254, 241, 234, 0.5);\">surrounding</span> <span title=\"0.003\" style=\"background-color: rgba(255, 245, 240, 0.5);\">the</span> <span title=\"0.005\" style=\"background-color: rgba(254, 244, 239, 0.5);\">defects</span> <span title=\"0.006\" style=\"background-color: rgba(254, 244, 239, 0.5);\">.</span> <span title=\"0.010\" style=\"background-color: rgba(254, 243, 238, 0.5);\">.locationhead</span> <span title=\"0.011\" style=\"background-color: rgba(254, 243, 238, 0.5);\">.injuryblunt</span> <span title=\"0.012\" style=\"background-color: rgba(254, 243, 237, 0.5);\">injury</span> <span title=\"0.014\" style=\"background-color: rgba(254, 243, 237, 0.5);\">.</span> <span title=\"0.006\" style=\"background-color: rgba(254, 244, 239, 0.5);\">xxup</span> <span title=\"0.006\" style=\"background-color: rgba(254, 244, 239, 0.5);\">.injurydesc</span> <span title=\"0.024\" style=\"background-color: rgba(254, 241, 234, 0.5);\">.</span> <span title=\"0.018\" style=\"background-color: rgba(254, 242, 236, 0.5);\">xxmaj</span> <span title=\"0.008\" style=\"background-color: rgba(254, 244, 239, 0.5);\">on</span> <span title=\"0.008\" style=\"background-color: rgba(254, 244, 239, 0.5);\">the</span> <span title=\"0.004\" style=\"background-color: rgba(254, 244, 239, 0.5);\">anterior</span> <span title=\"0.019\" style=\"background-color: rgba(254, 242, 236, 0.5);\">and</span> <span title=\"0.015\" style=\"background-color: rgba(254, 243, 237, 0.5);\">superior</span> <span title=\"0.004\" style=\"background-color: rgba(254, 244, 239, 0.5);\">right</span> <span title=\"0.004\" style=\"background-color: rgba(255, 245, 240, 0.5);\">frontal</span> <span title=\"0.009\" style=\"background-color: rgba(254, 243, 238, 0.5);\">scalp</span> <span title=\"0.002\" style=\"background-color: rgba(255, 245, 240, 0.5);\">is</span> <span title=\"0.002\" style=\"background-color: rgba(255, 245, 240, 0.5);\">a</span> <span title=\"0.009\" style=\"background-color: rgba(254, 243, 238, 0.5);\">10</span> <span title=\"0.041\" style=\"background-color: rgba(254, 238, 230, 0.5);\">x</span> <span title=\"0.005\" style=\"background-color: rgba(254, 244, 239, 0.5);\">5</span> <span title=\"0.006\" style=\"background-color: rgba(254, 244, 239, 0.5);\">cm</span> <span title=\"0.005\" style=\"background-color: rgba(254, 244, 239, 0.5);\">area</span> <span title=\"0.012\" style=\"background-color: rgba(254, 243, 238, 0.5);\">of</span> <span title=\"0.006\" style=\"background-color: rgba(254, 244, 239, 0.5);\">red</span> <span title=\"0.017\" style=\"background-color: rgba(254, 242, 236, 0.5);\">,</span> <span title=\"0.030\" style=\"background-color: rgba(254, 240, 233, 0.5);\">dry</span> <span title=\"0.007\" style=\"background-color: rgba(254, 244, 239, 0.5);\">,</span> <span title=\"0.007\" style=\"background-color: rgba(254, 244, 239, 0.5);\">linear</span> <span title=\"0.029\" style=\"background-color: rgba(254, 240, 233, 0.5);\">abrasions</span> <span title=\"0.026\" style=\"background-color: rgba(254, 241, 234, 0.5);\">.</span> <span title=\"0.006\" style=\"background-color: rgba(254, 244, 239, 0.5);\">xxmaj</span> <span title=\"0.022\" style=\"background-color: rgba(254, 241, 235, 0.5);\">on</span> <span title=\"0.010\" style=\"background-color: rgba(254, 243, 238, 0.5);\">the</span> <span title=\"0.016\" style=\"background-color: rgba(254, 242, 236, 0.5);\">anterior</span> <span title=\"0.006\" style=\"background-color: rgba(254, 244, 239, 0.5);\">left</span> <span title=\"0.006\" style=\"background-color: rgba(254, 244, 239, 0.5);\">frontal</span> <span title=\"0.027\" style=\"background-color: rgba(254, 241, 234, 0.5);\">scalp</span> <span title=\"0.019\" style=\"background-color: rgba(254, 242, 236, 0.5);\">is</span> <span title=\"0.010\" style=\"background-color: rgba(254, 243, 238, 0.5);\">a</span> <span title=\"0.010\" style=\"background-color: rgba(254, 243, 238, 0.5);\">7</span> <span title=\"0.007\" style=\"background-color: rgba(254, 244, 239, 0.5);\">x</span> <span title=\"0.007\" style=\"background-color: rgba(254, 244, 239, 0.5);\">7</span> <span title=\"0.034\" style=\"background-color: rgba(254, 239, 232, 0.5);\">cm</span> <span title=\"0.005\" style=\"background-color: rgba(254, 244, 239, 0.5);\">area</span> <span title=\"0.015\" style=\"background-color: rgba(254, 243, 237, 0.5);\">of</span> <span title=\"0.012\" style=\"background-color: rgba(254, 243, 237, 0.5);\">red</span> <span title=\"0.003\" style=\"background-color: rgba(255, 245, 240, 0.5);\">,</span> <span title=\"0.005\" style=\"background-color: rgba(254, 244, 239, 0.5);\">dry</span> <span title=\"0.023\" style=\"background-color: rgba(254, 241, 235, 0.5);\">abrasions</span> <span title=\"0.007\" style=\"background-color: rgba(254, 244, 239, 0.5);\">.</span> <span title=\"0.010\" style=\"background-color: rgba(254, 243, 238, 0.5);\">xxmaj</span> <span title=\"0.009\" style=\"background-color: rgba(254, 243, 238, 0.5);\">on</span> <span title=\"0.008\" style=\"background-color: rgba(254, 243, 238, 0.5);\">the</span> <span title=\"0.004\" style=\"background-color: rgba(255, 245, 240, 0.5);\">skin</span> <span title=\"0.006\" style=\"background-color: rgba(254, 244, 239, 0.5);\">at</span> <span title=\"0.010\" style=\"background-color: rgba(254, 243, 238, 0.5);\">the</span> <span title=\"0.004\" style=\"background-color: rgba(255, 245, 240, 0.5);\">lateral</span> <span title=\"0.005\" style=\"background-color: rgba(254, 244, 239, 0.5);\">canthus</span> <span title=\"0.023\" style=\"background-color: rgba(254, 241, 235, 0.5);\">of</span> <span title=\"0.017\" style=\"background-color: rgba(254, 242, 236, 0.5);\">the</span> <span title=\"0.004\" style=\"background-color: rgba(255, 245, 240, 0.5);\">right</span> <span title=\"0.014\" style=\"background-color: rgba(254, 243, 237, 0.5);\">eye</span> <span title=\"0.008\" style=\"background-color: rgba(254, 243, 238, 0.5);\">are</span> <span title=\"0.035\" style=\"background-color: rgba(254, 239, 232, 0.5);\">0.8</span> <span title=\"0.093\" style=\"background-color: rgba(254, 229, 218, 0.5);\">cm</span> <span title=\"0.009\" style=\"background-color: rgba(254, 243, 238, 0.5);\">and</span> <span title=\"0.046\" style=\"background-color: rgba(254, 237, 229, 0.5);\">0.5</span> <span title=\"0.007\" style=\"background-color: rgba(254, 244, 239, 0.5);\">cm</span> <span title=\"0.002\" style=\"background-color: rgba(255, 245, 240, 0.5);\">red</span> <span title=\"0.003\" style=\"background-color: rgba(255, 245, 240, 0.5);\">,</span> <span title=\"0.005\" style=\"background-color: rgba(254, 244, 239, 0.5);\">dry</span> <span title=\"0.008\" style=\"background-color: rgba(254, 243, 238, 0.5);\">abrasions</span> <span title=\"0.004\" style=\"background-color: rgba(254, 244, 239, 0.5);\">.</span> <span title=\"0.009\" style=\"background-color: rgba(254, 243, 238, 0.5);\">xxmaj</span> <span title=\"0.019\" style=\"background-color: rgba(254, 242, 236, 0.5);\">on</span> <span title=\"0.032\" style=\"background-color: rgba(254, 239, 232, 0.5);\">the</span> <span title=\"0.020\" style=\"background-color: rgba(254, 241, 235, 0.5);\">skin</span> <span title=\"0.044\" style=\"background-color: rgba(254, 237, 229, 0.5);\">overlying</span> <span title=\"0.035\" style=\"background-color: rgba(254, 239, 232, 0.5);\">the</span> <span title=\"0.044\" style=\"background-color: rgba(254, 237, 229, 0.5);\">left</span> <span title=\"0.048\" style=\"background-color: rgba(254, 237, 228, 0.5);\">zygoma</span> <span title=\"0.084\" style=\"background-color: rgba(254, 231, 220, 0.5);\">is</span> <span title=\"0.046\" style=\"background-color: rgba(254, 237, 229, 0.5);\">a</span> <span title=\"0.017\" style=\"background-color: rgba(254, 242, 236, 0.5);\">4</span> <span title=\"0.019\" style=\"background-color: rgba(254, 242, 236, 0.5);\">x</span> <span title=\"0.062\" style=\"background-color: rgba(254, 235, 225, 0.5);\">1.5</span> <span title=\"0.013\" style=\"background-color: rgba(254, 243, 237, 0.5);\">cm</span> <span title=\"0.017\" style=\"background-color: rgba(254, 242, 236, 0.5);\">red</span> <span title=\"0.013\" style=\"background-color: rgba(254, 243, 237, 0.5);\">,</span> <span title=\"0.048\" style=\"background-color: rgba(254, 237, 228, 0.5);\">dry</span> <span title=\"0.016\" style=\"background-color: rgba(254, 242, 236, 0.5);\">abrasion</span> <span title=\"0.068\" style=\"background-color: rgba(254, 233, 224, 0.5);\">.</span> <span title=\"0.020\" style=\"background-color: rgba(254, 241, 235, 0.5);\">xxmaj</span> <span title=\"0.014\" style=\"background-color: rgba(254, 243, 237, 0.5);\">on</span> <span title=\"0.004\" style=\"background-color: rgba(255, 245, 240, 0.5);\">the</span> <span title=\"0.008\" style=\"background-color: rgba(254, 243, 238, 0.5);\">nose</span> <span title=\"0.008\" style=\"background-color: rgba(254, 244, 239, 0.5);\">is</span> <span title=\"0.005\" style=\"background-color: rgba(254, 244, 239, 0.5);\">a</span> <span title=\"0.003\" style=\"background-color: rgba(255, 245, 240, 0.5);\">1.5</span> <span title=\"0.008\" style=\"background-color: rgba(254, 243, 238, 0.5);\">cm</span> <span title=\"0.011\" style=\"background-color: rgba(254, 243, 238, 0.5);\">linear</span> <span title=\"0.006\" style=\"background-color: rgba(254, 244, 239, 0.5);\">,</span> <span title=\"0.012\" style=\"background-color: rgba(254, 243, 237, 0.5);\">red</span> <span title=\"0.011\" style=\"background-color: rgba(254, 243, 238, 0.5);\">abrasion</span> <span title=\"0.022\" style=\"background-color: rgba(254, 241, 235, 0.5);\">.</span> <span title=\"0.019\" style=\"background-color: rgba(254, 242, 236, 0.5);\">xxmaj</span> <span title=\"0.003\" style=\"background-color: rgba(255, 245, 240, 0.5);\">on</span> <span title=\"0.004\" style=\"background-color: rgba(255, 245, 240, 0.5);\">the</span> <span title=\"0.009\" style=\"background-color: rgba(254, 243, 238, 0.5);\">right</span> <span title=\"0.003\" style=\"background-color: rgba(255, 245, 240, 0.5);\">side</span> <span title=\"0.004\" style=\"background-color: rgba(254, 244, 239, 0.5);\">of</span> <span title=\"0.003\" style=\"background-color: rgba(255, 245, 240, 0.5);\">the</span> <span title=\"0.011\" style=\"background-color: rgba(254, 243, 238, 0.5);\">upper</span> <span title=\"0.004\" style=\"background-color: rgba(255, 245, 240, 0.5);\">lip</span> <span title=\"0.008\" style=\"background-color: rgba(254, 243, 238, 0.5);\">and</span> <span title=\"0.004\" style=\"background-color: rgba(255, 245, 240, 0.5);\">on</span> <span title=\"0.011\" style=\"background-color: rgba(254, 243, 238, 0.5);\">the</span> <span title=\"0.005\" style=\"background-color: rgba(254, 244, 239, 0.5);\">right</span> <span title=\"0.005\" style=\"background-color: rgba(254, 244, 239, 0.5);\">cheek</span> <span title=\"0.003\" style=\"background-color: rgba(255, 245, 240, 0.5);\">are</span> <span title=\"0.007\" style=\"background-color: rgba(254, 244, 239, 0.5);\">1</span> <span title=\"0.006\" style=\"background-color: rgba(254, 244, 239, 0.5);\">x</span> <span title=\"0.005\" style=\"background-color: rgba(254, 244, 239, 0.5);\">1</span> <span title=\"0.017\" style=\"background-color: rgba(254, 242, 236, 0.5);\">cm</span> <span title=\"0.009\" style=\"background-color: rgba(254, 243, 238, 0.5);\">and</span> <span title=\"0.006\" style=\"background-color: rgba(254, 244, 239, 0.5);\">2</span> <span title=\"0.013\" style=\"background-color: rgba(254, 243, 237, 0.5);\">x</span> <span title=\"0.022\" style=\"background-color: rgba(254, 241, 235, 0.5);\">1.5</span> <span title=\"0.006\" style=\"background-color: rgba(254, 244, 239, 0.5);\">cm</span> <span title=\"0.005\" style=\"background-color: rgba(254, 244, 239, 0.5);\">areas</span> <span title=\"0.011\" style=\"background-color: rgba(254, 243, 238, 0.5);\">of</span> <span title=\"0.022\" style=\"background-color: rgba(254, 241, 235, 0.5);\">red</span> <span title=\"0.007\" style=\"background-color: rgba(254, 244, 239, 0.5);\">,</span> <span title=\"0.017\" style=\"background-color: rgba(254, 242, 236, 0.5);\">dry</span> <span title=\"0.005\" style=\"background-color: rgba(254, 244, 239, 0.5);\">abrasions</span> <span title=\"0.006\" style=\"background-color: rgba(254, 244, 239, 0.5);\">.</span> <span title=\"0.005\" style=\"background-color: rgba(254, 244, 239, 0.5);\">.locationextremities</span> <span title=\"0.002\" style=\"background-color: rgba(255, 245, 240, 0.5);\">.injuryblunt</span> <span title=\"0.006\" style=\"background-color: rgba(254, 244, 239, 0.5);\">injury</span> <span title=\"0.004\" style=\"background-color: rgba(255, 245, 240, 0.5);\">.</span> <span title=\"0.008\" style=\"background-color: rgba(254, 244, 239, 0.5);\">xxup</span> <span title=\"0.003\" style=\"background-color: rgba(255, 245, 240, 0.5);\">.injurydesc</span> <span title=\"0.003\" style=\"background-color: rgba(255, 245, 240, 0.5);\">.</span> <span title=\"0.003\" style=\"background-color: rgba(255, 245, 240, 0.5);\">xxmaj</span> <span title=\"0.006\" style=\"background-color: rgba(254, 244, 239, 0.5);\">on</span> <span title=\"0.006\" style=\"background-color: rgba(254, 244, 239, 0.5);\">the</span> <span title=\"0.004\" style=\"background-color: rgba(255, 245, 240, 0.5);\">posterior</span> <span title=\"0.014\" style=\"background-color: rgba(254, 243, 237, 0.5);\">proximal</span> <span title=\"0.014\" style=\"background-color: rgba(254, 243, 237, 0.5);\">right</span> <span title=\"0.004\" style=\"background-color: rgba(254, 244, 239, 0.5);\">forearm</span> <span title=\"0.007\" style=\"background-color: rgba(254, 244, 239, 0.5);\">is</span> <span title=\"0.020\" style=\"background-color: rgba(254, 241, 235, 0.5);\">an</span> <span title=\"0.003\" style=\"background-color: rgba(255, 245, 240, 0.5);\">11</span> <span title=\"0.006\" style=\"background-color: rgba(254, 244, 239, 0.5);\">x</span> <span title=\"0.006\" style=\"background-color: rgba(254, 244, 239, 0.5);\">5</span> <span title=\"0.005\" style=\"background-color: rgba(254, 244, 239, 0.5);\">cm</span> <span title=\"0.004\" style=\"background-color: rgba(254, 244, 239, 0.5);\">area</span> <span title=\"0.002\" style=\"background-color: rgba(255, 245, 240, 0.5);\">of</span> <span title=\"0.008\" style=\"background-color: rgba(254, 244, 239, 0.5);\">red</span> <span title=\"0.004\" style=\"background-color: rgba(254, 244, 239, 0.5);\">/</span> <span title=\"0.007\" style=\"background-color: rgba(254, 244, 239, 0.5);\">orange</span> <span title=\"0.004\" style=\"background-color: rgba(254, 244, 239, 0.5);\">,</span> <span title=\"0.002\" style=\"background-color: rgba(255, 245, 240, 0.5);\">dry</span> <span title=\"0.003\" style=\"background-color: rgba(255, 245, 240, 0.5);\">abrasions</span> <span title=\"0.006\" style=\"background-color: rgba(254, 244, 239, 0.5);\">.</span> <span title=\"0.006\" style=\"background-color: rgba(254, 244, 239, 0.5);\">xxmaj</span> <span title=\"0.004\" style=\"background-color: rgba(254, 244, 239, 0.5);\">on</span> <span title=\"0.027\" style=\"background-color: rgba(254, 240, 233, 0.5);\">the</span> <span title=\"0.004\" style=\"background-color: rgba(255, 245, 240, 0.5);\">distal</span> <span title=\"0.004\" style=\"background-color: rgba(254, 244, 239, 0.5);\">right</span> <span title=\"0.009\" style=\"background-color: rgba(254, 243, 238, 0.5);\">thigh</span> <span title=\"0.005\" style=\"background-color: rgba(254, 244, 239, 0.5);\">is</span> <span title=\"0.020\" style=\"background-color: rgba(254, 241, 235, 0.5);\">an</span> <span title=\"0.005\" style=\"background-color: rgba(254, 244, 239, 0.5);\">8</span> <span title=\"0.004\" style=\"background-color: rgba(254, 244, 239, 0.5);\">x</span> <span title=\"0.005\" style=\"background-color: rgba(254, 244, 239, 0.5);\">6</span> <span title=\"0.004\" style=\"background-color: rgba(255, 245, 240, 0.5);\">cm</span> <span title=\"0.004\" style=\"background-color: rgba(255, 245, 240, 0.5);\">area</span> <span title=\"0.008\" style=\"background-color: rgba(254, 243, 238, 0.5);\">of</span> <span title=\"0.016\" style=\"background-color: rgba(254, 242, 236, 0.5);\">orange</span> <span title=\"0.007\" style=\"background-color: rgba(254, 244, 239, 0.5);\">,</span> <span title=\"0.015\" style=\"background-color: rgba(254, 243, 237, 0.5);\">dry</span> <span title=\"0.024\" style=\"background-color: rgba(254, 241, 234, 0.5);\">abrasions</span> <span title=\"0.012\" style=\"background-color: rgba(254, 243, 237, 0.5);\">.</span> <span title=\"0.018\" style=\"background-color: rgba(254, 242, 236, 0.5);\">xxmaj</span> <span title=\"0.023\" style=\"background-color: rgba(254, 241, 235, 0.5);\">on</span> <span title=\"0.044\" style=\"background-color: rgba(254, 237, 229, 0.5);\">the</span> <span title=\"0.025\" style=\"background-color: rgba(254, 241, 234, 0.5);\">distal</span> <span title=\"0.017\" style=\"background-color: rgba(254, 242, 236, 0.5);\">lateral</span> <span title=\"0.014\" style=\"background-color: rgba(254, 243, 237, 0.5);\">right</span> <span title=\"0.027\" style=\"background-color: rgba(254, 241, 234, 0.5);\">knee</span> <span title=\"0.011\" style=\"background-color: rgba(254, 243, 238, 0.5);\">is</span> <span title=\"0.010\" style=\"background-color: rgba(254, 243, 238, 0.5);\">a</span> <span title=\"0.012\" style=\"background-color: rgba(254, 243, 237, 0.5);\">2</span> <span title=\"0.004\" style=\"background-color: rgba(254, 244, 239, 0.5);\">x</span> <span title=\"0.005\" style=\"background-color: rgba(254, 244, 239, 0.5);\">1.5</span> <span title=\"0.002\" style=\"background-color: rgba(255, 245, 240, 0.5);\">cm</span> <span title=\"0.005\" style=\"background-color: rgba(254, 244, 239, 0.5);\">orange</span> <span title=\"0.005\" style=\"background-color: rgba(254, 244, 239, 0.5);\">,</span> <span title=\"0.003\" style=\"background-color: rgba(255, 245, 240, 0.5);\">dry</span> <span title=\"0.003\" style=\"background-color: rgba(255, 245, 240, 0.5);\">abrasion</span> <span title=\"0.002\" style=\"background-color: rgba(255, 245, 240, 0.5);\">.</span> <span title=\"0.009\" style=\"background-color: rgba(254, 243, 238, 0.5);\">xxmaj</span> <span title=\"0.006\" style=\"background-color: rgba(254, 244, 239, 0.5);\">on</span> <span title=\"0.012\" style=\"background-color: rgba(254, 243, 238, 0.5);\">the</span> <span title=\"0.006\" style=\"background-color: rgba(254, 244, 239, 0.5);\">anterior</span> <span title=\"0.008\" style=\"background-color: rgba(254, 243, 238, 0.5);\">lower</span> <span title=\"0.005\" style=\"background-color: rgba(254, 244, 239, 0.5);\">right</span> <span title=\"0.004\" style=\"background-color: rgba(254, 244, 239, 0.5);\">leg</span> <span title=\"0.018\" style=\"background-color: rgba(254, 242, 236, 0.5);\">are</span> <span title=\"0.040\" style=\"background-color: rgba(254, 238, 230, 0.5);\">multiple</span> <span title=\"0.006\" style=\"background-color: rgba(254, 244, 239, 0.5);\">,</span> <span title=\"0.032\" style=\"background-color: rgba(254, 239, 232, 0.5);\">scattered</span> <span title=\"0.005\" style=\"background-color: rgba(254, 244, 239, 0.5);\">,</span> <span title=\"0.001\" style=\"background-color: rgba(255, 245, 240, 0.5);\">small</span> <span title=\"0.001\" style=\"background-color: rgba(255, 245, 240, 0.5);\">,</span> <span title=\"0.002\" style=\"background-color: rgba(255, 245, 240, 0.5);\">orange</span> <span title=\"0.003\" style=\"background-color: rgba(255, 245, 240, 0.5);\">abrasions</span> <span title=\"0.002\" style=\"background-color: rgba(255, 245, 240, 0.5);\">.</span> <span title=\"0.004\" style=\"background-color: rgba(255, 245, 240, 0.5);\">xxmaj</span> <span title=\"0.010\" style=\"background-color: rgba(254, 243, 238, 0.5);\">on</span> <span title=\"0.011\" style=\"background-color: rgba(254, 243, 238, 0.5);\">the</span> <span title=\"0.008\" style=\"background-color: rgba(254, 243, 238, 0.5);\">medial</span> <span title=\"0.016\" style=\"background-color: rgba(254, 242, 236, 0.5);\">left</span> <span title=\"0.021\" style=\"background-color: rgba(254, 241, 235, 0.5);\">knee</span> <span title=\"0.013\" style=\"background-color: rgba(254, 243, 237, 0.5);\">is</span> <span title=\"0.035\" style=\"background-color: rgba(254, 239, 232, 0.5);\">a</span> <span title=\"0.007\" style=\"background-color: rgba(254, 244, 239, 0.5);\">4</span> <span title=\"0.010\" style=\"background-color: rgba(254, 243, 238, 0.5);\">x</span> <span title=\"0.016\" style=\"background-color: rgba(254, 242, 236, 0.5);\">3.5</span> <span title=\"0.006\" style=\"background-color: rgba(254, 244, 239, 0.5);\">cm</span> <span title=\"0.006\" style=\"background-color: rgba(254, 244, 239, 0.5);\">orange</span> <span title=\"0.003\" style=\"background-color: rgba(255, 245, 240, 0.5);\">,</span> <span title=\"0.010\" style=\"background-color: rgba(254, 243, 238, 0.5);\">dry</span> <span title=\"0.004\" style=\"background-color: rgba(254, 244, 239, 0.5);\">abrasion</span> <span title=\"0.014\" style=\"background-color: rgba(254, 243, 237, 0.5);\">.</span> <span title=\"0.013\" style=\"background-color: rgba(254, 243, 237, 0.5);\">xxmaj</span> <span title=\"0.012\" style=\"background-color: rgba(254, 243, 237, 0.5);\">on</span> <span title=\"0.007\" style=\"background-color: rgba(254, 244, 239, 0.5);\">the</span> <span title=\"0.013\" style=\"background-color: rgba(254, 243, 237, 0.5);\">lateral</span> <span title=\"0.005\" style=\"background-color: rgba(254, 244, 239, 0.5);\">left</span> <span title=\"0.006\" style=\"background-color: rgba(254, 244, 239, 0.5);\">knee</span> <span title=\"0.004\" style=\"background-color: rgba(254, 244, 239, 0.5);\">are</span> <span title=\"0.008\" style=\"background-color: rgba(254, 243, 238, 0.5);\">three</span> <span title=\"0.011\" style=\"background-color: rgba(254, 243, 238, 0.5);\">distinct</span> <span title=\"0.010\" style=\"background-color: rgba(254, 243, 238, 0.5);\">0.5</span> <span title=\"0.027\" style=\"background-color: rgba(254, 240, 233, 0.5);\">cm</span> <span title=\"0.010\" style=\"background-color: rgba(254, 243, 238, 0.5);\">orange</span> <span title=\"0.028\" style=\"background-color: rgba(254, 240, 233, 0.5);\">abrasions</span> <span title=\"0.007\" style=\"background-color: rgba(254, 244, 239, 0.5);\">.</span> <span title=\"0.010\" style=\"background-color: rgba(254, 243, 238, 0.5);\">xxmaj</span> <span title=\"0.012\" style=\"background-color: rgba(254, 243, 237, 0.5);\">on</span> <span title=\"0.004\" style=\"background-color: rgba(254, 244, 239, 0.5);\">the</span> <span title=\"0.006\" style=\"background-color: rgba(254, 244, 239, 0.5);\">lower</span> <span title=\"0.003\" style=\"background-color: rgba(255, 245, 240, 0.5);\">left</span> <span title=\"0.010\" style=\"background-color: rgba(254, 243, 238, 0.5);\">leg</span> <span title=\"0.005\" style=\"background-color: rgba(254, 244, 239, 0.5);\">is</span> <span title=\"0.022\" style=\"background-color: rgba(254, 241, 235, 0.5);\">an</span> <span title=\"0.007\" style=\"background-color: rgba(254, 244, 239, 0.5);\">11</span> <span title=\"0.015\" style=\"background-color: rgba(254, 243, 237, 0.5);\">x</span> <span title=\"0.005\" style=\"background-color: rgba(254, 244, 239, 0.5);\">0.2</span> <span title=\"0.005\" style=\"background-color: rgba(254, 244, 239, 0.5);\">cm</span> <span title=\"0.003\" style=\"background-color: rgba(255, 245, 240, 0.5);\">linear</span> <span title=\"0.008\" style=\"background-color: rgba(254, 243, 238, 0.5);\">red</span> <span title=\"0.009\" style=\"background-color: rgba(254, 243, 238, 0.5);\">abrasion</span> <span title=\"0.006\" style=\"background-color: rgba(254, 244, 239, 0.5);\">,</span> <span title=\"0.015\" style=\"background-color: rgba(254, 243, 237, 0.5);\">and</span> <span title=\"0.014\" style=\"background-color: rgba(254, 243, 237, 0.5);\">parallel</span> <span title=\"0.009\" style=\"background-color: rgba(254, 243, 238, 0.5);\">,</span> <span title=\"0.024\" style=\"background-color: rgba(254, 241, 234, 0.5);\">2.5</span> <span title=\"0.007\" style=\"background-color: rgba(254, 244, 239, 0.5);\">x</span> <span title=\"0.006\" style=\"background-color: rgba(254, 244, 239, 0.5);\">0.5</span> <span title=\"0.024\" style=\"background-color: rgba(254, 241, 234, 0.5);\">cm</span> <span title=\"0.018\" style=\"background-color: rgba(254, 242, 236, 0.5);\">and</span> <span title=\"0.006\" style=\"background-color: rgba(254, 244, 239, 0.5);\">2</span> <span title=\"0.003\" style=\"background-color: rgba(255, 245, 240, 0.5);\">x</span> <span title=\"0.019\" style=\"background-color: rgba(254, 242, 236, 0.5);\">0.5</span> <span title=\"0.007\" style=\"background-color: rgba(254, 244, 239, 0.5);\">cm</span> <span title=\"0.015\" style=\"background-color: rgba(254, 243, 237, 0.5);\">red</span> <span title=\"0.008\" style=\"background-color: rgba(254, 243, 238, 0.5);\">,</span> <span title=\"0.004\" style=\"background-color: rgba(255, 245, 240, 0.5);\">dry</span> <span title=\"0.002\" style=\"background-color: rgba(255, 245, 240, 0.5);\">abrasions</span> <span title=\"0.009\" style=\"background-color: rgba(254, 243, 238, 0.5);\">.</span> <span title=\"0.012\" style=\"background-color: rgba(254, 243, 237, 0.5);\">xxmaj</span> <span title=\"0.006\" style=\"background-color: rgba(254, 244, 239, 0.5);\">on</span> <span title=\"0.011\" style=\"background-color: rgba(254, 243, 238, 0.5);\">the</span> <span title=\"0.014\" style=\"background-color: rgba(254, 243, 237, 0.5);\">posterior</span> <span title=\"0.017\" style=\"background-color: rgba(254, 242, 236, 0.5);\">medial</span> <span title=\"0.029\" style=\"background-color: rgba(254, 240, 233, 0.5);\">mid</span> <span title=\"0.013\" style=\"background-color: rgba(254, 243, 237, 0.5);\">and</span> <span title=\"0.021\" style=\"background-color: rgba(254, 241, 235, 0.5);\">distal</span> <span title=\"0.007\" style=\"background-color: rgba(254, 244, 239, 0.5);\">left</span> <span title=\"0.010\" style=\"background-color: rgba(254, 243, 238, 0.5);\">thigh</span> <span title=\"0.004\" style=\"background-color: rgba(254, 244, 239, 0.5);\">are</span> <span title=\"0.013\" style=\"background-color: rgba(254, 243, 237, 0.5);\">0.3</span> <span title=\"0.006\" style=\"background-color: rgba(254, 244, 239, 0.5);\">x</span> <span title=\"0.021\" style=\"background-color: rgba(254, 241, 235, 0.5);\">0.2</span> <span title=\"0.006\" style=\"background-color: rgba(254, 244, 239, 0.5);\">cm</span> <span title=\"0.005\" style=\"background-color: rgba(254, 244, 239, 0.5);\">,</span> <span title=\"0.004\" style=\"background-color: rgba(255, 245, 240, 0.5);\">0.3</span> <span title=\"0.011\" style=\"background-color: rgba(254, 243, 238, 0.5);\">x</span> <span title=\"0.012\" style=\"background-color: rgba(254, 243, 237, 0.5);\">0.2</span> <span title=\"0.007\" style=\"background-color: rgba(254, 244, 239, 0.5);\">cm</span> <span title=\"0.020\" style=\"background-color: rgba(254, 241, 235, 0.5);\">and</span> <span title=\"0.012\" style=\"background-color: rgba(254, 243, 237, 0.5);\">0.4</span> <span title=\"0.028\" style=\"background-color: rgba(254, 240, 233, 0.5);\">x</span> <span title=\"0.010\" style=\"background-color: rgba(254, 243, 238, 0.5);\">0.2</span> <span title=\"0.009\" style=\"background-color: rgba(254, 243, 238, 0.5);\">cm</span> <span title=\"0.009\" style=\"background-color: rgba(254, 243, 238, 0.5);\">red</span> <span title=\"0.007\" style=\"background-color: rgba(254, 244, 239, 0.5);\">abrasions</span> <span title=\"0.007\" style=\"background-color: rgba(254, 244, 239, 0.5);\">.</span> <span title=\"0.005\" style=\"background-color: rgba(254, 244, 239, 0.5);\">xxmaj</span> <span title=\"0.030\" style=\"background-color: rgba(254, 240, 233, 0.5);\">on</span> <span title=\"0.011\" style=\"background-color: rgba(254, 243, 238, 0.5);\">the</span> <span title=\"0.023\" style=\"background-color: rgba(254, 241, 235, 0.5);\">mid</span> <span title=\"0.014\" style=\"background-color: rgba(254, 243, 237, 0.5);\">right</span> <span title=\"0.005\" style=\"background-color: rgba(254, 244, 239, 0.5);\">calf</span> <span title=\"0.003\" style=\"background-color: rgba(255, 245, 240, 0.5);\">is</span> <span title=\"0.012\" style=\"background-color: rgba(254, 243, 238, 0.5);\">a</span> <span title=\"0.016\" style=\"background-color: rgba(254, 242, 236, 0.5);\">0.5</span> <span title=\"0.010\" style=\"background-color: rgba(254, 243, 238, 0.5);\">x</span> <span title=\"0.024\" style=\"background-color: rgba(254, 241, 234, 0.5);\">0.3</span> <span title=\"0.016\" style=\"background-color: rgba(254, 242, 236, 0.5);\">cm</span> <span title=\"0.037\" style=\"background-color: rgba(254, 239, 231, 0.5);\">red</span> <span title=\"0.015\" style=\"background-color: rgba(254, 243, 237, 0.5);\">abrasion</span> <span title=\"0.026\" style=\"background-color: rgba(254, 241, 234, 0.5);\">.</span></span>"
      ],
      "text/plain": [
       "<IPython.core.display.HTML object>"
      ]
     },
     "metadata": {},
     "output_type": "display_data"
    }
   ],
   "source": [
    "interpret_result(10186)"
   ]
  },
  {
   "cell_type": "code",
   "execution_count": 43,
   "metadata": {},
   "outputs": [
    {
     "name": "stdout",
     "output_type": "stream",
     "text": [
      "True Label: Homicide\n",
      "\n",
      "Pred Label: Homicide\n",
      "\n",
      "Class Probabilities: tensor([0.0111, 0.9825, 0.0023, 0.0040])\n",
      "\n",
      "***Raw Text***\n",
      "\n",
      ".MICRO.\n",
      "BRAIN (left cerebellum) - No significant histopathology identified\n",
      "\n",
      "HEART - No significant histopathology identified\n",
      "\n",
      "LUNGS - Diffuse vascular and septal congestion with extensive parenchymal collapse\n",
      "\n",
      "LIVER - No significant histopathology identified\n",
      "\n",
      "KIDNEY - No significant histopathology identified\n",
      ".LOCATIONAbdomen\n",
      ".INJURYFirearm injury.\n",
      ".INJURYDESC.\n",
      "GUNSHOT WOUND OF THE ABDOMEN\n",
      "\n",
      "Entrance:\n",
      "\n",
      "On the upper, left abdomen, 58.0 cm below the top of the head and 7.5 cm left of the anterior midline, is an entrance gunshot wound consisting of a 1.0 x 0.9 cm, round defect with a 0.2 - 0.5 cm wide, circumferential, red marginal abrasion (widest at 7 - 11 and 3 - 5 o' clock) which is then surrounded by a 0.3 - 0.7 cm wide, partially circumferential, pink abrasion. Soot, unburned gunpowder particles and gunpowder stippling are not visible on the skin surrounding the wound.\n",
      "\n",
      "Path:\n",
      "\n",
      "The hemorrhagic wound track sequentially perforates the skin and subcutaneous tissue of the left upper abdomen, the underlying soft tissues and muscles of the abdominal wall, a loop of small bowel, the small bowel mesentery and the infra-renal aorta. The wound grazes the right lateral L4/L5 vertebrae and then sequentially perforates the superior right ilium of the right pelvis, the soft tissues and muscles of the right lower back and the overlying subcutaneous tissue and skin of the right lower back.  \n",
      "\n",
      "Associated Injuries: \n",
      "\n",
      "Associated injuries include 3000 mL of blood within the abdominal and pelvic cavities; small radiating fractures around the defect of the right ilium and small fractures of the L4/L5 vertebral body.  \n",
      "\n",
      "Exit:\n",
      "\n",
      "On the right lower back, 67.0 cm below the top of the head, and 9.5 cm right of the posterior midline, is an exit gunshot wound consisting of a 1.0 x 0.5 cm laceration without marginal abrasion.  \n",
      "\n",
      "Trajectory:\n",
      "\n",
      "The wound track travels from the decedentâs anterior to posterior, left to right and superior to inferior.\n",
      "\n",
      ".LOCATIONExtremities\n",
      ".INJURYBlunt injury.\n",
      ".INJURYDESC.\n",
      "An 8.0 x 3.0 cm, purple contusion is on the medial, distal, left, lower leg.\n",
      "\n",
      "A 6.5 x 5.0 cm, purple contusion is on the medial, right calf.\n",
      "\n",
      ".LOCATIONHead\n",
      ".INJURYBlunt injury.\n",
      ".INJURYDESC.\n",
      "A 2.0 x 0.6 cm, red abrasion is on the posterior, inferior, left scalp. There is a 3.5 x 3.5 cm area of palpable swelling surrounding the abrasion. Reflection of the scalp demonstrates no underlying injury.\n",
      "\n",
      "***Intrinsic Attention***\n"
     ]
    },
    {
     "data": {
      "text/html": [
       "<span style=\"font-family: monospace;\"><span title=\"0.027\" style=\"background-color: rgba(254, 241, 234, 0.5);\">xxbos</span> <span title=\"0.012\" style=\"background-color: rgba(254, 243, 237, 0.5);\">xxup</span> <span title=\"0.016\" style=\"background-color: rgba(254, 242, 236, 0.5);\">.micro</span> <span title=\"0.059\" style=\"background-color: rgba(254, 235, 225, 0.5);\">.</span> <span title=\"0.016\" style=\"background-color: rgba(254, 242, 236, 0.5);\">xxup</span> <span title=\"0.029\" style=\"background-color: rgba(254, 240, 233, 0.5);\">brain</span> <span title=\"0.071\" style=\"background-color: rgba(254, 233, 223, 0.5);\">(</span> <span title=\"0.325\" style=\"background-color: rgba(252, 162, 132, 0.5);\">left</span> <span title=\"0.145\" style=\"background-color: rgba(253, 218, 202, 0.5);\">cerebellum</span> <span title=\"0.248\" style=\"background-color: rgba(252, 187, 162, 0.5);\">)</span> <span title=\"0.313\" style=\"background-color: rgba(252, 166, 137, 0.5);\">-</span> <span title=\"0.055\" style=\"background-color: rgba(254, 235, 226, 0.5);\">xxmaj</span> <span title=\"0.134\" style=\"background-color: rgba(253, 221, 206, 0.5);\">no</span> <span title=\"0.096\" style=\"background-color: rgba(254, 229, 217, 0.5);\">significant</span> <span title=\"0.101\" style=\"background-color: rgba(254, 228, 216, 0.5);\">histopathology</span> <span title=\"0.141\" style=\"background-color: rgba(253, 219, 203, 0.5);\">identified</span> <span title=\"0.209\" style=\"background-color: rgba(252, 199, 177, 0.5);\">xxup</span> <span title=\"0.117\" style=\"background-color: rgba(254, 225, 211, 0.5);\">heart</span> <span title=\"0.014\" style=\"background-color: rgba(254, 243, 237, 0.5);\">-</span> <span title=\"0.036\" style=\"background-color: rgba(254, 239, 231, 0.5);\">xxmaj</span> <span title=\"0.160\" style=\"background-color: rgba(253, 214, 197, 0.5);\">no</span> <span title=\"0.072\" style=\"background-color: rgba(254, 233, 223, 0.5);\">significant</span> <span title=\"0.064\" style=\"background-color: rgba(254, 234, 224, 0.5);\">histopathology</span> <span title=\"0.087\" style=\"background-color: rgba(254, 230, 219, 0.5);\">identified</span> <span title=\"0.092\" style=\"background-color: rgba(254, 229, 218, 0.5);\">xxup</span> <span title=\"0.216\" style=\"background-color: rgba(252, 197, 174, 0.5);\">lungs</span> <span title=\"0.123\" style=\"background-color: rgba(254, 224, 210, 0.5);\">-</span> <span title=\"0.022\" style=\"background-color: rgba(254, 241, 235, 0.5);\">xxmaj</span> <span title=\"0.045\" style=\"background-color: rgba(254, 237, 229, 0.5);\">diffuse</span> <span title=\"0.211\" style=\"background-color: rgba(252, 198, 175, 0.5);\">vascular</span> <span title=\"0.058\" style=\"background-color: rgba(254, 235, 226, 0.5);\">and</span> <span title=\"0.051\" style=\"background-color: rgba(254, 236, 227, 0.5);\">septal</span> <span title=\"0.240\" style=\"background-color: rgba(252, 190, 165, 0.5);\">congestion</span> <span title=\"0.265\" style=\"background-color: rgba(252, 182, 156, 0.5);\">with</span> <span title=\"0.065\" style=\"background-color: rgba(254, 234, 224, 0.5);\">extensive</span> <span title=\"0.146\" style=\"background-color: rgba(253, 218, 202, 0.5);\">parenchymal</span> <span title=\"0.174\" style=\"background-color: rgba(253, 209, 191, 0.5);\">collapse</span> <span title=\"0.107\" style=\"background-color: rgba(254, 227, 214, 0.5);\">xxup</span> <span title=\"0.160\" style=\"background-color: rgba(253, 214, 197, 0.5);\">liver</span> <span title=\"0.202\" style=\"background-color: rgba(252, 201, 180, 0.5);\">-</span> <span title=\"0.108\" style=\"background-color: rgba(254, 227, 214, 0.5);\">xxmaj</span> <span title=\"0.022\" style=\"background-color: rgba(254, 241, 235, 0.5);\">no</span> <span title=\"0.039\" style=\"background-color: rgba(254, 238, 230, 0.5);\">significant</span> <span title=\"0.171\" style=\"background-color: rgba(253, 211, 192, 0.5);\">histopathology</span> <span title=\"0.071\" style=\"background-color: rgba(254, 233, 223, 0.5);\">identified</span> <span title=\"0.050\" style=\"background-color: rgba(254, 237, 228, 0.5);\">xxup</span> <span title=\"0.085\" style=\"background-color: rgba(254, 231, 220, 0.5);\">kidney</span> <span title=\"0.061\" style=\"background-color: rgba(254, 235, 225, 0.5);\">-</span> <span title=\"0.165\" style=\"background-color: rgba(253, 212, 194, 0.5);\">xxmaj</span> <span title=\"0.151\" style=\"background-color: rgba(253, 216, 200, 0.5);\">no</span> <span title=\"0.023\" style=\"background-color: rgba(254, 241, 235, 0.5);\">significant</span> <span title=\"0.035\" style=\"background-color: rgba(254, 239, 232, 0.5);\">histopathology</span> <span title=\"0.159\" style=\"background-color: rgba(253, 214, 197, 0.5);\">identified</span> <span title=\"0.060\" style=\"background-color: rgba(254, 235, 225, 0.5);\">.locationabdomen</span> <span title=\"0.044\" style=\"background-color: rgba(254, 237, 229, 0.5);\">.injuryfirearm</span> <span title=\"0.068\" style=\"background-color: rgba(254, 233, 224, 0.5);\">injury</span> <span title=\"0.145\" style=\"background-color: rgba(253, 218, 202, 0.5);\">.</span> <span title=\"0.116\" style=\"background-color: rgba(254, 225, 212, 0.5);\">xxup</span> <span title=\"0.107\" style=\"background-color: rgba(254, 227, 214, 0.5);\">.injurydesc</span> <span title=\"0.057\" style=\"background-color: rgba(254, 235, 226, 0.5);\">.</span> <span title=\"0.398\" style=\"background-color: rgba(251, 139, 107, 0.5);\">xxup</span> <span title=\"0.106\" style=\"background-color: rgba(254, 227, 214, 0.5);\">gunshot</span> <span title=\"0.414\" style=\"background-color: rgba(251, 132, 100, 0.5);\">xxup</span> <span title=\"0.059\" style=\"background-color: rgba(254, 235, 225, 0.5);\">wound</span> <span title=\"0.014\" style=\"background-color: rgba(254, 243, 237, 0.5);\">xxup</span> <span title=\"0.014\" style=\"background-color: rgba(254, 243, 237, 0.5);\">of</span> <span title=\"0.018\" style=\"background-color: rgba(254, 242, 236, 0.5);\">xxup</span> <span title=\"0.041\" style=\"background-color: rgba(254, 238, 230, 0.5);\">the</span> <span title=\"0.025\" style=\"background-color: rgba(254, 241, 234, 0.5);\">xxup</span> <span title=\"0.038\" style=\"background-color: rgba(254, 239, 231, 0.5);\">abdomen</span> <span title=\"0.060\" style=\"background-color: rgba(254, 235, 225, 0.5);\">xxmaj</span> <span title=\"0.285\" style=\"background-color: rgba(252, 176, 148, 0.5);\">entrance</span> <span title=\"0.061\" style=\"background-color: rgba(254, 235, 225, 0.5);\">:</span> <span title=\"0.224\" style=\"background-color: rgba(252, 194, 171, 0.5);\">xxmaj</span> <span title=\"0.075\" style=\"background-color: rgba(254, 232, 222, 0.5);\">on</span> <span title=\"0.159\" style=\"background-color: rgba(253, 214, 197, 0.5);\">the</span> <span title=\"0.054\" style=\"background-color: rgba(254, 236, 227, 0.5);\">upper</span> <span title=\"0.159\" style=\"background-color: rgba(253, 214, 197, 0.5);\">,</span> <span title=\"0.130\" style=\"background-color: rgba(253, 222, 208, 0.5);\">left</span> <span title=\"0.547\" style=\"background-color: rgba(246, 89, 63, 0.5);\">abdomen</span> <span title=\"0.096\" style=\"background-color: rgba(254, 229, 217, 0.5);\">,</span> <span title=\"0.098\" style=\"background-color: rgba(254, 228, 216, 0.5);\">58.0</span> <span title=\"0.366\" style=\"background-color: rgba(252, 149, 117, 0.5);\">cm</span> <span title=\"0.109\" style=\"background-color: rgba(254, 227, 214, 0.5);\">below</span> <span title=\"0.103\" style=\"background-color: rgba(254, 227, 215, 0.5);\">the</span> <span title=\"0.096\" style=\"background-color: rgba(254, 229, 217, 0.5);\">top</span> <span title=\"0.147\" style=\"background-color: rgba(253, 218, 202, 0.5);\">of</span> <span title=\"0.103\" style=\"background-color: rgba(254, 227, 215, 0.5);\">the</span> <span title=\"0.320\" style=\"background-color: rgba(252, 164, 135, 0.5);\">head</span> <span title=\"0.176\" style=\"background-color: rgba(253, 209, 191, 0.5);\">and</span> <span title=\"0.217\" style=\"background-color: rgba(252, 197, 174, 0.5);\">7.5</span> <span title=\"0.509\" style=\"background-color: rgba(250, 102, 71, 0.5);\">cm</span> <span title=\"0.085\" style=\"background-color: rgba(254, 231, 220, 0.5);\">left</span> <span title=\"0.571\" style=\"background-color: rgba(244, 78, 56, 0.5);\">of</span> <span title=\"0.093\" style=\"background-color: rgba(254, 229, 218, 0.5);\">the</span> <span title=\"0.168\" style=\"background-color: rgba(253, 212, 194, 0.5);\">anterior</span> <span title=\"0.052\" style=\"background-color: rgba(254, 236, 227, 0.5);\">midline</span> <span title=\"0.223\" style=\"background-color: rgba(252, 194, 171, 0.5);\">,</span> <span title=\"0.056\" style=\"background-color: rgba(254, 235, 226, 0.5);\">is</span> <span title=\"0.063\" style=\"background-color: rgba(254, 234, 224, 0.5);\">an</span> <span title=\"0.211\" style=\"background-color: rgba(252, 199, 177, 0.5);\">entrance</span> <span title=\"0.064\" style=\"background-color: rgba(254, 234, 224, 0.5);\">gunshot</span> <span title=\"0.180\" style=\"background-color: rgba(253, 207, 188, 0.5);\">wound</span> <span title=\"0.075\" style=\"background-color: rgba(254, 232, 222, 0.5);\">consisting</span> <span title=\"0.151\" style=\"background-color: rgba(253, 216, 200, 0.5);\">of</span> <span title=\"0.085\" style=\"background-color: rgba(254, 231, 220, 0.5);\">a</span> <span title=\"0.061\" style=\"background-color: rgba(254, 235, 225, 0.5);\">1.0</span> <span title=\"0.185\" style=\"background-color: rgba(253, 206, 186, 0.5);\">x</span> <span title=\"0.090\" style=\"background-color: rgba(254, 229, 218, 0.5);\">0.9</span> <span title=\"0.035\" style=\"background-color: rgba(254, 239, 231, 0.5);\">cm</span> <span title=\"0.086\" style=\"background-color: rgba(254, 230, 219, 0.5);\">,</span> <span title=\"0.182\" style=\"background-color: rgba(253, 207, 188, 0.5);\">round</span> <span title=\"0.553\" style=\"background-color: rgba(245, 86, 61, 0.5);\">defect</span> <span title=\"0.200\" style=\"background-color: rgba(252, 201, 180, 0.5);\">with</span> <span title=\"0.107\" style=\"background-color: rgba(254, 227, 214, 0.5);\">a</span> <span title=\"0.147\" style=\"background-color: rgba(253, 218, 202, 0.5);\">0.2</span> <span title=\"0.063\" style=\"background-color: rgba(254, 234, 224, 0.5);\">-</span> <span title=\"0.085\" style=\"background-color: rgba(254, 231, 220, 0.5);\">0.5</span> <span title=\"0.219\" style=\"background-color: rgba(252, 197, 174, 0.5);\">cm</span> <span title=\"0.071\" style=\"background-color: rgba(254, 233, 223, 0.5);\">wide</span> <span title=\"0.102\" style=\"background-color: rgba(254, 227, 215, 0.5);\">,</span> <span title=\"0.040\" style=\"background-color: rgba(254, 238, 230, 0.5);\">circumferential</span> <span title=\"0.074\" style=\"background-color: rgba(254, 233, 223, 0.5);\">,</span> <span title=\"0.280\" style=\"background-color: rgba(252, 177, 150, 0.5);\">red</span> <span title=\"0.531\" style=\"background-color: rgba(248, 94, 66, 0.5);\">marginal</span> <span title=\"0.088\" style=\"background-color: rgba(254, 230, 219, 0.5);\">abrasion</span> <span title=\"0.117\" style=\"background-color: rgba(254, 225, 212, 0.5);\">(</span> <span title=\"0.187\" style=\"background-color: rgba(253, 206, 186, 0.5);\">widest</span> <span title=\"0.077\" style=\"background-color: rgba(254, 232, 222, 0.5);\">at</span> <span title=\"0.082\" style=\"background-color: rgba(254, 231, 220, 0.5);\">7</span> <span title=\"0.047\" style=\"background-color: rgba(254, 237, 228, 0.5);\">-</span> <span title=\"0.155\" style=\"background-color: rgba(253, 215, 199, 0.5);\">11</span> <span title=\"0.064\" style=\"background-color: rgba(254, 234, 224, 0.5);\">and</span> <span title=\"0.258\" style=\"background-color: rgba(252, 185, 159, 0.5);\">3</span> <span title=\"0.118\" style=\"background-color: rgba(254, 225, 211, 0.5);\">-</span> <span title=\"0.098\" style=\"background-color: rgba(254, 228, 216, 0.5);\">5</span> <span title=\"0.200\" style=\"background-color: rgba(252, 201, 180, 0.5);\">o</span> <span title=\"0.146\" style=\"background-color: rgba(253, 218, 202, 0.5);\">&#x27;</span> <span title=\"0.083\" style=\"background-color: rgba(254, 231, 220, 0.5);\">clock</span> <span title=\"0.334\" style=\"background-color: rgba(252, 159, 129, 0.5);\">)</span> <span title=\"0.126\" style=\"background-color: rgba(253, 223, 209, 0.5);\">which</span> <span title=\"0.098\" style=\"background-color: rgba(254, 228, 216, 0.5);\">is</span> <span title=\"0.066\" style=\"background-color: rgba(254, 234, 224, 0.5);\">then</span> <span title=\"0.102\" style=\"background-color: rgba(254, 227, 215, 0.5);\">surrounded</span> <span title=\"0.091\" style=\"background-color: rgba(254, 229, 218, 0.5);\">by</span> <span title=\"0.119\" style=\"background-color: rgba(254, 225, 211, 0.5);\">a</span> <span title=\"0.144\" style=\"background-color: rgba(253, 219, 203, 0.5);\">0.3</span> <span title=\"0.066\" style=\"background-color: rgba(254, 234, 224, 0.5);\">-</span> <span title=\"0.185\" style=\"background-color: rgba(253, 206, 186, 0.5);\">0.7</span> <span title=\"0.194\" style=\"background-color: rgba(252, 204, 183, 0.5);\">cm</span> <span title=\"0.096\" style=\"background-color: rgba(254, 229, 217, 0.5);\">wide</span> <span title=\"0.051\" style=\"background-color: rgba(254, 236, 227, 0.5);\">,</span> <span title=\"0.145\" style=\"background-color: rgba(253, 218, 202, 0.5);\">partially</span> <span title=\"0.102\" style=\"background-color: rgba(254, 227, 215, 0.5);\">circumferential</span> <span title=\"0.212\" style=\"background-color: rgba(252, 198, 175, 0.5);\">,</span> <span title=\"0.380\" style=\"background-color: rgba(251, 144, 112, 0.5);\">pink</span> <span title=\"0.084\" style=\"background-color: rgba(254, 231, 220, 0.5);\">abrasion</span> <span title=\"0.085\" style=\"background-color: rgba(254, 231, 220, 0.5);\">.</span> <span title=\"0.217\" style=\"background-color: rgba(252, 197, 174, 0.5);\">xxmaj</span> <span title=\"0.076\" style=\"background-color: rgba(254, 232, 222, 0.5);\">soot</span> <span title=\"0.090\" style=\"background-color: rgba(254, 229, 218, 0.5);\">,</span> <span title=\"0.048\" style=\"background-color: rgba(254, 237, 228, 0.5);\">unburned</span> <span title=\"0.096\" style=\"background-color: rgba(254, 229, 217, 0.5);\">gunpowder</span> <span title=\"0.038\" style=\"background-color: rgba(254, 239, 231, 0.5);\">particles</span> <span title=\"0.163\" style=\"background-color: rgba(253, 213, 195, 0.5);\">and</span> <span title=\"0.169\" style=\"background-color: rgba(253, 211, 192, 0.5);\">gunpowder</span> <span title=\"0.053\" style=\"background-color: rgba(254, 236, 227, 0.5);\">stippling</span> <span title=\"0.061\" style=\"background-color: rgba(254, 235, 225, 0.5);\">are</span> <span title=\"0.061\" style=\"background-color: rgba(254, 235, 225, 0.5);\">not</span> <span title=\"0.039\" style=\"background-color: rgba(254, 239, 231, 0.5);\">visible</span> <span title=\"0.045\" style=\"background-color: rgba(254, 237, 229, 0.5);\">on</span> <span title=\"0.291\" style=\"background-color: rgba(252, 173, 145, 0.5);\">the</span> <span title=\"0.032\" style=\"background-color: rgba(254, 239, 232, 0.5);\">skin</span> <span title=\"0.114\" style=\"background-color: rgba(254, 225, 212, 0.5);\">surrounding</span> <span title=\"0.087\" style=\"background-color: rgba(254, 230, 219, 0.5);\">the</span> <span title=\"0.128\" style=\"background-color: rgba(253, 223, 209, 0.5);\">wound</span> <span title=\"0.036\" style=\"background-color: rgba(254, 239, 231, 0.5);\">.</span> <span title=\"0.138\" style=\"background-color: rgba(253, 220, 205, 0.5);\">xxmaj</span> <span title=\"0.201\" style=\"background-color: rgba(252, 201, 180, 0.5);\">path</span> <span title=\"0.073\" style=\"background-color: rgba(254, 233, 223, 0.5);\">:</span> <span title=\"0.067\" style=\"background-color: rgba(254, 233, 224, 0.5);\">xxmaj</span> <span title=\"0.157\" style=\"background-color: rgba(253, 214, 197, 0.5);\">the</span> <span title=\"0.123\" style=\"background-color: rgba(254, 224, 210, 0.5);\">hemorrhagic</span> <span title=\"0.118\" style=\"background-color: rgba(254, 225, 211, 0.5);\">wound</span> <span title=\"0.108\" style=\"background-color: rgba(254, 227, 214, 0.5);\">track</span> <span title=\"0.095\" style=\"background-color: rgba(254, 229, 217, 0.5);\">sequentially</span> <span title=\"0.030\" style=\"background-color: rgba(254, 240, 233, 0.5);\">perforates</span> <span title=\"0.070\" style=\"background-color: rgba(254, 233, 224, 0.5);\">the</span> <span title=\"0.021\" style=\"background-color: rgba(254, 241, 235, 0.5);\">skin</span> <span title=\"0.024\" style=\"background-color: rgba(254, 241, 234, 0.5);\">and</span> <span title=\"0.061\" style=\"background-color: rgba(254, 235, 225, 0.5);\">subcutaneous</span> <span title=\"0.330\" style=\"background-color: rgba(252, 160, 131, 0.5);\">tissue</span> <span title=\"0.041\" style=\"background-color: rgba(254, 238, 230, 0.5);\">of</span> <span title=\"0.054\" style=\"background-color: rgba(254, 236, 227, 0.5);\">the</span> <span title=\"0.100\" style=\"background-color: rgba(254, 228, 216, 0.5);\">left</span> <span title=\"0.062\" style=\"background-color: rgba(254, 235, 225, 0.5);\">upper</span> <span title=\"0.165\" style=\"background-color: rgba(253, 212, 194, 0.5);\">abdomen</span> <span title=\"0.097\" style=\"background-color: rgba(254, 229, 217, 0.5);\">,</span> <span title=\"0.155\" style=\"background-color: rgba(253, 215, 199, 0.5);\">the</span> <span title=\"0.263\" style=\"background-color: rgba(252, 182, 156, 0.5);\">underlying</span> <span title=\"0.228\" style=\"background-color: rgba(252, 193, 169, 0.5);\">soft</span> <span title=\"0.119\" style=\"background-color: rgba(254, 225, 211, 0.5);\">tissues</span> <span title=\"0.294\" style=\"background-color: rgba(252, 172, 144, 0.5);\">and</span> <span title=\"0.104\" style=\"background-color: rgba(254, 227, 215, 0.5);\">muscles</span> <span title=\"0.319\" style=\"background-color: rgba(252, 164, 135, 0.5);\">of</span> <span title=\"0.183\" style=\"background-color: rgba(253, 207, 188, 0.5);\">the</span> <span title=\"0.098\" style=\"background-color: rgba(254, 228, 216, 0.5);\">abdominal</span> <span title=\"0.112\" style=\"background-color: rgba(254, 226, 213, 0.5);\">wall</span> <span title=\"0.244\" style=\"background-color: rgba(252, 189, 163, 0.5);\">,</span> <span title=\"0.422\" style=\"background-color: rgba(251, 131, 99, 0.5);\">a</span> <span title=\"0.590\" style=\"background-color: rgba(242, 71, 51, 0.5);\">loop</span> <span title=\"0.112\" style=\"background-color: rgba(254, 226, 213, 0.5);\">of</span> <span title=\"0.253\" style=\"background-color: rgba(252, 186, 160, 0.5);\">small</span> <span title=\"0.636\" style=\"background-color: rgba(236, 56, 42, 0.5);\">bowel</span> <span title=\"0.386\" style=\"background-color: rgba(251, 143, 111, 0.5);\">,</span> <span title=\"0.296\" style=\"background-color: rgba(252, 172, 144, 0.5);\">the</span> <span title=\"0.109\" style=\"background-color: rgba(254, 227, 214, 0.5);\">small</span> <span title=\"0.340\" style=\"background-color: rgba(252, 158, 128, 0.5);\">bowel</span> <span title=\"0.106\" style=\"background-color: rgba(254, 227, 214, 0.5);\">mesentery</span> <span title=\"0.098\" style=\"background-color: rgba(254, 228, 216, 0.5);\">and</span> <span title=\"0.365\" style=\"background-color: rgba(252, 149, 117, 0.5);\">the</span> <span title=\"0.196\" style=\"background-color: rgba(252, 202, 182, 0.5);\">xxunk</span> <span title=\"0.076\" style=\"background-color: rgba(254, 232, 222, 0.5);\">-</span> <span title=\"0.223\" style=\"background-color: rgba(252, 195, 172, 0.5);\">renal</span> <span title=\"0.678\" style=\"background-color: rgba(223, 44, 37, 0.5);\">aorta</span> <span title=\"0.094\" style=\"background-color: rgba(254, 229, 217, 0.5);\">.</span> <span title=\"0.205\" style=\"background-color: rgba(252, 200, 179, 0.5);\">xxmaj</span> <span title=\"0.281\" style=\"background-color: rgba(252, 176, 148, 0.5);\">the</span> <span title=\"0.064\" style=\"background-color: rgba(254, 234, 224, 0.5);\">wound</span> <span title=\"0.119\" style=\"background-color: rgba(254, 225, 211, 0.5);\">grazes</span> <span title=\"0.237\" style=\"background-color: rgba(252, 191, 166, 0.5);\">the</span> <span title=\"0.345\" style=\"background-color: rgba(252, 155, 125, 0.5);\">right</span> <span title=\"0.469\" style=\"background-color: rgba(251, 115, 83, 0.5);\">lateral</span> <span title=\"0.128\" style=\"background-color: rgba(253, 223, 209, 0.5);\">xxup</span> <span title=\"0.176\" style=\"background-color: rgba(253, 208, 189, 0.5);\">l4</span> <span title=\"0.381\" style=\"background-color: rgba(251, 144, 112, 0.5);\">/</span> <span title=\"0.109\" style=\"background-color: rgba(254, 227, 214, 0.5);\">xxup</span> <span title=\"0.350\" style=\"background-color: rgba(252, 154, 123, 0.5);\">l5</span> <span title=\"0.671\" style=\"background-color: rgba(225, 46, 38, 0.5);\">vertebrae</span> <span title=\"0.046\" style=\"background-color: rgba(254, 237, 229, 0.5);\">and</span> <span title=\"0.046\" style=\"background-color: rgba(254, 237, 229, 0.5);\">then</span> <span title=\"0.105\" style=\"background-color: rgba(254, 227, 214, 0.5);\">sequentially</span> <span title=\"0.244\" style=\"background-color: rgba(252, 189, 163, 0.5);\">perforates</span> <span title=\"0.661\" style=\"background-color: rgba(228, 48, 39, 0.5);\">the</span> <span title=\"0.123\" style=\"background-color: rgba(254, 224, 210, 0.5);\">superior</span> <span title=\"0.166\" style=\"background-color: rgba(253, 212, 194, 0.5);\">right</span> <span title=\"0.318\" style=\"background-color: rgba(252, 164, 135, 0.5);\">ilium</span> <span title=\"0.228\" style=\"background-color: rgba(252, 193, 169, 0.5);\">of</span> <span title=\"0.870\" style=\"background-color: rgba(166, 15, 21, 0.5);\">the</span> <span title=\"0.227\" style=\"background-color: rgba(252, 193, 169, 0.5);\">right</span> <span title=\"0.123\" style=\"background-color: rgba(254, 224, 210, 0.5);\">pelvis</span> <span title=\"0.445\" style=\"background-color: rgba(251, 124, 92, 0.5);\">,</span> <span title=\"0.546\" style=\"background-color: rgba(246, 89, 63, 0.5);\">the</span> <span title=\"0.160\" style=\"background-color: rgba(253, 213, 195, 0.5);\">soft</span> <span title=\"0.353\" style=\"background-color: rgba(252, 153, 122, 0.5);\">tissues</span> <span title=\"0.254\" style=\"background-color: rgba(252, 186, 160, 0.5);\">and</span> <span title=\"0.275\" style=\"background-color: rgba(252, 178, 151, 0.5);\">muscles</span> <span title=\"0.103\" style=\"background-color: rgba(254, 227, 215, 0.5);\">of</span> <span title=\"0.338\" style=\"background-color: rgba(252, 158, 128, 0.5);\">the</span> <span title=\"0.397\" style=\"background-color: rgba(251, 139, 107, 0.5);\">right</span> <span title=\"0.556\" style=\"background-color: rgba(245, 84, 60, 0.5);\">lower</span> <span title=\"0.107\" style=\"background-color: rgba(254, 227, 214, 0.5);\">back</span> <span title=\"0.092\" style=\"background-color: rgba(254, 229, 218, 0.5);\">and</span> <span title=\"0.207\" style=\"background-color: rgba(252, 200, 179, 0.5);\">the</span> <span title=\"0.425\" style=\"background-color: rgba(251, 130, 98, 0.5);\">overlying</span> <span title=\"0.077\" style=\"background-color: rgba(254, 232, 222, 0.5);\">subcutaneous</span> <span title=\"0.163\" style=\"background-color: rgba(253, 213, 195, 0.5);\">tissue</span> <span title=\"0.334\" style=\"background-color: rgba(252, 159, 129, 0.5);\">and</span> <span title=\"0.224\" style=\"background-color: rgba(252, 194, 171, 0.5);\">skin</span> <span title=\"0.080\" style=\"background-color: rgba(254, 231, 221, 0.5);\">of</span> <span title=\"0.214\" style=\"background-color: rgba(252, 198, 175, 0.5);\">the</span> <span title=\"0.082\" style=\"background-color: rgba(254, 231, 220, 0.5);\">right</span> <span title=\"0.092\" style=\"background-color: rgba(254, 229, 218, 0.5);\">lower</span> <span title=\"0.215\" style=\"background-color: rgba(252, 197, 174, 0.5);\">back</span> <span title=\"0.172\" style=\"background-color: rgba(253, 211, 192, 0.5);\">.</span> <span title=\"0.290\" style=\"background-color: rgba(252, 173, 145, 0.5);\">xxmaj</span> <span title=\"0.090\" style=\"background-color: rgba(254, 230, 219, 0.5);\">associated</span> <span title=\"0.113\" style=\"background-color: rgba(254, 226, 213, 0.5);\">xxmaj</span> <span title=\"0.229\" style=\"background-color: rgba(252, 193, 169, 0.5);\">injuries</span> <span title=\"0.201\" style=\"background-color: rgba(252, 201, 180, 0.5);\">:</span> <span title=\"0.111\" style=\"background-color: rgba(254, 226, 213, 0.5);\">xxmaj</span> <span title=\"0.094\" style=\"background-color: rgba(254, 229, 217, 0.5);\">associated</span> <span title=\"0.247\" style=\"background-color: rgba(252, 187, 162, 0.5);\">injuries</span> <span title=\"0.090\" style=\"background-color: rgba(254, 229, 218, 0.5);\">include</span> <span title=\"0.101\" style=\"background-color: rgba(254, 228, 216, 0.5);\">xxunk</span> <span title=\"0.181\" style=\"background-color: rgba(253, 207, 188, 0.5);\">ml</span> <span title=\"0.165\" style=\"background-color: rgba(253, 212, 194, 0.5);\">of</span> <span title=\"0.270\" style=\"background-color: rgba(252, 180, 153, 0.5);\">blood</span> <span title=\"0.036\" style=\"background-color: rgba(254, 239, 231, 0.5);\">within</span> <span title=\"0.042\" style=\"background-color: rgba(254, 238, 230, 0.5);\">the</span> <span title=\"0.063\" style=\"background-color: rgba(254, 234, 224, 0.5);\">abdominal</span> <span title=\"0.299\" style=\"background-color: rgba(252, 171, 142, 0.5);\">and</span> <span title=\"0.103\" style=\"background-color: rgba(254, 227, 215, 0.5);\">pelvic</span> <span title=\"0.213\" style=\"background-color: rgba(252, 198, 175, 0.5);\">cavities</span> <span title=\"0.071\" style=\"background-color: rgba(254, 233, 223, 0.5);\">;</span> <span title=\"0.045\" style=\"background-color: rgba(254, 237, 229, 0.5);\">small</span> <span title=\"0.074\" style=\"background-color: rgba(254, 233, 223, 0.5);\">radiating</span> <span title=\"0.253\" style=\"background-color: rgba(252, 186, 160, 0.5);\">fractures</span> <span title=\"0.203\" style=\"background-color: rgba(252, 201, 180, 0.5);\">around</span> <span title=\"0.132\" style=\"background-color: rgba(253, 222, 208, 0.5);\">the</span> <span title=\"0.455\" style=\"background-color: rgba(251, 120, 88, 0.5);\">defect</span> <span title=\"0.405\" style=\"background-color: rgba(251, 136, 104, 0.5);\">of</span> <span title=\"0.134\" style=\"background-color: rgba(253, 221, 206, 0.5);\">the</span> <span title=\"0.334\" style=\"background-color: rgba(252, 159, 129, 0.5);\">right</span> <span title=\"0.162\" style=\"background-color: rgba(253, 213, 195, 0.5);\">ilium</span> <span title=\"0.125\" style=\"background-color: rgba(254, 224, 210, 0.5);\">and</span> <span title=\"0.785\" style=\"background-color: rgba(192, 21, 26, 0.5);\">small</span> <span title=\"0.245\" style=\"background-color: rgba(252, 189, 163, 0.5);\">fractures</span> <span title=\"0.464\" style=\"background-color: rgba(251, 117, 85, 0.5);\">of</span> <span title=\"0.263\" style=\"background-color: rgba(252, 182, 156, 0.5);\">the</span> <span title=\"0.146\" style=\"background-color: rgba(253, 218, 202, 0.5);\">xxup</span> <span title=\"0.375\" style=\"background-color: rgba(251, 145, 113, 0.5);\">l4</span> <span title=\"0.891\" style=\"background-color: rgba(155, 12, 19, 0.5);\">/</span> <span title=\"0.256\" style=\"background-color: rgba(252, 185, 159, 0.5);\">xxup</span> <span title=\"0.277\" style=\"background-color: rgba(252, 178, 151, 0.5);\">l5</span> <span title=\"0.120\" style=\"background-color: rgba(254, 225, 211, 0.5);\">vertebral</span> <span title=\"0.262\" style=\"background-color: rgba(252, 182, 156, 0.5);\">body</span> <span title=\"0.132\" style=\"background-color: rgba(253, 222, 208, 0.5);\">.</span> <span title=\"0.096\" style=\"background-color: rgba(254, 229, 217, 0.5);\">xxmaj</span> <span title=\"0.170\" style=\"background-color: rgba(253, 211, 192, 0.5);\">exit</span> <span title=\"0.512\" style=\"background-color: rgba(249, 100, 70, 0.5);\">:</span> <span title=\"0.101\" style=\"background-color: rgba(254, 228, 216, 0.5);\">xxmaj</span> <span title=\"0.281\" style=\"background-color: rgba(252, 176, 148, 0.5);\">on</span> <span title=\"0.428\" style=\"background-color: rgba(251, 129, 97, 0.5);\">the</span> <span title=\"0.151\" style=\"background-color: rgba(253, 216, 200, 0.5);\">right</span> <span title=\"0.138\" style=\"background-color: rgba(253, 220, 205, 0.5);\">lower</span> <span title=\"0.391\" style=\"background-color: rgba(251, 140, 108, 0.5);\">back</span> <span title=\"0.943\" style=\"background-color: rgba(130, 6, 16, 0.5);\">,</span> <span title=\"0.231\" style=\"background-color: rgba(252, 192, 168, 0.5);\">xxunk</span> <span title=\"0.100\" style=\"background-color: rgba(254, 228, 216, 0.5);\">cm</span> <span title=\"0.262\" style=\"background-color: rgba(252, 182, 156, 0.5);\">below</span> <span title=\"0.239\" style=\"background-color: rgba(252, 190, 165, 0.5);\">the</span> <span title=\"0.081\" style=\"background-color: rgba(254, 231, 221, 0.5);\">top</span> <span title=\"0.022\" style=\"background-color: rgba(254, 241, 235, 0.5);\">of</span> <span title=\"0.023\" style=\"background-color: rgba(254, 241, 235, 0.5);\">the</span> <span title=\"0.058\" style=\"background-color: rgba(254, 235, 226, 0.5);\">head</span> <span title=\"0.353\" style=\"background-color: rgba(252, 153, 122, 0.5);\">,</span> <span title=\"0.039\" style=\"background-color: rgba(254, 238, 230, 0.5);\">and</span> <span title=\"0.052\" style=\"background-color: rgba(254, 236, 227, 0.5);\">9.5</span> <span title=\"0.054\" style=\"background-color: rgba(254, 236, 227, 0.5);\">cm</span> <span title=\"0.150\" style=\"background-color: rgba(253, 216, 200, 0.5);\">right</span> <span title=\"0.093\" style=\"background-color: rgba(254, 229, 218, 0.5);\">of</span> <span title=\"0.157\" style=\"background-color: rgba(253, 214, 197, 0.5);\">the</span> <span title=\"0.131\" style=\"background-color: rgba(253, 222, 208, 0.5);\">posterior</span> <span title=\"0.204\" style=\"background-color: rgba(252, 200, 179, 0.5);\">midline</span> <span title=\"0.062\" style=\"background-color: rgba(254, 235, 225, 0.5);\">,</span> <span title=\"0.250\" style=\"background-color: rgba(252, 186, 160, 0.5);\">is</span> <span title=\"0.079\" style=\"background-color: rgba(254, 231, 221, 0.5);\">an</span> <span title=\"0.136\" style=\"background-color: rgba(253, 221, 206, 0.5);\">exit</span> <span title=\"0.036\" style=\"background-color: rgba(254, 239, 231, 0.5);\">gunshot</span> <span title=\"0.159\" style=\"background-color: rgba(253, 214, 197, 0.5);\">wound</span> <span title=\"0.037\" style=\"background-color: rgba(254, 239, 231, 0.5);\">consisting</span> <span title=\"0.036\" style=\"background-color: rgba(254, 239, 231, 0.5);\">of</span> <span title=\"0.083\" style=\"background-color: rgba(254, 231, 220, 0.5);\">a</span> <span title=\"0.033\" style=\"background-color: rgba(254, 239, 232, 0.5);\">1.0</span> <span title=\"0.056\" style=\"background-color: rgba(254, 235, 226, 0.5);\">x</span> <span title=\"0.123\" style=\"background-color: rgba(254, 224, 210, 0.5);\">0.5</span> <span title=\"0.036\" style=\"background-color: rgba(254, 239, 231, 0.5);\">cm</span> <span title=\"0.083\" style=\"background-color: rgba(254, 231, 220, 0.5);\">laceration</span> <span title=\"0.045\" style=\"background-color: rgba(254, 237, 229, 0.5);\">without</span> <span title=\"0.033\" style=\"background-color: rgba(254, 239, 232, 0.5);\">marginal</span> <span title=\"0.075\" style=\"background-color: rgba(254, 232, 222, 0.5);\">abrasion</span> <span title=\"0.045\" style=\"background-color: rgba(254, 237, 229, 0.5);\">.</span> <span title=\"0.025\" style=\"background-color: rgba(254, 241, 234, 0.5);\">xxmaj</span> <span title=\"0.029\" style=\"background-color: rgba(254, 240, 233, 0.5);\">trajectory</span> <span title=\"0.063\" style=\"background-color: rgba(254, 234, 224, 0.5);\">:</span> <span title=\"0.155\" style=\"background-color: rgba(253, 215, 199, 0.5);\">xxmaj</span> <span title=\"0.087\" style=\"background-color: rgba(254, 230, 219, 0.5);\">the</span> <span title=\"0.059\" style=\"background-color: rgba(254, 235, 225, 0.5);\">wound</span> <span title=\"0.109\" style=\"background-color: rgba(254, 227, 214, 0.5);\">track</span> <span title=\"0.055\" style=\"background-color: rgba(254, 235, 226, 0.5);\">travels</span> <span title=\"0.034\" style=\"background-color: rgba(254, 239, 232, 0.5);\">from</span> <span title=\"0.076\" style=\"background-color: rgba(254, 232, 222, 0.5);\">the</span> <span title=\"0.038\" style=\"background-color: rgba(254, 239, 231, 0.5);\">decedentâs</span> <span title=\"0.034\" style=\"background-color: rgba(254, 239, 232, 0.5);\">anterior</span> <span title=\"0.035\" style=\"background-color: rgba(254, 239, 232, 0.5);\">to</span> <span title=\"0.048\" style=\"background-color: rgba(254, 237, 228, 0.5);\">posterior</span> <span title=\"0.043\" style=\"background-color: rgba(254, 237, 229, 0.5);\">,</span> <span title=\"0.062\" style=\"background-color: rgba(254, 235, 225, 0.5);\">left</span> <span title=\"0.012\" style=\"background-color: rgba(254, 243, 237, 0.5);\">to</span> <span title=\"0.007\" style=\"background-color: rgba(254, 244, 239, 0.5);\">right</span> <span title=\"0.009\" style=\"background-color: rgba(254, 243, 238, 0.5);\">and</span> <span title=\"0.019\" style=\"background-color: rgba(254, 242, 236, 0.5);\">superior</span> <span title=\"0.187\" style=\"background-color: rgba(253, 206, 186, 0.5);\">to</span> <span title=\"0.023\" style=\"background-color: rgba(254, 241, 235, 0.5);\">inferior</span> <span title=\"0.025\" style=\"background-color: rgba(254, 241, 234, 0.5);\">.</span> <span title=\"0.041\" style=\"background-color: rgba(254, 238, 230, 0.5);\">.locationextremities</span> <span title=\"0.071\" style=\"background-color: rgba(254, 233, 223, 0.5);\">.injuryblunt</span> <span title=\"0.142\" style=\"background-color: rgba(253, 219, 203, 0.5);\">injury</span> <span title=\"0.092\" style=\"background-color: rgba(254, 229, 218, 0.5);\">.</span> <span title=\"0.147\" style=\"background-color: rgba(253, 218, 202, 0.5);\">xxup</span> <span title=\"0.059\" style=\"background-color: rgba(254, 235, 225, 0.5);\">.injurydesc</span> <span title=\"0.036\" style=\"background-color: rgba(254, 239, 231, 0.5);\">.</span> <span title=\"0.186\" style=\"background-color: rgba(253, 206, 186, 0.5);\">xxmaj</span> <span title=\"0.163\" style=\"background-color: rgba(253, 213, 195, 0.5);\">an</span> <span title=\"0.075\" style=\"background-color: rgba(254, 232, 222, 0.5);\">8.0</span> <span title=\"0.080\" style=\"background-color: rgba(254, 231, 221, 0.5);\">x</span> <span title=\"0.031\" style=\"background-color: rgba(254, 240, 233, 0.5);\">3.0</span> <span title=\"0.101\" style=\"background-color: rgba(254, 228, 216, 0.5);\">cm</span> <span title=\"0.059\" style=\"background-color: rgba(254, 235, 225, 0.5);\">,</span> <span title=\"0.053\" style=\"background-color: rgba(254, 236, 227, 0.5);\">purple</span> <span title=\"0.040\" style=\"background-color: rgba(254, 238, 230, 0.5);\">contusion</span> <span title=\"0.111\" style=\"background-color: rgba(254, 226, 213, 0.5);\">is</span> <span title=\"0.086\" style=\"background-color: rgba(254, 230, 219, 0.5);\">on</span> <span title=\"0.039\" style=\"background-color: rgba(254, 239, 231, 0.5);\">the</span> <span title=\"0.009\" style=\"background-color: rgba(254, 243, 238, 0.5);\">medial</span> <span title=\"0.016\" style=\"background-color: rgba(254, 242, 236, 0.5);\">,</span> <span title=\"0.142\" style=\"background-color: rgba(253, 219, 203, 0.5);\">distal</span> <span title=\"0.021\" style=\"background-color: rgba(254, 241, 235, 0.5);\">,</span> <span title=\"0.066\" style=\"background-color: rgba(254, 234, 224, 0.5);\">left</span> <span title=\"0.024\" style=\"background-color: rgba(254, 241, 234, 0.5);\">,</span> <span title=\"0.008\" style=\"background-color: rgba(254, 244, 239, 0.5);\">lower</span> <span title=\"0.008\" style=\"background-color: rgba(254, 244, 239, 0.5);\">leg</span> <span title=\"0.009\" style=\"background-color: rgba(254, 243, 238, 0.5);\">.</span> <span title=\"0.017\" style=\"background-color: rgba(254, 242, 236, 0.5);\">a</span> <span title=\"0.006\" style=\"background-color: rgba(254, 244, 239, 0.5);\">6.5</span> <span title=\"0.015\" style=\"background-color: rgba(254, 243, 237, 0.5);\">x</span> <span title=\"0.031\" style=\"background-color: rgba(254, 240, 233, 0.5);\">5.0</span> <span title=\"0.069\" style=\"background-color: rgba(254, 233, 224, 0.5);\">cm</span> <span title=\"0.139\" style=\"background-color: rgba(253, 220, 205, 0.5);\">,</span> <span title=\"0.037\" style=\"background-color: rgba(254, 239, 231, 0.5);\">purple</span> <span title=\"0.060\" style=\"background-color: rgba(254, 235, 225, 0.5);\">contusion</span> <span title=\"0.025\" style=\"background-color: rgba(254, 241, 234, 0.5);\">is</span> <span title=\"0.037\" style=\"background-color: rgba(254, 239, 231, 0.5);\">on</span> <span title=\"0.050\" style=\"background-color: rgba(254, 237, 228, 0.5);\">the</span> <span title=\"0.049\" style=\"background-color: rgba(254, 237, 228, 0.5);\">medial</span> <span title=\"0.022\" style=\"background-color: rgba(254, 241, 235, 0.5);\">,</span> <span title=\"0.037\" style=\"background-color: rgba(254, 239, 231, 0.5);\">right</span> <span title=\"0.023\" style=\"background-color: rgba(254, 241, 235, 0.5);\">calf</span> <span title=\"0.082\" style=\"background-color: rgba(254, 231, 221, 0.5);\">.</span> <span title=\"0.038\" style=\"background-color: rgba(254, 239, 231, 0.5);\">.locationhead</span> <span title=\"0.075\" style=\"background-color: rgba(254, 232, 222, 0.5);\">.injuryblunt</span> <span title=\"0.019\" style=\"background-color: rgba(254, 242, 236, 0.5);\">injury</span> <span title=\"0.055\" style=\"background-color: rgba(254, 235, 226, 0.5);\">.</span> <span title=\"0.030\" style=\"background-color: rgba(254, 240, 233, 0.5);\">xxup</span> <span title=\"0.052\" style=\"background-color: rgba(254, 236, 227, 0.5);\">.injurydesc</span> <span title=\"0.048\" style=\"background-color: rgba(254, 237, 228, 0.5);\">.</span> <span title=\"0.015\" style=\"background-color: rgba(254, 243, 237, 0.5);\">a</span> <span title=\"0.014\" style=\"background-color: rgba(254, 243, 237, 0.5);\">2.0</span> <span title=\"0.048\" style=\"background-color: rgba(254, 237, 228, 0.5);\">x</span> <span title=\"0.061\" style=\"background-color: rgba(254, 235, 225, 0.5);\">0.6</span> <span title=\"0.027\" style=\"background-color: rgba(254, 241, 234, 0.5);\">cm</span> <span title=\"0.042\" style=\"background-color: rgba(254, 238, 230, 0.5);\">,</span> <span title=\"0.021\" style=\"background-color: rgba(254, 241, 235, 0.5);\">red</span> <span title=\"0.031\" style=\"background-color: rgba(254, 240, 233, 0.5);\">abrasion</span> <span title=\"0.040\" style=\"background-color: rgba(254, 238, 230, 0.5);\">is</span> <span title=\"0.037\" style=\"background-color: rgba(254, 239, 231, 0.5);\">on</span> <span title=\"0.025\" style=\"background-color: rgba(254, 241, 234, 0.5);\">the</span> <span title=\"0.043\" style=\"background-color: rgba(254, 238, 230, 0.5);\">posterior</span> <span title=\"0.024\" style=\"background-color: rgba(254, 241, 234, 0.5);\">,</span> <span title=\"0.077\" style=\"background-color: rgba(254, 232, 222, 0.5);\">inferior</span> <span title=\"0.028\" style=\"background-color: rgba(254, 240, 233, 0.5);\">,</span> <span title=\"0.046\" style=\"background-color: rgba(254, 237, 229, 0.5);\">left</span> <span title=\"0.090\" style=\"background-color: rgba(254, 229, 218, 0.5);\">scalp</span> <span title=\"0.016\" style=\"background-color: rgba(254, 242, 236, 0.5);\">.</span> <span title=\"0.018\" style=\"background-color: rgba(254, 242, 236, 0.5);\">xxmaj</span> <span title=\"0.218\" style=\"background-color: rgba(252, 197, 174, 0.5);\">there</span> <span title=\"0.039\" style=\"background-color: rgba(254, 239, 231, 0.5);\">is</span> <span title=\"0.215\" style=\"background-color: rgba(252, 197, 174, 0.5);\">a</span> <span title=\"0.030\" style=\"background-color: rgba(254, 240, 233, 0.5);\">3.5</span> <span title=\"0.008\" style=\"background-color: rgba(254, 243, 238, 0.5);\">x</span> <span title=\"0.011\" style=\"background-color: rgba(254, 243, 238, 0.5);\">3.5</span> <span title=\"0.010\" style=\"background-color: rgba(254, 243, 238, 0.5);\">cm</span> <span title=\"0.040\" style=\"background-color: rgba(254, 238, 230, 0.5);\">area</span> <span title=\"0.014\" style=\"background-color: rgba(254, 243, 237, 0.5);\">of</span> <span title=\"0.018\" style=\"background-color: rgba(254, 242, 236, 0.5);\">palpable</span> <span title=\"0.062\" style=\"background-color: rgba(254, 235, 225, 0.5);\">swelling</span> <span title=\"0.199\" style=\"background-color: rgba(252, 202, 182, 0.5);\">surrounding</span> <span title=\"0.077\" style=\"background-color: rgba(254, 232, 222, 0.5);\">the</span> <span title=\"0.094\" style=\"background-color: rgba(254, 229, 217, 0.5);\">abrasion</span> <span title=\"0.034\" style=\"background-color: rgba(254, 239, 232, 0.5);\">.</span> <span title=\"0.056\" style=\"background-color: rgba(254, 235, 226, 0.5);\">xxmaj</span> <span title=\"0.067\" style=\"background-color: rgba(254, 233, 224, 0.5);\">reflection</span> <span title=\"0.100\" style=\"background-color: rgba(254, 228, 216, 0.5);\">of</span> <span title=\"0.048\" style=\"background-color: rgba(254, 237, 228, 0.5);\">the</span> <span title=\"0.116\" style=\"background-color: rgba(254, 225, 212, 0.5);\">scalp</span> <span title=\"0.093\" style=\"background-color: rgba(254, 229, 218, 0.5);\">demonstrates</span> <span title=\"0.168\" style=\"background-color: rgba(253, 212, 194, 0.5);\">no</span> <span title=\"0.074\" style=\"background-color: rgba(254, 233, 223, 0.5);\">underlying</span> <span title=\"0.109\" style=\"background-color: rgba(254, 227, 214, 0.5);\">injury</span> <span title=\"0.066\" style=\"background-color: rgba(254, 234, 224, 0.5);\">.</span></span>"
      ],
      "text/plain": [
       "<IPython.core.display.HTML object>"
      ]
     },
     "metadata": {},
     "output_type": "display_data"
    }
   ],
   "source": [
    "interpret_result(10279)"
   ]
  },
  {
   "cell_type": "code",
   "execution_count": null,
   "metadata": {},
   "outputs": [],
   "source": []
  },
  {
   "cell_type": "code",
   "execution_count": null,
   "metadata": {},
   "outputs": [],
   "source": []
  },
  {
   "cell_type": "code",
   "execution_count": null,
   "metadata": {},
   "outputs": [],
   "source": []
  },
  {
   "cell_type": "code",
   "execution_count": 44,
   "metadata": {},
   "outputs": [],
   "source": [
    "valid = df.loc[df['is_valid']==True]"
   ]
  },
  {
   "cell_type": "code",
   "execution_count": 45,
   "metadata": {},
   "outputs": [
    {
     "data": {
      "text/html": [
       "<div>\n",
       "<style scoped>\n",
       "    .dataframe tbody tr th:only-of-type {\n",
       "        vertical-align: middle;\n",
       "    }\n",
       "\n",
       "    .dataframe tbody tr th {\n",
       "        vertical-align: top;\n",
       "    }\n",
       "\n",
       "    .dataframe thead th {\n",
       "        text-align: right;\n",
       "    }\n",
       "</style>\n",
       "<table border=\"1\" class=\"dataframe\">\n",
       "  <thead>\n",
       "    <tr style=\"text-align: right;\">\n",
       "      <th></th>\n",
       "      <th>label</th>\n",
       "      <th>text</th>\n",
       "      <th>is_valid</th>\n",
       "    </tr>\n",
       "  </thead>\n",
       "  <tbody>\n",
       "    <tr>\n",
       "      <th>13</th>\n",
       "      <td>Accident</td>\n",
       "      <td>\\n.MICRO.\\nHeart: Patchy left and right ventri...</td>\n",
       "      <td>True</td>\n",
       "    </tr>\n",
       "    <tr>\n",
       "      <th>20</th>\n",
       "      <td>Accident</td>\n",
       "      <td>\\n.MICRO.\\nNONE\\n.LOCATIONHead\\n.INJURYBlunt i...</td>\n",
       "      <td>True</td>\n",
       "    </tr>\n",
       "    <tr>\n",
       "      <th>23</th>\n",
       "      <td>Accident</td>\n",
       "      <td>\\n.MICRO.\\nLung: Vegetable matter, fungal and ...</td>\n",
       "      <td>True</td>\n",
       "    </tr>\n",
       "    <tr>\n",
       "      <th>29</th>\n",
       "      <td>Accident</td>\n",
       "      <td>\\n.MICRO.\\nBRAIN: A section of the brain is wi...</td>\n",
       "      <td>True</td>\n",
       "    </tr>\n",
       "    <tr>\n",
       "      <th>32</th>\n",
       "      <td>Accident</td>\n",
       "      <td>\\n.MICRO.\\nADRENALS:\\nLeft: Intraparechymal no...</td>\n",
       "      <td>True</td>\n",
       "    </tr>\n",
       "    <tr>\n",
       "      <th>45</th>\n",
       "      <td>Accident</td>\n",
       "      <td>\\n.MICRO.\\nHeart: left ventricular myocyte hyp...</td>\n",
       "      <td>True</td>\n",
       "    </tr>\n",
       "    <tr>\n",
       "      <th>50</th>\n",
       "      <td>Accident</td>\n",
       "      <td>\\n.MICRO.\\nNONE\\n.LOCATIONHead\\n.INJURYBlunt i...</td>\n",
       "      <td>True</td>\n",
       "    </tr>\n",
       "    <tr>\n",
       "      <th>54</th>\n",
       "      <td>Accident</td>\n",
       "      <td>\\n.MICRO.\\nNONE\\n.LOCATIONChest\\n.INJURYBlunt ...</td>\n",
       "      <td>True</td>\n",
       "    </tr>\n",
       "    <tr>\n",
       "      <th>60</th>\n",
       "      <td>Accident</td>\n",
       "      <td>\\n.MICRO.\\nHeart: negative\\n\\nLiver: negative\\...</td>\n",
       "      <td>True</td>\n",
       "    </tr>\n",
       "    <tr>\n",
       "      <th>76</th>\n",
       "      <td>Accident</td>\n",
       "      <td>\\n.MICRO.\\nBRAIN: No significant, histopatholo...</td>\n",
       "      <td>True</td>\n",
       "    </tr>\n",
       "    <tr>\n",
       "      <th>80</th>\n",
       "      <td>Suicide</td>\n",
       "      <td>\\n.MICRO.\\nNONE\\n.LOCATIONHead\\n.INJURYFirearm...</td>\n",
       "      <td>True</td>\n",
       "    </tr>\n",
       "    <tr>\n",
       "      <th>82</th>\n",
       "      <td>Accident</td>\n",
       "      <td>\\n.MICRO.\\nNONE\\n.LOCATIONExtremity\\n.INJURYBl...</td>\n",
       "      <td>True</td>\n",
       "    </tr>\n",
       "    <tr>\n",
       "      <th>93</th>\n",
       "      <td>Accident</td>\n",
       "      <td>\\n.MICRO.\\nLIVER:  No diagnostic abnormality.\\...</td>\n",
       "      <td>True</td>\n",
       "    </tr>\n",
       "    <tr>\n",
       "      <th>107</th>\n",
       "      <td>Suicide</td>\n",
       "      <td>\\n.MICRO.\\nNONE\\n.LOCATIONHead\\n.INJURYBlunt i...</td>\n",
       "      <td>True</td>\n",
       "    </tr>\n",
       "    <tr>\n",
       "      <th>117</th>\n",
       "      <td>Suicide</td>\n",
       "      <td>\\n.MICRO.\\nNONE\\n.LOCATIONHead\\n.INJURYFirearm...</td>\n",
       "      <td>True</td>\n",
       "    </tr>\n",
       "    <tr>\n",
       "      <th>118</th>\n",
       "      <td>Accident</td>\n",
       "      <td>\\n.MICRO.\\nHeart: Left ventricular myocyte hyp...</td>\n",
       "      <td>True</td>\n",
       "    </tr>\n",
       "    <tr>\n",
       "      <th>128</th>\n",
       "      <td>Suicide</td>\n",
       "      <td>\\n.MICRO.\\nHeart: Negative\\n\\nLungs: Pulmonary...</td>\n",
       "      <td>True</td>\n",
       "    </tr>\n",
       "    <tr>\n",
       "      <th>132</th>\n",
       "      <td>Accident</td>\n",
       "      <td>\\n.MICRO.\\nNONE\\n.LOCATIONChest\\n.INJURYBlunt ...</td>\n",
       "      <td>True</td>\n",
       "    </tr>\n",
       "    <tr>\n",
       "      <th>133</th>\n",
       "      <td>Accident</td>\n",
       "      <td>\\n.MICRO.\\nNONE\\n.LOCATIONHead\\n.INJURYBlunt i...</td>\n",
       "      <td>True</td>\n",
       "    </tr>\n",
       "    <tr>\n",
       "      <th>134</th>\n",
       "      <td>Natural</td>\n",
       "      <td>\\n.MICRO.\\nNONE\\n.LOCATIONHead\\n.INJURYBlunt i...</td>\n",
       "      <td>True</td>\n",
       "    </tr>\n",
       "    <tr>\n",
       "      <th>138</th>\n",
       "      <td>Natural</td>\n",
       "      <td>\\n.MICRO.\\nHeart: negative\\n\\nLungs: bronchopn...</td>\n",
       "      <td>True</td>\n",
       "    </tr>\n",
       "    <tr>\n",
       "      <th>140</th>\n",
       "      <td>Accident</td>\n",
       "      <td>\\n.MICRO.\\nHEART: no significant histopatholog...</td>\n",
       "      <td>True</td>\n",
       "    </tr>\n",
       "    <tr>\n",
       "      <th>148</th>\n",
       "      <td>Natural</td>\n",
       "      <td>\\n.MICRO.\\nBRAIN: Proliferation of thin-walled...</td>\n",
       "      <td>True</td>\n",
       "    </tr>\n",
       "    <tr>\n",
       "      <th>151</th>\n",
       "      <td>Accident</td>\n",
       "      <td>\\n.MICRO.\\nBRAIN: The brainstem mass consists ...</td>\n",
       "      <td>True</td>\n",
       "    </tr>\n",
       "    <tr>\n",
       "      <th>152</th>\n",
       "      <td>Accident</td>\n",
       "      <td>\\n.MICRO.\\nNONE\\n.LOCATIONHead\\n.INJURYBlunt i...</td>\n",
       "      <td>True</td>\n",
       "    </tr>\n",
       "    <tr>\n",
       "      <th>161</th>\n",
       "      <td>Accident</td>\n",
       "      <td>\\n.MICRO.\\nNONE\\n.LOCATIONExtremity\\n.INJURYBl...</td>\n",
       "      <td>True</td>\n",
       "    </tr>\n",
       "    <tr>\n",
       "      <th>171</th>\n",
       "      <td>Accident</td>\n",
       "      <td>\\n.MICRO.\\nNONE\\n.LOCATIONExtremity\\n.INJURYBl...</td>\n",
       "      <td>True</td>\n",
       "    </tr>\n",
       "    <tr>\n",
       "      <th>174</th>\n",
       "      <td>Suicide</td>\n",
       "      <td>\\n.MICRO.\\nNONE\\n.LOCATIONHead\\n.INJURYFirearm...</td>\n",
       "      <td>True</td>\n",
       "    </tr>\n",
       "    <tr>\n",
       "      <th>177</th>\n",
       "      <td>Accident</td>\n",
       "      <td>\\n.MICRO.\\nBRAIN: No significant, histopatholo...</td>\n",
       "      <td>True</td>\n",
       "    </tr>\n",
       "    <tr>\n",
       "      <th>179</th>\n",
       "      <td>Accident</td>\n",
       "      <td>\\n.MICRO.\\nNONE\\n.LOCATIONHead and neck\\n.INJU...</td>\n",
       "      <td>True</td>\n",
       "    </tr>\n",
       "    <tr>\n",
       "      <th>...</th>\n",
       "      <td>...</td>\n",
       "      <td>...</td>\n",
       "      <td>...</td>\n",
       "    </tr>\n",
       "    <tr>\n",
       "      <th>10162</th>\n",
       "      <td>Suicide</td>\n",
       "      <td>\\n.MICRO.\\nNONE\\n.LOCATIONHead\\n.INJURYFirearm...</td>\n",
       "      <td>True</td>\n",
       "    </tr>\n",
       "    <tr>\n",
       "      <th>10164</th>\n",
       "      <td>Accident</td>\n",
       "      <td>\\n.MICRO.\\nNONE\\n.LOCATIONHead and neck\\n.INJU...</td>\n",
       "      <td>True</td>\n",
       "    </tr>\n",
       "    <tr>\n",
       "      <th>10169</th>\n",
       "      <td>Accident</td>\n",
       "      <td>\\n.MICRO.\\nNONE\\n.LOCATIONExtremity\\n.INJURYBl...</td>\n",
       "      <td>True</td>\n",
       "    </tr>\n",
       "    <tr>\n",
       "      <th>10171</th>\n",
       "      <td>Natural</td>\n",
       "      <td>\\n.MICRO.\\nNONE\\n.LOCATIONOther\\n.INJURYBlunt ...</td>\n",
       "      <td>True</td>\n",
       "    </tr>\n",
       "    <tr>\n",
       "      <th>10186</th>\n",
       "      <td>Homicide</td>\n",
       "      <td>\\n.MICRO.\\nNONE\\n.LOCATIONTrunk\\n.INJURYFirear...</td>\n",
       "      <td>True</td>\n",
       "    </tr>\n",
       "    <tr>\n",
       "      <th>10189</th>\n",
       "      <td>Natural</td>\n",
       "      <td>\\n.MICRO.\\nNONE\\n.LOCATIONHead\\n.INJURYBlunt i...</td>\n",
       "      <td>True</td>\n",
       "    </tr>\n",
       "    <tr>\n",
       "      <th>10200</th>\n",
       "      <td>Accident</td>\n",
       "      <td>\\n.MICRO.\\nHeart:\\nNo significant histopatholo...</td>\n",
       "      <td>True</td>\n",
       "    </tr>\n",
       "    <tr>\n",
       "      <th>10206</th>\n",
       "      <td>Natural</td>\n",
       "      <td>\\n.MICRO.\\nNONE\\n.LOCATIONExtremity\\n.INJURYBl...</td>\n",
       "      <td>True</td>\n",
       "    </tr>\n",
       "    <tr>\n",
       "      <th>10209</th>\n",
       "      <td>Accident</td>\n",
       "      <td>\\n.MICRO.\\nNONE\\n.LOCATIONHead\\n.INJURYBlunt i...</td>\n",
       "      <td>True</td>\n",
       "    </tr>\n",
       "    <tr>\n",
       "      <th>10210</th>\n",
       "      <td>Natural</td>\n",
       "      <td>\\n.MICRO.\\nNONE\\n.LOCATIONExtremity\\n.INJURYMu...</td>\n",
       "      <td>True</td>\n",
       "    </tr>\n",
       "    <tr>\n",
       "      <th>10223</th>\n",
       "      <td>Homicide</td>\n",
       "      <td>\\n.MICRO.\\nThree hematoxylin &amp; eosin stained s...</td>\n",
       "      <td>True</td>\n",
       "    </tr>\n",
       "    <tr>\n",
       "      <th>10230</th>\n",
       "      <td>Suicide</td>\n",
       "      <td>\\n.MICRO.\\nHeart, lungs, liver, kidney, brain:...</td>\n",
       "      <td>True</td>\n",
       "    </tr>\n",
       "    <tr>\n",
       "      <th>10243</th>\n",
       "      <td>Accident</td>\n",
       "      <td>\\n.MICRO.\\nNONE\\n.LOCATIONHead\\n.INJURYBlunt i...</td>\n",
       "      <td>True</td>\n",
       "    </tr>\n",
       "    <tr>\n",
       "      <th>10248</th>\n",
       "      <td>Natural</td>\n",
       "      <td>\\n.MICRO.\\nHeart:\\nIncrease in interstitial fi...</td>\n",
       "      <td>True</td>\n",
       "    </tr>\n",
       "    <tr>\n",
       "      <th>10252</th>\n",
       "      <td>Natural</td>\n",
       "      <td>\\n.MICRO.\\nNONE\\n.LOCATIONHead\\n.INJURYBlunt i...</td>\n",
       "      <td>True</td>\n",
       "    </tr>\n",
       "    <tr>\n",
       "      <th>10254</th>\n",
       "      <td>Accident</td>\n",
       "      <td>\\n.MICRO.\\nNONE\\n.LOCATIONChest\\n.INJURYBlunt ...</td>\n",
       "      <td>True</td>\n",
       "    </tr>\n",
       "    <tr>\n",
       "      <th>10255</th>\n",
       "      <td>Suicide</td>\n",
       "      <td>\\n.MICRO.\\nNONE\\n.LOCATIONNeck\\n.INJURYHanging...</td>\n",
       "      <td>True</td>\n",
       "    </tr>\n",
       "    <tr>\n",
       "      <th>10259</th>\n",
       "      <td>Suicide</td>\n",
       "      <td>\\n.MICRO.\\nNONE\\n.LOCATIONNeck\\n.INJURYHanging...</td>\n",
       "      <td>True</td>\n",
       "    </tr>\n",
       "    <tr>\n",
       "      <th>10263</th>\n",
       "      <td>Suicide</td>\n",
       "      <td>\\n.MICRO.\\nHeart: Negative\\n\\nLungs: Pulmonary...</td>\n",
       "      <td>True</td>\n",
       "    </tr>\n",
       "    <tr>\n",
       "      <th>10269</th>\n",
       "      <td>Suicide</td>\n",
       "      <td>\\n.MICRO.\\nNONE\\n.LOCATIONHead\\n.INJURYFirearm...</td>\n",
       "      <td>True</td>\n",
       "    </tr>\n",
       "    <tr>\n",
       "      <th>10275</th>\n",
       "      <td>Accident</td>\n",
       "      <td>\\n.MICRO.\\nNONE\\n.LOCATIONHead\\n.INJURYBlunt i...</td>\n",
       "      <td>True</td>\n",
       "    </tr>\n",
       "    <tr>\n",
       "      <th>10279</th>\n",
       "      <td>Homicide</td>\n",
       "      <td>\\n.MICRO.\\nBRAIN (left cerebellum) - No signif...</td>\n",
       "      <td>True</td>\n",
       "    </tr>\n",
       "    <tr>\n",
       "      <th>10280</th>\n",
       "      <td>Accident</td>\n",
       "      <td>\\n.MICRO.\\nNONE\\n.LOCATIONTrunk\\n.INJURYBlunt ...</td>\n",
       "      <td>True</td>\n",
       "    </tr>\n",
       "    <tr>\n",
       "      <th>10285</th>\n",
       "      <td>Accident</td>\n",
       "      <td>\\n.MICRO.\\nNONE\\n.LOCATIONExtremity\\n.INJURYBl...</td>\n",
       "      <td>True</td>\n",
       "    </tr>\n",
       "    <tr>\n",
       "      <th>10295</th>\n",
       "      <td>Natural</td>\n",
       "      <td>\\n.MICRO.\\nBRAIN: No significant, histopatholo...</td>\n",
       "      <td>True</td>\n",
       "    </tr>\n",
       "    <tr>\n",
       "      <th>10296</th>\n",
       "      <td>Homicide</td>\n",
       "      <td>\\n.MICRO.\\nHeart: Scattered extravasated red b...</td>\n",
       "      <td>True</td>\n",
       "    </tr>\n",
       "    <tr>\n",
       "      <th>10301</th>\n",
       "      <td>Accident</td>\n",
       "      <td>\\n.MICRO.\\nHeart: Rare hypertrophic myocytes. ...</td>\n",
       "      <td>True</td>\n",
       "    </tr>\n",
       "    <tr>\n",
       "      <th>10305</th>\n",
       "      <td>Accident</td>\n",
       "      <td>\\n.MICRO.\\nHEART:  Congestion and edema.  Some...</td>\n",
       "      <td>True</td>\n",
       "    </tr>\n",
       "    <tr>\n",
       "      <th>10308</th>\n",
       "      <td>Homicide</td>\n",
       "      <td>\\n.MICRO.\\nHeart: No significant histopatholog...</td>\n",
       "      <td>True</td>\n",
       "    </tr>\n",
       "    <tr>\n",
       "      <th>10310</th>\n",
       "      <td>Accident</td>\n",
       "      <td>\\n.MICRO.\\nBRAIN: No significant, histopatholo...</td>\n",
       "      <td>True</td>\n",
       "    </tr>\n",
       "  </tbody>\n",
       "</table>\n",
       "<p>2063 rows × 3 columns</p>\n",
       "</div>"
      ],
      "text/plain": [
       "          label                                               text  is_valid\n",
       "13     Accident  \\n.MICRO.\\nHeart: Patchy left and right ventri...      True\n",
       "20     Accident  \\n.MICRO.\\nNONE\\n.LOCATIONHead\\n.INJURYBlunt i...      True\n",
       "23     Accident  \\n.MICRO.\\nLung: Vegetable matter, fungal and ...      True\n",
       "29     Accident  \\n.MICRO.\\nBRAIN: A section of the brain is wi...      True\n",
       "32     Accident  \\n.MICRO.\\nADRENALS:\\nLeft: Intraparechymal no...      True\n",
       "45     Accident  \\n.MICRO.\\nHeart: left ventricular myocyte hyp...      True\n",
       "50     Accident  \\n.MICRO.\\nNONE\\n.LOCATIONHead\\n.INJURYBlunt i...      True\n",
       "54     Accident  \\n.MICRO.\\nNONE\\n.LOCATIONChest\\n.INJURYBlunt ...      True\n",
       "60     Accident  \\n.MICRO.\\nHeart: negative\\n\\nLiver: negative\\...      True\n",
       "76     Accident  \\n.MICRO.\\nBRAIN: No significant, histopatholo...      True\n",
       "80      Suicide  \\n.MICRO.\\nNONE\\n.LOCATIONHead\\n.INJURYFirearm...      True\n",
       "82     Accident  \\n.MICRO.\\nNONE\\n.LOCATIONExtremity\\n.INJURYBl...      True\n",
       "93     Accident  \\n.MICRO.\\nLIVER:  No diagnostic abnormality.\\...      True\n",
       "107     Suicide  \\n.MICRO.\\nNONE\\n.LOCATIONHead\\n.INJURYBlunt i...      True\n",
       "117     Suicide  \\n.MICRO.\\nNONE\\n.LOCATIONHead\\n.INJURYFirearm...      True\n",
       "118    Accident  \\n.MICRO.\\nHeart: Left ventricular myocyte hyp...      True\n",
       "128     Suicide  \\n.MICRO.\\nHeart: Negative\\n\\nLungs: Pulmonary...      True\n",
       "132    Accident  \\n.MICRO.\\nNONE\\n.LOCATIONChest\\n.INJURYBlunt ...      True\n",
       "133    Accident  \\n.MICRO.\\nNONE\\n.LOCATIONHead\\n.INJURYBlunt i...      True\n",
       "134     Natural  \\n.MICRO.\\nNONE\\n.LOCATIONHead\\n.INJURYBlunt i...      True\n",
       "138     Natural  \\n.MICRO.\\nHeart: negative\\n\\nLungs: bronchopn...      True\n",
       "140    Accident  \\n.MICRO.\\nHEART: no significant histopatholog...      True\n",
       "148     Natural  \\n.MICRO.\\nBRAIN: Proliferation of thin-walled...      True\n",
       "151    Accident  \\n.MICRO.\\nBRAIN: The brainstem mass consists ...      True\n",
       "152    Accident  \\n.MICRO.\\nNONE\\n.LOCATIONHead\\n.INJURYBlunt i...      True\n",
       "161    Accident  \\n.MICRO.\\nNONE\\n.LOCATIONExtremity\\n.INJURYBl...      True\n",
       "171    Accident  \\n.MICRO.\\nNONE\\n.LOCATIONExtremity\\n.INJURYBl...      True\n",
       "174     Suicide  \\n.MICRO.\\nNONE\\n.LOCATIONHead\\n.INJURYFirearm...      True\n",
       "177    Accident  \\n.MICRO.\\nBRAIN: No significant, histopatholo...      True\n",
       "179    Accident  \\n.MICRO.\\nNONE\\n.LOCATIONHead and neck\\n.INJU...      True\n",
       "...         ...                                                ...       ...\n",
       "10162   Suicide  \\n.MICRO.\\nNONE\\n.LOCATIONHead\\n.INJURYFirearm...      True\n",
       "10164  Accident  \\n.MICRO.\\nNONE\\n.LOCATIONHead and neck\\n.INJU...      True\n",
       "10169  Accident  \\n.MICRO.\\nNONE\\n.LOCATIONExtremity\\n.INJURYBl...      True\n",
       "10171   Natural  \\n.MICRO.\\nNONE\\n.LOCATIONOther\\n.INJURYBlunt ...      True\n",
       "10186  Homicide  \\n.MICRO.\\nNONE\\n.LOCATIONTrunk\\n.INJURYFirear...      True\n",
       "10189   Natural  \\n.MICRO.\\nNONE\\n.LOCATIONHead\\n.INJURYBlunt i...      True\n",
       "10200  Accident  \\n.MICRO.\\nHeart:\\nNo significant histopatholo...      True\n",
       "10206   Natural  \\n.MICRO.\\nNONE\\n.LOCATIONExtremity\\n.INJURYBl...      True\n",
       "10209  Accident  \\n.MICRO.\\nNONE\\n.LOCATIONHead\\n.INJURYBlunt i...      True\n",
       "10210   Natural  \\n.MICRO.\\nNONE\\n.LOCATIONExtremity\\n.INJURYMu...      True\n",
       "10223  Homicide  \\n.MICRO.\\nThree hematoxylin & eosin stained s...      True\n",
       "10230   Suicide  \\n.MICRO.\\nHeart, lungs, liver, kidney, brain:...      True\n",
       "10243  Accident  \\n.MICRO.\\nNONE\\n.LOCATIONHead\\n.INJURYBlunt i...      True\n",
       "10248   Natural  \\n.MICRO.\\nHeart:\\nIncrease in interstitial fi...      True\n",
       "10252   Natural  \\n.MICRO.\\nNONE\\n.LOCATIONHead\\n.INJURYBlunt i...      True\n",
       "10254  Accident  \\n.MICRO.\\nNONE\\n.LOCATIONChest\\n.INJURYBlunt ...      True\n",
       "10255   Suicide  \\n.MICRO.\\nNONE\\n.LOCATIONNeck\\n.INJURYHanging...      True\n",
       "10259   Suicide  \\n.MICRO.\\nNONE\\n.LOCATIONNeck\\n.INJURYHanging...      True\n",
       "10263   Suicide  \\n.MICRO.\\nHeart: Negative\\n\\nLungs: Pulmonary...      True\n",
       "10269   Suicide  \\n.MICRO.\\nNONE\\n.LOCATIONHead\\n.INJURYFirearm...      True\n",
       "10275  Accident  \\n.MICRO.\\nNONE\\n.LOCATIONHead\\n.INJURYBlunt i...      True\n",
       "10279  Homicide  \\n.MICRO.\\nBRAIN (left cerebellum) - No signif...      True\n",
       "10280  Accident  \\n.MICRO.\\nNONE\\n.LOCATIONTrunk\\n.INJURYBlunt ...      True\n",
       "10285  Accident  \\n.MICRO.\\nNONE\\n.LOCATIONExtremity\\n.INJURYBl...      True\n",
       "10295   Natural  \\n.MICRO.\\nBRAIN: No significant, histopatholo...      True\n",
       "10296  Homicide  \\n.MICRO.\\nHeart: Scattered extravasated red b...      True\n",
       "10301  Accident  \\n.MICRO.\\nHeart: Rare hypertrophic myocytes. ...      True\n",
       "10305  Accident  \\n.MICRO.\\nHEART:  Congestion and edema.  Some...      True\n",
       "10308  Homicide  \\n.MICRO.\\nHeart: No significant histopatholog...      True\n",
       "10310  Accident  \\n.MICRO.\\nBRAIN: No significant, histopatholo...      True\n",
       "\n",
       "[2063 rows x 3 columns]"
      ]
     },
     "execution_count": 45,
     "metadata": {},
     "output_type": "execute_result"
    }
   ],
   "source": [
    "valid"
   ]
  },
  {
   "cell_type": "code",
   "execution_count": null,
   "metadata": {},
   "outputs": [],
   "source": []
  },
  {
   "cell_type": "code",
   "execution_count": null,
   "metadata": {},
   "outputs": [],
   "source": []
  },
  {
   "cell_type": "code",
   "execution_count": null,
   "metadata": {},
   "outputs": [],
   "source": []
  },
  {
   "cell_type": "code",
   "execution_count": null,
   "metadata": {},
   "outputs": [],
   "source": []
  },
  {
   "cell_type": "code",
   "execution_count": 46,
   "metadata": {},
   "outputs": [
    {
     "data": {
      "text/plain": [
       "\"for i in range(0,3040):\\n    example = df['text'][i]\\n    label = df['label'][i]\\n    val = df['is_valid'][i]\\n    prediction_class = learn.predict(example)[0]\\n    if str(label) != str(prediction_class):\\n        print(i, label, prediction_class, val)\\n\""
      ]
     },
     "execution_count": 46,
     "metadata": {},
     "output_type": "execute_result"
    }
   ],
   "source": [
    "'''for i in range(0,3040):\n",
    "    example = df['text'][i]\n",
    "    label = df['label'][i]\n",
    "    val = df['is_valid'][i]\n",
    "    prediction_class = learn.predict(example)[0]\n",
    "    if str(label) != str(prediction_class):\n",
    "        print(i, label, prediction_class, val)\n",
    "'''"
   ]
  },
  {
   "cell_type": "code",
   "execution_count": null,
   "metadata": {},
   "outputs": [],
   "source": []
  },
  {
   "cell_type": "code",
   "execution_count": null,
   "metadata": {},
   "outputs": [],
   "source": []
  },
  {
   "cell_type": "code",
   "execution_count": null,
   "metadata": {},
   "outputs": [],
   "source": []
  },
  {
   "cell_type": "code",
   "execution_count": null,
   "metadata": {},
   "outputs": [],
   "source": []
  },
  {
   "cell_type": "code",
   "execution_count": null,
   "metadata": {},
   "outputs": [],
   "source": []
  }
 ],
 "metadata": {
  "kernelspec": {
   "display_name": "Python 3",
   "language": "python",
   "name": "python3"
  },
  "language_info": {
   "codemirror_mode": {
    "name": "ipython",
    "version": 3
   },
   "file_extension": ".py",
   "mimetype": "text/x-python",
   "name": "python",
   "nbconvert_exporter": "python",
   "pygments_lexer": "ipython3",
   "version": "3.6.5"
  }
 },
 "nbformat": 4,
 "nbformat_minor": 2
}
